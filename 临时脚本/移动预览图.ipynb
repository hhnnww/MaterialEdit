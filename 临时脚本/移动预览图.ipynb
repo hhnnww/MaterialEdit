{
 "cells": [
  {
   "cell_type": "code",
   "execution_count": 2,
   "metadata": {
    "collapsed": true,
    "ExecuteTime": {
     "end_time": "2023-06-06T11:34:16.287277800Z",
     "start_time": "2023-06-06T11:34:16.271581600Z"
    }
   },
   "outputs": [
    {
     "name": "stdout",
     "output_type": "stream",
     "text": [
      "['小夕素材(100)',\n",
      " '小夕素材(102)',\n",
      " '小夕素材(104)',\n",
      " '小夕素材(109)',\n",
      " '小夕素材(11)',\n",
      " '小夕素材(110)',\n",
      " '小夕素材(111)',\n",
      " '小夕素材(16)',\n",
      " '小夕素材(21)',\n",
      " '小夕素材(23)',\n",
      " '小夕素材(24)',\n",
      " '小夕素材(25)',\n",
      " '小夕素材(26)',\n",
      " '小夕素材(27)',\n",
      " '小夕素材(3)',\n",
      " '小夕素材(32)',\n",
      " '小夕素材(34)',\n",
      " '小夕素材(4)',\n",
      " '小夕素材(42)',\n",
      " '小夕素材(44)',\n",
      " '小夕素材(47)',\n",
      " '小夕素材(51)',\n",
      " '小夕素材(58)',\n",
      " '小夕素材(59)',\n",
      " '小夕素材(61)',\n",
      " '小夕素材(62)',\n",
      " '小夕素材(64)',\n",
      " '小夕素材(66)',\n",
      " '小夕素材(7)',\n",
      " '小夕素材(76)',\n",
      " '小夕素材(84)',\n",
      " '小夕素材(85)',\n",
      " '小夕素材(89)',\n",
      " '小夕素材(91)']\n"
     ]
    }
   ],
   "source": [
    "from pathlib import Path\n",
    "from pprint import pprint\n",
    "\n",
    "ori_list = []\n",
    "\n",
    "for in_file in Path(r'F:\\小夕素材\\10000-10999\\10064\\10064').iterdir():\n",
    "    if in_file.is_file() and in_file.stem not in ori_list:\n",
    "        ori_list.append(in_file.stem)\n",
    "\n",
    "pprint(ori_list)"
   ]
  },
  {
   "cell_type": "code",
   "execution_count": 3,
   "outputs": [],
   "source": [
    "for png_path in Path(r'F:\\小夕素材\\10000-10999\\10063\\预览图').iterdir():\n",
    "    if png_path.is_file() and png_path.stem in ori_list:\n",
    "        new_path = Path(r'F:\\小夕素材\\10000-10999\\10064\\预览图') / png_path.name\n",
    "        png_path.rename(new_path)"
   ],
   "metadata": {
    "collapsed": false,
    "ExecuteTime": {
     "end_time": "2023-06-06T11:35:27.190531Z",
     "start_time": "2023-06-06T11:35:27.153701Z"
    }
   }
  }
 ],
 "metadata": {
  "kernelspec": {
   "display_name": "Python 3",
   "language": "python",
   "name": "python3"
  },
  "language_info": {
   "codemirror_mode": {
    "name": "ipython",
    "version": 2
   },
   "file_extension": ".py",
   "mimetype": "text/x-python",
   "name": "python",
   "nbconvert_exporter": "python",
   "pygments_lexer": "ipython2",
   "version": "2.7.6"
  }
 },
 "nbformat": 4,
 "nbformat_minor": 0
}
