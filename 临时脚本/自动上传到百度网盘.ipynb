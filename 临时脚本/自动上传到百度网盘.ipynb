{
 "cells": [
  {
   "cell_type": "code",
   "execution_count": 14,
   "metadata": {
    "collapsed": true
   },
   "outputs": [],
   "source": [
    "import pyautogui\n",
    "from pathlib import Path\n",
    "import re\n",
    "import pyperclip\n",
    "\n",
    "pyautogui.PAUSE = 1\n",
    "\n",
    "start_path = r'G:\\饭桶设计\\2000-2999\\2232'\n",
    "start_path = Path(start_path)\n",
    "\n",
    "\n",
    "def get_stem(stem: str) -> int:\n",
    "    stem_num = re.findall('\\d+', stem)[0]\n",
    "    stem_num = int(stem_num)\n",
    "    return stem_num\n",
    "\n",
    "\n",
    "def get_all_path(in_path: Path):\n",
    "    for dst_path in in_path.parent.iterdir():\n",
    "        if dst_path.is_dir() and get_stem(dst_path.stem) >= get_stem(start_path.stem):\n",
    "            yield dst_path\n",
    "\n",
    "\n",
    "def up_path_to_bd(in_path: Path):\n",
    "    pyperclip.copy(in_path.as_posix())\n",
    "\n",
    "    # 点任务栏\n",
    "    # pyautogui.click(2023, 2130)\n",
    "\n",
    "    # 地址栏\n",
    "    pyautogui.click(808, 162)\n",
    "    pyautogui.hotkey('ctrl', 'v')\n",
    "    pyautogui.hotkey('enter')\n",
    "\n",
    "    # 点文件夹\n",
    "    pyautogui.click(587, 278)\n",
    "\n",
    "    # shift + f10\n",
    "    pyautogui.hotkey('shift', 'f10')\n",
    "\n",
    "    # 点击百度网盘上传\n",
    "    pyautogui.click(582, 985)\n",
    "\n",
    "\n",
    "pyautogui.sleep(3)\n",
    "for dp in get_all_path(in_path=start_path):\n",
    "    up_path_to_bd(dp)\n"
   ]
  }
 ],
 "metadata": {
  "kernelspec": {
   "display_name": "Python 3",
   "language": "python",
   "name": "python3"
  },
  "language_info": {
   "codemirror_mode": {
    "name": "ipython",
    "version": 2
   },
   "file_extension": ".py",
   "mimetype": "text/x-python",
   "name": "python",
   "nbconvert_exporter": "python",
   "pygments_lexer": "ipython2",
   "version": "2.7.6"
  }
 },
 "nbformat": 4,
 "nbformat_minor": 0
}
