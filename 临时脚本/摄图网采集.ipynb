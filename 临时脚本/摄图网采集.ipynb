{
 "cells": [
  {
   "cell_type": "code",
   "execution_count": 2,
   "metadata": {
    "collapsed": true,
    "ExecuteTime": {
     "end_time": "2023-06-16T06:18:11.991526700Z",
     "start_time": "2023-06-16T06:18:11.979284500Z"
    }
   },
   "outputs": [],
   "source": [
    "from requests_html import HTMLSession, HTML\n",
    "\n",
    "session = HTMLSession()"
   ]
  },
  {
   "cell_type": "code",
   "execution_count": 3,
   "outputs": [],
   "source": [
    "with session.get(r'https://699pic.com/muban-333520-0-new-all-0-psd-all-2-0-0-0-0-0-0-all-all-0-0-0.html') as res:\n",
    "    html:HTML = res.html\n"
   ],
   "metadata": {
    "collapsed": false,
    "ExecuteTime": {
     "end_time": "2023-06-16T06:19:06.815368100Z",
     "start_time": "2023-06-16T06:19:04.436880900Z"
    }
   }
  },
  {
   "cell_type": "code",
   "execution_count": 19,
   "outputs": [
    {
     "name": "stdout",
     "output_type": "stream",
     "text": [
      "//img95.699pic.com/desgin_photo/40217/7824_detail.jpg!/fw/320/clip/0x432a0a0/unsharp/true\n",
      "//img95.699pic.com/desgin_photo/40217/7823_detail.jpg!/fw/320/clip/0x432a0a0/unsharp/true\n",
      "//img95.699pic.com/desgin_photo/40217/7822_detail.jpg!/fw/320/clip/0x432a0a0/unsharp/true\n",
      "//img95.699pic.com/desgin_photo/40217/7456_detail.jpg!/fw/320/clip/0x432a0a0/unsharp/true\n",
      "//img95.699pic.com/desgin_photo/40217/7455_detail.jpg!/fw/320/clip/0x432a0a0/unsharp/true\n",
      "//img95.699pic.com/desgin_photo/40217/7454_detail.jpg!/fw/320/clip/0x432a0a0/unsharp/true\n",
      "//img95.699pic.com/desgin_photo/40217/7453_detail.jpg!/fw/320/clip/0x432a0a0/unsharp/true\n",
      "//img95.699pic.com/desgin_photo/40217/7342_detail.jpg!/fw/320/clip/0x432a0a0/unsharp/true\n",
      "//img95.699pic.com/desgin_photo/40217/7340_detail.jpg!/fw/320/clip/0x432a0a0/unsharp/true\n",
      "//img95.699pic.com/desgin_photo/40217/7339_detail.jpg!/fw/320/clip/0x432a0a0/unsharp/true\n",
      "//img95.699pic.com/desgin_photo/40217/7338_detail.jpg!/fw/320/clip/0x432a0a0/unsharp/true\n",
      "//img95.699pic.com/desgin_photo/40217/7337_detail.jpg!/fw/320/clip/0x432a0a0/unsharp/true\n",
      "//img95.699pic.com/desgin_photo/40217/6607_detail.jpg!/fw/320/clip/0x432a0a0/unsharp/true\n",
      "//img95.699pic.com/desgin_photo/40217/6584_detail.jpg!/fw/320/clip/0x432a0a0/unsharp/true\n",
      "//img95.699pic.com/desgin_photo/40217/7609_detail.jpg!/fw/320/clip/0x432a0a0/unsharp/true\n",
      "//img95.699pic.com/desgin_photo/40217/8031_detail.jpg!/fw/320/clip/0x432a0a0/unsharp/true\n",
      "//img95.699pic.com/desgin_photo/40217/8104_detail.jpg!/fw/320/clip/0x432a0a0/unsharp/true\n",
      "//img95.699pic.com/desgin_photo/40217/8096_detail.jpg!/fw/320/clip/0x432a0a0/unsharp/true\n",
      "//img95.699pic.com/desgin_photo/40217/8048_detail.jpg!/fw/320/clip/0x432a0a0/unsharp/true\n",
      "//img95.699pic.com/desgin_photo/40217/8047_detail.jpg!/fw/320/clip/0x432a0a0/unsharp/true\n",
      "//img95.699pic.com/desgin_photo/40217/8032_detail.jpg!/fw/320/clip/0x432a0a0/unsharp/true\n",
      "//img95.699pic.com/desgin_photo/40217/7958_detail.jpg!/fw/320/clip/0x432a0a0/unsharp/true\n",
      "//img95.699pic.com/desgin_photo/40217/6360_detail.jpg!/fw/320/clip/0x432a0a0/unsharp/true\n",
      "//img95.699pic.com/desgin_photo/40217/6353_detail.jpg!/fw/320/clip/0x432a0a0/unsharp/true\n",
      "//img95.699pic.com/desgin_photo/40217/6433_detail.jpg!/fw/320/clip/0x432a0a0/unsharp/true\n",
      "//img95.699pic.com/desgin_photo/40217/6430_detail.jpg!/fw/320/clip/0x432a0a0/unsharp/true\n",
      "//img95.699pic.com/desgin_photo/40217/6410_detail.jpg!/fw/320/clip/0x432a0a0/unsharp/true\n",
      "//img95.699pic.com/desgin_photo/40217/6284_detail.jpg!/fw/320/clip/0x432a0a0/unsharp/true\n",
      "//img95.699pic.com/desgin_photo/40217/6280_detail.jpg!/fw/320/clip/0x432a0a0/unsharp/true\n",
      "//img95.699pic.com/desgin_photo/40217/6266_detail.jpg!/fw/320/clip/0x432a0a0/unsharp/true\n",
      "//img95.699pic.com/desgin_photo/40217/6256_detail.jpg!/fw/320/clip/0x432a0a0/unsharp/true\n",
      "//img95.699pic.com/desgin_photo/40217/6202_detail.jpg!/fw/320/clip/0x432a0a0/unsharp/true\n",
      "//img95.699pic.com/desgin_photo/40217/6701_detail.jpg!/fw/320/clip/0x432a0a0/unsharp/true\n",
      "//img95.699pic.com/desgin_photo/40217/6665_detail.jpg!/fw/320/clip/0x432a0a0/unsharp/true\n",
      "//img95.699pic.com/desgin_photo/40217/6939_detail.jpg!/fw/320/clip/0x432a0a0/unsharp/true\n",
      "//img95.699pic.com/desgin_photo/40217/6937_detail.jpg!/fw/320/clip/0x432a0a0/unsharp/true\n",
      "//img95.699pic.com/desgin_photo/40217/6935_detail.jpg!/fw/320/clip/0x432a0a0/unsharp/true\n",
      "//img95.699pic.com/desgin_photo/40217/6932_detail.jpg!/fw/320/clip/0x432a0a0/unsharp/true\n",
      "//img95.699pic.com/desgin_photo/40217/6931_detail.jpg!/fw/320/clip/0x432a0a0/unsharp/true\n",
      "//img95.699pic.com/desgin_photo/40217/6283_detail.jpg!/fw/320/clip/0x432a0a0/unsharp/true\n"
     ]
    }
   ],
   "source": [
    "obj_list = html.find(r'#wrapper > div.imgshow.clearfix > div > div.list')\n",
    "for obj in obj_list:\n",
    "    img_element = obj.find('img',first=True)\n",
    "    img_url = img_element.attrs.get('data-original')\n",
    "    if img_url is None:\n",
    "        img_url = img_element.attrs.get('src')\n",
    "\n",
    "    print(img_url)"
   ],
   "metadata": {
    "collapsed": false,
    "ExecuteTime": {
     "end_time": "2023-06-16T06:31:25.524674700Z",
     "start_time": "2023-06-16T06:31:25.444978200Z"
    }
   }
  },
  {
   "cell_type": "code",
   "execution_count": 9,
   "outputs": [
    {
     "name": "stdout",
     "output_type": "stream",
     "text": [
      "https://699pic.com/muban-333520-0-new-all-0-psd-all-4-0-0-0-0-0-0-all-all-0-0-0.html\n"
     ]
    }
   ],
   "source": [
    "url = \"https://699pic.com/muban-333520-0-new-all-0-psd-all-3-0-0-0-0-0-0-all-all-0-0-0.html\"\n",
    "\n",
    "url_sp = list(url.split('-'))\n",
    "url_sp[8] = '4'\n",
    "\n",
    "new_url = '-'.join(url_sp)\n",
    "print(new_url)"
   ],
   "metadata": {
    "collapsed": false,
    "ExecuteTime": {
     "end_time": "2023-06-16T06:25:22.588719Z",
     "start_time": "2023-06-16T06:25:22.573075400Z"
    }
   }
  }
 ],
 "metadata": {
  "kernelspec": {
   "display_name": "Python 3",
   "language": "python",
   "name": "python3"
  },
  "language_info": {
   "codemirror_mode": {
    "name": "ipython",
    "version": 2
   },
   "file_extension": ".py",
   "mimetype": "text/x-python",
   "name": "python",
   "nbconvert_exporter": "python",
   "pygments_lexer": "ipython2",
   "version": "2.7.6"
  }
 },
 "nbformat": 4,
 "nbformat_minor": 0
}
