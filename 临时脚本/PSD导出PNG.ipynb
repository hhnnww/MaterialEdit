{
 "cells": [
  {
   "cell_type": "code",
   "execution_count": 1,
   "outputs": [
    {
     "name": "stderr",
     "output_type": "stream",
     "text": [
      "处理PSD: 100%|██████████████████████████████████████████████████████| 78/78 [09:44<00:00,  7.49s/it]\n"
     ]
    }
   ],
   "source": [
    "from pathlib import Path\n",
    "\n",
    "from tqdm import tqdm\n",
    "from win32com.client import Dispatch\n",
    "\n",
    "app = Dispatch('Photoshop.Application')\n",
    "\n",
    "\n",
    "def fun_处理单个PSD(psd_file: str):\n",
    "    \"\"\"\n",
    "    修改图层名字\n",
    "    并导出PNG\n",
    "    :param psd_file:\n",
    "    :return:\n",
    "    \"\"\"\n",
    "    app.Open(psd_file)\n",
    "    doc = app.ActiveDocument\n",
    "\n",
    "    # 修改编组\n",
    "    first_layer_set = doc.LayerSets.Item(1)\n",
    "    first_layer_set.Name = f'编组 (1)'\n",
    "\n",
    "    # 修改图层名字\n",
    "    num = 1\n",
    "    for in_art_layer in first_layer_set.ArtLayers:\n",
    "        in_art_layer.Name = f'图层 {num}'\n",
    "        num += 1\n",
    "\n",
    "    # 隐藏图层 2\n",
    "    for art_layer in first_layer_set.ArtLayers:\n",
    "        if '2' in art_layer.Name:\n",
    "            art_layer.Visible = False\n",
    "\n",
    "    # 导出PNG\n",
    "    png_path = Path(psd_file).with_suffix('.png').as_posix()\n",
    "    export_option = Dispatch('Photoshop.ExportOptionsSaveForWeb')\n",
    "    export_option.Format = 13\n",
    "    export_option.PNG8 = False\n",
    "    export_option.Dither = 2\n",
    "    doc.Export(png_path, 2, export_option)\n",
    "\n",
    "    doc.Save()\n",
    "    doc.Close(2)\n",
    "\n",
    "\n",
    "material_path = input('输入文件夹地址')\n",
    "for in_file in tqdm(list(Path(material_path).iterdir()), ncols=100, desc='处理PSD'):\n",
    "    if in_file.is_file() and in_file.suffix.lower() in ['.psd', '.psb']:\n",
    "        fun_处理单个PSD(in_file.as_posix())\n"
   ],
   "metadata": {
    "collapsed": false
   }
  }
 ],
 "metadata": {
  "kernelspec": {
   "display_name": "Python 3",
   "language": "python",
   "name": "python3"
  },
  "language_info": {
   "codemirror_mode": {
    "name": "ipython",
    "version": 2
   },
   "file_extension": ".py",
   "mimetype": "text/x-python",
   "name": "python",
   "nbconvert_exporter": "python",
   "pygments_lexer": "ipython2",
   "version": "2.7.6"
  }
 },
 "nbformat": 4,
 "nbformat_minor": 0
}
