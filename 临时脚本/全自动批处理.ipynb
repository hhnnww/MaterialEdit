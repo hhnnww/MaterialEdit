{
 "cells": [
  {
   "cell_type": "code",
   "execution_count": 1,
   "metadata": {
    "collapsed": true
   },
   "outputs": [
    {
     "name": "stdout",
     "output_type": "stream",
     "text": [
      "移动到根目录:b'G:/\\xe9\\xa5\\xad\\xe6\\xa1\\xb6\\xe8\\xae\\xbe\\xe8\\xae\\xa1/2000-2999/2215/2215/flat-design-party-template (1).zip'\n",
      "移动到根目录:b'G:/\\xe9\\xa5\\xad\\xe6\\xa1\\xb6\\xe8\\xae\\xbe\\xe8\\xae\\xa1/2000-2999/2215/2215/flat-design-party-template (10).zip'\n",
      "移动到根目录:b'G:/\\xe9\\xa5\\xad\\xe6\\xa1\\xb6\\xe8\\xae\\xbe\\xe8\\xae\\xa1/2000-2999/2215/2215/flat-design-party-template (11).zip'\n",
      "移动到根目录:b'G:/\\xe9\\xa5\\xad\\xe6\\xa1\\xb6\\xe8\\xae\\xbe\\xe8\\xae\\xa1/2000-2999/2215/2215/flat-design-party-template (12).zip'\n",
      "移动到根目录:b'G:/\\xe9\\xa5\\xad\\xe6\\xa1\\xb6\\xe8\\xae\\xbe\\xe8\\xae\\xa1/2000-2999/2215/2215/flat-design-party-template (13).zip'\n",
      "移动到根目录:b'G:/\\xe9\\xa5\\xad\\xe6\\xa1\\xb6\\xe8\\xae\\xbe\\xe8\\xae\\xa1/2000-2999/2215/2215/flat-design-party-template (14).zip'\n",
      "移动到根目录:b'G:/\\xe9\\xa5\\xad\\xe6\\xa1\\xb6\\xe8\\xae\\xbe\\xe8\\xae\\xa1/2000-2999/2215/2215/flat-design-party-template (15).zip'\n",
      "移动到根目录:b'G:/\\xe9\\xa5\\xad\\xe6\\xa1\\xb6\\xe8\\xae\\xbe\\xe8\\xae\\xa1/2000-2999/2215/2215/flat-design-party-template (16).zip'\n",
      "移动到根目录:b'G:/\\xe9\\xa5\\xad\\xe6\\xa1\\xb6\\xe8\\xae\\xbe\\xe8\\xae\\xa1/2000-2999/2215/2215/flat-design-party-template (17).zip'\n",
      "移动到根目录:b'G:/\\xe9\\xa5\\xad\\xe6\\xa1\\xb6\\xe8\\xae\\xbe\\xe8\\xae\\xa1/2000-2999/2215/2215/flat-design-party-template (2).zip'\n",
      "移动到根目录:b'G:/\\xe9\\xa5\\xad\\xe6\\xa1\\xb6\\xe8\\xae\\xbe\\xe8\\xae\\xa1/2000-2999/2215/2215/flat-design-party-template (3).zip'\n",
      "移动到根目录:b'G:/\\xe9\\xa5\\xad\\xe6\\xa1\\xb6\\xe8\\xae\\xbe\\xe8\\xae\\xa1/2000-2999/2215/2215/flat-design-party-template (4).zip'\n",
      "移动到根目录:b'G:/\\xe9\\xa5\\xad\\xe6\\xa1\\xb6\\xe8\\xae\\xbe\\xe8\\xae\\xa1/2000-2999/2215/2215/flat-design-party-template (5).zip'\n",
      "移动到根目录:b'G:/\\xe9\\xa5\\xad\\xe6\\xa1\\xb6\\xe8\\xae\\xbe\\xe8\\xae\\xa1/2000-2999/2215/2215/flat-design-party-template (6).zip'\n",
      "移动到根目录:b'G:/\\xe9\\xa5\\xad\\xe6\\xa1\\xb6\\xe8\\xae\\xbe\\xe8\\xae\\xa1/2000-2999/2215/2215/flat-design-party-template (7).zip'\n",
      "移动到根目录:b'G:/\\xe9\\xa5\\xad\\xe6\\xa1\\xb6\\xe8\\xae\\xbe\\xe8\\xae\\xa1/2000-2999/2215/2215/flat-design-party-template (8).zip'\n",
      "移动到根目录:b'G:/\\xe9\\xa5\\xad\\xe6\\xa1\\xb6\\xe8\\xae\\xbe\\xe8\\xae\\xa1/2000-2999/2215/2215/flat-design-party-template (9).zip'\n",
      "移动到根目录:b'G:/\\xe9\\xa5\\xad\\xe6\\xa1\\xb6\\xe8\\xae\\xbe\\xe8\\xae\\xa1/2000-2999/2215/2215/flat-design-party-template.zip'\n",
      "删除多余文件夹：G:\\饭桶设计\\2000-2999\\2215\\2215\\1\n"
     ]
    },
    {
     "name": "stderr",
     "output_type": "stream",
     "text": [
      "解压ZIP: 100%|██████████████████████████████████████████████████████| 18/18 [00:55<00:00,  3.07s/it]\n",
      "解压RAR: 0it [00:00, ?it/s]\n"
     ]
    },
    {
     "name": "stdout",
     "output_type": "stream",
     "text": [
      "移动到根目录:b'G:/\\xe9\\xa5\\xad\\xe6\\xa1\\xb6\\xe8\\xae\\xbe\\xe8\\xae\\xa1/2000-2999/2215/2215/7746132.jpg'\n",
      "移动到根目录:b'G:/\\xe9\\xa5\\xad\\xe6\\xa1\\xb6\\xe8\\xae\\xbe\\xe8\\xae\\xa1/2000-2999/2215/2215/7746138.psd'\n",
      "移动到根目录:b'G:/\\xe9\\xa5\\xad\\xe6\\xa1\\xb6\\xe8\\xae\\xbe\\xe8\\xae\\xa1/2000-2999/2215/2215/7746068.jpg'\n",
      "移动到根目录:b'G:/\\xe9\\xa5\\xad\\xe6\\xa1\\xb6\\xe8\\xae\\xbe\\xe8\\xae\\xa1/2000-2999/2215/2215/7746071.psd'\n",
      "移动到根目录:b'G:/\\xe9\\xa5\\xad\\xe6\\xa1\\xb6\\xe8\\xae\\xbe\\xe8\\xae\\xa1/2000-2999/2215/2215/7746146.jpg'\n",
      "移动到根目录:b'G:/\\xe9\\xa5\\xad\\xe6\\xa1\\xb6\\xe8\\xae\\xbe\\xe8\\xae\\xa1/2000-2999/2215/2215/7746147.psd'\n",
      "移动到根目录:b'G:/\\xe9\\xa5\\xad\\xe6\\xa1\\xb6\\xe8\\xae\\xbe\\xe8\\xae\\xa1/2000-2999/2215/2215/7749760.jpg'\n",
      "移动到根目录:b'G:/\\xe9\\xa5\\xad\\xe6\\xa1\\xb6\\xe8\\xae\\xbe\\xe8\\xae\\xa1/2000-2999/2215/2215/7749768.psd'\n",
      "移动到根目录:b'G:/\\xe9\\xa5\\xad\\xe6\\xa1\\xb6\\xe8\\xae\\xbe\\xe8\\xae\\xa1/2000-2999/2215/2215/7746139.jpg'\n",
      "移动到根目录:b'G:/\\xe9\\xa5\\xad\\xe6\\xa1\\xb6\\xe8\\xae\\xbe\\xe8\\xae\\xa1/2000-2999/2215/2215/7746143.psd'\n",
      "移动到根目录:b'G:/\\xe9\\xa5\\xad\\xe6\\xa1\\xb6\\xe8\\xae\\xbe\\xe8\\xae\\xa1/2000-2999/2215/2215/7746113.jpg'\n",
      "移动到根目录:b'G:/\\xe9\\xa5\\xad\\xe6\\xa1\\xb6\\xe8\\xae\\xbe\\xe8\\xae\\xa1/2000-2999/2215/2215/7746115.psd'\n",
      "移动到根目录:b'G:/\\xe9\\xa5\\xad\\xe6\\xa1\\xb6\\xe8\\xae\\xbe\\xe8\\xae\\xa1/2000-2999/2215/2215/7746122.jpg'\n",
      "移动到根目录:b'G:/\\xe9\\xa5\\xad\\xe6\\xa1\\xb6\\xe8\\xae\\xbe\\xe8\\xae\\xa1/2000-2999/2215/2215/7746125.psd'\n",
      "移动到根目录:b'G:/\\xe9\\xa5\\xad\\xe6\\xa1\\xb6\\xe8\\xae\\xbe\\xe8\\xae\\xa1/2000-2999/2215/2215/7741579.jpg'\n",
      "移动到根目录:b'G:/\\xe9\\xa5\\xad\\xe6\\xa1\\xb6\\xe8\\xae\\xbe\\xe8\\xae\\xa1/2000-2999/2215/2215/7741580.psd'\n",
      "移动到根目录:b'G:/\\xe9\\xa5\\xad\\xe6\\xa1\\xb6\\xe8\\xae\\xbe\\xe8\\xae\\xa1/2000-2999/2215/2215/7746118.jpg'\n",
      "移动到根目录:b'G:/\\xe9\\xa5\\xad\\xe6\\xa1\\xb6\\xe8\\xae\\xbe\\xe8\\xae\\xa1/2000-2999/2215/2215/7746121.psd'\n",
      "移动到根目录:b'G:/\\xe9\\xa5\\xad\\xe6\\xa1\\xb6\\xe8\\xae\\xbe\\xe8\\xae\\xa1/2000-2999/2215/2215/7746102.jpg'\n",
      "移动到根目录:b'G:/\\xe9\\xa5\\xad\\xe6\\xa1\\xb6\\xe8\\xae\\xbe\\xe8\\xae\\xa1/2000-2999/2215/2215/7746112.psd'\n",
      "移动到根目录:b'G:/\\xe9\\xa5\\xad\\xe6\\xa1\\xb6\\xe8\\xae\\xbe\\xe8\\xae\\xa1/2000-2999/2215/2215/7746056.jpg'\n",
      "移动到根目录:b'G:/\\xe9\\xa5\\xad\\xe6\\xa1\\xb6\\xe8\\xae\\xbe\\xe8\\xae\\xa1/2000-2999/2215/2215/7746065.psd'\n",
      "移动到根目录:b'G:/\\xe9\\xa5\\xad\\xe6\\xa1\\xb6\\xe8\\xae\\xbe\\xe8\\xae\\xa1/2000-2999/2215/2215/7746080.jpg'\n",
      "移动到根目录:b'G:/\\xe9\\xa5\\xad\\xe6\\xa1\\xb6\\xe8\\xae\\xbe\\xe8\\xae\\xa1/2000-2999/2215/2215/7746086.psd'\n",
      "移动到根目录:b'G:/\\xe9\\xa5\\xad\\xe6\\xa1\\xb6\\xe8\\xae\\xbe\\xe8\\xae\\xa1/2000-2999/2215/2215/7746074.jpg'\n",
      "移动到根目录:b'G:/\\xe9\\xa5\\xad\\xe6\\xa1\\xb6\\xe8\\xae\\xbe\\xe8\\xae\\xa1/2000-2999/2215/2215/7746079.psd'\n",
      "移动到根目录:b'G:/\\xe9\\xa5\\xad\\xe6\\xa1\\xb6\\xe8\\xae\\xbe\\xe8\\xae\\xa1/2000-2999/2215/2215/7746087.jpg'\n",
      "移动到根目录:b'G:/\\xe9\\xa5\\xad\\xe6\\xa1\\xb6\\xe8\\xae\\xbe\\xe8\\xae\\xa1/2000-2999/2215/2215/7746096.psd'\n",
      "移动到根目录:b'G:/\\xe9\\xa5\\xad\\xe6\\xa1\\xb6\\xe8\\xae\\xbe\\xe8\\xae\\xa1/2000-2999/2215/2215/7746098.jpg'\n",
      "移动到根目录:b'G:/\\xe9\\xa5\\xad\\xe6\\xa1\\xb6\\xe8\\xae\\xbe\\xe8\\xae\\xa1/2000-2999/2215/2215/7746099.psd'\n",
      "移动到根目录:b'G:/\\xe9\\xa5\\xad\\xe6\\xa1\\xb6\\xe8\\xae\\xbe\\xe8\\xae\\xa1/2000-2999/2215/2215/7746072.jpg'\n",
      "移动到根目录:b'G:/\\xe9\\xa5\\xad\\xe6\\xa1\\xb6\\xe8\\xae\\xbe\\xe8\\xae\\xa1/2000-2999/2215/2215/7746073.psd'\n",
      "移动到根目录:b'G:/\\xe9\\xa5\\xad\\xe6\\xa1\\xb6\\xe8\\xae\\xbe\\xe8\\xae\\xa1/2000-2999/2215/2215/7746144.jpg'\n",
      "移动到根目录:b'G:/\\xe9\\xa5\\xad\\xe6\\xa1\\xb6\\xe8\\xae\\xbe\\xe8\\xae\\xa1/2000-2999/2215/2215/7746145.psd'\n",
      "移动到根目录:b'G:/\\xe9\\xa5\\xad\\xe6\\xa1\\xb6\\xe8\\xae\\xbe\\xe8\\xae\\xa1/2000-2999/2215/2215/7711204.jpg'\n",
      "移动到根目录:b'G:/\\xe9\\xa5\\xad\\xe6\\xa1\\xb6\\xe8\\xae\\xbe\\xe8\\xae\\xa1/2000-2999/2215/2215/7711212.psd'\n",
      "删除多余文件夹：G:\\饭桶设计\\2000-2999\\2215\\2215\\flat-design-party-template\n",
      "删除多余文件夹：G:\\饭桶设计\\2000-2999\\2215\\2215\\flat-design-party-template (1)\n",
      "删除多余文件夹：G:\\饭桶设计\\2000-2999\\2215\\2215\\flat-design-party-template (10)\n",
      "删除多余文件夹：G:\\饭桶设计\\2000-2999\\2215\\2215\\flat-design-party-template (11)\n",
      "删除多余文件夹：G:\\饭桶设计\\2000-2999\\2215\\2215\\flat-design-party-template (12)\n",
      "删除多余文件夹：G:\\饭桶设计\\2000-2999\\2215\\2215\\flat-design-party-template (13)\n",
      "删除多余文件夹：G:\\饭桶设计\\2000-2999\\2215\\2215\\flat-design-party-template (14)\n",
      "删除多余文件夹：G:\\饭桶设计\\2000-2999\\2215\\2215\\flat-design-party-template (15)\n",
      "删除多余文件夹：G:\\饭桶设计\\2000-2999\\2215\\2215\\flat-design-party-template (16)\n",
      "删除多余文件夹：G:\\饭桶设计\\2000-2999\\2215\\2215\\flat-design-party-template (17)\n",
      "删除多余文件夹：G:\\饭桶设计\\2000-2999\\2215\\2215\\flat-design-party-template (2)\n",
      "删除多余文件夹：G:\\饭桶设计\\2000-2999\\2215\\2215\\flat-design-party-template (3)\n",
      "删除多余文件夹：G:\\饭桶设计\\2000-2999\\2215\\2215\\flat-design-party-template (4)\n",
      "删除多余文件夹：G:\\饭桶设计\\2000-2999\\2215\\2215\\flat-design-party-template (5)\n",
      "删除多余文件夹：G:\\饭桶设计\\2000-2999\\2215\\2215\\flat-design-party-template (6)\n",
      "删除多余文件夹：G:\\饭桶设计\\2000-2999\\2215\\2215\\flat-design-party-template (7)\n",
      "删除多余文件夹：G:\\饭桶设计\\2000-2999\\2215\\2215\\flat-design-party-template (8)\n",
      "删除多余文件夹：G:\\饭桶设计\\2000-2999\\2215\\2215\\flat-design-party-template (9)\n"
     ]
    },
    {
     "name": "stderr",
     "output_type": "stream",
     "text": [
      "复制到制定目录: 100%|███████████████████████████████████████████████| 18/18 [00:00<00:00, 95.98it/s]\n"
     ]
    },
    {
     "name": "stdout",
     "output_type": "stream",
     "text": [
      "文件重命名：b'G:/\\xe9\\xa5\\xad\\xe6\\xa1\\xb6\\xe8\\xae\\xbe\\xe8\\xae\\xa1/2000-2999/2215/2215/7711212.psd'\n",
      "文件重命名：b'G:/\\xe9\\xa5\\xad\\xe6\\xa1\\xb6\\xe8\\xae\\xbe\\xe8\\xae\\xa1/2000-2999/2215/2215/7741580.psd'\n",
      "文件重命名：b'G:/\\xe9\\xa5\\xad\\xe6\\xa1\\xb6\\xe8\\xae\\xbe\\xe8\\xae\\xa1/2000-2999/2215/2215/7746065.psd'\n",
      "文件重命名：b'G:/\\xe9\\xa5\\xad\\xe6\\xa1\\xb6\\xe8\\xae\\xbe\\xe8\\xae\\xa1/2000-2999/2215/2215/7746071.psd'\n",
      "文件重命名：b'G:/\\xe9\\xa5\\xad\\xe6\\xa1\\xb6\\xe8\\xae\\xbe\\xe8\\xae\\xa1/2000-2999/2215/2215/7746073.psd'\n",
      "文件重命名：b'G:/\\xe9\\xa5\\xad\\xe6\\xa1\\xb6\\xe8\\xae\\xbe\\xe8\\xae\\xa1/2000-2999/2215/2215/7746079.psd'\n",
      "文件重命名：b'G:/\\xe9\\xa5\\xad\\xe6\\xa1\\xb6\\xe8\\xae\\xbe\\xe8\\xae\\xa1/2000-2999/2215/2215/7746086.psd'\n",
      "文件重命名：b'G:/\\xe9\\xa5\\xad\\xe6\\xa1\\xb6\\xe8\\xae\\xbe\\xe8\\xae\\xa1/2000-2999/2215/2215/7746096.psd'\n",
      "文件重命名：b'G:/\\xe9\\xa5\\xad\\xe6\\xa1\\xb6\\xe8\\xae\\xbe\\xe8\\xae\\xa1/2000-2999/2215/2215/7746099.psd'\n",
      "文件重命名：b'G:/\\xe9\\xa5\\xad\\xe6\\xa1\\xb6\\xe8\\xae\\xbe\\xe8\\xae\\xa1/2000-2999/2215/2215/7746112.psd'\n",
      "文件重命名：b'G:/\\xe9\\xa5\\xad\\xe6\\xa1\\xb6\\xe8\\xae\\xbe\\xe8\\xae\\xa1/2000-2999/2215/2215/7746115.psd'\n",
      "文件重命名：b'G:/\\xe9\\xa5\\xad\\xe6\\xa1\\xb6\\xe8\\xae\\xbe\\xe8\\xae\\xa1/2000-2999/2215/2215/7746121.psd'\n",
      "文件重命名：b'G:/\\xe9\\xa5\\xad\\xe6\\xa1\\xb6\\xe8\\xae\\xbe\\xe8\\xae\\xa1/2000-2999/2215/2215/7746125.psd'\n",
      "文件重命名：b'G:/\\xe9\\xa5\\xad\\xe6\\xa1\\xb6\\xe8\\xae\\xbe\\xe8\\xae\\xa1/2000-2999/2215/2215/7746138.psd'\n",
      "文件重命名：b'G:/\\xe9\\xa5\\xad\\xe6\\xa1\\xb6\\xe8\\xae\\xbe\\xe8\\xae\\xa1/2000-2999/2215/2215/7746143.psd'\n",
      "文件重命名：b'G:/\\xe9\\xa5\\xad\\xe6\\xa1\\xb6\\xe8\\xae\\xbe\\xe8\\xae\\xa1/2000-2999/2215/2215/7746145.psd'\n",
      "文件重命名：b'G:/\\xe9\\xa5\\xad\\xe6\\xa1\\xb6\\xe8\\xae\\xbe\\xe8\\xae\\xa1/2000-2999/2215/2215/7746147.psd'\n",
      "文件重命名：b'G:/\\xe9\\xa5\\xad\\xe6\\xa1\\xb6\\xe8\\xae\\xbe\\xe8\\xae\\xa1/2000-2999/2215/2215/7749768.psd'\n",
      "文件重命名：b'G:/\\xe9\\xa5\\xad\\xe6\\xa1\\xb6\\xe8\\xae\\xbe\\xe8\\xae\\xa1/2000-2999/2215/2215/test(1).psd'\n",
      "文件重命名：b'G:/\\xe9\\xa5\\xad\\xe6\\xa1\\xb6\\xe8\\xae\\xbe\\xe8\\xae\\xa1/2000-2999/2215/2215/test(10).psd'\n",
      "文件重命名：b'G:/\\xe9\\xa5\\xad\\xe6\\xa1\\xb6\\xe8\\xae\\xbe\\xe8\\xae\\xa1/2000-2999/2215/2215/test(11).psd'\n",
      "文件重命名：b'G:/\\xe9\\xa5\\xad\\xe6\\xa1\\xb6\\xe8\\xae\\xbe\\xe8\\xae\\xa1/2000-2999/2215/2215/test(12).psd'\n",
      "文件重命名：b'G:/\\xe9\\xa5\\xad\\xe6\\xa1\\xb6\\xe8\\xae\\xbe\\xe8\\xae\\xa1/2000-2999/2215/2215/test(13).psd'\n",
      "文件重命名：b'G:/\\xe9\\xa5\\xad\\xe6\\xa1\\xb6\\xe8\\xae\\xbe\\xe8\\xae\\xa1/2000-2999/2215/2215/test(14).psd'\n",
      "文件重命名：b'G:/\\xe9\\xa5\\xad\\xe6\\xa1\\xb6\\xe8\\xae\\xbe\\xe8\\xae\\xa1/2000-2999/2215/2215/test(15).psd'\n",
      "文件重命名：b'G:/\\xe9\\xa5\\xad\\xe6\\xa1\\xb6\\xe8\\xae\\xbe\\xe8\\xae\\xa1/2000-2999/2215/2215/test(16).psd'\n",
      "文件重命名：b'G:/\\xe9\\xa5\\xad\\xe6\\xa1\\xb6\\xe8\\xae\\xbe\\xe8\\xae\\xa1/2000-2999/2215/2215/test(17).psd'\n",
      "文件重命名：b'G:/\\xe9\\xa5\\xad\\xe6\\xa1\\xb6\\xe8\\xae\\xbe\\xe8\\xae\\xa1/2000-2999/2215/2215/test(18).psd'\n",
      "文件重命名：b'G:/\\xe9\\xa5\\xad\\xe6\\xa1\\xb6\\xe8\\xae\\xbe\\xe8\\xae\\xa1/2000-2999/2215/2215/test(2).psd'\n",
      "文件重命名：b'G:/\\xe9\\xa5\\xad\\xe6\\xa1\\xb6\\xe8\\xae\\xbe\\xe8\\xae\\xa1/2000-2999/2215/2215/test(3).psd'\n",
      "文件重命名：b'G:/\\xe9\\xa5\\xad\\xe6\\xa1\\xb6\\xe8\\xae\\xbe\\xe8\\xae\\xa1/2000-2999/2215/2215/test(4).psd'\n",
      "文件重命名：b'G:/\\xe9\\xa5\\xad\\xe6\\xa1\\xb6\\xe8\\xae\\xbe\\xe8\\xae\\xa1/2000-2999/2215/2215/test(5).psd'\n",
      "文件重命名：b'G:/\\xe9\\xa5\\xad\\xe6\\xa1\\xb6\\xe8\\xae\\xbe\\xe8\\xae\\xa1/2000-2999/2215/2215/test(6).psd'\n",
      "文件重命名：b'G:/\\xe9\\xa5\\xad\\xe6\\xa1\\xb6\\xe8\\xae\\xbe\\xe8\\xae\\xa1/2000-2999/2215/2215/test(7).psd'\n",
      "文件重命名：b'G:/\\xe9\\xa5\\xad\\xe6\\xa1\\xb6\\xe8\\xae\\xbe\\xe8\\xae\\xa1/2000-2999/2215/2215/test(8).psd'\n",
      "文件重命名：b'G:/\\xe9\\xa5\\xad\\xe6\\xa1\\xb6\\xe8\\xae\\xbe\\xe8\\xae\\xa1/2000-2999/2215/2215/test(9).psd'\n"
     ]
    },
    {
     "name": "stderr",
     "output_type": "stream",
     "text": [
      "PSD添加广告生成图片:   0%|                                                   | 0/18 [00:00<?, ?it/s]"
     ]
    },
    {
     "name": "stdout",
     "output_type": "stream",
     "text": [
      "\n",
      "\n",
      "处理文件:G:/饭桶设计/2000-2999/2215/2215/饭桶设计(1).psd\n",
      "导出PNG\n",
      "插入广告\n"
     ]
    },
    {
     "name": "stderr",
     "output_type": "stream",
     "text": [
      "PSD添加广告生成图片:   6%|██▍                                        | 1/18 [00:34<09:38, 34.05s/it]"
     ]
    },
    {
     "name": "stdout",
     "output_type": "stream",
     "text": [
      "\n",
      "\n",
      "处理文件:G:/饭桶设计/2000-2999/2215/2215/饭桶设计(2).psd\n",
      "导出PNG\n",
      "插入广告\n"
     ]
    },
    {
     "name": "stderr",
     "output_type": "stream",
     "text": [
      "PSD添加广告生成图片:  11%|████▊                                      | 2/18 [00:41<04:51, 18.24s/it]"
     ]
    },
    {
     "name": "stdout",
     "output_type": "stream",
     "text": [
      "\n",
      "\n",
      "处理文件:G:/饭桶设计/2000-2999/2215/2215/饭桶设计(3).psd\n",
      "导出PNG\n",
      "插入广告\n"
     ]
    },
    {
     "name": "stderr",
     "output_type": "stream",
     "text": [
      "PSD添加广告生成图片:  17%|███████▏                                   | 3/18 [00:49<03:26, 13.76s/it]"
     ]
    },
    {
     "name": "stdout",
     "output_type": "stream",
     "text": [
      "\n",
      "\n",
      "处理文件:G:/饭桶设计/2000-2999/2215/2215/饭桶设计(4).psd\n",
      "导出PNG\n",
      "插入广告\n"
     ]
    },
    {
     "name": "stderr",
     "output_type": "stream",
     "text": [
      "PSD添加广告生成图片:  22%|█████████▌                                 | 4/18 [00:53<02:16,  9.75s/it]"
     ]
    },
    {
     "name": "stdout",
     "output_type": "stream",
     "text": [
      "\n",
      "\n",
      "处理文件:G:/饭桶设计/2000-2999/2215/2215/饭桶设计(5).psd\n",
      "导出PNG\n",
      "插入广告\n"
     ]
    },
    {
     "name": "stderr",
     "output_type": "stream",
     "text": [
      "PSD添加广告生成图片:  28%|███████████▉                               | 5/18 [00:59<01:48,  8.35s/it]"
     ]
    },
    {
     "name": "stdout",
     "output_type": "stream",
     "text": [
      "\n",
      "\n",
      "处理文件:G:/饭桶设计/2000-2999/2215/2215/饭桶设计(6).psd\n",
      "导出PNG\n",
      "插入广告\n"
     ]
    },
    {
     "name": "stderr",
     "output_type": "stream",
     "text": [
      "PSD添加广告生成图片:  33%|██████████████▎                            | 6/18 [01:08<01:45,  8.75s/it]"
     ]
    },
    {
     "name": "stdout",
     "output_type": "stream",
     "text": [
      "\n",
      "\n",
      "处理文件:G:/饭桶设计/2000-2999/2215/2215/饭桶设计(7).psd\n",
      "导出PNG\n",
      "插入广告\n"
     ]
    },
    {
     "name": "stderr",
     "output_type": "stream",
     "text": [
      "PSD添加广告生成图片:  39%|████████████████▋                          | 7/18 [01:16<01:31,  8.30s/it]"
     ]
    },
    {
     "name": "stdout",
     "output_type": "stream",
     "text": [
      "\n",
      "\n",
      "处理文件:G:/饭桶设计/2000-2999/2215/2215/饭桶设计(8).psd\n",
      "导出PNG\n",
      "插入广告\n"
     ]
    },
    {
     "name": "stderr",
     "output_type": "stream",
     "text": [
      "PSD添加广告生成图片:  44%|███████████████████                        | 8/18 [01:18<01:05,  6.55s/it]"
     ]
    },
    {
     "name": "stdout",
     "output_type": "stream",
     "text": [
      "\n",
      "\n",
      "处理文件:G:/饭桶设计/2000-2999/2215/2215/饭桶设计(9).psd\n",
      "导出PNG\n",
      "插入广告\n"
     ]
    },
    {
     "name": "stderr",
     "output_type": "stream",
     "text": [
      "PSD添加广告生成图片:  50%|█████████████████████▌                     | 9/18 [01:21<00:48,  5.34s/it]"
     ]
    },
    {
     "name": "stdout",
     "output_type": "stream",
     "text": [
      "\n",
      "\n",
      "处理文件:G:/饭桶设计/2000-2999/2215/2215/饭桶设计(10).psd\n",
      "导出PNG\n",
      "插入广告\n"
     ]
    },
    {
     "name": "stderr",
     "output_type": "stream",
     "text": [
      "PSD添加广告生成图片:  56%|███████████████████████▎                  | 10/18 [01:32<00:57,  7.21s/it]"
     ]
    },
    {
     "name": "stdout",
     "output_type": "stream",
     "text": [
      "\n",
      "\n",
      "处理文件:G:/饭桶设计/2000-2999/2215/2215/饭桶设计(11).psd\n",
      "导出PNG\n",
      "插入广告\n"
     ]
    },
    {
     "name": "stderr",
     "output_type": "stream",
     "text": [
      "PSD添加广告生成图片:  61%|█████████████████████████▋                | 11/18 [01:39<00:48,  6.94s/it]"
     ]
    },
    {
     "name": "stdout",
     "output_type": "stream",
     "text": [
      "\n",
      "\n",
      "处理文件:G:/饭桶设计/2000-2999/2215/2215/饭桶设计(12).psd\n",
      "导出PNG\n",
      "插入广告\n"
     ]
    },
    {
     "name": "stderr",
     "output_type": "stream",
     "text": [
      "PSD添加广告生成图片:  67%|████████████████████████████              | 12/18 [01:44<00:38,  6.44s/it]"
     ]
    },
    {
     "name": "stdout",
     "output_type": "stream",
     "text": [
      "\n",
      "\n",
      "处理文件:G:/饭桶设计/2000-2999/2215/2215/饭桶设计(13).psd\n",
      "导出PNG\n",
      "插入广告\n"
     ]
    },
    {
     "name": "stderr",
     "output_type": "stream",
     "text": [
      "PSD添加广告生成图片:  72%|██████████████████████████████▎           | 13/18 [01:50<00:31,  6.26s/it]"
     ]
    },
    {
     "name": "stdout",
     "output_type": "stream",
     "text": [
      "\n",
      "\n",
      "处理文件:G:/饭桶设计/2000-2999/2215/2215/饭桶设计(14).psd\n",
      "导出PNG\n",
      "插入广告\n"
     ]
    },
    {
     "name": "stderr",
     "output_type": "stream",
     "text": [
      "PSD添加广告生成图片:  78%|████████████████████████████████▋         | 14/18 [02:01<00:30,  7.58s/it]"
     ]
    },
    {
     "name": "stdout",
     "output_type": "stream",
     "text": [
      "\n",
      "\n",
      "处理文件:G:/饭桶设计/2000-2999/2215/2215/饭桶设计(15).psd\n",
      "导出PNG\n",
      "插入广告\n"
     ]
    },
    {
     "name": "stderr",
     "output_type": "stream",
     "text": [
      "PSD添加广告生成图片:  83%|███████████████████████████████████       | 15/18 [02:07<00:21,  7.30s/it]"
     ]
    },
    {
     "name": "stdout",
     "output_type": "stream",
     "text": [
      "\n",
      "\n",
      "处理文件:G:/饭桶设计/2000-2999/2215/2215/饭桶设计(16).psd\n",
      "导出PNG\n",
      "插入广告\n"
     ]
    },
    {
     "name": "stderr",
     "output_type": "stream",
     "text": [
      "PSD添加广告生成图片:  89%|█████████████████████████████████████▎    | 16/18 [02:16<00:15,  7.85s/it]"
     ]
    },
    {
     "name": "stdout",
     "output_type": "stream",
     "text": [
      "\n",
      "\n",
      "处理文件:G:/饭桶设计/2000-2999/2215/2215/饭桶设计(17).psd\n",
      "导出PNG\n",
      "插入广告\n"
     ]
    },
    {
     "name": "stderr",
     "output_type": "stream",
     "text": [
      "PSD添加广告生成图片:  94%|███████████████████████████████████████▋  | 17/18 [02:24<00:07,  7.69s/it]"
     ]
    },
    {
     "name": "stdout",
     "output_type": "stream",
     "text": [
      "\n",
      "\n",
      "处理文件:G:/饭桶设计/2000-2999/2215/2215/饭桶设计(18).psd\n",
      "导出PNG\n",
      "插入广告\n"
     ]
    },
    {
     "name": "stderr",
     "output_type": "stream",
     "text": [
      "PSD添加广告生成图片: 100%|██████████████████████████████████████████| 18/18 [02:27<00:00,  8.17s/it]\n",
      "AI导出PNG: 0it [00:00, ?it/s]\n",
      "PPT导出PNG: 0it [00:00, ?it/s]\n",
      "复制到制定目录: 100%|██████████████████████████████████████████████| 18/18 [00:00<00:00, 246.42it/s]\n",
      "图片添加水印: 100%|█████████████████████████████████████████████████| 18/18 [00:05<00:00,  3.07it/s]\n",
      "解压ZIP: 100%|██████████████████████████████████████████████████████| 31/31 [00:54<00:00,  1.77s/it]\n",
      "解压RAR: 0it [00:00, ?it/s]\n"
     ]
    },
    {
     "name": "stdout",
     "output_type": "stream",
     "text": [
      "移动到根目录:b'G:/\\xe9\\xa5\\xad\\xe6\\xa1\\xb6\\xe8\\xae\\xbe\\xe8\\xae\\xa1/2000-2999/2216/2216/5607780.jpg'\n",
      "移动到根目录:b'G:/\\xe9\\xa5\\xad\\xe6\\xa1\\xb6\\xe8\\xae\\xbe\\xe8\\xae\\xa1/2000-2999/2216/2216/5607789.jpg'\n",
      "移动到根目录:b'G:/\\xe9\\xa5\\xad\\xe6\\xa1\\xb6\\xe8\\xae\\xbe\\xe8\\xae\\xa1/2000-2999/2216/2216/5607845.psd'\n",
      "移动到根目录:b'G:/\\xe9\\xa5\\xad\\xe6\\xa1\\xb6\\xe8\\xae\\xbe\\xe8\\xae\\xa1/2000-2999/2216/2216/5617634.jpg'\n",
      "移动到根目录:b'G:/\\xe9\\xa5\\xad\\xe6\\xa1\\xb6\\xe8\\xae\\xbe\\xe8\\xae\\xa1/2000-2999/2216/2216/5617640.jpg'\n",
      "移动到根目录:b'G:/\\xe9\\xa5\\xad\\xe6\\xa1\\xb6\\xe8\\xae\\xbe\\xe8\\xae\\xa1/2000-2999/2216/2216/5617681.psd'\n",
      "移动到根目录:b'G:/\\xe9\\xa5\\xad\\xe6\\xa1\\xb6\\xe8\\xae\\xbe\\xe8\\xae\\xa1/2000-2999/2216/2216/5608227.jpg'\n",
      "移动到根目录:b'G:/\\xe9\\xa5\\xad\\xe6\\xa1\\xb6\\xe8\\xae\\xbe\\xe8\\xae\\xa1/2000-2999/2216/2216/5608232.jpg'\n",
      "移动到根目录:b'G:/\\xe9\\xa5\\xad\\xe6\\xa1\\xb6\\xe8\\xae\\xbe\\xe8\\xae\\xa1/2000-2999/2216/2216/5608257.psd'\n",
      "移动到根目录:b'G:/\\xe9\\xa5\\xad\\xe6\\xa1\\xb6\\xe8\\xae\\xbe\\xe8\\xae\\xa1/2000-2999/2216/2216/5607945.jpg'\n",
      "移动到根目录:b'G:/\\xe9\\xa5\\xad\\xe6\\xa1\\xb6\\xe8\\xae\\xbe\\xe8\\xae\\xa1/2000-2999/2216/2216/5617225.jpg'\n",
      "移动到根目录:b'G:/\\xe9\\xa5\\xad\\xe6\\xa1\\xb6\\xe8\\xae\\xbe\\xe8\\xae\\xa1/2000-2999/2216/2216/5617255.psd'\n",
      "移动到根目录:b'G:/\\xe9\\xa5\\xad\\xe6\\xa1\\xb6\\xe8\\xae\\xbe\\xe8\\xae\\xa1/2000-2999/2216/2216/5608025.jpg'\n",
      "移动到根目录:b'G:/\\xe9\\xa5\\xad\\xe6\\xa1\\xb6\\xe8\\xae\\xbe\\xe8\\xae\\xa1/2000-2999/2216/2216/5608029.jpg'\n",
      "移动到根目录:b'G:/\\xe9\\xa5\\xad\\xe6\\xa1\\xb6\\xe8\\xae\\xbe\\xe8\\xae\\xa1/2000-2999/2216/2216/5608125.psd'\n",
      "移动到根目录:b'G:/\\xe9\\xa5\\xad\\xe6\\xa1\\xb6\\xe8\\xae\\xbe\\xe8\\xae\\xa1/2000-2999/2216/2216/5608126.jpg'\n",
      "移动到根目录:b'G:/\\xe9\\xa5\\xad\\xe6\\xa1\\xb6\\xe8\\xae\\xbe\\xe8\\xae\\xa1/2000-2999/2216/2216/5608129.jpg'\n",
      "移动到根目录:b'G:/\\xe9\\xa5\\xad\\xe6\\xa1\\xb6\\xe8\\xae\\xbe\\xe8\\xae\\xa1/2000-2999/2216/2216/5608226.psd'\n",
      "移动到根目录:b'G:/\\xe9\\xa5\\xad\\xe6\\xa1\\xb6\\xe8\\xae\\xbe\\xe8\\xae\\xa1/2000-2999/2216/2216/5607898.jpg'\n",
      "移动到根目录:b'G:/\\xe9\\xa5\\xad\\xe6\\xa1\\xb6\\xe8\\xae\\xbe\\xe8\\xae\\xa1/2000-2999/2216/2216/5617384.jpg'\n",
      "移动到根目录:b'G:/\\xe9\\xa5\\xad\\xe6\\xa1\\xb6\\xe8\\xae\\xbe\\xe8\\xae\\xa1/2000-2999/2216/2216/5617483.psd'\n",
      "移动到根目录:b'G:/\\xe9\\xa5\\xad\\xe6\\xa1\\xb6\\xe8\\xae\\xbe\\xe8\\xae\\xa1/2000-2999/2216/2216/5594131.jpg'\n",
      "移动到根目录:b'G:/\\xe9\\xa5\\xad\\xe6\\xa1\\xb6\\xe8\\xae\\xbe\\xe8\\xae\\xa1/2000-2999/2216/2216/5594169.psd'\n",
      "移动到根目录:b'G:/\\xe9\\xa5\\xad\\xe6\\xa1\\xb6\\xe8\\xae\\xbe\\xe8\\xae\\xa1/2000-2999/2216/2216/5595562.jpg'\n",
      "移动到根目录:b'G:/\\xe9\\xa5\\xad\\xe6\\xa1\\xb6\\xe8\\xae\\xbe\\xe8\\xae\\xa1/2000-2999/2216/2216/5594235.jpg'\n",
      "移动到根目录:b'G:/\\xe9\\xa5\\xad\\xe6\\xa1\\xb6\\xe8\\xae\\xbe\\xe8\\xae\\xa1/2000-2999/2216/2216/5594237.jpg'\n",
      "移动到根目录:b'G:/\\xe9\\xa5\\xad\\xe6\\xa1\\xb6\\xe8\\xae\\xbe\\xe8\\xae\\xa1/2000-2999/2216/2216/5594275.psd'\n",
      "移动到根目录:b'G:/\\xe9\\xa5\\xad\\xe6\\xa1\\xb6\\xe8\\xae\\xbe\\xe8\\xae\\xa1/2000-2999/2216/2216/5607849.jpg'\n",
      "移动到根目录:b'G:/\\xe9\\xa5\\xad\\xe6\\xa1\\xb6\\xe8\\xae\\xbe\\xe8\\xae\\xa1/2000-2999/2216/2216/5607851.jpg'\n",
      "移动到根目录:b'G:/\\xe9\\xa5\\xad\\xe6\\xa1\\xb6\\xe8\\xae\\xbe\\xe8\\xae\\xa1/2000-2999/2216/2216/5607881.psd'\n",
      "移动到根目录:b'G:/\\xe9\\xa5\\xad\\xe6\\xa1\\xb6\\xe8\\xae\\xbe\\xe8\\xae\\xa1/2000-2999/2216/2216/5608261.jpg'\n",
      "移动到根目录:b'G:/\\xe9\\xa5\\xad\\xe6\\xa1\\xb6\\xe8\\xae\\xbe\\xe8\\xae\\xa1/2000-2999/2216/2216/5608274.jpg'\n",
      "移动到根目录:b'G:/\\xe9\\xa5\\xad\\xe6\\xa1\\xb6\\xe8\\xae\\xbe\\xe8\\xae\\xa1/2000-2999/2216/2216/5608373.psd'\n",
      "移动到根目录:b'G:/\\xe9\\xa5\\xad\\xe6\\xa1\\xb6\\xe8\\xae\\xbe\\xe8\\xae\\xa1/2000-2999/2216/2216/5617490.jpg'\n",
      "移动到根目录:b'G:/\\xe9\\xa5\\xad\\xe6\\xa1\\xb6\\xe8\\xae\\xbe\\xe8\\xae\\xa1/2000-2999/2216/2216/5617503.jpg'\n",
      "移动到根目录:b'G:/\\xe9\\xa5\\xad\\xe6\\xa1\\xb6\\xe8\\xae\\xbe\\xe8\\xae\\xa1/2000-2999/2216/2216/5617630.psd'\n",
      "移动到根目录:b'G:/\\xe9\\xa5\\xad\\xe6\\xa1\\xb6\\xe8\\xae\\xbe\\xe8\\xae\\xa1/2000-2999/2216/2216/5599862.jpg'\n",
      "移动到根目录:b'G:/\\xe9\\xa5\\xad\\xe6\\xa1\\xb6\\xe8\\xae\\xbe\\xe8\\xae\\xa1/2000-2999/2216/2216/5599863.jpg'\n",
      "移动到根目录:b'G:/\\xe9\\xa5\\xad\\xe6\\xa1\\xb6\\xe8\\xae\\xbe\\xe8\\xae\\xa1/2000-2999/2216/2216/5599886.psd'\n",
      "移动到根目录:b'G:/\\xe9\\xa5\\xad\\xe6\\xa1\\xb6\\xe8\\xae\\xbe\\xe8\\xae\\xa1/2000-2999/2216/2216/5592993.jpg'\n",
      "移动到根目录:b'G:/\\xe9\\xa5\\xad\\xe6\\xa1\\xb6\\xe8\\xae\\xbe\\xe8\\xae\\xa1/2000-2999/2216/2216/5594174.jpg'\n",
      "移动到根目录:b'G:/\\xe9\\xa5\\xad\\xe6\\xa1\\xb6\\xe8\\xae\\xbe\\xe8\\xae\\xa1/2000-2999/2216/2216/5594233.psd'\n",
      "移动到根目录:b'G:/\\xe9\\xa5\\xad\\xe6\\xa1\\xb6\\xe8\\xae\\xbe\\xe8\\xae\\xa1/2000-2999/2216/2216/5608417.jpg'\n",
      "移动到根目录:b'G:/\\xe9\\xa5\\xad\\xe6\\xa1\\xb6\\xe8\\xae\\xbe\\xe8\\xae\\xa1/2000-2999/2216/2216/5608418.jpg'\n",
      "移动到根目录:b'G:/\\xe9\\xa5\\xad\\xe6\\xa1\\xb6\\xe8\\xae\\xbe\\xe8\\xae\\xa1/2000-2999/2216/2216/5608434.psd'\n",
      "移动到根目录:b'G:/\\xe9\\xa5\\xad\\xe6\\xa1\\xb6\\xe8\\xae\\xbe\\xe8\\xae\\xa1/2000-2999/2216/2216/5598568.jpg'\n",
      "移动到根目录:b'G:/\\xe9\\xa5\\xad\\xe6\\xa1\\xb6\\xe8\\xae\\xbe\\xe8\\xae\\xa1/2000-2999/2216/2216/5599798.jpg'\n",
      "移动到根目录:b'G:/\\xe9\\xa5\\xad\\xe6\\xa1\\xb6\\xe8\\xae\\xbe\\xe8\\xae\\xa1/2000-2999/2216/2216/5599811.psd'\n",
      "移动到根目录:b'G:/\\xe9\\xa5\\xad\\xe6\\xa1\\xb6\\xe8\\xae\\xbe\\xe8\\xae\\xa1/2000-2999/2216/2216/5617725.jpg'\n",
      "移动到根目录:b'G:/\\xe9\\xa5\\xad\\xe6\\xa1\\xb6\\xe8\\xae\\xbe\\xe8\\xae\\xa1/2000-2999/2216/2216/5617726.jpg'\n",
      "移动到根目录:b'G:/\\xe9\\xa5\\xad\\xe6\\xa1\\xb6\\xe8\\xae\\xbe\\xe8\\xae\\xa1/2000-2999/2216/2216/5617791.psd'\n",
      "移动到根目录:b'G:/\\xe9\\xa5\\xad\\xe6\\xa1\\xb6\\xe8\\xae\\xbe\\xe8\\xae\\xa1/2000-2999/2216/2216/5598486.jpg'\n",
      "移动到根目录:b'G:/\\xe9\\xa5\\xad\\xe6\\xa1\\xb6\\xe8\\xae\\xbe\\xe8\\xae\\xa1/2000-2999/2216/2216/5598498.jpg'\n",
      "移动到根目录:b'G:/\\xe9\\xa5\\xad\\xe6\\xa1\\xb6\\xe8\\xae\\xbe\\xe8\\xae\\xa1/2000-2999/2216/2216/5598537.psd'\n",
      "移动到根目录:b'G:/\\xe9\\xa5\\xad\\xe6\\xa1\\xb6\\xe8\\xae\\xbe\\xe8\\xae\\xa1/2000-2999/2216/2216/5598538.jpg'\n",
      "移动到根目录:b'G:/\\xe9\\xa5\\xad\\xe6\\xa1\\xb6\\xe8\\xae\\xbe\\xe8\\xae\\xa1/2000-2999/2216/2216/5598545.jpg'\n",
      "移动到根目录:b'G:/\\xe9\\xa5\\xad\\xe6\\xa1\\xb6\\xe8\\xae\\xbe\\xe8\\xae\\xa1/2000-2999/2216/2216/5598563.psd'\n",
      "移动到根目录:b'G:/\\xe9\\xa5\\xad\\xe6\\xa1\\xb6\\xe8\\xae\\xbe\\xe8\\xae\\xa1/2000-2999/2216/2216/5599826.jpg'\n",
      "移动到根目录:b'G:/\\xe9\\xa5\\xad\\xe6\\xa1\\xb6\\xe8\\xae\\xbe\\xe8\\xae\\xa1/2000-2999/2216/2216/5599830.jpg'\n",
      "移动到根目录:b'G:/\\xe9\\xa5\\xad\\xe6\\xa1\\xb6\\xe8\\xae\\xbe\\xe8\\xae\\xa1/2000-2999/2216/2216/5599861.psd'\n",
      "移动到根目录:b'G:/\\xe9\\xa5\\xad\\xe6\\xa1\\xb6\\xe8\\xae\\xbe\\xe8\\xae\\xa1/2000-2999/2216/2216/5602453.jpg'\n",
      "移动到根目录:b'G:/\\xe9\\xa5\\xad\\xe6\\xa1\\xb6\\xe8\\xae\\xbe\\xe8\\xae\\xa1/2000-2999/2216/2216/5602454.jpg'\n",
      "移动到根目录:b'G:/\\xe9\\xa5\\xad\\xe6\\xa1\\xb6\\xe8\\xae\\xbe\\xe8\\xae\\xa1/2000-2999/2216/2216/5602463.psd'\n",
      "移动到根目录:b'G:/\\xe9\\xa5\\xad\\xe6\\xa1\\xb6\\xe8\\xae\\xbe\\xe8\\xae\\xa1/2000-2999/2216/2216/5617685.jpg'\n",
      "移动到根目录:b'G:/\\xe9\\xa5\\xad\\xe6\\xa1\\xb6\\xe8\\xae\\xbe\\xe8\\xae\\xa1/2000-2999/2216/2216/5617692.jpg'\n",
      "移动到根目录:b'G:/\\xe9\\xa5\\xad\\xe6\\xa1\\xb6\\xe8\\xae\\xbe\\xe8\\xae\\xa1/2000-2999/2216/2216/5617724.psd'\n",
      "移动到根目录:b'G:/\\xe9\\xa5\\xad\\xe6\\xa1\\xb6\\xe8\\xae\\xbe\\xe8\\xae\\xa1/2000-2999/2216/2216/5599812.jpg'\n",
      "移动到根目录:b'G:/\\xe9\\xa5\\xad\\xe6\\xa1\\xb6\\xe8\\xae\\xbe\\xe8\\xae\\xa1/2000-2999/2216/2216/5599813.jpg'\n",
      "移动到根目录:b'G:/\\xe9\\xa5\\xad\\xe6\\xa1\\xb6\\xe8\\xae\\xbe\\xe8\\xae\\xa1/2000-2999/2216/2216/5599825.psd'\n",
      "移动到根目录:b'G:/\\xe9\\xa5\\xad\\xe6\\xa1\\xb6\\xe8\\xae\\xbe\\xe8\\xae\\xa1/2000-2999/2216/2216/5599812 (1).jpg'\n",
      "移动到根目录:b'G:/\\xe9\\xa5\\xad\\xe6\\xa1\\xb6\\xe8\\xae\\xbe\\xe8\\xae\\xa1/2000-2999/2216/2216/5599813 (1).jpg'\n",
      "移动到根目录:b'G:/\\xe9\\xa5\\xad\\xe6\\xa1\\xb6\\xe8\\xae\\xbe\\xe8\\xae\\xa1/2000-2999/2216/2216/5599825 (1).psd'\n",
      "移动到根目录:b'G:/\\xe9\\xa5\\xad\\xe6\\xa1\\xb6\\xe8\\xae\\xbe\\xe8\\xae\\xa1/2000-2999/2216/2216/5593188.jpg'\n",
      "移动到根目录:b'G:/\\xe9\\xa5\\xad\\xe6\\xa1\\xb6\\xe8\\xae\\xbe\\xe8\\xae\\xa1/2000-2999/2216/2216/5629519.jpg'\n",
      "移动到根目录:b'G:/\\xe9\\xa5\\xad\\xe6\\xa1\\xb6\\xe8\\xae\\xbe\\xe8\\xae\\xa1/2000-2999/2216/2216/5629673.psd'\n",
      "移动到根目录:b'G:/\\xe9\\xa5\\xad\\xe6\\xa1\\xb6\\xe8\\xae\\xbe\\xe8\\xae\\xa1/2000-2999/2216/2216/5602379.jpg'\n",
      "移动到根目录:b'G:/\\xe9\\xa5\\xad\\xe6\\xa1\\xb6\\xe8\\xae\\xbe\\xe8\\xae\\xa1/2000-2999/2216/2216/5602380.jpg'\n",
      "移动到根目录:b'G:/\\xe9\\xa5\\xad\\xe6\\xa1\\xb6\\xe8\\xae\\xbe\\xe8\\xae\\xa1/2000-2999/2216/2216/5602408.psd'\n",
      "移动到根目录:b'G:/\\xe9\\xa5\\xad\\xe6\\xa1\\xb6\\xe8\\xae\\xbe\\xe8\\xae\\xa1/2000-2999/2216/2216/5593060.jpg'\n",
      "移动到根目录:b'G:/\\xe9\\xa5\\xad\\xe6\\xa1\\xb6\\xe8\\xae\\xbe\\xe8\\xae\\xa1/2000-2999/2216/2216/5599907.jpg'\n",
      "移动到根目录:b'G:/\\xe9\\xa5\\xad\\xe6\\xa1\\xb6\\xe8\\xae\\xbe\\xe8\\xae\\xa1/2000-2999/2216/2216/5599908.psd'\n",
      "移动到根目录:b'G:/\\xe9\\xa5\\xad\\xe6\\xa1\\xb6\\xe8\\xae\\xbe\\xe8\\xae\\xa1/2000-2999/2216/2216/5593295.jpg'\n",
      "移动到根目录:b'G:/\\xe9\\xa5\\xad\\xe6\\xa1\\xb6\\xe8\\xae\\xbe\\xe8\\xae\\xa1/2000-2999/2216/2216/5602410.jpg'\n",
      "移动到根目录:b'G:/\\xe9\\xa5\\xad\\xe6\\xa1\\xb6\\xe8\\xae\\xbe\\xe8\\xae\\xa1/2000-2999/2216/2216/5602452.psd'\n",
      "移动到根目录:b'G:/\\xe9\\xa5\\xad\\xe6\\xa1\\xb6\\xe8\\xae\\xbe\\xe8\\xae\\xa1/2000-2999/2216/2216/5608442.jpg'\n",
      "移动到根目录:b'G:/\\xe9\\xa5\\xad\\xe6\\xa1\\xb6\\xe8\\xae\\xbe\\xe8\\xae\\xa1/2000-2999/2216/2216/5617196.jpg'\n",
      "移动到根目录:b'G:/\\xe9\\xa5\\xad\\xe6\\xa1\\xb6\\xe8\\xae\\xbe\\xe8\\xae\\xa1/2000-2999/2216/2216/5617221.psd'\n",
      "移动到根目录:b'G:/\\xe9\\xa5\\xad\\xe6\\xa1\\xb6\\xe8\\xae\\xbe\\xe8\\xae\\xa1/2000-2999/2216/2216/5608442 (1).jpg'\n",
      "移动到根目录:b'G:/\\xe9\\xa5\\xad\\xe6\\xa1\\xb6\\xe8\\xae\\xbe\\xe8\\xae\\xa1/2000-2999/2216/2216/5617196 (1).jpg'\n",
      "移动到根目录:b'G:/\\xe9\\xa5\\xad\\xe6\\xa1\\xb6\\xe8\\xae\\xbe\\xe8\\xae\\xa1/2000-2999/2216/2216/5617221 (1).psd'\n",
      "移动到根目录:b'G:/\\xe9\\xa5\\xad\\xe6\\xa1\\xb6\\xe8\\xae\\xbe\\xe8\\xae\\xa1/2000-2999/2216/2216/5593135.jpg'\n",
      "移动到根目录:b'G:/\\xe9\\xa5\\xad\\xe6\\xa1\\xb6\\xe8\\xae\\xbe\\xe8\\xae\\xa1/2000-2999/2216/2216/5629403.jpg'\n",
      "移动到根目录:b'G:/\\xe9\\xa5\\xad\\xe6\\xa1\\xb6\\xe8\\xae\\xbe\\xe8\\xae\\xa1/2000-2999/2216/2216/5629514.psd'\n",
      "删除多余文件夹：G:\\饭桶设计\\2000-2999\\2216\\2216\\street-billboard-display-mock-up\n",
      "删除多余文件夹：G:\\饭桶设计\\2000-2999\\2216\\2216\\street-billboard-display-mock-up (1)\n",
      "删除多余文件夹：G:\\饭桶设计\\2000-2999\\2216\\2216\\street-billboard-display-mock-up (10)\n",
      "删除多余文件夹：G:\\饭桶设计\\2000-2999\\2216\\2216\\street-billboard-display-mock-up (11)\n",
      "删除多余文件夹：G:\\饭桶设计\\2000-2999\\2216\\2216\\street-billboard-display-mock-up (2)\n",
      "删除多余文件夹：G:\\饭桶设计\\2000-2999\\2216\\2216\\street-billboard-display-mock-up (3)\n",
      "删除多余文件夹：G:\\饭桶设计\\2000-2999\\2216\\2216\\street-billboard-display-mock-up (4)\n",
      "删除多余文件夹：G:\\饭桶设计\\2000-2999\\2216\\2216\\street-billboard-display-mock-up (5)\n",
      "删除多余文件夹：G:\\饭桶设计\\2000-2999\\2216\\2216\\street-billboard-display-mock-up (6)\n",
      "删除多余文件夹：G:\\饭桶设计\\2000-2999\\2216\\2216\\street-billboard-display-mock-up (7)\n",
      "删除多余文件夹：G:\\饭桶设计\\2000-2999\\2216\\2216\\street-billboard-display-mock-up (8)\n",
      "删除多余文件夹：G:\\饭桶设计\\2000-2999\\2216\\2216\\street-billboard-display-mock-up (9)\n",
      "删除多余文件夹：G:\\饭桶设计\\2000-2999\\2216\\2216\\street-billboard-display-mock-up-outdoors\n",
      "删除多余文件夹：G:\\饭桶设计\\2000-2999\\2216\\2216\\street-billboard-display-mock-up-outdoors (1)\n",
      "删除多余文件夹：G:\\饭桶设计\\2000-2999\\2216\\2216\\street-billboard-display-mock-up-outdoors (10)\n",
      "删除多余文件夹：G:\\饭桶设计\\2000-2999\\2216\\2216\\street-billboard-display-mock-up-outdoors (11)\n",
      "删除多余文件夹：G:\\饭桶设计\\2000-2999\\2216\\2216\\street-billboard-display-mock-up-outdoors (2)\n",
      "删除多余文件夹：G:\\饭桶设计\\2000-2999\\2216\\2216\\street-billboard-display-mock-up-outdoors (3)\n",
      "删除多余文件夹：G:\\饭桶设计\\2000-2999\\2216\\2216\\street-billboard-display-mock-up-outdoors (4)\n",
      "删除多余文件夹：G:\\饭桶设计\\2000-2999\\2216\\2216\\street-billboard-display-mock-up-outdoors (5)\n",
      "删除多余文件夹：G:\\饭桶设计\\2000-2999\\2216\\2216\\street-billboard-display-mock-up-outdoors (6)\n",
      "删除多余文件夹：G:\\饭桶设计\\2000-2999\\2216\\2216\\street-billboard-display-mock-up-outdoors (7)\n",
      "删除多余文件夹：G:\\饭桶设计\\2000-2999\\2216\\2216\\street-billboard-display-mock-up-outdoors (8)\n",
      "删除多余文件夹：G:\\饭桶设计\\2000-2999\\2216\\2216\\street-billboard-display-mock-up-outdoors (9)\n",
      "删除多余文件夹：G:\\饭桶设计\\2000-2999\\2216\\2216\\street-billboard-display-mock-up-outside\n",
      "删除多余文件夹：G:\\饭桶设计\\2000-2999\\2216\\2216\\street-billboard-display-mock-up-outside (1)\n",
      "删除多余文件夹：G:\\饭桶设计\\2000-2999\\2216\\2216\\street-billboard-display-mock-up-outside (2)\n",
      "删除多余文件夹：G:\\饭桶设计\\2000-2999\\2216\\2216\\street-billboard-display-mock-up-outside (3)\n",
      "删除多余文件夹：G:\\饭桶设计\\2000-2999\\2216\\2216\\street-billboard-display-mock-up-outside (4)\n",
      "删除多余文件夹：G:\\饭桶设计\\2000-2999\\2216\\2216\\street-billboard-display-mock-up-outside (5)\n",
      "删除多余文件夹：G:\\饭桶设计\\2000-2999\\2216\\2216\\street-billboard-display-mock-up-outside (6)\n"
     ]
    },
    {
     "name": "stderr",
     "output_type": "stream",
     "text": [
      "复制到制定目录: 100%|██████████████████████████████████████████████| 62/62 [00:00<00:00, 136.73it/s]\n"
     ]
    },
    {
     "name": "stdout",
     "output_type": "stream",
     "text": [
      "文件重命名：b'G:/\\xe9\\xa5\\xad\\xe6\\xa1\\xb6\\xe8\\xae\\xbe\\xe8\\xae\\xa1/2000-2999/2216/2216/5594169.psd'\n",
      "文件重命名：b'G:/\\xe9\\xa5\\xad\\xe6\\xa1\\xb6\\xe8\\xae\\xbe\\xe8\\xae\\xa1/2000-2999/2216/2216/5594233.psd'\n",
      "文件重命名：b'G:/\\xe9\\xa5\\xad\\xe6\\xa1\\xb6\\xe8\\xae\\xbe\\xe8\\xae\\xa1/2000-2999/2216/2216/5594275.psd'\n",
      "文件重命名：b'G:/\\xe9\\xa5\\xad\\xe6\\xa1\\xb6\\xe8\\xae\\xbe\\xe8\\xae\\xa1/2000-2999/2216/2216/5598537.psd'\n",
      "文件重命名：b'G:/\\xe9\\xa5\\xad\\xe6\\xa1\\xb6\\xe8\\xae\\xbe\\xe8\\xae\\xa1/2000-2999/2216/2216/5598563.psd'\n",
      "文件重命名：b'G:/\\xe9\\xa5\\xad\\xe6\\xa1\\xb6\\xe8\\xae\\xbe\\xe8\\xae\\xa1/2000-2999/2216/2216/5599811.psd'\n",
      "文件重命名：b'G:/\\xe9\\xa5\\xad\\xe6\\xa1\\xb6\\xe8\\xae\\xbe\\xe8\\xae\\xa1/2000-2999/2216/2216/5599825 (1).psd'\n",
      "文件重命名：b'G:/\\xe9\\xa5\\xad\\xe6\\xa1\\xb6\\xe8\\xae\\xbe\\xe8\\xae\\xa1/2000-2999/2216/2216/5599825.psd'\n",
      "文件重命名：b'G:/\\xe9\\xa5\\xad\\xe6\\xa1\\xb6\\xe8\\xae\\xbe\\xe8\\xae\\xa1/2000-2999/2216/2216/5599861.psd'\n",
      "文件重命名：b'G:/\\xe9\\xa5\\xad\\xe6\\xa1\\xb6\\xe8\\xae\\xbe\\xe8\\xae\\xa1/2000-2999/2216/2216/5599886.psd'\n",
      "文件重命名：b'G:/\\xe9\\xa5\\xad\\xe6\\xa1\\xb6\\xe8\\xae\\xbe\\xe8\\xae\\xa1/2000-2999/2216/2216/5599908.psd'\n",
      "文件重命名：b'G:/\\xe9\\xa5\\xad\\xe6\\xa1\\xb6\\xe8\\xae\\xbe\\xe8\\xae\\xa1/2000-2999/2216/2216/5602408.psd'\n",
      "文件重命名：b'G:/\\xe9\\xa5\\xad\\xe6\\xa1\\xb6\\xe8\\xae\\xbe\\xe8\\xae\\xa1/2000-2999/2216/2216/5602452.psd'\n",
      "文件重命名：b'G:/\\xe9\\xa5\\xad\\xe6\\xa1\\xb6\\xe8\\xae\\xbe\\xe8\\xae\\xa1/2000-2999/2216/2216/5602463.psd'\n",
      "文件重命名：b'G:/\\xe9\\xa5\\xad\\xe6\\xa1\\xb6\\xe8\\xae\\xbe\\xe8\\xae\\xa1/2000-2999/2216/2216/5607845.psd'\n",
      "文件重命名：b'G:/\\xe9\\xa5\\xad\\xe6\\xa1\\xb6\\xe8\\xae\\xbe\\xe8\\xae\\xa1/2000-2999/2216/2216/5607881.psd'\n",
      "文件重命名：b'G:/\\xe9\\xa5\\xad\\xe6\\xa1\\xb6\\xe8\\xae\\xbe\\xe8\\xae\\xa1/2000-2999/2216/2216/5608125.psd'\n",
      "文件重命名：b'G:/\\xe9\\xa5\\xad\\xe6\\xa1\\xb6\\xe8\\xae\\xbe\\xe8\\xae\\xa1/2000-2999/2216/2216/5608226.psd'\n",
      "文件重命名：b'G:/\\xe9\\xa5\\xad\\xe6\\xa1\\xb6\\xe8\\xae\\xbe\\xe8\\xae\\xa1/2000-2999/2216/2216/5608257.psd'\n",
      "文件重命名：b'G:/\\xe9\\xa5\\xad\\xe6\\xa1\\xb6\\xe8\\xae\\xbe\\xe8\\xae\\xa1/2000-2999/2216/2216/5608373.psd'\n",
      "文件重命名：b'G:/\\xe9\\xa5\\xad\\xe6\\xa1\\xb6\\xe8\\xae\\xbe\\xe8\\xae\\xa1/2000-2999/2216/2216/5608434.psd'\n",
      "文件重命名：b'G:/\\xe9\\xa5\\xad\\xe6\\xa1\\xb6\\xe8\\xae\\xbe\\xe8\\xae\\xa1/2000-2999/2216/2216/5617221 (1).psd'\n",
      "文件重命名：b'G:/\\xe9\\xa5\\xad\\xe6\\xa1\\xb6\\xe8\\xae\\xbe\\xe8\\xae\\xa1/2000-2999/2216/2216/5617221.psd'\n",
      "文件重命名：b'G:/\\xe9\\xa5\\xad\\xe6\\xa1\\xb6\\xe8\\xae\\xbe\\xe8\\xae\\xa1/2000-2999/2216/2216/5617255.psd'\n",
      "文件重命名：b'G:/\\xe9\\xa5\\xad\\xe6\\xa1\\xb6\\xe8\\xae\\xbe\\xe8\\xae\\xa1/2000-2999/2216/2216/5617483.psd'\n",
      "文件重命名：b'G:/\\xe9\\xa5\\xad\\xe6\\xa1\\xb6\\xe8\\xae\\xbe\\xe8\\xae\\xa1/2000-2999/2216/2216/5617630.psd'\n",
      "文件重命名：b'G:/\\xe9\\xa5\\xad\\xe6\\xa1\\xb6\\xe8\\xae\\xbe\\xe8\\xae\\xa1/2000-2999/2216/2216/5617681.psd'\n",
      "文件重命名：b'G:/\\xe9\\xa5\\xad\\xe6\\xa1\\xb6\\xe8\\xae\\xbe\\xe8\\xae\\xa1/2000-2999/2216/2216/5617724.psd'\n",
      "文件重命名：b'G:/\\xe9\\xa5\\xad\\xe6\\xa1\\xb6\\xe8\\xae\\xbe\\xe8\\xae\\xa1/2000-2999/2216/2216/5617791.psd'\n",
      "文件重命名：b'G:/\\xe9\\xa5\\xad\\xe6\\xa1\\xb6\\xe8\\xae\\xbe\\xe8\\xae\\xa1/2000-2999/2216/2216/5629514.psd'\n",
      "文件重命名：b'G:/\\xe9\\xa5\\xad\\xe6\\xa1\\xb6\\xe8\\xae\\xbe\\xe8\\xae\\xa1/2000-2999/2216/2216/5629673.psd'\n",
      "文件重命名：b'G:/\\xe9\\xa5\\xad\\xe6\\xa1\\xb6\\xe8\\xae\\xbe\\xe8\\xae\\xa1/2000-2999/2216/2216/test(1).psd'\n",
      "文件重命名：b'G:/\\xe9\\xa5\\xad\\xe6\\xa1\\xb6\\xe8\\xae\\xbe\\xe8\\xae\\xa1/2000-2999/2216/2216/test(10).psd'\n",
      "文件重命名：b'G:/\\xe9\\xa5\\xad\\xe6\\xa1\\xb6\\xe8\\xae\\xbe\\xe8\\xae\\xa1/2000-2999/2216/2216/test(11).psd'\n",
      "文件重命名：b'G:/\\xe9\\xa5\\xad\\xe6\\xa1\\xb6\\xe8\\xae\\xbe\\xe8\\xae\\xa1/2000-2999/2216/2216/test(12).psd'\n",
      "文件重命名：b'G:/\\xe9\\xa5\\xad\\xe6\\xa1\\xb6\\xe8\\xae\\xbe\\xe8\\xae\\xa1/2000-2999/2216/2216/test(13).psd'\n",
      "文件重命名：b'G:/\\xe9\\xa5\\xad\\xe6\\xa1\\xb6\\xe8\\xae\\xbe\\xe8\\xae\\xa1/2000-2999/2216/2216/test(14).psd'\n",
      "文件重命名：b'G:/\\xe9\\xa5\\xad\\xe6\\xa1\\xb6\\xe8\\xae\\xbe\\xe8\\xae\\xa1/2000-2999/2216/2216/test(15).psd'\n",
      "文件重命名：b'G:/\\xe9\\xa5\\xad\\xe6\\xa1\\xb6\\xe8\\xae\\xbe\\xe8\\xae\\xa1/2000-2999/2216/2216/test(16).psd'\n",
      "文件重命名：b'G:/\\xe9\\xa5\\xad\\xe6\\xa1\\xb6\\xe8\\xae\\xbe\\xe8\\xae\\xa1/2000-2999/2216/2216/test(17).psd'\n",
      "文件重命名：b'G:/\\xe9\\xa5\\xad\\xe6\\xa1\\xb6\\xe8\\xae\\xbe\\xe8\\xae\\xa1/2000-2999/2216/2216/test(18).psd'\n",
      "文件重命名：b'G:/\\xe9\\xa5\\xad\\xe6\\xa1\\xb6\\xe8\\xae\\xbe\\xe8\\xae\\xa1/2000-2999/2216/2216/test(19).psd'\n",
      "文件重命名：b'G:/\\xe9\\xa5\\xad\\xe6\\xa1\\xb6\\xe8\\xae\\xbe\\xe8\\xae\\xa1/2000-2999/2216/2216/test(2).psd'\n",
      "文件重命名：b'G:/\\xe9\\xa5\\xad\\xe6\\xa1\\xb6\\xe8\\xae\\xbe\\xe8\\xae\\xa1/2000-2999/2216/2216/test(20).psd'\n",
      "文件重命名：b'G:/\\xe9\\xa5\\xad\\xe6\\xa1\\xb6\\xe8\\xae\\xbe\\xe8\\xae\\xa1/2000-2999/2216/2216/test(21).psd'\n",
      "文件重命名：b'G:/\\xe9\\xa5\\xad\\xe6\\xa1\\xb6\\xe8\\xae\\xbe\\xe8\\xae\\xa1/2000-2999/2216/2216/test(22).psd'\n",
      "文件重命名：b'G:/\\xe9\\xa5\\xad\\xe6\\xa1\\xb6\\xe8\\xae\\xbe\\xe8\\xae\\xa1/2000-2999/2216/2216/test(23).psd'\n",
      "文件重命名：b'G:/\\xe9\\xa5\\xad\\xe6\\xa1\\xb6\\xe8\\xae\\xbe\\xe8\\xae\\xa1/2000-2999/2216/2216/test(24).psd'\n",
      "文件重命名：b'G:/\\xe9\\xa5\\xad\\xe6\\xa1\\xb6\\xe8\\xae\\xbe\\xe8\\xae\\xa1/2000-2999/2216/2216/test(25).psd'\n",
      "文件重命名：b'G:/\\xe9\\xa5\\xad\\xe6\\xa1\\xb6\\xe8\\xae\\xbe\\xe8\\xae\\xa1/2000-2999/2216/2216/test(26).psd'\n",
      "文件重命名：b'G:/\\xe9\\xa5\\xad\\xe6\\xa1\\xb6\\xe8\\xae\\xbe\\xe8\\xae\\xa1/2000-2999/2216/2216/test(27).psd'\n",
      "文件重命名：b'G:/\\xe9\\xa5\\xad\\xe6\\xa1\\xb6\\xe8\\xae\\xbe\\xe8\\xae\\xa1/2000-2999/2216/2216/test(28).psd'\n",
      "文件重命名：b'G:/\\xe9\\xa5\\xad\\xe6\\xa1\\xb6\\xe8\\xae\\xbe\\xe8\\xae\\xa1/2000-2999/2216/2216/test(29).psd'\n",
      "文件重命名：b'G:/\\xe9\\xa5\\xad\\xe6\\xa1\\xb6\\xe8\\xae\\xbe\\xe8\\xae\\xa1/2000-2999/2216/2216/test(3).psd'\n",
      "文件重命名：b'G:/\\xe9\\xa5\\xad\\xe6\\xa1\\xb6\\xe8\\xae\\xbe\\xe8\\xae\\xa1/2000-2999/2216/2216/test(30).psd'\n",
      "文件重命名：b'G:/\\xe9\\xa5\\xad\\xe6\\xa1\\xb6\\xe8\\xae\\xbe\\xe8\\xae\\xa1/2000-2999/2216/2216/test(31).psd'\n",
      "文件重命名：b'G:/\\xe9\\xa5\\xad\\xe6\\xa1\\xb6\\xe8\\xae\\xbe\\xe8\\xae\\xa1/2000-2999/2216/2216/test(4).psd'\n",
      "文件重命名：b'G:/\\xe9\\xa5\\xad\\xe6\\xa1\\xb6\\xe8\\xae\\xbe\\xe8\\xae\\xa1/2000-2999/2216/2216/test(5).psd'\n",
      "文件重命名：b'G:/\\xe9\\xa5\\xad\\xe6\\xa1\\xb6\\xe8\\xae\\xbe\\xe8\\xae\\xa1/2000-2999/2216/2216/test(6).psd'\n",
      "文件重命名：b'G:/\\xe9\\xa5\\xad\\xe6\\xa1\\xb6\\xe8\\xae\\xbe\\xe8\\xae\\xa1/2000-2999/2216/2216/test(7).psd'\n",
      "文件重命名：b'G:/\\xe9\\xa5\\xad\\xe6\\xa1\\xb6\\xe8\\xae\\xbe\\xe8\\xae\\xa1/2000-2999/2216/2216/test(8).psd'\n",
      "文件重命名：b'G:/\\xe9\\xa5\\xad\\xe6\\xa1\\xb6\\xe8\\xae\\xbe\\xe8\\xae\\xa1/2000-2999/2216/2216/test(9).psd'\n"
     ]
    },
    {
     "name": "stderr",
     "output_type": "stream",
     "text": [
      "PSD添加广告生成图片:   0%|                                                   | 0/31 [00:00<?, ?it/s]"
     ]
    },
    {
     "name": "stdout",
     "output_type": "stream",
     "text": [
      "\n",
      "\n",
      "处理文件:G:/饭桶设计/2000-2999/2216/2216/饭桶设计(1).psd\n",
      "导出PNG\n",
      "插入广告\n"
     ]
    },
    {
     "name": "stderr",
     "output_type": "stream",
     "text": [
      "PSD添加广告生成图片:   3%|█▍                                         | 1/31 [00:09<04:48,  9.61s/it]"
     ]
    },
    {
     "name": "stdout",
     "output_type": "stream",
     "text": [
      "\n",
      "\n",
      "处理文件:G:/饭桶设计/2000-2999/2216/2216/饭桶设计(2).psd\n",
      "导出PNG\n",
      "插入广告\n"
     ]
    },
    {
     "name": "stderr",
     "output_type": "stream",
     "text": [
      "PSD添加广告生成图片:   6%|██▊                                        | 2/31 [00:32<08:19, 17.23s/it]"
     ]
    },
    {
     "name": "stdout",
     "output_type": "stream",
     "text": [
      "\n",
      "\n",
      "处理文件:G:/饭桶设计/2000-2999/2216/2216/饭桶设计(3).psd\n",
      "导出PNG\n",
      "插入广告\n"
     ]
    },
    {
     "name": "stderr",
     "output_type": "stream",
     "text": [
      "PSD添加广告生成图片:  10%|████▏                                      | 3/31 [01:14<13:20, 28.60s/it]"
     ]
    },
    {
     "name": "stdout",
     "output_type": "stream",
     "text": [
      "\n",
      "\n",
      "处理文件:G:/饭桶设计/2000-2999/2216/2216/饭桶设计(4).psd\n",
      "导出PNG\n",
      "插入广告\n"
     ]
    },
    {
     "name": "stderr",
     "output_type": "stream",
     "text": [
      "PSD添加广告生成图片:  13%|█████▌                                     | 4/31 [01:56<15:19, 34.06s/it]"
     ]
    },
    {
     "name": "stdout",
     "output_type": "stream",
     "text": [
      "\n",
      "\n",
      "处理文件:G:/饭桶设计/2000-2999/2216/2216/饭桶设计(5).psd\n",
      "导出PNG\n",
      "插入广告\n"
     ]
    },
    {
     "name": "stderr",
     "output_type": "stream",
     "text": [
      "PSD添加广告生成图片:  16%|██████▉                                    | 5/31 [02:28<14:23, 33.22s/it]"
     ]
    },
    {
     "name": "stdout",
     "output_type": "stream",
     "text": [
      "\n",
      "\n",
      "处理文件:G:/饭桶设计/2000-2999/2216/2216/饭桶设计(6).psd\n",
      "导出PNG\n",
      "插入广告\n"
     ]
    },
    {
     "name": "stderr",
     "output_type": "stream",
     "text": [
      "PSD添加广告生成图片:  19%|████████▎                                  | 6/31 [02:58<13:24, 32.16s/it]"
     ]
    },
    {
     "name": "stdout",
     "output_type": "stream",
     "text": [
      "\n",
      "\n",
      "处理文件:G:/饭桶设计/2000-2999/2216/2216/饭桶设计(7).psd\n",
      "导出PNG\n",
      "插入广告\n"
     ]
    },
    {
     "name": "stderr",
     "output_type": "stream",
     "text": [
      "PSD添加广告生成图片:  23%|█████████▋                                 | 7/31 [03:19<11:26, 28.60s/it]"
     ]
    },
    {
     "name": "stdout",
     "output_type": "stream",
     "text": [
      "\n",
      "\n",
      "处理文件:G:/饭桶设计/2000-2999/2216/2216/饭桶设计(8).psd\n",
      "导出PNG\n",
      "插入广告\n"
     ]
    },
    {
     "name": "stderr",
     "output_type": "stream",
     "text": [
      "PSD添加广告生成图片:  26%|███████████                                | 8/31 [03:42<10:12, 26.64s/it]"
     ]
    },
    {
     "name": "stdout",
     "output_type": "stream",
     "text": [
      "\n",
      "\n",
      "处理文件:G:/饭桶设计/2000-2999/2216/2216/饭桶设计(9).psd\n",
      "导出PNG\n",
      "插入广告\n"
     ]
    },
    {
     "name": "stderr",
     "output_type": "stream",
     "text": [
      "PSD添加广告生成图片:  29%|████████████▍                              | 9/31 [03:58<08:32, 23.29s/it]"
     ]
    },
    {
     "name": "stdout",
     "output_type": "stream",
     "text": [
      "\n",
      "\n",
      "处理文件:G:/饭桶设计/2000-2999/2216/2216/饭桶设计(10).psd\n",
      "导出PNG\n",
      "插入广告\n"
     ]
    },
    {
     "name": "stderr",
     "output_type": "stream",
     "text": [
      "PSD添加广告生成图片:  32%|█████████████▌                            | 10/31 [04:26<08:42, 24.90s/it]"
     ]
    },
    {
     "name": "stdout",
     "output_type": "stream",
     "text": [
      "\n",
      "\n",
      "处理文件:G:/饭桶设计/2000-2999/2216/2216/饭桶设计(11).psd\n",
      "导出PNG\n",
      "插入广告\n"
     ]
    },
    {
     "name": "stderr",
     "output_type": "stream",
     "text": [
      "PSD添加广告生成图片:  35%|██████████████▉                           | 11/31 [04:40<07:09, 21.50s/it]"
     ]
    },
    {
     "name": "stdout",
     "output_type": "stream",
     "text": [
      "\n",
      "\n",
      "处理文件:G:/饭桶设计/2000-2999/2216/2216/饭桶设计(12).psd\n",
      "导出PNG\n",
      "插入广告\n"
     ]
    },
    {
     "name": "stderr",
     "output_type": "stream",
     "text": [
      "PSD添加广告生成图片:  39%|████████████████▎                         | 12/31 [05:13<07:53, 24.90s/it]"
     ]
    },
    {
     "name": "stdout",
     "output_type": "stream",
     "text": [
      "\n",
      "\n",
      "处理文件:G:/饭桶设计/2000-2999/2216/2216/饭桶设计(13).psd\n",
      "导出PNG\n",
      "插入广告\n"
     ]
    },
    {
     "name": "stderr",
     "output_type": "stream",
     "text": [
      "PSD添加广告生成图片:  42%|█████████████████▌                        | 13/31 [05:53<08:51, 29.52s/it]"
     ]
    },
    {
     "name": "stdout",
     "output_type": "stream",
     "text": [
      "\n",
      "\n",
      "处理文件:G:/饭桶设计/2000-2999/2216/2216/饭桶设计(14).psd\n",
      "导出PNG\n",
      "插入广告\n"
     ]
    },
    {
     "name": "stderr",
     "output_type": "stream",
     "text": [
      "PSD添加广告生成图片:  45%|██████████████████▉                       | 14/31 [06:10<07:20, 25.91s/it]"
     ]
    },
    {
     "name": "stdout",
     "output_type": "stream",
     "text": [
      "\n",
      "\n",
      "处理文件:G:/饭桶设计/2000-2999/2216/2216/饭桶设计(15).psd\n",
      "导出PNG\n",
      "插入广告\n"
     ]
    },
    {
     "name": "stderr",
     "output_type": "stream",
     "text": [
      "PSD添加广告生成图片:  48%|████████████████████▎                     | 15/31 [06:39<07:05, 26.57s/it]"
     ]
    },
    {
     "name": "stdout",
     "output_type": "stream",
     "text": [
      "\n",
      "\n",
      "处理文件:G:/饭桶设计/2000-2999/2216/2216/饭桶设计(16).psd\n",
      "导出PNG\n",
      "插入广告\n"
     ]
    },
    {
     "name": "stderr",
     "output_type": "stream",
     "text": [
      "PSD添加广告生成图片:  52%|█████████████████████▋                    | 16/31 [07:07<06:45, 27.03s/it]"
     ]
    },
    {
     "name": "stdout",
     "output_type": "stream",
     "text": [
      "\n",
      "\n",
      "处理文件:G:/饭桶设计/2000-2999/2216/2216/饭桶设计(17).psd\n",
      "导出PNG\n",
      "插入广告\n"
     ]
    },
    {
     "name": "stderr",
     "output_type": "stream",
     "text": [
      "PSD添加广告生成图片:  55%|███████████████████████                   | 17/31 [07:34<06:19, 27.10s/it]"
     ]
    },
    {
     "name": "stdout",
     "output_type": "stream",
     "text": [
      "\n",
      "\n",
      "处理文件:G:/饭桶设计/2000-2999/2216/2216/饭桶设计(18).psd\n",
      "导出PNG\n",
      "插入广告\n"
     ]
    },
    {
     "name": "stderr",
     "output_type": "stream",
     "text": [
      "PSD添加广告生成图片:  58%|████████████████████████▍                 | 18/31 [07:57<05:37, 25.94s/it]"
     ]
    },
    {
     "name": "stdout",
     "output_type": "stream",
     "text": [
      "\n",
      "\n",
      "处理文件:G:/饭桶设计/2000-2999/2216/2216/饭桶设计(19).psd\n",
      "导出PNG\n",
      "插入广告\n"
     ]
    },
    {
     "name": "stderr",
     "output_type": "stream",
     "text": [
      "PSD添加广告生成图片:  61%|█████████████████████████▋                | 19/31 [08:40<06:12, 31.03s/it]"
     ]
    },
    {
     "name": "stdout",
     "output_type": "stream",
     "text": [
      "\n",
      "\n",
      "处理文件:G:/饭桶设计/2000-2999/2216/2216/饭桶设计(20).psd\n",
      "导出PNG\n",
      "插入广告\n"
     ]
    },
    {
     "name": "stderr",
     "output_type": "stream",
     "text": [
      "PSD添加广告生成图片:  65%|███████████████████████████               | 20/31 [09:04<05:19, 29.01s/it]"
     ]
    },
    {
     "name": "stdout",
     "output_type": "stream",
     "text": [
      "\n",
      "\n",
      "处理文件:G:/饭桶设计/2000-2999/2216/2216/饭桶设计(21).psd\n",
      "导出PNG\n",
      "插入广告\n"
     ]
    },
    {
     "name": "stderr",
     "output_type": "stream",
     "text": [
      "PSD添加广告生成图片:  68%|████████████████████████████▍             | 21/31 [09:43<05:18, 31.83s/it]"
     ]
    },
    {
     "name": "stdout",
     "output_type": "stream",
     "text": [
      "\n",
      "\n",
      "处理文件:G:/饭桶设计/2000-2999/2216/2216/饭桶设计(22).psd\n",
      "导出PNG\n",
      "插入广告\n"
     ]
    },
    {
     "name": "stderr",
     "output_type": "stream",
     "text": [
      "PSD添加广告生成图片:  71%|█████████████████████████████▊            | 22/31 [09:56<03:55, 26.13s/it]"
     ]
    },
    {
     "name": "stdout",
     "output_type": "stream",
     "text": [
      "\n",
      "\n",
      "处理文件:G:/饭桶设计/2000-2999/2216/2216/饭桶设计(23).psd\n",
      "导出PNG\n",
      "插入广告\n"
     ]
    },
    {
     "name": "stderr",
     "output_type": "stream",
     "text": [
      "PSD添加广告生成图片:  74%|███████████████████████████████▏          | 23/31 [10:08<02:55, 21.97s/it]"
     ]
    },
    {
     "name": "stdout",
     "output_type": "stream",
     "text": [
      "\n",
      "\n",
      "处理文件:G:/饭桶设计/2000-2999/2216/2216/饭桶设计(24).psd\n",
      "导出PNG\n",
      "插入广告\n"
     ]
    },
    {
     "name": "stderr",
     "output_type": "stream",
     "text": [
      "PSD添加广告生成图片:  77%|████████████████████████████████▌         | 24/31 [10:37<02:48, 24.14s/it]"
     ]
    },
    {
     "name": "stdout",
     "output_type": "stream",
     "text": [
      "\n",
      "\n",
      "处理文件:G:/饭桶设计/2000-2999/2216/2216/饭桶设计(25).psd\n",
      "导出PNG\n",
      "插入广告\n"
     ]
    },
    {
     "name": "stderr",
     "output_type": "stream",
     "text": [
      "PSD添加广告生成图片:  81%|█████████████████████████████████▊        | 25/31 [11:29<03:15, 32.53s/it]"
     ]
    },
    {
     "name": "stdout",
     "output_type": "stream",
     "text": [
      "\n",
      "\n",
      "处理文件:G:/饭桶设计/2000-2999/2216/2216/饭桶设计(26).psd\n",
      "导出PNG\n",
      "插入广告\n"
     ]
    },
    {
     "name": "stderr",
     "output_type": "stream",
     "text": [
      "PSD添加广告生成图片:  84%|███████████████████████████████████▏      | 26/31 [11:50<02:24, 28.99s/it]"
     ]
    },
    {
     "name": "stdout",
     "output_type": "stream",
     "text": [
      "\n",
      "\n",
      "处理文件:G:/饭桶设计/2000-2999/2216/2216/饭桶设计(27).psd\n",
      "导出PNG\n",
      "插入广告\n"
     ]
    },
    {
     "name": "stderr",
     "output_type": "stream",
     "text": [
      "PSD添加广告生成图片:  87%|████████████████████████████████████▌     | 27/31 [12:03<01:36, 24.09s/it]"
     ]
    },
    {
     "name": "stdout",
     "output_type": "stream",
     "text": [
      "\n",
      "\n",
      "处理文件:G:/饭桶设计/2000-2999/2216/2216/饭桶设计(28).psd\n",
      "导出PNG\n",
      "插入广告\n"
     ]
    },
    {
     "name": "stderr",
     "output_type": "stream",
     "text": [
      "PSD添加广告生成图片:  90%|█████████████████████████████████████▉    | 28/31 [12:23<01:09, 23.11s/it]"
     ]
    },
    {
     "name": "stdout",
     "output_type": "stream",
     "text": [
      "\n",
      "\n",
      "处理文件:G:/饭桶设计/2000-2999/2216/2216/饭桶设计(29).psd\n",
      "导出PNG\n",
      "插入广告\n"
     ]
    },
    {
     "name": "stderr",
     "output_type": "stream",
     "text": [
      "PSD添加广告生成图片:  94%|███████████████████████████████████████▎  | 29/31 [12:39<00:41, 20.88s/it]"
     ]
    },
    {
     "name": "stdout",
     "output_type": "stream",
     "text": [
      "\n",
      "\n",
      "处理文件:G:/饭桶设计/2000-2999/2216/2216/饭桶设计(30).psd\n",
      "导出PNG\n",
      "插入广告\n"
     ]
    },
    {
     "name": "stderr",
     "output_type": "stream",
     "text": [
      "PSD添加广告生成图片:  97%|████████████████████████████████████████▋ | 30/31 [12:55<00:19, 19.30s/it]"
     ]
    },
    {
     "name": "stdout",
     "output_type": "stream",
     "text": [
      "\n",
      "\n",
      "处理文件:G:/饭桶设计/2000-2999/2216/2216/饭桶设计(31).psd\n",
      "导出PNG\n",
      "插入广告\n"
     ]
    },
    {
     "name": "stderr",
     "output_type": "stream",
     "text": [
      "PSD添加广告生成图片: 100%|██████████████████████████████████████████| 31/31 [13:22<00:00, 25.89s/it]\n",
      "AI导出PNG: 0it [00:00, ?it/s]\n",
      "PPT导出PNG: 0it [00:00, ?it/s]\n",
      "复制到制定目录: 100%|██████████████████████████████████████████████| 31/31 [00:00<00:00, 108.15it/s]\n",
      "图片添加水印: 100%|█████████████████████████████████████████████████| 31/31 [00:30<00:00,  1.02it/s]\n",
      "解压ZIP: 100%|██████████████████████████████████████████████████████| 45/45 [00:51<00:00,  1.14s/it]\n",
      "解压RAR: 0it [00:00, ?it/s]\n"
     ]
    },
    {
     "name": "stdout",
     "output_type": "stream",
     "text": [
      "移动到根目录:b'G:/\\xe9\\xa5\\xad\\xe6\\xa1\\xb6\\xe8\\xae\\xbe\\xe8\\xae\\xa1/2000-2999/2217/2217/5101109.psd'\n",
      "移动到根目录:b'G:/\\xe9\\xa5\\xad\\xe6\\xa1\\xb6\\xe8\\xae\\xbe\\xe8\\xae\\xa1/2000-2999/2217/2217/5101179.jpg'\n",
      "移动到根目录:b'G:/\\xe9\\xa5\\xad\\xe6\\xa1\\xb6\\xe8\\xae\\xbe\\xe8\\xae\\xa1/2000-2999/2217/2217/5101184.jpg'\n",
      "移动到根目录:b'G:/\\xe9\\xa5\\xad\\xe6\\xa1\\xb6\\xe8\\xae\\xbe\\xe8\\xae\\xa1/2000-2999/2217/2217/5101189.jpg'\n",
      "移动到根目录:b'G:/\\xe9\\xa5\\xad\\xe6\\xa1\\xb6\\xe8\\xae\\xbe\\xe8\\xae\\xa1/2000-2999/2217/2217/License free.txt'\n",
      "移动到根目录:b'G:/\\xe9\\xa5\\xad\\xe6\\xa1\\xb6\\xe8\\xae\\xbe\\xe8\\xae\\xa1/2000-2999/2217/2217/License premium.txt'\n",
      "移动到根目录:b'G:/\\xe9\\xa5\\xad\\xe6\\xa1\\xb6\\xe8\\xae\\xbe\\xe8\\xae\\xa1/2000-2999/2217/2217/5047850.psd'\n",
      "移动到根目录:b'G:/\\xe9\\xa5\\xad\\xe6\\xa1\\xb6\\xe8\\xae\\xbe\\xe8\\xae\\xa1/2000-2999/2217/2217/5047860.jpg'\n",
      "移动到根目录:b'G:/\\xe9\\xa5\\xad\\xe6\\xa1\\xb6\\xe8\\xae\\xbe\\xe8\\xae\\xa1/2000-2999/2217/2217/5047864.jpg'\n",
      "移动到根目录:b'G:/\\xe9\\xa5\\xad\\xe6\\xa1\\xb6\\xe8\\xae\\xbe\\xe8\\xae\\xa1/2000-2999/2217/2217/5047868.jpg'\n",
      "移动到根目录:b'G:/\\xe9\\xa5\\xad\\xe6\\xa1\\xb6\\xe8\\xae\\xbe\\xe8\\xae\\xa1/2000-2999/2217/2217/License free (1).txt'\n",
      "移动到根目录:b'G:/\\xe9\\xa5\\xad\\xe6\\xa1\\xb6\\xe8\\xae\\xbe\\xe8\\xae\\xa1/2000-2999/2217/2217/License premium (1).txt'\n",
      "移动到根目录:b'G:/\\xe9\\xa5\\xad\\xe6\\xa1\\xb6\\xe8\\xae\\xbe\\xe8\\xae\\xa1/2000-2999/2217/2217/5073435.psd'\n",
      "移动到根目录:b'G:/\\xe9\\xa5\\xad\\xe6\\xa1\\xb6\\xe8\\xae\\xbe\\xe8\\xae\\xa1/2000-2999/2217/2217/5073455.jpg'\n",
      "移动到根目录:b'G:/\\xe9\\xa5\\xad\\xe6\\xa1\\xb6\\xe8\\xae\\xbe\\xe8\\xae\\xa1/2000-2999/2217/2217/5073461.jpg'\n",
      "移动到根目录:b'G:/\\xe9\\xa5\\xad\\xe6\\xa1\\xb6\\xe8\\xae\\xbe\\xe8\\xae\\xa1/2000-2999/2217/2217/5073467.jpg'\n",
      "移动到根目录:b'G:/\\xe9\\xa5\\xad\\xe6\\xa1\\xb6\\xe8\\xae\\xbe\\xe8\\xae\\xa1/2000-2999/2217/2217/License free (2).txt'\n",
      "移动到根目录:b'G:/\\xe9\\xa5\\xad\\xe6\\xa1\\xb6\\xe8\\xae\\xbe\\xe8\\xae\\xa1/2000-2999/2217/2217/License premium (2).txt'\n",
      "移动到根目录:b'G:/\\xe9\\xa5\\xad\\xe6\\xa1\\xb6\\xe8\\xae\\xbe\\xe8\\xae\\xa1/2000-2999/2217/2217/5053098.psd'\n",
      "移动到根目录:b'G:/\\xe9\\xa5\\xad\\xe6\\xa1\\xb6\\xe8\\xae\\xbe\\xe8\\xae\\xa1/2000-2999/2217/2217/5053132.jpg'\n",
      "移动到根目录:b'G:/\\xe9\\xa5\\xad\\xe6\\xa1\\xb6\\xe8\\xae\\xbe\\xe8\\xae\\xa1/2000-2999/2217/2217/5053141.jpg'\n",
      "移动到根目录:b'G:/\\xe9\\xa5\\xad\\xe6\\xa1\\xb6\\xe8\\xae\\xbe\\xe8\\xae\\xa1/2000-2999/2217/2217/5053149.jpg'\n",
      "移动到根目录:b'G:/\\xe9\\xa5\\xad\\xe6\\xa1\\xb6\\xe8\\xae\\xbe\\xe8\\xae\\xa1/2000-2999/2217/2217/License free (3).txt'\n",
      "移动到根目录:b'G:/\\xe9\\xa5\\xad\\xe6\\xa1\\xb6\\xe8\\xae\\xbe\\xe8\\xae\\xa1/2000-2999/2217/2217/License premium (3).txt'\n",
      "移动到根目录:b'G:/\\xe9\\xa5\\xad\\xe6\\xa1\\xb6\\xe8\\xae\\xbe\\xe8\\xae\\xa1/2000-2999/2217/2217/5079055.psd'\n",
      "移动到根目录:b'G:/\\xe9\\xa5\\xad\\xe6\\xa1\\xb6\\xe8\\xae\\xbe\\xe8\\xae\\xa1/2000-2999/2217/2217/5079139.jpg'\n",
      "移动到根目录:b'G:/\\xe9\\xa5\\xad\\xe6\\xa1\\xb6\\xe8\\xae\\xbe\\xe8\\xae\\xa1/2000-2999/2217/2217/5079147.jpg'\n",
      "移动到根目录:b'G:/\\xe9\\xa5\\xad\\xe6\\xa1\\xb6\\xe8\\xae\\xbe\\xe8\\xae\\xa1/2000-2999/2217/2217/5079154.jpg'\n",
      "移动到根目录:b'G:/\\xe9\\xa5\\xad\\xe6\\xa1\\xb6\\xe8\\xae\\xbe\\xe8\\xae\\xa1/2000-2999/2217/2217/License free (4).txt'\n",
      "移动到根目录:b'G:/\\xe9\\xa5\\xad\\xe6\\xa1\\xb6\\xe8\\xae\\xbe\\xe8\\xae\\xa1/2000-2999/2217/2217/License premium (4).txt'\n",
      "移动到根目录:b'G:/\\xe9\\xa5\\xad\\xe6\\xa1\\xb6\\xe8\\xae\\xbe\\xe8\\xae\\xa1/2000-2999/2217/2217/5069043.psd'\n",
      "移动到根目录:b'G:/\\xe9\\xa5\\xad\\xe6\\xa1\\xb6\\xe8\\xae\\xbe\\xe8\\xae\\xa1/2000-2999/2217/2217/5069055.jpg'\n",
      "移动到根目录:b'G:/\\xe9\\xa5\\xad\\xe6\\xa1\\xb6\\xe8\\xae\\xbe\\xe8\\xae\\xa1/2000-2999/2217/2217/5069060.jpg'\n",
      "移动到根目录:b'G:/\\xe9\\xa5\\xad\\xe6\\xa1\\xb6\\xe8\\xae\\xbe\\xe8\\xae\\xa1/2000-2999/2217/2217/5069066.jpg'\n",
      "移动到根目录:b'G:/\\xe9\\xa5\\xad\\xe6\\xa1\\xb6\\xe8\\xae\\xbe\\xe8\\xae\\xa1/2000-2999/2217/2217/License free (5).txt'\n",
      "移动到根目录:b'G:/\\xe9\\xa5\\xad\\xe6\\xa1\\xb6\\xe8\\xae\\xbe\\xe8\\xae\\xa1/2000-2999/2217/2217/License premium (5).txt'\n",
      "移动到根目录:b'G:/\\xe9\\xa5\\xad\\xe6\\xa1\\xb6\\xe8\\xae\\xbe\\xe8\\xae\\xa1/2000-2999/2217/2217/5091946.psd'\n",
      "移动到根目录:b'G:/\\xe9\\xa5\\xad\\xe6\\xa1\\xb6\\xe8\\xae\\xbe\\xe8\\xae\\xa1/2000-2999/2217/2217/5091954.jpg'\n",
      "移动到根目录:b'G:/\\xe9\\xa5\\xad\\xe6\\xa1\\xb6\\xe8\\xae\\xbe\\xe8\\xae\\xa1/2000-2999/2217/2217/5091958.jpg'\n",
      "移动到根目录:b'G:/\\xe9\\xa5\\xad\\xe6\\xa1\\xb6\\xe8\\xae\\xbe\\xe8\\xae\\xa1/2000-2999/2217/2217/5091962.jpg'\n",
      "移动到根目录:b'G:/\\xe9\\xa5\\xad\\xe6\\xa1\\xb6\\xe8\\xae\\xbe\\xe8\\xae\\xa1/2000-2999/2217/2217/License free (6).txt'\n",
      "移动到根目录:b'G:/\\xe9\\xa5\\xad\\xe6\\xa1\\xb6\\xe8\\xae\\xbe\\xe8\\xae\\xa1/2000-2999/2217/2217/License premium (6).txt'\n",
      "移动到根目录:b'G:/\\xe9\\xa5\\xad\\xe6\\xa1\\xb6\\xe8\\xae\\xbe\\xe8\\xae\\xa1/2000-2999/2217/2217/5053086.psd'\n",
      "移动到根目录:b'G:/\\xe9\\xa5\\xad\\xe6\\xa1\\xb6\\xe8\\xae\\xbe\\xe8\\xae\\xa1/2000-2999/2217/2217/5053131.jpg'\n",
      "移动到根目录:b'G:/\\xe9\\xa5\\xad\\xe6\\xa1\\xb6\\xe8\\xae\\xbe\\xe8\\xae\\xa1/2000-2999/2217/2217/5053140.jpg'\n",
      "移动到根目录:b'G:/\\xe9\\xa5\\xad\\xe6\\xa1\\xb6\\xe8\\xae\\xbe\\xe8\\xae\\xa1/2000-2999/2217/2217/5053148.jpg'\n",
      "移动到根目录:b'G:/\\xe9\\xa5\\xad\\xe6\\xa1\\xb6\\xe8\\xae\\xbe\\xe8\\xae\\xa1/2000-2999/2217/2217/License free (7).txt'\n",
      "移动到根目录:b'G:/\\xe9\\xa5\\xad\\xe6\\xa1\\xb6\\xe8\\xae\\xbe\\xe8\\xae\\xa1/2000-2999/2217/2217/License premium (7).txt'\n",
      "移动到根目录:b'G:/\\xe9\\xa5\\xad\\xe6\\xa1\\xb6\\xe8\\xae\\xbe\\xe8\\xae\\xa1/2000-2999/2217/2217/5073449.psd'\n",
      "移动到根目录:b'G:/\\xe9\\xa5\\xad\\xe6\\xa1\\xb6\\xe8\\xae\\xbe\\xe8\\xae\\xa1/2000-2999/2217/2217/5073457.jpg'\n",
      "移动到根目录:b'G:/\\xe9\\xa5\\xad\\xe6\\xa1\\xb6\\xe8\\xae\\xbe\\xe8\\xae\\xa1/2000-2999/2217/2217/5073463.jpg'\n",
      "移动到根目录:b'G:/\\xe9\\xa5\\xad\\xe6\\xa1\\xb6\\xe8\\xae\\xbe\\xe8\\xae\\xa1/2000-2999/2217/2217/5073469.jpg'\n",
      "移动到根目录:b'G:/\\xe9\\xa5\\xad\\xe6\\xa1\\xb6\\xe8\\xae\\xbe\\xe8\\xae\\xa1/2000-2999/2217/2217/License free (8).txt'\n",
      "移动到根目录:b'G:/\\xe9\\xa5\\xad\\xe6\\xa1\\xb6\\xe8\\xae\\xbe\\xe8\\xae\\xa1/2000-2999/2217/2217/License premium (8).txt'\n",
      "移动到根目录:b'G:/\\xe9\\xa5\\xad\\xe6\\xa1\\xb6\\xe8\\xae\\xbe\\xe8\\xae\\xa1/2000-2999/2217/2217/5069068.jpg'\n",
      "移动到根目录:b'G:/\\xe9\\xa5\\xad\\xe6\\xa1\\xb6\\xe8\\xae\\xbe\\xe8\\xae\\xa1/2000-2999/2217/2217/5079539.psd'\n",
      "移动到根目录:b'G:/\\xe9\\xa5\\xad\\xe6\\xa1\\xb6\\xe8\\xae\\xbe\\xe8\\xae\\xa1/2000-2999/2217/2217/5079543.jpg'\n",
      "移动到根目录:b'G:/\\xe9\\xa5\\xad\\xe6\\xa1\\xb6\\xe8\\xae\\xbe\\xe8\\xae\\xa1/2000-2999/2217/2217/5079544.jpg'\n",
      "移动到根目录:b'G:/\\xe9\\xa5\\xad\\xe6\\xa1\\xb6\\xe8\\xae\\xbe\\xe8\\xae\\xa1/2000-2999/2217/2217/License free (9).txt'\n",
      "移动到根目录:b'G:/\\xe9\\xa5\\xad\\xe6\\xa1\\xb6\\xe8\\xae\\xbe\\xe8\\xae\\xa1/2000-2999/2217/2217/License premium (9).txt'\n",
      "移动到根目录:b'G:/\\xe9\\xa5\\xad\\xe6\\xa1\\xb6\\xe8\\xae\\xbe\\xe8\\xae\\xa1/2000-2999/2217/2217/5113554.psd'\n",
      "移动到根目录:b'G:/\\xe9\\xa5\\xad\\xe6\\xa1\\xb6\\xe8\\xae\\xbe\\xe8\\xae\\xa1/2000-2999/2217/2217/5113557.jpg'\n",
      "移动到根目录:b'G:/\\xe9\\xa5\\xad\\xe6\\xa1\\xb6\\xe8\\xae\\xbe\\xe8\\xae\\xa1/2000-2999/2217/2217/5113558.jpg'\n",
      "移动到根目录:b'G:/\\xe9\\xa5\\xad\\xe6\\xa1\\xb6\\xe8\\xae\\xbe\\xe8\\xae\\xa1/2000-2999/2217/2217/5113575.jpg'\n",
      "移动到根目录:b'G:/\\xe9\\xa5\\xad\\xe6\\xa1\\xb6\\xe8\\xae\\xbe\\xe8\\xae\\xa1/2000-2999/2217/2217/License premium (10).txt'\n",
      "移动到根目录:b'G:/\\xe9\\xa5\\xad\\xe6\\xa1\\xb6\\xe8\\xae\\xbe\\xe8\\xae\\xa1/2000-2999/2217/2217/5109050.psd'\n",
      "移动到根目录:b'G:/\\xe9\\xa5\\xad\\xe6\\xa1\\xb6\\xe8\\xae\\xbe\\xe8\\xae\\xa1/2000-2999/2217/2217/5109054.jpg'\n",
      "移动到根目录:b'G:/\\xe9\\xa5\\xad\\xe6\\xa1\\xb6\\xe8\\xae\\xbe\\xe8\\xae\\xa1/2000-2999/2217/2217/5109055.jpg'\n",
      "移动到根目录:b'G:/\\xe9\\xa5\\xad\\xe6\\xa1\\xb6\\xe8\\xae\\xbe\\xe8\\xae\\xa1/2000-2999/2217/2217/5109056.jpg'\n",
      "移动到根目录:b'G:/\\xe9\\xa5\\xad\\xe6\\xa1\\xb6\\xe8\\xae\\xbe\\xe8\\xae\\xa1/2000-2999/2217/2217/License premium (11).txt'\n",
      "移动到根目录:b'G:/\\xe9\\xa5\\xad\\xe6\\xa1\\xb6\\xe8\\xae\\xbe\\xe8\\xae\\xa1/2000-2999/2217/2217/5069069.jpg'\n",
      "移动到根目录:b'G:/\\xe9\\xa5\\xad\\xe6\\xa1\\xb6\\xe8\\xae\\xbe\\xe8\\xae\\xa1/2000-2999/2217/2217/5084774.psd'\n",
      "移动到根目录:b'G:/\\xe9\\xa5\\xad\\xe6\\xa1\\xb6\\xe8\\xae\\xbe\\xe8\\xae\\xa1/2000-2999/2217/2217/5084782.jpg'\n",
      "移动到根目录:b'G:/\\xe9\\xa5\\xad\\xe6\\xa1\\xb6\\xe8\\xae\\xbe\\xe8\\xae\\xa1/2000-2999/2217/2217/5084785.jpg'\n",
      "移动到根目录:b'G:/\\xe9\\xa5\\xad\\xe6\\xa1\\xb6\\xe8\\xae\\xbe\\xe8\\xae\\xa1/2000-2999/2217/2217/License free (10).txt'\n",
      "移动到根目录:b'G:/\\xe9\\xa5\\xad\\xe6\\xa1\\xb6\\xe8\\xae\\xbe\\xe8\\xae\\xa1/2000-2999/2217/2217/License premium (12).txt'\n",
      "移动到根目录:b'G:/\\xe9\\xa5\\xad\\xe6\\xa1\\xb6\\xe8\\xae\\xbe\\xe8\\xae\\xa1/2000-2999/2217/2217/5108839.psd'\n",
      "移动到根目录:b'G:/\\xe9\\xa5\\xad\\xe6\\xa1\\xb6\\xe8\\xae\\xbe\\xe8\\xae\\xa1/2000-2999/2217/2217/5108841.jpg'\n",
      "移动到根目录:b'G:/\\xe9\\xa5\\xad\\xe6\\xa1\\xb6\\xe8\\xae\\xbe\\xe8\\xae\\xa1/2000-2999/2217/2217/5108842.jpg'\n",
      "移动到根目录:b'G:/\\xe9\\xa5\\xad\\xe6\\xa1\\xb6\\xe8\\xae\\xbe\\xe8\\xae\\xa1/2000-2999/2217/2217/5108843.jpg'\n",
      "移动到根目录:b'G:/\\xe9\\xa5\\xad\\xe6\\xa1\\xb6\\xe8\\xae\\xbe\\xe8\\xae\\xa1/2000-2999/2217/2217/License free (11).txt'\n",
      "移动到根目录:b'G:/\\xe9\\xa5\\xad\\xe6\\xa1\\xb6\\xe8\\xae\\xbe\\xe8\\xae\\xa1/2000-2999/2217/2217/License premium (13).txt'\n",
      "移动到根目录:b'G:/\\xe9\\xa5\\xad\\xe6\\xa1\\xb6\\xe8\\xae\\xbe\\xe8\\xae\\xa1/2000-2999/2217/2217/5106613.psd'\n",
      "移动到根目录:b'G:/\\xe9\\xa5\\xad\\xe6\\xa1\\xb6\\xe8\\xae\\xbe\\xe8\\xae\\xa1/2000-2999/2217/2217/5106615.jpg'\n",
      "移动到根目录:b'G:/\\xe9\\xa5\\xad\\xe6\\xa1\\xb6\\xe8\\xae\\xbe\\xe8\\xae\\xa1/2000-2999/2217/2217/5106617.jpg'\n",
      "移动到根目录:b'G:/\\xe9\\xa5\\xad\\xe6\\xa1\\xb6\\xe8\\xae\\xbe\\xe8\\xae\\xa1/2000-2999/2217/2217/5106618.jpg'\n",
      "移动到根目录:b'G:/\\xe9\\xa5\\xad\\xe6\\xa1\\xb6\\xe8\\xae\\xbe\\xe8\\xae\\xa1/2000-2999/2217/2217/License premium (14).txt'\n",
      "移动到根目录:b'G:/\\xe9\\xa5\\xad\\xe6\\xa1\\xb6\\xe8\\xae\\xbe\\xe8\\xae\\xa1/2000-2999/2217/2217/5091947.psd'\n",
      "移动到根目录:b'G:/\\xe9\\xa5\\xad\\xe6\\xa1\\xb6\\xe8\\xae\\xbe\\xe8\\xae\\xa1/2000-2999/2217/2217/5091955.jpg'\n",
      "移动到根目录:b'G:/\\xe9\\xa5\\xad\\xe6\\xa1\\xb6\\xe8\\xae\\xbe\\xe8\\xae\\xa1/2000-2999/2217/2217/5091959.jpg'\n",
      "移动到根目录:b'G:/\\xe9\\xa5\\xad\\xe6\\xa1\\xb6\\xe8\\xae\\xbe\\xe8\\xae\\xa1/2000-2999/2217/2217/5091963.jpg'\n",
      "移动到根目录:b'G:/\\xe9\\xa5\\xad\\xe6\\xa1\\xb6\\xe8\\xae\\xbe\\xe8\\xae\\xa1/2000-2999/2217/2217/License free (12).txt'\n",
      "移动到根目录:b'G:/\\xe9\\xa5\\xad\\xe6\\xa1\\xb6\\xe8\\xae\\xbe\\xe8\\xae\\xa1/2000-2999/2217/2217/License premium (15).txt'\n",
      "移动到根目录:b'G:/\\xe9\\xa5\\xad\\xe6\\xa1\\xb6\\xe8\\xae\\xbe\\xe8\\xae\\xa1/2000-2999/2217/2217/5107707.jpg'\n",
      "移动到根目录:b'G:/\\xe9\\xa5\\xad\\xe6\\xa1\\xb6\\xe8\\xae\\xbe\\xe8\\xae\\xa1/2000-2999/2217/2217/5114507.psd'\n",
      "移动到根目录:b'G:/\\xe9\\xa5\\xad\\xe6\\xa1\\xb6\\xe8\\xae\\xbe\\xe8\\xae\\xa1/2000-2999/2217/2217/5114511.jpg'\n",
      "移动到根目录:b'G:/\\xe9\\xa5\\xad\\xe6\\xa1\\xb6\\xe8\\xae\\xbe\\xe8\\xae\\xa1/2000-2999/2217/2217/5114513.jpg'\n",
      "移动到根目录:b'G:/\\xe9\\xa5\\xad\\xe6\\xa1\\xb6\\xe8\\xae\\xbe\\xe8\\xae\\xa1/2000-2999/2217/2217/License free (13).txt'\n",
      "移动到根目录:b'G:/\\xe9\\xa5\\xad\\xe6\\xa1\\xb6\\xe8\\xae\\xbe\\xe8\\xae\\xa1/2000-2999/2217/2217/License premium (16).txt'\n",
      "移动到根目录:b'G:/\\xe9\\xa5\\xad\\xe6\\xa1\\xb6\\xe8\\xae\\xbe\\xe8\\xae\\xa1/2000-2999/2217/2217/5073454.psd'\n",
      "移动到根目录:b'G:/\\xe9\\xa5\\xad\\xe6\\xa1\\xb6\\xe8\\xae\\xbe\\xe8\\xae\\xa1/2000-2999/2217/2217/5073459.jpg'\n",
      "移动到根目录:b'G:/\\xe9\\xa5\\xad\\xe6\\xa1\\xb6\\xe8\\xae\\xbe\\xe8\\xae\\xa1/2000-2999/2217/2217/5073465.jpg'\n",
      "移动到根目录:b'G:/\\xe9\\xa5\\xad\\xe6\\xa1\\xb6\\xe8\\xae\\xbe\\xe8\\xae\\xa1/2000-2999/2217/2217/5073471.jpg'\n",
      "移动到根目录:b'G:/\\xe9\\xa5\\xad\\xe6\\xa1\\xb6\\xe8\\xae\\xbe\\xe8\\xae\\xa1/2000-2999/2217/2217/License free (14).txt'\n",
      "移动到根目录:b'G:/\\xe9\\xa5\\xad\\xe6\\xa1\\xb6\\xe8\\xae\\xbe\\xe8\\xae\\xa1/2000-2999/2217/2217/License premium (17).txt'\n",
      "移动到根目录:b'G:/\\xe9\\xa5\\xad\\xe6\\xa1\\xb6\\xe8\\xae\\xbe\\xe8\\xae\\xa1/2000-2999/2217/2217/5101122.psd'\n",
      "移动到根目录:b'G:/\\xe9\\xa5\\xad\\xe6\\xa1\\xb6\\xe8\\xae\\xbe\\xe8\\xae\\xa1/2000-2999/2217/2217/5101181.jpg'\n",
      "移动到根目录:b'G:/\\xe9\\xa5\\xad\\xe6\\xa1\\xb6\\xe8\\xae\\xbe\\xe8\\xae\\xa1/2000-2999/2217/2217/5101186.jpg'\n",
      "移动到根目录:b'G:/\\xe9\\xa5\\xad\\xe6\\xa1\\xb6\\xe8\\xae\\xbe\\xe8\\xae\\xa1/2000-2999/2217/2217/5101191.jpg'\n",
      "移动到根目录:b'G:/\\xe9\\xa5\\xad\\xe6\\xa1\\xb6\\xe8\\xae\\xbe\\xe8\\xae\\xa1/2000-2999/2217/2217/License free (15).txt'\n",
      "移动到根目录:b'G:/\\xe9\\xa5\\xad\\xe6\\xa1\\xb6\\xe8\\xae\\xbe\\xe8\\xae\\xa1/2000-2999/2217/2217/License premium (18).txt'\n",
      "移动到根目录:b'G:/\\xe9\\xa5\\xad\\xe6\\xa1\\xb6\\xe8\\xae\\xbe\\xe8\\xae\\xa1/2000-2999/2217/2217/5053122.psd'\n",
      "移动到根目录:b'G:/\\xe9\\xa5\\xad\\xe6\\xa1\\xb6\\xe8\\xae\\xbe\\xe8\\xae\\xa1/2000-2999/2217/2217/5053139.jpg'\n",
      "移动到根目录:b'G:/\\xe9\\xa5\\xad\\xe6\\xa1\\xb6\\xe8\\xae\\xbe\\xe8\\xae\\xa1/2000-2999/2217/2217/5053146.jpg'\n",
      "移动到根目录:b'G:/\\xe9\\xa5\\xad\\xe6\\xa1\\xb6\\xe8\\xae\\xbe\\xe8\\xae\\xa1/2000-2999/2217/2217/5053156.jpg'\n",
      "移动到根目录:b'G:/\\xe9\\xa5\\xad\\xe6\\xa1\\xb6\\xe8\\xae\\xbe\\xe8\\xae\\xa1/2000-2999/2217/2217/License premium (19).txt'\n",
      "移动到根目录:b'G:/\\xe9\\xa5\\xad\\xe6\\xa1\\xb6\\xe8\\xae\\xbe\\xe8\\xae\\xa1/2000-2999/2217/2217/5047870.jpg'\n",
      "移动到根目录:b'G:/\\xe9\\xa5\\xad\\xe6\\xa1\\xb6\\xe8\\xae\\xbe\\xe8\\xae\\xa1/2000-2999/2217/2217/5084424.psd'\n",
      "移动到根目录:b'G:/\\xe9\\xa5\\xad\\xe6\\xa1\\xb6\\xe8\\xae\\xbe\\xe8\\xae\\xa1/2000-2999/2217/2217/5084427.jpg'\n",
      "移动到根目录:b'G:/\\xe9\\xa5\\xad\\xe6\\xa1\\xb6\\xe8\\xae\\xbe\\xe8\\xae\\xa1/2000-2999/2217/2217/5084428.jpg'\n",
      "移动到根目录:b'G:/\\xe9\\xa5\\xad\\xe6\\xa1\\xb6\\xe8\\xae\\xbe\\xe8\\xae\\xa1/2000-2999/2217/2217/License free (16).txt'\n",
      "移动到根目录:b'G:/\\xe9\\xa5\\xad\\xe6\\xa1\\xb6\\xe8\\xae\\xbe\\xe8\\xae\\xa1/2000-2999/2217/2217/License premium (20).txt'\n",
      "移动到根目录:b'G:/\\xe9\\xa5\\xad\\xe6\\xa1\\xb6\\xe8\\xae\\xbe\\xe8\\xae\\xa1/2000-2999/2217/2217/5106828.psd'\n",
      "移动到根目录:b'G:/\\xe9\\xa5\\xad\\xe6\\xa1\\xb6\\xe8\\xae\\xbe\\xe8\\xae\\xa1/2000-2999/2217/2217/5106831.jpg'\n",
      "移动到根目录:b'G:/\\xe9\\xa5\\xad\\xe6\\xa1\\xb6\\xe8\\xae\\xbe\\xe8\\xae\\xa1/2000-2999/2217/2217/5106833.jpg'\n",
      "移动到根目录:b'G:/\\xe9\\xa5\\xad\\xe6\\xa1\\xb6\\xe8\\xae\\xbe\\xe8\\xae\\xa1/2000-2999/2217/2217/5106834.jpg'\n",
      "移动到根目录:b'G:/\\xe9\\xa5\\xad\\xe6\\xa1\\xb6\\xe8\\xae\\xbe\\xe8\\xae\\xa1/2000-2999/2217/2217/License premium (21).txt'\n",
      "移动到根目录:b'G:/\\xe9\\xa5\\xad\\xe6\\xa1\\xb6\\xe8\\xae\\xbe\\xe8\\xae\\xa1/2000-2999/2217/2217/5057973.psd'\n",
      "移动到根目录:b'G:/\\xe9\\xa5\\xad\\xe6\\xa1\\xb6\\xe8\\xae\\xbe\\xe8\\xae\\xa1/2000-2999/2217/2217/5057979.jpg'\n",
      "移动到根目录:b'G:/\\xe9\\xa5\\xad\\xe6\\xa1\\xb6\\xe8\\xae\\xbe\\xe8\\xae\\xa1/2000-2999/2217/2217/5057982.jpg'\n",
      "移动到根目录:b'G:/\\xe9\\xa5\\xad\\xe6\\xa1\\xb6\\xe8\\xae\\xbe\\xe8\\xae\\xa1/2000-2999/2217/2217/5057985.jpg'\n",
      "移动到根目录:b'G:/\\xe9\\xa5\\xad\\xe6\\xa1\\xb6\\xe8\\xae\\xbe\\xe8\\xae\\xa1/2000-2999/2217/2217/License premium (22).txt'\n",
      "移动到根目录:b'G:/\\xe9\\xa5\\xad\\xe6\\xa1\\xb6\\xe8\\xae\\xbe\\xe8\\xae\\xa1/2000-2999/2217/2217/5073429.psd'\n",
      "移动到根目录:b'G:/\\xe9\\xa5\\xad\\xe6\\xa1\\xb6\\xe8\\xae\\xbe\\xe8\\xae\\xa1/2000-2999/2217/2217/5073460.jpg'\n",
      "移动到根目录:b'G:/\\xe9\\xa5\\xad\\xe6\\xa1\\xb6\\xe8\\xae\\xbe\\xe8\\xae\\xa1/2000-2999/2217/2217/5073466.jpg'\n",
      "移动到根目录:b'G:/\\xe9\\xa5\\xad\\xe6\\xa1\\xb6\\xe8\\xae\\xbe\\xe8\\xae\\xa1/2000-2999/2217/2217/5073472.jpg'\n",
      "移动到根目录:b'G:/\\xe9\\xa5\\xad\\xe6\\xa1\\xb6\\xe8\\xae\\xbe\\xe8\\xae\\xa1/2000-2999/2217/2217/License free (17).txt'\n",
      "移动到根目录:b'G:/\\xe9\\xa5\\xad\\xe6\\xa1\\xb6\\xe8\\xae\\xbe\\xe8\\xae\\xa1/2000-2999/2217/2217/License premium (23).txt'\n",
      "移动到根目录:b'G:/\\xe9\\xa5\\xad\\xe6\\xa1\\xb6\\xe8\\xae\\xbe\\xe8\\xae\\xa1/2000-2999/2217/2217/5091948.psd'\n",
      "移动到根目录:b'G:/\\xe9\\xa5\\xad\\xe6\\xa1\\xb6\\xe8\\xae\\xbe\\xe8\\xae\\xa1/2000-2999/2217/2217/5091956.jpg'\n",
      "移动到根目录:b'G:/\\xe9\\xa5\\xad\\xe6\\xa1\\xb6\\xe8\\xae\\xbe\\xe8\\xae\\xa1/2000-2999/2217/2217/5091960.jpg'\n",
      "移动到根目录:b'G:/\\xe9\\xa5\\xad\\xe6\\xa1\\xb6\\xe8\\xae\\xbe\\xe8\\xae\\xa1/2000-2999/2217/2217/5091964.jpg'\n",
      "移动到根目录:b'G:/\\xe9\\xa5\\xad\\xe6\\xa1\\xb6\\xe8\\xae\\xbe\\xe8\\xae\\xa1/2000-2999/2217/2217/License free (18).txt'\n",
      "移动到根目录:b'G:/\\xe9\\xa5\\xad\\xe6\\xa1\\xb6\\xe8\\xae\\xbe\\xe8\\xae\\xa1/2000-2999/2217/2217/License premium (24).txt'\n",
      "移动到根目录:b'G:/\\xe9\\xa5\\xad\\xe6\\xa1\\xb6\\xe8\\xae\\xbe\\xe8\\xae\\xa1/2000-2999/2217/2217/5091949.psd'\n",
      "移动到根目录:b'G:/\\xe9\\xa5\\xad\\xe6\\xa1\\xb6\\xe8\\xae\\xbe\\xe8\\xae\\xa1/2000-2999/2217/2217/5091957.jpg'\n",
      "移动到根目录:b'G:/\\xe9\\xa5\\xad\\xe6\\xa1\\xb6\\xe8\\xae\\xbe\\xe8\\xae\\xa1/2000-2999/2217/2217/5091961.jpg'\n",
      "移动到根目录:b'G:/\\xe9\\xa5\\xad\\xe6\\xa1\\xb6\\xe8\\xae\\xbe\\xe8\\xae\\xa1/2000-2999/2217/2217/5091965.jpg'\n",
      "移动到根目录:b'G:/\\xe9\\xa5\\xad\\xe6\\xa1\\xb6\\xe8\\xae\\xbe\\xe8\\xae\\xa1/2000-2999/2217/2217/License free (19).txt'\n",
      "移动到根目录:b'G:/\\xe9\\xa5\\xad\\xe6\\xa1\\xb6\\xe8\\xae\\xbe\\xe8\\xae\\xa1/2000-2999/2217/2217/License premium (25).txt'\n",
      "移动到根目录:b'G:/\\xe9\\xa5\\xad\\xe6\\xa1\\xb6\\xe8\\xae\\xbe\\xe8\\xae\\xa1/2000-2999/2217/2217/5107115.psd'\n",
      "移动到根目录:b'G:/\\xe9\\xa5\\xad\\xe6\\xa1\\xb6\\xe8\\xae\\xbe\\xe8\\xae\\xa1/2000-2999/2217/2217/5107117.jpg'\n",
      "移动到根目录:b'G:/\\xe9\\xa5\\xad\\xe6\\xa1\\xb6\\xe8\\xae\\xbe\\xe8\\xae\\xa1/2000-2999/2217/2217/5107118.jpg'\n",
      "移动到根目录:b'G:/\\xe9\\xa5\\xad\\xe6\\xa1\\xb6\\xe8\\xae\\xbe\\xe8\\xae\\xa1/2000-2999/2217/2217/5107120.jpg'\n",
      "移动到根目录:b'G:/\\xe9\\xa5\\xad\\xe6\\xa1\\xb6\\xe8\\xae\\xbe\\xe8\\xae\\xa1/2000-2999/2217/2217/License premium (26).txt'\n",
      "移动到根目录:b'G:/\\xe9\\xa5\\xad\\xe6\\xa1\\xb6\\xe8\\xae\\xbe\\xe8\\xae\\xa1/2000-2999/2217/2217/5079113.psd'\n",
      "移动到根目录:b'G:/\\xe9\\xa5\\xad\\xe6\\xa1\\xb6\\xe8\\xae\\xbe\\xe8\\xae\\xa1/2000-2999/2217/2217/5079143.jpg'\n",
      "移动到根目录:b'G:/\\xe9\\xa5\\xad\\xe6\\xa1\\xb6\\xe8\\xae\\xbe\\xe8\\xae\\xa1/2000-2999/2217/2217/5079150.jpg'\n",
      "移动到根目录:b'G:/\\xe9\\xa5\\xad\\xe6\\xa1\\xb6\\xe8\\xae\\xbe\\xe8\\xae\\xa1/2000-2999/2217/2217/5079157.jpg'\n",
      "移动到根目录:b'G:/\\xe9\\xa5\\xad\\xe6\\xa1\\xb6\\xe8\\xae\\xbe\\xe8\\xae\\xa1/2000-2999/2217/2217/License premium (27).txt'\n",
      "移动到根目录:b'G:/\\xe9\\xa5\\xad\\xe6\\xa1\\xb6\\xe8\\xae\\xbe\\xe8\\xae\\xa1/2000-2999/2217/2217/5106183.jpg'\n",
      "移动到根目录:b'G:/\\xe9\\xa5\\xad\\xe6\\xa1\\xb6\\xe8\\xae\\xbe\\xe8\\xae\\xa1/2000-2999/2217/2217/5114293.psd'\n",
      "移动到根目录:b'G:/\\xe9\\xa5\\xad\\xe6\\xa1\\xb6\\xe8\\xae\\xbe\\xe8\\xae\\xa1/2000-2999/2217/2217/5114297.jpg'\n",
      "移动到根目录:b'G:/\\xe9\\xa5\\xad\\xe6\\xa1\\xb6\\xe8\\xae\\xbe\\xe8\\xae\\xa1/2000-2999/2217/2217/5114299.jpg'\n",
      "移动到根目录:b'G:/\\xe9\\xa5\\xad\\xe6\\xa1\\xb6\\xe8\\xae\\xbe\\xe8\\xae\\xa1/2000-2999/2217/2217/License free (20).txt'\n",
      "移动到根目录:b'G:/\\xe9\\xa5\\xad\\xe6\\xa1\\xb6\\xe8\\xae\\xbe\\xe8\\xae\\xa1/2000-2999/2217/2217/License premium (28).txt'\n",
      "移动到根目录:b'G:/\\xe9\\xa5\\xad\\xe6\\xa1\\xb6\\xe8\\xae\\xbe\\xe8\\xae\\xa1/2000-2999/2217/2217/5101148.psd'\n",
      "移动到根目录:b'G:/\\xe9\\xa5\\xad\\xe6\\xa1\\xb6\\xe8\\xae\\xbe\\xe8\\xae\\xa1/2000-2999/2217/2217/5101182.jpg'\n",
      "移动到根目录:b'G:/\\xe9\\xa5\\xad\\xe6\\xa1\\xb6\\xe8\\xae\\xbe\\xe8\\xae\\xa1/2000-2999/2217/2217/5101187.jpg'\n",
      "移动到根目录:b'G:/\\xe9\\xa5\\xad\\xe6\\xa1\\xb6\\xe8\\xae\\xbe\\xe8\\xae\\xa1/2000-2999/2217/2217/5101192.jpg'\n",
      "移动到根目录:b'G:/\\xe9\\xa5\\xad\\xe6\\xa1\\xb6\\xe8\\xae\\xbe\\xe8\\xae\\xa1/2000-2999/2217/2217/License free (21).txt'\n",
      "移动到根目录:b'G:/\\xe9\\xa5\\xad\\xe6\\xa1\\xb6\\xe8\\xae\\xbe\\xe8\\xae\\xa1/2000-2999/2217/2217/License premium (29).txt'\n",
      "移动到根目录:b'G:/\\xe9\\xa5\\xad\\xe6\\xa1\\xb6\\xe8\\xae\\xbe\\xe8\\xae\\xa1/2000-2999/2217/2217/5105770.psd'\n",
      "移动到根目录:b'G:/\\xe9\\xa5\\xad\\xe6\\xa1\\xb6\\xe8\\xae\\xbe\\xe8\\xae\\xa1/2000-2999/2217/2217/5105773.jpg'\n",
      "移动到根目录:b'G:/\\xe9\\xa5\\xad\\xe6\\xa1\\xb6\\xe8\\xae\\xbe\\xe8\\xae\\xa1/2000-2999/2217/2217/5105775.jpg'\n",
      "移动到根目录:b'G:/\\xe9\\xa5\\xad\\xe6\\xa1\\xb6\\xe8\\xae\\xbe\\xe8\\xae\\xa1/2000-2999/2217/2217/5105777.jpg'\n",
      "移动到根目录:b'G:/\\xe9\\xa5\\xad\\xe6\\xa1\\xb6\\xe8\\xae\\xbe\\xe8\\xae\\xa1/2000-2999/2217/2217/License free (22).txt'\n",
      "移动到根目录:b'G:/\\xe9\\xa5\\xad\\xe6\\xa1\\xb6\\xe8\\xae\\xbe\\xe8\\xae\\xa1/2000-2999/2217/2217/License premium (30).txt'\n",
      "移动到根目录:b'G:/\\xe9\\xa5\\xad\\xe6\\xa1\\xb6\\xe8\\xae\\xbe\\xe8\\xae\\xa1/2000-2999/2217/2217/5057972.psd'\n",
      "移动到根目录:b'G:/\\xe9\\xa5\\xad\\xe6\\xa1\\xb6\\xe8\\xae\\xbe\\xe8\\xae\\xa1/2000-2999/2217/2217/5057978.jpg'\n",
      "移动到根目录:b'G:/\\xe9\\xa5\\xad\\xe6\\xa1\\xb6\\xe8\\xae\\xbe\\xe8\\xae\\xa1/2000-2999/2217/2217/5057981.jpg'\n",
      "移动到根目录:b'G:/\\xe9\\xa5\\xad\\xe6\\xa1\\xb6\\xe8\\xae\\xbe\\xe8\\xae\\xa1/2000-2999/2217/2217/5057984.jpg'\n",
      "移动到根目录:b'G:/\\xe9\\xa5\\xad\\xe6\\xa1\\xb6\\xe8\\xae\\xbe\\xe8\\xae\\xa1/2000-2999/2217/2217/License free (23).txt'\n",
      "移动到根目录:b'G:/\\xe9\\xa5\\xad\\xe6\\xa1\\xb6\\xe8\\xae\\xbe\\xe8\\xae\\xa1/2000-2999/2217/2217/License premium (31).txt'\n",
      "移动到根目录:b'G:/\\xe9\\xa5\\xad\\xe6\\xa1\\xb6\\xe8\\xae\\xbe\\xe8\\xae\\xa1/2000-2999/2217/2217/5101178.psd'\n",
      "移动到根目录:b'G:/\\xe9\\xa5\\xad\\xe6\\xa1\\xb6\\xe8\\xae\\xbe\\xe8\\xae\\xa1/2000-2999/2217/2217/5101183.jpg'\n",
      "移动到根目录:b'G:/\\xe9\\xa5\\xad\\xe6\\xa1\\xb6\\xe8\\xae\\xbe\\xe8\\xae\\xa1/2000-2999/2217/2217/5101188.jpg'\n",
      "移动到根目录:b'G:/\\xe9\\xa5\\xad\\xe6\\xa1\\xb6\\xe8\\xae\\xbe\\xe8\\xae\\xa1/2000-2999/2217/2217/5101194.jpg'\n",
      "移动到根目录:b'G:/\\xe9\\xa5\\xad\\xe6\\xa1\\xb6\\xe8\\xae\\xbe\\xe8\\xae\\xa1/2000-2999/2217/2217/License free (24).txt'\n",
      "移动到根目录:b'G:/\\xe9\\xa5\\xad\\xe6\\xa1\\xb6\\xe8\\xae\\xbe\\xe8\\xae\\xa1/2000-2999/2217/2217/License premium (32).txt'\n",
      "移动到根目录:b'G:/\\xe9\\xa5\\xad\\xe6\\xa1\\xb6\\xe8\\xae\\xbe\\xe8\\xae\\xa1/2000-2999/2217/2217/5079137.psd'\n",
      "移动到根目录:b'G:/\\xe9\\xa5\\xad\\xe6\\xa1\\xb6\\xe8\\xae\\xbe\\xe8\\xae\\xa1/2000-2999/2217/2217/5079145.jpg'\n",
      "移动到根目录:b'G:/\\xe9\\xa5\\xad\\xe6\\xa1\\xb6\\xe8\\xae\\xbe\\xe8\\xae\\xa1/2000-2999/2217/2217/5079152.jpg'\n",
      "移动到根目录:b'G:/\\xe9\\xa5\\xad\\xe6\\xa1\\xb6\\xe8\\xae\\xbe\\xe8\\xae\\xa1/2000-2999/2217/2217/5079159.jpg'\n",
      "移动到根目录:b'G:/\\xe9\\xa5\\xad\\xe6\\xa1\\xb6\\xe8\\xae\\xbe\\xe8\\xae\\xa1/2000-2999/2217/2217/License free (25).txt'\n",
      "移动到根目录:b'G:/\\xe9\\xa5\\xad\\xe6\\xa1\\xb6\\xe8\\xae\\xbe\\xe8\\xae\\xa1/2000-2999/2217/2217/License premium (33).txt'\n",
      "移动到根目录:b'G:/\\xe9\\xa5\\xad\\xe6\\xa1\\xb6\\xe8\\xae\\xbe\\xe8\\xae\\xa1/2000-2999/2217/2217/5101115.psd'\n",
      "移动到根目录:b'G:/\\xe9\\xa5\\xad\\xe6\\xa1\\xb6\\xe8\\xae\\xbe\\xe8\\xae\\xa1/2000-2999/2217/2217/5101180.jpg'\n",
      "移动到根目录:b'G:/\\xe9\\xa5\\xad\\xe6\\xa1\\xb6\\xe8\\xae\\xbe\\xe8\\xae\\xa1/2000-2999/2217/2217/5101185.jpg'\n",
      "移动到根目录:b'G:/\\xe9\\xa5\\xad\\xe6\\xa1\\xb6\\xe8\\xae\\xbe\\xe8\\xae\\xa1/2000-2999/2217/2217/5101190.jpg'\n",
      "移动到根目录:b'G:/\\xe9\\xa5\\xad\\xe6\\xa1\\xb6\\xe8\\xae\\xbe\\xe8\\xae\\xa1/2000-2999/2217/2217/License premium (34).txt'\n",
      "移动到根目录:b'G:/\\xe9\\xa5\\xad\\xe6\\xa1\\xb6\\xe8\\xae\\xbe\\xe8\\xae\\xa1/2000-2999/2217/2217/5053154.jpg'\n",
      "移动到根目录:b'G:/\\xe9\\xa5\\xad\\xe6\\xa1\\xb6\\xe8\\xae\\xbe\\xe8\\xae\\xa1/2000-2999/2217/2217/5084561.psd'\n",
      "移动到根目录:b'G:/\\xe9\\xa5\\xad\\xe6\\xa1\\xb6\\xe8\\xae\\xbe\\xe8\\xae\\xa1/2000-2999/2217/2217/5084566.jpg'\n",
      "移动到根目录:b'G:/\\xe9\\xa5\\xad\\xe6\\xa1\\xb6\\xe8\\xae\\xbe\\xe8\\xae\\xa1/2000-2999/2217/2217/5084567.jpg'\n",
      "移动到根目录:b'G:/\\xe9\\xa5\\xad\\xe6\\xa1\\xb6\\xe8\\xae\\xbe\\xe8\\xae\\xa1/2000-2999/2217/2217/License free (26).txt'\n",
      "移动到根目录:b'G:/\\xe9\\xa5\\xad\\xe6\\xa1\\xb6\\xe8\\xae\\xbe\\xe8\\xae\\xa1/2000-2999/2217/2217/License premium (35).txt'\n",
      "移动到根目录:b'G:/\\xe9\\xa5\\xad\\xe6\\xa1\\xb6\\xe8\\xae\\xbe\\xe8\\xae\\xa1/2000-2999/2217/2217/5073458.jpg'\n",
      "移动到根目录:b'G:/\\xe9\\xa5\\xad\\xe6\\xa1\\xb6\\xe8\\xae\\xbe\\xe8\\xae\\xa1/2000-2999/2217/2217/5073464.jpg'\n",
      "移动到根目录:b'G:/\\xe9\\xa5\\xad\\xe6\\xa1\\xb6\\xe8\\xae\\xbe\\xe8\\xae\\xa1/2000-2999/2217/2217/5073470.jpg'\n",
      "移动到根目录:b'G:/\\xe9\\xa5\\xad\\xe6\\xa1\\xb6\\xe8\\xae\\xbe\\xe8\\xae\\xa1/2000-2999/2217/2217/5079072.psd'\n",
      "移动到根目录:b'G:/\\xe9\\xa5\\xad\\xe6\\xa1\\xb6\\xe8\\xae\\xbe\\xe8\\xae\\xa1/2000-2999/2217/2217/License free (27).txt'\n",
      "移动到根目录:b'G:/\\xe9\\xa5\\xad\\xe6\\xa1\\xb6\\xe8\\xae\\xbe\\xe8\\xae\\xa1/2000-2999/2217/2217/License premium (36).txt'\n",
      "移动到根目录:b'G:/\\xe9\\xa5\\xad\\xe6\\xa1\\xb6\\xe8\\xae\\xbe\\xe8\\xae\\xa1/2000-2999/2217/2217/5057983.jpg'\n",
      "移动到根目录:b'G:/\\xe9\\xa5\\xad\\xe6\\xa1\\xb6\\xe8\\xae\\xbe\\xe8\\xae\\xa1/2000-2999/2217/2217/5084695.psd'\n",
      "移动到根目录:b'G:/\\xe9\\xa5\\xad\\xe6\\xa1\\xb6\\xe8\\xae\\xbe\\xe8\\xae\\xa1/2000-2999/2217/2217/5084698.jpg'\n",
      "移动到根目录:b'G:/\\xe9\\xa5\\xad\\xe6\\xa1\\xb6\\xe8\\xae\\xbe\\xe8\\xae\\xa1/2000-2999/2217/2217/5084699.jpg'\n",
      "移动到根目录:b'G:/\\xe9\\xa5\\xad\\xe6\\xa1\\xb6\\xe8\\xae\\xbe\\xe8\\xae\\xa1/2000-2999/2217/2217/License free (28).txt'\n",
      "移动到根目录:b'G:/\\xe9\\xa5\\xad\\xe6\\xa1\\xb6\\xe8\\xae\\xbe\\xe8\\xae\\xa1/2000-2999/2217/2217/License premium (37).txt'\n",
      "移动到根目录:b'G:/\\xe9\\xa5\\xad\\xe6\\xa1\\xb6\\xe8\\xae\\xbe\\xe8\\xae\\xa1/2000-2999/2217/2217/5079096.psd'\n",
      "移动到根目录:b'G:/\\xe9\\xa5\\xad\\xe6\\xa1\\xb6\\xe8\\xae\\xbe\\xe8\\xae\\xa1/2000-2999/2217/2217/5079141.jpg'\n",
      "移动到根目录:b'G:/\\xe9\\xa5\\xad\\xe6\\xa1\\xb6\\xe8\\xae\\xbe\\xe8\\xae\\xa1/2000-2999/2217/2217/5079149.jpg'\n",
      "移动到根目录:b'G:/\\xe9\\xa5\\xad\\xe6\\xa1\\xb6\\xe8\\xae\\xbe\\xe8\\xae\\xa1/2000-2999/2217/2217/5079156.jpg'\n",
      "移动到根目录:b'G:/\\xe9\\xa5\\xad\\xe6\\xa1\\xb6\\xe8\\xae\\xbe\\xe8\\xae\\xa1/2000-2999/2217/2217/License free (29).txt'\n",
      "移动到根目录:b'G:/\\xe9\\xa5\\xad\\xe6\\xa1\\xb6\\xe8\\xae\\xbe\\xe8\\xae\\xa1/2000-2999/2217/2217/License premium (38).txt'\n",
      "移动到根目录:b'G:/\\xe9\\xa5\\xad\\xe6\\xa1\\xb6\\xe8\\xae\\xbe\\xe8\\xae\\xa1/2000-2999/2217/2217/5085214.psd'\n",
      "移动到根目录:b'G:/\\xe9\\xa5\\xad\\xe6\\xa1\\xb6\\xe8\\xae\\xbe\\xe8\\xae\\xa1/2000-2999/2217/2217/5085216.jpg'\n",
      "移动到根目录:b'G:/\\xe9\\xa5\\xad\\xe6\\xa1\\xb6\\xe8\\xae\\xbe\\xe8\\xae\\xa1/2000-2999/2217/2217/5085217.jpg'\n",
      "移动到根目录:b'G:/\\xe9\\xa5\\xad\\xe6\\xa1\\xb6\\xe8\\xae\\xbe\\xe8\\xae\\xa1/2000-2999/2217/2217/5085218.jpg'\n",
      "移动到根目录:b'G:/\\xe9\\xa5\\xad\\xe6\\xa1\\xb6\\xe8\\xae\\xbe\\xe8\\xae\\xa1/2000-2999/2217/2217/License free (30).txt'\n",
      "移动到根目录:b'G:/\\xe9\\xa5\\xad\\xe6\\xa1\\xb6\\xe8\\xae\\xbe\\xe8\\xae\\xa1/2000-2999/2217/2217/License premium (39).txt'\n",
      "移动到根目录:b'G:/\\xe9\\xa5\\xad\\xe6\\xa1\\xb6\\xe8\\xae\\xbe\\xe8\\xae\\xa1/2000-2999/2217/2217/5053093.psd'\n",
      "移动到根目录:b'G:/\\xe9\\xa5\\xad\\xe6\\xa1\\xb6\\xe8\\xae\\xbe\\xe8\\xae\\xa1/2000-2999/2217/2217/5053138.jpg'\n",
      "移动到根目录:b'G:/\\xe9\\xa5\\xad\\xe6\\xa1\\xb6\\xe8\\xae\\xbe\\xe8\\xae\\xa1/2000-2999/2217/2217/5053145.jpg'\n",
      "移动到根目录:b'G:/\\xe9\\xa5\\xad\\xe6\\xa1\\xb6\\xe8\\xae\\xbe\\xe8\\xae\\xa1/2000-2999/2217/2217/5053155.jpg'\n",
      "移动到根目录:b'G:/\\xe9\\xa5\\xad\\xe6\\xa1\\xb6\\xe8\\xae\\xbe\\xe8\\xae\\xa1/2000-2999/2217/2217/License free (31).txt'\n",
      "移动到根目录:b'G:/\\xe9\\xa5\\xad\\xe6\\xa1\\xb6\\xe8\\xae\\xbe\\xe8\\xae\\xa1/2000-2999/2217/2217/License premium (40).txt'\n",
      "移动到根目录:b'G:/\\xe9\\xa5\\xad\\xe6\\xa1\\xb6\\xe8\\xae\\xbe\\xe8\\xae\\xa1/2000-2999/2217/2217/5073468.jpg'\n",
      "移动到根目录:b'G:/\\xe9\\xa5\\xad\\xe6\\xa1\\xb6\\xe8\\xae\\xbe\\xe8\\xae\\xa1/2000-2999/2217/2217/5084032.psd'\n",
      "移动到根目录:b'G:/\\xe9\\xa5\\xad\\xe6\\xa1\\xb6\\xe8\\xae\\xbe\\xe8\\xae\\xa1/2000-2999/2217/2217/5084036.jpg'\n",
      "移动到根目录:b'G:/\\xe9\\xa5\\xad\\xe6\\xa1\\xb6\\xe8\\xae\\xbe\\xe8\\xae\\xa1/2000-2999/2217/2217/5084038.jpg'\n",
      "移动到根目录:b'G:/\\xe9\\xa5\\xad\\xe6\\xa1\\xb6\\xe8\\xae\\xbe\\xe8\\xae\\xa1/2000-2999/2217/2217/License free (32).txt'\n",
      "移动到根目录:b'G:/\\xe9\\xa5\\xad\\xe6\\xa1\\xb6\\xe8\\xae\\xbe\\xe8\\xae\\xa1/2000-2999/2217/2217/License premium (41).txt'\n",
      "移动到根目录:b'G:/\\xe9\\xa5\\xad\\xe6\\xa1\\xb6\\xe8\\xae\\xbe\\xe8\\xae\\xa1/2000-2999/2217/2217/5053099.psd'\n",
      "移动到根目录:b'G:/\\xe9\\xa5\\xad\\xe6\\xa1\\xb6\\xe8\\xae\\xbe\\xe8\\xae\\xa1/2000-2999/2217/2217/5053133.jpg'\n",
      "移动到根目录:b'G:/\\xe9\\xa5\\xad\\xe6\\xa1\\xb6\\xe8\\xae\\xbe\\xe8\\xae\\xa1/2000-2999/2217/2217/5053142.jpg'\n",
      "移动到根目录:b'G:/\\xe9\\xa5\\xad\\xe6\\xa1\\xb6\\xe8\\xae\\xbe\\xe8\\xae\\xa1/2000-2999/2217/2217/5053150.jpg'\n",
      "移动到根目录:b'G:/\\xe9\\xa5\\xad\\xe6\\xa1\\xb6\\xe8\\xae\\xbe\\xe8\\xae\\xa1/2000-2999/2217/2217/License free (33).txt'\n",
      "移动到根目录:b'G:/\\xe9\\xa5\\xad\\xe6\\xa1\\xb6\\xe8\\xae\\xbe\\xe8\\xae\\xa1/2000-2999/2217/2217/License premium (42).txt'\n",
      "移动到根目录:b'G:/\\xe9\\xa5\\xad\\xe6\\xa1\\xb6\\xe8\\xae\\xbe\\xe8\\xae\\xa1/2000-2999/2217/2217/5053151.jpg'\n",
      "移动到根目录:b'G:/\\xe9\\xa5\\xad\\xe6\\xa1\\xb6\\xe8\\xae\\xbe\\xe8\\xae\\xa1/2000-2999/2217/2217/5079227.psd'\n",
      "移动到根目录:b'G:/\\xe9\\xa5\\xad\\xe6\\xa1\\xb6\\xe8\\xae\\xbe\\xe8\\xae\\xa1/2000-2999/2217/2217/5079231.jpg'\n",
      "移动到根目录:b'G:/\\xe9\\xa5\\xad\\xe6\\xa1\\xb6\\xe8\\xae\\xbe\\xe8\\xae\\xa1/2000-2999/2217/2217/5079232.jpg'\n",
      "移动到根目录:b'G:/\\xe9\\xa5\\xad\\xe6\\xa1\\xb6\\xe8\\xae\\xbe\\xe8\\xae\\xa1/2000-2999/2217/2217/License free (34).txt'\n",
      "移动到根目录:b'G:/\\xe9\\xa5\\xad\\xe6\\xa1\\xb6\\xe8\\xae\\xbe\\xe8\\xae\\xa1/2000-2999/2217/2217/License premium (43).txt'\n",
      "移动到根目录:b'G:/\\xe9\\xa5\\xad\\xe6\\xa1\\xb6\\xe8\\xae\\xbe\\xe8\\xae\\xa1/2000-2999/2217/2217/5069044.psd'\n",
      "移动到根目录:b'G:/\\xe9\\xa5\\xad\\xe6\\xa1\\xb6\\xe8\\xae\\xbe\\xe8\\xae\\xa1/2000-2999/2217/2217/5069056.jpg'\n",
      "移动到根目录:b'G:/\\xe9\\xa5\\xad\\xe6\\xa1\\xb6\\xe8\\xae\\xbe\\xe8\\xae\\xa1/2000-2999/2217/2217/5069061.jpg'\n",
      "移动到根目录:b'G:/\\xe9\\xa5\\xad\\xe6\\xa1\\xb6\\xe8\\xae\\xbe\\xe8\\xae\\xa1/2000-2999/2217/2217/5069067.jpg'\n",
      "移动到根目录:b'G:/\\xe9\\xa5\\xad\\xe6\\xa1\\xb6\\xe8\\xae\\xbe\\xe8\\xae\\xa1/2000-2999/2217/2217/License free (35).txt'\n",
      "移动到根目录:b'G:/\\xe9\\xa5\\xad\\xe6\\xa1\\xb6\\xe8\\xae\\xbe\\xe8\\xae\\xa1/2000-2999/2217/2217/License premium (44).txt'\n",
      "删除多余文件夹：G:\\饭桶设计\\2000-2999\\2217\\2217\\sticker-roll-mock-up\n",
      "删除多余文件夹：G:\\饭桶设计\\2000-2999\\2217\\2217\\sticker-roll-mock-up (1)\n",
      "删除多余文件夹：G:\\饭桶设计\\2000-2999\\2217\\2217\\sticker-roll-mock-up (2)\n",
      "删除多余文件夹：G:\\饭桶设计\\2000-2999\\2217\\2217\\sticker-roll-mock-up (3)\n",
      "删除多余文件夹：G:\\饭桶设计\\2000-2999\\2217\\2217\\sticker-roll-mock-up (4)\n",
      "删除多余文件夹：G:\\饭桶设计\\2000-2999\\2217\\2217\\sticker-roll-mock-up (5)\n",
      "删除多余文件夹：G:\\饭桶设计\\2000-2999\\2217\\2217\\sticker-roll-mock-up (6)\n",
      "删除多余文件夹：G:\\饭桶设计\\2000-2999\\2217\\2217\\top-view-sticker-collection\n",
      "删除多余文件夹：G:\\饭桶设计\\2000-2999\\2217\\2217\\top-view-sticker-collection-mock-up\n",
      "删除多余文件夹：G:\\饭桶设计\\2000-2999\\2217\\2217\\top-view-sticker-collection-mock-up (1)\n",
      "删除多余文件夹：G:\\饭桶设计\\2000-2999\\2217\\2217\\top-view-sticker-collection-mock-up (10)\n",
      "删除多余文件夹：G:\\饭桶设计\\2000-2999\\2217\\2217\\top-view-sticker-collection-mock-up (11)\n",
      "删除多余文件夹：G:\\饭桶设计\\2000-2999\\2217\\2217\\top-view-sticker-collection-mock-up (12)\n",
      "删除多余文件夹：G:\\饭桶设计\\2000-2999\\2217\\2217\\top-view-sticker-collection-mock-up (13)\n",
      "删除多余文件夹：G:\\饭桶设计\\2000-2999\\2217\\2217\\top-view-sticker-collection-mock-up (14)\n",
      "删除多余文件夹：G:\\饭桶设计\\2000-2999\\2217\\2217\\top-view-sticker-collection-mock-up (15)\n",
      "删除多余文件夹：G:\\饭桶设计\\2000-2999\\2217\\2217\\top-view-sticker-collection-mock-up (16)\n",
      "删除多余文件夹：G:\\饭桶设计\\2000-2999\\2217\\2217\\top-view-sticker-collection-mock-up (17)\n",
      "删除多余文件夹：G:\\饭桶设计\\2000-2999\\2217\\2217\\top-view-sticker-collection-mock-up (18)\n",
      "删除多余文件夹：G:\\饭桶设计\\2000-2999\\2217\\2217\\top-view-sticker-collection-mock-up (19)\n",
      "删除多余文件夹：G:\\饭桶设计\\2000-2999\\2217\\2217\\top-view-sticker-collection-mock-up (2)\n",
      "删除多余文件夹：G:\\饭桶设计\\2000-2999\\2217\\2217\\top-view-sticker-collection-mock-up (20)\n",
      "删除多余文件夹：G:\\饭桶设计\\2000-2999\\2217\\2217\\top-view-sticker-collection-mock-up (21)\n",
      "删除多余文件夹：G:\\饭桶设计\\2000-2999\\2217\\2217\\top-view-sticker-collection-mock-up (22)\n",
      "删除多余文件夹：G:\\饭桶设计\\2000-2999\\2217\\2217\\top-view-sticker-collection-mock-up (23)\n",
      "删除多余文件夹：G:\\饭桶设计\\2000-2999\\2217\\2217\\top-view-sticker-collection-mock-up (24)\n",
      "删除多余文件夹：G:\\饭桶设计\\2000-2999\\2217\\2217\\top-view-sticker-collection-mock-up (25)\n",
      "删除多余文件夹：G:\\饭桶设计\\2000-2999\\2217\\2217\\top-view-sticker-collection-mock-up (26)\n",
      "删除多余文件夹：G:\\饭桶设计\\2000-2999\\2217\\2217\\top-view-sticker-collection-mock-up (27)\n",
      "删除多余文件夹：G:\\饭桶设计\\2000-2999\\2217\\2217\\top-view-sticker-collection-mock-up (28)\n",
      "删除多余文件夹：G:\\饭桶设计\\2000-2999\\2217\\2217\\top-view-sticker-collection-mock-up (29)\n",
      "删除多余文件夹：G:\\饭桶设计\\2000-2999\\2217\\2217\\top-view-sticker-collection-mock-up (3)\n",
      "删除多余文件夹：G:\\饭桶设计\\2000-2999\\2217\\2217\\top-view-sticker-collection-mock-up (30)\n",
      "删除多余文件夹：G:\\饭桶设计\\2000-2999\\2217\\2217\\top-view-sticker-collection-mock-up (31)\n",
      "删除多余文件夹：G:\\饭桶设计\\2000-2999\\2217\\2217\\top-view-sticker-collection-mock-up (32)\n",
      "删除多余文件夹：G:\\饭桶设计\\2000-2999\\2217\\2217\\top-view-sticker-collection-mock-up (4)\n",
      "删除多余文件夹：G:\\饭桶设计\\2000-2999\\2217\\2217\\top-view-sticker-collection-mock-up (5)\n",
      "删除多余文件夹：G:\\饭桶设计\\2000-2999\\2217\\2217\\top-view-sticker-collection-mock-up (6)\n",
      "删除多余文件夹：G:\\饭桶设计\\2000-2999\\2217\\2217\\top-view-sticker-collection-mock-up (7)\n",
      "删除多余文件夹：G:\\饭桶设计\\2000-2999\\2217\\2217\\top-view-sticker-collection-mock-up (8)\n",
      "删除多余文件夹：G:\\饭桶设计\\2000-2999\\2217\\2217\\top-view-sticker-collection-mock-up (9)\n",
      "删除多余文件夹：G:\\饭桶设计\\2000-2999\\2217\\2217\\top-view-sticker-mock-up\n",
      "删除多余文件夹：G:\\饭桶设计\\2000-2999\\2217\\2217\\top-view-sticker-mock-up (1)\n",
      "删除多余文件夹：G:\\饭桶设计\\2000-2999\\2217\\2217\\top-view-sticker-mock-up (2)\n",
      "删除多余文件夹：G:\\饭桶设计\\2000-2999\\2217\\2217\\top-view-sticker-mock-up (3)\n"
     ]
    },
    {
     "name": "stderr",
     "output_type": "stream",
     "text": [
      "复制到制定目录: 100%|█████████████████████████████████████████████| 135/135 [00:01<00:00, 98.49it/s]\n"
     ]
    },
    {
     "name": "stdout",
     "output_type": "stream",
     "text": [
      "文件重命名：b'G:/\\xe9\\xa5\\xad\\xe6\\xa1\\xb6\\xe8\\xae\\xbe\\xe8\\xae\\xa1/2000-2999/2217/2217/5047850.psd'\n",
      "文件重命名：b'G:/\\xe9\\xa5\\xad\\xe6\\xa1\\xb6\\xe8\\xae\\xbe\\xe8\\xae\\xa1/2000-2999/2217/2217/5053086.psd'\n",
      "文件重命名：b'G:/\\xe9\\xa5\\xad\\xe6\\xa1\\xb6\\xe8\\xae\\xbe\\xe8\\xae\\xa1/2000-2999/2217/2217/5053093.psd'\n",
      "文件重命名：b'G:/\\xe9\\xa5\\xad\\xe6\\xa1\\xb6\\xe8\\xae\\xbe\\xe8\\xae\\xa1/2000-2999/2217/2217/5053098.psd'\n",
      "文件重命名：b'G:/\\xe9\\xa5\\xad\\xe6\\xa1\\xb6\\xe8\\xae\\xbe\\xe8\\xae\\xa1/2000-2999/2217/2217/5053099.psd'\n",
      "文件重命名：b'G:/\\xe9\\xa5\\xad\\xe6\\xa1\\xb6\\xe8\\xae\\xbe\\xe8\\xae\\xa1/2000-2999/2217/2217/5053122.psd'\n",
      "文件重命名：b'G:/\\xe9\\xa5\\xad\\xe6\\xa1\\xb6\\xe8\\xae\\xbe\\xe8\\xae\\xa1/2000-2999/2217/2217/5057972.psd'\n",
      "文件重命名：b'G:/\\xe9\\xa5\\xad\\xe6\\xa1\\xb6\\xe8\\xae\\xbe\\xe8\\xae\\xa1/2000-2999/2217/2217/5057973.psd'\n",
      "文件重命名：b'G:/\\xe9\\xa5\\xad\\xe6\\xa1\\xb6\\xe8\\xae\\xbe\\xe8\\xae\\xa1/2000-2999/2217/2217/5069043.psd'\n",
      "文件重命名：b'G:/\\xe9\\xa5\\xad\\xe6\\xa1\\xb6\\xe8\\xae\\xbe\\xe8\\xae\\xa1/2000-2999/2217/2217/5069044.psd'\n",
      "文件重命名：b'G:/\\xe9\\xa5\\xad\\xe6\\xa1\\xb6\\xe8\\xae\\xbe\\xe8\\xae\\xa1/2000-2999/2217/2217/5073429.psd'\n",
      "文件重命名：b'G:/\\xe9\\xa5\\xad\\xe6\\xa1\\xb6\\xe8\\xae\\xbe\\xe8\\xae\\xa1/2000-2999/2217/2217/5073435.psd'\n",
      "文件重命名：b'G:/\\xe9\\xa5\\xad\\xe6\\xa1\\xb6\\xe8\\xae\\xbe\\xe8\\xae\\xa1/2000-2999/2217/2217/5073449.psd'\n",
      "文件重命名：b'G:/\\xe9\\xa5\\xad\\xe6\\xa1\\xb6\\xe8\\xae\\xbe\\xe8\\xae\\xa1/2000-2999/2217/2217/5073454.psd'\n",
      "文件重命名：b'G:/\\xe9\\xa5\\xad\\xe6\\xa1\\xb6\\xe8\\xae\\xbe\\xe8\\xae\\xa1/2000-2999/2217/2217/5079055.psd'\n",
      "文件重命名：b'G:/\\xe9\\xa5\\xad\\xe6\\xa1\\xb6\\xe8\\xae\\xbe\\xe8\\xae\\xa1/2000-2999/2217/2217/5079072.psd'\n",
      "文件重命名：b'G:/\\xe9\\xa5\\xad\\xe6\\xa1\\xb6\\xe8\\xae\\xbe\\xe8\\xae\\xa1/2000-2999/2217/2217/5079096.psd'\n",
      "文件重命名：b'G:/\\xe9\\xa5\\xad\\xe6\\xa1\\xb6\\xe8\\xae\\xbe\\xe8\\xae\\xa1/2000-2999/2217/2217/5079113.psd'\n",
      "文件重命名：b'G:/\\xe9\\xa5\\xad\\xe6\\xa1\\xb6\\xe8\\xae\\xbe\\xe8\\xae\\xa1/2000-2999/2217/2217/5079137.psd'\n",
      "文件重命名：b'G:/\\xe9\\xa5\\xad\\xe6\\xa1\\xb6\\xe8\\xae\\xbe\\xe8\\xae\\xa1/2000-2999/2217/2217/5079227.psd'\n",
      "文件重命名：b'G:/\\xe9\\xa5\\xad\\xe6\\xa1\\xb6\\xe8\\xae\\xbe\\xe8\\xae\\xa1/2000-2999/2217/2217/5079539.psd'\n",
      "文件重命名：b'G:/\\xe9\\xa5\\xad\\xe6\\xa1\\xb6\\xe8\\xae\\xbe\\xe8\\xae\\xa1/2000-2999/2217/2217/5084032.psd'\n",
      "文件重命名：b'G:/\\xe9\\xa5\\xad\\xe6\\xa1\\xb6\\xe8\\xae\\xbe\\xe8\\xae\\xa1/2000-2999/2217/2217/5084424.psd'\n",
      "文件重命名：b'G:/\\xe9\\xa5\\xad\\xe6\\xa1\\xb6\\xe8\\xae\\xbe\\xe8\\xae\\xa1/2000-2999/2217/2217/5084561.psd'\n",
      "文件重命名：b'G:/\\xe9\\xa5\\xad\\xe6\\xa1\\xb6\\xe8\\xae\\xbe\\xe8\\xae\\xa1/2000-2999/2217/2217/5084695.psd'\n",
      "文件重命名：b'G:/\\xe9\\xa5\\xad\\xe6\\xa1\\xb6\\xe8\\xae\\xbe\\xe8\\xae\\xa1/2000-2999/2217/2217/5084774.psd'\n",
      "文件重命名：b'G:/\\xe9\\xa5\\xad\\xe6\\xa1\\xb6\\xe8\\xae\\xbe\\xe8\\xae\\xa1/2000-2999/2217/2217/5085214.psd'\n",
      "文件重命名：b'G:/\\xe9\\xa5\\xad\\xe6\\xa1\\xb6\\xe8\\xae\\xbe\\xe8\\xae\\xa1/2000-2999/2217/2217/5091946.psd'\n",
      "文件重命名：b'G:/\\xe9\\xa5\\xad\\xe6\\xa1\\xb6\\xe8\\xae\\xbe\\xe8\\xae\\xa1/2000-2999/2217/2217/5091947.psd'\n",
      "文件重命名：b'G:/\\xe9\\xa5\\xad\\xe6\\xa1\\xb6\\xe8\\xae\\xbe\\xe8\\xae\\xa1/2000-2999/2217/2217/5091948.psd'\n",
      "文件重命名：b'G:/\\xe9\\xa5\\xad\\xe6\\xa1\\xb6\\xe8\\xae\\xbe\\xe8\\xae\\xa1/2000-2999/2217/2217/5091949.psd'\n",
      "文件重命名：b'G:/\\xe9\\xa5\\xad\\xe6\\xa1\\xb6\\xe8\\xae\\xbe\\xe8\\xae\\xa1/2000-2999/2217/2217/5101109.psd'\n",
      "文件重命名：b'G:/\\xe9\\xa5\\xad\\xe6\\xa1\\xb6\\xe8\\xae\\xbe\\xe8\\xae\\xa1/2000-2999/2217/2217/5101115.psd'\n",
      "文件重命名：b'G:/\\xe9\\xa5\\xad\\xe6\\xa1\\xb6\\xe8\\xae\\xbe\\xe8\\xae\\xa1/2000-2999/2217/2217/5101122.psd'\n",
      "文件重命名：b'G:/\\xe9\\xa5\\xad\\xe6\\xa1\\xb6\\xe8\\xae\\xbe\\xe8\\xae\\xa1/2000-2999/2217/2217/5101148.psd'\n",
      "文件重命名：b'G:/\\xe9\\xa5\\xad\\xe6\\xa1\\xb6\\xe8\\xae\\xbe\\xe8\\xae\\xa1/2000-2999/2217/2217/5101178.psd'\n",
      "文件重命名：b'G:/\\xe9\\xa5\\xad\\xe6\\xa1\\xb6\\xe8\\xae\\xbe\\xe8\\xae\\xa1/2000-2999/2217/2217/5105770.psd'\n",
      "文件重命名：b'G:/\\xe9\\xa5\\xad\\xe6\\xa1\\xb6\\xe8\\xae\\xbe\\xe8\\xae\\xa1/2000-2999/2217/2217/5106613.psd'\n",
      "文件重命名：b'G:/\\xe9\\xa5\\xad\\xe6\\xa1\\xb6\\xe8\\xae\\xbe\\xe8\\xae\\xa1/2000-2999/2217/2217/5106828.psd'\n",
      "文件重命名：b'G:/\\xe9\\xa5\\xad\\xe6\\xa1\\xb6\\xe8\\xae\\xbe\\xe8\\xae\\xa1/2000-2999/2217/2217/5107115.psd'\n",
      "文件重命名：b'G:/\\xe9\\xa5\\xad\\xe6\\xa1\\xb6\\xe8\\xae\\xbe\\xe8\\xae\\xa1/2000-2999/2217/2217/5108839.psd'\n",
      "文件重命名：b'G:/\\xe9\\xa5\\xad\\xe6\\xa1\\xb6\\xe8\\xae\\xbe\\xe8\\xae\\xa1/2000-2999/2217/2217/5109050.psd'\n",
      "文件重命名：b'G:/\\xe9\\xa5\\xad\\xe6\\xa1\\xb6\\xe8\\xae\\xbe\\xe8\\xae\\xa1/2000-2999/2217/2217/5113554.psd'\n",
      "文件重命名：b'G:/\\xe9\\xa5\\xad\\xe6\\xa1\\xb6\\xe8\\xae\\xbe\\xe8\\xae\\xa1/2000-2999/2217/2217/5114293.psd'\n",
      "文件重命名：b'G:/\\xe9\\xa5\\xad\\xe6\\xa1\\xb6\\xe8\\xae\\xbe\\xe8\\xae\\xa1/2000-2999/2217/2217/5114507.psd'\n",
      "文件重命名：b'G:/\\xe9\\xa5\\xad\\xe6\\xa1\\xb6\\xe8\\xae\\xbe\\xe8\\xae\\xa1/2000-2999/2217/2217/test(1).psd'\n",
      "文件重命名：b'G:/\\xe9\\xa5\\xad\\xe6\\xa1\\xb6\\xe8\\xae\\xbe\\xe8\\xae\\xa1/2000-2999/2217/2217/test(10).psd'\n",
      "文件重命名：b'G:/\\xe9\\xa5\\xad\\xe6\\xa1\\xb6\\xe8\\xae\\xbe\\xe8\\xae\\xa1/2000-2999/2217/2217/test(11).psd'\n",
      "文件重命名：b'G:/\\xe9\\xa5\\xad\\xe6\\xa1\\xb6\\xe8\\xae\\xbe\\xe8\\xae\\xa1/2000-2999/2217/2217/test(12).psd'\n",
      "文件重命名：b'G:/\\xe9\\xa5\\xad\\xe6\\xa1\\xb6\\xe8\\xae\\xbe\\xe8\\xae\\xa1/2000-2999/2217/2217/test(13).psd'\n",
      "文件重命名：b'G:/\\xe9\\xa5\\xad\\xe6\\xa1\\xb6\\xe8\\xae\\xbe\\xe8\\xae\\xa1/2000-2999/2217/2217/test(14).psd'\n",
      "文件重命名：b'G:/\\xe9\\xa5\\xad\\xe6\\xa1\\xb6\\xe8\\xae\\xbe\\xe8\\xae\\xa1/2000-2999/2217/2217/test(15).psd'\n",
      "文件重命名：b'G:/\\xe9\\xa5\\xad\\xe6\\xa1\\xb6\\xe8\\xae\\xbe\\xe8\\xae\\xa1/2000-2999/2217/2217/test(16).psd'\n",
      "文件重命名：b'G:/\\xe9\\xa5\\xad\\xe6\\xa1\\xb6\\xe8\\xae\\xbe\\xe8\\xae\\xa1/2000-2999/2217/2217/test(17).psd'\n",
      "文件重命名：b'G:/\\xe9\\xa5\\xad\\xe6\\xa1\\xb6\\xe8\\xae\\xbe\\xe8\\xae\\xa1/2000-2999/2217/2217/test(18).psd'\n",
      "文件重命名：b'G:/\\xe9\\xa5\\xad\\xe6\\xa1\\xb6\\xe8\\xae\\xbe\\xe8\\xae\\xa1/2000-2999/2217/2217/test(19).psd'\n",
      "文件重命名：b'G:/\\xe9\\xa5\\xad\\xe6\\xa1\\xb6\\xe8\\xae\\xbe\\xe8\\xae\\xa1/2000-2999/2217/2217/test(2).psd'\n",
      "文件重命名：b'G:/\\xe9\\xa5\\xad\\xe6\\xa1\\xb6\\xe8\\xae\\xbe\\xe8\\xae\\xa1/2000-2999/2217/2217/test(20).psd'\n",
      "文件重命名：b'G:/\\xe9\\xa5\\xad\\xe6\\xa1\\xb6\\xe8\\xae\\xbe\\xe8\\xae\\xa1/2000-2999/2217/2217/test(21).psd'\n",
      "文件重命名：b'G:/\\xe9\\xa5\\xad\\xe6\\xa1\\xb6\\xe8\\xae\\xbe\\xe8\\xae\\xa1/2000-2999/2217/2217/test(22).psd'\n",
      "文件重命名：b'G:/\\xe9\\xa5\\xad\\xe6\\xa1\\xb6\\xe8\\xae\\xbe\\xe8\\xae\\xa1/2000-2999/2217/2217/test(23).psd'\n",
      "文件重命名：b'G:/\\xe9\\xa5\\xad\\xe6\\xa1\\xb6\\xe8\\xae\\xbe\\xe8\\xae\\xa1/2000-2999/2217/2217/test(24).psd'\n",
      "文件重命名：b'G:/\\xe9\\xa5\\xad\\xe6\\xa1\\xb6\\xe8\\xae\\xbe\\xe8\\xae\\xa1/2000-2999/2217/2217/test(25).psd'\n",
      "文件重命名：b'G:/\\xe9\\xa5\\xad\\xe6\\xa1\\xb6\\xe8\\xae\\xbe\\xe8\\xae\\xa1/2000-2999/2217/2217/test(26).psd'\n",
      "文件重命名：b'G:/\\xe9\\xa5\\xad\\xe6\\xa1\\xb6\\xe8\\xae\\xbe\\xe8\\xae\\xa1/2000-2999/2217/2217/test(27).psd'\n",
      "文件重命名：b'G:/\\xe9\\xa5\\xad\\xe6\\xa1\\xb6\\xe8\\xae\\xbe\\xe8\\xae\\xa1/2000-2999/2217/2217/test(28).psd'\n",
      "文件重命名：b'G:/\\xe9\\xa5\\xad\\xe6\\xa1\\xb6\\xe8\\xae\\xbe\\xe8\\xae\\xa1/2000-2999/2217/2217/test(29).psd'\n",
      "文件重命名：b'G:/\\xe9\\xa5\\xad\\xe6\\xa1\\xb6\\xe8\\xae\\xbe\\xe8\\xae\\xa1/2000-2999/2217/2217/test(3).psd'\n",
      "文件重命名：b'G:/\\xe9\\xa5\\xad\\xe6\\xa1\\xb6\\xe8\\xae\\xbe\\xe8\\xae\\xa1/2000-2999/2217/2217/test(30).psd'\n",
      "文件重命名：b'G:/\\xe9\\xa5\\xad\\xe6\\xa1\\xb6\\xe8\\xae\\xbe\\xe8\\xae\\xa1/2000-2999/2217/2217/test(31).psd'\n",
      "文件重命名：b'G:/\\xe9\\xa5\\xad\\xe6\\xa1\\xb6\\xe8\\xae\\xbe\\xe8\\xae\\xa1/2000-2999/2217/2217/test(32).psd'\n",
      "文件重命名：b'G:/\\xe9\\xa5\\xad\\xe6\\xa1\\xb6\\xe8\\xae\\xbe\\xe8\\xae\\xa1/2000-2999/2217/2217/test(33).psd'\n",
      "文件重命名：b'G:/\\xe9\\xa5\\xad\\xe6\\xa1\\xb6\\xe8\\xae\\xbe\\xe8\\xae\\xa1/2000-2999/2217/2217/test(34).psd'\n",
      "文件重命名：b'G:/\\xe9\\xa5\\xad\\xe6\\xa1\\xb6\\xe8\\xae\\xbe\\xe8\\xae\\xa1/2000-2999/2217/2217/test(35).psd'\n",
      "文件重命名：b'G:/\\xe9\\xa5\\xad\\xe6\\xa1\\xb6\\xe8\\xae\\xbe\\xe8\\xae\\xa1/2000-2999/2217/2217/test(36).psd'\n",
      "文件重命名：b'G:/\\xe9\\xa5\\xad\\xe6\\xa1\\xb6\\xe8\\xae\\xbe\\xe8\\xae\\xa1/2000-2999/2217/2217/test(37).psd'\n",
      "文件重命名：b'G:/\\xe9\\xa5\\xad\\xe6\\xa1\\xb6\\xe8\\xae\\xbe\\xe8\\xae\\xa1/2000-2999/2217/2217/test(38).psd'\n",
      "文件重命名：b'G:/\\xe9\\xa5\\xad\\xe6\\xa1\\xb6\\xe8\\xae\\xbe\\xe8\\xae\\xa1/2000-2999/2217/2217/test(39).psd'\n",
      "文件重命名：b'G:/\\xe9\\xa5\\xad\\xe6\\xa1\\xb6\\xe8\\xae\\xbe\\xe8\\xae\\xa1/2000-2999/2217/2217/test(4).psd'\n",
      "文件重命名：b'G:/\\xe9\\xa5\\xad\\xe6\\xa1\\xb6\\xe8\\xae\\xbe\\xe8\\xae\\xa1/2000-2999/2217/2217/test(40).psd'\n",
      "文件重命名：b'G:/\\xe9\\xa5\\xad\\xe6\\xa1\\xb6\\xe8\\xae\\xbe\\xe8\\xae\\xa1/2000-2999/2217/2217/test(41).psd'\n",
      "文件重命名：b'G:/\\xe9\\xa5\\xad\\xe6\\xa1\\xb6\\xe8\\xae\\xbe\\xe8\\xae\\xa1/2000-2999/2217/2217/test(42).psd'\n",
      "文件重命名：b'G:/\\xe9\\xa5\\xad\\xe6\\xa1\\xb6\\xe8\\xae\\xbe\\xe8\\xae\\xa1/2000-2999/2217/2217/test(43).psd'\n",
      "文件重命名：b'G:/\\xe9\\xa5\\xad\\xe6\\xa1\\xb6\\xe8\\xae\\xbe\\xe8\\xae\\xa1/2000-2999/2217/2217/test(44).psd'\n",
      "文件重命名：b'G:/\\xe9\\xa5\\xad\\xe6\\xa1\\xb6\\xe8\\xae\\xbe\\xe8\\xae\\xa1/2000-2999/2217/2217/test(45).psd'\n",
      "文件重命名：b'G:/\\xe9\\xa5\\xad\\xe6\\xa1\\xb6\\xe8\\xae\\xbe\\xe8\\xae\\xa1/2000-2999/2217/2217/test(5).psd'\n",
      "文件重命名：b'G:/\\xe9\\xa5\\xad\\xe6\\xa1\\xb6\\xe8\\xae\\xbe\\xe8\\xae\\xa1/2000-2999/2217/2217/test(6).psd'\n",
      "文件重命名：b'G:/\\xe9\\xa5\\xad\\xe6\\xa1\\xb6\\xe8\\xae\\xbe\\xe8\\xae\\xa1/2000-2999/2217/2217/test(7).psd'\n",
      "文件重命名：b'G:/\\xe9\\xa5\\xad\\xe6\\xa1\\xb6\\xe8\\xae\\xbe\\xe8\\xae\\xa1/2000-2999/2217/2217/test(8).psd'\n",
      "文件重命名：b'G:/\\xe9\\xa5\\xad\\xe6\\xa1\\xb6\\xe8\\xae\\xbe\\xe8\\xae\\xa1/2000-2999/2217/2217/test(9).psd'\n"
     ]
    },
    {
     "name": "stderr",
     "output_type": "stream",
     "text": [
      "PSD添加广告生成图片:   0%|                                                   | 0/45 [00:00<?, ?it/s]"
     ]
    },
    {
     "name": "stdout",
     "output_type": "stream",
     "text": [
      "\n",
      "\n",
      "处理文件:G:/饭桶设计/2000-2999/2217/2217/饭桶设计(1).psd\n",
      "导出PNG\n",
      "插入广告\n"
     ]
    },
    {
     "name": "stderr",
     "output_type": "stream",
     "text": [
      "PSD添加广告生成图片:   2%|▉                                          | 1/45 [00:44<32:49, 44.76s/it]"
     ]
    },
    {
     "name": "stdout",
     "output_type": "stream",
     "text": [
      "\n",
      "\n",
      "处理文件:G:/饭桶设计/2000-2999/2217/2217/饭桶设计(2).psd\n",
      "导出PNG\n",
      "插入广告\n"
     ]
    },
    {
     "name": "stderr",
     "output_type": "stream",
     "text": [
      "PSD添加广告生成图片:   4%|█▉                                         | 2/45 [01:27<31:20, 43.73s/it]"
     ]
    },
    {
     "name": "stdout",
     "output_type": "stream",
     "text": [
      "\n",
      "\n",
      "处理文件:G:/饭桶设计/2000-2999/2217/2217/饭桶设计(3).psd\n",
      "导出PNG\n",
      "插入广告\n"
     ]
    },
    {
     "name": "stderr",
     "output_type": "stream",
     "text": [
      "PSD添加广告生成图片:   7%|██▊                                        | 3/45 [02:05<28:39, 40.93s/it]"
     ]
    },
    {
     "name": "stdout",
     "output_type": "stream",
     "text": [
      "\n",
      "\n",
      "处理文件:G:/饭桶设计/2000-2999/2217/2217/饭桶设计(4).psd\n",
      "导出PNG\n",
      "插入广告\n"
     ]
    },
    {
     "name": "stderr",
     "output_type": "stream",
     "text": [
      "PSD添加广告生成图片:   9%|███▊                                       | 4/45 [02:46<28:00, 41.00s/it]"
     ]
    },
    {
     "name": "stdout",
     "output_type": "stream",
     "text": [
      "\n",
      "\n",
      "处理文件:G:/饭桶设计/2000-2999/2217/2217/饭桶设计(5).psd\n",
      "导出PNG\n",
      "插入广告\n"
     ]
    },
    {
     "name": "stderr",
     "output_type": "stream",
     "text": [
      "PSD添加广告生成图片:  11%|████▊                                      | 5/45 [03:27<27:22, 41.07s/it]"
     ]
    },
    {
     "name": "stdout",
     "output_type": "stream",
     "text": [
      "\n",
      "\n",
      "处理文件:G:/饭桶设计/2000-2999/2217/2217/饭桶设计(6).psd\n",
      "导出PNG\n",
      "插入广告\n"
     ]
    },
    {
     "name": "stderr",
     "output_type": "stream",
     "text": [
      "PSD添加广告生成图片:  13%|█████▋                                     | 6/45 [04:05<25:55, 39.88s/it]"
     ]
    },
    {
     "name": "stdout",
     "output_type": "stream",
     "text": [
      "\n",
      "\n",
      "处理文件:G:/饭桶设计/2000-2999/2217/2217/饭桶设计(7).psd\n",
      "导出PNG\n",
      "插入广告\n"
     ]
    },
    {
     "name": "stderr",
     "output_type": "stream",
     "text": [
      "PSD添加广告生成图片:  16%|██████▋                                    | 7/45 [04:53<26:54, 42.50s/it]"
     ]
    },
    {
     "name": "stdout",
     "output_type": "stream",
     "text": [
      "\n",
      "\n",
      "处理文件:G:/饭桶设计/2000-2999/2217/2217/饭桶设计(8).psd\n",
      "导出PNG\n",
      "插入广告\n"
     ]
    },
    {
     "name": "stderr",
     "output_type": "stream",
     "text": [
      "PSD添加广告生成图片:  18%|███████▋                                   | 8/45 [05:27<24:40, 40.01s/it]"
     ]
    },
    {
     "name": "stdout",
     "output_type": "stream",
     "text": [
      "\n",
      "\n",
      "处理文件:G:/饭桶设计/2000-2999/2217/2217/饭桶设计(9).psd\n",
      "导出PNG\n",
      "插入广告\n"
     ]
    },
    {
     "name": "stderr",
     "output_type": "stream",
     "text": [
      "PSD添加广告生成图片:  20%|████████▌                                  | 9/45 [06:10<24:26, 40.75s/it]"
     ]
    },
    {
     "name": "stdout",
     "output_type": "stream",
     "text": [
      "\n",
      "\n",
      "处理文件:G:/饭桶设计/2000-2999/2217/2217/饭桶设计(10).psd\n",
      "导出PNG\n",
      "插入广告\n"
     ]
    },
    {
     "name": "stderr",
     "output_type": "stream",
     "text": [
      "PSD添加广告生成图片:  22%|█████████▎                                | 10/45 [06:48<23:15, 39.87s/it]"
     ]
    },
    {
     "name": "stdout",
     "output_type": "stream",
     "text": [
      "\n",
      "\n",
      "处理文件:G:/饭桶设计/2000-2999/2217/2217/饭桶设计(11).psd\n",
      "导出PNG\n",
      "插入广告\n"
     ]
    },
    {
     "name": "stderr",
     "output_type": "stream",
     "text": [
      "PSD添加广告生成图片:  24%|██████████▎                               | 11/45 [07:28<22:36, 39.90s/it]"
     ]
    },
    {
     "name": "stdout",
     "output_type": "stream",
     "text": [
      "\n",
      "\n",
      "处理文件:G:/饭桶设计/2000-2999/2217/2217/饭桶设计(12).psd\n",
      "导出PNG\n",
      "插入广告\n"
     ]
    },
    {
     "name": "stderr",
     "output_type": "stream",
     "text": [
      "PSD添加广告生成图片:  27%|███████████▏                              | 12/45 [08:28<25:27, 46.29s/it]"
     ]
    },
    {
     "name": "stdout",
     "output_type": "stream",
     "text": [
      "\n",
      "\n",
      "处理文件:G:/饭桶设计/2000-2999/2217/2217/饭桶设计(13).psd\n",
      "导出PNG\n",
      "插入广告\n"
     ]
    },
    {
     "name": "stderr",
     "output_type": "stream",
     "text": [
      "PSD添加广告生成图片:  29%|████████████▏                             | 13/45 [09:18<25:09, 47.16s/it]"
     ]
    },
    {
     "name": "stdout",
     "output_type": "stream",
     "text": [
      "\n",
      "\n",
      "处理文件:G:/饭桶设计/2000-2999/2217/2217/饭桶设计(14).psd\n",
      "导出PNG\n",
      "插入广告\n"
     ]
    },
    {
     "name": "stderr",
     "output_type": "stream",
     "text": [
      "PSD添加广告生成图片:  31%|█████████████                             | 14/45 [10:00<23:38, 45.76s/it]"
     ]
    },
    {
     "name": "stdout",
     "output_type": "stream",
     "text": [
      "\n",
      "\n",
      "处理文件:G:/饭桶设计/2000-2999/2217/2217/饭桶设计(15).psd\n",
      "导出PNG\n",
      "插入广告\n"
     ]
    },
    {
     "name": "stderr",
     "output_type": "stream",
     "text": [
      "PSD添加广告生成图片:  33%|██████████████                            | 15/45 [10:47<23:05, 46.18s/it]"
     ]
    },
    {
     "name": "stdout",
     "output_type": "stream",
     "text": [
      "\n",
      "\n",
      "处理文件:G:/饭桶设计/2000-2999/2217/2217/饭桶设计(16).psd\n",
      "导出PNG\n",
      "插入广告\n"
     ]
    },
    {
     "name": "stderr",
     "output_type": "stream",
     "text": [
      "PSD添加广告生成图片:  36%|██████████████▉                           | 16/45 [11:24<21:00, 43.45s/it]"
     ]
    },
    {
     "name": "stdout",
     "output_type": "stream",
     "text": [
      "\n",
      "\n",
      "处理文件:G:/饭桶设计/2000-2999/2217/2217/饭桶设计(17).psd\n",
      "导出PNG\n",
      "插入广告\n"
     ]
    },
    {
     "name": "stderr",
     "output_type": "stream",
     "text": [
      "PSD添加广告生成图片:  38%|███████████████▊                          | 17/45 [12:07<20:13, 43.33s/it]"
     ]
    },
    {
     "name": "stdout",
     "output_type": "stream",
     "text": [
      "\n",
      "\n",
      "处理文件:G:/饭桶设计/2000-2999/2217/2217/饭桶设计(18).psd\n",
      "导出PNG\n",
      "插入广告\n"
     ]
    },
    {
     "name": "stderr",
     "output_type": "stream",
     "text": [
      "PSD添加广告生成图片:  40%|████████████████▊                         | 18/45 [12:56<20:13, 44.93s/it]"
     ]
    },
    {
     "name": "stdout",
     "output_type": "stream",
     "text": [
      "\n",
      "\n",
      "处理文件:G:/饭桶设计/2000-2999/2217/2217/饭桶设计(19).psd\n",
      "导出PNG\n",
      "插入广告\n"
     ]
    },
    {
     "name": "stderr",
     "output_type": "stream",
     "text": [
      "PSD添加广告生成图片:  42%|█████████████████▋                        | 19/45 [14:02<22:14, 51.31s/it]"
     ]
    },
    {
     "name": "stdout",
     "output_type": "stream",
     "text": [
      "\n",
      "\n",
      "处理文件:G:/饭桶设计/2000-2999/2217/2217/饭桶设计(20).psd\n",
      "导出PNG\n",
      "插入广告\n"
     ]
    },
    {
     "name": "stderr",
     "output_type": "stream",
     "text": [
      "PSD添加广告生成图片:  44%|██████████████████▋                       | 20/45 [14:42<19:53, 47.74s/it]"
     ]
    },
    {
     "name": "stdout",
     "output_type": "stream",
     "text": [
      "\n",
      "\n",
      "处理文件:G:/饭桶设计/2000-2999/2217/2217/饭桶设计(21).psd\n",
      "导出PNG\n",
      "插入广告\n"
     ]
    },
    {
     "name": "stderr",
     "output_type": "stream",
     "text": [
      "PSD添加广告生成图片:  47%|███████████████████▌                      | 21/45 [15:29<19:03, 47.66s/it]"
     ]
    },
    {
     "name": "stdout",
     "output_type": "stream",
     "text": [
      "\n",
      "\n",
      "处理文件:G:/饭桶设计/2000-2999/2217/2217/饭桶设计(22).psd\n",
      "导出PNG\n",
      "插入广告\n"
     ]
    },
    {
     "name": "stderr",
     "output_type": "stream",
     "text": [
      "PSD添加广告生成图片:  49%|████████████████████▌                     | 22/45 [16:15<18:02, 47.07s/it]"
     ]
    },
    {
     "name": "stdout",
     "output_type": "stream",
     "text": [
      "\n",
      "\n",
      "处理文件:G:/饭桶设计/2000-2999/2217/2217/饭桶设计(23).psd\n",
      "导出PNG\n",
      "插入广告\n"
     ]
    },
    {
     "name": "stderr",
     "output_type": "stream",
     "text": [
      "PSD添加广告生成图片:  51%|█████████████████████▍                    | 23/45 [17:22<19:29, 53.14s/it]"
     ]
    },
    {
     "name": "stdout",
     "output_type": "stream",
     "text": [
      "\n",
      "\n",
      "处理文件:G:/饭桶设计/2000-2999/2217/2217/饭桶设计(24).psd\n",
      "导出PNG\n",
      "插入广告\n"
     ]
    },
    {
     "name": "stderr",
     "output_type": "stream",
     "text": [
      "PSD添加广告生成图片:  53%|██████████████████████▍                   | 24/45 [18:07<17:42, 50.61s/it]"
     ]
    },
    {
     "name": "stdout",
     "output_type": "stream",
     "text": [
      "\n",
      "\n",
      "处理文件:G:/饭桶设计/2000-2999/2217/2217/饭桶设计(25).psd\n",
      "导出PNG\n",
      "插入广告\n"
     ]
    },
    {
     "name": "stderr",
     "output_type": "stream",
     "text": [
      "PSD添加广告生成图片:  56%|███████████████████████▎                  | 25/45 [18:53<16:25, 49.28s/it]"
     ]
    },
    {
     "name": "stdout",
     "output_type": "stream",
     "text": [
      "\n",
      "\n",
      "处理文件:G:/饭桶设计/2000-2999/2217/2217/饭桶设计(26).psd\n",
      "导出PNG\n",
      "插入广告\n"
     ]
    },
    {
     "name": "stderr",
     "output_type": "stream",
     "text": [
      "PSD添加广告生成图片:  58%|████████████████████████▎                 | 26/45 [19:38<15:11, 47.99s/it]"
     ]
    },
    {
     "name": "stdout",
     "output_type": "stream",
     "text": [
      "\n",
      "\n",
      "处理文件:G:/饭桶设计/2000-2999/2217/2217/饭桶设计(27).psd\n",
      "导出PNG\n",
      "插入广告\n"
     ]
    },
    {
     "name": "stderr",
     "output_type": "stream",
     "text": [
      "PSD添加广告生成图片:  60%|█████████████████████████▏                | 27/45 [20:17<13:36, 45.35s/it]"
     ]
    },
    {
     "name": "stdout",
     "output_type": "stream",
     "text": [
      "\n",
      "\n",
      "处理文件:G:/饭桶设计/2000-2999/2217/2217/饭桶设计(28).psd\n",
      "导出PNG\n",
      "插入广告\n"
     ]
    },
    {
     "name": "stderr",
     "output_type": "stream",
     "text": [
      "PSD添加广告生成图片:  62%|██████████████████████████▏               | 28/45 [20:58<12:25, 43.86s/it]"
     ]
    },
    {
     "name": "stdout",
     "output_type": "stream",
     "text": [
      "\n",
      "\n",
      "处理文件:G:/饭桶设计/2000-2999/2217/2217/饭桶设计(29).psd\n",
      "导出PNG\n",
      "插入广告\n"
     ]
    },
    {
     "name": "stderr",
     "output_type": "stream",
     "text": [
      "PSD添加广告生成图片:  64%|███████████████████████████               | 29/45 [22:02<13:21, 50.10s/it]"
     ]
    },
    {
     "name": "stdout",
     "output_type": "stream",
     "text": [
      "\n",
      "\n",
      "处理文件:G:/饭桶设计/2000-2999/2217/2217/饭桶设计(30).psd\n",
      "导出PNG\n",
      "插入广告\n"
     ]
    },
    {
     "name": "stderr",
     "output_type": "stream",
     "text": [
      "PSD添加广告生成图片:  67%|████████████████████████████              | 30/45 [23:16<14:15, 57.06s/it]"
     ]
    },
    {
     "name": "stdout",
     "output_type": "stream",
     "text": [
      "\n",
      "\n",
      "处理文件:G:/饭桶设计/2000-2999/2217/2217/饭桶设计(31).psd\n",
      "导出PNG\n",
      "插入广告\n"
     ]
    },
    {
     "name": "stderr",
     "output_type": "stream",
     "text": [
      "PSD添加广告生成图片:  69%|████████████████████████████▉             | 31/45 [24:24<14:07, 60.52s/it]"
     ]
    },
    {
     "name": "stdout",
     "output_type": "stream",
     "text": [
      "\n",
      "\n",
      "处理文件:G:/饭桶设计/2000-2999/2217/2217/饭桶设计(32).psd\n",
      "导出PNG\n",
      "插入广告\n"
     ]
    },
    {
     "name": "stderr",
     "output_type": "stream",
     "text": [
      "PSD添加广告生成图片:  71%|█████████████████████████████▊            | 32/45 [25:28<13:19, 61.46s/it]"
     ]
    },
    {
     "name": "stdout",
     "output_type": "stream",
     "text": [
      "\n",
      "\n",
      "处理文件:G:/饭桶设计/2000-2999/2217/2217/饭桶设计(33).psd\n",
      "导出PNG\n",
      "插入广告\n"
     ]
    },
    {
     "name": "stderr",
     "output_type": "stream",
     "text": [
      "PSD添加广告生成图片:  73%|██████████████████████████████▊           | 33/45 [26:06<10:52, 54.37s/it]"
     ]
    },
    {
     "name": "stdout",
     "output_type": "stream",
     "text": [
      "\n",
      "\n",
      "处理文件:G:/饭桶设计/2000-2999/2217/2217/饭桶设计(34).psd\n",
      "导出PNG\n",
      "插入广告\n"
     ]
    },
    {
     "name": "stderr",
     "output_type": "stream",
     "text": [
      "PSD添加广告生成图片:  76%|███████████████████████████████▋          | 34/45 [26:47<09:14, 50.40s/it]"
     ]
    },
    {
     "name": "stdout",
     "output_type": "stream",
     "text": [
      "\n",
      "\n",
      "处理文件:G:/饭桶设计/2000-2999/2217/2217/饭桶设计(35).psd\n",
      "导出PNG\n",
      "插入广告\n"
     ]
    },
    {
     "name": "stderr",
     "output_type": "stream",
     "text": [
      "PSD添加广告生成图片:  78%|████████████████████████████████▋         | 35/45 [27:57<09:24, 56.44s/it]"
     ]
    },
    {
     "name": "stdout",
     "output_type": "stream",
     "text": [
      "\n",
      "\n",
      "处理文件:G:/饭桶设计/2000-2999/2217/2217/饭桶设计(36).psd\n",
      "导出PNG\n",
      "插入广告\n"
     ]
    },
    {
     "name": "stderr",
     "output_type": "stream",
     "text": [
      "PSD添加广告生成图片:  80%|█████████████████████████████████▌        | 36/45 [28:39<07:48, 52.01s/it]"
     ]
    },
    {
     "name": "stdout",
     "output_type": "stream",
     "text": [
      "\n",
      "\n",
      "处理文件:G:/饭桶设计/2000-2999/2217/2217/饭桶设计(37).psd\n",
      "导出PNG\n",
      "插入广告\n"
     ]
    },
    {
     "name": "stderr",
     "output_type": "stream",
     "text": [
      "PSD添加广告生成图片:  82%|██████████████████████████████████▌       | 37/45 [29:20<06:28, 48.58s/it]"
     ]
    },
    {
     "name": "stdout",
     "output_type": "stream",
     "text": [
      "\n",
      "\n",
      "处理文件:G:/饭桶设计/2000-2999/2217/2217/饭桶设计(38).psd\n",
      "导出PNG\n",
      "插入广告\n"
     ]
    },
    {
     "name": "stderr",
     "output_type": "stream",
     "text": [
      "PSD添加广告生成图片:  84%|███████████████████████████████████▍      | 38/45 [29:55<05:12, 44.63s/it]"
     ]
    },
    {
     "name": "stdout",
     "output_type": "stream",
     "text": [
      "\n",
      "\n",
      "处理文件:G:/饭桶设计/2000-2999/2217/2217/饭桶设计(39).psd\n",
      "导出PNG\n",
      "插入广告\n"
     ]
    },
    {
     "name": "stderr",
     "output_type": "stream",
     "text": [
      "PSD添加广告生成图片:  87%|████████████████████████████████████▍     | 39/45 [31:08<05:18, 53.09s/it]"
     ]
    },
    {
     "name": "stdout",
     "output_type": "stream",
     "text": [
      "\n",
      "\n",
      "处理文件:G:/饭桶设计/2000-2999/2217/2217/饭桶设计(40).psd\n",
      "导出PNG\n",
      "插入广告\n"
     ]
    },
    {
     "name": "stderr",
     "output_type": "stream",
     "text": [
      "PSD添加广告生成图片:  89%|█████████████████████████████████████▎    | 40/45 [32:22<04:57, 59.41s/it]"
     ]
    },
    {
     "name": "stdout",
     "output_type": "stream",
     "text": [
      "\n",
      "\n",
      "处理文件:G:/饭桶设计/2000-2999/2217/2217/饭桶设计(41).psd\n",
      "导出PNG\n",
      "插入广告\n"
     ]
    },
    {
     "name": "stderr",
     "output_type": "stream",
     "text": [
      "PSD添加广告生成图片:  91%|██████████████████████████████████████▎   | 41/45 [33:03<03:35, 53.93s/it]"
     ]
    },
    {
     "name": "stdout",
     "output_type": "stream",
     "text": [
      "\n",
      "\n",
      "处理文件:G:/饭桶设计/2000-2999/2217/2217/饭桶设计(42).psd\n",
      "导出PNG\n",
      "插入广告\n"
     ]
    },
    {
     "name": "stderr",
     "output_type": "stream",
     "text": [
      "PSD添加广告生成图片:  93%|███████████████████████████████████████▏  | 42/45 [33:41<02:27, 49.02s/it]"
     ]
    },
    {
     "name": "stdout",
     "output_type": "stream",
     "text": [
      "\n",
      "\n",
      "处理文件:G:/饭桶设计/2000-2999/2217/2217/饭桶设计(43).psd\n",
      "导出PNG\n",
      "插入广告\n"
     ]
    },
    {
     "name": "stderr",
     "output_type": "stream",
     "text": [
      "PSD添加广告生成图片:  96%|████████████████████████████████████████▏ | 43/45 [34:26<01:35, 47.83s/it]"
     ]
    },
    {
     "name": "stdout",
     "output_type": "stream",
     "text": [
      "\n",
      "\n",
      "处理文件:G:/饭桶设计/2000-2999/2217/2217/饭桶设计(44).psd\n",
      "导出PNG\n",
      "插入广告\n"
     ]
    },
    {
     "name": "stderr",
     "output_type": "stream",
     "text": [
      "PSD添加广告生成图片:  98%|█████████████████████████████████████████ | 44/45 [35:02<00:44, 44.44s/it]"
     ]
    },
    {
     "name": "stdout",
     "output_type": "stream",
     "text": [
      "\n",
      "\n",
      "处理文件:G:/饭桶设计/2000-2999/2217/2217/饭桶设计(45).psd\n",
      "导出PNG\n",
      "插入广告\n"
     ]
    },
    {
     "name": "stderr",
     "output_type": "stream",
     "text": [
      "PSD添加广告生成图片: 100%|██████████████████████████████████████████| 45/45 [35:48<00:00, 47.73s/it]\n",
      "AI导出PNG: 0it [00:00, ?it/s]\n",
      "PPT导出PNG: 0it [00:00, ?it/s]\n",
      "复制到制定目录: 100%|██████████████████████████████████████████████| 45/45 [00:00<00:00, 169.39it/s]\n",
      "图片添加水印: 100%|█████████████████████████████████████████████████| 45/45 [00:36<00:00,  1.25it/s]\n",
      "解压ZIP: 100%|██████████████████████████████████████████████████████| 34/34 [00:37<00:00,  1.10s/it]\n",
      "解压RAR: 0it [00:00, ?it/s]\n"
     ]
    },
    {
     "name": "stdout",
     "output_type": "stream",
     "text": [
      "移动到根目录:b'G:/\\xe9\\xa5\\xad\\xe6\\xa1\\xb6\\xe8\\xae\\xbe\\xe8\\xae\\xa1/2000-2999/2218/2218/6182105.jpg'\n",
      "移动到根目录:b'G:/\\xe9\\xa5\\xad\\xe6\\xa1\\xb6\\xe8\\xae\\xbe\\xe8\\xae\\xa1/2000-2999/2218/2218/6249226.psd'\n",
      "移动到根目录:b'G:/\\xe9\\xa5\\xad\\xe6\\xa1\\xb6\\xe8\\xae\\xbe\\xe8\\xae\\xa1/2000-2999/2218/2218/6249243.jpg'\n",
      "移动到根目录:b'G:/\\xe9\\xa5\\xad\\xe6\\xa1\\xb6\\xe8\\xae\\xbe\\xe8\\xae\\xa1/2000-2999/2218/2218/6186038.jpg'\n",
      "移动到根目录:b'G:/\\xe9\\xa5\\xad\\xe6\\xa1\\xb6\\xe8\\xae\\xbe\\xe8\\xae\\xa1/2000-2999/2218/2218/6242170.jpg'\n",
      "移动到根目录:b'G:/\\xe9\\xa5\\xad\\xe6\\xa1\\xb6\\xe8\\xae\\xbe\\xe8\\xae\\xa1/2000-2999/2218/2218/6242186.psd'\n",
      "移动到根目录:b'G:/\\xe9\\xa5\\xad\\xe6\\xa1\\xb6\\xe8\\xae\\xbe\\xe8\\xae\\xa1/2000-2999/2218/2218/6182125.jpg'\n",
      "移动到根目录:b'G:/\\xe9\\xa5\\xad\\xe6\\xa1\\xb6\\xe8\\xae\\xbe\\xe8\\xae\\xa1/2000-2999/2218/2218/6239586.jpg'\n",
      "移动到根目录:b'G:/\\xe9\\xa5\\xad\\xe6\\xa1\\xb6\\xe8\\xae\\xbe\\xe8\\xae\\xa1/2000-2999/2218/2218/6239595.psd'\n",
      "移动到根目录:b'G:/\\xe9\\xa5\\xad\\xe6\\xa1\\xb6\\xe8\\xae\\xbe\\xe8\\xae\\xa1/2000-2999/2218/2218/6188248.jpg'\n",
      "移动到根目录:b'G:/\\xe9\\xa5\\xad\\xe6\\xa1\\xb6\\xe8\\xae\\xbe\\xe8\\xae\\xa1/2000-2999/2218/2218/6242446.jpg'\n",
      "移动到根目录:b'G:/\\xe9\\xa5\\xad\\xe6\\xa1\\xb6\\xe8\\xae\\xbe\\xe8\\xae\\xa1/2000-2999/2218/2218/6242484.psd'\n",
      "移动到根目录:b'G:/\\xe9\\xa5\\xad\\xe6\\xa1\\xb6\\xe8\\xae\\xbe\\xe8\\xae\\xa1/2000-2999/2218/2218/6184444.jpg'\n",
      "移动到根目录:b'G:/\\xe9\\xa5\\xad\\xe6\\xa1\\xb6\\xe8\\xae\\xbe\\xe8\\xae\\xa1/2000-2999/2218/2218/6239816.jpg'\n",
      "移动到根目录:b'G:/\\xe9\\xa5\\xad\\xe6\\xa1\\xb6\\xe8\\xae\\xbe\\xe8\\xae\\xa1/2000-2999/2218/2218/6239824.psd'\n",
      "移动到根目录:b'G:/\\xe9\\xa5\\xad\\xe6\\xa1\\xb6\\xe8\\xae\\xbe\\xe8\\xae\\xa1/2000-2999/2218/2218/6222025.jpg'\n",
      "移动到根目录:b'G:/\\xe9\\xa5\\xad\\xe6\\xa1\\xb6\\xe8\\xae\\xbe\\xe8\\xae\\xa1/2000-2999/2218/2218/6222043.psd'\n",
      "移动到根目录:b'G:/\\xe9\\xa5\\xad\\xe6\\xa1\\xb6\\xe8\\xae\\xbe\\xe8\\xae\\xa1/2000-2999/2218/2218/6222047.jpg'\n",
      "移动到根目录:b'G:/\\xe9\\xa5\\xad\\xe6\\xa1\\xb6\\xe8\\xae\\xbe\\xe8\\xae\\xa1/2000-2999/2218/2218/6182147.jpg'\n",
      "移动到根目录:b'G:/\\xe9\\xa5\\xad\\xe6\\xa1\\xb6\\xe8\\xae\\xbe\\xe8\\xae\\xa1/2000-2999/2218/2218/6239596.jpg'\n",
      "移动到根目录:b'G:/\\xe9\\xa5\\xad\\xe6\\xa1\\xb6\\xe8\\xae\\xbe\\xe8\\xae\\xa1/2000-2999/2218/2218/6239602.psd'\n",
      "移动到根目录:b'G:/\\xe9\\xa5\\xad\\xe6\\xa1\\xb6\\xe8\\xae\\xbe\\xe8\\xae\\xa1/2000-2999/2218/2218/6188173.jpg'\n",
      "移动到根目录:b'G:/\\xe9\\xa5\\xad\\xe6\\xa1\\xb6\\xe8\\xae\\xbe\\xe8\\xae\\xa1/2000-2999/2218/2218/6248868.jpg'\n",
      "移动到根目录:b'G:/\\xe9\\xa5\\xad\\xe6\\xa1\\xb6\\xe8\\xae\\xbe\\xe8\\xae\\xa1/2000-2999/2218/2218/6248936.psd'\n",
      "移动到根目录:b'G:/\\xe9\\xa5\\xad\\xe6\\xa1\\xb6\\xe8\\xae\\xbe\\xe8\\xae\\xa1/2000-2999/2218/2218/6187925.jpg'\n",
      "移动到根目录:b'G:/\\xe9\\xa5\\xad\\xe6\\xa1\\xb6\\xe8\\xae\\xbe\\xe8\\xae\\xa1/2000-2999/2218/2218/6242187.jpg'\n",
      "移动到根目录:b'G:/\\xe9\\xa5\\xad\\xe6\\xa1\\xb6\\xe8\\xae\\xbe\\xe8\\xae\\xa1/2000-2999/2218/2218/6242268.psd'\n",
      "移动到根目录:b'G:/\\xe9\\xa5\\xad\\xe6\\xa1\\xb6\\xe8\\xae\\xbe\\xe8\\xae\\xa1/2000-2999/2218/2218/6189229.jpg'\n",
      "移动到根目录:b'G:/\\xe9\\xa5\\xad\\xe6\\xa1\\xb6\\xe8\\xae\\xbe\\xe8\\xae\\xa1/2000-2999/2218/2218/6249095.jpg'\n",
      "移动到根目录:b'G:/\\xe9\\xa5\\xad\\xe6\\xa1\\xb6\\xe8\\xae\\xbe\\xe8\\xae\\xa1/2000-2999/2218/2218/6249124.psd'\n",
      "移动到根目录:b'G:/\\xe9\\xa5\\xad\\xe6\\xa1\\xb6\\xe8\\xae\\xbe\\xe8\\xae\\xa1/2000-2999/2218/2218/6189153.jpg'\n",
      "移动到根目录:b'G:/\\xe9\\xa5\\xad\\xe6\\xa1\\xb6\\xe8\\xae\\xbe\\xe8\\xae\\xa1/2000-2999/2218/2218/6249072.jpg'\n",
      "移动到根目录:b'G:/\\xe9\\xa5\\xad\\xe6\\xa1\\xb6\\xe8\\xae\\xbe\\xe8\\xae\\xa1/2000-2999/2218/2218/6249094.psd'\n",
      "移动到根目录:b'G:/\\xe9\\xa5\\xad\\xe6\\xa1\\xb6\\xe8\\xae\\xbe\\xe8\\xae\\xa1/2000-2999/2218/2218/6239852.jpg'\n",
      "移动到根目录:b'G:/\\xe9\\xa5\\xad\\xe6\\xa1\\xb6\\xe8\\xae\\xbe\\xe8\\xae\\xa1/2000-2999/2218/2218/6239853.jpg'\n",
      "移动到根目录:b'G:/\\xe9\\xa5\\xad\\xe6\\xa1\\xb6\\xe8\\xae\\xbe\\xe8\\xae\\xa1/2000-2999/2218/2218/6239975.psd'\n",
      "移动到根目录:b'G:/\\xe9\\xa5\\xad\\xe6\\xa1\\xb6\\xe8\\xae\\xbe\\xe8\\xae\\xa1/2000-2999/2218/2218/6182750.jpg'\n",
      "移动到根目录:b'G:/\\xe9\\xa5\\xad\\xe6\\xa1\\xb6\\xe8\\xae\\xbe\\xe8\\xae\\xa1/2000-2999/2218/2218/6239660.jpg'\n",
      "移动到根目录:b'G:/\\xe9\\xa5\\xad\\xe6\\xa1\\xb6\\xe8\\xae\\xbe\\xe8\\xae\\xa1/2000-2999/2218/2218/6239674.psd'\n",
      "移动到根目录:b'G:/\\xe9\\xa5\\xad\\xe6\\xa1\\xb6\\xe8\\xae\\xbe\\xe8\\xae\\xa1/2000-2999/2218/2218/6197887.jpg'\n",
      "移动到根目录:b'G:/\\xe9\\xa5\\xad\\xe6\\xa1\\xb6\\xe8\\xae\\xbe\\xe8\\xae\\xa1/2000-2999/2218/2218/6242292.jpg'\n",
      "移动到根目录:b'G:/\\xe9\\xa5\\xad\\xe6\\xa1\\xb6\\xe8\\xae\\xbe\\xe8\\xae\\xa1/2000-2999/2218/2218/6242307.psd'\n",
      "移动到根目录:b'G:/\\xe9\\xa5\\xad\\xe6\\xa1\\xb6\\xe8\\xae\\xbe\\xe8\\xae\\xa1/2000-2999/2218/2218/6183110.jpg'\n",
      "移动到根目录:b'G:/\\xe9\\xa5\\xad\\xe6\\xa1\\xb6\\xe8\\xae\\xbe\\xe8\\xae\\xa1/2000-2999/2218/2218/6239675.jpg'\n",
      "移动到根目录:b'G:/\\xe9\\xa5\\xad\\xe6\\xa1\\xb6\\xe8\\xae\\xbe\\xe8\\xae\\xa1/2000-2999/2218/2218/6239683.psd'\n",
      "移动到根目录:b'G:/\\xe9\\xa5\\xad\\xe6\\xa1\\xb6\\xe8\\xae\\xbe\\xe8\\xae\\xa1/2000-2999/2218/2218/6185732.jpg'\n",
      "移动到根目录:b'G:/\\xe9\\xa5\\xad\\xe6\\xa1\\xb6\\xe8\\xae\\xbe\\xe8\\xae\\xa1/2000-2999/2218/2218/6242137.psd'\n",
      "移动到根目录:b'G:/\\xe9\\xa5\\xad\\xe6\\xa1\\xb6\\xe8\\xae\\xbe\\xe8\\xae\\xa1/2000-2999/2218/2218/6242280.jpg'\n",
      "移动到根目录:b'G:/\\xe9\\xa5\\xad\\xe6\\xa1\\xb6\\xe8\\xae\\xbe\\xe8\\xae\\xa1/2000-2999/2218/2218/6239882.jpg'\n",
      "移动到根目录:b'G:/\\xe9\\xa5\\xad\\xe6\\xa1\\xb6\\xe8\\xae\\xbe\\xe8\\xae\\xa1/2000-2999/2218/2218/6239887.jpg'\n",
      "移动到根目录:b'G:/\\xe9\\xa5\\xad\\xe6\\xa1\\xb6\\xe8\\xae\\xbe\\xe8\\xae\\xa1/2000-2999/2218/2218/6239962.psd'\n",
      "移动到根目录:b'G:/\\xe9\\xa5\\xad\\xe6\\xa1\\xb6\\xe8\\xae\\xbe\\xe8\\xae\\xa1/2000-2999/2218/2218/6185695.jpg'\n",
      "移动到根目录:b'G:/\\xe9\\xa5\\xad\\xe6\\xa1\\xb6\\xe8\\xae\\xbe\\xe8\\xae\\xa1/2000-2999/2218/2218/6242073.jpg'\n",
      "移动到根目录:b'G:/\\xe9\\xa5\\xad\\xe6\\xa1\\xb6\\xe8\\xae\\xbe\\xe8\\xae\\xa1/2000-2999/2218/2218/6242248.psd'\n",
      "移动到根目录:b'G:/\\xe9\\xa5\\xad\\xe6\\xa1\\xb6\\xe8\\xae\\xbe\\xe8\\xae\\xa1/2000-2999/2218/2218/6183346.jpg'\n",
      "移动到根目录:b'G:/\\xe9\\xa5\\xad\\xe6\\xa1\\xb6\\xe8\\xae\\xbe\\xe8\\xae\\xa1/2000-2999/2218/2218/6239814.jpg'\n",
      "移动到根目录:b'G:/\\xe9\\xa5\\xad\\xe6\\xa1\\xb6\\xe8\\xae\\xbe\\xe8\\xae\\xa1/2000-2999/2218/2218/6239815.psd'\n",
      "移动到根目录:b'G:/\\xe9\\xa5\\xad\\xe6\\xa1\\xb6\\xe8\\xae\\xbe\\xe8\\xae\\xa1/2000-2999/2218/2218/6251685.jpg'\n",
      "移动到根目录:b'G:/\\xe9\\xa5\\xad\\xe6\\xa1\\xb6\\xe8\\xae\\xbe\\xe8\\xae\\xa1/2000-2999/2218/2218/6251687.jpg'\n",
      "移动到根目录:b'G:/\\xe9\\xa5\\xad\\xe6\\xa1\\xb6\\xe8\\xae\\xbe\\xe8\\xae\\xa1/2000-2999/2218/2218/6251709.psd'\n",
      "移动到根目录:b'G:/\\xe9\\xa5\\xad\\xe6\\xa1\\xb6\\xe8\\xae\\xbe\\xe8\\xae\\xa1/2000-2999/2218/2218/6188133.jpg'\n",
      "移动到根目录:b'G:/\\xe9\\xa5\\xad\\xe6\\xa1\\xb6\\xe8\\xae\\xbe\\xe8\\xae\\xa1/2000-2999/2218/2218/6242367.jpg'\n",
      "移动到根目录:b'G:/\\xe9\\xa5\\xad\\xe6\\xa1\\xb6\\xe8\\xae\\xbe\\xe8\\xae\\xa1/2000-2999/2218/2218/6242385.psd'\n",
      "移动到根目录:b'G:/\\xe9\\xa5\\xad\\xe6\\xa1\\xb6\\xe8\\xae\\xbe\\xe8\\xae\\xa1/2000-2999/2218/2218/6185477.jpg'\n",
      "移动到根目录:b'G:/\\xe9\\xa5\\xad\\xe6\\xa1\\xb6\\xe8\\xae\\xbe\\xe8\\xae\\xa1/2000-2999/2218/2218/6239842.jpg'\n",
      "移动到根目录:b'G:/\\xe9\\xa5\\xad\\xe6\\xa1\\xb6\\xe8\\xae\\xbe\\xe8\\xae\\xa1/2000-2999/2218/2218/6239847.psd'\n",
      "移动到根目录:b'G:/\\xe9\\xa5\\xad\\xe6\\xa1\\xb6\\xe8\\xae\\xbe\\xe8\\xae\\xa1/2000-2999/2218/2218/6185872.jpg'\n",
      "移动到根目录:b'G:/\\xe9\\xa5\\xad\\xe6\\xa1\\xb6\\xe8\\xae\\xbe\\xe8\\xae\\xa1/2000-2999/2218/2218/6242138.jpg'\n",
      "移动到根目录:b'G:/\\xe9\\xa5\\xad\\xe6\\xa1\\xb6\\xe8\\xae\\xbe\\xe8\\xae\\xa1/2000-2999/2218/2218/6242169.psd'\n",
      "移动到根目录:b'G:/\\xe9\\xa5\\xad\\xe6\\xa1\\xb6\\xe8\\xae\\xbe\\xe8\\xae\\xa1/2000-2999/2218/2218/6189330.jpg'\n",
      "移动到根目录:b'G:/\\xe9\\xa5\\xad\\xe6\\xa1\\xb6\\xe8\\xae\\xbe\\xe8\\xae\\xa1/2000-2999/2218/2218/6249125.jpg'\n",
      "移动到根目录:b'G:/\\xe9\\xa5\\xad\\xe6\\xa1\\xb6\\xe8\\xae\\xbe\\xe8\\xae\\xa1/2000-2999/2218/2218/6249159.psd'\n",
      "移动到根目录:b'G:/\\xe9\\xa5\\xad\\xe6\\xa1\\xb6\\xe8\\xae\\xbe\\xe8\\xae\\xa1/2000-2999/2218/2218/6221994.jpg'\n",
      "移动到根目录:b'G:/\\xe9\\xa5\\xad\\xe6\\xa1\\xb6\\xe8\\xae\\xbe\\xe8\\xae\\xa1/2000-2999/2218/2218/6222024.psd'\n",
      "移动到根目录:b'G:/\\xe9\\xa5\\xad\\xe6\\xa1\\xb6\\xe8\\xae\\xbe\\xe8\\xae\\xa1/2000-2999/2218/2218/6222045.jpg'\n",
      "移动到根目录:b'G:/\\xe9\\xa5\\xad\\xe6\\xa1\\xb6\\xe8\\xae\\xbe\\xe8\\xae\\xa1/2000-2999/2218/2218/6249251.jpg'\n",
      "移动到根目录:b'G:/\\xe9\\xa5\\xad\\xe6\\xa1\\xb6\\xe8\\xae\\xbe\\xe8\\xae\\xa1/2000-2999/2218/2218/6249254.jpg'\n",
      "移动到根目录:b'G:/\\xe9\\xa5\\xad\\xe6\\xa1\\xb6\\xe8\\xae\\xbe\\xe8\\xae\\xa1/2000-2999/2218/2218/6249276.psd'\n",
      "移动到根目录:b'G:/\\xe9\\xa5\\xad\\xe6\\xa1\\xb6\\xe8\\xae\\xbe\\xe8\\xae\\xa1/2000-2999/2218/2218/6249241.psd'\n",
      "移动到根目录:b'G:/\\xe9\\xa5\\xad\\xe6\\xa1\\xb6\\xe8\\xae\\xbe\\xe8\\xae\\xa1/2000-2999/2218/2218/6249244.jpg'\n",
      "移动到根目录:b'G:/\\xe9\\xa5\\xad\\xe6\\xa1\\xb6\\xe8\\xae\\xbe\\xe8\\xae\\xa1/2000-2999/2218/2218/6249245.jpg'\n",
      "移动到根目录:b'G:/\\xe9\\xa5\\xad\\xe6\\xa1\\xb6\\xe8\\xae\\xbe\\xe8\\xae\\xa1/2000-2999/2218/2218/6181922.jpg'\n",
      "移动到根目录:b'G:/\\xe9\\xa5\\xad\\xe6\\xa1\\xb6\\xe8\\xae\\xbe\\xe8\\xae\\xa1/2000-2999/2218/2218/6239569.psd'\n",
      "移动到根目录:b'G:/\\xe9\\xa5\\xad\\xe6\\xa1\\xb6\\xe8\\xae\\xbe\\xe8\\xae\\xa1/2000-2999/2218/2218/6239697.jpg'\n",
      "移动到根目录:b'G:/\\xe9\\xa5\\xad\\xe6\\xa1\\xb6\\xe8\\xae\\xbe\\xe8\\xae\\xa1/2000-2999/2218/2218/6183262.jpg'\n",
      "移动到根目录:b'G:/\\xe9\\xa5\\xad\\xe6\\xa1\\xb6\\xe8\\xae\\xbe\\xe8\\xae\\xa1/2000-2999/2218/2218/6239684.jpg'\n",
      "移动到根目录:b'G:/\\xe9\\xa5\\xad\\xe6\\xa1\\xb6\\xe8\\xae\\xbe\\xe8\\xae\\xa1/2000-2999/2218/2218/6239694.psd'\n",
      "移动到根目录:b'G:/\\xe9\\xa5\\xad\\xe6\\xa1\\xb6\\xe8\\xae\\xbe\\xe8\\xae\\xa1/2000-2999/2218/2218/6183174.jpg'\n",
      "移动到根目录:b'G:/\\xe9\\xa5\\xad\\xe6\\xa1\\xb6\\xe8\\xae\\xbe\\xe8\\xae\\xa1/2000-2999/2218/2218/6239750.jpg'\n",
      "移动到根目录:b'G:/\\xe9\\xa5\\xad\\xe6\\xa1\\xb6\\xe8\\xae\\xbe\\xe8\\xae\\xa1/2000-2999/2218/2218/6239810.psd'\n",
      "移动到根目录:b'G:/\\xe9\\xa5\\xad\\xe6\\xa1\\xb6\\xe8\\xae\\xbe\\xe8\\xae\\xa1/2000-2999/2218/2218/6181962.jpg'\n",
      "移动到根目录:b'G:/\\xe9\\xa5\\xad\\xe6\\xa1\\xb6\\xe8\\xae\\xbe\\xe8\\xae\\xa1/2000-2999/2218/2218/6239571.jpg'\n",
      "移动到根目录:b'G:/\\xe9\\xa5\\xad\\xe6\\xa1\\xb6\\xe8\\xae\\xbe\\xe8\\xae\\xa1/2000-2999/2218/2218/6239582.psd'\n",
      "移动到根目录:b'G:/\\xe9\\xa5\\xad\\xe6\\xa1\\xb6\\xe8\\xae\\xbe\\xe8\\xae\\xa1/2000-2999/2218/2218/6189005.jpg'\n",
      "移动到根目录:b'G:/\\xe9\\xa5\\xad\\xe6\\xa1\\xb6\\xe8\\xae\\xbe\\xe8\\xae\\xa1/2000-2999/2218/2218/6249047.jpg'\n",
      "移动到根目录:b'G:/\\xe9\\xa5\\xad\\xe6\\xa1\\xb6\\xe8\\xae\\xbe\\xe8\\xae\\xa1/2000-2999/2218/2218/6249069.psd'\n",
      "移动到根目录:b'G:/\\xe9\\xa5\\xad\\xe6\\xa1\\xb6\\xe8\\xae\\xbe\\xe8\\xae\\xa1/2000-2999/2218/2218/6182705.jpg'\n",
      "移动到根目录:b'G:/\\xe9\\xa5\\xad\\xe6\\xa1\\xb6\\xe8\\xae\\xbe\\xe8\\xae\\xa1/2000-2999/2218/2218/6239648.jpg'\n",
      "移动到根目录:b'G:/\\xe9\\xa5\\xad\\xe6\\xa1\\xb6\\xe8\\xae\\xbe\\xe8\\xae\\xa1/2000-2999/2218/2218/6239658.psd'\n",
      "移动到根目录:b'G:/\\xe9\\xa5\\xad\\xe6\\xa1\\xb6\\xe8\\xae\\xbe\\xe8\\xae\\xa1/2000-2999/2218/2218/6271851.jpg'\n",
      "移动到根目录:b'G:/\\xe9\\xa5\\xad\\xe6\\xa1\\xb6\\xe8\\xae\\xbe\\xe8\\xae\\xa1/2000-2999/2218/2218/6271956.psd'\n",
      "移动到根目录:b'G:/\\xe9\\xa5\\xad\\xe6\\xa1\\xb6\\xe8\\xae\\xbe\\xe8\\xae\\xa1/2000-2999/2218/2218/6271957.jpg'\n",
      "删除多余文件夹：G:\\饭桶设计\\2000-2999\\2218\\2218\\urban-street-billboards-design-mockup\n",
      "删除多余文件夹：G:\\饭桶设计\\2000-2999\\2218\\2218\\urban-street-billboards-design-mockup (1)\n",
      "删除多余文件夹：G:\\饭桶设计\\2000-2999\\2218\\2218\\urban-street-billboards-design-mockup (10)\n",
      "删除多余文件夹：G:\\饭桶设计\\2000-2999\\2218\\2218\\urban-street-billboards-design-mockup (11)\n",
      "删除多余文件夹：G:\\饭桶设计\\2000-2999\\2218\\2218\\urban-street-billboards-design-mockup (12)\n",
      "删除多余文件夹：G:\\饭桶设计\\2000-2999\\2218\\2218\\urban-street-billboards-design-mockup (13)\n",
      "删除多余文件夹：G:\\饭桶设计\\2000-2999\\2218\\2218\\urban-street-billboards-design-mockup (14)\n",
      "删除多余文件夹：G:\\饭桶设计\\2000-2999\\2218\\2218\\urban-street-billboards-design-mockup (15)\n",
      "删除多余文件夹：G:\\饭桶设计\\2000-2999\\2218\\2218\\urban-street-billboards-design-mockup (16)\n",
      "删除多余文件夹：G:\\饭桶设计\\2000-2999\\2218\\2218\\urban-street-billboards-design-mockup (17)\n",
      "删除多余文件夹：G:\\饭桶设计\\2000-2999\\2218\\2218\\urban-street-billboards-design-mockup (18)\n",
      "删除多余文件夹：G:\\饭桶设计\\2000-2999\\2218\\2218\\urban-street-billboards-design-mockup (19)\n",
      "删除多余文件夹：G:\\饭桶设计\\2000-2999\\2218\\2218\\urban-street-billboards-design-mockup (2)\n",
      "删除多余文件夹：G:\\饭桶设计\\2000-2999\\2218\\2218\\urban-street-billboards-design-mockup (20)\n",
      "删除多余文件夹：G:\\饭桶设计\\2000-2999\\2218\\2218\\urban-street-billboards-design-mockup (21)\n",
      "删除多余文件夹：G:\\饭桶设计\\2000-2999\\2218\\2218\\urban-street-billboards-design-mockup (22)\n",
      "删除多余文件夹：G:\\饭桶设计\\2000-2999\\2218\\2218\\urban-street-billboards-design-mockup (23)\n",
      "删除多余文件夹：G:\\饭桶设计\\2000-2999\\2218\\2218\\urban-street-billboards-design-mockup (24)\n",
      "删除多余文件夹：G:\\饭桶设计\\2000-2999\\2218\\2218\\urban-street-billboards-design-mockup (25)\n",
      "删除多余文件夹：G:\\饭桶设计\\2000-2999\\2218\\2218\\urban-street-billboards-design-mockup (26)\n",
      "删除多余文件夹：G:\\饭桶设计\\2000-2999\\2218\\2218\\urban-street-billboards-design-mockup (27)\n",
      "删除多余文件夹：G:\\饭桶设计\\2000-2999\\2218\\2218\\urban-street-billboards-design-mockup (28)\n",
      "删除多余文件夹：G:\\饭桶设计\\2000-2999\\2218\\2218\\urban-street-billboards-design-mockup (29)\n",
      "删除多余文件夹：G:\\饭桶设计\\2000-2999\\2218\\2218\\urban-street-billboards-design-mockup (3)\n",
      "删除多余文件夹：G:\\饭桶设计\\2000-2999\\2218\\2218\\urban-street-billboards-design-mockup (30)\n",
      "删除多余文件夹：G:\\饭桶设计\\2000-2999\\2218\\2218\\urban-street-billboards-design-mockup (31)\n",
      "删除多余文件夹：G:\\饭桶设计\\2000-2999\\2218\\2218\\urban-street-billboards-design-mockup (32)\n",
      "删除多余文件夹：G:\\饭桶设计\\2000-2999\\2218\\2218\\urban-street-billboards-design-mockup (33)\n",
      "删除多余文件夹：G:\\饭桶设计\\2000-2999\\2218\\2218\\urban-street-billboards-design-mockup (4)\n",
      "删除多余文件夹：G:\\饭桶设计\\2000-2999\\2218\\2218\\urban-street-billboards-design-mockup (5)\n",
      "删除多余文件夹：G:\\饭桶设计\\2000-2999\\2218\\2218\\urban-street-billboards-design-mockup (6)\n",
      "删除多余文件夹：G:\\饭桶设计\\2000-2999\\2218\\2218\\urban-street-billboards-design-mockup (7)\n",
      "删除多余文件夹：G:\\饭桶设计\\2000-2999\\2218\\2218\\urban-street-billboards-design-mockup (8)\n",
      "删除多余文件夹：G:\\饭桶设计\\2000-2999\\2218\\2218\\urban-street-billboards-design-mockup (9)\n"
     ]
    },
    {
     "name": "stderr",
     "output_type": "stream",
     "text": [
      "复制到制定目录: 100%|██████████████████████████████████████████████| 68/68 [00:00<00:00, 120.80it/s]\n"
     ]
    },
    {
     "name": "stdout",
     "output_type": "stream",
     "text": [
      "文件重命名：b'G:/\\xe9\\xa5\\xad\\xe6\\xa1\\xb6\\xe8\\xae\\xbe\\xe8\\xae\\xa1/2000-2999/2218/2218/6222024.psd'\n",
      "文件重命名：b'G:/\\xe9\\xa5\\xad\\xe6\\xa1\\xb6\\xe8\\xae\\xbe\\xe8\\xae\\xa1/2000-2999/2218/2218/6222043.psd'\n",
      "文件重命名：b'G:/\\xe9\\xa5\\xad\\xe6\\xa1\\xb6\\xe8\\xae\\xbe\\xe8\\xae\\xa1/2000-2999/2218/2218/6239569.psd'\n",
      "文件重命名：b'G:/\\xe9\\xa5\\xad\\xe6\\xa1\\xb6\\xe8\\xae\\xbe\\xe8\\xae\\xa1/2000-2999/2218/2218/6239582.psd'\n",
      "文件重命名：b'G:/\\xe9\\xa5\\xad\\xe6\\xa1\\xb6\\xe8\\xae\\xbe\\xe8\\xae\\xa1/2000-2999/2218/2218/6239595.psd'\n",
      "文件重命名：b'G:/\\xe9\\xa5\\xad\\xe6\\xa1\\xb6\\xe8\\xae\\xbe\\xe8\\xae\\xa1/2000-2999/2218/2218/6239602.psd'\n",
      "文件重命名：b'G:/\\xe9\\xa5\\xad\\xe6\\xa1\\xb6\\xe8\\xae\\xbe\\xe8\\xae\\xa1/2000-2999/2218/2218/6239658.psd'\n",
      "文件重命名：b'G:/\\xe9\\xa5\\xad\\xe6\\xa1\\xb6\\xe8\\xae\\xbe\\xe8\\xae\\xa1/2000-2999/2218/2218/6239674.psd'\n",
      "文件重命名：b'G:/\\xe9\\xa5\\xad\\xe6\\xa1\\xb6\\xe8\\xae\\xbe\\xe8\\xae\\xa1/2000-2999/2218/2218/6239683.psd'\n",
      "文件重命名：b'G:/\\xe9\\xa5\\xad\\xe6\\xa1\\xb6\\xe8\\xae\\xbe\\xe8\\xae\\xa1/2000-2999/2218/2218/6239694.psd'\n",
      "文件重命名：b'G:/\\xe9\\xa5\\xad\\xe6\\xa1\\xb6\\xe8\\xae\\xbe\\xe8\\xae\\xa1/2000-2999/2218/2218/6239810.psd'\n",
      "文件重命名：b'G:/\\xe9\\xa5\\xad\\xe6\\xa1\\xb6\\xe8\\xae\\xbe\\xe8\\xae\\xa1/2000-2999/2218/2218/6239815.psd'\n",
      "文件重命名：b'G:/\\xe9\\xa5\\xad\\xe6\\xa1\\xb6\\xe8\\xae\\xbe\\xe8\\xae\\xa1/2000-2999/2218/2218/6239824.psd'\n",
      "文件重命名：b'G:/\\xe9\\xa5\\xad\\xe6\\xa1\\xb6\\xe8\\xae\\xbe\\xe8\\xae\\xa1/2000-2999/2218/2218/6239847.psd'\n",
      "文件重命名：b'G:/\\xe9\\xa5\\xad\\xe6\\xa1\\xb6\\xe8\\xae\\xbe\\xe8\\xae\\xa1/2000-2999/2218/2218/6239962.psd'\n",
      "文件重命名：b'G:/\\xe9\\xa5\\xad\\xe6\\xa1\\xb6\\xe8\\xae\\xbe\\xe8\\xae\\xa1/2000-2999/2218/2218/6239975.psd'\n",
      "文件重命名：b'G:/\\xe9\\xa5\\xad\\xe6\\xa1\\xb6\\xe8\\xae\\xbe\\xe8\\xae\\xa1/2000-2999/2218/2218/6242137.psd'\n",
      "文件重命名：b'G:/\\xe9\\xa5\\xad\\xe6\\xa1\\xb6\\xe8\\xae\\xbe\\xe8\\xae\\xa1/2000-2999/2218/2218/6242169.psd'\n",
      "文件重命名：b'G:/\\xe9\\xa5\\xad\\xe6\\xa1\\xb6\\xe8\\xae\\xbe\\xe8\\xae\\xa1/2000-2999/2218/2218/6242186.psd'\n",
      "文件重命名：b'G:/\\xe9\\xa5\\xad\\xe6\\xa1\\xb6\\xe8\\xae\\xbe\\xe8\\xae\\xa1/2000-2999/2218/2218/6242248.psd'\n",
      "文件重命名：b'G:/\\xe9\\xa5\\xad\\xe6\\xa1\\xb6\\xe8\\xae\\xbe\\xe8\\xae\\xa1/2000-2999/2218/2218/6242268.psd'\n",
      "文件重命名：b'G:/\\xe9\\xa5\\xad\\xe6\\xa1\\xb6\\xe8\\xae\\xbe\\xe8\\xae\\xa1/2000-2999/2218/2218/6242307.psd'\n",
      "文件重命名：b'G:/\\xe9\\xa5\\xad\\xe6\\xa1\\xb6\\xe8\\xae\\xbe\\xe8\\xae\\xa1/2000-2999/2218/2218/6242385.psd'\n",
      "文件重命名：b'G:/\\xe9\\xa5\\xad\\xe6\\xa1\\xb6\\xe8\\xae\\xbe\\xe8\\xae\\xa1/2000-2999/2218/2218/6242484.psd'\n",
      "文件重命名：b'G:/\\xe9\\xa5\\xad\\xe6\\xa1\\xb6\\xe8\\xae\\xbe\\xe8\\xae\\xa1/2000-2999/2218/2218/6248936.psd'\n",
      "文件重命名：b'G:/\\xe9\\xa5\\xad\\xe6\\xa1\\xb6\\xe8\\xae\\xbe\\xe8\\xae\\xa1/2000-2999/2218/2218/6249069.psd'\n",
      "文件重命名：b'G:/\\xe9\\xa5\\xad\\xe6\\xa1\\xb6\\xe8\\xae\\xbe\\xe8\\xae\\xa1/2000-2999/2218/2218/6249094.psd'\n",
      "文件重命名：b'G:/\\xe9\\xa5\\xad\\xe6\\xa1\\xb6\\xe8\\xae\\xbe\\xe8\\xae\\xa1/2000-2999/2218/2218/6249124.psd'\n",
      "文件重命名：b'G:/\\xe9\\xa5\\xad\\xe6\\xa1\\xb6\\xe8\\xae\\xbe\\xe8\\xae\\xa1/2000-2999/2218/2218/6249159.psd'\n",
      "文件重命名：b'G:/\\xe9\\xa5\\xad\\xe6\\xa1\\xb6\\xe8\\xae\\xbe\\xe8\\xae\\xa1/2000-2999/2218/2218/6249226.psd'\n",
      "文件重命名：b'G:/\\xe9\\xa5\\xad\\xe6\\xa1\\xb6\\xe8\\xae\\xbe\\xe8\\xae\\xa1/2000-2999/2218/2218/6249241.psd'\n",
      "文件重命名：b'G:/\\xe9\\xa5\\xad\\xe6\\xa1\\xb6\\xe8\\xae\\xbe\\xe8\\xae\\xa1/2000-2999/2218/2218/6249276.psd'\n",
      "文件重命名：b'G:/\\xe9\\xa5\\xad\\xe6\\xa1\\xb6\\xe8\\xae\\xbe\\xe8\\xae\\xa1/2000-2999/2218/2218/6251709.psd'\n",
      "文件重命名：b'G:/\\xe9\\xa5\\xad\\xe6\\xa1\\xb6\\xe8\\xae\\xbe\\xe8\\xae\\xa1/2000-2999/2218/2218/6271956.psd'\n",
      "文件重命名：b'G:/\\xe9\\xa5\\xad\\xe6\\xa1\\xb6\\xe8\\xae\\xbe\\xe8\\xae\\xa1/2000-2999/2218/2218/test(1).psd'\n",
      "文件重命名：b'G:/\\xe9\\xa5\\xad\\xe6\\xa1\\xb6\\xe8\\xae\\xbe\\xe8\\xae\\xa1/2000-2999/2218/2218/test(10).psd'\n",
      "文件重命名：b'G:/\\xe9\\xa5\\xad\\xe6\\xa1\\xb6\\xe8\\xae\\xbe\\xe8\\xae\\xa1/2000-2999/2218/2218/test(11).psd'\n",
      "文件重命名：b'G:/\\xe9\\xa5\\xad\\xe6\\xa1\\xb6\\xe8\\xae\\xbe\\xe8\\xae\\xa1/2000-2999/2218/2218/test(12).psd'\n",
      "文件重命名：b'G:/\\xe9\\xa5\\xad\\xe6\\xa1\\xb6\\xe8\\xae\\xbe\\xe8\\xae\\xa1/2000-2999/2218/2218/test(13).psd'\n",
      "文件重命名：b'G:/\\xe9\\xa5\\xad\\xe6\\xa1\\xb6\\xe8\\xae\\xbe\\xe8\\xae\\xa1/2000-2999/2218/2218/test(14).psd'\n",
      "文件重命名：b'G:/\\xe9\\xa5\\xad\\xe6\\xa1\\xb6\\xe8\\xae\\xbe\\xe8\\xae\\xa1/2000-2999/2218/2218/test(15).psd'\n",
      "文件重命名：b'G:/\\xe9\\xa5\\xad\\xe6\\xa1\\xb6\\xe8\\xae\\xbe\\xe8\\xae\\xa1/2000-2999/2218/2218/test(16).psd'\n",
      "文件重命名：b'G:/\\xe9\\xa5\\xad\\xe6\\xa1\\xb6\\xe8\\xae\\xbe\\xe8\\xae\\xa1/2000-2999/2218/2218/test(17).psd'\n",
      "文件重命名：b'G:/\\xe9\\xa5\\xad\\xe6\\xa1\\xb6\\xe8\\xae\\xbe\\xe8\\xae\\xa1/2000-2999/2218/2218/test(18).psd'\n",
      "文件重命名：b'G:/\\xe9\\xa5\\xad\\xe6\\xa1\\xb6\\xe8\\xae\\xbe\\xe8\\xae\\xa1/2000-2999/2218/2218/test(19).psd'\n",
      "文件重命名：b'G:/\\xe9\\xa5\\xad\\xe6\\xa1\\xb6\\xe8\\xae\\xbe\\xe8\\xae\\xa1/2000-2999/2218/2218/test(2).psd'\n",
      "文件重命名：b'G:/\\xe9\\xa5\\xad\\xe6\\xa1\\xb6\\xe8\\xae\\xbe\\xe8\\xae\\xa1/2000-2999/2218/2218/test(20).psd'\n",
      "文件重命名：b'G:/\\xe9\\xa5\\xad\\xe6\\xa1\\xb6\\xe8\\xae\\xbe\\xe8\\xae\\xa1/2000-2999/2218/2218/test(21).psd'\n",
      "文件重命名：b'G:/\\xe9\\xa5\\xad\\xe6\\xa1\\xb6\\xe8\\xae\\xbe\\xe8\\xae\\xa1/2000-2999/2218/2218/test(22).psd'\n",
      "文件重命名：b'G:/\\xe9\\xa5\\xad\\xe6\\xa1\\xb6\\xe8\\xae\\xbe\\xe8\\xae\\xa1/2000-2999/2218/2218/test(23).psd'\n",
      "文件重命名：b'G:/\\xe9\\xa5\\xad\\xe6\\xa1\\xb6\\xe8\\xae\\xbe\\xe8\\xae\\xa1/2000-2999/2218/2218/test(24).psd'\n",
      "文件重命名：b'G:/\\xe9\\xa5\\xad\\xe6\\xa1\\xb6\\xe8\\xae\\xbe\\xe8\\xae\\xa1/2000-2999/2218/2218/test(25).psd'\n",
      "文件重命名：b'G:/\\xe9\\xa5\\xad\\xe6\\xa1\\xb6\\xe8\\xae\\xbe\\xe8\\xae\\xa1/2000-2999/2218/2218/test(26).psd'\n",
      "文件重命名：b'G:/\\xe9\\xa5\\xad\\xe6\\xa1\\xb6\\xe8\\xae\\xbe\\xe8\\xae\\xa1/2000-2999/2218/2218/test(27).psd'\n",
      "文件重命名：b'G:/\\xe9\\xa5\\xad\\xe6\\xa1\\xb6\\xe8\\xae\\xbe\\xe8\\xae\\xa1/2000-2999/2218/2218/test(28).psd'\n",
      "文件重命名：b'G:/\\xe9\\xa5\\xad\\xe6\\xa1\\xb6\\xe8\\xae\\xbe\\xe8\\xae\\xa1/2000-2999/2218/2218/test(29).psd'\n",
      "文件重命名：b'G:/\\xe9\\xa5\\xad\\xe6\\xa1\\xb6\\xe8\\xae\\xbe\\xe8\\xae\\xa1/2000-2999/2218/2218/test(3).psd'\n",
      "文件重命名：b'G:/\\xe9\\xa5\\xad\\xe6\\xa1\\xb6\\xe8\\xae\\xbe\\xe8\\xae\\xa1/2000-2999/2218/2218/test(30).psd'\n",
      "文件重命名：b'G:/\\xe9\\xa5\\xad\\xe6\\xa1\\xb6\\xe8\\xae\\xbe\\xe8\\xae\\xa1/2000-2999/2218/2218/test(31).psd'\n",
      "文件重命名：b'G:/\\xe9\\xa5\\xad\\xe6\\xa1\\xb6\\xe8\\xae\\xbe\\xe8\\xae\\xa1/2000-2999/2218/2218/test(32).psd'\n",
      "文件重命名：b'G:/\\xe9\\xa5\\xad\\xe6\\xa1\\xb6\\xe8\\xae\\xbe\\xe8\\xae\\xa1/2000-2999/2218/2218/test(33).psd'\n",
      "文件重命名：b'G:/\\xe9\\xa5\\xad\\xe6\\xa1\\xb6\\xe8\\xae\\xbe\\xe8\\xae\\xa1/2000-2999/2218/2218/test(34).psd'\n",
      "文件重命名：b'G:/\\xe9\\xa5\\xad\\xe6\\xa1\\xb6\\xe8\\xae\\xbe\\xe8\\xae\\xa1/2000-2999/2218/2218/test(4).psd'\n",
      "文件重命名：b'G:/\\xe9\\xa5\\xad\\xe6\\xa1\\xb6\\xe8\\xae\\xbe\\xe8\\xae\\xa1/2000-2999/2218/2218/test(5).psd'\n",
      "文件重命名：b'G:/\\xe9\\xa5\\xad\\xe6\\xa1\\xb6\\xe8\\xae\\xbe\\xe8\\xae\\xa1/2000-2999/2218/2218/test(6).psd'\n",
      "文件重命名：b'G:/\\xe9\\xa5\\xad\\xe6\\xa1\\xb6\\xe8\\xae\\xbe\\xe8\\xae\\xa1/2000-2999/2218/2218/test(7).psd'\n",
      "文件重命名：b'G:/\\xe9\\xa5\\xad\\xe6\\xa1\\xb6\\xe8\\xae\\xbe\\xe8\\xae\\xa1/2000-2999/2218/2218/test(8).psd'\n",
      "文件重命名：b'G:/\\xe9\\xa5\\xad\\xe6\\xa1\\xb6\\xe8\\xae\\xbe\\xe8\\xae\\xa1/2000-2999/2218/2218/test(9).psd'\n"
     ]
    },
    {
     "name": "stderr",
     "output_type": "stream",
     "text": [
      "PSD添加广告生成图片:   0%|                                                   | 0/34 [00:00<?, ?it/s]"
     ]
    },
    {
     "name": "stdout",
     "output_type": "stream",
     "text": [
      "\n",
      "\n",
      "处理文件:G:/饭桶设计/2000-2999/2218/2218/饭桶设计(1).psd\n",
      "导出PNG\n",
      "插入广告\n"
     ]
    },
    {
     "name": "stderr",
     "output_type": "stream",
     "text": [
      "PSD添加广告生成图片:   3%|█▎                                         | 1/34 [00:13<07:22, 13.41s/it]"
     ]
    },
    {
     "name": "stdout",
     "output_type": "stream",
     "text": [
      "\n",
      "\n",
      "处理文件:G:/饭桶设计/2000-2999/2218/2218/饭桶设计(2).psd\n",
      "导出PNG\n",
      "插入广告\n"
     ]
    },
    {
     "name": "stderr",
     "output_type": "stream",
     "text": [
      "PSD添加广告生成图片:   6%|██▌                                        | 2/34 [00:24<06:32, 12.26s/it]"
     ]
    },
    {
     "name": "stdout",
     "output_type": "stream",
     "text": [
      "\n",
      "\n",
      "处理文件:G:/饭桶设计/2000-2999/2218/2218/饭桶设计(3).psd\n",
      "导出PNG\n",
      "插入广告\n"
     ]
    },
    {
     "name": "stderr",
     "output_type": "stream",
     "text": [
      "PSD添加广告生成图片:   9%|███▊                                       | 3/34 [00:38<06:32, 12.68s/it]"
     ]
    },
    {
     "name": "stdout",
     "output_type": "stream",
     "text": [
      "\n",
      "\n",
      "处理文件:G:/饭桶设计/2000-2999/2218/2218/饭桶设计(4).psd\n",
      "导出PNG\n",
      "插入广告\n"
     ]
    },
    {
     "name": "stderr",
     "output_type": "stream",
     "text": [
      "PSD添加广告生成图片:  12%|█████                                      | 4/34 [00:46<05:35, 11.18s/it]"
     ]
    },
    {
     "name": "stdout",
     "output_type": "stream",
     "text": [
      "\n",
      "\n",
      "处理文件:G:/饭桶设计/2000-2999/2218/2218/饭桶设计(5).psd\n",
      "导出PNG\n",
      "插入广告\n"
     ]
    },
    {
     "name": "stderr",
     "output_type": "stream",
     "text": [
      "PSD添加广告生成图片:  15%|██████▎                                    | 5/34 [01:07<07:03, 14.62s/it]"
     ]
    },
    {
     "name": "stdout",
     "output_type": "stream",
     "text": [
      "\n",
      "\n",
      "处理文件:G:/饭桶设计/2000-2999/2218/2218/饭桶设计(6).psd\n",
      "导出PNG\n",
      "插入广告\n"
     ]
    },
    {
     "name": "stderr",
     "output_type": "stream",
     "text": [
      "PSD添加广告生成图片:  18%|███████▌                                   | 6/34 [01:24<07:09, 15.34s/it]"
     ]
    },
    {
     "name": "stdout",
     "output_type": "stream",
     "text": [
      "\n",
      "\n",
      "处理文件:G:/饭桶设计/2000-2999/2218/2218/饭桶设计(7).psd\n",
      "导出PNG\n",
      "插入广告\n"
     ]
    },
    {
     "name": "stderr",
     "output_type": "stream",
     "text": [
      "PSD添加广告生成图片:  21%|████████▊                                  | 7/34 [01:51<08:37, 19.17s/it]"
     ]
    },
    {
     "name": "stdout",
     "output_type": "stream",
     "text": [
      "\n",
      "\n",
      "处理文件:G:/饭桶设计/2000-2999/2218/2218/饭桶设计(8).psd\n",
      "导出PNG\n",
      "插入广告\n"
     ]
    },
    {
     "name": "stderr",
     "output_type": "stream",
     "text": [
      "PSD添加广告生成图片:  24%|██████████                                 | 8/34 [02:06<07:41, 17.75s/it]"
     ]
    },
    {
     "name": "stdout",
     "output_type": "stream",
     "text": [
      "\n",
      "\n",
      "处理文件:G:/饭桶设计/2000-2999/2218/2218/饭桶设计(9).psd\n",
      "导出PNG\n",
      "插入广告\n"
     ]
    },
    {
     "name": "stderr",
     "output_type": "stream",
     "text": [
      "PSD添加广告生成图片:  26%|███████████▍                               | 9/34 [02:35<08:58, 21.53s/it]"
     ]
    },
    {
     "name": "stdout",
     "output_type": "stream",
     "text": [
      "\n",
      "\n",
      "处理文件:G:/饭桶设计/2000-2999/2218/2218/饭桶设计(10).psd\n",
      "导出PNG\n",
      "插入广告\n"
     ]
    },
    {
     "name": "stderr",
     "output_type": "stream",
     "text": [
      "PSD添加广告生成图片:  29%|████████████▎                             | 10/34 [03:23<11:50, 29.61s/it]"
     ]
    },
    {
     "name": "stdout",
     "output_type": "stream",
     "text": [
      "\n",
      "\n",
      "处理文件:G:/饭桶设计/2000-2999/2218/2218/饭桶设计(11).psd\n",
      "导出PNG\n",
      "插入广告\n"
     ]
    },
    {
     "name": "stderr",
     "output_type": "stream",
     "text": [
      "PSD添加广告生成图片:  32%|█████████████▌                            | 11/34 [03:43<10:08, 26.46s/it]"
     ]
    },
    {
     "name": "stdout",
     "output_type": "stream",
     "text": [
      "\n",
      "\n",
      "处理文件:G:/饭桶设计/2000-2999/2218/2218/饭桶设计(12).psd\n",
      "导出PNG\n",
      "插入广告\n"
     ]
    },
    {
     "name": "stderr",
     "output_type": "stream",
     "text": [
      "PSD添加广告生成图片:  35%|██████████████▊                           | 12/34 [03:57<08:19, 22.70s/it]"
     ]
    },
    {
     "name": "stdout",
     "output_type": "stream",
     "text": [
      "\n",
      "\n",
      "处理文件:G:/饭桶设计/2000-2999/2218/2218/饭桶设计(13).psd\n",
      "导出PNG\n",
      "插入广告\n"
     ]
    },
    {
     "name": "stderr",
     "output_type": "stream",
     "text": [
      "PSD添加广告生成图片:  38%|████████████████                          | 13/34 [04:26<08:41, 24.84s/it]"
     ]
    },
    {
     "name": "stdout",
     "output_type": "stream",
     "text": [
      "\n",
      "\n",
      "处理文件:G:/饭桶设计/2000-2999/2218/2218/饭桶设计(14).psd\n",
      "导出PNG\n",
      "插入广告\n"
     ]
    },
    {
     "name": "stderr",
     "output_type": "stream",
     "text": [
      "PSD添加广告生成图片:  41%|█████████████████▎                        | 14/34 [04:49<08:05, 24.29s/it]"
     ]
    },
    {
     "name": "stdout",
     "output_type": "stream",
     "text": [
      "\n",
      "\n",
      "处理文件:G:/饭桶设计/2000-2999/2218/2218/饭桶设计(15).psd\n",
      "导出PNG\n",
      "插入广告\n"
     ]
    },
    {
     "name": "stderr",
     "output_type": "stream",
     "text": [
      "PSD添加广告生成图片:  44%|██████████████████▌                       | 15/34 [05:07<07:05, 22.40s/it]"
     ]
    },
    {
     "name": "stdout",
     "output_type": "stream",
     "text": [
      "\n",
      "\n",
      "处理文件:G:/饭桶设计/2000-2999/2218/2218/饭桶设计(16).psd\n",
      "导出PNG\n",
      "插入广告\n"
     ]
    },
    {
     "name": "stderr",
     "output_type": "stream",
     "text": [
      "PSD添加广告生成图片:  47%|███████████████████▊                      | 16/34 [05:23<06:08, 20.46s/it]"
     ]
    },
    {
     "name": "stdout",
     "output_type": "stream",
     "text": [
      "\n",
      "\n",
      "处理文件:G:/饭桶设计/2000-2999/2218/2218/饭桶设计(17).psd\n",
      "导出PNG\n",
      "插入广告\n"
     ]
    },
    {
     "name": "stderr",
     "output_type": "stream",
     "text": [
      "PSD添加广告生成图片:  50%|█████████████████████                     | 17/34 [05:48<06:06, 21.58s/it]"
     ]
    },
    {
     "name": "stdout",
     "output_type": "stream",
     "text": [
      "\n",
      "\n",
      "处理文件:G:/饭桶设计/2000-2999/2218/2218/饭桶设计(18).psd\n",
      "导出PNG\n",
      "插入广告\n"
     ]
    },
    {
     "name": "stderr",
     "output_type": "stream",
     "text": [
      "PSD添加广告生成图片:  53%|██████████████████████▏                   | 18/34 [06:15<06:12, 23.27s/it]"
     ]
    },
    {
     "name": "stdout",
     "output_type": "stream",
     "text": [
      "\n",
      "\n",
      "处理文件:G:/饭桶设计/2000-2999/2218/2218/饭桶设计(19).psd\n",
      "导出PNG\n",
      "插入广告\n"
     ]
    },
    {
     "name": "stderr",
     "output_type": "stream",
     "text": [
      "PSD添加广告生成图片:  56%|███████████████████████▍                  | 19/34 [06:32<05:21, 21.42s/it]"
     ]
    },
    {
     "name": "stdout",
     "output_type": "stream",
     "text": [
      "\n",
      "\n",
      "处理文件:G:/饭桶设计/2000-2999/2218/2218/饭桶设计(20).psd\n",
      "导出PNG\n",
      "插入广告\n"
     ]
    },
    {
     "name": "stderr",
     "output_type": "stream",
     "text": [
      "PSD添加广告生成图片:  59%|████████████████████████▋                 | 20/34 [06:53<04:57, 21.25s/it]"
     ]
    },
    {
     "name": "stdout",
     "output_type": "stream",
     "text": [
      "\n",
      "\n",
      "处理文件:G:/饭桶设计/2000-2999/2218/2218/饭桶设计(21).psd\n",
      "导出PNG\n",
      "插入广告\n"
     ]
    },
    {
     "name": "stderr",
     "output_type": "stream",
     "text": [
      "PSD添加广告生成图片:  62%|█████████████████████████▉                | 21/34 [07:10<04:20, 20.04s/it]"
     ]
    },
    {
     "name": "stdout",
     "output_type": "stream",
     "text": [
      "\n",
      "\n",
      "处理文件:G:/饭桶设计/2000-2999/2218/2218/饭桶设计(22).psd\n",
      "导出PNG\n",
      "插入广告\n"
     ]
    },
    {
     "name": "stderr",
     "output_type": "stream",
     "text": [
      "PSD添加广告生成图片:  65%|███████████████████████████▏              | 22/34 [07:26<03:45, 18.82s/it]"
     ]
    },
    {
     "name": "stdout",
     "output_type": "stream",
     "text": [
      "\n",
      "\n",
      "处理文件:G:/饭桶设计/2000-2999/2218/2218/饭桶设计(23).psd\n",
      "导出PNG\n",
      "插入广告\n"
     ]
    },
    {
     "name": "stderr",
     "output_type": "stream",
     "text": [
      "PSD添加广告生成图片:  68%|████████████████████████████▍             | 23/34 [07:45<03:28, 18.96s/it]"
     ]
    },
    {
     "name": "stdout",
     "output_type": "stream",
     "text": [
      "\n",
      "\n",
      "处理文件:G:/饭桶设计/2000-2999/2218/2218/饭桶设计(24).psd\n",
      "导出PNG\n",
      "插入广告\n"
     ]
    },
    {
     "name": "stderr",
     "output_type": "stream",
     "text": [
      "PSD添加广告生成图片:  71%|█████████████████████████████▋            | 24/34 [08:01<03:00, 18.08s/it]"
     ]
    },
    {
     "name": "stdout",
     "output_type": "stream",
     "text": [
      "\n",
      "\n",
      "处理文件:G:/饭桶设计/2000-2999/2218/2218/饭桶设计(25).psd\n",
      "导出PNG\n",
      "插入广告\n"
     ]
    },
    {
     "name": "stderr",
     "output_type": "stream",
     "text": [
      "PSD添加广告生成图片:  74%|██████████████████████████████▉           | 25/34 [08:16<02:34, 17.20s/it]"
     ]
    },
    {
     "name": "stdout",
     "output_type": "stream",
     "text": [
      "\n",
      "\n",
      "处理文件:G:/饭桶设计/2000-2999/2218/2218/饭桶设计(26).psd\n",
      "导出PNG\n",
      "插入广告\n"
     ]
    },
    {
     "name": "stderr",
     "output_type": "stream",
     "text": [
      "PSD添加广告生成图片:  76%|████████████████████████████████          | 26/34 [08:29<02:06, 15.76s/it]"
     ]
    },
    {
     "name": "stdout",
     "output_type": "stream",
     "text": [
      "\n",
      "\n",
      "处理文件:G:/饭桶设计/2000-2999/2218/2218/饭桶设计(27).psd\n",
      "导出PNG\n",
      "插入广告\n"
     ]
    },
    {
     "name": "stderr",
     "output_type": "stream",
     "text": [
      "PSD添加广告生成图片:  79%|█████████████████████████████████▎        | 27/34 [08:40<01:41, 14.45s/it]"
     ]
    },
    {
     "name": "stdout",
     "output_type": "stream",
     "text": [
      "\n",
      "\n",
      "处理文件:G:/饭桶设计/2000-2999/2218/2218/饭桶设计(28).psd\n",
      "导出PNG\n",
      "插入广告\n"
     ]
    },
    {
     "name": "stderr",
     "output_type": "stream",
     "text": [
      "PSD添加广告生成图片:  82%|██████████████████████████████████▌       | 28/34 [09:36<02:41, 26.93s/it]"
     ]
    },
    {
     "name": "stdout",
     "output_type": "stream",
     "text": [
      "\n",
      "\n",
      "处理文件:G:/饭桶设计/2000-2999/2218/2218/饭桶设计(29).psd\n",
      "导出PNG\n",
      "插入广告\n"
     ]
    },
    {
     "name": "stderr",
     "output_type": "stream",
     "text": [
      "PSD添加广告生成图片:  85%|███████████████████████████████████▊      | 29/34 [09:55<02:02, 24.48s/it]"
     ]
    },
    {
     "name": "stdout",
     "output_type": "stream",
     "text": [
      "\n",
      "\n",
      "处理文件:G:/饭桶设计/2000-2999/2218/2218/饭桶设计(30).psd\n",
      "导出PNG\n",
      "插入广告\n"
     ]
    },
    {
     "name": "stderr",
     "output_type": "stream",
     "text": [
      "PSD添加广告生成图片:  88%|█████████████████████████████████████     | 30/34 [10:03<01:17, 19.46s/it]"
     ]
    },
    {
     "name": "stdout",
     "output_type": "stream",
     "text": [
      "\n",
      "\n",
      "处理文件:G:/饭桶设计/2000-2999/2218/2218/饭桶设计(31).psd\n",
      "导出PNG\n",
      "插入广告\n"
     ]
    },
    {
     "name": "stderr",
     "output_type": "stream",
     "text": [
      "PSD添加广告生成图片:  91%|██████████████████████████████████████▎   | 31/34 [10:18<00:54, 18.19s/it]"
     ]
    },
    {
     "name": "stdout",
     "output_type": "stream",
     "text": [
      "\n",
      "\n",
      "处理文件:G:/饭桶设计/2000-2999/2218/2218/饭桶设计(32).psd\n",
      "导出PNG\n",
      "插入广告\n"
     ]
    },
    {
     "name": "stderr",
     "output_type": "stream",
     "text": [
      "PSD添加广告生成图片:  94%|███████████████████████████████████████▌  | 32/34 [10:29<00:32, 16.18s/it]"
     ]
    },
    {
     "name": "stdout",
     "output_type": "stream",
     "text": [
      "\n",
      "\n",
      "处理文件:G:/饭桶设计/2000-2999/2218/2218/饭桶设计(33).psd\n",
      "导出PNG\n",
      "插入广告\n"
     ]
    },
    {
     "name": "stderr",
     "output_type": "stream",
     "text": [
      "PSD添加广告生成图片:  97%|████████████████████████████████████████▊ | 33/34 [11:00<00:20, 20.39s/it]"
     ]
    },
    {
     "name": "stdout",
     "output_type": "stream",
     "text": [
      "\n",
      "\n",
      "处理文件:G:/饭桶设计/2000-2999/2218/2218/饭桶设计(34).psd\n",
      "导出PNG\n",
      "插入广告\n"
     ]
    },
    {
     "name": "stderr",
     "output_type": "stream",
     "text": [
      "PSD添加广告生成图片: 100%|██████████████████████████████████████████| 34/34 [11:20<00:00, 20.01s/it]\n",
      "AI导出PNG: 0it [00:00, ?it/s]\n",
      "PPT导出PNG: 0it [00:00, ?it/s]\n",
      "复制到制定目录: 100%|██████████████████████████████████████████████| 34/34 [00:00<00:00, 144.85it/s]\n",
      "图片添加水印: 100%|█████████████████████████████████████████████████| 34/34 [00:25<00:00,  1.35it/s]\n",
      "解压ZIP: 100%|██████████████████████████████████████████████████████| 14/14 [00:04<00:00,  3.18it/s]\n",
      "解压RAR: 0it [00:00, ?it/s]\n"
     ]
    },
    {
     "name": "stdout",
     "output_type": "stream",
     "text": [
      "移动到根目录:b'G:/\\xe9\\xa5\\xad\\xe6\\xa1\\xb6\\xe8\\xae\\xbe\\xe8\\xae\\xa1/2000-2999/2219/2219/8046032.psd'\n",
      "移动到根目录:b'G:/\\xe9\\xa5\\xad\\xe6\\xa1\\xb6\\xe8\\xae\\xbe\\xe8\\xae\\xa1/2000-2999/2219/2219/8046038.jpg'\n",
      "移动到根目录:b'G:/\\xe9\\xa5\\xad\\xe6\\xa1\\xb6\\xe8\\xae\\xbe\\xe8\\xae\\xa1/2000-2999/2219/2219/8051811.jpg'\n",
      "移动到根目录:b'G:/\\xe9\\xa5\\xad\\xe6\\xa1\\xb6\\xe8\\xae\\xbe\\xe8\\xae\\xa1/2000-2999/2219/2219/8051812.psd'\n",
      "移动到根目录:b'G:/\\xe9\\xa5\\xad\\xe6\\xa1\\xb6\\xe8\\xae\\xbe\\xe8\\xae\\xa1/2000-2999/2219/2219/8051662.jpg'\n",
      "移动到根目录:b'G:/\\xe9\\xa5\\xad\\xe6\\xa1\\xb6\\xe8\\xae\\xbe\\xe8\\xae\\xa1/2000-2999/2219/2219/8051663.psd'\n",
      "移动到根目录:b'G:/\\xe9\\xa5\\xad\\xe6\\xa1\\xb6\\xe8\\xae\\xbe\\xe8\\xae\\xa1/2000-2999/2219/2219/8047218.jpg'\n",
      "移动到根目录:b'G:/\\xe9\\xa5\\xad\\xe6\\xa1\\xb6\\xe8\\xae\\xbe\\xe8\\xae\\xa1/2000-2999/2219/2219/8047222.psd'\n",
      "移动到根目录:b'G:/\\xe9\\xa5\\xad\\xe6\\xa1\\xb6\\xe8\\xae\\xbe\\xe8\\xae\\xa1/2000-2999/2219/2219/8047163.jpg'\n",
      "移动到根目录:b'G:/\\xe9\\xa5\\xad\\xe6\\xa1\\xb6\\xe8\\xae\\xbe\\xe8\\xae\\xa1/2000-2999/2219/2219/8047166.psd'\n",
      "移动到根目录:b'G:/\\xe9\\xa5\\xad\\xe6\\xa1\\xb6\\xe8\\xae\\xbe\\xe8\\xae\\xa1/2000-2999/2219/2219/8045884.jpg'\n",
      "移动到根目录:b'G:/\\xe9\\xa5\\xad\\xe6\\xa1\\xb6\\xe8\\xae\\xbe\\xe8\\xae\\xa1/2000-2999/2219/2219/8045885.psd'\n",
      "移动到根目录:b'G:/\\xe9\\xa5\\xad\\xe6\\xa1\\xb6\\xe8\\xae\\xbe\\xe8\\xae\\xa1/2000-2999/2219/2219/8045834.jpg'\n",
      "移动到根目录:b'G:/\\xe9\\xa5\\xad\\xe6\\xa1\\xb6\\xe8\\xae\\xbe\\xe8\\xae\\xa1/2000-2999/2219/2219/8045835.psd'\n",
      "移动到根目录:b'G:/\\xe9\\xa5\\xad\\xe6\\xa1\\xb6\\xe8\\xae\\xbe\\xe8\\xae\\xa1/2000-2999/2219/2219/8045792.jpg'\n",
      "移动到根目录:b'G:/\\xe9\\xa5\\xad\\xe6\\xa1\\xb6\\xe8\\xae\\xbe\\xe8\\xae\\xa1/2000-2999/2219/2219/8045793.psd'\n",
      "移动到根目录:b'G:/\\xe9\\xa5\\xad\\xe6\\xa1\\xb6\\xe8\\xae\\xbe\\xe8\\xae\\xa1/2000-2999/2219/2219/8040968.jpg'\n",
      "移动到根目录:b'G:/\\xe9\\xa5\\xad\\xe6\\xa1\\xb6\\xe8\\xae\\xbe\\xe8\\xae\\xa1/2000-2999/2219/2219/8040969.psd'\n",
      "移动到根目录:b'G:/\\xe9\\xa5\\xad\\xe6\\xa1\\xb6\\xe8\\xae\\xbe\\xe8\\xae\\xa1/2000-2999/2219/2219/8040406.jpg'\n",
      "移动到根目录:b'G:/\\xe9\\xa5\\xad\\xe6\\xa1\\xb6\\xe8\\xae\\xbe\\xe8\\xae\\xa1/2000-2999/2219/2219/8040407.psd'\n",
      "移动到根目录:b'G:/\\xe9\\xa5\\xad\\xe6\\xa1\\xb6\\xe8\\xae\\xbe\\xe8\\xae\\xa1/2000-2999/2219/2219/8047060.jpg'\n",
      "移动到根目录:b'G:/\\xe9\\xa5\\xad\\xe6\\xa1\\xb6\\xe8\\xae\\xbe\\xe8\\xae\\xa1/2000-2999/2219/2219/8047076.psd'\n",
      "移动到根目录:b'G:/\\xe9\\xa5\\xad\\xe6\\xa1\\xb6\\xe8\\xae\\xbe\\xe8\\xae\\xa1/2000-2999/2219/2219/8050727.jpg'\n",
      "移动到根目录:b'G:/\\xe9\\xa5\\xad\\xe6\\xa1\\xb6\\xe8\\xae\\xbe\\xe8\\xae\\xa1/2000-2999/2219/2219/8050730.psd'\n",
      "移动到根目录:b'G:/\\xe9\\xa5\\xad\\xe6\\xa1\\xb6\\xe8\\xae\\xbe\\xe8\\xae\\xa1/2000-2999/2219/2219/8051020.jpg'\n",
      "移动到根目录:b'G:/\\xe9\\xa5\\xad\\xe6\\xa1\\xb6\\xe8\\xae\\xbe\\xe8\\xae\\xa1/2000-2999/2219/2219/8051022.psd'\n",
      "移动到根目录:b'G:/\\xe9\\xa5\\xad\\xe6\\xa1\\xb6\\xe8\\xae\\xbe\\xe8\\xae\\xa1/2000-2999/2219/2219/8045925.jpg'\n",
      "移动到根目录:b'G:/\\xe9\\xa5\\xad\\xe6\\xa1\\xb6\\xe8\\xae\\xbe\\xe8\\xae\\xa1/2000-2999/2219/2219/8045928.psd'\n",
      "删除多余文件夹：G:\\饭桶设计\\2000-2999\\2219\\2219\\gradient-boxing-day-banner-template\n",
      "删除多余文件夹：G:\\饭桶设计\\2000-2999\\2219\\2219\\gradient-boxing-day-business-card\n",
      "删除多余文件夹：G:\\饭桶设计\\2000-2999\\2219\\2219\\gradient-boxing-day-business-card (1)\n",
      "删除多余文件夹：G:\\饭桶设计\\2000-2999\\2219\\2219\\gradient-boxing-day-facebook-template\n",
      "删除多余文件夹：G:\\饭桶设计\\2000-2999\\2219\\2219\\gradient-boxing-day-facebook-template (1)\n",
      "删除多余文件夹：G:\\饭桶设计\\2000-2999\\2219\\2219\\gradient-boxing-day-flyer-template\n",
      "删除多余文件夹：G:\\饭桶设计\\2000-2999\\2219\\2219\\gradient-boxing-day-flyer-template (1)\n",
      "删除多余文件夹：G:\\饭桶设计\\2000-2999\\2219\\2219\\gradient-boxing-day-flyer-template (2)\n",
      "删除多余文件夹：G:\\饭桶设计\\2000-2999\\2219\\2219\\gradient-boxing-day-instagram-post-set\n",
      "删除多余文件夹：G:\\饭桶设计\\2000-2999\\2219\\2219\\gradient-boxing-day-instagram-posts\n",
      "删除多余文件夹：G:\\饭桶设计\\2000-2999\\2219\\2219\\gradient-boxing-day-instagram-posts (1)\n",
      "删除多余文件夹：G:\\饭桶设计\\2000-2999\\2219\\2219\\gradient-boxing-day-invoice-template\n",
      "删除多余文件夹：G:\\饭桶设计\\2000-2999\\2219\\2219\\gradient-boxing-day-invoice-template (1)\n",
      "删除多余文件夹：G:\\饭桶设计\\2000-2999\\2219\\2219\\gradient-boxing-day-square-flyer-template\n"
     ]
    },
    {
     "name": "stderr",
     "output_type": "stream",
     "text": [
      "复制到制定目录: 100%|██████████████████████████████████████████████| 14/14 [00:00<00:00, 114.10it/s]\n"
     ]
    },
    {
     "name": "stdout",
     "output_type": "stream",
     "text": [
      "文件重命名：b'G:/\\xe9\\xa5\\xad\\xe6\\xa1\\xb6\\xe8\\xae\\xbe\\xe8\\xae\\xa1/2000-2999/2219/2219/8040407.psd'\n",
      "文件重命名：b'G:/\\xe9\\xa5\\xad\\xe6\\xa1\\xb6\\xe8\\xae\\xbe\\xe8\\xae\\xa1/2000-2999/2219/2219/8040969.psd'\n",
      "文件重命名：b'G:/\\xe9\\xa5\\xad\\xe6\\xa1\\xb6\\xe8\\xae\\xbe\\xe8\\xae\\xa1/2000-2999/2219/2219/8045793.psd'\n",
      "文件重命名：b'G:/\\xe9\\xa5\\xad\\xe6\\xa1\\xb6\\xe8\\xae\\xbe\\xe8\\xae\\xa1/2000-2999/2219/2219/8045835.psd'\n",
      "文件重命名：b'G:/\\xe9\\xa5\\xad\\xe6\\xa1\\xb6\\xe8\\xae\\xbe\\xe8\\xae\\xa1/2000-2999/2219/2219/8045885.psd'\n",
      "文件重命名：b'G:/\\xe9\\xa5\\xad\\xe6\\xa1\\xb6\\xe8\\xae\\xbe\\xe8\\xae\\xa1/2000-2999/2219/2219/8045928.psd'\n",
      "文件重命名：b'G:/\\xe9\\xa5\\xad\\xe6\\xa1\\xb6\\xe8\\xae\\xbe\\xe8\\xae\\xa1/2000-2999/2219/2219/8046032.psd'\n",
      "文件重命名：b'G:/\\xe9\\xa5\\xad\\xe6\\xa1\\xb6\\xe8\\xae\\xbe\\xe8\\xae\\xa1/2000-2999/2219/2219/8047076.psd'\n",
      "文件重命名：b'G:/\\xe9\\xa5\\xad\\xe6\\xa1\\xb6\\xe8\\xae\\xbe\\xe8\\xae\\xa1/2000-2999/2219/2219/8047166.psd'\n",
      "文件重命名：b'G:/\\xe9\\xa5\\xad\\xe6\\xa1\\xb6\\xe8\\xae\\xbe\\xe8\\xae\\xa1/2000-2999/2219/2219/8047222.psd'\n",
      "文件重命名：b'G:/\\xe9\\xa5\\xad\\xe6\\xa1\\xb6\\xe8\\xae\\xbe\\xe8\\xae\\xa1/2000-2999/2219/2219/8050730.psd'\n",
      "文件重命名：b'G:/\\xe9\\xa5\\xad\\xe6\\xa1\\xb6\\xe8\\xae\\xbe\\xe8\\xae\\xa1/2000-2999/2219/2219/8051022.psd'\n",
      "文件重命名：b'G:/\\xe9\\xa5\\xad\\xe6\\xa1\\xb6\\xe8\\xae\\xbe\\xe8\\xae\\xa1/2000-2999/2219/2219/8051663.psd'\n",
      "文件重命名：b'G:/\\xe9\\xa5\\xad\\xe6\\xa1\\xb6\\xe8\\xae\\xbe\\xe8\\xae\\xa1/2000-2999/2219/2219/8051812.psd'\n",
      "文件重命名：b'G:/\\xe9\\xa5\\xad\\xe6\\xa1\\xb6\\xe8\\xae\\xbe\\xe8\\xae\\xa1/2000-2999/2219/2219/test(1).psd'\n",
      "文件重命名：b'G:/\\xe9\\xa5\\xad\\xe6\\xa1\\xb6\\xe8\\xae\\xbe\\xe8\\xae\\xa1/2000-2999/2219/2219/test(10).psd'\n",
      "文件重命名：b'G:/\\xe9\\xa5\\xad\\xe6\\xa1\\xb6\\xe8\\xae\\xbe\\xe8\\xae\\xa1/2000-2999/2219/2219/test(11).psd'\n",
      "文件重命名：b'G:/\\xe9\\xa5\\xad\\xe6\\xa1\\xb6\\xe8\\xae\\xbe\\xe8\\xae\\xa1/2000-2999/2219/2219/test(12).psd'\n",
      "文件重命名：b'G:/\\xe9\\xa5\\xad\\xe6\\xa1\\xb6\\xe8\\xae\\xbe\\xe8\\xae\\xa1/2000-2999/2219/2219/test(13).psd'\n",
      "文件重命名：b'G:/\\xe9\\xa5\\xad\\xe6\\xa1\\xb6\\xe8\\xae\\xbe\\xe8\\xae\\xa1/2000-2999/2219/2219/test(14).psd'\n",
      "文件重命名：b'G:/\\xe9\\xa5\\xad\\xe6\\xa1\\xb6\\xe8\\xae\\xbe\\xe8\\xae\\xa1/2000-2999/2219/2219/test(2).psd'\n",
      "文件重命名：b'G:/\\xe9\\xa5\\xad\\xe6\\xa1\\xb6\\xe8\\xae\\xbe\\xe8\\xae\\xa1/2000-2999/2219/2219/test(3).psd'\n",
      "文件重命名：b'G:/\\xe9\\xa5\\xad\\xe6\\xa1\\xb6\\xe8\\xae\\xbe\\xe8\\xae\\xa1/2000-2999/2219/2219/test(4).psd'\n",
      "文件重命名：b'G:/\\xe9\\xa5\\xad\\xe6\\xa1\\xb6\\xe8\\xae\\xbe\\xe8\\xae\\xa1/2000-2999/2219/2219/test(5).psd'\n",
      "文件重命名：b'G:/\\xe9\\xa5\\xad\\xe6\\xa1\\xb6\\xe8\\xae\\xbe\\xe8\\xae\\xa1/2000-2999/2219/2219/test(6).psd'\n",
      "文件重命名：b'G:/\\xe9\\xa5\\xad\\xe6\\xa1\\xb6\\xe8\\xae\\xbe\\xe8\\xae\\xa1/2000-2999/2219/2219/test(7).psd'\n",
      "文件重命名：b'G:/\\xe9\\xa5\\xad\\xe6\\xa1\\xb6\\xe8\\xae\\xbe\\xe8\\xae\\xa1/2000-2999/2219/2219/test(8).psd'\n",
      "文件重命名：b'G:/\\xe9\\xa5\\xad\\xe6\\xa1\\xb6\\xe8\\xae\\xbe\\xe8\\xae\\xa1/2000-2999/2219/2219/test(9).psd'\n"
     ]
    },
    {
     "name": "stderr",
     "output_type": "stream",
     "text": [
      "PSD添加广告生成图片:   0%|                                                   | 0/14 [00:00<?, ?it/s]"
     ]
    },
    {
     "name": "stdout",
     "output_type": "stream",
     "text": [
      "\n",
      "\n",
      "处理文件:G:/饭桶设计/2000-2999/2219/2219/饭桶设计(1).psd\n",
      "导出PNG\n",
      "插入广告\n"
     ]
    },
    {
     "name": "stderr",
     "output_type": "stream",
     "text": [
      "PSD添加广告生成图片:   7%|███                                        | 1/14 [00:06<01:25,  6.60s/it]"
     ]
    },
    {
     "name": "stdout",
     "output_type": "stream",
     "text": [
      "\n",
      "\n",
      "处理文件:G:/饭桶设计/2000-2999/2219/2219/饭桶设计(2).psd\n",
      "导出PNG\n",
      "插入广告\n"
     ]
    },
    {
     "name": "stderr",
     "output_type": "stream",
     "text": [
      "PSD添加广告生成图片:  14%|██████▏                                    | 2/14 [00:10<01:03,  5.27s/it]"
     ]
    },
    {
     "name": "stdout",
     "output_type": "stream",
     "text": [
      "\n",
      "\n",
      "处理文件:G:/饭桶设计/2000-2999/2219/2219/饭桶设计(3).psd\n",
      "导出PNG\n",
      "插入广告\n"
     ]
    },
    {
     "name": "stderr",
     "output_type": "stream",
     "text": [
      "PSD添加广告生成图片:  21%|█████████▏                                 | 3/14 [00:26<01:47,  9.76s/it]"
     ]
    },
    {
     "name": "stdout",
     "output_type": "stream",
     "text": [
      "\n",
      "\n",
      "处理文件:G:/饭桶设计/2000-2999/2219/2219/饭桶设计(4).psd\n",
      "导出PNG\n",
      "插入广告\n"
     ]
    },
    {
     "name": "stderr",
     "output_type": "stream",
     "text": [
      "PSD添加广告生成图片:  29%|████████████▎                              | 4/14 [00:34<01:31,  9.18s/it]"
     ]
    },
    {
     "name": "stdout",
     "output_type": "stream",
     "text": [
      "\n",
      "\n",
      "处理文件:G:/饭桶设计/2000-2999/2219/2219/饭桶设计(5).psd\n",
      "导出PNG\n",
      "插入广告\n"
     ]
    },
    {
     "name": "stderr",
     "output_type": "stream",
     "text": [
      "PSD添加广告生成图片:  36%|███████████████▎                           | 5/14 [00:38<01:05,  7.32s/it]"
     ]
    },
    {
     "name": "stdout",
     "output_type": "stream",
     "text": [
      "\n",
      "\n",
      "处理文件:G:/饭桶设计/2000-2999/2219/2219/饭桶设计(6).psd\n",
      "导出PNG\n",
      "插入广告\n"
     ]
    },
    {
     "name": "stderr",
     "output_type": "stream",
     "text": [
      "PSD添加广告生成图片:  43%|██████████████████▍                        | 6/14 [00:42<00:50,  6.33s/it]"
     ]
    },
    {
     "name": "stdout",
     "output_type": "stream",
     "text": [
      "\n",
      "\n",
      "处理文件:G:/饭桶设计/2000-2999/2219/2219/饭桶设计(7).psd\n",
      "导出PNG\n",
      "插入广告\n"
     ]
    },
    {
     "name": "stderr",
     "output_type": "stream",
     "text": [
      "PSD添加广告生成图片:  50%|█████████████████████▌                     | 7/14 [00:50<00:47,  6.82s/it]"
     ]
    },
    {
     "name": "stdout",
     "output_type": "stream",
     "text": [
      "\n",
      "\n",
      "处理文件:G:/饭桶设计/2000-2999/2219/2219/饭桶设计(8).psd\n",
      "导出PNG\n",
      "插入广告\n"
     ]
    },
    {
     "name": "stderr",
     "output_type": "stream",
     "text": [
      "PSD添加广告生成图片:  57%|████████████████████████▌                  | 8/14 [00:57<00:40,  6.79s/it]"
     ]
    },
    {
     "name": "stdout",
     "output_type": "stream",
     "text": [
      "\n",
      "\n",
      "处理文件:G:/饭桶设计/2000-2999/2219/2219/饭桶设计(9).psd\n",
      "导出PNG\n",
      "插入广告\n"
     ]
    },
    {
     "name": "stderr",
     "output_type": "stream",
     "text": [
      "PSD添加广告生成图片:  64%|███████████████████████████▋               | 9/14 [01:04<00:35,  7.03s/it]"
     ]
    },
    {
     "name": "stdout",
     "output_type": "stream",
     "text": [
      "\n",
      "\n",
      "处理文件:G:/饭桶设计/2000-2999/2219/2219/饭桶设计(10).psd\n",
      "导出PNG\n",
      "插入广告\n"
     ]
    },
    {
     "name": "stderr",
     "output_type": "stream",
     "text": [
      "PSD添加广告生成图片:  71%|██████████████████████████████            | 10/14 [01:10<00:26,  6.62s/it]"
     ]
    },
    {
     "name": "stdout",
     "output_type": "stream",
     "text": [
      "\n",
      "\n",
      "处理文件:G:/饭桶设计/2000-2999/2219/2219/饭桶设计(11).psd\n",
      "导出PNG\n",
      "插入广告\n"
     ]
    },
    {
     "name": "stderr",
     "output_type": "stream",
     "text": [
      "PSD添加广告生成图片:  79%|█████████████████████████████████         | 11/14 [01:17<00:19,  6.62s/it]"
     ]
    },
    {
     "name": "stdout",
     "output_type": "stream",
     "text": [
      "\n",
      "\n",
      "处理文件:G:/饭桶设计/2000-2999/2219/2219/饭桶设计(12).psd\n",
      "导出PNG\n",
      "插入广告\n"
     ]
    },
    {
     "name": "stderr",
     "output_type": "stream",
     "text": [
      "PSD添加广告生成图片:  86%|████████████████████████████████████      | 12/14 [01:29<00:16,  8.20s/it]"
     ]
    },
    {
     "name": "stdout",
     "output_type": "stream",
     "text": [
      "\n",
      "\n",
      "处理文件:G:/饭桶设计/2000-2999/2219/2219/饭桶设计(13).psd\n",
      "导出PNG\n",
      "插入广告\n"
     ]
    },
    {
     "name": "stderr",
     "output_type": "stream",
     "text": [
      "PSD添加广告生成图片:  93%|███████████████████████████████████████   | 13/14 [01:35<00:07,  7.64s/it]"
     ]
    },
    {
     "name": "stdout",
     "output_type": "stream",
     "text": [
      "\n",
      "\n",
      "处理文件:G:/饭桶设计/2000-2999/2219/2219/饭桶设计(14).psd\n",
      "导出PNG\n",
      "插入广告\n"
     ]
    },
    {
     "name": "stderr",
     "output_type": "stream",
     "text": [
      "PSD添加广告生成图片: 100%|██████████████████████████████████████████| 14/14 [01:38<00:00,  7.00s/it]\n",
      "AI导出PNG: 0it [00:00, ?it/s]\n",
      "PPT导出PNG: 0it [00:00, ?it/s]\n",
      "复制到制定目录: 100%|██████████████████████████████████████████████| 14/14 [00:00<00:00, 420.85it/s]\n",
      "图片添加水印: 100%|█████████████████████████████████████████████████| 14/14 [00:02<00:00,  5.13it/s]\n",
      "解压ZIP: 100%|██████████████████████████████████████████████████████| 11/11 [00:17<00:00,  1.58s/it]\n",
      "解压RAR: 0it [00:00, ?it/s]\n"
     ]
    },
    {
     "name": "stdout",
     "output_type": "stream",
     "text": [
      "移动到根目录:b'G:/\\xe9\\xa5\\xad\\xe6\\xa1\\xb6\\xe8\\xae\\xbe\\xe8\\xae\\xa1/2000-2999/2220/2220/5107255.jpg'\n",
      "移动到根目录:b'G:/\\xe9\\xa5\\xad\\xe6\\xa1\\xb6\\xe8\\xae\\xbe\\xe8\\xae\\xa1/2000-2999/2220/2220/5114337.psd'\n",
      "移动到根目录:b'G:/\\xe9\\xa5\\xad\\xe6\\xa1\\xb6\\xe8\\xae\\xbe\\xe8\\xae\\xa1/2000-2999/2220/2220/License free.txt'\n",
      "移动到根目录:b'G:/\\xe9\\xa5\\xad\\xe6\\xa1\\xb6\\xe8\\xae\\xbe\\xe8\\xae\\xa1/2000-2999/2220/2220/License premium.txt'\n",
      "移动到根目录:b'G:/\\xe9\\xa5\\xad\\xe6\\xa1\\xb6\\xe8\\xae\\xbe\\xe8\\xae\\xa1/2000-2999/2220/2220/5107204.jpg'\n",
      "移动到根目录:b'G:/\\xe9\\xa5\\xad\\xe6\\xa1\\xb6\\xe8\\xae\\xbe\\xe8\\xae\\xa1/2000-2999/2220/2220/5114300.psd'\n",
      "移动到根目录:b'G:/\\xe9\\xa5\\xad\\xe6\\xa1\\xb6\\xe8\\xae\\xbe\\xe8\\xae\\xa1/2000-2999/2220/2220/License free (1).txt'\n",
      "移动到根目录:b'G:/\\xe9\\xa5\\xad\\xe6\\xa1\\xb6\\xe8\\xae\\xbe\\xe8\\xae\\xa1/2000-2999/2220/2220/License premium (1).txt'\n",
      "移动到根目录:b'G:/\\xe9\\xa5\\xad\\xe6\\xa1\\xb6\\xe8\\xae\\xbe\\xe8\\xae\\xa1/2000-2999/2220/2220/5113849.jpg'\n",
      "移动到根目录:b'G:/\\xe9\\xa5\\xad\\xe6\\xa1\\xb6\\xe8\\xae\\xbe\\xe8\\xae\\xa1/2000-2999/2220/2220/5114031.psd'\n",
      "移动到根目录:b'G:/\\xe9\\xa5\\xad\\xe6\\xa1\\xb6\\xe8\\xae\\xbe\\xe8\\xae\\xa1/2000-2999/2220/2220/License free (2).txt'\n",
      "移动到根目录:b'G:/\\xe9\\xa5\\xad\\xe6\\xa1\\xb6\\xe8\\xae\\xbe\\xe8\\xae\\xa1/2000-2999/2220/2220/License premium (2).txt'\n",
      "移动到根目录:b'G:/\\xe9\\xa5\\xad\\xe6\\xa1\\xb6\\xe8\\xae\\xbe\\xe8\\xae\\xa1/2000-2999/2220/2220/5107026.jpg'\n",
      "移动到根目录:b'G:/\\xe9\\xa5\\xad\\xe6\\xa1\\xb6\\xe8\\xae\\xbe\\xe8\\xae\\xa1/2000-2999/2220/2220/5113577.psd'\n",
      "移动到根目录:b'G:/\\xe9\\xa5\\xad\\xe6\\xa1\\xb6\\xe8\\xae\\xbe\\xe8\\xae\\xa1/2000-2999/2220/2220/License premium (3).txt'\n",
      "移动到根目录:b'G:/\\xe9\\xa5\\xad\\xe6\\xa1\\xb6\\xe8\\xae\\xbe\\xe8\\xae\\xa1/2000-2999/2220/2220/5113663.jpg'\n",
      "移动到根目录:b'G:/\\xe9\\xa5\\xad\\xe6\\xa1\\xb6\\xe8\\xae\\xbe\\xe8\\xae\\xa1/2000-2999/2220/2220/5113841.psd'\n",
      "移动到根目录:b'G:/\\xe9\\xa5\\xad\\xe6\\xa1\\xb6\\xe8\\xae\\xbe\\xe8\\xae\\xa1/2000-2999/2220/2220/License free (3).txt'\n",
      "移动到根目录:b'G:/\\xe9\\xa5\\xad\\xe6\\xa1\\xb6\\xe8\\xae\\xbe\\xe8\\xae\\xa1/2000-2999/2220/2220/License premium (4).txt'\n",
      "移动到根目录:b'G:/\\xe9\\xa5\\xad\\xe6\\xa1\\xb6\\xe8\\xae\\xbe\\xe8\\xae\\xa1/2000-2999/2220/2220/5113581.jpg'\n",
      "移动到根目录:b'G:/\\xe9\\xa5\\xad\\xe6\\xa1\\xb6\\xe8\\xae\\xbe\\xe8\\xae\\xa1/2000-2999/2220/2220/5113645.psd'\n",
      "移动到根目录:b'G:/\\xe9\\xa5\\xad\\xe6\\xa1\\xb6\\xe8\\xae\\xbe\\xe8\\xae\\xa1/2000-2999/2220/2220/License premium (5).txt'\n",
      "移动到根目录:b'G:/\\xe9\\xa5\\xad\\xe6\\xa1\\xb6\\xe8\\xae\\xbe\\xe8\\xae\\xa1/2000-2999/2220/2220/5073241.psd'\n",
      "移动到根目录:b'G:/\\xe9\\xa5\\xad\\xe6\\xa1\\xb6\\xe8\\xae\\xbe\\xe8\\xae\\xa1/2000-2999/2220/2220/5073246.jpg'\n",
      "移动到根目录:b'G:/\\xe9\\xa5\\xad\\xe6\\xa1\\xb6\\xe8\\xae\\xbe\\xe8\\xae\\xa1/2000-2999/2220/2220/License free (4).txt'\n",
      "移动到根目录:b'G:/\\xe9\\xa5\\xad\\xe6\\xa1\\xb6\\xe8\\xae\\xbe\\xe8\\xae\\xa1/2000-2999/2220/2220/License premium (6).txt'\n",
      "移动到根目录:b'G:/\\xe9\\xa5\\xad\\xe6\\xa1\\xb6\\xe8\\xae\\xbe\\xe8\\xae\\xa1/2000-2999/2220/2220/5107436.jpg'\n",
      "移动到根目录:b'G:/\\xe9\\xa5\\xad\\xe6\\xa1\\xb6\\xe8\\xae\\xbe\\xe8\\xae\\xa1/2000-2999/2220/2220/5114517.psd'\n",
      "移动到根目录:b'G:/\\xe9\\xa5\\xad\\xe6\\xa1\\xb6\\xe8\\xae\\xbe\\xe8\\xae\\xa1/2000-2999/2220/2220/License free (5).txt'\n",
      "移动到根目录:b'G:/\\xe9\\xa5\\xad\\xe6\\xa1\\xb6\\xe8\\xae\\xbe\\xe8\\xae\\xa1/2000-2999/2220/2220/License premium (7).txt'\n",
      "移动到根目录:b'G:/\\xe9\\xa5\\xad\\xe6\\xa1\\xb6\\xe8\\xae\\xbe\\xe8\\xae\\xa1/2000-2999/2220/2220/5107549.jpg'\n",
      "移动到根目录:b'G:/\\xe9\\xa5\\xad\\xe6\\xa1\\xb6\\xe8\\xae\\xbe\\xe8\\xae\\xa1/2000-2999/2220/2220/5107661.psd'\n",
      "移动到根目录:b'G:/\\xe9\\xa5\\xad\\xe6\\xa1\\xb6\\xe8\\xae\\xbe\\xe8\\xae\\xa1/2000-2999/2220/2220/License free (6).txt'\n",
      "移动到根目录:b'G:/\\xe9\\xa5\\xad\\xe6\\xa1\\xb6\\xe8\\xae\\xbe\\xe8\\xae\\xa1/2000-2999/2220/2220/License premium (8).txt'\n",
      "移动到根目录:b'G:/\\xe9\\xa5\\xad\\xe6\\xa1\\xb6\\xe8\\xae\\xbe\\xe8\\xae\\xa1/2000-2999/2220/2220/5114343.jpg'\n",
      "移动到根目录:b'G:/\\xe9\\xa5\\xad\\xe6\\xa1\\xb6\\xe8\\xae\\xbe\\xe8\\xae\\xa1/2000-2999/2220/2220/5114413.psd'\n",
      "移动到根目录:b'G:/\\xe9\\xa5\\xad\\xe6\\xa1\\xb6\\xe8\\xae\\xbe\\xe8\\xae\\xa1/2000-2999/2220/2220/License free (7).txt'\n",
      "移动到根目录:b'G:/\\xe9\\xa5\\xad\\xe6\\xa1\\xb6\\xe8\\xae\\xbe\\xe8\\xae\\xa1/2000-2999/2220/2220/License premium (9).txt'\n",
      "移动到根目录:b'G:/\\xe9\\xa5\\xad\\xe6\\xa1\\xb6\\xe8\\xae\\xbe\\xe8\\xae\\xa1/2000-2999/2220/2220/5113281.jpg'\n",
      "移动到根目录:b'G:/\\xe9\\xa5\\xad\\xe6\\xa1\\xb6\\xe8\\xae\\xbe\\xe8\\xae\\xa1/2000-2999/2220/2220/5113426.psd'\n",
      "移动到根目录:b'G:/\\xe9\\xa5\\xad\\xe6\\xa1\\xb6\\xe8\\xae\\xbe\\xe8\\xae\\xa1/2000-2999/2220/2220/License premium (10).txt'\n",
      "删除多余文件夹：G:\\饭桶设计\\2000-2999\\2220\\2220\\coffee-shop-banner-template\n",
      "删除多余文件夹：G:\\饭桶设计\\2000-2999\\2220\\2220\\coffee-shop-banner-template (1)\n",
      "删除多余文件夹：G:\\饭桶设计\\2000-2999\\2220\\2220\\coffee-shop-banner-template (2)\n",
      "删除多余文件夹：G:\\饭桶设计\\2000-2999\\2220\\2220\\coffee-shop-landing-page\n",
      "删除多余文件夹：G:\\饭桶设计\\2000-2999\\2220\\2220\\coffee-shop-landing-page (1)\n",
      "删除多余文件夹：G:\\饭桶设计\\2000-2999\\2220\\2220\\coffee-shop-landing-page (2)\n",
      "删除多余文件夹：G:\\饭桶设计\\2000-2999\\2220\\2220\\coffee-shop-poster-template\n",
      "删除多余文件夹：G:\\饭桶设计\\2000-2999\\2220\\2220\\coffee-shop-poster-template (1)\n",
      "删除多余文件夹：G:\\饭桶设计\\2000-2999\\2220\\2220\\coffee-shop-poster-template (2)\n",
      "删除多余文件夹：G:\\饭桶设计\\2000-2999\\2220\\2220\\coffee-shop-social-media-post\n",
      "删除多余文件夹：G:\\饭桶设计\\2000-2999\\2220\\2220\\coffee-shop-social-media-post (1)\n"
     ]
    },
    {
     "name": "stderr",
     "output_type": "stream",
     "text": [
      "复制到制定目录: 100%|██████████████████████████████████████████████| 11/11 [00:00<00:00, 164.58it/s]\n"
     ]
    },
    {
     "name": "stdout",
     "output_type": "stream",
     "text": [
      "文件重命名：b'G:/\\xe9\\xa5\\xad\\xe6\\xa1\\xb6\\xe8\\xae\\xbe\\xe8\\xae\\xa1/2000-2999/2220/2220/5073241.psd'\n",
      "文件重命名：b'G:/\\xe9\\xa5\\xad\\xe6\\xa1\\xb6\\xe8\\xae\\xbe\\xe8\\xae\\xa1/2000-2999/2220/2220/5107661.psd'\n",
      "文件重命名：b'G:/\\xe9\\xa5\\xad\\xe6\\xa1\\xb6\\xe8\\xae\\xbe\\xe8\\xae\\xa1/2000-2999/2220/2220/5113426.psd'\n",
      "文件重命名：b'G:/\\xe9\\xa5\\xad\\xe6\\xa1\\xb6\\xe8\\xae\\xbe\\xe8\\xae\\xa1/2000-2999/2220/2220/5113577.psd'\n",
      "文件重命名：b'G:/\\xe9\\xa5\\xad\\xe6\\xa1\\xb6\\xe8\\xae\\xbe\\xe8\\xae\\xa1/2000-2999/2220/2220/5113645.psd'\n",
      "文件重命名：b'G:/\\xe9\\xa5\\xad\\xe6\\xa1\\xb6\\xe8\\xae\\xbe\\xe8\\xae\\xa1/2000-2999/2220/2220/5113841.psd'\n",
      "文件重命名：b'G:/\\xe9\\xa5\\xad\\xe6\\xa1\\xb6\\xe8\\xae\\xbe\\xe8\\xae\\xa1/2000-2999/2220/2220/5114031.psd'\n",
      "文件重命名：b'G:/\\xe9\\xa5\\xad\\xe6\\xa1\\xb6\\xe8\\xae\\xbe\\xe8\\xae\\xa1/2000-2999/2220/2220/5114300.psd'\n",
      "文件重命名：b'G:/\\xe9\\xa5\\xad\\xe6\\xa1\\xb6\\xe8\\xae\\xbe\\xe8\\xae\\xa1/2000-2999/2220/2220/5114337.psd'\n",
      "文件重命名：b'G:/\\xe9\\xa5\\xad\\xe6\\xa1\\xb6\\xe8\\xae\\xbe\\xe8\\xae\\xa1/2000-2999/2220/2220/5114413.psd'\n",
      "文件重命名：b'G:/\\xe9\\xa5\\xad\\xe6\\xa1\\xb6\\xe8\\xae\\xbe\\xe8\\xae\\xa1/2000-2999/2220/2220/5114517.psd'\n",
      "文件重命名：b'G:/\\xe9\\xa5\\xad\\xe6\\xa1\\xb6\\xe8\\xae\\xbe\\xe8\\xae\\xa1/2000-2999/2220/2220/test(1).psd'\n",
      "文件重命名：b'G:/\\xe9\\xa5\\xad\\xe6\\xa1\\xb6\\xe8\\xae\\xbe\\xe8\\xae\\xa1/2000-2999/2220/2220/test(10).psd'\n",
      "文件重命名：b'G:/\\xe9\\xa5\\xad\\xe6\\xa1\\xb6\\xe8\\xae\\xbe\\xe8\\xae\\xa1/2000-2999/2220/2220/test(11).psd'\n",
      "文件重命名：b'G:/\\xe9\\xa5\\xad\\xe6\\xa1\\xb6\\xe8\\xae\\xbe\\xe8\\xae\\xa1/2000-2999/2220/2220/test(2).psd'\n",
      "文件重命名：b'G:/\\xe9\\xa5\\xad\\xe6\\xa1\\xb6\\xe8\\xae\\xbe\\xe8\\xae\\xa1/2000-2999/2220/2220/test(3).psd'\n",
      "文件重命名：b'G:/\\xe9\\xa5\\xad\\xe6\\xa1\\xb6\\xe8\\xae\\xbe\\xe8\\xae\\xa1/2000-2999/2220/2220/test(4).psd'\n",
      "文件重命名：b'G:/\\xe9\\xa5\\xad\\xe6\\xa1\\xb6\\xe8\\xae\\xbe\\xe8\\xae\\xa1/2000-2999/2220/2220/test(5).psd'\n",
      "文件重命名：b'G:/\\xe9\\xa5\\xad\\xe6\\xa1\\xb6\\xe8\\xae\\xbe\\xe8\\xae\\xa1/2000-2999/2220/2220/test(6).psd'\n",
      "文件重命名：b'G:/\\xe9\\xa5\\xad\\xe6\\xa1\\xb6\\xe8\\xae\\xbe\\xe8\\xae\\xa1/2000-2999/2220/2220/test(7).psd'\n",
      "文件重命名：b'G:/\\xe9\\xa5\\xad\\xe6\\xa1\\xb6\\xe8\\xae\\xbe\\xe8\\xae\\xa1/2000-2999/2220/2220/test(8).psd'\n",
      "文件重命名：b'G:/\\xe9\\xa5\\xad\\xe6\\xa1\\xb6\\xe8\\xae\\xbe\\xe8\\xae\\xa1/2000-2999/2220/2220/test(9).psd'\n"
     ]
    },
    {
     "name": "stderr",
     "output_type": "stream",
     "text": [
      "PSD添加广告生成图片:   0%|                                                   | 0/11 [00:00<?, ?it/s]"
     ]
    },
    {
     "name": "stdout",
     "output_type": "stream",
     "text": [
      "\n",
      "\n",
      "处理文件:G:/饭桶设计/2000-2999/2220/2220/饭桶设计(1).psd\n",
      "导出PNG\n",
      "插入广告\n"
     ]
    },
    {
     "name": "stderr",
     "output_type": "stream",
     "text": [
      "PSD添加广告生成图片:   9%|███▉                                       | 1/11 [00:06<01:07,  6.70s/it]"
     ]
    },
    {
     "name": "stdout",
     "output_type": "stream",
     "text": [
      "\n",
      "\n",
      "处理文件:G:/饭桶设计/2000-2999/2220/2220/饭桶设计(2).psd\n",
      "导出PNG\n",
      "插入广告\n"
     ]
    },
    {
     "name": "stderr",
     "output_type": "stream",
     "text": [
      "PSD添加广告生成图片:  18%|███████▊                                   | 2/11 [00:13<01:00,  6.78s/it]"
     ]
    },
    {
     "name": "stdout",
     "output_type": "stream",
     "text": [
      "\n",
      "\n",
      "处理文件:G:/饭桶设计/2000-2999/2220/2220/饭桶设计(3).psd\n",
      "导出PNG\n",
      "插入广告\n"
     ]
    },
    {
     "name": "stderr",
     "output_type": "stream",
     "text": [
      "PSD添加广告生成图片:  27%|███████████▋                               | 3/11 [00:20<00:56,  7.04s/it]"
     ]
    },
    {
     "name": "stdout",
     "output_type": "stream",
     "text": [
      "\n",
      "\n",
      "处理文件:G:/饭桶设计/2000-2999/2220/2220/饭桶设计(4).psd\n",
      "导出PNG\n",
      "插入广告\n"
     ]
    },
    {
     "name": "stderr",
     "output_type": "stream",
     "text": [
      "PSD添加广告生成图片:  36%|███████████████▋                           | 4/11 [00:27<00:48,  6.87s/it]"
     ]
    },
    {
     "name": "stdout",
     "output_type": "stream",
     "text": [
      "\n",
      "\n",
      "处理文件:G:/饭桶设计/2000-2999/2220/2220/饭桶设计(5).psd\n",
      "导出PNG\n",
      "插入广告\n"
     ]
    },
    {
     "name": "stderr",
     "output_type": "stream",
     "text": [
      "PSD添加广告生成图片:  45%|███████████████████▌                       | 5/11 [00:33<00:39,  6.55s/it]"
     ]
    },
    {
     "name": "stdout",
     "output_type": "stream",
     "text": [
      "\n",
      "\n",
      "处理文件:G:/饭桶设计/2000-2999/2220/2220/饭桶设计(6).psd\n",
      "导出PNG\n",
      "插入广告\n"
     ]
    },
    {
     "name": "stderr",
     "output_type": "stream",
     "text": [
      "PSD添加广告生成图片:  55%|███████████████████████▍                   | 6/11 [00:41<00:35,  7.17s/it]"
     ]
    },
    {
     "name": "stdout",
     "output_type": "stream",
     "text": [
      "\n",
      "\n",
      "处理文件:G:/饭桶设计/2000-2999/2220/2220/饭桶设计(7).psd\n",
      "导出PNG\n",
      "插入广告\n"
     ]
    },
    {
     "name": "stderr",
     "output_type": "stream",
     "text": [
      "PSD添加广告生成图片:  64%|███████████████████████████▎               | 7/11 [00:47<00:27,  6.78s/it]"
     ]
    },
    {
     "name": "stdout",
     "output_type": "stream",
     "text": [
      "\n",
      "\n",
      "处理文件:G:/饭桶设计/2000-2999/2220/2220/饭桶设计(8).psd\n",
      "导出PNG\n",
      "插入广告\n"
     ]
    },
    {
     "name": "stderr",
     "output_type": "stream",
     "text": [
      "PSD添加广告生成图片:  73%|███████████████████████████████▎           | 8/11 [00:56<00:21,  7.25s/it]"
     ]
    },
    {
     "name": "stdout",
     "output_type": "stream",
     "text": [
      "\n",
      "\n",
      "处理文件:G:/饭桶设计/2000-2999/2220/2220/饭桶设计(9).psd\n",
      "导出PNG\n",
      "插入广告\n"
     ]
    },
    {
     "name": "stderr",
     "output_type": "stream",
     "text": [
      "PSD添加广告生成图片:  82%|███████████████████████████████████▏       | 9/11 [01:02<00:14,  7.11s/it]"
     ]
    },
    {
     "name": "stdout",
     "output_type": "stream",
     "text": [
      "\n",
      "\n",
      "处理文件:G:/饭桶设计/2000-2999/2220/2220/饭桶设计(10).psd\n",
      "导出PNG\n",
      "插入广告\n"
     ]
    },
    {
     "name": "stderr",
     "output_type": "stream",
     "text": [
      "PSD添加广告生成图片:  91%|██████████████████████████████████████▏   | 10/11 [01:09<00:06,  6.96s/it]"
     ]
    },
    {
     "name": "stdout",
     "output_type": "stream",
     "text": [
      "\n",
      "\n",
      "处理文件:G:/饭桶设计/2000-2999/2220/2220/饭桶设计(11).psd\n",
      "导出PNG\n",
      "插入广告\n"
     ]
    },
    {
     "name": "stderr",
     "output_type": "stream",
     "text": [
      "PSD添加广告生成图片: 100%|██████████████████████████████████████████| 11/11 [01:16<00:00,  6.94s/it]\n",
      "AI导出PNG: 0it [00:00, ?it/s]\n",
      "PPT导出PNG: 0it [00:00, ?it/s]\n",
      "复制到制定目录: 100%|██████████████████████████████████████████████| 11/11 [00:00<00:00, 170.00it/s]\n",
      "图片添加水印: 100%|█████████████████████████████████████████████████| 11/11 [00:06<00:00,  1.78it/s]\n",
      "解压ZIP: 100%|██████████████████████████████████████████████████████| 14/14 [00:05<00:00,  2.75it/s]\n",
      "解压RAR: 0it [00:00, ?it/s]\n"
     ]
    },
    {
     "name": "stdout",
     "output_type": "stream",
     "text": [
      "移动到根目录:b'G:/\\xe9\\xa5\\xad\\xe6\\xa1\\xb6\\xe8\\xae\\xbe\\xe8\\xae\\xa1/2000-2999/2221/2221/3935286.psd'\n",
      "移动到根目录:b'G:/\\xe9\\xa5\\xad\\xe6\\xa1\\xb6\\xe8\\xae\\xbe\\xe8\\xae\\xa1/2000-2999/2221/2221/3935325.jpg'\n",
      "移动到根目录:b'G:/\\xe9\\xa5\\xad\\xe6\\xa1\\xb6\\xe8\\xae\\xbe\\xe8\\xae\\xa1/2000-2999/2221/2221/License free.txt'\n",
      "移动到根目录:b'G:/\\xe9\\xa5\\xad\\xe6\\xa1\\xb6\\xe8\\xae\\xbe\\xe8\\xae\\xa1/2000-2999/2221/2221/License premium.txt'\n",
      "移动到根目录:b'G:/\\xe9\\xa5\\xad\\xe6\\xa1\\xb6\\xe8\\xae\\xbe\\xe8\\xae\\xa1/2000-2999/2221/2221/3940402.jpg'\n",
      "移动到根目录:b'G:/\\xe9\\xa5\\xad\\xe6\\xa1\\xb6\\xe8\\xae\\xbe\\xe8\\xae\\xa1/2000-2999/2221/2221/3940406.psd'\n",
      "移动到根目录:b'G:/\\xe9\\xa5\\xad\\xe6\\xa1\\xb6\\xe8\\xae\\xbe\\xe8\\xae\\xa1/2000-2999/2221/2221/License free (1).txt'\n",
      "移动到根目录:b'G:/\\xe9\\xa5\\xad\\xe6\\xa1\\xb6\\xe8\\xae\\xbe\\xe8\\xae\\xa1/2000-2999/2221/2221/License premium (1).txt'\n",
      "移动到根目录:b'G:/\\xe9\\xa5\\xad\\xe6\\xa1\\xb6\\xe8\\xae\\xbe\\xe8\\xae\\xa1/2000-2999/2221/2221/3935315.psd'\n",
      "移动到根目录:b'G:/\\xe9\\xa5\\xad\\xe6\\xa1\\xb6\\xe8\\xae\\xbe\\xe8\\xae\\xa1/2000-2999/2221/2221/3935326.jpg'\n",
      "移动到根目录:b'G:/\\xe9\\xa5\\xad\\xe6\\xa1\\xb6\\xe8\\xae\\xbe\\xe8\\xae\\xa1/2000-2999/2221/2221/License free (2).txt'\n",
      "移动到根目录:b'G:/\\xe9\\xa5\\xad\\xe6\\xa1\\xb6\\xe8\\xae\\xbe\\xe8\\xae\\xa1/2000-2999/2221/2221/License premium (2).txt'\n",
      "移动到根目录:b'G:/\\xe9\\xa5\\xad\\xe6\\xa1\\xb6\\xe8\\xae\\xbe\\xe8\\xae\\xa1/2000-2999/2221/2221/3935299.psd'\n",
      "移动到根目录:b'G:/\\xe9\\xa5\\xad\\xe6\\xa1\\xb6\\xe8\\xae\\xbe\\xe8\\xae\\xa1/2000-2999/2221/2221/3935301.jpg'\n",
      "移动到根目录:b'G:/\\xe9\\xa5\\xad\\xe6\\xa1\\xb6\\xe8\\xae\\xbe\\xe8\\xae\\xa1/2000-2999/2221/2221/License free (3).txt'\n",
      "移动到根目录:b'G:/\\xe9\\xa5\\xad\\xe6\\xa1\\xb6\\xe8\\xae\\xbe\\xe8\\xae\\xa1/2000-2999/2221/2221/License premium (3).txt'\n",
      "移动到根目录:b'G:/\\xe9\\xa5\\xad\\xe6\\xa1\\xb6\\xe8\\xae\\xbe\\xe8\\xae\\xa1/2000-2999/2221/2221/3940595.psd'\n",
      "移动到根目录:b'G:/\\xe9\\xa5\\xad\\xe6\\xa1\\xb6\\xe8\\xae\\xbe\\xe8\\xae\\xa1/2000-2999/2221/2221/3940646.jpg'\n",
      "移动到根目录:b'G:/\\xe9\\xa5\\xad\\xe6\\xa1\\xb6\\xe8\\xae\\xbe\\xe8\\xae\\xa1/2000-2999/2221/2221/License free (4).txt'\n",
      "移动到根目录:b'G:/\\xe9\\xa5\\xad\\xe6\\xa1\\xb6\\xe8\\xae\\xbe\\xe8\\xae\\xa1/2000-2999/2221/2221/License premium (4).txt'\n",
      "移动到根目录:b'G:/\\xe9\\xa5\\xad\\xe6\\xa1\\xb6\\xe8\\xae\\xbe\\xe8\\xae\\xa1/2000-2999/2221/2221/3940771.jpg'\n",
      "移动到根目录:b'G:/\\xe9\\xa5\\xad\\xe6\\xa1\\xb6\\xe8\\xae\\xbe\\xe8\\xae\\xa1/2000-2999/2221/2221/3940809.psd'\n",
      "移动到根目录:b'G:/\\xe9\\xa5\\xad\\xe6\\xa1\\xb6\\xe8\\xae\\xbe\\xe8\\xae\\xa1/2000-2999/2221/2221/License free (5).txt'\n",
      "移动到根目录:b'G:/\\xe9\\xa5\\xad\\xe6\\xa1\\xb6\\xe8\\xae\\xbe\\xe8\\xae\\xa1/2000-2999/2221/2221/License premium (5).txt'\n",
      "移动到根目录:b'G:/\\xe9\\xa5\\xad\\xe6\\xa1\\xb6\\xe8\\xae\\xbe\\xe8\\xae\\xa1/2000-2999/2221/2221/3940888.psd'\n",
      "移动到根目录:b'G:/\\xe9\\xa5\\xad\\xe6\\xa1\\xb6\\xe8\\xae\\xbe\\xe8\\xae\\xa1/2000-2999/2221/2221/3940929.jpg'\n",
      "移动到根目录:b'G:/\\xe9\\xa5\\xad\\xe6\\xa1\\xb6\\xe8\\xae\\xbe\\xe8\\xae\\xa1/2000-2999/2221/2221/License free (6).txt'\n",
      "移动到根目录:b'G:/\\xe9\\xa5\\xad\\xe6\\xa1\\xb6\\xe8\\xae\\xbe\\xe8\\xae\\xa1/2000-2999/2221/2221/License premium (6).txt'\n",
      "移动到根目录:b'G:/\\xe9\\xa5\\xad\\xe6\\xa1\\xb6\\xe8\\xae\\xbe\\xe8\\xae\\xa1/2000-2999/2221/2221/3952537.psd'\n",
      "移动到根目录:b'G:/\\xe9\\xa5\\xad\\xe6\\xa1\\xb6\\xe8\\xae\\xbe\\xe8\\xae\\xa1/2000-2999/2221/2221/3952544.jpg'\n",
      "移动到根目录:b'G:/\\xe9\\xa5\\xad\\xe6\\xa1\\xb6\\xe8\\xae\\xbe\\xe8\\xae\\xa1/2000-2999/2221/2221/License free (7).txt'\n",
      "移动到根目录:b'G:/\\xe9\\xa5\\xad\\xe6\\xa1\\xb6\\xe8\\xae\\xbe\\xe8\\xae\\xa1/2000-2999/2221/2221/License premium (7).txt'\n",
      "移动到根目录:b'G:/\\xe9\\xa5\\xad\\xe6\\xa1\\xb6\\xe8\\xae\\xbe\\xe8\\xae\\xa1/2000-2999/2221/2221/3935342.psd'\n",
      "移动到根目录:b'G:/\\xe9\\xa5\\xad\\xe6\\xa1\\xb6\\xe8\\xae\\xbe\\xe8\\xae\\xa1/2000-2999/2221/2221/3935343.jpg'\n",
      "移动到根目录:b'G:/\\xe9\\xa5\\xad\\xe6\\xa1\\xb6\\xe8\\xae\\xbe\\xe8\\xae\\xa1/2000-2999/2221/2221/License free (8).txt'\n",
      "移动到根目录:b'G:/\\xe9\\xa5\\xad\\xe6\\xa1\\xb6\\xe8\\xae\\xbe\\xe8\\xae\\xa1/2000-2999/2221/2221/License premium (8).txt'\n",
      "移动到根目录:b'G:/\\xe9\\xa5\\xad\\xe6\\xa1\\xb6\\xe8\\xae\\xbe\\xe8\\xae\\xa1/2000-2999/2221/2221/3940964.psd'\n",
      "移动到根目录:b'G:/\\xe9\\xa5\\xad\\xe6\\xa1\\xb6\\xe8\\xae\\xbe\\xe8\\xae\\xa1/2000-2999/2221/2221/3940965.jpg'\n",
      "移动到根目录:b'G:/\\xe9\\xa5\\xad\\xe6\\xa1\\xb6\\xe8\\xae\\xbe\\xe8\\xae\\xa1/2000-2999/2221/2221/License free (9).txt'\n",
      "移动到根目录:b'G:/\\xe9\\xa5\\xad\\xe6\\xa1\\xb6\\xe8\\xae\\xbe\\xe8\\xae\\xa1/2000-2999/2221/2221/License premium (9).txt'\n",
      "移动到根目录:b'G:/\\xe9\\xa5\\xad\\xe6\\xa1\\xb6\\xe8\\xae\\xbe\\xe8\\xae\\xa1/2000-2999/2221/2221/3935254.psd'\n",
      "移动到根目录:b'G:/\\xe9\\xa5\\xad\\xe6\\xa1\\xb6\\xe8\\xae\\xbe\\xe8\\xae\\xa1/2000-2999/2221/2221/3935258.jpg'\n",
      "移动到根目录:b'G:/\\xe9\\xa5\\xad\\xe6\\xa1\\xb6\\xe8\\xae\\xbe\\xe8\\xae\\xa1/2000-2999/2221/2221/License free (10).txt'\n",
      "移动到根目录:b'G:/\\xe9\\xa5\\xad\\xe6\\xa1\\xb6\\xe8\\xae\\xbe\\xe8\\xae\\xa1/2000-2999/2221/2221/License premium (10).txt'\n",
      "移动到根目录:b'G:/\\xe9\\xa5\\xad\\xe6\\xa1\\xb6\\xe8\\xae\\xbe\\xe8\\xae\\xa1/2000-2999/2221/2221/3935234.psd'\n",
      "移动到根目录:b'G:/\\xe9\\xa5\\xad\\xe6\\xa1\\xb6\\xe8\\xae\\xbe\\xe8\\xae\\xa1/2000-2999/2221/2221/3935246.jpg'\n",
      "移动到根目录:b'G:/\\xe9\\xa5\\xad\\xe6\\xa1\\xb6\\xe8\\xae\\xbe\\xe8\\xae\\xa1/2000-2999/2221/2221/License free (11).txt'\n",
      "移动到根目录:b'G:/\\xe9\\xa5\\xad\\xe6\\xa1\\xb6\\xe8\\xae\\xbe\\xe8\\xae\\xa1/2000-2999/2221/2221/License premium (11).txt'\n",
      "移动到根目录:b'G:/\\xe9\\xa5\\xad\\xe6\\xa1\\xb6\\xe8\\xae\\xbe\\xe8\\xae\\xa1/2000-2999/2221/2221/3940350.psd'\n",
      "移动到根目录:b'G:/\\xe9\\xa5\\xad\\xe6\\xa1\\xb6\\xe8\\xae\\xbe\\xe8\\xae\\xa1/2000-2999/2221/2221/3940351.jpg'\n",
      "移动到根目录:b'G:/\\xe9\\xa5\\xad\\xe6\\xa1\\xb6\\xe8\\xae\\xbe\\xe8\\xae\\xa1/2000-2999/2221/2221/License free (12).txt'\n",
      "移动到根目录:b'G:/\\xe9\\xa5\\xad\\xe6\\xa1\\xb6\\xe8\\xae\\xbe\\xe8\\xae\\xa1/2000-2999/2221/2221/License premium (12).txt'\n",
      "移动到根目录:b'G:/\\xe9\\xa5\\xad\\xe6\\xa1\\xb6\\xe8\\xae\\xbe\\xe8\\xae\\xa1/2000-2999/2221/2221/3935270.psd'\n",
      "移动到根目录:b'G:/\\xe9\\xa5\\xad\\xe6\\xa1\\xb6\\xe8\\xae\\xbe\\xe8\\xae\\xa1/2000-2999/2221/2221/3935271.jpg'\n",
      "移动到根目录:b'G:/\\xe9\\xa5\\xad\\xe6\\xa1\\xb6\\xe8\\xae\\xbe\\xe8\\xae\\xa1/2000-2999/2221/2221/License free (13).txt'\n",
      "移动到根目录:b'G:/\\xe9\\xa5\\xad\\xe6\\xa1\\xb6\\xe8\\xae\\xbe\\xe8\\xae\\xa1/2000-2999/2221/2221/License premium (13).txt'\n",
      "删除多余文件夹：G:\\饭桶设计\\2000-2999\\2221\\2221\\deco-home-concept-banner-template\n",
      "删除多余文件夹：G:\\饭桶设计\\2000-2999\\2221\\2221\\deco-home-concept-banner-template (1)\n",
      "删除多余文件夹：G:\\饭桶设计\\2000-2999\\2221\\2221\\deco-home-concept-banner-template (2)\n",
      "删除多余文件夹：G:\\饭桶设计\\2000-2999\\2221\\2221\\deco-home-concept-banner-template (3)\n",
      "删除多余文件夹：G:\\饭桶设计\\2000-2999\\2221\\2221\\deco-home-concept-flyer-template\n",
      "删除多余文件夹：G:\\饭桶设计\\2000-2999\\2221\\2221\\deco-home-concept-flyer-template (1)\n",
      "删除多余文件夹：G:\\饭桶设计\\2000-2999\\2221\\2221\\deco-home-concept-instagram-stories-template\n",
      "删除多余文件夹：G:\\饭桶设计\\2000-2999\\2221\\2221\\deco-home-concept-poster-template\n",
      "删除多余文件夹：G:\\饭桶设计\\2000-2999\\2221\\2221\\deco-home-concept-poster-template (1)\n",
      "删除多余文件夹：G:\\饭桶设计\\2000-2999\\2221\\2221\\deco-home-concept-social-media-post-template\n",
      "删除多余文件夹：G:\\饭桶设计\\2000-2999\\2221\\2221\\deco-home-concept-square-flyer-template\n",
      "删除多余文件夹：G:\\饭桶设计\\2000-2999\\2221\\2221\\deco-home-concept-square-flyer-template (1)\n",
      "删除多余文件夹：G:\\饭桶设计\\2000-2999\\2221\\2221\\deco-home-concept-square-flyer-template (2)\n",
      "删除多余文件夹：G:\\饭桶设计\\2000-2999\\2221\\2221\\deco-home-concept-square-flyer-template (3)\n"
     ]
    },
    {
     "name": "stderr",
     "output_type": "stream",
     "text": [
      "复制到制定目录: 100%|██████████████████████████████████████████████| 14/14 [00:00<00:00, 164.38it/s]\n"
     ]
    },
    {
     "name": "stdout",
     "output_type": "stream",
     "text": [
      "文件重命名：b'G:/\\xe9\\xa5\\xad\\xe6\\xa1\\xb6\\xe8\\xae\\xbe\\xe8\\xae\\xa1/2000-2999/2221/2221/3935234.psd'\n",
      "文件重命名：b'G:/\\xe9\\xa5\\xad\\xe6\\xa1\\xb6\\xe8\\xae\\xbe\\xe8\\xae\\xa1/2000-2999/2221/2221/3935254.psd'\n",
      "文件重命名：b'G:/\\xe9\\xa5\\xad\\xe6\\xa1\\xb6\\xe8\\xae\\xbe\\xe8\\xae\\xa1/2000-2999/2221/2221/3935270.psd'\n",
      "文件重命名：b'G:/\\xe9\\xa5\\xad\\xe6\\xa1\\xb6\\xe8\\xae\\xbe\\xe8\\xae\\xa1/2000-2999/2221/2221/3935286.psd'\n",
      "文件重命名：b'G:/\\xe9\\xa5\\xad\\xe6\\xa1\\xb6\\xe8\\xae\\xbe\\xe8\\xae\\xa1/2000-2999/2221/2221/3935299.psd'\n",
      "文件重命名：b'G:/\\xe9\\xa5\\xad\\xe6\\xa1\\xb6\\xe8\\xae\\xbe\\xe8\\xae\\xa1/2000-2999/2221/2221/3935315.psd'\n",
      "文件重命名：b'G:/\\xe9\\xa5\\xad\\xe6\\xa1\\xb6\\xe8\\xae\\xbe\\xe8\\xae\\xa1/2000-2999/2221/2221/3935342.psd'\n",
      "文件重命名：b'G:/\\xe9\\xa5\\xad\\xe6\\xa1\\xb6\\xe8\\xae\\xbe\\xe8\\xae\\xa1/2000-2999/2221/2221/3940350.psd'\n",
      "文件重命名：b'G:/\\xe9\\xa5\\xad\\xe6\\xa1\\xb6\\xe8\\xae\\xbe\\xe8\\xae\\xa1/2000-2999/2221/2221/3940406.psd'\n",
      "文件重命名：b'G:/\\xe9\\xa5\\xad\\xe6\\xa1\\xb6\\xe8\\xae\\xbe\\xe8\\xae\\xa1/2000-2999/2221/2221/3940595.psd'\n",
      "文件重命名：b'G:/\\xe9\\xa5\\xad\\xe6\\xa1\\xb6\\xe8\\xae\\xbe\\xe8\\xae\\xa1/2000-2999/2221/2221/3940809.psd'\n",
      "文件重命名：b'G:/\\xe9\\xa5\\xad\\xe6\\xa1\\xb6\\xe8\\xae\\xbe\\xe8\\xae\\xa1/2000-2999/2221/2221/3940888.psd'\n",
      "文件重命名：b'G:/\\xe9\\xa5\\xad\\xe6\\xa1\\xb6\\xe8\\xae\\xbe\\xe8\\xae\\xa1/2000-2999/2221/2221/3940964.psd'\n",
      "文件重命名：b'G:/\\xe9\\xa5\\xad\\xe6\\xa1\\xb6\\xe8\\xae\\xbe\\xe8\\xae\\xa1/2000-2999/2221/2221/3952537.psd'\n",
      "文件重命名：b'G:/\\xe9\\xa5\\xad\\xe6\\xa1\\xb6\\xe8\\xae\\xbe\\xe8\\xae\\xa1/2000-2999/2221/2221/test(1).psd'\n",
      "文件重命名：b'G:/\\xe9\\xa5\\xad\\xe6\\xa1\\xb6\\xe8\\xae\\xbe\\xe8\\xae\\xa1/2000-2999/2221/2221/test(10).psd'\n",
      "文件重命名：b'G:/\\xe9\\xa5\\xad\\xe6\\xa1\\xb6\\xe8\\xae\\xbe\\xe8\\xae\\xa1/2000-2999/2221/2221/test(11).psd'\n",
      "文件重命名：b'G:/\\xe9\\xa5\\xad\\xe6\\xa1\\xb6\\xe8\\xae\\xbe\\xe8\\xae\\xa1/2000-2999/2221/2221/test(12).psd'\n",
      "文件重命名：b'G:/\\xe9\\xa5\\xad\\xe6\\xa1\\xb6\\xe8\\xae\\xbe\\xe8\\xae\\xa1/2000-2999/2221/2221/test(13).psd'\n",
      "文件重命名：b'G:/\\xe9\\xa5\\xad\\xe6\\xa1\\xb6\\xe8\\xae\\xbe\\xe8\\xae\\xa1/2000-2999/2221/2221/test(14).psd'\n",
      "文件重命名：b'G:/\\xe9\\xa5\\xad\\xe6\\xa1\\xb6\\xe8\\xae\\xbe\\xe8\\xae\\xa1/2000-2999/2221/2221/test(2).psd'\n",
      "文件重命名：b'G:/\\xe9\\xa5\\xad\\xe6\\xa1\\xb6\\xe8\\xae\\xbe\\xe8\\xae\\xa1/2000-2999/2221/2221/test(3).psd'\n",
      "文件重命名：b'G:/\\xe9\\xa5\\xad\\xe6\\xa1\\xb6\\xe8\\xae\\xbe\\xe8\\xae\\xa1/2000-2999/2221/2221/test(4).psd'\n",
      "文件重命名：b'G:/\\xe9\\xa5\\xad\\xe6\\xa1\\xb6\\xe8\\xae\\xbe\\xe8\\xae\\xa1/2000-2999/2221/2221/test(5).psd'\n",
      "文件重命名：b'G:/\\xe9\\xa5\\xad\\xe6\\xa1\\xb6\\xe8\\xae\\xbe\\xe8\\xae\\xa1/2000-2999/2221/2221/test(6).psd'\n",
      "文件重命名：b'G:/\\xe9\\xa5\\xad\\xe6\\xa1\\xb6\\xe8\\xae\\xbe\\xe8\\xae\\xa1/2000-2999/2221/2221/test(7).psd'\n",
      "文件重命名：b'G:/\\xe9\\xa5\\xad\\xe6\\xa1\\xb6\\xe8\\xae\\xbe\\xe8\\xae\\xa1/2000-2999/2221/2221/test(8).psd'\n",
      "文件重命名：b'G:/\\xe9\\xa5\\xad\\xe6\\xa1\\xb6\\xe8\\xae\\xbe\\xe8\\xae\\xa1/2000-2999/2221/2221/test(9).psd'\n"
     ]
    },
    {
     "name": "stderr",
     "output_type": "stream",
     "text": [
      "PSD添加广告生成图片:   0%|                                                   | 0/14 [00:00<?, ?it/s]"
     ]
    },
    {
     "name": "stdout",
     "output_type": "stream",
     "text": [
      "\n",
      "\n",
      "处理文件:G:/饭桶设计/2000-2999/2221/2221/饭桶设计(1).psd\n",
      "导出PNG\n",
      "插入广告\n"
     ]
    },
    {
     "name": "stderr",
     "output_type": "stream",
     "text": [
      "PSD添加广告生成图片:   7%|███                                        | 1/14 [00:05<01:05,  5.04s/it]"
     ]
    },
    {
     "name": "stdout",
     "output_type": "stream",
     "text": [
      "\n",
      "\n",
      "处理文件:G:/饭桶设计/2000-2999/2221/2221/饭桶设计(2).psd\n",
      "导出PNG\n",
      "插入广告\n"
     ]
    },
    {
     "name": "stderr",
     "output_type": "stream",
     "text": [
      "PSD添加广告生成图片:  14%|██████▏                                    | 2/14 [00:13<01:22,  6.89s/it]"
     ]
    },
    {
     "name": "stdout",
     "output_type": "stream",
     "text": [
      "\n",
      "\n",
      "处理文件:G:/饭桶设计/2000-2999/2221/2221/饭桶设计(3).psd\n",
      "导出PNG\n",
      "插入广告\n"
     ]
    },
    {
     "name": "stderr",
     "output_type": "stream",
     "text": [
      "PSD添加广告生成图片:  21%|█████████▏                                 | 3/14 [00:20<01:16,  6.95s/it]"
     ]
    },
    {
     "name": "stdout",
     "output_type": "stream",
     "text": [
      "\n",
      "\n",
      "处理文件:G:/饭桶设计/2000-2999/2221/2221/饭桶设计(4).psd\n",
      "导出PNG\n",
      "插入广告\n"
     ]
    },
    {
     "name": "stderr",
     "output_type": "stream",
     "text": [
      "PSD添加广告生成图片:  29%|████████████▎                              | 4/14 [00:26<01:04,  6.48s/it]"
     ]
    },
    {
     "name": "stdout",
     "output_type": "stream",
     "text": [
      "\n",
      "\n",
      "处理文件:G:/饭桶设计/2000-2999/2221/2221/饭桶设计(5).psd\n",
      "导出PNG\n",
      "插入广告\n"
     ]
    },
    {
     "name": "stderr",
     "output_type": "stream",
     "text": [
      "PSD添加广告生成图片:  36%|███████████████▎                           | 5/14 [00:32<00:57,  6.40s/it]"
     ]
    },
    {
     "name": "stdout",
     "output_type": "stream",
     "text": [
      "\n",
      "\n",
      "处理文件:G:/饭桶设计/2000-2999/2221/2221/饭桶设计(6).psd\n",
      "导出PNG\n",
      "插入广告\n"
     ]
    },
    {
     "name": "stderr",
     "output_type": "stream",
     "text": [
      "PSD添加广告生成图片:  43%|██████████████████▍                        | 6/14 [00:41<00:59,  7.44s/it]"
     ]
    },
    {
     "name": "stdout",
     "output_type": "stream",
     "text": [
      "\n",
      "\n",
      "处理文件:G:/饭桶设计/2000-2999/2221/2221/饭桶设计(7).psd\n",
      "导出PNG\n",
      "插入广告\n"
     ]
    },
    {
     "name": "stderr",
     "output_type": "stream",
     "text": [
      "PSD添加广告生成图片:  50%|█████████████████████▌                     | 7/14 [00:46<00:46,  6.71s/it]"
     ]
    },
    {
     "name": "stdout",
     "output_type": "stream",
     "text": [
      "\n",
      "\n",
      "处理文件:G:/饭桶设计/2000-2999/2221/2221/饭桶设计(8).psd\n",
      "导出PNG\n",
      "插入广告\n"
     ]
    },
    {
     "name": "stderr",
     "output_type": "stream",
     "text": [
      "PSD添加广告生成图片:  57%|████████████████████████▌                  | 8/14 [00:51<00:35,  5.89s/it]"
     ]
    },
    {
     "name": "stdout",
     "output_type": "stream",
     "text": [
      "\n",
      "\n",
      "处理文件:G:/饭桶设计/2000-2999/2221/2221/饭桶设计(9).psd\n",
      "导出PNG\n",
      "插入广告\n"
     ]
    },
    {
     "name": "stderr",
     "output_type": "stream",
     "text": [
      "PSD添加广告生成图片:  64%|███████████████████████████▋               | 9/14 [00:56<00:29,  5.89s/it]"
     ]
    },
    {
     "name": "stdout",
     "output_type": "stream",
     "text": [
      "\n",
      "\n",
      "处理文件:G:/饭桶设计/2000-2999/2221/2221/饭桶设计(10).psd\n",
      "导出PNG\n",
      "插入广告\n"
     ]
    },
    {
     "name": "stderr",
     "output_type": "stream",
     "text": [
      "PSD添加广告生成图片:  71%|██████████████████████████████            | 10/14 [01:05<00:26,  6.69s/it]"
     ]
    },
    {
     "name": "stdout",
     "output_type": "stream",
     "text": [
      "\n",
      "\n",
      "处理文件:G:/饭桶设计/2000-2999/2221/2221/饭桶设计(11).psd\n",
      "导出PNG\n",
      "插入广告\n"
     ]
    },
    {
     "name": "stderr",
     "output_type": "stream",
     "text": [
      "PSD添加广告生成图片:  79%|█████████████████████████████████         | 11/14 [01:13<00:21,  7.04s/it]"
     ]
    },
    {
     "name": "stdout",
     "output_type": "stream",
     "text": [
      "\n",
      "\n",
      "处理文件:G:/饭桶设计/2000-2999/2221/2221/饭桶设计(12).psd\n",
      "导出PNG\n",
      "插入广告\n"
     ]
    },
    {
     "name": "stderr",
     "output_type": "stream",
     "text": [
      "PSD添加广告生成图片:  86%|████████████████████████████████████      | 12/14 [01:20<00:14,  7.16s/it]"
     ]
    },
    {
     "name": "stdout",
     "output_type": "stream",
     "text": [
      "\n",
      "\n",
      "处理文件:G:/饭桶设计/2000-2999/2221/2221/饭桶设计(13).psd\n",
      "导出PNG\n",
      "插入广告\n"
     ]
    },
    {
     "name": "stderr",
     "output_type": "stream",
     "text": [
      "PSD添加广告生成图片:  93%|███████████████████████████████████████   | 13/14 [01:25<00:06,  6.35s/it]"
     ]
    },
    {
     "name": "stdout",
     "output_type": "stream",
     "text": [
      "\n",
      "\n",
      "处理文件:G:/饭桶设计/2000-2999/2221/2221/饭桶设计(14).psd\n",
      "导出PNG\n",
      "插入广告\n"
     ]
    },
    {
     "name": "stderr",
     "output_type": "stream",
     "text": [
      "PSD添加广告生成图片: 100%|██████████████████████████████████████████| 14/14 [01:31<00:00,  6.50s/it]\n",
      "AI导出PNG: 0it [00:00, ?it/s]\n",
      "PPT导出PNG: 0it [00:00, ?it/s]\n",
      "复制到制定目录: 100%|██████████████████████████████████████████████| 14/14 [00:00<00:00, 448.34it/s]\n",
      "图片添加水印: 100%|█████████████████████████████████████████████████| 14/14 [00:05<00:00,  2.79it/s]\n",
      "解压ZIP: 100%|██████████████████████████████████████████████████████| 20/20 [00:32<00:00,  1.62s/it]\n",
      "解压RAR: 0it [00:00, ?it/s]\n"
     ]
    },
    {
     "name": "stdout",
     "output_type": "stream",
     "text": [
      "移动到根目录:b'G:/\\xe9\\xa5\\xad\\xe6\\xa1\\xb6\\xe8\\xae\\xbe\\xe8\\xae\\xa1/2000-2999/2222/2222/7455072.jpg'\n",
      "移动到根目录:b'G:/\\xe9\\xa5\\xad\\xe6\\xa1\\xb6\\xe8\\xae\\xbe\\xe8\\xae\\xa1/2000-2999/2222/2222/7455233.psd'\n",
      "移动到根目录:b'G:/\\xe9\\xa5\\xad\\xe6\\xa1\\xb6\\xe8\\xae\\xbe\\xe8\\xae\\xa1/2000-2999/2222/2222/7455066.jpg'\n",
      "移动到根目录:b'G:/\\xe9\\xa5\\xad\\xe6\\xa1\\xb6\\xe8\\xae\\xbe\\xe8\\xae\\xa1/2000-2999/2222/2222/7455067.psd'\n",
      "移动到根目录:b'G:/\\xe9\\xa5\\xad\\xe6\\xa1\\xb6\\xe8\\xae\\xbe\\xe8\\xae\\xa1/2000-2999/2222/2222/7455171.jpg'\n",
      "移动到根目录:b'G:/\\xe9\\xa5\\xad\\xe6\\xa1\\xb6\\xe8\\xae\\xbe\\xe8\\xae\\xa1/2000-2999/2222/2222/7455172.psd'\n",
      "移动到根目录:b'G:/\\xe9\\xa5\\xad\\xe6\\xa1\\xb6\\xe8\\xae\\xbe\\xe8\\xae\\xa1/2000-2999/2222/2222/7455175.jpg'\n",
      "移动到根目录:b'G:/\\xe9\\xa5\\xad\\xe6\\xa1\\xb6\\xe8\\xae\\xbe\\xe8\\xae\\xa1/2000-2999/2222/2222/7455176.psd'\n",
      "移动到根目录:b'G:/\\xe9\\xa5\\xad\\xe6\\xa1\\xb6\\xe8\\xae\\xbe\\xe8\\xae\\xa1/2000-2999/2222/2222/7455173.jpg'\n",
      "移动到根目录:b'G:/\\xe9\\xa5\\xad\\xe6\\xa1\\xb6\\xe8\\xae\\xbe\\xe8\\xae\\xa1/2000-2999/2222/2222/7455174.psd'\n",
      "移动到根目录:b'G:/\\xe9\\xa5\\xad\\xe6\\xa1\\xb6\\xe8\\xae\\xbe\\xe8\\xae\\xa1/2000-2999/2222/2222/7441581.jpg'\n",
      "移动到根目录:b'G:/\\xe9\\xa5\\xad\\xe6\\xa1\\xb6\\xe8\\xae\\xbe\\xe8\\xae\\xa1/2000-2999/2222/2222/7441600.psd'\n",
      "移动到根目录:b'G:/\\xe9\\xa5\\xad\\xe6\\xa1\\xb6\\xe8\\xae\\xbe\\xe8\\xae\\xa1/2000-2999/2222/2222/7455167.psd'\n",
      "移动到根目录:b'G:/\\xe9\\xa5\\xad\\xe6\\xa1\\xb6\\xe8\\xae\\xbe\\xe8\\xae\\xa1/2000-2999/2222/2222/7455168.jpg'\n",
      "移动到根目录:b'G:/\\xe9\\xa5\\xad\\xe6\\xa1\\xb6\\xe8\\xae\\xbe\\xe8\\xae\\xa1/2000-2999/2222/2222/7455068.jpg'\n",
      "移动到根目录:b'G:/\\xe9\\xa5\\xad\\xe6\\xa1\\xb6\\xe8\\xae\\xbe\\xe8\\xae\\xa1/2000-2999/2222/2222/7455071.psd'\n",
      "移动到根目录:b'G:/\\xe9\\xa5\\xad\\xe6\\xa1\\xb6\\xe8\\xae\\xbe\\xe8\\xae\\xa1/2000-2999/2222/2222/7455160.psd'\n",
      "移动到根目录:b'G:/\\xe9\\xa5\\xad\\xe6\\xa1\\xb6\\xe8\\xae\\xbe\\xe8\\xae\\xa1/2000-2999/2222/2222/7455161.jpg'\n",
      "移动到根目录:b'G:/\\xe9\\xa5\\xad\\xe6\\xa1\\xb6\\xe8\\xae\\xbe\\xe8\\xae\\xa1/2000-2999/2222/2222/7455059.jpg'\n",
      "移动到根目录:b'G:/\\xe9\\xa5\\xad\\xe6\\xa1\\xb6\\xe8\\xae\\xbe\\xe8\\xae\\xa1/2000-2999/2222/2222/7455065.psd'\n",
      "移动到根目录:b'G:/\\xe9\\xa5\\xad\\xe6\\xa1\\xb6\\xe8\\xae\\xbe\\xe8\\xae\\xa1/2000-2999/2222/2222/7441604.jpg'\n",
      "移动到根目录:b'G:/\\xe9\\xa5\\xad\\xe6\\xa1\\xb6\\xe8\\xae\\xbe\\xe8\\xae\\xa1/2000-2999/2222/2222/7441608.psd'\n",
      "移动到根目录:b'G:/\\xe9\\xa5\\xad\\xe6\\xa1\\xb6\\xe8\\xae\\xbe\\xe8\\xae\\xa1/2000-2999/2222/2222/7455053.jpg'\n",
      "移动到根目录:b'G:/\\xe9\\xa5\\xad\\xe6\\xa1\\xb6\\xe8\\xae\\xbe\\xe8\\xae\\xa1/2000-2999/2222/2222/7455055.psd'\n",
      "移动到根目录:b'G:/\\xe9\\xa5\\xad\\xe6\\xa1\\xb6\\xe8\\xae\\xbe\\xe8\\xae\\xa1/2000-2999/2222/2222/7455180.jpg'\n",
      "移动到根目录:b'G:/\\xe9\\xa5\\xad\\xe6\\xa1\\xb6\\xe8\\xae\\xbe\\xe8\\xae\\xa1/2000-2999/2222/2222/7455186.psd'\n",
      "移动到根目录:b'G:/\\xe9\\xa5\\xad\\xe6\\xa1\\xb6\\xe8\\xae\\xbe\\xe8\\xae\\xa1/2000-2999/2222/2222/7455056.jpg'\n",
      "移动到根目录:b'G:/\\xe9\\xa5\\xad\\xe6\\xa1\\xb6\\xe8\\xae\\xbe\\xe8\\xae\\xa1/2000-2999/2222/2222/7455058.psd'\n",
      "移动到根目录:b'G:/\\xe9\\xa5\\xad\\xe6\\xa1\\xb6\\xe8\\xae\\xbe\\xe8\\xae\\xa1/2000-2999/2222/2222/7455169.jpg'\n",
      "移动到根目录:b'G:/\\xe9\\xa5\\xad\\xe6\\xa1\\xb6\\xe8\\xae\\xbe\\xe8\\xae\\xa1/2000-2999/2222/2222/7455170.psd'\n",
      "移动到根目录:b'G:/\\xe9\\xa5\\xad\\xe6\\xa1\\xb6\\xe8\\xae\\xbe\\xe8\\xae\\xa1/2000-2999/2222/2222/7455177.jpg'\n",
      "移动到根目录:b'G:/\\xe9\\xa5\\xad\\xe6\\xa1\\xb6\\xe8\\xae\\xbe\\xe8\\xae\\xa1/2000-2999/2222/2222/7455179.psd'\n",
      "移动到根目录:b'G:/\\xe9\\xa5\\xad\\xe6\\xa1\\xb6\\xe8\\xae\\xbe\\xe8\\xae\\xa1/2000-2999/2222/2222/7455194.psd'\n",
      "移动到根目录:b'G:/\\xe9\\xa5\\xad\\xe6\\xa1\\xb6\\xe8\\xae\\xbe\\xe8\\xae\\xa1/2000-2999/2222/2222/7455196.jpg'\n",
      "移动到根目录:b'G:/\\xe9\\xa5\\xad\\xe6\\xa1\\xb6\\xe8\\xae\\xbe\\xe8\\xae\\xa1/2000-2999/2222/2222/7455162.psd'\n",
      "移动到根目录:b'G:/\\xe9\\xa5\\xad\\xe6\\xa1\\xb6\\xe8\\xae\\xbe\\xe8\\xae\\xa1/2000-2999/2222/2222/7455163.jpg'\n",
      "移动到根目录:b'G:/\\xe9\\xa5\\xad\\xe6\\xa1\\xb6\\xe8\\xae\\xbe\\xe8\\xae\\xa1/2000-2999/2222/2222/7455219.jpg'\n",
      "移动到根目录:b'G:/\\xe9\\xa5\\xad\\xe6\\xa1\\xb6\\xe8\\xae\\xbe\\xe8\\xae\\xa1/2000-2999/2222/2222/7455226.psd'\n",
      "移动到根目录:b'G:/\\xe9\\xa5\\xad\\xe6\\xa1\\xb6\\xe8\\xae\\xbe\\xe8\\xae\\xa1/2000-2999/2222/2222/7455204.psd'\n",
      "移动到根目录:b'G:/\\xe9\\xa5\\xad\\xe6\\xa1\\xb6\\xe8\\xae\\xbe\\xe8\\xae\\xa1/2000-2999/2222/2222/7455205.jpg'\n",
      "删除多余文件夹：G:\\饭桶设计\\2000-2999\\2222\\2222\\gradient-rose-gold-invitation-a4-poster\n",
      "删除多余文件夹：G:\\饭桶设计\\2000-2999\\2222\\2222\\gradient-rose-gold-invitation-a4-poster-template\n",
      "删除多余文件夹：G:\\饭桶设计\\2000-2999\\2222\\2222\\gradient-rose-gold-invitation-banner\n",
      "删除多余文件夹：G:\\饭桶设计\\2000-2999\\2222\\2222\\gradient-rose-gold-invitation-banner (1)\n",
      "删除多余文件夹：G:\\饭桶设计\\2000-2999\\2222\\2222\\gradient-rose-gold-invitation-banner-template\n",
      "删除多余文件夹：G:\\饭桶设计\\2000-2999\\2222\\2222\\gradient-rose-gold-invitation-flyer\n",
      "删除多余文件夹：G:\\饭桶设计\\2000-2999\\2222\\2222\\gradient-rose-gold-invitation-landing-page\n",
      "删除多余文件夹：G:\\饭桶设计\\2000-2999\\2222\\2222\\gradient-rose-gold-invitation-poster\n",
      "删除多余文件夹：G:\\饭桶设计\\2000-2999\\2222\\2222\\gradient-rose-gold-invitation-web-template\n",
      "删除多余文件夹：G:\\饭桶设计\\2000-2999\\2222\\2222\\rose-gold-invitation-a4-poster-template\n",
      "删除多余文件夹：G:\\饭桶设计\\2000-2999\\2222\\2222\\rose-gold-invitation-a4-poster-template (1)\n",
      "删除多余文件夹：G:\\饭桶设计\\2000-2999\\2222\\2222\\rose-gold-invitation-a5-flyer\n",
      "删除多余文件夹：G:\\饭桶设计\\2000-2999\\2222\\2222\\rose-gold-invitation-banner-template\n",
      "删除多余文件夹：G:\\饭桶设计\\2000-2999\\2222\\2222\\rose-gold-invitation-flyer-template\n",
      "删除多余文件夹：G:\\饭桶设计\\2000-2999\\2222\\2222\\rose-gold-invitation-gradient-banner\n",
      "删除多余文件夹：G:\\饭桶设计\\2000-2999\\2222\\2222\\rose-gold-invitation-horizontal-banner\n",
      "删除多余文件夹：G:\\饭桶设计\\2000-2999\\2222\\2222\\rose-gold-invitation-instagram-stories-template\n",
      "删除多余文件夹：G:\\饭桶设计\\2000-2999\\2222\\2222\\rose-gold-invitation-landing-page-template\n",
      "删除多余文件夹：G:\\饭桶设计\\2000-2999\\2222\\2222\\rose-gold-invitation-poster-template\n",
      "删除多余文件夹：G:\\饭桶设计\\2000-2999\\2222\\2222\\rose-gold-invitation-social-media-posts\n"
     ]
    },
    {
     "name": "stderr",
     "output_type": "stream",
     "text": [
      "复制到制定目录: 100%|██████████████████████████████████████████████| 20/20 [00:00<00:00, 182.51it/s]"
     ]
    },
    {
     "name": "stdout",
     "output_type": "stream",
     "text": [
      "文件重命名：b'G:/\\xe9\\xa5\\xad\\xe6\\xa1\\xb6\\xe8\\xae\\xbe\\xe8\\xae\\xa1/2000-2999/2222/2222/7441600.psd'\n",
      "文件重命名：b'G:/\\xe9\\xa5\\xad\\xe6\\xa1\\xb6\\xe8\\xae\\xbe\\xe8\\xae\\xa1/2000-2999/2222/2222/7441608.psd'\n",
      "文件重命名：b'G:/\\xe9\\xa5\\xad\\xe6\\xa1\\xb6\\xe8\\xae\\xbe\\xe8\\xae\\xa1/2000-2999/2222/2222/7455055.psd'\n",
      "文件重命名：b'G:/\\xe9\\xa5\\xad\\xe6\\xa1\\xb6\\xe8\\xae\\xbe\\xe8\\xae\\xa1/2000-2999/2222/2222/7455058.psd'\n",
      "文件重命名：b'G:/\\xe9\\xa5\\xad\\xe6\\xa1\\xb6\\xe8\\xae\\xbe\\xe8\\xae\\xa1/2000-2999/2222/2222/7455065.psd'\n",
      "文件重命名：b'G:/\\xe9\\xa5\\xad\\xe6\\xa1\\xb6\\xe8\\xae\\xbe\\xe8\\xae\\xa1/2000-2999/2222/2222/7455067.psd'\n",
      "文件重命名：b'G:/\\xe9\\xa5\\xad\\xe6\\xa1\\xb6\\xe8\\xae\\xbe\\xe8\\xae\\xa1/2000-2999/2222/2222/7455071.psd'\n",
      "文件重命名：b'G:/\\xe9\\xa5\\xad\\xe6\\xa1\\xb6\\xe8\\xae\\xbe\\xe8\\xae\\xa1/2000-2999/2222/2222/7455160.psd'\n",
      "文件重命名：b'G:/\\xe9\\xa5\\xad\\xe6\\xa1\\xb6\\xe8\\xae\\xbe\\xe8\\xae\\xa1/2000-2999/2222/2222/7455162.psd'\n",
      "文件重命名：b'G:/\\xe9\\xa5\\xad\\xe6\\xa1\\xb6\\xe8\\xae\\xbe\\xe8\\xae\\xa1/2000-2999/2222/2222/7455167.psd'\n",
      "文件重命名：b'G:/\\xe9\\xa5\\xad\\xe6\\xa1\\xb6\\xe8\\xae\\xbe\\xe8\\xae\\xa1/2000-2999/2222/2222/7455170.psd'\n",
      "文件重命名：b'G:/\\xe9\\xa5\\xad\\xe6\\xa1\\xb6\\xe8\\xae\\xbe\\xe8\\xae\\xa1/2000-2999/2222/2222/7455172.psd'\n",
      "文件重命名：b'G:/\\xe9\\xa5\\xad\\xe6\\xa1\\xb6\\xe8\\xae\\xbe\\xe8\\xae\\xa1/2000-2999/2222/2222/7455174.psd'\n",
      "文件重命名：b'G:/\\xe9\\xa5\\xad\\xe6\\xa1\\xb6\\xe8\\xae\\xbe\\xe8\\xae\\xa1/2000-2999/2222/2222/7455176.psd'\n",
      "文件重命名：b'G:/\\xe9\\xa5\\xad\\xe6\\xa1\\xb6\\xe8\\xae\\xbe\\xe8\\xae\\xa1/2000-2999/2222/2222/7455179.psd'\n",
      "文件重命名：b'G:/\\xe9\\xa5\\xad\\xe6\\xa1\\xb6\\xe8\\xae\\xbe\\xe8\\xae\\xa1/2000-2999/2222/2222/7455186.psd'\n",
      "文件重命名：b'G:/\\xe9\\xa5\\xad\\xe6\\xa1\\xb6\\xe8\\xae\\xbe\\xe8\\xae\\xa1/2000-2999/2222/2222/7455194.psd'\n",
      "文件重命名：b'G:/\\xe9\\xa5\\xad\\xe6\\xa1\\xb6\\xe8\\xae\\xbe\\xe8\\xae\\xa1/2000-2999/2222/2222/7455204.psd'\n",
      "文件重命名：b'G:/\\xe9\\xa5\\xad\\xe6\\xa1\\xb6\\xe8\\xae\\xbe\\xe8\\xae\\xa1/2000-2999/2222/2222/7455226.psd'\n",
      "文件重命名：b'G:/\\xe9\\xa5\\xad\\xe6\\xa1\\xb6\\xe8\\xae\\xbe\\xe8\\xae\\xa1/2000-2999/2222/2222/7455233.psd'\n",
      "文件重命名：b'G:/\\xe9\\xa5\\xad\\xe6\\xa1\\xb6\\xe8\\xae\\xbe\\xe8\\xae\\xa1/2000-2999/2222/2222/test(1).psd'\n"
     ]
    },
    {
     "name": "stderr",
     "output_type": "stream",
     "text": [
      "\n"
     ]
    },
    {
     "name": "stdout",
     "output_type": "stream",
     "text": [
      "文件重命名：b'G:/\\xe9\\xa5\\xad\\xe6\\xa1\\xb6\\xe8\\xae\\xbe\\xe8\\xae\\xa1/2000-2999/2222/2222/test(10).psd'\n",
      "文件重命名：b'G:/\\xe9\\xa5\\xad\\xe6\\xa1\\xb6\\xe8\\xae\\xbe\\xe8\\xae\\xa1/2000-2999/2222/2222/test(11).psd'\n",
      "文件重命名：b'G:/\\xe9\\xa5\\xad\\xe6\\xa1\\xb6\\xe8\\xae\\xbe\\xe8\\xae\\xa1/2000-2999/2222/2222/test(12).psd'\n",
      "文件重命名：b'G:/\\xe9\\xa5\\xad\\xe6\\xa1\\xb6\\xe8\\xae\\xbe\\xe8\\xae\\xa1/2000-2999/2222/2222/test(13).psd'\n",
      "文件重命名：b'G:/\\xe9\\xa5\\xad\\xe6\\xa1\\xb6\\xe8\\xae\\xbe\\xe8\\xae\\xa1/2000-2999/2222/2222/test(14).psd'\n",
      "文件重命名：b'G:/\\xe9\\xa5\\xad\\xe6\\xa1\\xb6\\xe8\\xae\\xbe\\xe8\\xae\\xa1/2000-2999/2222/2222/test(15).psd'\n",
      "文件重命名：b'G:/\\xe9\\xa5\\xad\\xe6\\xa1\\xb6\\xe8\\xae\\xbe\\xe8\\xae\\xa1/2000-2999/2222/2222/test(16).psd'\n",
      "文件重命名：b'G:/\\xe9\\xa5\\xad\\xe6\\xa1\\xb6\\xe8\\xae\\xbe\\xe8\\xae\\xa1/2000-2999/2222/2222/test(17).psd'\n",
      "文件重命名：b'G:/\\xe9\\xa5\\xad\\xe6\\xa1\\xb6\\xe8\\xae\\xbe\\xe8\\xae\\xa1/2000-2999/2222/2222/test(18).psd'\n",
      "文件重命名：b'G:/\\xe9\\xa5\\xad\\xe6\\xa1\\xb6\\xe8\\xae\\xbe\\xe8\\xae\\xa1/2000-2999/2222/2222/test(19).psd'\n",
      "文件重命名：b'G:/\\xe9\\xa5\\xad\\xe6\\xa1\\xb6\\xe8\\xae\\xbe\\xe8\\xae\\xa1/2000-2999/2222/2222/test(2).psd'\n",
      "文件重命名：b'G:/\\xe9\\xa5\\xad\\xe6\\xa1\\xb6\\xe8\\xae\\xbe\\xe8\\xae\\xa1/2000-2999/2222/2222/test(20).psd'\n",
      "文件重命名：b'G:/\\xe9\\xa5\\xad\\xe6\\xa1\\xb6\\xe8\\xae\\xbe\\xe8\\xae\\xa1/2000-2999/2222/2222/test(3).psd'\n",
      "文件重命名：b'G:/\\xe9\\xa5\\xad\\xe6\\xa1\\xb6\\xe8\\xae\\xbe\\xe8\\xae\\xa1/2000-2999/2222/2222/test(4).psd'\n",
      "文件重命名：b'G:/\\xe9\\xa5\\xad\\xe6\\xa1\\xb6\\xe8\\xae\\xbe\\xe8\\xae\\xa1/2000-2999/2222/2222/test(5).psd'\n",
      "文件重命名：b'G:/\\xe9\\xa5\\xad\\xe6\\xa1\\xb6\\xe8\\xae\\xbe\\xe8\\xae\\xa1/2000-2999/2222/2222/test(6).psd'\n",
      "文件重命名：b'G:/\\xe9\\xa5\\xad\\xe6\\xa1\\xb6\\xe8\\xae\\xbe\\xe8\\xae\\xa1/2000-2999/2222/2222/test(7).psd'\n",
      "文件重命名：b'G:/\\xe9\\xa5\\xad\\xe6\\xa1\\xb6\\xe8\\xae\\xbe\\xe8\\xae\\xa1/2000-2999/2222/2222/test(8).psd'\n",
      "文件重命名：b'G:/\\xe9\\xa5\\xad\\xe6\\xa1\\xb6\\xe8\\xae\\xbe\\xe8\\xae\\xa1/2000-2999/2222/2222/test(9).psd'\n"
     ]
    },
    {
     "name": "stderr",
     "output_type": "stream",
     "text": [
      "PSD添加广告生成图片:   0%|                                                   | 0/20 [00:00<?, ?it/s]"
     ]
    },
    {
     "name": "stdout",
     "output_type": "stream",
     "text": [
      "\n",
      "\n",
      "处理文件:G:/饭桶设计/2000-2999/2222/2222/饭桶设计(1).psd\n",
      "导出PNG\n",
      "插入广告\n"
     ]
    },
    {
     "name": "stderr",
     "output_type": "stream",
     "text": [
      "PSD添加广告生成图片:   5%|██▏                                        | 1/20 [00:06<02:06,  6.64s/it]"
     ]
    },
    {
     "name": "stdout",
     "output_type": "stream",
     "text": [
      "\n",
      "\n",
      "处理文件:G:/饭桶设计/2000-2999/2222/2222/饭桶设计(2).psd\n",
      "导出PNG\n",
      "插入广告\n"
     ]
    },
    {
     "name": "stderr",
     "output_type": "stream",
     "text": [
      "PSD添加广告生成图片:  10%|████▎                                      | 2/20 [00:10<01:25,  4.77s/it]"
     ]
    },
    {
     "name": "stdout",
     "output_type": "stream",
     "text": [
      "\n",
      "\n",
      "处理文件:G:/饭桶设计/2000-2999/2222/2222/饭桶设计(3).psd\n",
      "导出PNG\n",
      "插入广告\n"
     ]
    },
    {
     "name": "stderr",
     "output_type": "stream",
     "text": [
      "PSD添加广告生成图片:  15%|██████▍                                    | 3/20 [00:24<02:38,  9.31s/it]"
     ]
    },
    {
     "name": "stdout",
     "output_type": "stream",
     "text": [
      "\n",
      "\n",
      "处理文件:G:/饭桶设计/2000-2999/2222/2222/饭桶设计(4).psd\n",
      "导出PNG\n",
      "插入广告\n"
     ]
    },
    {
     "name": "stderr",
     "output_type": "stream",
     "text": [
      "PSD添加广告生成图片:  20%|████████▌                                  | 4/20 [00:29<02:01,  7.62s/it]"
     ]
    },
    {
     "name": "stdout",
     "output_type": "stream",
     "text": [
      "\n",
      "\n",
      "处理文件:G:/饭桶设计/2000-2999/2222/2222/饭桶设计(5).psd\n",
      "导出PNG\n",
      "插入广告\n"
     ]
    },
    {
     "name": "stderr",
     "output_type": "stream",
     "text": [
      "PSD添加广告生成图片:  25%|██████████▊                                | 5/20 [00:42<02:22,  9.51s/it]"
     ]
    },
    {
     "name": "stdout",
     "output_type": "stream",
     "text": [
      "\n",
      "\n",
      "处理文件:G:/饭桶设计/2000-2999/2222/2222/饭桶设计(6).psd\n",
      "导出PNG\n",
      "插入广告\n"
     ]
    },
    {
     "name": "stderr",
     "output_type": "stream",
     "text": [
      "PSD添加广告生成图片:  30%|████████████▉                              | 6/20 [00:46<01:44,  7.43s/it]"
     ]
    },
    {
     "name": "stdout",
     "output_type": "stream",
     "text": [
      "\n",
      "\n",
      "处理文件:G:/饭桶设计/2000-2999/2222/2222/饭桶设计(7).psd\n",
      "导出PNG\n",
      "插入广告\n"
     ]
    },
    {
     "name": "stderr",
     "output_type": "stream",
     "text": [
      "PSD添加广告生成图片:  35%|███████████████                            | 7/20 [00:49<01:20,  6.19s/it]"
     ]
    },
    {
     "name": "stdout",
     "output_type": "stream",
     "text": [
      "\n",
      "\n",
      "处理文件:G:/饭桶设计/2000-2999/2222/2222/饭桶设计(8).psd\n",
      "导出PNG\n",
      "插入广告\n"
     ]
    },
    {
     "name": "stderr",
     "output_type": "stream",
     "text": [
      "PSD添加广告生成图片:  40%|█████████████████▏                         | 8/20 [01:04<01:47,  8.97s/it]"
     ]
    },
    {
     "name": "stdout",
     "output_type": "stream",
     "text": [
      "\n",
      "\n",
      "处理文件:G:/饭桶设计/2000-2999/2222/2222/饭桶设计(9).psd\n",
      "导出PNG\n",
      "插入广告\n"
     ]
    },
    {
     "name": "stderr",
     "output_type": "stream",
     "text": [
      "PSD添加广告生成图片:  45%|███████████████████▎                       | 9/20 [01:09<01:24,  7.72s/it]"
     ]
    },
    {
     "name": "stdout",
     "output_type": "stream",
     "text": [
      "\n",
      "\n",
      "处理文件:G:/饭桶设计/2000-2999/2222/2222/饭桶设计(10).psd\n",
      "导出PNG\n",
      "插入广告\n"
     ]
    },
    {
     "name": "stderr",
     "output_type": "stream",
     "text": [
      "PSD添加广告生成图片:  50%|█████████████████████                     | 10/20 [01:15<01:12,  7.28s/it]"
     ]
    },
    {
     "name": "stdout",
     "output_type": "stream",
     "text": [
      "\n",
      "\n",
      "处理文件:G:/饭桶设计/2000-2999/2222/2222/饭桶设计(11).psd\n",
      "导出PNG\n",
      "插入广告\n"
     ]
    },
    {
     "name": "stderr",
     "output_type": "stream",
     "text": [
      "PSD添加广告生成图片:  55%|███████████████████████                   | 11/20 [01:35<01:38, 10.99s/it]"
     ]
    },
    {
     "name": "stdout",
     "output_type": "stream",
     "text": [
      "\n",
      "\n",
      "处理文件:G:/饭桶设计/2000-2999/2222/2222/饭桶设计(12).psd\n",
      "导出PNG\n",
      "插入广告\n"
     ]
    },
    {
     "name": "stderr",
     "output_type": "stream",
     "text": [
      "PSD添加广告生成图片:  60%|█████████████████████████▏                | 12/20 [01:39<01:10,  8.87s/it]"
     ]
    },
    {
     "name": "stdout",
     "output_type": "stream",
     "text": [
      "\n",
      "\n",
      "处理文件:G:/饭桶设计/2000-2999/2222/2222/饭桶设计(13).psd\n",
      "导出PNG\n",
      "插入广告\n"
     ]
    },
    {
     "name": "stderr",
     "output_type": "stream",
     "text": [
      "PSD添加广告生成图片:  65%|███████████████████████████▎              | 13/20 [01:43<00:51,  7.33s/it]"
     ]
    },
    {
     "name": "stdout",
     "output_type": "stream",
     "text": [
      "\n",
      "\n",
      "处理文件:G:/饭桶设计/2000-2999/2222/2222/饭桶设计(14).psd\n",
      "导出PNG\n",
      "插入广告\n"
     ]
    },
    {
     "name": "stderr",
     "output_type": "stream",
     "text": [
      "PSD添加广告生成图片:  70%|█████████████████████████████▍            | 14/20 [01:50<00:43,  7.23s/it]"
     ]
    },
    {
     "name": "stdout",
     "output_type": "stream",
     "text": [
      "\n",
      "\n",
      "处理文件:G:/饭桶设计/2000-2999/2222/2222/饭桶设计(15).psd\n",
      "导出PNG\n",
      "插入广告\n"
     ]
    },
    {
     "name": "stderr",
     "output_type": "stream",
     "text": [
      "PSD添加广告生成图片:  75%|███████████████████████████████▌          | 15/20 [01:54<00:31,  6.34s/it]"
     ]
    },
    {
     "name": "stdout",
     "output_type": "stream",
     "text": [
      "\n",
      "\n",
      "处理文件:G:/饭桶设计/2000-2999/2222/2222/饭桶设计(16).psd\n",
      "导出PNG\n",
      "插入广告\n"
     ]
    },
    {
     "name": "stderr",
     "output_type": "stream",
     "text": [
      "PSD添加广告生成图片:  80%|█████████████████████████████████▌        | 16/20 [02:08<00:35,  8.76s/it]"
     ]
    },
    {
     "name": "stdout",
     "output_type": "stream",
     "text": [
      "\n",
      "\n",
      "处理文件:G:/饭桶设计/2000-2999/2222/2222/饭桶设计(17).psd\n",
      "导出PNG\n",
      "插入广告\n"
     ]
    },
    {
     "name": "stderr",
     "output_type": "stream",
     "text": [
      "PSD添加广告生成图片:  85%|███████████████████████████████████▋      | 17/20 [02:12<00:21,  7.19s/it]"
     ]
    },
    {
     "name": "stdout",
     "output_type": "stream",
     "text": [
      "\n",
      "\n",
      "处理文件:G:/饭桶设计/2000-2999/2222/2222/饭桶设计(18).psd\n",
      "导出PNG\n",
      "插入广告\n"
     ]
    },
    {
     "name": "stderr",
     "output_type": "stream",
     "text": [
      "PSD添加广告生成图片:  90%|█████████████████████████████████████▊    | 18/20 [02:19<00:14,  7.04s/it]"
     ]
    },
    {
     "name": "stdout",
     "output_type": "stream",
     "text": [
      "\n",
      "\n",
      "处理文件:G:/饭桶设计/2000-2999/2222/2222/饭桶设计(19).psd\n",
      "导出PNG\n",
      "插入广告\n"
     ]
    },
    {
     "name": "stderr",
     "output_type": "stream",
     "text": [
      "PSD添加广告生成图片:  95%|███████████████████████████████████████▉  | 19/20 [02:35<00:09,  9.74s/it]"
     ]
    },
    {
     "name": "stdout",
     "output_type": "stream",
     "text": [
      "\n",
      "\n",
      "处理文件:G:/饭桶设计/2000-2999/2222/2222/饭桶设计(20).psd\n",
      "导出PNG\n",
      "插入广告\n"
     ]
    },
    {
     "name": "stderr",
     "output_type": "stream",
     "text": [
      "PSD添加广告生成图片: 100%|██████████████████████████████████████████| 20/20 [02:38<00:00,  7.91s/it]\n",
      "AI导出PNG: 0it [00:00, ?it/s]\n",
      "PPT导出PNG: 0it [00:00, ?it/s]\n",
      "复制到制定目录: 100%|██████████████████████████████████████████████| 20/20 [00:00<00:00, 213.24it/s]\n",
      "图片添加水印: 100%|█████████████████████████████████████████████████| 20/20 [00:08<00:00,  2.50it/s]\n",
      "解压ZIP: 100%|██████████████████████████████████████████████████████| 34/34 [00:57<00:00,  1.70s/it]\n",
      "解压RAR: 0it [00:00, ?it/s]\n"
     ]
    },
    {
     "name": "stdout",
     "output_type": "stream",
     "text": [
      "移动到根目录:b'G:/\\xe9\\xa5\\xad\\xe6\\xa1\\xb6\\xe8\\xae\\xbe\\xe8\\xae\\xa1/2000-2999/2223/2223/6095522.jpg'\n",
      "移动到根目录:b'G:/\\xe9\\xa5\\xad\\xe6\\xa1\\xb6\\xe8\\xae\\xbe\\xe8\\xae\\xa1/2000-2999/2223/2223/6095523.jpg'\n",
      "移动到根目录:b'G:/\\xe9\\xa5\\xad\\xe6\\xa1\\xb6\\xe8\\xae\\xbe\\xe8\\xae\\xa1/2000-2999/2223/2223/6095525.psd'\n",
      "移动到根目录:b'G:/\\xe9\\xa5\\xad\\xe6\\xa1\\xb6\\xe8\\xae\\xbe\\xe8\\xae\\xa1/2000-2999/2223/2223/6109685.jpg'\n",
      "移动到根目录:b'G:/\\xe9\\xa5\\xad\\xe6\\xa1\\xb6\\xe8\\xae\\xbe\\xe8\\xae\\xa1/2000-2999/2223/2223/6109690.jpg'\n",
      "移动到根目录:b'G:/\\xe9\\xa5\\xad\\xe6\\xa1\\xb6\\xe8\\xae\\xbe\\xe8\\xae\\xa1/2000-2999/2223/2223/6109718.psd'\n",
      "移动到根目录:b'G:/\\xe9\\xa5\\xad\\xe6\\xa1\\xb6\\xe8\\xae\\xbe\\xe8\\xae\\xa1/2000-2999/2223/2223/6109086.jpg'\n",
      "移动到根目录:b'G:/\\xe9\\xa5\\xad\\xe6\\xa1\\xb6\\xe8\\xae\\xbe\\xe8\\xae\\xa1/2000-2999/2223/2223/6117601.jpg'\n",
      "移动到根目录:b'G:/\\xe9\\xa5\\xad\\xe6\\xa1\\xb6\\xe8\\xae\\xbe\\xe8\\xae\\xa1/2000-2999/2223/2223/6117630.psd'\n",
      "移动到根目录:b'G:/\\xe9\\xa5\\xad\\xe6\\xa1\\xb6\\xe8\\xae\\xbe\\xe8\\xae\\xa1/2000-2999/2223/2223/6095538.jpg'\n",
      "移动到根目录:b'G:/\\xe9\\xa5\\xad\\xe6\\xa1\\xb6\\xe8\\xae\\xbe\\xe8\\xae\\xa1/2000-2999/2223/2223/6095540.jpg'\n",
      "移动到根目录:b'G:/\\xe9\\xa5\\xad\\xe6\\xa1\\xb6\\xe8\\xae\\xbe\\xe8\\xae\\xa1/2000-2999/2223/2223/6095575.psd'\n",
      "移动到根目录:b'G:/\\xe9\\xa5\\xad\\xe6\\xa1\\xb6\\xe8\\xae\\xbe\\xe8\\xae\\xa1/2000-2999/2223/2223/6095865.jpg'\n",
      "移动到根目录:b'G:/\\xe9\\xa5\\xad\\xe6\\xa1\\xb6\\xe8\\xae\\xbe\\xe8\\xae\\xa1/2000-2999/2223/2223/6095869.jpg'\n",
      "移动到根目录:b'G:/\\xe9\\xa5\\xad\\xe6\\xa1\\xb6\\xe8\\xae\\xbe\\xe8\\xae\\xa1/2000-2999/2223/2223/6111142.psd'\n",
      "移动到根目录:b'G:/\\xe9\\xa5\\xad\\xe6\\xa1\\xb6\\xe8\\xae\\xbe\\xe8\\xae\\xa1/2000-2999/2223/2223/6109106.jpg'\n",
      "移动到根目录:b'G:/\\xe9\\xa5\\xad\\xe6\\xa1\\xb6\\xe8\\xae\\xbe\\xe8\\xae\\xa1/2000-2999/2223/2223/6109108.jpg'\n",
      "移动到根目录:b'G:/\\xe9\\xa5\\xad\\xe6\\xa1\\xb6\\xe8\\xae\\xbe\\xe8\\xae\\xa1/2000-2999/2223/2223/6109141.psd'\n",
      "移动到根目录:b'G:/\\xe9\\xa5\\xad\\xe6\\xa1\\xb6\\xe8\\xae\\xbe\\xe8\\xae\\xa1/2000-2999/2223/2223/6109296.jpg'\n",
      "移动到根目录:b'G:/\\xe9\\xa5\\xad\\xe6\\xa1\\xb6\\xe8\\xae\\xbe\\xe8\\xae\\xa1/2000-2999/2223/2223/6109297.jpg'\n",
      "移动到根目录:b'G:/\\xe9\\xa5\\xad\\xe6\\xa1\\xb6\\xe8\\xae\\xbe\\xe8\\xae\\xa1/2000-2999/2223/2223/6109333.psd'\n",
      "移动到根目录:b'G:/\\xe9\\xa5\\xad\\xe6\\xa1\\xb6\\xe8\\xae\\xbe\\xe8\\xae\\xa1/2000-2999/2223/2223/6109226.jpg'\n",
      "移动到根目录:b'G:/\\xe9\\xa5\\xad\\xe6\\xa1\\xb6\\xe8\\xae\\xbe\\xe8\\xae\\xa1/2000-2999/2223/2223/6133299.jpg'\n",
      "移动到根目录:b'G:/\\xe9\\xa5\\xad\\xe6\\xa1\\xb6\\xe8\\xae\\xbe\\xe8\\xae\\xa1/2000-2999/2223/2223/6133335.psd'\n",
      "移动到根目录:b'G:/\\xe9\\xa5\\xad\\xe6\\xa1\\xb6\\xe8\\xae\\xbe\\xe8\\xae\\xa1/2000-2999/2223/2223/6109177.jpg'\n",
      "移动到根目录:b'G:/\\xe9\\xa5\\xad\\xe6\\xa1\\xb6\\xe8\\xae\\xbe\\xe8\\xae\\xa1/2000-2999/2223/2223/6133234.jpg'\n",
      "移动到根目录:b'G:/\\xe9\\xa5\\xad\\xe6\\xa1\\xb6\\xe8\\xae\\xbe\\xe8\\xae\\xa1/2000-2999/2223/2223/6133298.psd'\n",
      "移动到根目录:b'G:/\\xe9\\xa5\\xad\\xe6\\xa1\\xb6\\xe8\\xae\\xbe\\xe8\\xae\\xa1/2000-2999/2223/2223/6109403.jpg'\n",
      "移动到根目录:b'G:/\\xe9\\xa5\\xad\\xe6\\xa1\\xb6\\xe8\\xae\\xbe\\xe8\\xae\\xa1/2000-2999/2223/2223/6109404.jpg'\n",
      "移动到根目录:b'G:/\\xe9\\xa5\\xad\\xe6\\xa1\\xb6\\xe8\\xae\\xbe\\xe8\\xae\\xa1/2000-2999/2223/2223/6109491.psd'\n",
      "移动到根目录:b'G:/\\xe9\\xa5\\xad\\xe6\\xa1\\xb6\\xe8\\xae\\xbe\\xe8\\xae\\xa1/2000-2999/2223/2223/6108984.jpg'\n",
      "移动到根目录:b'G:/\\xe9\\xa5\\xad\\xe6\\xa1\\xb6\\xe8\\xae\\xbe\\xe8\\xae\\xa1/2000-2999/2223/2223/6108989.jpg'\n",
      "移动到根目录:b'G:/\\xe9\\xa5\\xad\\xe6\\xa1\\xb6\\xe8\\xae\\xbe\\xe8\\xae\\xa1/2000-2999/2223/2223/6109082.psd'\n",
      "移动到根目录:b'G:/\\xe9\\xa5\\xad\\xe6\\xa1\\xb6\\xe8\\xae\\xbe\\xe8\\xae\\xa1/2000-2999/2223/2223/6109370.jpg'\n",
      "移动到根目录:b'G:/\\xe9\\xa5\\xad\\xe6\\xa1\\xb6\\xe8\\xae\\xbe\\xe8\\xae\\xa1/2000-2999/2223/2223/6109371.jpg'\n",
      "移动到根目录:b'G:/\\xe9\\xa5\\xad\\xe6\\xa1\\xb6\\xe8\\xae\\xbe\\xe8\\xae\\xa1/2000-2999/2223/2223/6109402.psd'\n",
      "移动到根目录:b'G:/\\xe9\\xa5\\xad\\xe6\\xa1\\xb6\\xe8\\xae\\xbe\\xe8\\xae\\xa1/2000-2999/2223/2223/6108721.jpg'\n",
      "移动到根目录:b'G:/\\xe9\\xa5\\xad\\xe6\\xa1\\xb6\\xe8\\xae\\xbe\\xe8\\xae\\xa1/2000-2999/2223/2223/6108727.jpg'\n",
      "移动到根目录:b'G:/\\xe9\\xa5\\xad\\xe6\\xa1\\xb6\\xe8\\xae\\xbe\\xe8\\xae\\xa1/2000-2999/2223/2223/6108801.psd'\n",
      "移动到根目录:b'G:/\\xe9\\xa5\\xad\\xe6\\xa1\\xb6\\xe8\\xae\\xbe\\xe8\\xae\\xa1/2000-2999/2223/2223/6109271.jpg'\n",
      "移动到根目录:b'G:/\\xe9\\xa5\\xad\\xe6\\xa1\\xb6\\xe8\\xae\\xbe\\xe8\\xae\\xa1/2000-2999/2223/2223/6109272.jpg'\n",
      "移动到根目录:b'G:/\\xe9\\xa5\\xad\\xe6\\xa1\\xb6\\xe8\\xae\\xbe\\xe8\\xae\\xa1/2000-2999/2223/2223/6109292.psd'\n",
      "移动到根目录:b'G:/\\xe9\\xa5\\xad\\xe6\\xa1\\xb6\\xe8\\xae\\xbe\\xe8\\xae\\xa1/2000-2999/2223/2223/6109676.jpg'\n",
      "移动到根目录:b'G:/\\xe9\\xa5\\xad\\xe6\\xa1\\xb6\\xe8\\xae\\xbe\\xe8\\xae\\xa1/2000-2999/2223/2223/6109679.jpg'\n",
      "移动到根目录:b'G:/\\xe9\\xa5\\xad\\xe6\\xa1\\xb6\\xe8\\xae\\xbe\\xe8\\xae\\xa1/2000-2999/2223/2223/6109684.psd'\n",
      "移动到根目录:b'G:/\\xe9\\xa5\\xad\\xe6\\xa1\\xb6\\xe8\\xae\\xbe\\xe8\\xae\\xa1/2000-2999/2223/2223/6109720.jpg'\n",
      "移动到根目录:b'G:/\\xe9\\xa5\\xad\\xe6\\xa1\\xb6\\xe8\\xae\\xbe\\xe8\\xae\\xa1/2000-2999/2223/2223/6109727.jpg'\n",
      "移动到根目录:b'G:/\\xe9\\xa5\\xad\\xe6\\xa1\\xb6\\xe8\\xae\\xbe\\xe8\\xae\\xa1/2000-2999/2223/2223/6109757.psd'\n",
      "移动到根目录:b'G:/\\xe9\\xa5\\xad\\xe6\\xa1\\xb6\\xe8\\xae\\xbe\\xe8\\xae\\xa1/2000-2999/2223/2223/6109804.jpg'\n",
      "移动到根目录:b'G:/\\xe9\\xa5\\xad\\xe6\\xa1\\xb6\\xe8\\xae\\xbe\\xe8\\xae\\xa1/2000-2999/2223/2223/6109806.jpg'\n",
      "移动到根目录:b'G:/\\xe9\\xa5\\xad\\xe6\\xa1\\xb6\\xe8\\xae\\xbe\\xe8\\xae\\xa1/2000-2999/2223/2223/6133232.psd'\n",
      "移动到根目录:b'G:/\\xe9\\xa5\\xad\\xe6\\xa1\\xb6\\xe8\\xae\\xbe\\xe8\\xae\\xa1/2000-2999/2223/2223/6109758.jpg'\n",
      "移动到根目录:b'G:/\\xe9\\xa5\\xad\\xe6\\xa1\\xb6\\xe8\\xae\\xbe\\xe8\\xae\\xa1/2000-2999/2223/2223/6109759.jpg'\n",
      "移动到根目录:b'G:/\\xe9\\xa5\\xad\\xe6\\xa1\\xb6\\xe8\\xae\\xbe\\xe8\\xae\\xa1/2000-2999/2223/2223/6109800.psd'\n",
      "移动到根目录:b'G:/\\xe9\\xa5\\xad\\xe6\\xa1\\xb6\\xe8\\xae\\xbe\\xe8\\xae\\xa1/2000-2999/2223/2223/6109232.jpg'\n",
      "移动到根目录:b'G:/\\xe9\\xa5\\xad\\xe6\\xa1\\xb6\\xe8\\xae\\xbe\\xe8\\xae\\xa1/2000-2999/2223/2223/6109233.jpg'\n",
      "移动到根目录:b'G:/\\xe9\\xa5\\xad\\xe6\\xa1\\xb6\\xe8\\xae\\xbe\\xe8\\xae\\xa1/2000-2999/2223/2223/6109270.psd'\n",
      "移动到根目录:b'G:/\\xe9\\xa5\\xad\\xe6\\xa1\\xb6\\xe8\\xae\\xbe\\xe8\\xae\\xa1/2000-2999/2223/2223/6109495.jpg'\n",
      "移动到根目录:b'G:/\\xe9\\xa5\\xad\\xe6\\xa1\\xb6\\xe8\\xae\\xbe\\xe8\\xae\\xa1/2000-2999/2223/2223/6109496.jpg'\n",
      "移动到根目录:b'G:/\\xe9\\xa5\\xad\\xe6\\xa1\\xb6\\xe8\\xae\\xbe\\xe8\\xae\\xa1/2000-2999/2223/2223/6109558.psd'\n",
      "移动到根目录:b'G:/\\xe9\\xa5\\xad\\xe6\\xa1\\xb6\\xe8\\xae\\xbe\\xe8\\xae\\xa1/2000-2999/2223/2223/6109559.jpg'\n",
      "移动到根目录:b'G:/\\xe9\\xa5\\xad\\xe6\\xa1\\xb6\\xe8\\xae\\xbe\\xe8\\xae\\xa1/2000-2999/2223/2223/6109563.jpg'\n",
      "移动到根目录:b'G:/\\xe9\\xa5\\xad\\xe6\\xa1\\xb6\\xe8\\xae\\xbe\\xe8\\xae\\xa1/2000-2999/2223/2223/6109613.psd'\n",
      "移动到根目录:b'G:/\\xe9\\xa5\\xad\\xe6\\xa1\\xb6\\xe8\\xae\\xbe\\xe8\\xae\\xa1/2000-2999/2223/2223/6109618.jpg'\n",
      "移动到根目录:b'G:/\\xe9\\xa5\\xad\\xe6\\xa1\\xb6\\xe8\\xae\\xbe\\xe8\\xae\\xa1/2000-2999/2223/2223/6109627.jpg'\n",
      "移动到根目录:b'G:/\\xe9\\xa5\\xad\\xe6\\xa1\\xb6\\xe8\\xae\\xbe\\xe8\\xae\\xa1/2000-2999/2223/2223/6109675.psd'\n",
      "移动到根目录:b'G:/\\xe9\\xa5\\xad\\xe6\\xa1\\xb6\\xe8\\xae\\xbe\\xe8\\xae\\xa1/2000-2999/2223/2223/6108870.jpg'\n",
      "移动到根目录:b'G:/\\xe9\\xa5\\xad\\xe6\\xa1\\xb6\\xe8\\xae\\xbe\\xe8\\xae\\xa1/2000-2999/2223/2223/6108874.jpg'\n",
      "移动到根目录:b'G:/\\xe9\\xa5\\xad\\xe6\\xa1\\xb6\\xe8\\xae\\xbe\\xe8\\xae\\xa1/2000-2999/2223/2223/6108978.psd'\n",
      "移动到根目录:b'G:/\\xe9\\xa5\\xad\\xe6\\xa1\\xb6\\xe8\\xae\\xbe\\xe8\\xae\\xa1/2000-2999/2223/2223/6095579.jpg'\n",
      "移动到根目录:b'G:/\\xe9\\xa5\\xad\\xe6\\xa1\\xb6\\xe8\\xae\\xbe\\xe8\\xae\\xa1/2000-2999/2223/2223/6095582.jpg'\n",
      "移动到根目录:b'G:/\\xe9\\xa5\\xad\\xe6\\xa1\\xb6\\xe8\\xae\\xbe\\xe8\\xae\\xa1/2000-2999/2223/2223/6095624.psd'\n",
      "移动到根目录:b'G:/\\xe9\\xa5\\xad\\xe6\\xa1\\xb6\\xe8\\xae\\xbe\\xe8\\xae\\xa1/2000-2999/2223/2223/6095754.jpg'\n",
      "移动到根目录:b'G:/\\xe9\\xa5\\xad\\xe6\\xa1\\xb6\\xe8\\xae\\xbe\\xe8\\xae\\xa1/2000-2999/2223/2223/6095755.jpg'\n",
      "移动到根目录:b'G:/\\xe9\\xa5\\xad\\xe6\\xa1\\xb6\\xe8\\xae\\xbe\\xe8\\xae\\xa1/2000-2999/2223/2223/6108600.psd'\n",
      "移动到根目录:b'G:/\\xe9\\xa5\\xad\\xe6\\xa1\\xb6\\xe8\\xae\\xbe\\xe8\\xae\\xa1/2000-2999/2223/2223/6109143.jpg'\n",
      "移动到根目录:b'G:/\\xe9\\xa5\\xad\\xe6\\xa1\\xb6\\xe8\\xae\\xbe\\xe8\\xae\\xa1/2000-2999/2223/2223/6117841.jpg'\n",
      "移动到根目录:b'G:/\\xe9\\xa5\\xad\\xe6\\xa1\\xb6\\xe8\\xae\\xbe\\xe8\\xae\\xa1/2000-2999/2223/2223/6117865.psd'\n",
      "移动到根目录:b'G:/\\xe9\\xa5\\xad\\xe6\\xa1\\xb6\\xe8\\xae\\xbe\\xe8\\xae\\xa1/2000-2999/2223/2223/6109833.jpg'\n",
      "移动到根目录:b'G:/\\xe9\\xa5\\xad\\xe6\\xa1\\xb6\\xe8\\xae\\xbe\\xe8\\xae\\xa1/2000-2999/2223/2223/6109839.jpg'\n",
      "移动到根目录:b'G:/\\xe9\\xa5\\xad\\xe6\\xa1\\xb6\\xe8\\xae\\xbe\\xe8\\xae\\xa1/2000-2999/2223/2223/6109883.psd'\n",
      "移动到根目录:b'G:/\\xe9\\xa5\\xad\\xe6\\xa1\\xb6\\xe8\\xae\\xbe\\xe8\\xae\\xa1/2000-2999/2223/2223/6108804.jpg'\n",
      "移动到根目录:b'G:/\\xe9\\xa5\\xad\\xe6\\xa1\\xb6\\xe8\\xae\\xbe\\xe8\\xae\\xa1/2000-2999/2223/2223/6108807.jpg'\n",
      "移动到根目录:b'G:/\\xe9\\xa5\\xad\\xe6\\xa1\\xb6\\xe8\\xae\\xbe\\xe8\\xae\\xa1/2000-2999/2223/2223/6108863.psd'\n",
      "移动到根目录:b'G:/\\xe9\\xa5\\xad\\xe6\\xa1\\xb6\\xe8\\xae\\xbe\\xe8\\xae\\xa1/2000-2999/2223/2223/6095669.jpg'\n",
      "移动到根目录:b'G:/\\xe9\\xa5\\xad\\xe6\\xa1\\xb6\\xe8\\xae\\xbe\\xe8\\xae\\xa1/2000-2999/2223/2223/6095674.jpg'\n",
      "移动到根目录:b'G:/\\xe9\\xa5\\xad\\xe6\\xa1\\xb6\\xe8\\xae\\xbe\\xe8\\xae\\xa1/2000-2999/2223/2223/6095753.psd'\n",
      "移动到根目录:b'G:/\\xe9\\xa5\\xad\\xe6\\xa1\\xb6\\xe8\\xae\\xbe\\xe8\\xae\\xa1/2000-2999/2223/2223/6108604.jpg'\n",
      "移动到根目录:b'G:/\\xe9\\xa5\\xad\\xe6\\xa1\\xb6\\xe8\\xae\\xbe\\xe8\\xae\\xa1/2000-2999/2223/2223/6108607.jpg'\n",
      "移动到根目录:b'G:/\\xe9\\xa5\\xad\\xe6\\xa1\\xb6\\xe8\\xae\\xbe\\xe8\\xae\\xa1/2000-2999/2223/2223/6108714.psd'\n",
      "移动到根目录:b'G:/\\xe9\\xa5\\xad\\xe6\\xa1\\xb6\\xe8\\xae\\xbe\\xe8\\xae\\xa1/2000-2999/2223/2223/6095526.jpg'\n",
      "移动到根目录:b'G:/\\xe9\\xa5\\xad\\xe6\\xa1\\xb6\\xe8\\xae\\xbe\\xe8\\xae\\xa1/2000-2999/2223/2223/6095527.jpg'\n",
      "移动到根目录:b'G:/\\xe9\\xa5\\xad\\xe6\\xa1\\xb6\\xe8\\xae\\xbe\\xe8\\xae\\xa1/2000-2999/2223/2223/6095537.psd'\n",
      "移动到根目录:b'G:/\\xe9\\xa5\\xad\\xe6\\xa1\\xb6\\xe8\\xae\\xbe\\xe8\\xae\\xa1/2000-2999/2223/2223/6095628.jpg'\n",
      "移动到根目录:b'G:/\\xe9\\xa5\\xad\\xe6\\xa1\\xb6\\xe8\\xae\\xbe\\xe8\\xae\\xa1/2000-2999/2223/2223/6095631.jpg'\n",
      "移动到根目录:b'G:/\\xe9\\xa5\\xad\\xe6\\xa1\\xb6\\xe8\\xae\\xbe\\xe8\\xae\\xa1/2000-2999/2223/2223/6095666.psd'\n",
      "移动到根目录:b'G:/\\xe9\\xa5\\xad\\xe6\\xa1\\xb6\\xe8\\xae\\xbe\\xe8\\xae\\xa1/2000-2999/2223/2223/6095799.jpg'\n",
      "移动到根目录:b'G:/\\xe9\\xa5\\xad\\xe6\\xa1\\xb6\\xe8\\xae\\xbe\\xe8\\xae\\xa1/2000-2999/2223/2223/6095803.jpg'\n",
      "移动到根目录:b'G:/\\xe9\\xa5\\xad\\xe6\\xa1\\xb6\\xe8\\xae\\xbe\\xe8\\xae\\xa1/2000-2999/2223/2223/6095863.psd'\n",
      "移动到根目录:b'G:/\\xe9\\xa5\\xad\\xe6\\xa1\\xb6\\xe8\\xae\\xbe\\xe8\\xae\\xa1/2000-2999/2223/2223/6109334.jpg'\n",
      "移动到根目录:b'G:/\\xe9\\xa5\\xad\\xe6\\xa1\\xb6\\xe8\\xae\\xbe\\xe8\\xae\\xa1/2000-2999/2223/2223/6109335.jpg'\n",
      "移动到根目录:b'G:/\\xe9\\xa5\\xad\\xe6\\xa1\\xb6\\xe8\\xae\\xbe\\xe8\\xae\\xa1/2000-2999/2223/2223/6109365.psd'\n",
      "删除多余文件夹：G:\\饭桶设计\\2000-2999\\2223\\2223\\miami-billboards-mockup\n",
      "删除多余文件夹：G:\\饭桶设计\\2000-2999\\2223\\2223\\miami-billboards-mockup (1)\n",
      "删除多余文件夹：G:\\饭桶设计\\2000-2999\\2223\\2223\\miami-billboards-mockup (10)\n",
      "删除多余文件夹：G:\\饭桶设计\\2000-2999\\2223\\2223\\miami-billboards-mockup (11)\n",
      "删除多余文件夹：G:\\饭桶设计\\2000-2999\\2223\\2223\\miami-billboards-mockup (12)\n",
      "删除多余文件夹：G:\\饭桶设计\\2000-2999\\2223\\2223\\miami-billboards-mockup (13)\n",
      "删除多余文件夹：G:\\饭桶设计\\2000-2999\\2223\\2223\\miami-billboards-mockup (14)\n",
      "删除多余文件夹：G:\\饭桶设计\\2000-2999\\2223\\2223\\miami-billboards-mockup (15)\n",
      "删除多余文件夹：G:\\饭桶设计\\2000-2999\\2223\\2223\\miami-billboards-mockup (16)\n",
      "删除多余文件夹：G:\\饭桶设计\\2000-2999\\2223\\2223\\miami-billboards-mockup (17)\n",
      "删除多余文件夹：G:\\饭桶设计\\2000-2999\\2223\\2223\\miami-billboards-mockup (18)\n",
      "删除多余文件夹：G:\\饭桶设计\\2000-2999\\2223\\2223\\miami-billboards-mockup (19)\n",
      "删除多余文件夹：G:\\饭桶设计\\2000-2999\\2223\\2223\\miami-billboards-mockup (2)\n",
      "删除多余文件夹：G:\\饭桶设计\\2000-2999\\2223\\2223\\miami-billboards-mockup (20)\n",
      "删除多余文件夹：G:\\饭桶设计\\2000-2999\\2223\\2223\\miami-billboards-mockup (21)\n",
      "删除多余文件夹：G:\\饭桶设计\\2000-2999\\2223\\2223\\miami-billboards-mockup (22)\n",
      "删除多余文件夹：G:\\饭桶设计\\2000-2999\\2223\\2223\\miami-billboards-mockup (23)\n",
      "删除多余文件夹：G:\\饭桶设计\\2000-2999\\2223\\2223\\miami-billboards-mockup (24)\n",
      "删除多余文件夹：G:\\饭桶设计\\2000-2999\\2223\\2223\\miami-billboards-mockup (25)\n",
      "删除多余文件夹：G:\\饭桶设计\\2000-2999\\2223\\2223\\miami-billboards-mockup (26)\n",
      "删除多余文件夹：G:\\饭桶设计\\2000-2999\\2223\\2223\\miami-billboards-mockup (27)\n",
      "删除多余文件夹：G:\\饭桶设计\\2000-2999\\2223\\2223\\miami-billboards-mockup (28)\n",
      "删除多余文件夹：G:\\饭桶设计\\2000-2999\\2223\\2223\\miami-billboards-mockup (29)\n",
      "删除多余文件夹：G:\\饭桶设计\\2000-2999\\2223\\2223\\miami-billboards-mockup (3)\n",
      "删除多余文件夹：G:\\饭桶设计\\2000-2999\\2223\\2223\\miami-billboards-mockup (30)\n",
      "删除多余文件夹：G:\\饭桶设计\\2000-2999\\2223\\2223\\miami-billboards-mockup (31)\n",
      "删除多余文件夹：G:\\饭桶设计\\2000-2999\\2223\\2223\\miami-billboards-mockup (32)\n",
      "删除多余文件夹：G:\\饭桶设计\\2000-2999\\2223\\2223\\miami-billboards-mockup (33)\n",
      "删除多余文件夹：G:\\饭桶设计\\2000-2999\\2223\\2223\\miami-billboards-mockup (4)\n",
      "删除多余文件夹：G:\\饭桶设计\\2000-2999\\2223\\2223\\miami-billboards-mockup (5)\n",
      "删除多余文件夹：G:\\饭桶设计\\2000-2999\\2223\\2223\\miami-billboards-mockup (6)\n",
      "删除多余文件夹：G:\\饭桶设计\\2000-2999\\2223\\2223\\miami-billboards-mockup (7)\n",
      "删除多余文件夹：G:\\饭桶设计\\2000-2999\\2223\\2223\\miami-billboards-mockup (8)\n",
      "删除多余文件夹：G:\\饭桶设计\\2000-2999\\2223\\2223\\miami-billboards-mockup (9)\n"
     ]
    },
    {
     "name": "stderr",
     "output_type": "stream",
     "text": [
      "复制到制定目录: 100%|██████████████████████████████████████████████| 68/68 [00:00<00:00, 167.15it/s]\n"
     ]
    },
    {
     "name": "stdout",
     "output_type": "stream",
     "text": [
      "文件重命名：b'G:/\\xe9\\xa5\\xad\\xe6\\xa1\\xb6\\xe8\\xae\\xbe\\xe8\\xae\\xa1/2000-2999/2223/2223/6095525.psd'\n",
      "文件重命名：b'G:/\\xe9\\xa5\\xad\\xe6\\xa1\\xb6\\xe8\\xae\\xbe\\xe8\\xae\\xa1/2000-2999/2223/2223/6095537.psd'\n",
      "文件重命名：b'G:/\\xe9\\xa5\\xad\\xe6\\xa1\\xb6\\xe8\\xae\\xbe\\xe8\\xae\\xa1/2000-2999/2223/2223/6095575.psd'\n",
      "文件重命名：b'G:/\\xe9\\xa5\\xad\\xe6\\xa1\\xb6\\xe8\\xae\\xbe\\xe8\\xae\\xa1/2000-2999/2223/2223/6095624.psd'\n",
      "文件重命名：b'G:/\\xe9\\xa5\\xad\\xe6\\xa1\\xb6\\xe8\\xae\\xbe\\xe8\\xae\\xa1/2000-2999/2223/2223/6095666.psd'\n",
      "文件重命名：b'G:/\\xe9\\xa5\\xad\\xe6\\xa1\\xb6\\xe8\\xae\\xbe\\xe8\\xae\\xa1/2000-2999/2223/2223/6095753.psd'\n",
      "文件重命名：b'G:/\\xe9\\xa5\\xad\\xe6\\xa1\\xb6\\xe8\\xae\\xbe\\xe8\\xae\\xa1/2000-2999/2223/2223/6095863.psd'\n",
      "文件重命名：b'G:/\\xe9\\xa5\\xad\\xe6\\xa1\\xb6\\xe8\\xae\\xbe\\xe8\\xae\\xa1/2000-2999/2223/2223/6108600.psd'\n",
      "文件重命名：b'G:/\\xe9\\xa5\\xad\\xe6\\xa1\\xb6\\xe8\\xae\\xbe\\xe8\\xae\\xa1/2000-2999/2223/2223/6108714.psd'\n",
      "文件重命名：b'G:/\\xe9\\xa5\\xad\\xe6\\xa1\\xb6\\xe8\\xae\\xbe\\xe8\\xae\\xa1/2000-2999/2223/2223/6108801.psd'\n",
      "文件重命名：b'G:/\\xe9\\xa5\\xad\\xe6\\xa1\\xb6\\xe8\\xae\\xbe\\xe8\\xae\\xa1/2000-2999/2223/2223/6108863.psd'\n",
      "文件重命名：b'G:/\\xe9\\xa5\\xad\\xe6\\xa1\\xb6\\xe8\\xae\\xbe\\xe8\\xae\\xa1/2000-2999/2223/2223/6108978.psd'\n",
      "文件重命名：b'G:/\\xe9\\xa5\\xad\\xe6\\xa1\\xb6\\xe8\\xae\\xbe\\xe8\\xae\\xa1/2000-2999/2223/2223/6109082.psd'\n",
      "文件重命名：b'G:/\\xe9\\xa5\\xad\\xe6\\xa1\\xb6\\xe8\\xae\\xbe\\xe8\\xae\\xa1/2000-2999/2223/2223/6109141.psd'\n",
      "文件重命名：b'G:/\\xe9\\xa5\\xad\\xe6\\xa1\\xb6\\xe8\\xae\\xbe\\xe8\\xae\\xa1/2000-2999/2223/2223/6109270.psd'\n",
      "文件重命名：b'G:/\\xe9\\xa5\\xad\\xe6\\xa1\\xb6\\xe8\\xae\\xbe\\xe8\\xae\\xa1/2000-2999/2223/2223/6109292.psd'\n",
      "文件重命名：b'G:/\\xe9\\xa5\\xad\\xe6\\xa1\\xb6\\xe8\\xae\\xbe\\xe8\\xae\\xa1/2000-2999/2223/2223/6109333.psd'\n",
      "文件重命名：b'G:/\\xe9\\xa5\\xad\\xe6\\xa1\\xb6\\xe8\\xae\\xbe\\xe8\\xae\\xa1/2000-2999/2223/2223/6109365.psd'\n",
      "文件重命名：b'G:/\\xe9\\xa5\\xad\\xe6\\xa1\\xb6\\xe8\\xae\\xbe\\xe8\\xae\\xa1/2000-2999/2223/2223/6109402.psd'\n",
      "文件重命名：b'G:/\\xe9\\xa5\\xad\\xe6\\xa1\\xb6\\xe8\\xae\\xbe\\xe8\\xae\\xa1/2000-2999/2223/2223/6109491.psd'\n",
      "文件重命名：b'G:/\\xe9\\xa5\\xad\\xe6\\xa1\\xb6\\xe8\\xae\\xbe\\xe8\\xae\\xa1/2000-2999/2223/2223/6109558.psd'\n",
      "文件重命名：b'G:/\\xe9\\xa5\\xad\\xe6\\xa1\\xb6\\xe8\\xae\\xbe\\xe8\\xae\\xa1/2000-2999/2223/2223/6109613.psd'\n",
      "文件重命名：b'G:/\\xe9\\xa5\\xad\\xe6\\xa1\\xb6\\xe8\\xae\\xbe\\xe8\\xae\\xa1/2000-2999/2223/2223/6109675.psd'\n",
      "文件重命名：b'G:/\\xe9\\xa5\\xad\\xe6\\xa1\\xb6\\xe8\\xae\\xbe\\xe8\\xae\\xa1/2000-2999/2223/2223/6109684.psd'\n",
      "文件重命名：b'G:/\\xe9\\xa5\\xad\\xe6\\xa1\\xb6\\xe8\\xae\\xbe\\xe8\\xae\\xa1/2000-2999/2223/2223/6109718.psd'\n",
      "文件重命名：b'G:/\\xe9\\xa5\\xad\\xe6\\xa1\\xb6\\xe8\\xae\\xbe\\xe8\\xae\\xa1/2000-2999/2223/2223/6109757.psd'\n",
      "文件重命名：b'G:/\\xe9\\xa5\\xad\\xe6\\xa1\\xb6\\xe8\\xae\\xbe\\xe8\\xae\\xa1/2000-2999/2223/2223/6109800.psd'\n",
      "文件重命名：b'G:/\\xe9\\xa5\\xad\\xe6\\xa1\\xb6\\xe8\\xae\\xbe\\xe8\\xae\\xa1/2000-2999/2223/2223/6109883.psd'\n",
      "文件重命名：b'G:/\\xe9\\xa5\\xad\\xe6\\xa1\\xb6\\xe8\\xae\\xbe\\xe8\\xae\\xa1/2000-2999/2223/2223/6111142.psd'\n",
      "文件重命名：b'G:/\\xe9\\xa5\\xad\\xe6\\xa1\\xb6\\xe8\\xae\\xbe\\xe8\\xae\\xa1/2000-2999/2223/2223/6117630.psd'\n",
      "文件重命名：b'G:/\\xe9\\xa5\\xad\\xe6\\xa1\\xb6\\xe8\\xae\\xbe\\xe8\\xae\\xa1/2000-2999/2223/2223/6117865.psd'\n",
      "文件重命名：b'G:/\\xe9\\xa5\\xad\\xe6\\xa1\\xb6\\xe8\\xae\\xbe\\xe8\\xae\\xa1/2000-2999/2223/2223/6133232.psd'\n",
      "文件重命名：b'G:/\\xe9\\xa5\\xad\\xe6\\xa1\\xb6\\xe8\\xae\\xbe\\xe8\\xae\\xa1/2000-2999/2223/2223/6133298.psd'\n",
      "文件重命名：b'G:/\\xe9\\xa5\\xad\\xe6\\xa1\\xb6\\xe8\\xae\\xbe\\xe8\\xae\\xa1/2000-2999/2223/2223/6133335.psd'\n",
      "文件重命名：b'G:/\\xe9\\xa5\\xad\\xe6\\xa1\\xb6\\xe8\\xae\\xbe\\xe8\\xae\\xa1/2000-2999/2223/2223/test(1).psd'\n",
      "文件重命名：b'G:/\\xe9\\xa5\\xad\\xe6\\xa1\\xb6\\xe8\\xae\\xbe\\xe8\\xae\\xa1/2000-2999/2223/2223/test(10).psd'\n",
      "文件重命名：b'G:/\\xe9\\xa5\\xad\\xe6\\xa1\\xb6\\xe8\\xae\\xbe\\xe8\\xae\\xa1/2000-2999/2223/2223/test(11).psd'\n",
      "文件重命名：b'G:/\\xe9\\xa5\\xad\\xe6\\xa1\\xb6\\xe8\\xae\\xbe\\xe8\\xae\\xa1/2000-2999/2223/2223/test(12).psd'\n",
      "文件重命名：b'G:/\\xe9\\xa5\\xad\\xe6\\xa1\\xb6\\xe8\\xae\\xbe\\xe8\\xae\\xa1/2000-2999/2223/2223/test(13).psd'\n",
      "文件重命名：b'G:/\\xe9\\xa5\\xad\\xe6\\xa1\\xb6\\xe8\\xae\\xbe\\xe8\\xae\\xa1/2000-2999/2223/2223/test(14).psd'\n",
      "文件重命名：b'G:/\\xe9\\xa5\\xad\\xe6\\xa1\\xb6\\xe8\\xae\\xbe\\xe8\\xae\\xa1/2000-2999/2223/2223/test(15).psd'\n",
      "文件重命名：b'G:/\\xe9\\xa5\\xad\\xe6\\xa1\\xb6\\xe8\\xae\\xbe\\xe8\\xae\\xa1/2000-2999/2223/2223/test(16).psd'\n",
      "文件重命名：b'G:/\\xe9\\xa5\\xad\\xe6\\xa1\\xb6\\xe8\\xae\\xbe\\xe8\\xae\\xa1/2000-2999/2223/2223/test(17).psd'\n",
      "文件重命名：b'G:/\\xe9\\xa5\\xad\\xe6\\xa1\\xb6\\xe8\\xae\\xbe\\xe8\\xae\\xa1/2000-2999/2223/2223/test(18).psd'\n",
      "文件重命名：b'G:/\\xe9\\xa5\\xad\\xe6\\xa1\\xb6\\xe8\\xae\\xbe\\xe8\\xae\\xa1/2000-2999/2223/2223/test(19).psd'\n",
      "文件重命名：b'G:/\\xe9\\xa5\\xad\\xe6\\xa1\\xb6\\xe8\\xae\\xbe\\xe8\\xae\\xa1/2000-2999/2223/2223/test(2).psd'\n",
      "文件重命名：b'G:/\\xe9\\xa5\\xad\\xe6\\xa1\\xb6\\xe8\\xae\\xbe\\xe8\\xae\\xa1/2000-2999/2223/2223/test(20).psd'\n",
      "文件重命名：b'G:/\\xe9\\xa5\\xad\\xe6\\xa1\\xb6\\xe8\\xae\\xbe\\xe8\\xae\\xa1/2000-2999/2223/2223/test(21).psd'\n",
      "文件重命名：b'G:/\\xe9\\xa5\\xad\\xe6\\xa1\\xb6\\xe8\\xae\\xbe\\xe8\\xae\\xa1/2000-2999/2223/2223/test(22).psd'\n",
      "文件重命名：b'G:/\\xe9\\xa5\\xad\\xe6\\xa1\\xb6\\xe8\\xae\\xbe\\xe8\\xae\\xa1/2000-2999/2223/2223/test(23).psd'\n",
      "文件重命名：b'G:/\\xe9\\xa5\\xad\\xe6\\xa1\\xb6\\xe8\\xae\\xbe\\xe8\\xae\\xa1/2000-2999/2223/2223/test(24).psd'\n",
      "文件重命名：b'G:/\\xe9\\xa5\\xad\\xe6\\xa1\\xb6\\xe8\\xae\\xbe\\xe8\\xae\\xa1/2000-2999/2223/2223/test(25).psd'\n",
      "文件重命名：b'G:/\\xe9\\xa5\\xad\\xe6\\xa1\\xb6\\xe8\\xae\\xbe\\xe8\\xae\\xa1/2000-2999/2223/2223/test(26).psd'\n",
      "文件重命名：b'G:/\\xe9\\xa5\\xad\\xe6\\xa1\\xb6\\xe8\\xae\\xbe\\xe8\\xae\\xa1/2000-2999/2223/2223/test(27).psd'\n",
      "文件重命名：b'G:/\\xe9\\xa5\\xad\\xe6\\xa1\\xb6\\xe8\\xae\\xbe\\xe8\\xae\\xa1/2000-2999/2223/2223/test(28).psd'\n",
      "文件重命名：b'G:/\\xe9\\xa5\\xad\\xe6\\xa1\\xb6\\xe8\\xae\\xbe\\xe8\\xae\\xa1/2000-2999/2223/2223/test(29).psd'\n",
      "文件重命名：b'G:/\\xe9\\xa5\\xad\\xe6\\xa1\\xb6\\xe8\\xae\\xbe\\xe8\\xae\\xa1/2000-2999/2223/2223/test(3).psd'\n",
      "文件重命名：b'G:/\\xe9\\xa5\\xad\\xe6\\xa1\\xb6\\xe8\\xae\\xbe\\xe8\\xae\\xa1/2000-2999/2223/2223/test(30).psd'\n",
      "文件重命名：b'G:/\\xe9\\xa5\\xad\\xe6\\xa1\\xb6\\xe8\\xae\\xbe\\xe8\\xae\\xa1/2000-2999/2223/2223/test(31).psd'\n",
      "文件重命名：b'G:/\\xe9\\xa5\\xad\\xe6\\xa1\\xb6\\xe8\\xae\\xbe\\xe8\\xae\\xa1/2000-2999/2223/2223/test(32).psd'\n",
      "文件重命名：b'G:/\\xe9\\xa5\\xad\\xe6\\xa1\\xb6\\xe8\\xae\\xbe\\xe8\\xae\\xa1/2000-2999/2223/2223/test(33).psd'\n",
      "文件重命名：b'G:/\\xe9\\xa5\\xad\\xe6\\xa1\\xb6\\xe8\\xae\\xbe\\xe8\\xae\\xa1/2000-2999/2223/2223/test(34).psd'\n",
      "文件重命名：b'G:/\\xe9\\xa5\\xad\\xe6\\xa1\\xb6\\xe8\\xae\\xbe\\xe8\\xae\\xa1/2000-2999/2223/2223/test(4).psd'\n",
      "文件重命名：b'G:/\\xe9\\xa5\\xad\\xe6\\xa1\\xb6\\xe8\\xae\\xbe\\xe8\\xae\\xa1/2000-2999/2223/2223/test(5).psd'\n",
      "文件重命名：b'G:/\\xe9\\xa5\\xad\\xe6\\xa1\\xb6\\xe8\\xae\\xbe\\xe8\\xae\\xa1/2000-2999/2223/2223/test(6).psd'\n",
      "文件重命名：b'G:/\\xe9\\xa5\\xad\\xe6\\xa1\\xb6\\xe8\\xae\\xbe\\xe8\\xae\\xa1/2000-2999/2223/2223/test(7).psd'\n",
      "文件重命名：b'G:/\\xe9\\xa5\\xad\\xe6\\xa1\\xb6\\xe8\\xae\\xbe\\xe8\\xae\\xa1/2000-2999/2223/2223/test(8).psd'\n",
      "文件重命名：b'G:/\\xe9\\xa5\\xad\\xe6\\xa1\\xb6\\xe8\\xae\\xbe\\xe8\\xae\\xa1/2000-2999/2223/2223/test(9).psd'\n"
     ]
    },
    {
     "name": "stderr",
     "output_type": "stream",
     "text": [
      "PSD添加广告生成图片:   0%|                                                   | 0/34 [00:00<?, ?it/s]"
     ]
    },
    {
     "name": "stdout",
     "output_type": "stream",
     "text": [
      "\n",
      "\n",
      "处理文件:G:/饭桶设计/2000-2999/2223/2223/饭桶设计(1).psd\n",
      "导出PNG\n",
      "插入广告\n"
     ]
    },
    {
     "name": "stderr",
     "output_type": "stream",
     "text": [
      "PSD添加广告生成图片:   3%|█▎                                         | 1/34 [00:12<07:04, 12.87s/it]"
     ]
    },
    {
     "name": "stdout",
     "output_type": "stream",
     "text": [
      "\n",
      "\n",
      "处理文件:G:/饭桶设计/2000-2999/2223/2223/饭桶设计(2).psd\n",
      "导出PNG\n",
      "插入广告\n"
     ]
    },
    {
     "name": "stderr",
     "output_type": "stream",
     "text": [
      "PSD添加广告生成图片:   6%|██▌                                        | 2/34 [00:44<12:36, 23.65s/it]"
     ]
    },
    {
     "name": "stdout",
     "output_type": "stream",
     "text": [
      "\n",
      "\n",
      "处理文件:G:/饭桶设计/2000-2999/2223/2223/饭桶设计(3).psd\n",
      "导出PNG\n",
      "插入广告\n"
     ]
    },
    {
     "name": "stderr",
     "output_type": "stream",
     "text": [
      "PSD添加广告生成图片:   9%|███▊                                       | 3/34 [01:17<14:29, 28.04s/it]"
     ]
    },
    {
     "name": "stdout",
     "output_type": "stream",
     "text": [
      "\n",
      "\n",
      "处理文件:G:/饭桶设计/2000-2999/2223/2223/饭桶设计(4).psd\n",
      "导出PNG\n",
      "插入广告\n"
     ]
    },
    {
     "name": "stderr",
     "output_type": "stream",
     "text": [
      "PSD添加广告生成图片:  12%|█████                                      | 4/34 [01:47<14:32, 29.07s/it]"
     ]
    },
    {
     "name": "stdout",
     "output_type": "stream",
     "text": [
      "\n",
      "\n",
      "处理文件:G:/饭桶设计/2000-2999/2223/2223/饭桶设计(5).psd\n",
      "导出PNG\n",
      "插入广告\n"
     ]
    },
    {
     "name": "stderr",
     "output_type": "stream",
     "text": [
      "PSD添加广告生成图片:  15%|██████▎                                    | 5/34 [02:13<13:21, 27.62s/it]"
     ]
    },
    {
     "name": "stdout",
     "output_type": "stream",
     "text": [
      "\n",
      "\n",
      "处理文件:G:/饭桶设计/2000-2999/2223/2223/饭桶设计(6).psd\n",
      "导出PNG\n",
      "插入广告\n"
     ]
    },
    {
     "name": "stderr",
     "output_type": "stream",
     "text": [
      "PSD添加广告生成图片:  18%|███████▌                                   | 6/34 [02:35<12:05, 25.92s/it]"
     ]
    },
    {
     "name": "stdout",
     "output_type": "stream",
     "text": [
      "\n",
      "\n",
      "处理文件:G:/饭桶设计/2000-2999/2223/2223/饭桶设计(7).psd\n",
      "导出PNG\n",
      "插入广告\n"
     ]
    },
    {
     "name": "stderr",
     "output_type": "stream",
     "text": [
      "PSD添加广告生成图片:  21%|████████▊                                  | 7/34 [02:53<10:30, 23.34s/it]"
     ]
    },
    {
     "name": "stdout",
     "output_type": "stream",
     "text": [
      "\n",
      "\n",
      "处理文件:G:/饭桶设计/2000-2999/2223/2223/饭桶设计(8).psd\n",
      "导出PNG\n",
      "插入广告\n"
     ]
    },
    {
     "name": "stderr",
     "output_type": "stream",
     "text": [
      "PSD添加广告生成图片:  24%|██████████                                 | 8/34 [03:01<07:57, 18.35s/it]"
     ]
    },
    {
     "name": "stdout",
     "output_type": "stream",
     "text": [
      "\n",
      "\n",
      "处理文件:G:/饭桶设计/2000-2999/2223/2223/饭桶设计(9).psd\n",
      "导出PNG\n",
      "插入广告\n"
     ]
    },
    {
     "name": "stderr",
     "output_type": "stream",
     "text": [
      "PSD添加广告生成图片:  26%|███████████▍                               | 9/34 [03:34<09:37, 23.11s/it]"
     ]
    },
    {
     "name": "stdout",
     "output_type": "stream",
     "text": [
      "\n",
      "\n",
      "处理文件:G:/饭桶设计/2000-2999/2223/2223/饭桶设计(10).psd\n",
      "导出PNG\n",
      "插入广告\n"
     ]
    },
    {
     "name": "stderr",
     "output_type": "stream",
     "text": [
      "PSD添加广告生成图片:  29%|████████████▎                             | 10/34 [04:00<09:33, 23.90s/it]"
     ]
    },
    {
     "name": "stdout",
     "output_type": "stream",
     "text": [
      "\n",
      "\n",
      "处理文件:G:/饭桶设计/2000-2999/2223/2223/饭桶设计(11).psd\n",
      "导出PNG\n",
      "插入广告\n"
     ]
    },
    {
     "name": "stderr",
     "output_type": "stream",
     "text": [
      "PSD添加广告生成图片:  32%|█████████████▌                            | 11/34 [04:30<09:53, 25.79s/it]"
     ]
    },
    {
     "name": "stdout",
     "output_type": "stream",
     "text": [
      "\n",
      "\n",
      "处理文件:G:/饭桶设计/2000-2999/2223/2223/饭桶设计(12).psd\n",
      "导出PNG\n",
      "插入广告\n"
     ]
    },
    {
     "name": "stderr",
     "output_type": "stream",
     "text": [
      "PSD添加广告生成图片:  35%|██████████████▊                           | 12/34 [04:41<07:48, 21.28s/it]"
     ]
    },
    {
     "name": "stdout",
     "output_type": "stream",
     "text": [
      "\n",
      "\n",
      "处理文件:G:/饭桶设计/2000-2999/2223/2223/饭桶设计(13).psd\n",
      "导出PNG\n",
      "插入广告\n"
     ]
    },
    {
     "name": "stderr",
     "output_type": "stream",
     "text": [
      "PSD添加广告生成图片:  38%|████████████████                          | 13/34 [05:07<07:55, 22.66s/it]"
     ]
    },
    {
     "name": "stdout",
     "output_type": "stream",
     "text": [
      "\n",
      "\n",
      "处理文件:G:/饭桶设计/2000-2999/2223/2223/饭桶设计(14).psd\n",
      "导出PNG\n",
      "插入广告\n"
     ]
    },
    {
     "name": "stderr",
     "output_type": "stream",
     "text": [
      "PSD添加广告生成图片:  41%|█████████████████▎                        | 14/34 [05:28<07:21, 22.06s/it]"
     ]
    },
    {
     "name": "stdout",
     "output_type": "stream",
     "text": [
      "\n",
      "\n",
      "处理文件:G:/饭桶设计/2000-2999/2223/2223/饭桶设计(15).psd\n",
      "导出PNG\n",
      "插入广告\n"
     ]
    },
    {
     "name": "stderr",
     "output_type": "stream",
     "text": [
      "PSD添加广告生成图片:  44%|██████████████████▌                       | 15/34 [05:46<06:37, 20.93s/it]"
     ]
    },
    {
     "name": "stdout",
     "output_type": "stream",
     "text": [
      "\n",
      "\n",
      "处理文件:G:/饭桶设计/2000-2999/2223/2223/饭桶设计(16).psd\n",
      "导出PNG\n",
      "插入广告\n"
     ]
    },
    {
     "name": "stderr",
     "output_type": "stream",
     "text": [
      "PSD添加广告生成图片:  47%|███████████████████▊                      | 16/34 [06:18<07:16, 24.28s/it]"
     ]
    },
    {
     "name": "stdout",
     "output_type": "stream",
     "text": [
      "\n",
      "\n",
      "处理文件:G:/饭桶设计/2000-2999/2223/2223/饭桶设计(17).psd\n",
      "导出PNG\n",
      "插入广告\n"
     ]
    },
    {
     "name": "stderr",
     "output_type": "stream",
     "text": [
      "PSD添加广告生成图片:  50%|█████████████████████                     | 17/34 [06:26<05:27, 19.24s/it]"
     ]
    },
    {
     "name": "stdout",
     "output_type": "stream",
     "text": [
      "\n",
      "\n",
      "处理文件:G:/饭桶设计/2000-2999/2223/2223/饭桶设计(18).psd\n",
      "导出PNG\n",
      "插入广告\n"
     ]
    },
    {
     "name": "stderr",
     "output_type": "stream",
     "text": [
      "PSD添加广告生成图片:  53%|██████████████████████▏                   | 18/34 [06:43<04:57, 18.62s/it]"
     ]
    },
    {
     "name": "stdout",
     "output_type": "stream",
     "text": [
      "\n",
      "\n",
      "处理文件:G:/饭桶设计/2000-2999/2223/2223/饭桶设计(19).psd\n",
      "导出PNG\n",
      "插入广告\n"
     ]
    },
    {
     "name": "stderr",
     "output_type": "stream",
     "text": [
      "PSD添加广告生成图片:  56%|███████████████████████▍                  | 19/34 [07:04<04:50, 19.35s/it]"
     ]
    },
    {
     "name": "stdout",
     "output_type": "stream",
     "text": [
      "\n",
      "\n",
      "处理文件:G:/饭桶设计/2000-2999/2223/2223/饭桶设计(20).psd\n",
      "导出PNG\n",
      "插入广告\n"
     ]
    },
    {
     "name": "stderr",
     "output_type": "stream",
     "text": [
      "PSD添加广告生成图片:  59%|████████████████████████▋                 | 20/34 [07:23<04:31, 19.38s/it]"
     ]
    },
    {
     "name": "stdout",
     "output_type": "stream",
     "text": [
      "\n",
      "\n",
      "处理文件:G:/饭桶设计/2000-2999/2223/2223/饭桶设计(21).psd\n",
      "导出PNG\n",
      "插入广告\n"
     ]
    },
    {
     "name": "stderr",
     "output_type": "stream",
     "text": [
      "PSD添加广告生成图片:  62%|█████████████████████████▉                | 21/34 [07:59<05:17, 24.41s/it]"
     ]
    },
    {
     "name": "stdout",
     "output_type": "stream",
     "text": [
      "\n",
      "\n",
      "处理文件:G:/饭桶设计/2000-2999/2223/2223/饭桶设计(22).psd\n",
      "导出PNG\n",
      "插入广告\n"
     ]
    },
    {
     "name": "stderr",
     "output_type": "stream",
     "text": [
      "PSD添加广告生成图片:  65%|███████████████████████████▏              | 22/34 [08:30<05:13, 26.16s/it]"
     ]
    },
    {
     "name": "stdout",
     "output_type": "stream",
     "text": [
      "\n",
      "\n",
      "处理文件:G:/饭桶设计/2000-2999/2223/2223/饭桶设计(23).psd\n",
      "导出PNG\n",
      "插入广告\n"
     ]
    },
    {
     "name": "stderr",
     "output_type": "stream",
     "text": [
      "PSD添加广告生成图片:  68%|████████████████████████████▍             | 23/34 [08:58<04:55, 26.87s/it]"
     ]
    },
    {
     "name": "stdout",
     "output_type": "stream",
     "text": [
      "\n",
      "\n",
      "处理文件:G:/饭桶设计/2000-2999/2223/2223/饭桶设计(24).psd\n",
      "导出PNG\n",
      "插入广告\n"
     ]
    },
    {
     "name": "stderr",
     "output_type": "stream",
     "text": [
      "PSD添加广告生成图片:  71%|█████████████████████████████▋            | 24/34 [09:20<04:14, 25.44s/it]"
     ]
    },
    {
     "name": "stdout",
     "output_type": "stream",
     "text": [
      "\n",
      "\n",
      "处理文件:G:/饭桶设计/2000-2999/2223/2223/饭桶设计(25).psd\n",
      "导出PNG\n",
      "插入广告\n"
     ]
    },
    {
     "name": "stderr",
     "output_type": "stream",
     "text": [
      "PSD添加广告生成图片:  74%|██████████████████████████████▉           | 25/34 [09:38<03:27, 23.05s/it]"
     ]
    },
    {
     "name": "stdout",
     "output_type": "stream",
     "text": [
      "\n",
      "\n",
      "处理文件:G:/饭桶设计/2000-2999/2223/2223/饭桶设计(26).psd\n",
      "导出PNG\n",
      "插入广告\n"
     ]
    },
    {
     "name": "stderr",
     "output_type": "stream",
     "text": [
      "PSD添加广告生成图片:  76%|████████████████████████████████          | 26/34 [10:02<03:08, 23.54s/it]"
     ]
    },
    {
     "name": "stdout",
     "output_type": "stream",
     "text": [
      "\n",
      "\n",
      "处理文件:G:/饭桶设计/2000-2999/2223/2223/饭桶设计(27).psd\n",
      "导出PNG\n",
      "插入广告\n"
     ]
    },
    {
     "name": "stderr",
     "output_type": "stream",
     "text": [
      "PSD添加广告生成图片:  79%|█████████████████████████████████▎        | 27/34 [10:20<02:32, 21.83s/it]"
     ]
    },
    {
     "name": "stdout",
     "output_type": "stream",
     "text": [
      "\n",
      "\n",
      "处理文件:G:/饭桶设计/2000-2999/2223/2223/饭桶设计(28).psd\n",
      "导出PNG\n",
      "插入广告\n"
     ]
    },
    {
     "name": "stderr",
     "output_type": "stream",
     "text": [
      "PSD添加广告生成图片:  82%|██████████████████████████████████▌       | 28/34 [10:33<01:55, 19.26s/it]"
     ]
    },
    {
     "name": "stdout",
     "output_type": "stream",
     "text": [
      "\n",
      "\n",
      "处理文件:G:/饭桶设计/2000-2999/2223/2223/饭桶设计(29).psd\n",
      "导出PNG\n",
      "插入广告\n"
     ]
    },
    {
     "name": "stderr",
     "output_type": "stream",
     "text": [
      "PSD添加广告生成图片:  85%|███████████████████████████████████▊      | 29/34 [11:02<01:50, 22.04s/it]"
     ]
    },
    {
     "name": "stdout",
     "output_type": "stream",
     "text": [
      "\n",
      "\n",
      "处理文件:G:/饭桶设计/2000-2999/2223/2223/饭桶设计(30).psd\n",
      "导出PNG\n",
      "插入广告\n"
     ]
    },
    {
     "name": "stderr",
     "output_type": "stream",
     "text": [
      "PSD添加广告生成图片:  88%|█████████████████████████████████████     | 30/34 [11:34<01:40, 25.07s/it]"
     ]
    },
    {
     "name": "stdout",
     "output_type": "stream",
     "text": [
      "\n",
      "\n",
      "处理文件:G:/饭桶设计/2000-2999/2223/2223/饭桶设计(31).psd\n",
      "导出PNG\n",
      "插入广告\n"
     ]
    },
    {
     "name": "stderr",
     "output_type": "stream",
     "text": [
      "PSD添加广告生成图片:  91%|██████████████████████████████████████▎   | 31/34 [12:00<01:15, 25.20s/it]"
     ]
    },
    {
     "name": "stdout",
     "output_type": "stream",
     "text": [
      "\n",
      "\n",
      "处理文件:G:/饭桶设计/2000-2999/2223/2223/饭桶设计(32).psd\n",
      "导出PNG\n",
      "插入广告\n"
     ]
    },
    {
     "name": "stderr",
     "output_type": "stream",
     "text": [
      "PSD添加广告生成图片:  94%|███████████████████████████████████████▌  | 32/34 [12:34<00:55, 27.84s/it]"
     ]
    },
    {
     "name": "stdout",
     "output_type": "stream",
     "text": [
      "\n",
      "\n",
      "处理文件:G:/饭桶设计/2000-2999/2223/2223/饭桶设计(33).psd\n",
      "导出PNG\n",
      "插入广告\n"
     ]
    },
    {
     "name": "stderr",
     "output_type": "stream",
     "text": [
      "PSD添加广告生成图片:  97%|████████████████████████████████████████▊ | 33/34 [13:06<00:29, 29.09s/it]"
     ]
    },
    {
     "name": "stdout",
     "output_type": "stream",
     "text": [
      "\n",
      "\n",
      "处理文件:G:/饭桶设计/2000-2999/2223/2223/饭桶设计(34).psd\n",
      "导出PNG\n",
      "插入广告\n"
     ]
    },
    {
     "name": "stderr",
     "output_type": "stream",
     "text": [
      "PSD添加广告生成图片: 100%|██████████████████████████████████████████| 34/34 [13:38<00:00, 24.07s/it]\n",
      "AI导出PNG: 0it [00:00, ?it/s]\n",
      "PPT导出PNG: 0it [00:00, ?it/s]\n",
      "复制到制定目录: 100%|██████████████████████████████████████████████| 34/34 [00:00<00:00, 108.78it/s]\n",
      "图片添加水印: 100%|█████████████████████████████████████████████████| 34/34 [00:30<00:00,  1.11it/s]\n",
      "解压ZIP: 100%|██████████████████████████████████████████████████████| 29/29 [01:05<00:00,  2.26s/it]\n",
      "解压RAR: 0it [00:00, ?it/s]\n"
     ]
    },
    {
     "name": "stdout",
     "output_type": "stream",
     "text": [
      "移动到根目录:b'G:/\\xe9\\xa5\\xad\\xe6\\xa1\\xb6\\xe8\\xae\\xbe\\xe8\\xae\\xa1/2000-2999/2224/2224/8024480.psd'\n",
      "移动到根目录:b'G:/\\xe9\\xa5\\xad\\xe6\\xa1\\xb6\\xe8\\xae\\xbe\\xe8\\xae\\xa1/2000-2999/2224/2224/8024481.jpg'\n",
      "移动到根目录:b'G:/\\xe9\\xa5\\xad\\xe6\\xa1\\xb6\\xe8\\xae\\xbe\\xe8\\xae\\xa1/2000-2999/2224/2224/8024482.jpg'\n",
      "移动到根目录:b'G:/\\xe9\\xa5\\xad\\xe6\\xa1\\xb6\\xe8\\xae\\xbe\\xe8\\xae\\xa1/2000-2999/2224/2224/7993400.jpg'\n",
      "移动到根目录:b'G:/\\xe9\\xa5\\xad\\xe6\\xa1\\xb6\\xe8\\xae\\xbe\\xe8\\xae\\xa1/2000-2999/2224/2224/7993405.psd'\n",
      "移动到根目录:b'G:/\\xe9\\xa5\\xad\\xe6\\xa1\\xb6\\xe8\\xae\\xbe\\xe8\\xae\\xa1/2000-2999/2224/2224/7993406.jpg'\n",
      "移动到根目录:b'G:/\\xe9\\xa5\\xad\\xe6\\xa1\\xb6\\xe8\\xae\\xbe\\xe8\\xae\\xa1/2000-2999/2224/2224/8024652.jpg'\n",
      "移动到根目录:b'G:/\\xe9\\xa5\\xad\\xe6\\xa1\\xb6\\xe8\\xae\\xbe\\xe8\\xae\\xa1/2000-2999/2224/2224/8029536.jpg'\n",
      "移动到根目录:b'G:/\\xe9\\xa5\\xad\\xe6\\xa1\\xb6\\xe8\\xae\\xbe\\xe8\\xae\\xa1/2000-2999/2224/2224/8029549.psd'\n",
      "移动到根目录:b'G:/\\xe9\\xa5\\xad\\xe6\\xa1\\xb6\\xe8\\xae\\xbe\\xe8\\xae\\xa1/2000-2999/2224/2224/8016704.jpg'\n",
      "移动到根目录:b'G:/\\xe9\\xa5\\xad\\xe6\\xa1\\xb6\\xe8\\xae\\xbe\\xe8\\xae\\xa1/2000-2999/2224/2224/8016715.psd'\n",
      "移动到根目录:b'G:/\\xe9\\xa5\\xad\\xe6\\xa1\\xb6\\xe8\\xae\\xbe\\xe8\\xae\\xa1/2000-2999/2224/2224/8016718.jpg'\n",
      "移动到根目录:b'G:/\\xe9\\xa5\\xad\\xe6\\xa1\\xb6\\xe8\\xae\\xbe\\xe8\\xae\\xa1/2000-2999/2224/2224/8022756.jpg'\n",
      "移动到根目录:b'G:/\\xe9\\xa5\\xad\\xe6\\xa1\\xb6\\xe8\\xae\\xbe\\xe8\\xae\\xa1/2000-2999/2224/2224/8022768.psd'\n",
      "移动到根目录:b'G:/\\xe9\\xa5\\xad\\xe6\\xa1\\xb6\\xe8\\xae\\xbe\\xe8\\xae\\xa1/2000-2999/2224/2224/8022772.jpg'\n",
      "移动到根目录:b'G:/\\xe9\\xa5\\xad\\xe6\\xa1\\xb6\\xe8\\xae\\xbe\\xe8\\xae\\xa1/2000-2999/2224/2224/8010285.psd'\n",
      "移动到根目录:b'G:/\\xe9\\xa5\\xad\\xe6\\xa1\\xb6\\xe8\\xae\\xbe\\xe8\\xae\\xa1/2000-2999/2224/2224/8010286.jpg'\n",
      "移动到根目录:b'G:/\\xe9\\xa5\\xad\\xe6\\xa1\\xb6\\xe8\\xae\\xbe\\xe8\\xae\\xa1/2000-2999/2224/2224/8010287.jpg'\n",
      "移动到根目录:b'G:/\\xe9\\xa5\\xad\\xe6\\xa1\\xb6\\xe8\\xae\\xbe\\xe8\\xae\\xa1/2000-2999/2224/2224/8010660.jpg'\n",
      "移动到根目录:b'G:/\\xe9\\xa5\\xad\\xe6\\xa1\\xb6\\xe8\\xae\\xbe\\xe8\\xae\\xa1/2000-2999/2224/2224/8010668.psd'\n",
      "移动到根目录:b'G:/\\xe9\\xa5\\xad\\xe6\\xa1\\xb6\\xe8\\xae\\xbe\\xe8\\xae\\xa1/2000-2999/2224/2224/8010670.jpg'\n",
      "移动到根目录:b'G:/\\xe9\\xa5\\xad\\xe6\\xa1\\xb6\\xe8\\xae\\xbe\\xe8\\xae\\xa1/2000-2999/2224/2224/8023846.psd'\n",
      "移动到根目录:b'G:/\\xe9\\xa5\\xad\\xe6\\xa1\\xb6\\xe8\\xae\\xbe\\xe8\\xae\\xa1/2000-2999/2224/2224/8023849.jpg'\n",
      "移动到根目录:b'G:/\\xe9\\xa5\\xad\\xe6\\xa1\\xb6\\xe8\\xae\\xbe\\xe8\\xae\\xa1/2000-2999/2224/2224/8023851.jpg'\n",
      "移动到根目录:b'G:/\\xe9\\xa5\\xad\\xe6\\xa1\\xb6\\xe8\\xae\\xbe\\xe8\\xae\\xa1/2000-2999/2224/2224/8024098.jpg'\n",
      "移动到根目录:b'G:/\\xe9\\xa5\\xad\\xe6\\xa1\\xb6\\xe8\\xae\\xbe\\xe8\\xae\\xa1/2000-2999/2224/2224/8024103.psd'\n",
      "移动到根目录:b'G:/\\xe9\\xa5\\xad\\xe6\\xa1\\xb6\\xe8\\xae\\xbe\\xe8\\xae\\xa1/2000-2999/2224/2224/8024104.jpg'\n",
      "移动到根目录:b'G:/\\xe9\\xa5\\xad\\xe6\\xa1\\xb6\\xe8\\xae\\xbe\\xe8\\xae\\xa1/2000-2999/2224/2224/8021729.jpg'\n",
      "移动到根目录:b'G:/\\xe9\\xa5\\xad\\xe6\\xa1\\xb6\\xe8\\xae\\xbe\\xe8\\xae\\xa1/2000-2999/2224/2224/8021735.psd'\n",
      "移动到根目录:b'G:/\\xe9\\xa5\\xad\\xe6\\xa1\\xb6\\xe8\\xae\\xbe\\xe8\\xae\\xa1/2000-2999/2224/2224/8021736.jpg'\n",
      "移动到根目录:b'G:/\\xe9\\xa5\\xad\\xe6\\xa1\\xb6\\xe8\\xae\\xbe\\xe8\\xae\\xa1/2000-2999/2224/2224/8023636.psd'\n",
      "移动到根目录:b'G:/\\xe9\\xa5\\xad\\xe6\\xa1\\xb6\\xe8\\xae\\xbe\\xe8\\xae\\xa1/2000-2999/2224/2224/8023637.jpg'\n",
      "移动到根目录:b'G:/\\xe9\\xa5\\xad\\xe6\\xa1\\xb6\\xe8\\xae\\xbe\\xe8\\xae\\xa1/2000-2999/2224/2224/8023638.jpg'\n",
      "移动到根目录:b'G:/\\xe9\\xa5\\xad\\xe6\\xa1\\xb6\\xe8\\xae\\xbe\\xe8\\xae\\xa1/2000-2999/2224/2224/8023639.jpg'\n",
      "移动到根目录:b'G:/\\xe9\\xa5\\xad\\xe6\\xa1\\xb6\\xe8\\xae\\xbe\\xe8\\xae\\xa1/2000-2999/2224/2224/8018906.jpg'\n",
      "移动到根目录:b'G:/\\xe9\\xa5\\xad\\xe6\\xa1\\xb6\\xe8\\xae\\xbe\\xe8\\xae\\xa1/2000-2999/2224/2224/8018907.psd'\n",
      "移动到根目录:b'G:/\\xe9\\xa5\\xad\\xe6\\xa1\\xb6\\xe8\\xae\\xbe\\xe8\\xae\\xa1/2000-2999/2224/2224/8018908.jpg'\n",
      "移动到根目录:b'G:/\\xe9\\xa5\\xad\\xe6\\xa1\\xb6\\xe8\\xae\\xbe\\xe8\\xae\\xa1/2000-2999/2224/2224/8009591.jpg'\n",
      "移动到根目录:b'G:/\\xe9\\xa5\\xad\\xe6\\xa1\\xb6\\xe8\\xae\\xbe\\xe8\\xae\\xa1/2000-2999/2224/2224/8009592.jpg'\n",
      "移动到根目录:b'G:/\\xe9\\xa5\\xad\\xe6\\xa1\\xb6\\xe8\\xae\\xbe\\xe8\\xae\\xa1/2000-2999/2224/2224/8009597.psd'\n",
      "移动到根目录:b'G:/\\xe9\\xa5\\xad\\xe6\\xa1\\xb6\\xe8\\xae\\xbe\\xe8\\xae\\xa1/2000-2999/2224/2224/8021183.jpg'\n",
      "移动到根目录:b'G:/\\xe9\\xa5\\xad\\xe6\\xa1\\xb6\\xe8\\xae\\xbe\\xe8\\xae\\xa1/2000-2999/2224/2224/8021187.psd'\n",
      "移动到根目录:b'G:/\\xe9\\xa5\\xad\\xe6\\xa1\\xb6\\xe8\\xae\\xbe\\xe8\\xae\\xa1/2000-2999/2224/2224/8021188.jpg'\n",
      "移动到根目录:b'G:/\\xe9\\xa5\\xad\\xe6\\xa1\\xb6\\xe8\\xae\\xbe\\xe8\\xae\\xa1/2000-2999/2224/2224/8018616.psd'\n",
      "移动到根目录:b'G:/\\xe9\\xa5\\xad\\xe6\\xa1\\xb6\\xe8\\xae\\xbe\\xe8\\xae\\xa1/2000-2999/2224/2224/8018617.jpg'\n",
      "移动到根目录:b'G:/\\xe9\\xa5\\xad\\xe6\\xa1\\xb6\\xe8\\xae\\xbe\\xe8\\xae\\xa1/2000-2999/2224/2224/8018618.jpg'\n",
      "移动到根目录:b'G:/\\xe9\\xa5\\xad\\xe6\\xa1\\xb6\\xe8\\xae\\xbe\\xe8\\xae\\xa1/2000-2999/2224/2224/8017326.jpg'\n",
      "移动到根目录:b'G:/\\xe9\\xa5\\xad\\xe6\\xa1\\xb6\\xe8\\xae\\xbe\\xe8\\xae\\xa1/2000-2999/2224/2224/8017327.jpg'\n",
      "移动到根目录:b'G:/\\xe9\\xa5\\xad\\xe6\\xa1\\xb6\\xe8\\xae\\xbe\\xe8\\xae\\xa1/2000-2999/2224/2224/8017330.psd'\n",
      "移动到根目录:b'G:/\\xe9\\xa5\\xad\\xe6\\xa1\\xb6\\xe8\\xae\\xbe\\xe8\\xae\\xa1/2000-2999/2224/2224/8021925.jpg'\n",
      "移动到根目录:b'G:/\\xe9\\xa5\\xad\\xe6\\xa1\\xb6\\xe8\\xae\\xbe\\xe8\\xae\\xa1/2000-2999/2224/2224/8021927.psd'\n",
      "移动到根目录:b'G:/\\xe9\\xa5\\xad\\xe6\\xa1\\xb6\\xe8\\xae\\xbe\\xe8\\xae\\xa1/2000-2999/2224/2224/8021928.jpg'\n",
      "移动到根目录:b'G:/\\xe9\\xa5\\xad\\xe6\\xa1\\xb6\\xe8\\xae\\xbe\\xe8\\xae\\xa1/2000-2999/2224/2224/8023134.jpg'\n",
      "移动到根目录:b'G:/\\xe9\\xa5\\xad\\xe6\\xa1\\xb6\\xe8\\xae\\xbe\\xe8\\xae\\xa1/2000-2999/2224/2224/8023160.psd'\n",
      "移动到根目录:b'G:/\\xe9\\xa5\\xad\\xe6\\xa1\\xb6\\xe8\\xae\\xbe\\xe8\\xae\\xa1/2000-2999/2224/2224/8023162.jpg'\n",
      "移动到根目录:b'G:/\\xe9\\xa5\\xad\\xe6\\xa1\\xb6\\xe8\\xae\\xbe\\xe8\\xae\\xa1/2000-2999/2224/2224/8024538.jpg'\n",
      "移动到根目录:b'G:/\\xe9\\xa5\\xad\\xe6\\xa1\\xb6\\xe8\\xae\\xbe\\xe8\\xae\\xa1/2000-2999/2224/2224/8024544.psd'\n",
      "移动到根目录:b'G:/\\xe9\\xa5\\xad\\xe6\\xa1\\xb6\\xe8\\xae\\xbe\\xe8\\xae\\xa1/2000-2999/2224/2224/8024546.jpg'\n",
      "移动到根目录:b'G:/\\xe9\\xa5\\xad\\xe6\\xa1\\xb6\\xe8\\xae\\xbe\\xe8\\xae\\xa1/2000-2999/2224/2224/8022649.jpg'\n",
      "移动到根目录:b'G:/\\xe9\\xa5\\xad\\xe6\\xa1\\xb6\\xe8\\xae\\xbe\\xe8\\xae\\xa1/2000-2999/2224/2224/8022650.jpg'\n",
      "移动到根目录:b'G:/\\xe9\\xa5\\xad\\xe6\\xa1\\xb6\\xe8\\xae\\xbe\\xe8\\xae\\xa1/2000-2999/2224/2224/8022653.psd'\n",
      "移动到根目录:b'G:/\\xe9\\xa5\\xad\\xe6\\xa1\\xb6\\xe8\\xae\\xbe\\xe8\\xae\\xa1/2000-2999/2224/2224/8011210.jpg'\n",
      "移动到根目录:b'G:/\\xe9\\xa5\\xad\\xe6\\xa1\\xb6\\xe8\\xae\\xbe\\xe8\\xae\\xa1/2000-2999/2224/2224/8011230.psd'\n",
      "移动到根目录:b'G:/\\xe9\\xa5\\xad\\xe6\\xa1\\xb6\\xe8\\xae\\xbe\\xe8\\xae\\xa1/2000-2999/2224/2224/8011235.jpg'\n",
      "移动到根目录:b'G:/\\xe9\\xa5\\xad\\xe6\\xa1\\xb6\\xe8\\xae\\xbe\\xe8\\xae\\xa1/2000-2999/2224/2224/8017704.jpg'\n",
      "移动到根目录:b'G:/\\xe9\\xa5\\xad\\xe6\\xa1\\xb6\\xe8\\xae\\xbe\\xe8\\xae\\xa1/2000-2999/2224/2224/8017705.jpg'\n",
      "移动到根目录:b'G:/\\xe9\\xa5\\xad\\xe6\\xa1\\xb6\\xe8\\xae\\xbe\\xe8\\xae\\xa1/2000-2999/2224/2224/8022786.psd'\n",
      "移动到根目录:b'G:/\\xe9\\xa5\\xad\\xe6\\xa1\\xb6\\xe8\\xae\\xbe\\xe8\\xae\\xa1/2000-2999/2224/2224/8011497.jpg'\n",
      "移动到根目录:b'G:/\\xe9\\xa5\\xad\\xe6\\xa1\\xb6\\xe8\\xae\\xbe\\xe8\\xae\\xa1/2000-2999/2224/2224/8011507.psd'\n",
      "移动到根目录:b'G:/\\xe9\\xa5\\xad\\xe6\\xa1\\xb6\\xe8\\xae\\xbe\\xe8\\xae\\xa1/2000-2999/2224/2224/8011509.jpg'\n",
      "移动到根目录:b'G:/\\xe9\\xa5\\xad\\xe6\\xa1\\xb6\\xe8\\xae\\xbe\\xe8\\xae\\xa1/2000-2999/2224/2224/8023007.psd'\n",
      "移动到根目录:b'G:/\\xe9\\xa5\\xad\\xe6\\xa1\\xb6\\xe8\\xae\\xbe\\xe8\\xae\\xa1/2000-2999/2224/2224/8023008.jpg'\n",
      "移动到根目录:b'G:/\\xe9\\xa5\\xad\\xe6\\xa1\\xb6\\xe8\\xae\\xbe\\xe8\\xae\\xa1/2000-2999/2224/2224/8023012.jpg'\n",
      "移动到根目录:b'G:/\\xe9\\xa5\\xad\\xe6\\xa1\\xb6\\xe8\\xae\\xbe\\xe8\\xae\\xa1/2000-2999/2224/2224/7997670.jpg'\n",
      "移动到根目录:b'G:/\\xe9\\xa5\\xad\\xe6\\xa1\\xb6\\xe8\\xae\\xbe\\xe8\\xae\\xa1/2000-2999/2224/2224/7997675.psd'\n",
      "移动到根目录:b'G:/\\xe9\\xa5\\xad\\xe6\\xa1\\xb6\\xe8\\xae\\xbe\\xe8\\xae\\xa1/2000-2999/2224/2224/7997676.jpg'\n",
      "移动到根目录:b'G:/\\xe9\\xa5\\xad\\xe6\\xa1\\xb6\\xe8\\xae\\xbe\\xe8\\xae\\xa1/2000-2999/2224/2224/8024599.jpg'\n",
      "移动到根目录:b'G:/\\xe9\\xa5\\xad\\xe6\\xa1\\xb6\\xe8\\xae\\xbe\\xe8\\xae\\xa1/2000-2999/2224/2224/8029456.jpg'\n",
      "移动到根目录:b'G:/\\xe9\\xa5\\xad\\xe6\\xa1\\xb6\\xe8\\xae\\xbe\\xe8\\xae\\xa1/2000-2999/2224/2224/8029466.psd'\n",
      "移动到根目录:b'G:/\\xe9\\xa5\\xad\\xe6\\xa1\\xb6\\xe8\\xae\\xbe\\xe8\\xae\\xa1/2000-2999/2224/2224/8022807.jpg'\n",
      "移动到根目录:b'G:/\\xe9\\xa5\\xad\\xe6\\xa1\\xb6\\xe8\\xae\\xbe\\xe8\\xae\\xa1/2000-2999/2224/2224/8022808.jpg'\n",
      "移动到根目录:b'G:/\\xe9\\xa5\\xad\\xe6\\xa1\\xb6\\xe8\\xae\\xbe\\xe8\\xae\\xa1/2000-2999/2224/2224/8022810.psd'\n",
      "移动到根目录:b'G:/\\xe9\\xa5\\xad\\xe6\\xa1\\xb6\\xe8\\xae\\xbe\\xe8\\xae\\xa1/2000-2999/2224/2224/8012059.jpg'\n",
      "移动到根目录:b'G:/\\xe9\\xa5\\xad\\xe6\\xa1\\xb6\\xe8\\xae\\xbe\\xe8\\xae\\xa1/2000-2999/2224/2224/8012061.psd'\n",
      "移动到根目录:b'G:/\\xe9\\xa5\\xad\\xe6\\xa1\\xb6\\xe8\\xae\\xbe\\xe8\\xae\\xa1/2000-2999/2224/2224/8012062.jpg'\n",
      "移动到根目录:b'G:/\\xe9\\xa5\\xad\\xe6\\xa1\\xb6\\xe8\\xae\\xbe\\xe8\\xae\\xa1/2000-2999/2224/2224/8018260.jpg'\n",
      "移动到根目录:b'G:/\\xe9\\xa5\\xad\\xe6\\xa1\\xb6\\xe8\\xae\\xbe\\xe8\\xae\\xa1/2000-2999/2224/2224/8018262.psd'\n",
      "移动到根目录:b'G:/\\xe9\\xa5\\xad\\xe6\\xa1\\xb6\\xe8\\xae\\xbe\\xe8\\xae\\xa1/2000-2999/2224/2224/8018263.jpg'\n",
      "删除多余文件夹：G:\\饭桶设计\\2000-2999\\2224\\2224\\umbrella-mockup-design\n",
      "删除多余文件夹：G:\\饭桶设计\\2000-2999\\2224\\2224\\umbrella-mockup-design (1)\n",
      "删除多余文件夹：G:\\饭桶设计\\2000-2999\\2224\\2224\\umbrella-mockup-design (10)\n",
      "删除多余文件夹：G:\\饭桶设计\\2000-2999\\2224\\2224\\umbrella-mockup-design (11)\n",
      "删除多余文件夹：G:\\饭桶设计\\2000-2999\\2224\\2224\\umbrella-mockup-design (12)\n",
      "删除多余文件夹：G:\\饭桶设计\\2000-2999\\2224\\2224\\umbrella-mockup-design (13)\n",
      "删除多余文件夹：G:\\饭桶设计\\2000-2999\\2224\\2224\\umbrella-mockup-design (14)\n",
      "删除多余文件夹：G:\\饭桶设计\\2000-2999\\2224\\2224\\umbrella-mockup-design (15)\n",
      "删除多余文件夹：G:\\饭桶设计\\2000-2999\\2224\\2224\\umbrella-mockup-design (16)\n",
      "删除多余文件夹：G:\\饭桶设计\\2000-2999\\2224\\2224\\umbrella-mockup-design (17)\n",
      "删除多余文件夹：G:\\饭桶设计\\2000-2999\\2224\\2224\\umbrella-mockup-design (18)\n",
      "删除多余文件夹：G:\\饭桶设计\\2000-2999\\2224\\2224\\umbrella-mockup-design (19)\n",
      "删除多余文件夹：G:\\饭桶设计\\2000-2999\\2224\\2224\\umbrella-mockup-design (2)\n",
      "删除多余文件夹：G:\\饭桶设计\\2000-2999\\2224\\2224\\umbrella-mockup-design (20)\n",
      "删除多余文件夹：G:\\饭桶设计\\2000-2999\\2224\\2224\\umbrella-mockup-design (21)\n",
      "删除多余文件夹：G:\\饭桶设计\\2000-2999\\2224\\2224\\umbrella-mockup-design (22)\n",
      "删除多余文件夹：G:\\饭桶设计\\2000-2999\\2224\\2224\\umbrella-mockup-design (23)\n",
      "删除多余文件夹：G:\\饭桶设计\\2000-2999\\2224\\2224\\umbrella-mockup-design (24)\n",
      "删除多余文件夹：G:\\饭桶设计\\2000-2999\\2224\\2224\\umbrella-mockup-design (25)\n",
      "删除多余文件夹：G:\\饭桶设计\\2000-2999\\2224\\2224\\umbrella-mockup-design (26)\n",
      "删除多余文件夹：G:\\饭桶设计\\2000-2999\\2224\\2224\\umbrella-mockup-design (27)\n",
      "删除多余文件夹：G:\\饭桶设计\\2000-2999\\2224\\2224\\umbrella-mockup-design (28)\n",
      "删除多余文件夹：G:\\饭桶设计\\2000-2999\\2224\\2224\\umbrella-mockup-design (3)\n",
      "删除多余文件夹：G:\\饭桶设计\\2000-2999\\2224\\2224\\umbrella-mockup-design (4)\n",
      "删除多余文件夹：G:\\饭桶设计\\2000-2999\\2224\\2224\\umbrella-mockup-design (5)\n",
      "删除多余文件夹：G:\\饭桶设计\\2000-2999\\2224\\2224\\umbrella-mockup-design (6)\n",
      "删除多余文件夹：G:\\饭桶设计\\2000-2999\\2224\\2224\\umbrella-mockup-design (7)\n",
      "删除多余文件夹：G:\\饭桶设计\\2000-2999\\2224\\2224\\umbrella-mockup-design (8)\n",
      "删除多余文件夹：G:\\饭桶设计\\2000-2999\\2224\\2224\\umbrella-mockup-design (9)\n"
     ]
    },
    {
     "name": "stderr",
     "output_type": "stream",
     "text": [
      "复制到制定目录: 100%|██████████████████████████████████████████████| 59/59 [00:00<00:00, 139.85it/s]\n"
     ]
    },
    {
     "name": "stdout",
     "output_type": "stream",
     "text": [
      "文件重命名：b'G:/\\xe9\\xa5\\xad\\xe6\\xa1\\xb6\\xe8\\xae\\xbe\\xe8\\xae\\xa1/2000-2999/2224/2224/7993405.psd'\n",
      "文件重命名：b'G:/\\xe9\\xa5\\xad\\xe6\\xa1\\xb6\\xe8\\xae\\xbe\\xe8\\xae\\xa1/2000-2999/2224/2224/7997675.psd'\n",
      "文件重命名：b'G:/\\xe9\\xa5\\xad\\xe6\\xa1\\xb6\\xe8\\xae\\xbe\\xe8\\xae\\xa1/2000-2999/2224/2224/8009597.psd'\n",
      "文件重命名：b'G:/\\xe9\\xa5\\xad\\xe6\\xa1\\xb6\\xe8\\xae\\xbe\\xe8\\xae\\xa1/2000-2999/2224/2224/8010285.psd'\n",
      "文件重命名：b'G:/\\xe9\\xa5\\xad\\xe6\\xa1\\xb6\\xe8\\xae\\xbe\\xe8\\xae\\xa1/2000-2999/2224/2224/8010668.psd'\n",
      "文件重命名：b'G:/\\xe9\\xa5\\xad\\xe6\\xa1\\xb6\\xe8\\xae\\xbe\\xe8\\xae\\xa1/2000-2999/2224/2224/8011230.psd'\n",
      "文件重命名：b'G:/\\xe9\\xa5\\xad\\xe6\\xa1\\xb6\\xe8\\xae\\xbe\\xe8\\xae\\xa1/2000-2999/2224/2224/8011507.psd'\n",
      "文件重命名：b'G:/\\xe9\\xa5\\xad\\xe6\\xa1\\xb6\\xe8\\xae\\xbe\\xe8\\xae\\xa1/2000-2999/2224/2224/8012061.psd'\n",
      "文件重命名：b'G:/\\xe9\\xa5\\xad\\xe6\\xa1\\xb6\\xe8\\xae\\xbe\\xe8\\xae\\xa1/2000-2999/2224/2224/8016715.psd'\n",
      "文件重命名：b'G:/\\xe9\\xa5\\xad\\xe6\\xa1\\xb6\\xe8\\xae\\xbe\\xe8\\xae\\xa1/2000-2999/2224/2224/8017330.psd'\n",
      "文件重命名：b'G:/\\xe9\\xa5\\xad\\xe6\\xa1\\xb6\\xe8\\xae\\xbe\\xe8\\xae\\xa1/2000-2999/2224/2224/8018262.psd'\n",
      "文件重命名：b'G:/\\xe9\\xa5\\xad\\xe6\\xa1\\xb6\\xe8\\xae\\xbe\\xe8\\xae\\xa1/2000-2999/2224/2224/8018616.psd'\n",
      "文件重命名：b'G:/\\xe9\\xa5\\xad\\xe6\\xa1\\xb6\\xe8\\xae\\xbe\\xe8\\xae\\xa1/2000-2999/2224/2224/8018907.psd'\n",
      "文件重命名：b'G:/\\xe9\\xa5\\xad\\xe6\\xa1\\xb6\\xe8\\xae\\xbe\\xe8\\xae\\xa1/2000-2999/2224/2224/8021187.psd'\n",
      "文件重命名：b'G:/\\xe9\\xa5\\xad\\xe6\\xa1\\xb6\\xe8\\xae\\xbe\\xe8\\xae\\xa1/2000-2999/2224/2224/8021735.psd'\n",
      "文件重命名：b'G:/\\xe9\\xa5\\xad\\xe6\\xa1\\xb6\\xe8\\xae\\xbe\\xe8\\xae\\xa1/2000-2999/2224/2224/8021927.psd'\n",
      "文件重命名：b'G:/\\xe9\\xa5\\xad\\xe6\\xa1\\xb6\\xe8\\xae\\xbe\\xe8\\xae\\xa1/2000-2999/2224/2224/8022653.psd'\n",
      "文件重命名：b'G:/\\xe9\\xa5\\xad\\xe6\\xa1\\xb6\\xe8\\xae\\xbe\\xe8\\xae\\xa1/2000-2999/2224/2224/8022768.psd'\n",
      "文件重命名：b'G:/\\xe9\\xa5\\xad\\xe6\\xa1\\xb6\\xe8\\xae\\xbe\\xe8\\xae\\xa1/2000-2999/2224/2224/8022786.psd'\n",
      "文件重命名：b'G:/\\xe9\\xa5\\xad\\xe6\\xa1\\xb6\\xe8\\xae\\xbe\\xe8\\xae\\xa1/2000-2999/2224/2224/8022810.psd'\n",
      "文件重命名：b'G:/\\xe9\\xa5\\xad\\xe6\\xa1\\xb6\\xe8\\xae\\xbe\\xe8\\xae\\xa1/2000-2999/2224/2224/8023007.psd'\n",
      "文件重命名：b'G:/\\xe9\\xa5\\xad\\xe6\\xa1\\xb6\\xe8\\xae\\xbe\\xe8\\xae\\xa1/2000-2999/2224/2224/8023160.psd'\n",
      "文件重命名：b'G:/\\xe9\\xa5\\xad\\xe6\\xa1\\xb6\\xe8\\xae\\xbe\\xe8\\xae\\xa1/2000-2999/2224/2224/8023636.psd'\n",
      "文件重命名：b'G:/\\xe9\\xa5\\xad\\xe6\\xa1\\xb6\\xe8\\xae\\xbe\\xe8\\xae\\xa1/2000-2999/2224/2224/8023846.psd'\n",
      "文件重命名：b'G:/\\xe9\\xa5\\xad\\xe6\\xa1\\xb6\\xe8\\xae\\xbe\\xe8\\xae\\xa1/2000-2999/2224/2224/8024103.psd'\n",
      "文件重命名：b'G:/\\xe9\\xa5\\xad\\xe6\\xa1\\xb6\\xe8\\xae\\xbe\\xe8\\xae\\xa1/2000-2999/2224/2224/8024480.psd'\n",
      "文件重命名：b'G:/\\xe9\\xa5\\xad\\xe6\\xa1\\xb6\\xe8\\xae\\xbe\\xe8\\xae\\xa1/2000-2999/2224/2224/8024544.psd'\n",
      "文件重命名：b'G:/\\xe9\\xa5\\xad\\xe6\\xa1\\xb6\\xe8\\xae\\xbe\\xe8\\xae\\xa1/2000-2999/2224/2224/8029466.psd'\n",
      "文件重命名：b'G:/\\xe9\\xa5\\xad\\xe6\\xa1\\xb6\\xe8\\xae\\xbe\\xe8\\xae\\xa1/2000-2999/2224/2224/8029549.psd'\n",
      "文件重命名：b'G:/\\xe9\\xa5\\xad\\xe6\\xa1\\xb6\\xe8\\xae\\xbe\\xe8\\xae\\xa1/2000-2999/2224/2224/test(1).psd'\n",
      "文件重命名：b'G:/\\xe9\\xa5\\xad\\xe6\\xa1\\xb6\\xe8\\xae\\xbe\\xe8\\xae\\xa1/2000-2999/2224/2224/test(10).psd'\n",
      "文件重命名：b'G:/\\xe9\\xa5\\xad\\xe6\\xa1\\xb6\\xe8\\xae\\xbe\\xe8\\xae\\xa1/2000-2999/2224/2224/test(11).psd'\n",
      "文件重命名：b'G:/\\xe9\\xa5\\xad\\xe6\\xa1\\xb6\\xe8\\xae\\xbe\\xe8\\xae\\xa1/2000-2999/2224/2224/test(12).psd'\n",
      "文件重命名：b'G:/\\xe9\\xa5\\xad\\xe6\\xa1\\xb6\\xe8\\xae\\xbe\\xe8\\xae\\xa1/2000-2999/2224/2224/test(13).psd'\n",
      "文件重命名：b'G:/\\xe9\\xa5\\xad\\xe6\\xa1\\xb6\\xe8\\xae\\xbe\\xe8\\xae\\xa1/2000-2999/2224/2224/test(14).psd'\n",
      "文件重命名：b'G:/\\xe9\\xa5\\xad\\xe6\\xa1\\xb6\\xe8\\xae\\xbe\\xe8\\xae\\xa1/2000-2999/2224/2224/test(15).psd'\n",
      "文件重命名：b'G:/\\xe9\\xa5\\xad\\xe6\\xa1\\xb6\\xe8\\xae\\xbe\\xe8\\xae\\xa1/2000-2999/2224/2224/test(16).psd'\n",
      "文件重命名：b'G:/\\xe9\\xa5\\xad\\xe6\\xa1\\xb6\\xe8\\xae\\xbe\\xe8\\xae\\xa1/2000-2999/2224/2224/test(17).psd'\n",
      "文件重命名：b'G:/\\xe9\\xa5\\xad\\xe6\\xa1\\xb6\\xe8\\xae\\xbe\\xe8\\xae\\xa1/2000-2999/2224/2224/test(18).psd'\n",
      "文件重命名：b'G:/\\xe9\\xa5\\xad\\xe6\\xa1\\xb6\\xe8\\xae\\xbe\\xe8\\xae\\xa1/2000-2999/2224/2224/test(19).psd'\n",
      "文件重命名：b'G:/\\xe9\\xa5\\xad\\xe6\\xa1\\xb6\\xe8\\xae\\xbe\\xe8\\xae\\xa1/2000-2999/2224/2224/test(2).psd'\n",
      "文件重命名：b'G:/\\xe9\\xa5\\xad\\xe6\\xa1\\xb6\\xe8\\xae\\xbe\\xe8\\xae\\xa1/2000-2999/2224/2224/test(20).psd'\n",
      "文件重命名：b'G:/\\xe9\\xa5\\xad\\xe6\\xa1\\xb6\\xe8\\xae\\xbe\\xe8\\xae\\xa1/2000-2999/2224/2224/test(21).psd'\n",
      "文件重命名：b'G:/\\xe9\\xa5\\xad\\xe6\\xa1\\xb6\\xe8\\xae\\xbe\\xe8\\xae\\xa1/2000-2999/2224/2224/test(22).psd'\n",
      "文件重命名：b'G:/\\xe9\\xa5\\xad\\xe6\\xa1\\xb6\\xe8\\xae\\xbe\\xe8\\xae\\xa1/2000-2999/2224/2224/test(23).psd'\n",
      "文件重命名：b'G:/\\xe9\\xa5\\xad\\xe6\\xa1\\xb6\\xe8\\xae\\xbe\\xe8\\xae\\xa1/2000-2999/2224/2224/test(24).psd'\n",
      "文件重命名：b'G:/\\xe9\\xa5\\xad\\xe6\\xa1\\xb6\\xe8\\xae\\xbe\\xe8\\xae\\xa1/2000-2999/2224/2224/test(25).psd'\n",
      "文件重命名：b'G:/\\xe9\\xa5\\xad\\xe6\\xa1\\xb6\\xe8\\xae\\xbe\\xe8\\xae\\xa1/2000-2999/2224/2224/test(26).psd'\n",
      "文件重命名：b'G:/\\xe9\\xa5\\xad\\xe6\\xa1\\xb6\\xe8\\xae\\xbe\\xe8\\xae\\xa1/2000-2999/2224/2224/test(27).psd'\n",
      "文件重命名：b'G:/\\xe9\\xa5\\xad\\xe6\\xa1\\xb6\\xe8\\xae\\xbe\\xe8\\xae\\xa1/2000-2999/2224/2224/test(28).psd'\n",
      "文件重命名：b'G:/\\xe9\\xa5\\xad\\xe6\\xa1\\xb6\\xe8\\xae\\xbe\\xe8\\xae\\xa1/2000-2999/2224/2224/test(29).psd'\n",
      "文件重命名：b'G:/\\xe9\\xa5\\xad\\xe6\\xa1\\xb6\\xe8\\xae\\xbe\\xe8\\xae\\xa1/2000-2999/2224/2224/test(3).psd'\n",
      "文件重命名：b'G:/\\xe9\\xa5\\xad\\xe6\\xa1\\xb6\\xe8\\xae\\xbe\\xe8\\xae\\xa1/2000-2999/2224/2224/test(4).psd'\n",
      "文件重命名：b'G:/\\xe9\\xa5\\xad\\xe6\\xa1\\xb6\\xe8\\xae\\xbe\\xe8\\xae\\xa1/2000-2999/2224/2224/test(5).psd'\n",
      "文件重命名：b'G:/\\xe9\\xa5\\xad\\xe6\\xa1\\xb6\\xe8\\xae\\xbe\\xe8\\xae\\xa1/2000-2999/2224/2224/test(6).psd'\n",
      "文件重命名：b'G:/\\xe9\\xa5\\xad\\xe6\\xa1\\xb6\\xe8\\xae\\xbe\\xe8\\xae\\xa1/2000-2999/2224/2224/test(7).psd'\n",
      "文件重命名：b'G:/\\xe9\\xa5\\xad\\xe6\\xa1\\xb6\\xe8\\xae\\xbe\\xe8\\xae\\xa1/2000-2999/2224/2224/test(8).psd'\n",
      "文件重命名：b'G:/\\xe9\\xa5\\xad\\xe6\\xa1\\xb6\\xe8\\xae\\xbe\\xe8\\xae\\xa1/2000-2999/2224/2224/test(9).psd'\n"
     ]
    },
    {
     "name": "stderr",
     "output_type": "stream",
     "text": [
      "PSD添加广告生成图片:   0%|                                                   | 0/29 [00:00<?, ?it/s]"
     ]
    },
    {
     "name": "stdout",
     "output_type": "stream",
     "text": [
      "\n",
      "\n",
      "处理文件:G:/饭桶设计/2000-2999/2224/2224/饭桶设计(1).psd\n",
      "导出PNG\n",
      "插入广告\n"
     ]
    },
    {
     "name": "stderr",
     "output_type": "stream",
     "text": [
      "PSD添加广告生成图片:   3%|█▍                                         | 1/29 [00:46<21:44, 46.59s/it]"
     ]
    },
    {
     "name": "stdout",
     "output_type": "stream",
     "text": [
      "\n",
      "\n",
      "处理文件:G:/饭桶设计/2000-2999/2224/2224/饭桶设计(2).psd\n",
      "导出PNG\n",
      "插入广告\n"
     ]
    },
    {
     "name": "stderr",
     "output_type": "stream",
     "text": [
      "PSD添加广告生成图片:   7%|██▉                                        | 2/29 [01:42<23:21, 51.91s/it]"
     ]
    },
    {
     "name": "stdout",
     "output_type": "stream",
     "text": [
      "\n",
      "\n",
      "处理文件:G:/饭桶设计/2000-2999/2224/2224/饭桶设计(3).psd\n",
      "导出PNG\n",
      "插入广告\n"
     ]
    },
    {
     "name": "stderr",
     "output_type": "stream",
     "text": [
      "PSD添加广告生成图片:  10%|████▍                                      | 3/29 [02:39<23:28, 54.17s/it]"
     ]
    },
    {
     "name": "stdout",
     "output_type": "stream",
     "text": [
      "\n",
      "\n",
      "处理文件:G:/饭桶设计/2000-2999/2224/2224/饭桶设计(4).psd\n",
      "导出PNG\n",
      "插入广告\n"
     ]
    },
    {
     "name": "stderr",
     "output_type": "stream",
     "text": [
      "PSD添加广告生成图片:  14%|█████▉                                     | 4/29 [03:27<21:41, 52.05s/it]"
     ]
    },
    {
     "name": "stdout",
     "output_type": "stream",
     "text": [
      "\n",
      "\n",
      "处理文件:G:/饭桶设计/2000-2999/2224/2224/饭桶设计(5).psd\n",
      "导出PNG\n",
      "插入广告\n"
     ]
    },
    {
     "name": "stderr",
     "output_type": "stream",
     "text": [
      "PSD添加广告生成图片:  17%|███████▍                                   | 5/29 [04:29<22:08, 55.35s/it]"
     ]
    },
    {
     "name": "stdout",
     "output_type": "stream",
     "text": [
      "\n",
      "\n",
      "处理文件:G:/饭桶设计/2000-2999/2224/2224/饭桶设计(6).psd\n",
      "导出PNG\n",
      "插入广告\n"
     ]
    },
    {
     "name": "stderr",
     "output_type": "stream",
     "text": [
      "PSD添加广告生成图片:  21%|████████▉                                  | 6/29 [05:35<22:38, 59.06s/it]"
     ]
    },
    {
     "name": "stdout",
     "output_type": "stream",
     "text": [
      "\n",
      "\n",
      "处理文件:G:/饭桶设计/2000-2999/2224/2224/饭桶设计(7).psd\n",
      "导出PNG\n",
      "插入广告\n"
     ]
    },
    {
     "name": "stderr",
     "output_type": "stream",
     "text": [
      "PSD添加广告生成图片:  24%|██████████▍                                | 7/29 [06:45<22:55, 62.54s/it]"
     ]
    },
    {
     "name": "stdout",
     "output_type": "stream",
     "text": [
      "\n",
      "\n",
      "处理文件:G:/饭桶设计/2000-2999/2224/2224/饭桶设计(8).psd\n",
      "导出PNG\n",
      "插入广告\n"
     ]
    },
    {
     "name": "stderr",
     "output_type": "stream",
     "text": [
      "PSD添加广告生成图片:  28%|███████████▊                               | 8/29 [08:07<24:06, 68.88s/it]"
     ]
    },
    {
     "name": "stdout",
     "output_type": "stream",
     "text": [
      "\n",
      "\n",
      "处理文件:G:/饭桶设计/2000-2999/2224/2224/饭桶设计(9).psd\n",
      "导出PNG\n",
      "插入广告\n"
     ]
    },
    {
     "name": "stderr",
     "output_type": "stream",
     "text": [
      "PSD添加广告生成图片:  31%|█████████████▎                             | 9/29 [09:25<23:57, 71.86s/it]"
     ]
    },
    {
     "name": "stdout",
     "output_type": "stream",
     "text": [
      "\n",
      "\n",
      "处理文件:G:/饭桶设计/2000-2999/2224/2224/饭桶设计(10).psd\n",
      "导出PNG\n",
      "插入广告\n"
     ]
    },
    {
     "name": "stderr",
     "output_type": "stream",
     "text": [
      "PSD添加广告生成图片:  34%|██████████████▍                           | 10/29 [10:38<22:47, 71.96s/it]"
     ]
    },
    {
     "name": "stdout",
     "output_type": "stream",
     "text": [
      "\n",
      "\n",
      "处理文件:G:/饭桶设计/2000-2999/2224/2224/饭桶设计(11).psd\n",
      "导出PNG\n",
      "插入广告\n"
     ]
    },
    {
     "name": "stderr",
     "output_type": "stream",
     "text": [
      "PSD添加广告生成图片:  38%|███████████████▉                          | 11/29 [11:48<21:24, 71.34s/it]"
     ]
    },
    {
     "name": "stdout",
     "output_type": "stream",
     "text": [
      "\n",
      "\n",
      "处理文件:G:/饭桶设计/2000-2999/2224/2224/饭桶设计(12).psd\n",
      "导出PNG\n",
      "插入广告\n"
     ]
    },
    {
     "name": "stderr",
     "output_type": "stream",
     "text": [
      "PSD添加广告生成图片:  41%|█████████████████▍                        | 12/29 [12:38<18:25, 65.04s/it]"
     ]
    },
    {
     "name": "stdout",
     "output_type": "stream",
     "text": [
      "\n",
      "\n",
      "处理文件:G:/饭桶设计/2000-2999/2224/2224/饭桶设计(13).psd\n",
      "导出PNG\n",
      "插入广告\n"
     ]
    },
    {
     "name": "stderr",
     "output_type": "stream",
     "text": [
      "PSD添加广告生成图片:  45%|██████████████████▊                       | 13/29 [13:24<15:46, 59.14s/it]"
     ]
    },
    {
     "name": "stdout",
     "output_type": "stream",
     "text": [
      "\n",
      "\n",
      "处理文件:G:/饭桶设计/2000-2999/2224/2224/饭桶设计(14).psd\n",
      "导出PNG\n",
      "插入广告\n"
     ]
    },
    {
     "name": "stderr",
     "output_type": "stream",
     "text": [
      "PSD添加广告生成图片:  48%|████████████████████▎                     | 14/29 [14:18<14:24, 57.60s/it]"
     ]
    },
    {
     "name": "stdout",
     "output_type": "stream",
     "text": [
      "\n",
      "\n",
      "处理文件:G:/饭桶设计/2000-2999/2224/2224/饭桶设计(15).psd\n",
      "导出PNG\n",
      "插入广告\n"
     ]
    },
    {
     "name": "stderr",
     "output_type": "stream",
     "text": [
      "PSD添加广告生成图片:  52%|█████████████████████▋                    | 15/29 [15:38<15:03, 64.50s/it]"
     ]
    },
    {
     "name": "stdout",
     "output_type": "stream",
     "text": [
      "\n",
      "\n",
      "处理文件:G:/饭桶设计/2000-2999/2224/2224/饭桶设计(16).psd\n",
      "导出PNG\n",
      "插入广告\n"
     ]
    },
    {
     "name": "stderr",
     "output_type": "stream",
     "text": [
      "PSD添加广告生成图片:  55%|███████████████████████▏                  | 16/29 [16:54<14:41, 67.81s/it]"
     ]
    },
    {
     "name": "stdout",
     "output_type": "stream",
     "text": [
      "\n",
      "\n",
      "处理文件:G:/饭桶设计/2000-2999/2224/2224/饭桶设计(17).psd\n",
      "导出PNG\n",
      "插入广告\n"
     ]
    },
    {
     "name": "stderr",
     "output_type": "stream",
     "text": [
      "PSD添加广告生成图片:  59%|████████████████████████▌                 | 17/29 [18:07<13:54, 69.56s/it]"
     ]
    },
    {
     "name": "stdout",
     "output_type": "stream",
     "text": [
      "\n",
      "\n",
      "处理文件:G:/饭桶设计/2000-2999/2224/2224/饭桶设计(18).psd\n",
      "导出PNG\n",
      "插入广告\n"
     ]
    },
    {
     "name": "stderr",
     "output_type": "stream",
     "text": [
      "PSD添加广告生成图片:  62%|██████████████████████████                | 18/29 [19:03<11:58, 65.35s/it]"
     ]
    },
    {
     "name": "stdout",
     "output_type": "stream",
     "text": [
      "\n",
      "\n",
      "处理文件:G:/饭桶设计/2000-2999/2224/2224/饭桶设计(19).psd\n",
      "导出PNG\n",
      "插入广告\n"
     ]
    },
    {
     "name": "stderr",
     "output_type": "stream",
     "text": [
      "PSD添加广告生成图片:  66%|███████████████████████████▌              | 19/29 [20:03<10:37, 63.73s/it]"
     ]
    },
    {
     "name": "stdout",
     "output_type": "stream",
     "text": [
      "\n",
      "\n",
      "处理文件:G:/饭桶设计/2000-2999/2224/2224/饭桶设计(20).psd\n",
      "导出PNG\n",
      "插入广告\n"
     ]
    },
    {
     "name": "stderr",
     "output_type": "stream",
     "text": [
      "PSD添加广告生成图片:  69%|████████████████████████████▉             | 20/29 [20:58<09:09, 61.11s/it]"
     ]
    },
    {
     "name": "stdout",
     "output_type": "stream",
     "text": [
      "\n",
      "\n",
      "处理文件:G:/饭桶设计/2000-2999/2224/2224/饭桶设计(21).psd\n",
      "导出PNG\n",
      "插入广告\n"
     ]
    },
    {
     "name": "stderr",
     "output_type": "stream",
     "text": [
      "PSD添加广告生成图片:  72%|██████████████████████████████▍           | 21/29 [21:55<08:00, 60.04s/it]"
     ]
    },
    {
     "name": "stdout",
     "output_type": "stream",
     "text": [
      "\n",
      "\n",
      "处理文件:G:/饭桶设计/2000-2999/2224/2224/饭桶设计(22).psd\n",
      "导出PNG\n",
      "插入广告\n"
     ]
    },
    {
     "name": "stderr",
     "output_type": "stream",
     "text": [
      "PSD添加广告生成图片:  76%|███████████████████████████████▊          | 22/29 [22:55<06:58, 59.76s/it]"
     ]
    },
    {
     "name": "stdout",
     "output_type": "stream",
     "text": [
      "\n",
      "\n",
      "处理文件:G:/饭桶设计/2000-2999/2224/2224/饭桶设计(23).psd\n",
      "导出PNG\n",
      "插入广告\n"
     ]
    },
    {
     "name": "stderr",
     "output_type": "stream",
     "text": [
      "PSD添加广告生成图片:  79%|█████████████████████████████████▎        | 23/29 [23:35<05:24, 54.07s/it]"
     ]
    },
    {
     "name": "stdout",
     "output_type": "stream",
     "text": [
      "\n",
      "\n",
      "处理文件:G:/饭桶设计/2000-2999/2224/2224/饭桶设计(24).psd\n",
      "导出PNG\n",
      "插入广告\n"
     ]
    },
    {
     "name": "stderr",
     "output_type": "stream",
     "text": [
      "PSD添加广告生成图片:  83%|██████████████████████████████████▊       | 24/29 [24:43<04:51, 58.22s/it]"
     ]
    },
    {
     "name": "stdout",
     "output_type": "stream",
     "text": [
      "\n",
      "\n",
      "处理文件:G:/饭桶设计/2000-2999/2224/2224/饭桶设计(25).psd\n",
      "导出PNG\n",
      "插入广告\n"
     ]
    },
    {
     "name": "stderr",
     "output_type": "stream",
     "text": [
      "PSD添加广告生成图片:  86%|████████████████████████████████████▏     | 25/29 [25:42<03:53, 58.42s/it]"
     ]
    },
    {
     "name": "stdout",
     "output_type": "stream",
     "text": [
      "\n",
      "\n",
      "处理文件:G:/饭桶设计/2000-2999/2224/2224/饭桶设计(26).psd\n",
      "导出PNG\n",
      "插入广告\n"
     ]
    },
    {
     "name": "stderr",
     "output_type": "stream",
     "text": [
      "PSD添加广告生成图片:  90%|█████████████████████████████████████▋    | 26/29 [26:54<03:07, 62.37s/it]"
     ]
    },
    {
     "name": "stdout",
     "output_type": "stream",
     "text": [
      "\n",
      "\n",
      "处理文件:G:/饭桶设计/2000-2999/2224/2224/饭桶设计(27).psd\n",
      "导出PNG\n",
      "插入广告\n"
     ]
    },
    {
     "name": "stderr",
     "output_type": "stream",
     "text": [
      "PSD添加广告生成图片:  93%|███████████████████████████████████████   | 27/29 [28:10<02:13, 66.68s/it]"
     ]
    },
    {
     "name": "stdout",
     "output_type": "stream",
     "text": [
      "\n",
      "\n",
      "处理文件:G:/饭桶设计/2000-2999/2224/2224/饭桶设计(28).psd\n",
      "导出PNG\n",
      "插入广告\n"
     ]
    },
    {
     "name": "stderr",
     "output_type": "stream",
     "text": [
      "PSD添加广告生成图片:  97%|████████████████████████████████████████▌ | 28/29 [29:50<01:16, 76.58s/it]"
     ]
    },
    {
     "name": "stdout",
     "output_type": "stream",
     "text": [
      "\n",
      "\n",
      "处理文件:G:/饭桶设计/2000-2999/2224/2224/饭桶设计(29).psd\n",
      "导出PNG\n",
      "插入广告\n"
     ]
    },
    {
     "name": "stderr",
     "output_type": "stream",
     "text": [
      "PSD添加广告生成图片: 100%|██████████████████████████████████████████| 29/29 [30:42<00:00, 63.52s/it]\n",
      "AI导出PNG: 0it [00:00, ?it/s]\n",
      "PPT导出PNG: 0it [00:00, ?it/s]\n",
      "复制到制定目录: 100%|██████████████████████████████████████████████| 29/29 [00:00<00:00, 116.00it/s]\n",
      "图片添加水印: 100%|█████████████████████████████████████████████████| 29/29 [00:26<00:00,  1.08it/s]\n",
      "解压ZIP: 100%|██████████████████████████████████████████████████████| 10/10 [00:06<00:00,  1.59it/s]\n",
      "解压RAR: 0it [00:00, ?it/s]\n"
     ]
    },
    {
     "name": "stdout",
     "output_type": "stream",
     "text": [
      "移动到根目录:b'G:/\\xe9\\xa5\\xad\\xe6\\xa1\\xb6\\xe8\\xae\\xbe\\xe8\\xae\\xa1/2000-2999/2225/2225/5700400.jpg'\n",
      "移动到根目录:b'G:/\\xe9\\xa5\\xad\\xe6\\xa1\\xb6\\xe8\\xae\\xbe\\xe8\\xae\\xa1/2000-2999/2225/2225/5700406.psd'\n",
      "移动到根目录:b'G:/\\xe9\\xa5\\xad\\xe6\\xa1\\xb6\\xe8\\xae\\xbe\\xe8\\xae\\xa1/2000-2999/2225/2225/5700374.jpg'\n",
      "移动到根目录:b'G:/\\xe9\\xa5\\xad\\xe6\\xa1\\xb6\\xe8\\xae\\xbe\\xe8\\xae\\xa1/2000-2999/2225/2225/5700381.psd'\n",
      "移动到根目录:b'G:/\\xe9\\xa5\\xad\\xe6\\xa1\\xb6\\xe8\\xae\\xbe\\xe8\\xae\\xa1/2000-2999/2225/2225/5700384.jpg'\n",
      "移动到根目录:b'G:/\\xe9\\xa5\\xad\\xe6\\xa1\\xb6\\xe8\\xae\\xbe\\xe8\\xae\\xa1/2000-2999/2225/2225/5700388.psd'\n",
      "移动到根目录:b'G:/\\xe9\\xa5\\xad\\xe6\\xa1\\xb6\\xe8\\xae\\xbe\\xe8\\xae\\xa1/2000-2999/2225/2225/5700407.jpg'\n",
      "移动到根目录:b'G:/\\xe9\\xa5\\xad\\xe6\\xa1\\xb6\\xe8\\xae\\xbe\\xe8\\xae\\xa1/2000-2999/2225/2225/5700411.psd'\n",
      "移动到根目录:b'G:/\\xe9\\xa5\\xad\\xe6\\xa1\\xb6\\xe8\\xae\\xbe\\xe8\\xae\\xa1/2000-2999/2225/2225/5700393.jpg'\n",
      "移动到根目录:b'G:/\\xe9\\xa5\\xad\\xe6\\xa1\\xb6\\xe8\\xae\\xbe\\xe8\\xae\\xa1/2000-2999/2225/2225/5700397.psd'\n",
      "移动到根目录:b'G:/\\xe9\\xa5\\xad\\xe6\\xa1\\xb6\\xe8\\xae\\xbe\\xe8\\xae\\xa1/2000-2999/2225/2225/5700391.jpg'\n",
      "移动到根目录:b'G:/\\xe9\\xa5\\xad\\xe6\\xa1\\xb6\\xe8\\xae\\xbe\\xe8\\xae\\xa1/2000-2999/2225/2225/5700392.psd'\n",
      "移动到根目录:b'G:/\\xe9\\xa5\\xad\\xe6\\xa1\\xb6\\xe8\\xae\\xbe\\xe8\\xae\\xa1/2000-2999/2225/2225/5708679.jpg'\n",
      "移动到根目录:b'G:/\\xe9\\xa5\\xad\\xe6\\xa1\\xb6\\xe8\\xae\\xbe\\xe8\\xae\\xa1/2000-2999/2225/2225/5708728.psd'\n",
      "移动到根目录:b'G:/\\xe9\\xa5\\xad\\xe6\\xa1\\xb6\\xe8\\xae\\xbe\\xe8\\xae\\xa1/2000-2999/2225/2225/5708637.jpg'\n",
      "移动到根目录:b'G:/\\xe9\\xa5\\xad\\xe6\\xa1\\xb6\\xe8\\xae\\xbe\\xe8\\xae\\xa1/2000-2999/2225/2225/5708678.psd'\n",
      "移动到根目录:b'G:/\\xe9\\xa5\\xad\\xe6\\xa1\\xb6\\xe8\\xae\\xbe\\xe8\\xae\\xa1/2000-2999/2225/2225/5700382.jpg'\n",
      "移动到根目录:b'G:/\\xe9\\xa5\\xad\\xe6\\xa1\\xb6\\xe8\\xae\\xbe\\xe8\\xae\\xa1/2000-2999/2225/2225/5700383.psd'\n",
      "移动到根目录:b'G:/\\xe9\\xa5\\xad\\xe6\\xa1\\xb6\\xe8\\xae\\xbe\\xe8\\xae\\xa1/2000-2999/2225/2225/5700398.jpg'\n",
      "移动到根目录:b'G:/\\xe9\\xa5\\xad\\xe6\\xa1\\xb6\\xe8\\xae\\xbe\\xe8\\xae\\xa1/2000-2999/2225/2225/5700399.psd'\n",
      "删除多余文件夹：G:\\饭桶设计\\2000-2999\\2225\\2225\\creative-metallic-text-effect\n",
      "删除多余文件夹：G:\\饭桶设计\\2000-2999\\2225\\2225\\creative-metallic-text-effect (1)\n",
      "删除多余文件夹：G:\\饭桶设计\\2000-2999\\2225\\2225\\creative-metallic-text-effect (2)\n",
      "删除多余文件夹：G:\\饭桶设计\\2000-2999\\2225\\2225\\creative-metallic-text-effect (3)\n",
      "删除多余文件夹：G:\\饭桶设计\\2000-2999\\2225\\2225\\creative-metallic-text-effect (4)\n",
      "删除多余文件夹：G:\\饭桶设计\\2000-2999\\2225\\2225\\creative-metallic-text-effect (5)\n",
      "删除多余文件夹：G:\\饭桶设计\\2000-2999\\2225\\2225\\creative-metallic-text-effect (6)\n",
      "删除多余文件夹：G:\\饭桶设计\\2000-2999\\2225\\2225\\creative-metallic-text-effect (7)\n",
      "删除多余文件夹：G:\\饭桶设计\\2000-2999\\2225\\2225\\creative-metallic-text-effect (8)\n",
      "删除多余文件夹：G:\\饭桶设计\\2000-2999\\2225\\2225\\creative-metallic-text-effect (9)\n"
     ]
    },
    {
     "name": "stderr",
     "output_type": "stream",
     "text": [
      "复制到制定目录: 100%|██████████████████████████████████████████████| 10/10 [00:00<00:00, 113.75it/s]\n"
     ]
    },
    {
     "name": "stdout",
     "output_type": "stream",
     "text": [
      "文件重命名：b'G:/\\xe9\\xa5\\xad\\xe6\\xa1\\xb6\\xe8\\xae\\xbe\\xe8\\xae\\xa1/2000-2999/2225/2225/5700381.psd'\n",
      "文件重命名：b'G:/\\xe9\\xa5\\xad\\xe6\\xa1\\xb6\\xe8\\xae\\xbe\\xe8\\xae\\xa1/2000-2999/2225/2225/5700383.psd'\n",
      "文件重命名：b'G:/\\xe9\\xa5\\xad\\xe6\\xa1\\xb6\\xe8\\xae\\xbe\\xe8\\xae\\xa1/2000-2999/2225/2225/5700388.psd'\n",
      "文件重命名：b'G:/\\xe9\\xa5\\xad\\xe6\\xa1\\xb6\\xe8\\xae\\xbe\\xe8\\xae\\xa1/2000-2999/2225/2225/5700392.psd'\n",
      "文件重命名：b'G:/\\xe9\\xa5\\xad\\xe6\\xa1\\xb6\\xe8\\xae\\xbe\\xe8\\xae\\xa1/2000-2999/2225/2225/5700397.psd'\n",
      "文件重命名：b'G:/\\xe9\\xa5\\xad\\xe6\\xa1\\xb6\\xe8\\xae\\xbe\\xe8\\xae\\xa1/2000-2999/2225/2225/5700399.psd'\n",
      "文件重命名：b'G:/\\xe9\\xa5\\xad\\xe6\\xa1\\xb6\\xe8\\xae\\xbe\\xe8\\xae\\xa1/2000-2999/2225/2225/5700406.psd'\n",
      "文件重命名：b'G:/\\xe9\\xa5\\xad\\xe6\\xa1\\xb6\\xe8\\xae\\xbe\\xe8\\xae\\xa1/2000-2999/2225/2225/5700411.psd'\n",
      "文件重命名：b'G:/\\xe9\\xa5\\xad\\xe6\\xa1\\xb6\\xe8\\xae\\xbe\\xe8\\xae\\xa1/2000-2999/2225/2225/5708678.psd'\n",
      "文件重命名：b'G:/\\xe9\\xa5\\xad\\xe6\\xa1\\xb6\\xe8\\xae\\xbe\\xe8\\xae\\xa1/2000-2999/2225/2225/5708728.psd'\n",
      "文件重命名：b'G:/\\xe9\\xa5\\xad\\xe6\\xa1\\xb6\\xe8\\xae\\xbe\\xe8\\xae\\xa1/2000-2999/2225/2225/test(1).psd'\n",
      "文件重命名：b'G:/\\xe9\\xa5\\xad\\xe6\\xa1\\xb6\\xe8\\xae\\xbe\\xe8\\xae\\xa1/2000-2999/2225/2225/test(10).psd'\n",
      "文件重命名：b'G:/\\xe9\\xa5\\xad\\xe6\\xa1\\xb6\\xe8\\xae\\xbe\\xe8\\xae\\xa1/2000-2999/2225/2225/test(2).psd'\n",
      "文件重命名：b'G:/\\xe9\\xa5\\xad\\xe6\\xa1\\xb6\\xe8\\xae\\xbe\\xe8\\xae\\xa1/2000-2999/2225/2225/test(3).psd'\n",
      "文件重命名：b'G:/\\xe9\\xa5\\xad\\xe6\\xa1\\xb6\\xe8\\xae\\xbe\\xe8\\xae\\xa1/2000-2999/2225/2225/test(4).psd'\n",
      "文件重命名：b'G:/\\xe9\\xa5\\xad\\xe6\\xa1\\xb6\\xe8\\xae\\xbe\\xe8\\xae\\xa1/2000-2999/2225/2225/test(5).psd'\n",
      "文件重命名：b'G:/\\xe9\\xa5\\xad\\xe6\\xa1\\xb6\\xe8\\xae\\xbe\\xe8\\xae\\xa1/2000-2999/2225/2225/test(6).psd'\n",
      "文件重命名：b'G:/\\xe9\\xa5\\xad\\xe6\\xa1\\xb6\\xe8\\xae\\xbe\\xe8\\xae\\xa1/2000-2999/2225/2225/test(7).psd'\n",
      "文件重命名：b'G:/\\xe9\\xa5\\xad\\xe6\\xa1\\xb6\\xe8\\xae\\xbe\\xe8\\xae\\xa1/2000-2999/2225/2225/test(8).psd'\n",
      "文件重命名：b'G:/\\xe9\\xa5\\xad\\xe6\\xa1\\xb6\\xe8\\xae\\xbe\\xe8\\xae\\xa1/2000-2999/2225/2225/test(9).psd'\n"
     ]
    },
    {
     "name": "stderr",
     "output_type": "stream",
     "text": [
      "PSD添加广告生成图片:   0%|                                                   | 0/10 [00:00<?, ?it/s]"
     ]
    },
    {
     "name": "stdout",
     "output_type": "stream",
     "text": [
      "\n",
      "\n",
      "处理文件:G:/饭桶设计/2000-2999/2225/2225/饭桶设计(1).psd\n",
      "导出PNG\n",
      "插入广告\n"
     ]
    },
    {
     "name": "stderr",
     "output_type": "stream",
     "text": [
      "PSD添加广告生成图片:  10%|████▎                                      | 1/10 [00:09<01:29,  9.92s/it]"
     ]
    },
    {
     "name": "stdout",
     "output_type": "stream",
     "text": [
      "\n",
      "\n",
      "处理文件:G:/饭桶设计/2000-2999/2225/2225/饭桶设计(2).psd\n",
      "导出PNG\n",
      "插入广告\n"
     ]
    },
    {
     "name": "stderr",
     "output_type": "stream",
     "text": [
      "PSD添加广告生成图片:  20%|████████▌                                  | 2/10 [00:25<01:46, 13.28s/it]"
     ]
    },
    {
     "name": "stdout",
     "output_type": "stream",
     "text": [
      "\n",
      "\n",
      "处理文件:G:/饭桶设计/2000-2999/2225/2225/饭桶设计(3).psd\n",
      "导出PNG\n",
      "插入广告\n"
     ]
    },
    {
     "name": "stderr",
     "output_type": "stream",
     "text": [
      "PSD添加广告生成图片:  30%|████████████▉                              | 3/10 [00:36<01:25, 12.22s/it]"
     ]
    },
    {
     "name": "stdout",
     "output_type": "stream",
     "text": [
      "\n",
      "\n",
      "处理文件:G:/饭桶设计/2000-2999/2225/2225/饭桶设计(4).psd\n",
      "导出PNG\n",
      "插入广告\n"
     ]
    },
    {
     "name": "stderr",
     "output_type": "stream",
     "text": [
      "PSD添加广告生成图片:  40%|█████████████████▏                         | 4/10 [00:51<01:20, 13.37s/it]"
     ]
    },
    {
     "name": "stdout",
     "output_type": "stream",
     "text": [
      "\n",
      "\n",
      "处理文件:G:/饭桶设计/2000-2999/2225/2225/饭桶设计(5).psd\n",
      "导出PNG\n",
      "插入广告\n"
     ]
    },
    {
     "name": "stderr",
     "output_type": "stream",
     "text": [
      "PSD添加广告生成图片:  50%|█████████████████████▌                     | 5/10 [01:12<01:19, 15.90s/it]"
     ]
    },
    {
     "name": "stdout",
     "output_type": "stream",
     "text": [
      "\n",
      "\n",
      "处理文件:G:/饭桶设计/2000-2999/2225/2225/饭桶设计(6).psd\n",
      "导出PNG\n",
      "插入广告\n"
     ]
    },
    {
     "name": "stderr",
     "output_type": "stream",
     "text": [
      "PSD添加广告生成图片:  60%|█████████████████████████▊                 | 6/10 [01:25<00:59, 14.98s/it]"
     ]
    },
    {
     "name": "stdout",
     "output_type": "stream",
     "text": [
      "\n",
      "\n",
      "处理文件:G:/饭桶设计/2000-2999/2225/2225/饭桶设计(7).psd\n",
      "导出PNG\n",
      "插入广告\n"
     ]
    },
    {
     "name": "stderr",
     "output_type": "stream",
     "text": [
      "PSD添加广告生成图片:  70%|██████████████████████████████             | 7/10 [01:34<00:39, 13.25s/it]"
     ]
    },
    {
     "name": "stdout",
     "output_type": "stream",
     "text": [
      "\n",
      "\n",
      "处理文件:G:/饭桶设计/2000-2999/2225/2225/饭桶设计(8).psd\n",
      "导出PNG\n",
      "插入广告\n"
     ]
    },
    {
     "name": "stderr",
     "output_type": "stream",
     "text": [
      "PSD添加广告生成图片:  80%|██████████████████████████████████▍        | 8/10 [01:42<00:22, 11.32s/it]"
     ]
    },
    {
     "name": "stdout",
     "output_type": "stream",
     "text": [
      "\n",
      "\n",
      "处理文件:G:/饭桶设计/2000-2999/2225/2225/饭桶设计(9).psd\n",
      "导出PNG\n",
      "插入广告\n"
     ]
    },
    {
     "name": "stderr",
     "output_type": "stream",
     "text": [
      "PSD添加广告生成图片:  90%|██████████████████████████████████████▋    | 9/10 [01:52<00:11, 11.14s/it]"
     ]
    },
    {
     "name": "stdout",
     "output_type": "stream",
     "text": [
      "\n",
      "\n",
      "处理文件:G:/饭桶设计/2000-2999/2225/2225/饭桶设计(10).psd\n",
      "导出PNG\n",
      "插入广告\n"
     ]
    },
    {
     "name": "stderr",
     "output_type": "stream",
     "text": [
      "PSD添加广告生成图片: 100%|██████████████████████████████████████████| 10/10 [02:07<00:00, 12.70s/it]\n",
      "AI导出PNG: 0it [00:00, ?it/s]\n",
      "PPT导出PNG: 0it [00:00, ?it/s]\n",
      "复制到制定目录: 100%|██████████████████████████████████████████████| 10/10 [00:00<00:00, 159.99it/s]\n",
      "图片添加水印: 100%|█████████████████████████████████████████████████| 10/10 [00:05<00:00,  1.80it/s]\n",
      "解压ZIP: 100%|██████████████████████████████████████████████████████| 16/16 [00:16<00:00,  1.05s/it]\n",
      "解压RAR: 0it [00:00, ?it/s]\n"
     ]
    },
    {
     "name": "stdout",
     "output_type": "stream",
     "text": [
      "移动到根目录:b'G:/\\xe9\\xa5\\xad\\xe6\\xa1\\xb6\\xe8\\xae\\xbe\\xe8\\xae\\xa1/2000-2999/2226/2226/7925568.jpg'\n",
      "移动到根目录:b'G:/\\xe9\\xa5\\xad\\xe6\\xa1\\xb6\\xe8\\xae\\xbe\\xe8\\xae\\xa1/2000-2999/2226/2226/7925569.psd'\n",
      "移动到根目录:b'G:/\\xe9\\xa5\\xad\\xe6\\xa1\\xb6\\xe8\\xae\\xbe\\xe8\\xae\\xa1/2000-2999/2226/2226/7925431.jpg'\n",
      "移动到根目录:b'G:/\\xe9\\xa5\\xad\\xe6\\xa1\\xb6\\xe8\\xae\\xbe\\xe8\\xae\\xa1/2000-2999/2226/2226/7925440.psd'\n",
      "移动到根目录:b'G:/\\xe9\\xa5\\xad\\xe6\\xa1\\xb6\\xe8\\xae\\xbe\\xe8\\xae\\xa1/2000-2999/2226/2226/7925394.jpg'\n",
      "移动到根目录:b'G:/\\xe9\\xa5\\xad\\xe6\\xa1\\xb6\\xe8\\xae\\xbe\\xe8\\xae\\xa1/2000-2999/2226/2226/7925430.psd'\n",
      "移动到根目录:b'G:/\\xe9\\xa5\\xad\\xe6\\xa1\\xb6\\xe8\\xae\\xbe\\xe8\\xae\\xa1/2000-2999/2226/2226/7925583.jpg'\n",
      "移动到根目录:b'G:/\\xe9\\xa5\\xad\\xe6\\xa1\\xb6\\xe8\\xae\\xbe\\xe8\\xae\\xa1/2000-2999/2226/2226/7925584.psd'\n",
      "移动到根目录:b'G:/\\xe9\\xa5\\xad\\xe6\\xa1\\xb6\\xe8\\xae\\xbe\\xe8\\xae\\xa1/2000-2999/2226/2226/7925464.jpg'\n",
      "移动到根目录:b'G:/\\xe9\\xa5\\xad\\xe6\\xa1\\xb6\\xe8\\xae\\xbe\\xe8\\xae\\xa1/2000-2999/2226/2226/7925476.psd'\n",
      "移动到根目录:b'G:/\\xe9\\xa5\\xad\\xe6\\xa1\\xb6\\xe8\\xae\\xbe\\xe8\\xae\\xa1/2000-2999/2226/2226/7925507.jpg'\n",
      "移动到根目录:b'G:/\\xe9\\xa5\\xad\\xe6\\xa1\\xb6\\xe8\\xae\\xbe\\xe8\\xae\\xa1/2000-2999/2226/2226/7925542.psd'\n",
      "移动到根目录:b'G:/\\xe9\\xa5\\xad\\xe6\\xa1\\xb6\\xe8\\xae\\xbe\\xe8\\xae\\xa1/2000-2999/2226/2226/7925579.jpg'\n",
      "移动到根目录:b'G:/\\xe9\\xa5\\xad\\xe6\\xa1\\xb6\\xe8\\xae\\xbe\\xe8\\xae\\xa1/2000-2999/2226/2226/7925580.psd'\n",
      "移动到根目录:b'G:/\\xe9\\xa5\\xad\\xe6\\xa1\\xb6\\xe8\\xae\\xbe\\xe8\\xae\\xa1/2000-2999/2226/2226/7925573.jpg'\n",
      "移动到根目录:b'G:/\\xe9\\xa5\\xad\\xe6\\xa1\\xb6\\xe8\\xae\\xbe\\xe8\\xae\\xa1/2000-2999/2226/2226/7925576.psd'\n",
      "移动到根目录:b'G:/\\xe9\\xa5\\xad\\xe6\\xa1\\xb6\\xe8\\xae\\xbe\\xe8\\xae\\xa1/2000-2999/2226/2226/7925564.jpg'\n",
      "移动到根目录:b'G:/\\xe9\\xa5\\xad\\xe6\\xa1\\xb6\\xe8\\xae\\xbe\\xe8\\xae\\xa1/2000-2999/2226/2226/7925567.psd'\n",
      "移动到根目录:b'G:/\\xe9\\xa5\\xad\\xe6\\xa1\\xb6\\xe8\\xae\\xbe\\xe8\\xae\\xa1/2000-2999/2226/2226/7925570.jpg'\n",
      "移动到根目录:b'G:/\\xe9\\xa5\\xad\\xe6\\xa1\\xb6\\xe8\\xae\\xbe\\xe8\\xae\\xa1/2000-2999/2226/2226/7925572.psd'\n",
      "移动到根目录:b'G:/\\xe9\\xa5\\xad\\xe6\\xa1\\xb6\\xe8\\xae\\xbe\\xe8\\xae\\xa1/2000-2999/2226/2226/7925478.jpg'\n",
      "移动到根目录:b'G:/\\xe9\\xa5\\xad\\xe6\\xa1\\xb6\\xe8\\xae\\xbe\\xe8\\xae\\xa1/2000-2999/2226/2226/7925505.psd'\n",
      "移动到根目录:b'G:/\\xe9\\xa5\\xad\\xe6\\xa1\\xb6\\xe8\\xae\\xbe\\xe8\\xae\\xa1/2000-2999/2226/2226/7925544.jpg'\n",
      "移动到根目录:b'G:/\\xe9\\xa5\\xad\\xe6\\xa1\\xb6\\xe8\\xae\\xbe\\xe8\\xae\\xa1/2000-2999/2226/2226/7925563.psd'\n",
      "移动到根目录:b'G:/\\xe9\\xa5\\xad\\xe6\\xa1\\xb6\\xe8\\xae\\xbe\\xe8\\xae\\xa1/2000-2999/2226/2226/7925441.jpg'\n",
      "移动到根目录:b'G:/\\xe9\\xa5\\xad\\xe6\\xa1\\xb6\\xe8\\xae\\xbe\\xe8\\xae\\xa1/2000-2999/2226/2226/7925459.psd'\n",
      "移动到根目录:b'G:/\\xe9\\xa5\\xad\\xe6\\xa1\\xb6\\xe8\\xae\\xbe\\xe8\\xae\\xa1/2000-2999/2226/2226/7925581.jpg'\n",
      "移动到根目录:b'G:/\\xe9\\xa5\\xad\\xe6\\xa1\\xb6\\xe8\\xae\\xbe\\xe8\\xae\\xa1/2000-2999/2226/2226/7925582.psd'\n",
      "移动到根目录:b'G:/\\xe9\\xa5\\xad\\xe6\\xa1\\xb6\\xe8\\xae\\xbe\\xe8\\xae\\xa1/2000-2999/2226/2226/7925577.jpg'\n",
      "移动到根目录:b'G:/\\xe9\\xa5\\xad\\xe6\\xa1\\xb6\\xe8\\xae\\xbe\\xe8\\xae\\xa1/2000-2999/2226/2226/7925578.psd'\n",
      "移动到根目录:b'G:/\\xe9\\xa5\\xad\\xe6\\xa1\\xb6\\xe8\\xae\\xbe\\xe8\\xae\\xa1/2000-2999/2226/2226/7879712.psd'\n",
      "移动到根目录:b'G:/\\xe9\\xa5\\xad\\xe6\\xa1\\xb6\\xe8\\xae\\xbe\\xe8\\xae\\xa1/2000-2999/2226/2226/7879719.jpg'\n",
      "删除多余文件夹：G:\\饭桶设计\\2000-2999\\2226\\2226\\flat-design-hookah-design-template\n",
      "删除多余文件夹：G:\\饭桶设计\\2000-2999\\2226\\2226\\flat-design-hookah-design-template (1)\n",
      "删除多余文件夹：G:\\饭桶设计\\2000-2999\\2226\\2226\\flat-design-hookah-design-template (10)\n",
      "删除多余文件夹：G:\\饭桶设计\\2000-2999\\2226\\2226\\flat-design-hookah-design-template (11)\n",
      "删除多余文件夹：G:\\饭桶设计\\2000-2999\\2226\\2226\\flat-design-hookah-design-template (12)\n",
      "删除多余文件夹：G:\\饭桶设计\\2000-2999\\2226\\2226\\flat-design-hookah-design-template (13)\n",
      "删除多余文件夹：G:\\饭桶设计\\2000-2999\\2226\\2226\\flat-design-hookah-design-template (14)\n",
      "删除多余文件夹：G:\\饭桶设计\\2000-2999\\2226\\2226\\flat-design-hookah-design-template (15)\n",
      "删除多余文件夹：G:\\饭桶设计\\2000-2999\\2226\\2226\\flat-design-hookah-design-template (2)\n",
      "删除多余文件夹：G:\\饭桶设计\\2000-2999\\2226\\2226\\flat-design-hookah-design-template (3)\n",
      "删除多余文件夹：G:\\饭桶设计\\2000-2999\\2226\\2226\\flat-design-hookah-design-template (4)\n",
      "删除多余文件夹：G:\\饭桶设计\\2000-2999\\2226\\2226\\flat-design-hookah-design-template (5)\n",
      "删除多余文件夹：G:\\饭桶设计\\2000-2999\\2226\\2226\\flat-design-hookah-design-template (6)\n",
      "删除多余文件夹：G:\\饭桶设计\\2000-2999\\2226\\2226\\flat-design-hookah-design-template (7)\n",
      "删除多余文件夹：G:\\饭桶设计\\2000-2999\\2226\\2226\\flat-design-hookah-design-template (8)\n",
      "删除多余文件夹：G:\\饭桶设计\\2000-2999\\2226\\2226\\flat-design-hookah-design-template (9)\n"
     ]
    },
    {
     "name": "stderr",
     "output_type": "stream",
     "text": [
      "复制到制定目录: 100%|██████████████████████████████████████████████| 16/16 [00:00<00:00, 145.84it/s]\n"
     ]
    },
    {
     "name": "stdout",
     "output_type": "stream",
     "text": [
      "文件重命名：b'G:/\\xe9\\xa5\\xad\\xe6\\xa1\\xb6\\xe8\\xae\\xbe\\xe8\\xae\\xa1/2000-2999/2226/2226/7879712.psd'\n",
      "文件重命名：b'G:/\\xe9\\xa5\\xad\\xe6\\xa1\\xb6\\xe8\\xae\\xbe\\xe8\\xae\\xa1/2000-2999/2226/2226/7925430.psd'\n",
      "文件重命名：b'G:/\\xe9\\xa5\\xad\\xe6\\xa1\\xb6\\xe8\\xae\\xbe\\xe8\\xae\\xa1/2000-2999/2226/2226/7925440.psd'\n",
      "文件重命名：b'G:/\\xe9\\xa5\\xad\\xe6\\xa1\\xb6\\xe8\\xae\\xbe\\xe8\\xae\\xa1/2000-2999/2226/2226/7925459.psd'\n",
      "文件重命名：b'G:/\\xe9\\xa5\\xad\\xe6\\xa1\\xb6\\xe8\\xae\\xbe\\xe8\\xae\\xa1/2000-2999/2226/2226/7925476.psd'\n",
      "文件重命名：b'G:/\\xe9\\xa5\\xad\\xe6\\xa1\\xb6\\xe8\\xae\\xbe\\xe8\\xae\\xa1/2000-2999/2226/2226/7925505.psd'\n",
      "文件重命名：b'G:/\\xe9\\xa5\\xad\\xe6\\xa1\\xb6\\xe8\\xae\\xbe\\xe8\\xae\\xa1/2000-2999/2226/2226/7925542.psd'\n",
      "文件重命名：b'G:/\\xe9\\xa5\\xad\\xe6\\xa1\\xb6\\xe8\\xae\\xbe\\xe8\\xae\\xa1/2000-2999/2226/2226/7925563.psd'\n",
      "文件重命名：b'G:/\\xe9\\xa5\\xad\\xe6\\xa1\\xb6\\xe8\\xae\\xbe\\xe8\\xae\\xa1/2000-2999/2226/2226/7925567.psd'\n",
      "文件重命名：b'G:/\\xe9\\xa5\\xad\\xe6\\xa1\\xb6\\xe8\\xae\\xbe\\xe8\\xae\\xa1/2000-2999/2226/2226/7925569.psd'\n",
      "文件重命名：b'G:/\\xe9\\xa5\\xad\\xe6\\xa1\\xb6\\xe8\\xae\\xbe\\xe8\\xae\\xa1/2000-2999/2226/2226/7925572.psd'\n",
      "文件重命名：b'G:/\\xe9\\xa5\\xad\\xe6\\xa1\\xb6\\xe8\\xae\\xbe\\xe8\\xae\\xa1/2000-2999/2226/2226/7925576.psd'\n",
      "文件重命名：b'G:/\\xe9\\xa5\\xad\\xe6\\xa1\\xb6\\xe8\\xae\\xbe\\xe8\\xae\\xa1/2000-2999/2226/2226/7925578.psd'\n",
      "文件重命名：b'G:/\\xe9\\xa5\\xad\\xe6\\xa1\\xb6\\xe8\\xae\\xbe\\xe8\\xae\\xa1/2000-2999/2226/2226/7925580.psd'\n",
      "文件重命名：b'G:/\\xe9\\xa5\\xad\\xe6\\xa1\\xb6\\xe8\\xae\\xbe\\xe8\\xae\\xa1/2000-2999/2226/2226/7925582.psd'\n",
      "文件重命名：b'G:/\\xe9\\xa5\\xad\\xe6\\xa1\\xb6\\xe8\\xae\\xbe\\xe8\\xae\\xa1/2000-2999/2226/2226/7925584.psd'\n",
      "文件重命名：b'G:/\\xe9\\xa5\\xad\\xe6\\xa1\\xb6\\xe8\\xae\\xbe\\xe8\\xae\\xa1/2000-2999/2226/2226/test(1).psd'\n",
      "文件重命名：b'G:/\\xe9\\xa5\\xad\\xe6\\xa1\\xb6\\xe8\\xae\\xbe\\xe8\\xae\\xa1/2000-2999/2226/2226/test(10).psd'\n",
      "文件重命名：b'G:/\\xe9\\xa5\\xad\\xe6\\xa1\\xb6\\xe8\\xae\\xbe\\xe8\\xae\\xa1/2000-2999/2226/2226/test(11).psd'\n",
      "文件重命名：b'G:/\\xe9\\xa5\\xad\\xe6\\xa1\\xb6\\xe8\\xae\\xbe\\xe8\\xae\\xa1/2000-2999/2226/2226/test(12).psd'\n",
      "文件重命名：b'G:/\\xe9\\xa5\\xad\\xe6\\xa1\\xb6\\xe8\\xae\\xbe\\xe8\\xae\\xa1/2000-2999/2226/2226/test(13).psd'\n",
      "文件重命名：b'G:/\\xe9\\xa5\\xad\\xe6\\xa1\\xb6\\xe8\\xae\\xbe\\xe8\\xae\\xa1/2000-2999/2226/2226/test(14).psd'\n",
      "文件重命名：b'G:/\\xe9\\xa5\\xad\\xe6\\xa1\\xb6\\xe8\\xae\\xbe\\xe8\\xae\\xa1/2000-2999/2226/2226/test(15).psd'\n",
      "文件重命名：b'G:/\\xe9\\xa5\\xad\\xe6\\xa1\\xb6\\xe8\\xae\\xbe\\xe8\\xae\\xa1/2000-2999/2226/2226/test(16).psd'\n",
      "文件重命名：b'G:/\\xe9\\xa5\\xad\\xe6\\xa1\\xb6\\xe8\\xae\\xbe\\xe8\\xae\\xa1/2000-2999/2226/2226/test(2).psd'\n",
      "文件重命名：b'G:/\\xe9\\xa5\\xad\\xe6\\xa1\\xb6\\xe8\\xae\\xbe\\xe8\\xae\\xa1/2000-2999/2226/2226/test(3).psd'\n",
      "文件重命名：b'G:/\\xe9\\xa5\\xad\\xe6\\xa1\\xb6\\xe8\\xae\\xbe\\xe8\\xae\\xa1/2000-2999/2226/2226/test(4).psd'\n",
      "文件重命名：b'G:/\\xe9\\xa5\\xad\\xe6\\xa1\\xb6\\xe8\\xae\\xbe\\xe8\\xae\\xa1/2000-2999/2226/2226/test(5).psd'\n",
      "文件重命名：b'G:/\\xe9\\xa5\\xad\\xe6\\xa1\\xb6\\xe8\\xae\\xbe\\xe8\\xae\\xa1/2000-2999/2226/2226/test(6).psd'\n",
      "文件重命名：b'G:/\\xe9\\xa5\\xad\\xe6\\xa1\\xb6\\xe8\\xae\\xbe\\xe8\\xae\\xa1/2000-2999/2226/2226/test(7).psd'\n",
      "文件重命名：b'G:/\\xe9\\xa5\\xad\\xe6\\xa1\\xb6\\xe8\\xae\\xbe\\xe8\\xae\\xa1/2000-2999/2226/2226/test(8).psd'\n",
      "文件重命名：b'G:/\\xe9\\xa5\\xad\\xe6\\xa1\\xb6\\xe8\\xae\\xbe\\xe8\\xae\\xa1/2000-2999/2226/2226/test(9).psd'\n"
     ]
    },
    {
     "name": "stderr",
     "output_type": "stream",
     "text": [
      "PSD添加广告生成图片:   0%|                                                   | 0/16 [00:00<?, ?it/s]"
     ]
    },
    {
     "name": "stdout",
     "output_type": "stream",
     "text": [
      "\n",
      "\n",
      "处理文件:G:/饭桶设计/2000-2999/2226/2226/饭桶设计(1).psd\n",
      "导出PNG\n",
      "插入广告\n"
     ]
    },
    {
     "name": "stderr",
     "output_type": "stream",
     "text": [
      "PSD添加广告生成图片:   6%|██▋                                        | 1/16 [00:09<02:15,  9.05s/it]"
     ]
    },
    {
     "name": "stdout",
     "output_type": "stream",
     "text": [
      "\n",
      "\n",
      "处理文件:G:/饭桶设计/2000-2999/2226/2226/饭桶设计(2).psd\n",
      "导出PNG\n",
      "插入广告\n"
     ]
    },
    {
     "name": "stderr",
     "output_type": "stream",
     "text": [
      "PSD添加广告生成图片:  12%|█████▍                                     | 2/16 [00:13<01:30,  6.45s/it]"
     ]
    },
    {
     "name": "stdout",
     "output_type": "stream",
     "text": [
      "\n",
      "\n",
      "处理文件:G:/饭桶设计/2000-2999/2226/2226/饭桶设计(3).psd\n",
      "导出PNG\n",
      "插入广告\n"
     ]
    },
    {
     "name": "stderr",
     "output_type": "stream",
     "text": [
      "PSD添加广告生成图片:  19%|████████                                   | 3/16 [00:18<01:15,  5.77s/it]"
     ]
    },
    {
     "name": "stdout",
     "output_type": "stream",
     "text": [
      "\n",
      "\n",
      "处理文件:G:/饭桶设计/2000-2999/2226/2226/饭桶设计(4).psd\n",
      "导出PNG\n",
      "插入广告\n"
     ]
    },
    {
     "name": "stderr",
     "output_type": "stream",
     "text": [
      "PSD添加广告生成图片:  25%|██████████▊                                | 4/16 [00:29<01:32,  7.73s/it]"
     ]
    },
    {
     "name": "stdout",
     "output_type": "stream",
     "text": [
      "\n",
      "\n",
      "处理文件:G:/饭桶设计/2000-2999/2226/2226/饭桶设计(5).psd\n",
      "导出PNG\n",
      "插入广告\n"
     ]
    },
    {
     "name": "stderr",
     "output_type": "stream",
     "text": [
      "PSD添加广告生成图片:  31%|█████████████▍                             | 5/16 [00:34<01:13,  6.70s/it]"
     ]
    },
    {
     "name": "stdout",
     "output_type": "stream",
     "text": [
      "\n",
      "\n",
      "处理文件:G:/饭桶设计/2000-2999/2226/2226/饭桶设计(6).psd\n",
      "导出PNG\n",
      "插入广告\n"
     ]
    },
    {
     "name": "stderr",
     "output_type": "stream",
     "text": [
      "PSD添加广告生成图片:  38%|████████████████▏                          | 6/16 [00:39<01:02,  6.21s/it]"
     ]
    },
    {
     "name": "stdout",
     "output_type": "stream",
     "text": [
      "\n",
      "\n",
      "处理文件:G:/饭桶设计/2000-2999/2226/2226/饭桶设计(7).psd\n",
      "导出PNG\n",
      "插入广告\n"
     ]
    },
    {
     "name": "stderr",
     "output_type": "stream",
     "text": [
      "PSD添加广告生成图片:  44%|██████████████████▊                        | 7/16 [00:43<00:49,  5.49s/it]"
     ]
    },
    {
     "name": "stdout",
     "output_type": "stream",
     "text": [
      "\n",
      "\n",
      "处理文件:G:/饭桶设计/2000-2999/2226/2226/饭桶设计(8).psd\n",
      "导出PNG\n",
      "插入广告\n"
     ]
    },
    {
     "name": "stderr",
     "output_type": "stream",
     "text": [
      "PSD添加广告生成图片:  50%|█████████████████████▌                     | 8/16 [00:46<00:38,  4.82s/it]"
     ]
    },
    {
     "name": "stdout",
     "output_type": "stream",
     "text": [
      "\n",
      "\n",
      "处理文件:G:/饭桶设计/2000-2999/2226/2226/饭桶设计(9).psd\n",
      "导出PNG\n",
      "插入广告\n"
     ]
    },
    {
     "name": "stderr",
     "output_type": "stream",
     "text": [
      "PSD添加广告生成图片:  56%|████████████████████████▏                  | 9/16 [00:55<00:41,  5.99s/it]"
     ]
    },
    {
     "name": "stdout",
     "output_type": "stream",
     "text": [
      "\n",
      "\n",
      "处理文件:G:/饭桶设计/2000-2999/2226/2226/饭桶设计(10).psd\n",
      "导出PNG\n",
      "插入广告\n"
     ]
    },
    {
     "name": "stderr",
     "output_type": "stream",
     "text": [
      "PSD添加广告生成图片:  62%|██████████████████████████▎               | 10/16 [01:01<00:36,  6.04s/it]"
     ]
    },
    {
     "name": "stdout",
     "output_type": "stream",
     "text": [
      "\n",
      "\n",
      "处理文件:G:/饭桶设计/2000-2999/2226/2226/饭桶设计(11).psd\n",
      "导出PNG\n",
      "插入广告\n"
     ]
    },
    {
     "name": "stderr",
     "output_type": "stream",
     "text": [
      "PSD添加广告生成图片:  69%|████████████████████████████▉             | 11/16 [01:06<00:28,  5.61s/it]"
     ]
    },
    {
     "name": "stdout",
     "output_type": "stream",
     "text": [
      "\n",
      "\n",
      "处理文件:G:/饭桶设计/2000-2999/2226/2226/饭桶设计(12).psd\n",
      "导出PNG\n",
      "插入广告\n"
     ]
    },
    {
     "name": "stderr",
     "output_type": "stream",
     "text": [
      "PSD添加广告生成图片:  75%|███████████████████████████████▌          | 12/16 [01:11<00:21,  5.46s/it]"
     ]
    },
    {
     "name": "stdout",
     "output_type": "stream",
     "text": [
      "\n",
      "\n",
      "处理文件:G:/饭桶设计/2000-2999/2226/2226/饭桶设计(13).psd\n",
      "导出PNG\n",
      "插入广告\n"
     ]
    },
    {
     "name": "stderr",
     "output_type": "stream",
     "text": [
      "PSD添加广告生成图片:  81%|██████████████████████████████████▏       | 13/16 [01:19<00:18,  6.13s/it]"
     ]
    },
    {
     "name": "stdout",
     "output_type": "stream",
     "text": [
      "\n",
      "\n",
      "处理文件:G:/饭桶设计/2000-2999/2226/2226/饭桶设计(14).psd\n",
      "导出PNG\n",
      "插入广告\n"
     ]
    },
    {
     "name": "stderr",
     "output_type": "stream",
     "text": [
      "PSD添加广告生成图片:  88%|████████████████████████████████████▊     | 14/16 [01:28<00:14,  7.22s/it]"
     ]
    },
    {
     "name": "stdout",
     "output_type": "stream",
     "text": [
      "\n",
      "\n",
      "处理文件:G:/饭桶设计/2000-2999/2226/2226/饭桶设计(15).psd\n",
      "导出PNG\n",
      "插入广告\n"
     ]
    },
    {
     "name": "stderr",
     "output_type": "stream",
     "text": [
      "PSD添加广告生成图片:  94%|███████████████████████████████████████▍  | 15/16 [01:38<00:08,  8.01s/it]"
     ]
    },
    {
     "name": "stdout",
     "output_type": "stream",
     "text": [
      "\n",
      "\n",
      "处理文件:G:/饭桶设计/2000-2999/2226/2226/饭桶设计(16).psd\n",
      "导出PNG\n",
      "插入广告\n"
     ]
    },
    {
     "name": "stderr",
     "output_type": "stream",
     "text": [
      "PSD添加广告生成图片: 100%|██████████████████████████████████████████| 16/16 [01:46<00:00,  6.63s/it]\n",
      "AI导出PNG: 0it [00:00, ?it/s]\n",
      "PPT导出PNG: 0it [00:00, ?it/s]\n",
      "复制到制定目录: 100%|██████████████████████████████████████████████| 16/16 [00:00<00:00, 340.71it/s]\n",
      "图片添加水印: 100%|█████████████████████████████████████████████████| 16/16 [00:04<00:00,  3.29it/s]\n",
      "解压ZIP: 100%|██████████████████████████████████████████████████████| 15/15 [00:51<00:00,  3.46s/it]\n",
      "解压RAR: 0it [00:00, ?it/s]\n"
     ]
    },
    {
     "name": "stdout",
     "output_type": "stream",
     "text": [
      "移动到根目录:b'G:/\\xe9\\xa5\\xad\\xe6\\xa1\\xb6\\xe8\\xae\\xbe\\xe8\\xae\\xa1/2000-2999/2227/2227/6550673.psd'\n",
      "移动到根目录:b'G:/\\xe9\\xa5\\xad\\xe6\\xa1\\xb6\\xe8\\xae\\xbe\\xe8\\xae\\xa1/2000-2999/2227/2227/6550674.jpg'\n",
      "移动到根目录:b'G:/\\xe9\\xa5\\xad\\xe6\\xa1\\xb6\\xe8\\xae\\xbe\\xe8\\xae\\xa1/2000-2999/2227/2227/6550345.psd'\n",
      "移动到根目录:b'G:/\\xe9\\xa5\\xad\\xe6\\xa1\\xb6\\xe8\\xae\\xbe\\xe8\\xae\\xa1/2000-2999/2227/2227/6550349.jpg'\n",
      "移动到根目录:b'G:/\\xe9\\xa5\\xad\\xe6\\xa1\\xb6\\xe8\\xae\\xbe\\xe8\\xae\\xa1/2000-2999/2227/2227/6550382.psd'\n",
      "移动到根目录:b'G:/\\xe9\\xa5\\xad\\xe6\\xa1\\xb6\\xe8\\xae\\xbe\\xe8\\xae\\xa1/2000-2999/2227/2227/6550383.jpg'\n",
      "移动到根目录:b'G:/\\xe9\\xa5\\xad\\xe6\\xa1\\xb6\\xe8\\xae\\xbe\\xe8\\xae\\xa1/2000-2999/2227/2227/6550483.psd'\n",
      "移动到根目录:b'G:/\\xe9\\xa5\\xad\\xe6\\xa1\\xb6\\xe8\\xae\\xbe\\xe8\\xae\\xa1/2000-2999/2227/2227/6550484.jpg'\n",
      "移动到根目录:b'G:/\\xe9\\xa5\\xad\\xe6\\xa1\\xb6\\xe8\\xae\\xbe\\xe8\\xae\\xa1/2000-2999/2227/2227/6550791.psd'\n",
      "移动到根目录:b'G:/\\xe9\\xa5\\xad\\xe6\\xa1\\xb6\\xe8\\xae\\xbe\\xe8\\xae\\xa1/2000-2999/2227/2227/6550793.jpg'\n",
      "移动到根目录:b'G:/\\xe9\\xa5\\xad\\xe6\\xa1\\xb6\\xe8\\xae\\xbe\\xe8\\xae\\xa1/2000-2999/2227/2227/6550756.psd'\n",
      "移动到根目录:b'G:/\\xe9\\xa5\\xad\\xe6\\xa1\\xb6\\xe8\\xae\\xbe\\xe8\\xae\\xa1/2000-2999/2227/2227/6550757.jpg'\n",
      "移动到根目录:b'G:/\\xe9\\xa5\\xad\\xe6\\xa1\\xb6\\xe8\\xae\\xbe\\xe8\\xae\\xa1/2000-2999/2227/2227/6550576.psd'\n",
      "移动到根目录:b'G:/\\xe9\\xa5\\xad\\xe6\\xa1\\xb6\\xe8\\xae\\xbe\\xe8\\xae\\xa1/2000-2999/2227/2227/6550579.jpg'\n",
      "移动到根目录:b'G:/\\xe9\\xa5\\xad\\xe6\\xa1\\xb6\\xe8\\xae\\xbe\\xe8\\xae\\xa1/2000-2999/2227/2227/6550814.psd'\n",
      "移动到根目录:b'G:/\\xe9\\xa5\\xad\\xe6\\xa1\\xb6\\xe8\\xae\\xbe\\xe8\\xae\\xa1/2000-2999/2227/2227/6550815.jpg'\n",
      "移动到根目录:b'G:/\\xe9\\xa5\\xad\\xe6\\xa1\\xb6\\xe8\\xae\\xbe\\xe8\\xae\\xa1/2000-2999/2227/2227/6550612.psd'\n",
      "移动到根目录:b'G:/\\xe9\\xa5\\xad\\xe6\\xa1\\xb6\\xe8\\xae\\xbe\\xe8\\xae\\xa1/2000-2999/2227/2227/6550613.jpg'\n",
      "移动到根目录:b'G:/\\xe9\\xa5\\xad\\xe6\\xa1\\xb6\\xe8\\xae\\xbe\\xe8\\xae\\xa1/2000-2999/2227/2227/6550668.psd'\n",
      "移动到根目录:b'G:/\\xe9\\xa5\\xad\\xe6\\xa1\\xb6\\xe8\\xae\\xbe\\xe8\\xae\\xa1/2000-2999/2227/2227/6550669.jpg'\n",
      "移动到根目录:b'G:/\\xe9\\xa5\\xad\\xe6\\xa1\\xb6\\xe8\\xae\\xbe\\xe8\\xae\\xa1/2000-2999/2227/2227/6550848.psd'\n",
      "移动到根目录:b'G:/\\xe9\\xa5\\xad\\xe6\\xa1\\xb6\\xe8\\xae\\xbe\\xe8\\xae\\xa1/2000-2999/2227/2227/6550849.jpg'\n",
      "移动到根目录:b'G:/\\xe9\\xa5\\xad\\xe6\\xa1\\xb6\\xe8\\xae\\xbe\\xe8\\xae\\xa1/2000-2999/2227/2227/6478608.psd'\n",
      "移动到根目录:b'G:/\\xe9\\xa5\\xad\\xe6\\xa1\\xb6\\xe8\\xae\\xbe\\xe8\\xae\\xa1/2000-2999/2227/2227/6478609.jpg'\n",
      "移动到根目录:b'G:/\\xe9\\xa5\\xad\\xe6\\xa1\\xb6\\xe8\\xae\\xbe\\xe8\\xae\\xa1/2000-2999/2227/2227/6550707.psd'\n",
      "移动到根目录:b'G:/\\xe9\\xa5\\xad\\xe6\\xa1\\xb6\\xe8\\xae\\xbe\\xe8\\xae\\xa1/2000-2999/2227/2227/6550709.jpg'\n",
      "移动到根目录:b'G:/\\xe9\\xa5\\xad\\xe6\\xa1\\xb6\\xe8\\xae\\xbe\\xe8\\xae\\xa1/2000-2999/2227/2227/6550687.psd'\n",
      "移动到根目录:b'G:/\\xe9\\xa5\\xad\\xe6\\xa1\\xb6\\xe8\\xae\\xbe\\xe8\\xae\\xa1/2000-2999/2227/2227/6550688.jpg'\n",
      "移动到根目录:b'G:/\\xe9\\xa5\\xad\\xe6\\xa1\\xb6\\xe8\\xae\\xbe\\xe8\\xae\\xa1/2000-2999/2227/2227/6550384.jpg'\n",
      "移动到根目录:b'G:/\\xe9\\xa5\\xad\\xe6\\xa1\\xb6\\xe8\\xae\\xbe\\xe8\\xae\\xa1/2000-2999/2227/2227/6550437.psd'\n",
      "删除多余文件夹：G:\\饭桶设计\\2000-2999\\2227\\2227\\paper-texture-banner-template\n",
      "删除多余文件夹：G:\\饭桶设计\\2000-2999\\2227\\2227\\paper-texture-business-card-template\n",
      "删除多余文件夹：G:\\饭桶设计\\2000-2999\\2227\\2227\\paper-texture-business-card-template (1)\n",
      "删除多余文件夹：G:\\饭桶设计\\2000-2999\\2227\\2227\\paper-texture-instagram-post-template\n",
      "删除多余文件夹：G:\\饭桶设计\\2000-2999\\2227\\2227\\paper-texture-instagram-post-template (1)\n",
      "删除多余文件夹：G:\\饭桶设计\\2000-2999\\2227\\2227\\paper-texture-instagram-post-template (2)\n",
      "删除多余文件夹：G:\\饭桶设计\\2000-2999\\2227\\2227\\paper-texture-instagram-post-template (3)\n",
      "删除多余文件夹：G:\\饭桶设计\\2000-2999\\2227\\2227\\paper-texture-instagram-stories-template\n",
      "删除多余文件夹：G:\\饭桶设计\\2000-2999\\2227\\2227\\paper-texture-instagram-stories-template (1)\n",
      "删除多余文件夹：G:\\饭桶设计\\2000-2999\\2227\\2227\\paper-texture-instagram-stories-template (2)\n",
      "删除多余文件夹：G:\\饭桶设计\\2000-2999\\2227\\2227\\paper-texture-instagram-stories-template (3)\n",
      "删除多余文件夹：G:\\饭桶设计\\2000-2999\\2227\\2227\\paper-texture-invoice-template\n",
      "删除多余文件夹：G:\\饭桶设计\\2000-2999\\2227\\2227\\paper-texture-poster-flyer-template\n",
      "删除多余文件夹：G:\\饭桶设计\\2000-2999\\2227\\2227\\paper-texture-poster-flyer-template (1)\n",
      "删除多余文件夹：G:\\饭桶设计\\2000-2999\\2227\\2227\\paper-texture-web-design-template\n"
     ]
    },
    {
     "name": "stderr",
     "output_type": "stream",
     "text": [
      "复制到制定目录: 100%|██████████████████████████████████████████████| 15/15 [00:00<00:00, 239.88it/s]\n"
     ]
    },
    {
     "name": "stdout",
     "output_type": "stream",
     "text": [
      "文件重命名：b'G:/\\xe9\\xa5\\xad\\xe6\\xa1\\xb6\\xe8\\xae\\xbe\\xe8\\xae\\xa1/2000-2999/2227/2227/6478608.psd'\n",
      "文件重命名：b'G:/\\xe9\\xa5\\xad\\xe6\\xa1\\xb6\\xe8\\xae\\xbe\\xe8\\xae\\xa1/2000-2999/2227/2227/6550345.psd'\n",
      "文件重命名：b'G:/\\xe9\\xa5\\xad\\xe6\\xa1\\xb6\\xe8\\xae\\xbe\\xe8\\xae\\xa1/2000-2999/2227/2227/6550382.psd'\n",
      "文件重命名：b'G:/\\xe9\\xa5\\xad\\xe6\\xa1\\xb6\\xe8\\xae\\xbe\\xe8\\xae\\xa1/2000-2999/2227/2227/6550437.psd'\n",
      "文件重命名：b'G:/\\xe9\\xa5\\xad\\xe6\\xa1\\xb6\\xe8\\xae\\xbe\\xe8\\xae\\xa1/2000-2999/2227/2227/6550483.psd'\n",
      "文件重命名：b'G:/\\xe9\\xa5\\xad\\xe6\\xa1\\xb6\\xe8\\xae\\xbe\\xe8\\xae\\xa1/2000-2999/2227/2227/6550576.psd'\n",
      "文件重命名：b'G:/\\xe9\\xa5\\xad\\xe6\\xa1\\xb6\\xe8\\xae\\xbe\\xe8\\xae\\xa1/2000-2999/2227/2227/6550612.psd'\n",
      "文件重命名：b'G:/\\xe9\\xa5\\xad\\xe6\\xa1\\xb6\\xe8\\xae\\xbe\\xe8\\xae\\xa1/2000-2999/2227/2227/6550668.psd'\n",
      "文件重命名：b'G:/\\xe9\\xa5\\xad\\xe6\\xa1\\xb6\\xe8\\xae\\xbe\\xe8\\xae\\xa1/2000-2999/2227/2227/6550673.psd'\n",
      "文件重命名：b'G:/\\xe9\\xa5\\xad\\xe6\\xa1\\xb6\\xe8\\xae\\xbe\\xe8\\xae\\xa1/2000-2999/2227/2227/6550687.psd'\n",
      "文件重命名：b'G:/\\xe9\\xa5\\xad\\xe6\\xa1\\xb6\\xe8\\xae\\xbe\\xe8\\xae\\xa1/2000-2999/2227/2227/6550707.psd'\n",
      "文件重命名：b'G:/\\xe9\\xa5\\xad\\xe6\\xa1\\xb6\\xe8\\xae\\xbe\\xe8\\xae\\xa1/2000-2999/2227/2227/6550756.psd'\n",
      "文件重命名：b'G:/\\xe9\\xa5\\xad\\xe6\\xa1\\xb6\\xe8\\xae\\xbe\\xe8\\xae\\xa1/2000-2999/2227/2227/6550791.psd'\n",
      "文件重命名：b'G:/\\xe9\\xa5\\xad\\xe6\\xa1\\xb6\\xe8\\xae\\xbe\\xe8\\xae\\xa1/2000-2999/2227/2227/6550814.psd'\n",
      "文件重命名：b'G:/\\xe9\\xa5\\xad\\xe6\\xa1\\xb6\\xe8\\xae\\xbe\\xe8\\xae\\xa1/2000-2999/2227/2227/6550848.psd'\n",
      "文件重命名：b'G:/\\xe9\\xa5\\xad\\xe6\\xa1\\xb6\\xe8\\xae\\xbe\\xe8\\xae\\xa1/2000-2999/2227/2227/test(1).psd'\n",
      "文件重命名：b'G:/\\xe9\\xa5\\xad\\xe6\\xa1\\xb6\\xe8\\xae\\xbe\\xe8\\xae\\xa1/2000-2999/2227/2227/test(10).psd'\n",
      "文件重命名：b'G:/\\xe9\\xa5\\xad\\xe6\\xa1\\xb6\\xe8\\xae\\xbe\\xe8\\xae\\xa1/2000-2999/2227/2227/test(11).psd'\n",
      "文件重命名：b'G:/\\xe9\\xa5\\xad\\xe6\\xa1\\xb6\\xe8\\xae\\xbe\\xe8\\xae\\xa1/2000-2999/2227/2227/test(12).psd'\n",
      "文件重命名：b'G:/\\xe9\\xa5\\xad\\xe6\\xa1\\xb6\\xe8\\xae\\xbe\\xe8\\xae\\xa1/2000-2999/2227/2227/test(13).psd'\n",
      "文件重命名：b'G:/\\xe9\\xa5\\xad\\xe6\\xa1\\xb6\\xe8\\xae\\xbe\\xe8\\xae\\xa1/2000-2999/2227/2227/test(14).psd'\n",
      "文件重命名：b'G:/\\xe9\\xa5\\xad\\xe6\\xa1\\xb6\\xe8\\xae\\xbe\\xe8\\xae\\xa1/2000-2999/2227/2227/test(15).psd'\n",
      "文件重命名：b'G:/\\xe9\\xa5\\xad\\xe6\\xa1\\xb6\\xe8\\xae\\xbe\\xe8\\xae\\xa1/2000-2999/2227/2227/test(2).psd'\n",
      "文件重命名：b'G:/\\xe9\\xa5\\xad\\xe6\\xa1\\xb6\\xe8\\xae\\xbe\\xe8\\xae\\xa1/2000-2999/2227/2227/test(3).psd'\n",
      "文件重命名：b'G:/\\xe9\\xa5\\xad\\xe6\\xa1\\xb6\\xe8\\xae\\xbe\\xe8\\xae\\xa1/2000-2999/2227/2227/test(4).psd'\n",
      "文件重命名：b'G:/\\xe9\\xa5\\xad\\xe6\\xa1\\xb6\\xe8\\xae\\xbe\\xe8\\xae\\xa1/2000-2999/2227/2227/test(5).psd'\n",
      "文件重命名：b'G:/\\xe9\\xa5\\xad\\xe6\\xa1\\xb6\\xe8\\xae\\xbe\\xe8\\xae\\xa1/2000-2999/2227/2227/test(6).psd'\n",
      "文件重命名：b'G:/\\xe9\\xa5\\xad\\xe6\\xa1\\xb6\\xe8\\xae\\xbe\\xe8\\xae\\xa1/2000-2999/2227/2227/test(7).psd'\n",
      "文件重命名：b'G:/\\xe9\\xa5\\xad\\xe6\\xa1\\xb6\\xe8\\xae\\xbe\\xe8\\xae\\xa1/2000-2999/2227/2227/test(8).psd'\n",
      "文件重命名：b'G:/\\xe9\\xa5\\xad\\xe6\\xa1\\xb6\\xe8\\xae\\xbe\\xe8\\xae\\xa1/2000-2999/2227/2227/test(9).psd'\n"
     ]
    },
    {
     "name": "stderr",
     "output_type": "stream",
     "text": [
      "PSD添加广告生成图片:   0%|                                                   | 0/15 [00:00<?, ?it/s]"
     ]
    },
    {
     "name": "stdout",
     "output_type": "stream",
     "text": [
      "\n",
      "\n",
      "处理文件:G:/饭桶设计/2000-2999/2227/2227/饭桶设计(1).psd\n",
      "导出PNG\n",
      "插入广告\n"
     ]
    },
    {
     "name": "stderr",
     "output_type": "stream",
     "text": [
      "PSD添加广告生成图片:   7%|██▊                                        | 1/15 [00:22<05:20, 22.88s/it]"
     ]
    },
    {
     "name": "stdout",
     "output_type": "stream",
     "text": [
      "\n",
      "\n",
      "处理文件:G:/饭桶设计/2000-2999/2227/2227/饭桶设计(2).psd\n",
      "导出PNG\n",
      "插入广告\n"
     ]
    },
    {
     "name": "stderr",
     "output_type": "stream",
     "text": [
      "PSD添加广告生成图片:  13%|█████▋                                     | 2/15 [00:47<05:10, 23.86s/it]"
     ]
    },
    {
     "name": "stdout",
     "output_type": "stream",
     "text": [
      "\n",
      "\n",
      "处理文件:G:/饭桶设计/2000-2999/2227/2227/饭桶设计(3).psd\n",
      "导出PNG\n",
      "插入广告\n"
     ]
    },
    {
     "name": "stderr",
     "output_type": "stream",
     "text": [
      "PSD添加广告生成图片:  20%|████████▌                                  | 3/15 [01:06<04:18, 21.52s/it]"
     ]
    },
    {
     "name": "stdout",
     "output_type": "stream",
     "text": [
      "\n",
      "\n",
      "处理文件:G:/饭桶设计/2000-2999/2227/2227/饭桶设计(4).psd\n",
      "导出PNG\n",
      "插入广告\n"
     ]
    },
    {
     "name": "stderr",
     "output_type": "stream",
     "text": [
      "PSD添加广告生成图片:  27%|███████████▍                               | 4/15 [01:21<03:31, 19.25s/it]"
     ]
    },
    {
     "name": "stdout",
     "output_type": "stream",
     "text": [
      "\n",
      "\n",
      "处理文件:G:/饭桶设计/2000-2999/2227/2227/饭桶设计(5).psd\n",
      "导出PNG\n",
      "插入广告\n"
     ]
    },
    {
     "name": "stderr",
     "output_type": "stream",
     "text": [
      "PSD添加广告生成图片:  33%|██████████████▎                            | 5/15 [01:39<03:05, 18.51s/it]"
     ]
    },
    {
     "name": "stdout",
     "output_type": "stream",
     "text": [
      "\n",
      "\n",
      "处理文件:G:/饭桶设计/2000-2999/2227/2227/饭桶设计(6).psd\n",
      "导出PNG\n",
      "插入广告\n"
     ]
    },
    {
     "name": "stderr",
     "output_type": "stream",
     "text": [
      "PSD添加广告生成图片:  40%|█████████████████▏                         | 6/15 [01:49<02:21, 15.75s/it]"
     ]
    },
    {
     "name": "stdout",
     "output_type": "stream",
     "text": [
      "\n",
      "\n",
      "处理文件:G:/饭桶设计/2000-2999/2227/2227/饭桶设计(7).psd\n",
      "导出PNG\n",
      "插入广告\n"
     ]
    },
    {
     "name": "stderr",
     "output_type": "stream",
     "text": [
      "PSD添加广告生成图片:  47%|████████████████████                       | 7/15 [02:00<01:54, 14.31s/it]"
     ]
    },
    {
     "name": "stdout",
     "output_type": "stream",
     "text": [
      "\n",
      "\n",
      "处理文件:G:/饭桶设计/2000-2999/2227/2227/饭桶设计(8).psd\n",
      "导出PNG\n",
      "插入广告\n"
     ]
    },
    {
     "name": "stderr",
     "output_type": "stream",
     "text": [
      "PSD添加广告生成图片:  53%|██████████████████████▉                    | 8/15 [02:05<01:18, 11.21s/it]"
     ]
    },
    {
     "name": "stdout",
     "output_type": "stream",
     "text": [
      "\n",
      "\n",
      "处理文件:G:/饭桶设计/2000-2999/2227/2227/饭桶设计(9).psd\n",
      "导出PNG\n",
      "插入广告\n"
     ]
    },
    {
     "name": "stderr",
     "output_type": "stream",
     "text": [
      "PSD添加广告生成图片:  60%|█████████████████████████▊                 | 9/15 [02:09<00:53,  9.00s/it]"
     ]
    },
    {
     "name": "stdout",
     "output_type": "stream",
     "text": [
      "\n",
      "\n",
      "处理文件:G:/饭桶设计/2000-2999/2227/2227/饭桶设计(10).psd\n",
      "导出PNG\n",
      "插入广告\n"
     ]
    },
    {
     "name": "stderr",
     "output_type": "stream",
     "text": [
      "PSD添加广告生成图片:  67%|████████████████████████████              | 10/15 [02:29<01:01, 12.38s/it]"
     ]
    },
    {
     "name": "stdout",
     "output_type": "stream",
     "text": [
      "\n",
      "\n",
      "处理文件:G:/饭桶设计/2000-2999/2227/2227/饭桶设计(11).psd\n",
      "导出PNG\n",
      "插入广告\n"
     ]
    },
    {
     "name": "stderr",
     "output_type": "stream",
     "text": [
      "PSD添加广告生成图片:  73%|██████████████████████████████▊           | 11/15 [02:40<00:47, 11.84s/it]"
     ]
    },
    {
     "name": "stdout",
     "output_type": "stream",
     "text": [
      "\n",
      "\n",
      "处理文件:G:/饭桶设计/2000-2999/2227/2227/饭桶设计(12).psd\n",
      "导出PNG\n",
      "插入广告\n"
     ]
    },
    {
     "name": "stderr",
     "output_type": "stream",
     "text": [
      "PSD添加广告生成图片:  80%|█████████████████████████████████▌        | 12/15 [02:53<00:37, 12.43s/it]"
     ]
    },
    {
     "name": "stdout",
     "output_type": "stream",
     "text": [
      "\n",
      "\n",
      "处理文件:G:/饭桶设计/2000-2999/2227/2227/饭桶设计(13).psd\n",
      "导出PNG\n",
      "插入广告\n"
     ]
    },
    {
     "name": "stderr",
     "output_type": "stream",
     "text": [
      "PSD添加广告生成图片:  87%|████████████████████████████████████▍     | 13/15 [03:01<00:21, 10.86s/it]"
     ]
    },
    {
     "name": "stdout",
     "output_type": "stream",
     "text": [
      "\n",
      "\n",
      "处理文件:G:/饭桶设计/2000-2999/2227/2227/饭桶设计(14).psd\n",
      "导出PNG\n",
      "插入广告\n"
     ]
    },
    {
     "name": "stderr",
     "output_type": "stream",
     "text": [
      "PSD添加广告生成图片:  93%|███████████████████████████████████████▏  | 14/15 [03:12<00:10, 10.99s/it]"
     ]
    },
    {
     "name": "stdout",
     "output_type": "stream",
     "text": [
      "\n",
      "\n",
      "处理文件:G:/饭桶设计/2000-2999/2227/2227/饭桶设计(15).psd\n",
      "导出PNG\n",
      "插入广告\n"
     ]
    },
    {
     "name": "stderr",
     "output_type": "stream",
     "text": [
      "PSD添加广告生成图片: 100%|██████████████████████████████████████████| 15/15 [03:31<00:00, 14.11s/it]\n",
      "AI导出PNG: 0it [00:00, ?it/s]\n",
      "PPT导出PNG: 0it [00:00, ?it/s]\n",
      "复制到制定目录: 100%|██████████████████████████████████████████████| 15/15 [00:00<00:00, 239.99it/s]\n",
      "图片添加水印: 100%|█████████████████████████████████████████████████| 15/15 [00:08<00:00,  1.70it/s]\n",
      "解压ZIP: 100%|██████████████████████████████████████████████████████| 30/30 [01:01<00:00,  2.06s/it]\n",
      "解压RAR: 0it [00:00, ?it/s]\n"
     ]
    },
    {
     "name": "stdout",
     "output_type": "stream",
     "text": [
      "移动到根目录:b'G:/\\xe9\\xa5\\xad\\xe6\\xa1\\xb6\\xe8\\xae\\xbe\\xe8\\xae\\xa1/2000-2999/2228/2228/7834528.psd'\n",
      "移动到根目录:b'G:/\\xe9\\xa5\\xad\\xe6\\xa1\\xb6\\xe8\\xae\\xbe\\xe8\\xae\\xa1/2000-2999/2228/2228/7834529.jpg'\n",
      "移动到根目录:b'G:/\\xe9\\xa5\\xad\\xe6\\xa1\\xb6\\xe8\\xae\\xbe\\xe8\\xae\\xa1/2000-2999/2228/2228/7834530.jpg'\n",
      "移动到根目录:b'G:/\\xe9\\xa5\\xad\\xe6\\xa1\\xb6\\xe8\\xae\\xbe\\xe8\\xae\\xa1/2000-2999/2228/2228/7851297.psd'\n",
      "移动到根目录:b'G:/\\xe9\\xa5\\xad\\xe6\\xa1\\xb6\\xe8\\xae\\xbe\\xe8\\xae\\xa1/2000-2999/2228/2228/7851298.jpg'\n",
      "移动到根目录:b'G:/\\xe9\\xa5\\xad\\xe6\\xa1\\xb6\\xe8\\xae\\xbe\\xe8\\xae\\xa1/2000-2999/2228/2228/7851300.jpg'\n",
      "移动到根目录:b'G:/\\xe9\\xa5\\xad\\xe6\\xa1\\xb6\\xe8\\xae\\xbe\\xe8\\xae\\xa1/2000-2999/2228/2228/7834514.psd'\n",
      "移动到根目录:b'G:/\\xe9\\xa5\\xad\\xe6\\xa1\\xb6\\xe8\\xae\\xbe\\xe8\\xae\\xa1/2000-2999/2228/2228/7834515.jpg'\n",
      "移动到根目录:b'G:/\\xe9\\xa5\\xad\\xe6\\xa1\\xb6\\xe8\\xae\\xbe\\xe8\\xae\\xa1/2000-2999/2228/2228/7834516.jpg'\n",
      "移动到根目录:b'G:/\\xe9\\xa5\\xad\\xe6\\xa1\\xb6\\xe8\\xae\\xbe\\xe8\\xae\\xa1/2000-2999/2228/2228/7852697.psd'\n",
      "移动到根目录:b'G:/\\xe9\\xa5\\xad\\xe6\\xa1\\xb6\\xe8\\xae\\xbe\\xe8\\xae\\xa1/2000-2999/2228/2228/7852698.jpg'\n",
      "移动到根目录:b'G:/\\xe9\\xa5\\xad\\xe6\\xa1\\xb6\\xe8\\xae\\xbe\\xe8\\xae\\xa1/2000-2999/2228/2228/7852699.jpg'\n",
      "移动到根目录:b'G:/\\xe9\\xa5\\xad\\xe6\\xa1\\xb6\\xe8\\xae\\xbe\\xe8\\xae\\xa1/2000-2999/2228/2228/7840387.psd'\n",
      "移动到根目录:b'G:/\\xe9\\xa5\\xad\\xe6\\xa1\\xb6\\xe8\\xae\\xbe\\xe8\\xae\\xa1/2000-2999/2228/2228/7840392.jpg'\n",
      "移动到根目录:b'G:/\\xe9\\xa5\\xad\\xe6\\xa1\\xb6\\xe8\\xae\\xbe\\xe8\\xae\\xa1/2000-2999/2228/2228/7840394.jpg'\n",
      "移动到根目录:b'G:/\\xe9\\xa5\\xad\\xe6\\xa1\\xb6\\xe8\\xae\\xbe\\xe8\\xae\\xa1/2000-2999/2228/2228/7851261.psd'\n",
      "移动到根目录:b'G:/\\xe9\\xa5\\xad\\xe6\\xa1\\xb6\\xe8\\xae\\xbe\\xe8\\xae\\xa1/2000-2999/2228/2228/7851263.jpg'\n",
      "移动到根目录:b'G:/\\xe9\\xa5\\xad\\xe6\\xa1\\xb6\\xe8\\xae\\xbe\\xe8\\xae\\xa1/2000-2999/2228/2228/7851265.jpg'\n",
      "移动到根目录:b'G:/\\xe9\\xa5\\xad\\xe6\\xa1\\xb6\\xe8\\xae\\xbe\\xe8\\xae\\xa1/2000-2999/2228/2228/7834524.psd'\n",
      "移动到根目录:b'G:/\\xe9\\xa5\\xad\\xe6\\xa1\\xb6\\xe8\\xae\\xbe\\xe8\\xae\\xa1/2000-2999/2228/2228/7834525.jpg'\n",
      "移动到根目录:b'G:/\\xe9\\xa5\\xad\\xe6\\xa1\\xb6\\xe8\\xae\\xbe\\xe8\\xae\\xa1/2000-2999/2228/2228/7834526.jpg'\n",
      "移动到根目录:b'G:/\\xe9\\xa5\\xad\\xe6\\xa1\\xb6\\xe8\\xae\\xbe\\xe8\\xae\\xa1/2000-2999/2228/2228/7834498.psd'\n",
      "移动到根目录:b'G:/\\xe9\\xa5\\xad\\xe6\\xa1\\xb6\\xe8\\xae\\xbe\\xe8\\xae\\xa1/2000-2999/2228/2228/7834499.jpg'\n",
      "移动到根目录:b'G:/\\xe9\\xa5\\xad\\xe6\\xa1\\xb6\\xe8\\xae\\xbe\\xe8\\xae\\xa1/2000-2999/2228/2228/7834503.jpg'\n",
      "移动到根目录:b'G:/\\xe9\\xa5\\xad\\xe6\\xa1\\xb6\\xe8\\xae\\xbe\\xe8\\xae\\xa1/2000-2999/2228/2228/7834569.psd'\n",
      "移动到根目录:b'G:/\\xe9\\xa5\\xad\\xe6\\xa1\\xb6\\xe8\\xae\\xbe\\xe8\\xae\\xa1/2000-2999/2228/2228/7834570.jpg'\n",
      "移动到根目录:b'G:/\\xe9\\xa5\\xad\\xe6\\xa1\\xb6\\xe8\\xae\\xbe\\xe8\\xae\\xa1/2000-2999/2228/2228/7834571.jpg'\n",
      "移动到根目录:b'G:/\\xe9\\xa5\\xad\\xe6\\xa1\\xb6\\xe8\\xae\\xbe\\xe8\\xae\\xa1/2000-2999/2228/2228/7851372.psd'\n",
      "移动到根目录:b'G:/\\xe9\\xa5\\xad\\xe6\\xa1\\xb6\\xe8\\xae\\xbe\\xe8\\xae\\xa1/2000-2999/2228/2228/7851373.jpg'\n",
      "移动到根目录:b'G:/\\xe9\\xa5\\xad\\xe6\\xa1\\xb6\\xe8\\xae\\xbe\\xe8\\xae\\xa1/2000-2999/2228/2228/7851374.jpg'\n",
      "移动到根目录:b'G:/\\xe9\\xa5\\xad\\xe6\\xa1\\xb6\\xe8\\xae\\xbe\\xe8\\xae\\xa1/2000-2999/2228/2228/7851307.jpg'\n",
      "移动到根目录:b'G:/\\xe9\\xa5\\xad\\xe6\\xa1\\xb6\\xe8\\xae\\xbe\\xe8\\xae\\xa1/2000-2999/2228/2228/7858152.psd'\n",
      "移动到根目录:b'G:/\\xe9\\xa5\\xad\\xe6\\xa1\\xb6\\xe8\\xae\\xbe\\xe8\\xae\\xa1/2000-2999/2228/2228/7858153.jpg'\n",
      "移动到根目录:b'G:/\\xe9\\xa5\\xad\\xe6\\xa1\\xb6\\xe8\\xae\\xbe\\xe8\\xae\\xa1/2000-2999/2228/2228/7851363.psd'\n",
      "移动到根目录:b'G:/\\xe9\\xa5\\xad\\xe6\\xa1\\xb6\\xe8\\xae\\xbe\\xe8\\xae\\xa1/2000-2999/2228/2228/7851364.jpg'\n",
      "移动到根目录:b'G:/\\xe9\\xa5\\xad\\xe6\\xa1\\xb6\\xe8\\xae\\xbe\\xe8\\xae\\xa1/2000-2999/2228/2228/7851365.jpg'\n",
      "移动到根目录:b'G:/\\xe9\\xa5\\xad\\xe6\\xa1\\xb6\\xe8\\xae\\xbe\\xe8\\xae\\xa1/2000-2999/2228/2228/7834554.psd'\n",
      "移动到根目录:b'G:/\\xe9\\xa5\\xad\\xe6\\xa1\\xb6\\xe8\\xae\\xbe\\xe8\\xae\\xa1/2000-2999/2228/2228/7834555.jpg'\n",
      "移动到根目录:b'G:/\\xe9\\xa5\\xad\\xe6\\xa1\\xb6\\xe8\\xae\\xbe\\xe8\\xae\\xa1/2000-2999/2228/2228/7834556.jpg'\n",
      "移动到根目录:b'G:/\\xe9\\xa5\\xad\\xe6\\xa1\\xb6\\xe8\\xae\\xbe\\xe8\\xae\\xa1/2000-2999/2228/2228/7840467.psd'\n",
      "移动到根目录:b'G:/\\xe9\\xa5\\xad\\xe6\\xa1\\xb6\\xe8\\xae\\xbe\\xe8\\xae\\xa1/2000-2999/2228/2228/7840468.jpg'\n",
      "移动到根目录:b'G:/\\xe9\\xa5\\xad\\xe6\\xa1\\xb6\\xe8\\xae\\xbe\\xe8\\xae\\xa1/2000-2999/2228/2228/7840469.jpg'\n",
      "移动到根目录:b'G:/\\xe9\\xa5\\xad\\xe6\\xa1\\xb6\\xe8\\xae\\xbe\\xe8\\xae\\xa1/2000-2999/2228/2228/7840582.psd'\n",
      "移动到根目录:b'G:/\\xe9\\xa5\\xad\\xe6\\xa1\\xb6\\xe8\\xae\\xbe\\xe8\\xae\\xa1/2000-2999/2228/2228/7840583.jpg'\n",
      "移动到根目录:b'G:/\\xe9\\xa5\\xad\\xe6\\xa1\\xb6\\xe8\\xae\\xbe\\xe8\\xae\\xa1/2000-2999/2228/2228/7840584.jpg'\n",
      "移动到根目录:b'G:/\\xe9\\xa5\\xad\\xe6\\xa1\\xb6\\xe8\\xae\\xbe\\xe8\\xae\\xa1/2000-2999/2228/2228/7851465.psd'\n",
      "移动到根目录:b'G:/\\xe9\\xa5\\xad\\xe6\\xa1\\xb6\\xe8\\xae\\xbe\\xe8\\xae\\xa1/2000-2999/2228/2228/7851466.jpg'\n",
      "移动到根目录:b'G:/\\xe9\\xa5\\xad\\xe6\\xa1\\xb6\\xe8\\xae\\xbe\\xe8\\xae\\xa1/2000-2999/2228/2228/7851467.jpg'\n",
      "移动到根目录:b'G:/\\xe9\\xa5\\xad\\xe6\\xa1\\xb6\\xe8\\xae\\xbe\\xe8\\xae\\xa1/2000-2999/2228/2228/7840424.psd'\n",
      "移动到根目录:b'G:/\\xe9\\xa5\\xad\\xe6\\xa1\\xb6\\xe8\\xae\\xbe\\xe8\\xae\\xa1/2000-2999/2228/2228/7840428.jpg'\n",
      "移动到根目录:b'G:/\\xe9\\xa5\\xad\\xe6\\xa1\\xb6\\xe8\\xae\\xbe\\xe8\\xae\\xa1/2000-2999/2228/2228/7840429.jpg'\n",
      "移动到根目录:b'G:/\\xe9\\xa5\\xad\\xe6\\xa1\\xb6\\xe8\\xae\\xbe\\xe8\\xae\\xa1/2000-2999/2228/2228/7851421.psd'\n",
      "移动到根目录:b'G:/\\xe9\\xa5\\xad\\xe6\\xa1\\xb6\\xe8\\xae\\xbe\\xe8\\xae\\xa1/2000-2999/2228/2228/7851424.jpg'\n",
      "移动到根目录:b'G:/\\xe9\\xa5\\xad\\xe6\\xa1\\xb6\\xe8\\xae\\xbe\\xe8\\xae\\xa1/2000-2999/2228/2228/7851425.jpg'\n",
      "移动到根目录:b'G:/\\xe9\\xa5\\xad\\xe6\\xa1\\xb6\\xe8\\xae\\xbe\\xe8\\xae\\xa1/2000-2999/2228/2228/7840372.psd'\n",
      "移动到根目录:b'G:/\\xe9\\xa5\\xad\\xe6\\xa1\\xb6\\xe8\\xae\\xbe\\xe8\\xae\\xa1/2000-2999/2228/2228/7840373.jpg'\n",
      "移动到根目录:b'G:/\\xe9\\xa5\\xad\\xe6\\xa1\\xb6\\xe8\\xae\\xbe\\xe8\\xae\\xa1/2000-2999/2228/2228/7840374.jpg'\n",
      "移动到根目录:b'G:/\\xe9\\xa5\\xad\\xe6\\xa1\\xb6\\xe8\\xae\\xbe\\xe8\\xae\\xa1/2000-2999/2228/2228/7851319.psd'\n",
      "移动到根目录:b'G:/\\xe9\\xa5\\xad\\xe6\\xa1\\xb6\\xe8\\xae\\xbe\\xe8\\xae\\xa1/2000-2999/2228/2228/7851320.jpg'\n",
      "移动到根目录:b'G:/\\xe9\\xa5\\xad\\xe6\\xa1\\xb6\\xe8\\xae\\xbe\\xe8\\xae\\xa1/2000-2999/2228/2228/7851321.jpg'\n",
      "移动到根目录:b'G:/\\xe9\\xa5\\xad\\xe6\\xa1\\xb6\\xe8\\xae\\xbe\\xe8\\xae\\xa1/2000-2999/2228/2228/7851336.jpg'\n",
      "移动到根目录:b'G:/\\xe9\\xa5\\xad\\xe6\\xa1\\xb6\\xe8\\xae\\xbe\\xe8\\xae\\xa1/2000-2999/2228/2228/7858173.psd'\n",
      "移动到根目录:b'G:/\\xe9\\xa5\\xad\\xe6\\xa1\\xb6\\xe8\\xae\\xbe\\xe8\\xae\\xa1/2000-2999/2228/2228/7858175.jpg'\n",
      "移动到根目录:b'G:/\\xe9\\xa5\\xad\\xe6\\xa1\\xb6\\xe8\\xae\\xbe\\xe8\\xae\\xa1/2000-2999/2228/2228/7739961.jpg'\n",
      "移动到根目录:b'G:/\\xe9\\xa5\\xad\\xe6\\xa1\\xb6\\xe8\\xae\\xbe\\xe8\\xae\\xa1/2000-2999/2228/2228/7753760.psd'\n",
      "移动到根目录:b'G:/\\xe9\\xa5\\xad\\xe6\\xa1\\xb6\\xe8\\xae\\xbe\\xe8\\xae\\xa1/2000-2999/2228/2228/7753764.jpg'\n",
      "移动到根目录:b'G:/\\xe9\\xa5\\xad\\xe6\\xa1\\xb6\\xe8\\xae\\xbe\\xe8\\xae\\xa1/2000-2999/2228/2228/7840487.psd'\n",
      "移动到根目录:b'G:/\\xe9\\xa5\\xad\\xe6\\xa1\\xb6\\xe8\\xae\\xbe\\xe8\\xae\\xa1/2000-2999/2228/2228/7840489.jpg'\n",
      "移动到根目录:b'G:/\\xe9\\xa5\\xad\\xe6\\xa1\\xb6\\xe8\\xae\\xbe\\xe8\\xae\\xa1/2000-2999/2228/2228/7840490.jpg'\n",
      "移动到根目录:b'G:/\\xe9\\xa5\\xad\\xe6\\xa1\\xb6\\xe8\\xae\\xbe\\xe8\\xae\\xa1/2000-2999/2228/2228/7840558.psd'\n",
      "移动到根目录:b'G:/\\xe9\\xa5\\xad\\xe6\\xa1\\xb6\\xe8\\xae\\xbe\\xe8\\xae\\xa1/2000-2999/2228/2228/7840559.jpg'\n",
      "移动到根目录:b'G:/\\xe9\\xa5\\xad\\xe6\\xa1\\xb6\\xe8\\xae\\xbe\\xe8\\xae\\xa1/2000-2999/2228/2228/7840560.jpg'\n",
      "移动到根目录:b'G:/\\xe9\\xa5\\xad\\xe6\\xa1\\xb6\\xe8\\xae\\xbe\\xe8\\xae\\xa1/2000-2999/2228/2228/7840515.psd'\n",
      "移动到根目录:b'G:/\\xe9\\xa5\\xad\\xe6\\xa1\\xb6\\xe8\\xae\\xbe\\xe8\\xae\\xa1/2000-2999/2228/2228/7840517.jpg'\n",
      "移动到根目录:b'G:/\\xe9\\xa5\\xad\\xe6\\xa1\\xb6\\xe8\\xae\\xbe\\xe8\\xae\\xa1/2000-2999/2228/2228/7840519.jpg'\n",
      "移动到根目录:b'G:/\\xe9\\xa5\\xad\\xe6\\xa1\\xb6\\xe8\\xae\\xbe\\xe8\\xae\\xa1/2000-2999/2228/2228/7753633.jpg'\n",
      "移动到根目录:b'G:/\\xe9\\xa5\\xad\\xe6\\xa1\\xb6\\xe8\\xae\\xbe\\xe8\\xae\\xa1/2000-2999/2228/2228/7753646.psd'\n",
      "移动到根目录:b'G:/\\xe9\\xa5\\xad\\xe6\\xa1\\xb6\\xe8\\xae\\xbe\\xe8\\xae\\xa1/2000-2999/2228/2228/7753647.jpg'\n",
      "移动到根目录:b'G:/\\xe9\\xa5\\xad\\xe6\\xa1\\xb6\\xe8\\xae\\xbe\\xe8\\xae\\xa1/2000-2999/2228/2228/7840544.psd'\n",
      "移动到根目录:b'G:/\\xe9\\xa5\\xad\\xe6\\xa1\\xb6\\xe8\\xae\\xbe\\xe8\\xae\\xa1/2000-2999/2228/2228/7840547.jpg'\n",
      "移动到根目录:b'G:/\\xe9\\xa5\\xad\\xe6\\xa1\\xb6\\xe8\\xae\\xbe\\xe8\\xae\\xa1/2000-2999/2228/2228/7840549.jpg'\n",
      "移动到根目录:b'G:/\\xe9\\xa5\\xad\\xe6\\xa1\\xb6\\xe8\\xae\\xbe\\xe8\\xae\\xa1/2000-2999/2228/2228/7851406.psd'\n",
      "移动到根目录:b'G:/\\xe9\\xa5\\xad\\xe6\\xa1\\xb6\\xe8\\xae\\xbe\\xe8\\xae\\xa1/2000-2999/2228/2228/7851409.jpg'\n",
      "移动到根目录:b'G:/\\xe9\\xa5\\xad\\xe6\\xa1\\xb6\\xe8\\xae\\xbe\\xe8\\xae\\xa1/2000-2999/2228/2228/7851412.jpg'\n",
      "移动到根目录:b'G:/\\xe9\\xa5\\xad\\xe6\\xa1\\xb6\\xe8\\xae\\xbe\\xe8\\xae\\xa1/2000-2999/2228/2228/7834561.psd'\n",
      "移动到根目录:b'G:/\\xe9\\xa5\\xad\\xe6\\xa1\\xb6\\xe8\\xae\\xbe\\xe8\\xae\\xa1/2000-2999/2228/2228/7834562.jpg'\n",
      "移动到根目录:b'G:/\\xe9\\xa5\\xad\\xe6\\xa1\\xb6\\xe8\\xae\\xbe\\xe8\\xae\\xa1/2000-2999/2228/2228/7834563.jpg'\n",
      "移动到根目录:b'G:/\\xe9\\xa5\\xad\\xe6\\xa1\\xb6\\xe8\\xae\\xbe\\xe8\\xae\\xa1/2000-2999/2228/2228/7840574.psd'\n",
      "移动到根目录:b'G:/\\xe9\\xa5\\xad\\xe6\\xa1\\xb6\\xe8\\xae\\xbe\\xe8\\xae\\xa1/2000-2999/2228/2228/7840575.jpg'\n",
      "移动到根目录:b'G:/\\xe9\\xa5\\xad\\xe6\\xa1\\xb6\\xe8\\xae\\xbe\\xe8\\xae\\xa1/2000-2999/2228/2228/7840576.jpg'\n",
      "删除多余文件夹：G:\\饭桶设计\\2000-2999\\2228\\2228\\front-view-polo-shirt-ghost-model\n",
      "删除多余文件夹：G:\\饭桶设计\\2000-2999\\2228\\2228\\front-view-polo-shirt-ghost-model (1)\n",
      "删除多余文件夹：G:\\饭桶设计\\2000-2999\\2228\\2228\\front-view-polo-shirts-ghost-model\n",
      "删除多余文件夹：G:\\饭桶设计\\2000-2999\\2228\\2228\\high-angle-polo-shirt-ghost-model\n",
      "删除多余文件夹：G:\\饭桶设计\\2000-2999\\2228\\2228\\high-angle-polo-shirt-ghost-model (1)\n",
      "删除多余文件夹：G:\\饭桶设计\\2000-2999\\2228\\2228\\polo-shirt-ghost-model-arrangement\n",
      "删除多余文件夹：G:\\饭桶设计\\2000-2999\\2228\\2228\\polo-shirt-ghost-model-arrangement (1)\n",
      "删除多余文件夹：G:\\饭桶设计\\2000-2999\\2228\\2228\\polo-shirt-ghost-model-arrangement-front-view\n",
      "删除多余文件夹：G:\\饭桶设计\\2000-2999\\2228\\2228\\polo-shirt-ghost-model-back-view\n",
      "删除多余文件夹：G:\\饭桶设计\\2000-2999\\2228\\2228\\polo-shirt-ghost-model-back-view (1)\n",
      "删除多余文件夹：G:\\饭桶设计\\2000-2999\\2228\\2228\\polo-shirt-ghost-model-front-view\n",
      "删除多余文件夹：G:\\饭桶设计\\2000-2999\\2228\\2228\\polo-shirt-ghost-model-front-view (1)\n",
      "删除多余文件夹：G:\\饭桶设计\\2000-2999\\2228\\2228\\polo-shirt-ghost-model-front-view (2)\n",
      "删除多余文件夹：G:\\饭桶设计\\2000-2999\\2228\\2228\\polo-shirt-ghost-model-front-view (3)\n",
      "删除多余文件夹：G:\\饭桶设计\\2000-2999\\2228\\2228\\polo-shirt-ghost-model-front-view (4)\n",
      "删除多余文件夹：G:\\饭桶设计\\2000-2999\\2228\\2228\\polo-shirt-ghost-model-high-angle\n",
      "删除多余文件夹：G:\\饭桶设计\\2000-2999\\2228\\2228\\polo-shirt-ghost-model-high-angle (1)\n",
      "删除多余文件夹：G:\\饭桶设计\\2000-2999\\2228\\2228\\polo-shirt-ghost-model-side-view\n",
      "删除多余文件夹：G:\\饭桶设计\\2000-2999\\2228\\2228\\polo-shirt-ghost-model-side-view (1)\n",
      "删除多余文件夹：G:\\饭桶设计\\2000-2999\\2228\\2228\\polo-shirts-arrangement-flat-lay\n",
      "删除多余文件夹：G:\\饭桶设计\\2000-2999\\2228\\2228\\polo-shirts-arrangement-top-view\n",
      "删除多余文件夹：G:\\饭桶设计\\2000-2999\\2228\\2228\\polo-shirts-ghost-model-front-view\n",
      "删除多余文件夹：G:\\饭桶设计\\2000-2999\\2228\\2228\\red-polo-shirt-hanger\n",
      "删除多余文件夹：G:\\饭桶设计\\2000-2999\\2228\\2228\\red-polo-shirt-top-view\n",
      "删除多余文件夹：G:\\饭桶设计\\2000-2999\\2228\\2228\\red-polo-shirt-view\n",
      "删除多余文件夹：G:\\饭桶设计\\2000-2999\\2228\\2228\\red-white-polo-shirts-hangers\n",
      "删除多余文件夹：G:\\饭桶设计\\2000-2999\\2228\\2228\\red-white-polo-shirts-top-view\n",
      "删除多余文件夹：G:\\饭桶设计\\2000-2999\\2228\\2228\\side-view-polo-shirt-ghost-model\n",
      "删除多余文件夹：G:\\饭桶设计\\2000-2999\\2228\\2228\\side-view-polo-shirt-ghost-model (1)\n",
      "删除多余文件夹：G:\\饭桶设计\\2000-2999\\2228\\2228\\white-red-polo-shirts-arrangement-top-view\n"
     ]
    },
    {
     "name": "stderr",
     "output_type": "stream",
     "text": [
      "复制到制定目录: 100%|██████████████████████████████████████████████| 60/60 [00:00<00:00, 136.97it/s]\n"
     ]
    },
    {
     "name": "stdout",
     "output_type": "stream",
     "text": [
      "文件重命名：b'G:/\\xe9\\xa5\\xad\\xe6\\xa1\\xb6\\xe8\\xae\\xbe\\xe8\\xae\\xa1/2000-2999/2228/2228/7753646.psd'\n",
      "文件重命名：b'G:/\\xe9\\xa5\\xad\\xe6\\xa1\\xb6\\xe8\\xae\\xbe\\xe8\\xae\\xa1/2000-2999/2228/2228/7753760.psd'\n",
      "文件重命名：b'G:/\\xe9\\xa5\\xad\\xe6\\xa1\\xb6\\xe8\\xae\\xbe\\xe8\\xae\\xa1/2000-2999/2228/2228/7834498.psd'\n",
      "文件重命名：b'G:/\\xe9\\xa5\\xad\\xe6\\xa1\\xb6\\xe8\\xae\\xbe\\xe8\\xae\\xa1/2000-2999/2228/2228/7834514.psd'\n",
      "文件重命名：b'G:/\\xe9\\xa5\\xad\\xe6\\xa1\\xb6\\xe8\\xae\\xbe\\xe8\\xae\\xa1/2000-2999/2228/2228/7834524.psd'\n",
      "文件重命名：b'G:/\\xe9\\xa5\\xad\\xe6\\xa1\\xb6\\xe8\\xae\\xbe\\xe8\\xae\\xa1/2000-2999/2228/2228/7834528.psd'\n",
      "文件重命名：b'G:/\\xe9\\xa5\\xad\\xe6\\xa1\\xb6\\xe8\\xae\\xbe\\xe8\\xae\\xa1/2000-2999/2228/2228/7834554.psd'\n",
      "文件重命名：b'G:/\\xe9\\xa5\\xad\\xe6\\xa1\\xb6\\xe8\\xae\\xbe\\xe8\\xae\\xa1/2000-2999/2228/2228/7834561.psd'\n",
      "文件重命名：b'G:/\\xe9\\xa5\\xad\\xe6\\xa1\\xb6\\xe8\\xae\\xbe\\xe8\\xae\\xa1/2000-2999/2228/2228/7834569.psd'\n",
      "文件重命名：b'G:/\\xe9\\xa5\\xad\\xe6\\xa1\\xb6\\xe8\\xae\\xbe\\xe8\\xae\\xa1/2000-2999/2228/2228/7840372.psd'\n",
      "文件重命名：b'G:/\\xe9\\xa5\\xad\\xe6\\xa1\\xb6\\xe8\\xae\\xbe\\xe8\\xae\\xa1/2000-2999/2228/2228/7840387.psd'\n",
      "文件重命名：b'G:/\\xe9\\xa5\\xad\\xe6\\xa1\\xb6\\xe8\\xae\\xbe\\xe8\\xae\\xa1/2000-2999/2228/2228/7840424.psd'\n",
      "文件重命名：b'G:/\\xe9\\xa5\\xad\\xe6\\xa1\\xb6\\xe8\\xae\\xbe\\xe8\\xae\\xa1/2000-2999/2228/2228/7840467.psd'\n",
      "文件重命名：b'G:/\\xe9\\xa5\\xad\\xe6\\xa1\\xb6\\xe8\\xae\\xbe\\xe8\\xae\\xa1/2000-2999/2228/2228/7840487.psd'\n",
      "文件重命名：b'G:/\\xe9\\xa5\\xad\\xe6\\xa1\\xb6\\xe8\\xae\\xbe\\xe8\\xae\\xa1/2000-2999/2228/2228/7840515.psd'\n",
      "文件重命名：b'G:/\\xe9\\xa5\\xad\\xe6\\xa1\\xb6\\xe8\\xae\\xbe\\xe8\\xae\\xa1/2000-2999/2228/2228/7840544.psd'\n",
      "文件重命名：b'G:/\\xe9\\xa5\\xad\\xe6\\xa1\\xb6\\xe8\\xae\\xbe\\xe8\\xae\\xa1/2000-2999/2228/2228/7840558.psd'\n",
      "文件重命名：b'G:/\\xe9\\xa5\\xad\\xe6\\xa1\\xb6\\xe8\\xae\\xbe\\xe8\\xae\\xa1/2000-2999/2228/2228/7840574.psd'\n",
      "文件重命名：b'G:/\\xe9\\xa5\\xad\\xe6\\xa1\\xb6\\xe8\\xae\\xbe\\xe8\\xae\\xa1/2000-2999/2228/2228/7840582.psd'\n",
      "文件重命名：b'G:/\\xe9\\xa5\\xad\\xe6\\xa1\\xb6\\xe8\\xae\\xbe\\xe8\\xae\\xa1/2000-2999/2228/2228/7851261.psd'\n",
      "文件重命名：b'G:/\\xe9\\xa5\\xad\\xe6\\xa1\\xb6\\xe8\\xae\\xbe\\xe8\\xae\\xa1/2000-2999/2228/2228/7851297.psd'\n",
      "文件重命名：b'G:/\\xe9\\xa5\\xad\\xe6\\xa1\\xb6\\xe8\\xae\\xbe\\xe8\\xae\\xa1/2000-2999/2228/2228/7851319.psd'\n",
      "文件重命名：b'G:/\\xe9\\xa5\\xad\\xe6\\xa1\\xb6\\xe8\\xae\\xbe\\xe8\\xae\\xa1/2000-2999/2228/2228/7851363.psd'\n",
      "文件重命名：b'G:/\\xe9\\xa5\\xad\\xe6\\xa1\\xb6\\xe8\\xae\\xbe\\xe8\\xae\\xa1/2000-2999/2228/2228/7851372.psd'\n",
      "文件重命名：b'G:/\\xe9\\xa5\\xad\\xe6\\xa1\\xb6\\xe8\\xae\\xbe\\xe8\\xae\\xa1/2000-2999/2228/2228/7851406.psd'\n",
      "文件重命名：b'G:/\\xe9\\xa5\\xad\\xe6\\xa1\\xb6\\xe8\\xae\\xbe\\xe8\\xae\\xa1/2000-2999/2228/2228/7851421.psd'\n",
      "文件重命名：b'G:/\\xe9\\xa5\\xad\\xe6\\xa1\\xb6\\xe8\\xae\\xbe\\xe8\\xae\\xa1/2000-2999/2228/2228/7851465.psd'\n",
      "文件重命名：b'G:/\\xe9\\xa5\\xad\\xe6\\xa1\\xb6\\xe8\\xae\\xbe\\xe8\\xae\\xa1/2000-2999/2228/2228/7852697.psd'\n",
      "文件重命名：b'G:/\\xe9\\xa5\\xad\\xe6\\xa1\\xb6\\xe8\\xae\\xbe\\xe8\\xae\\xa1/2000-2999/2228/2228/7858152.psd'\n",
      "文件重命名：b'G:/\\xe9\\xa5\\xad\\xe6\\xa1\\xb6\\xe8\\xae\\xbe\\xe8\\xae\\xa1/2000-2999/2228/2228/7858173.psd'\n",
      "文件重命名：b'G:/\\xe9\\xa5\\xad\\xe6\\xa1\\xb6\\xe8\\xae\\xbe\\xe8\\xae\\xa1/2000-2999/2228/2228/test(1).psd'\n",
      "文件重命名：b'G:/\\xe9\\xa5\\xad\\xe6\\xa1\\xb6\\xe8\\xae\\xbe\\xe8\\xae\\xa1/2000-2999/2228/2228/test(10).psd'\n",
      "文件重命名：b'G:/\\xe9\\xa5\\xad\\xe6\\xa1\\xb6\\xe8\\xae\\xbe\\xe8\\xae\\xa1/2000-2999/2228/2228/test(11).psd'\n",
      "文件重命名：b'G:/\\xe9\\xa5\\xad\\xe6\\xa1\\xb6\\xe8\\xae\\xbe\\xe8\\xae\\xa1/2000-2999/2228/2228/test(12).psd'\n",
      "文件重命名：b'G:/\\xe9\\xa5\\xad\\xe6\\xa1\\xb6\\xe8\\xae\\xbe\\xe8\\xae\\xa1/2000-2999/2228/2228/test(13).psd'\n",
      "文件重命名：b'G:/\\xe9\\xa5\\xad\\xe6\\xa1\\xb6\\xe8\\xae\\xbe\\xe8\\xae\\xa1/2000-2999/2228/2228/test(14).psd'\n",
      "文件重命名：b'G:/\\xe9\\xa5\\xad\\xe6\\xa1\\xb6\\xe8\\xae\\xbe\\xe8\\xae\\xa1/2000-2999/2228/2228/test(15).psd'\n",
      "文件重命名：b'G:/\\xe9\\xa5\\xad\\xe6\\xa1\\xb6\\xe8\\xae\\xbe\\xe8\\xae\\xa1/2000-2999/2228/2228/test(16).psd'\n",
      "文件重命名：b'G:/\\xe9\\xa5\\xad\\xe6\\xa1\\xb6\\xe8\\xae\\xbe\\xe8\\xae\\xa1/2000-2999/2228/2228/test(17).psd'\n",
      "文件重命名：b'G:/\\xe9\\xa5\\xad\\xe6\\xa1\\xb6\\xe8\\xae\\xbe\\xe8\\xae\\xa1/2000-2999/2228/2228/test(18).psd'\n",
      "文件重命名：b'G:/\\xe9\\xa5\\xad\\xe6\\xa1\\xb6\\xe8\\xae\\xbe\\xe8\\xae\\xa1/2000-2999/2228/2228/test(19).psd'\n",
      "文件重命名：b'G:/\\xe9\\xa5\\xad\\xe6\\xa1\\xb6\\xe8\\xae\\xbe\\xe8\\xae\\xa1/2000-2999/2228/2228/test(2).psd'\n",
      "文件重命名：b'G:/\\xe9\\xa5\\xad\\xe6\\xa1\\xb6\\xe8\\xae\\xbe\\xe8\\xae\\xa1/2000-2999/2228/2228/test(20).psd'\n",
      "文件重命名：b'G:/\\xe9\\xa5\\xad\\xe6\\xa1\\xb6\\xe8\\xae\\xbe\\xe8\\xae\\xa1/2000-2999/2228/2228/test(21).psd'\n",
      "文件重命名：b'G:/\\xe9\\xa5\\xad\\xe6\\xa1\\xb6\\xe8\\xae\\xbe\\xe8\\xae\\xa1/2000-2999/2228/2228/test(22).psd'\n",
      "文件重命名：b'G:/\\xe9\\xa5\\xad\\xe6\\xa1\\xb6\\xe8\\xae\\xbe\\xe8\\xae\\xa1/2000-2999/2228/2228/test(23).psd'\n",
      "文件重命名：b'G:/\\xe9\\xa5\\xad\\xe6\\xa1\\xb6\\xe8\\xae\\xbe\\xe8\\xae\\xa1/2000-2999/2228/2228/test(24).psd'\n",
      "文件重命名：b'G:/\\xe9\\xa5\\xad\\xe6\\xa1\\xb6\\xe8\\xae\\xbe\\xe8\\xae\\xa1/2000-2999/2228/2228/test(25).psd'\n",
      "文件重命名：b'G:/\\xe9\\xa5\\xad\\xe6\\xa1\\xb6\\xe8\\xae\\xbe\\xe8\\xae\\xa1/2000-2999/2228/2228/test(26).psd'\n",
      "文件重命名：b'G:/\\xe9\\xa5\\xad\\xe6\\xa1\\xb6\\xe8\\xae\\xbe\\xe8\\xae\\xa1/2000-2999/2228/2228/test(27).psd'\n",
      "文件重命名：b'G:/\\xe9\\xa5\\xad\\xe6\\xa1\\xb6\\xe8\\xae\\xbe\\xe8\\xae\\xa1/2000-2999/2228/2228/test(28).psd'\n",
      "文件重命名：b'G:/\\xe9\\xa5\\xad\\xe6\\xa1\\xb6\\xe8\\xae\\xbe\\xe8\\xae\\xa1/2000-2999/2228/2228/test(29).psd'\n",
      "文件重命名：b'G:/\\xe9\\xa5\\xad\\xe6\\xa1\\xb6\\xe8\\xae\\xbe\\xe8\\xae\\xa1/2000-2999/2228/2228/test(3).psd'\n",
      "文件重命名：b'G:/\\xe9\\xa5\\xad\\xe6\\xa1\\xb6\\xe8\\xae\\xbe\\xe8\\xae\\xa1/2000-2999/2228/2228/test(30).psd'\n",
      "文件重命名：b'G:/\\xe9\\xa5\\xad\\xe6\\xa1\\xb6\\xe8\\xae\\xbe\\xe8\\xae\\xa1/2000-2999/2228/2228/test(4).psd'\n",
      "文件重命名：b'G:/\\xe9\\xa5\\xad\\xe6\\xa1\\xb6\\xe8\\xae\\xbe\\xe8\\xae\\xa1/2000-2999/2228/2228/test(5).psd'\n",
      "文件重命名：b'G:/\\xe9\\xa5\\xad\\xe6\\xa1\\xb6\\xe8\\xae\\xbe\\xe8\\xae\\xa1/2000-2999/2228/2228/test(6).psd'\n",
      "文件重命名：b'G:/\\xe9\\xa5\\xad\\xe6\\xa1\\xb6\\xe8\\xae\\xbe\\xe8\\xae\\xa1/2000-2999/2228/2228/test(7).psd'\n",
      "文件重命名：b'G:/\\xe9\\xa5\\xad\\xe6\\xa1\\xb6\\xe8\\xae\\xbe\\xe8\\xae\\xa1/2000-2999/2228/2228/test(8).psd'\n",
      "文件重命名：b'G:/\\xe9\\xa5\\xad\\xe6\\xa1\\xb6\\xe8\\xae\\xbe\\xe8\\xae\\xa1/2000-2999/2228/2228/test(9).psd'\n"
     ]
    },
    {
     "name": "stderr",
     "output_type": "stream",
     "text": [
      "PSD添加广告生成图片:   0%|                                                   | 0/30 [00:00<?, ?it/s]"
     ]
    },
    {
     "name": "stdout",
     "output_type": "stream",
     "text": [
      "\n",
      "\n",
      "处理文件:G:/饭桶设计/2000-2999/2228/2228/饭桶设计(1).psd\n",
      "导出PNG\n",
      "插入广告\n"
     ]
    },
    {
     "name": "stderr",
     "output_type": "stream",
     "text": [
      "PSD添加广告生成图片:   3%|█▍                                         | 1/30 [00:27<13:14, 27.39s/it]"
     ]
    },
    {
     "name": "stdout",
     "output_type": "stream",
     "text": [
      "\n",
      "\n",
      "处理文件:G:/饭桶设计/2000-2999/2228/2228/饭桶设计(2).psd\n",
      "导出PNG\n",
      "插入广告\n"
     ]
    },
    {
     "name": "stderr",
     "output_type": "stream",
     "text": [
      "PSD添加广告生成图片:   7%|██▊                                        | 2/30 [01:03<15:11, 32.55s/it]"
     ]
    },
    {
     "name": "stdout",
     "output_type": "stream",
     "text": [
      "\n",
      "\n",
      "处理文件:G:/饭桶设计/2000-2999/2228/2228/饭桶设计(3).psd\n",
      "导出PNG\n",
      "插入广告\n"
     ]
    },
    {
     "name": "stderr",
     "output_type": "stream",
     "text": [
      "PSD添加广告生成图片:  10%|████▎                                      | 3/30 [01:32<13:57, 31.03s/it]"
     ]
    },
    {
     "name": "stdout",
     "output_type": "stream",
     "text": [
      "\n",
      "\n",
      "处理文件:G:/饭桶设计/2000-2999/2228/2228/饭桶设计(4).psd\n",
      "导出PNG\n",
      "插入广告\n"
     ]
    },
    {
     "name": "stderr",
     "output_type": "stream",
     "text": [
      "PSD添加广告生成图片:  13%|█████▋                                     | 4/30 [01:51<11:24, 26.32s/it]"
     ]
    },
    {
     "name": "stdout",
     "output_type": "stream",
     "text": [
      "\n",
      "\n",
      "处理文件:G:/饭桶设计/2000-2999/2228/2228/饭桶设计(5).psd\n",
      "导出PNG\n",
      "插入广告\n"
     ]
    },
    {
     "name": "stderr",
     "output_type": "stream",
     "text": [
      "PSD添加广告生成图片:  17%|███████▏                                   | 5/30 [02:23<11:47, 28.29s/it]"
     ]
    },
    {
     "name": "stdout",
     "output_type": "stream",
     "text": [
      "\n",
      "\n",
      "处理文件:G:/饭桶设计/2000-2999/2228/2228/饭桶设计(6).psd\n",
      "导出PNG\n",
      "插入广告\n"
     ]
    },
    {
     "name": "stderr",
     "output_type": "stream",
     "text": [
      "PSD添加广告生成图片:  20%|████████▌                                  | 6/30 [02:55<11:50, 29.60s/it]"
     ]
    },
    {
     "name": "stdout",
     "output_type": "stream",
     "text": [
      "\n",
      "\n",
      "处理文件:G:/饭桶设计/2000-2999/2228/2228/饭桶设计(7).psd\n",
      "导出PNG\n",
      "插入广告\n"
     ]
    },
    {
     "name": "stderr",
     "output_type": "stream",
     "text": [
      "PSD添加广告生成图片:  23%|██████████                                 | 7/30 [03:28<11:40, 30.46s/it]"
     ]
    },
    {
     "name": "stdout",
     "output_type": "stream",
     "text": [
      "\n",
      "\n",
      "处理文件:G:/饭桶设计/2000-2999/2228/2228/饭桶设计(8).psd\n",
      "导出PNG\n",
      "插入广告\n"
     ]
    },
    {
     "name": "stderr",
     "output_type": "stream",
     "text": [
      "PSD添加广告生成图片:  27%|███████████▍                               | 8/30 [03:51<10:19, 28.15s/it]"
     ]
    },
    {
     "name": "stdout",
     "output_type": "stream",
     "text": [
      "\n",
      "\n",
      "处理文件:G:/饭桶设计/2000-2999/2228/2228/饭桶设计(9).psd\n",
      "导出PNG\n",
      "插入广告\n"
     ]
    },
    {
     "name": "stderr",
     "output_type": "stream",
     "text": [
      "PSD添加广告生成图片:  30%|████████████▉                              | 9/30 [04:19<09:50, 28.12s/it]"
     ]
    },
    {
     "name": "stdout",
     "output_type": "stream",
     "text": [
      "\n",
      "\n",
      "处理文件:G:/饭桶设计/2000-2999/2228/2228/饭桶设计(10).psd\n",
      "导出PNG\n",
      "插入广告\n"
     ]
    },
    {
     "name": "stderr",
     "output_type": "stream",
     "text": [
      "PSD添加广告生成图片:  33%|██████████████                            | 10/30 [04:46<09:17, 27.88s/it]"
     ]
    },
    {
     "name": "stdout",
     "output_type": "stream",
     "text": [
      "\n",
      "\n",
      "处理文件:G:/饭桶设计/2000-2999/2228/2228/饭桶设计(11).psd\n",
      "导出PNG\n",
      "插入广告\n"
     ]
    },
    {
     "name": "stderr",
     "output_type": "stream",
     "text": [
      "PSD添加广告生成图片:  37%|███████████████▍                          | 11/30 [05:15<08:54, 28.15s/it]"
     ]
    },
    {
     "name": "stdout",
     "output_type": "stream",
     "text": [
      "\n",
      "\n",
      "处理文件:G:/饭桶设计/2000-2999/2228/2228/饭桶设计(12).psd\n",
      "导出PNG\n",
      "插入广告\n"
     ]
    },
    {
     "name": "stderr",
     "output_type": "stream",
     "text": [
      "PSD添加广告生成图片:  40%|████████████████▊                         | 12/30 [05:43<08:27, 28.20s/it]"
     ]
    },
    {
     "name": "stdout",
     "output_type": "stream",
     "text": [
      "\n",
      "\n",
      "处理文件:G:/饭桶设计/2000-2999/2228/2228/饭桶设计(13).psd\n",
      "导出PNG\n",
      "插入广告\n"
     ]
    },
    {
     "name": "stderr",
     "output_type": "stream",
     "text": [
      "PSD添加广告生成图片:  43%|██████████████████▏                       | 13/30 [06:12<08:02, 28.36s/it]"
     ]
    },
    {
     "name": "stdout",
     "output_type": "stream",
     "text": [
      "\n",
      "\n",
      "处理文件:G:/饭桶设计/2000-2999/2228/2228/饭桶设计(14).psd\n",
      "导出PNG\n",
      "插入广告\n"
     ]
    },
    {
     "name": "stderr",
     "output_type": "stream",
     "text": [
      "PSD添加广告生成图片:  47%|███████████████████▌                      | 14/30 [06:49<08:15, 30.94s/it]"
     ]
    },
    {
     "name": "stdout",
     "output_type": "stream",
     "text": [
      "\n",
      "\n",
      "处理文件:G:/饭桶设计/2000-2999/2228/2228/饭桶设计(15).psd\n",
      "导出PNG\n",
      "插入广告\n"
     ]
    },
    {
     "name": "stderr",
     "output_type": "stream",
     "text": [
      "PSD添加广告生成图片:  50%|█████████████████████                     | 15/30 [07:13<07:14, 28.98s/it]"
     ]
    },
    {
     "name": "stdout",
     "output_type": "stream",
     "text": [
      "\n",
      "\n",
      "处理文件:G:/饭桶设计/2000-2999/2228/2228/饭桶设计(16).psd\n",
      "导出PNG\n",
      "插入广告\n"
     ]
    },
    {
     "name": "stderr",
     "output_type": "stream",
     "text": [
      "PSD添加广告生成图片:  53%|██████████████████████▍                   | 16/30 [07:45<06:55, 29.71s/it]"
     ]
    },
    {
     "name": "stdout",
     "output_type": "stream",
     "text": [
      "\n",
      "\n",
      "处理文件:G:/饭桶设计/2000-2999/2228/2228/饭桶设计(17).psd\n",
      "导出PNG\n",
      "插入广告\n"
     ]
    },
    {
     "name": "stderr",
     "output_type": "stream",
     "text": [
      "PSD添加广告生成图片:  57%|███████████████████████▊                  | 17/30 [08:16<06:30, 30.04s/it]"
     ]
    },
    {
     "name": "stdout",
     "output_type": "stream",
     "text": [
      "\n",
      "\n",
      "处理文件:G:/饭桶设计/2000-2999/2228/2228/饭桶设计(18).psd\n",
      "导出PNG\n",
      "插入广告\n"
     ]
    },
    {
     "name": "stderr",
     "output_type": "stream",
     "text": [
      "PSD添加广告生成图片:  60%|█████████████████████████▏                | 18/30 [08:49<06:12, 31.03s/it]"
     ]
    },
    {
     "name": "stdout",
     "output_type": "stream",
     "text": [
      "\n",
      "\n",
      "处理文件:G:/饭桶设计/2000-2999/2228/2228/饭桶设计(19).psd\n",
      "导出PNG\n",
      "插入广告\n"
     ]
    },
    {
     "name": "stderr",
     "output_type": "stream",
     "text": [
      "PSD添加广告生成图片:  63%|██████████████████████████▌               | 19/30 [09:22<05:48, 31.67s/it]"
     ]
    },
    {
     "name": "stdout",
     "output_type": "stream",
     "text": [
      "\n",
      "\n",
      "处理文件:G:/饭桶设计/2000-2999/2228/2228/饭桶设计(20).psd\n",
      "导出PNG\n",
      "插入广告\n"
     ]
    },
    {
     "name": "stderr",
     "output_type": "stream",
     "text": [
      "PSD添加广告生成图片:  67%|████████████████████████████              | 20/30 [09:48<04:58, 29.85s/it]"
     ]
    },
    {
     "name": "stdout",
     "output_type": "stream",
     "text": [
      "\n",
      "\n",
      "处理文件:G:/饭桶设计/2000-2999/2228/2228/饭桶设计(21).psd\n",
      "导出PNG\n",
      "插入广告\n"
     ]
    },
    {
     "name": "stderr",
     "output_type": "stream",
     "text": [
      "PSD添加广告生成图片:  70%|█████████████████████████████▍            | 21/30 [10:13<04:17, 28.60s/it]"
     ]
    },
    {
     "name": "stdout",
     "output_type": "stream",
     "text": [
      "\n",
      "\n",
      "处理文件:G:/饭桶设计/2000-2999/2228/2228/饭桶设计(22).psd\n",
      "导出PNG\n",
      "插入广告\n"
     ]
    },
    {
     "name": "stderr",
     "output_type": "stream",
     "text": [
      "PSD添加广告生成图片:  73%|██████████████████████████████▊           | 22/30 [10:45<03:56, 29.53s/it]"
     ]
    },
    {
     "name": "stdout",
     "output_type": "stream",
     "text": [
      "\n",
      "\n",
      "处理文件:G:/饭桶设计/2000-2999/2228/2228/饭桶设计(23).psd\n",
      "导出PNG\n",
      "插入广告\n"
     ]
    },
    {
     "name": "stderr",
     "output_type": "stream",
     "text": [
      "PSD添加广告生成图片:  77%|████████████████████████████████▏         | 23/30 [11:12<03:21, 28.74s/it]"
     ]
    },
    {
     "name": "stdout",
     "output_type": "stream",
     "text": [
      "\n",
      "\n",
      "处理文件:G:/饭桶设计/2000-2999/2228/2228/饭桶设计(24).psd\n",
      "导出PNG\n",
      "插入广告\n"
     ]
    },
    {
     "name": "stderr",
     "output_type": "stream",
     "text": [
      "PSD添加广告生成图片:  80%|█████████████████████████████████▌        | 24/30 [11:36<02:44, 27.41s/it]"
     ]
    },
    {
     "name": "stdout",
     "output_type": "stream",
     "text": [
      "\n",
      "\n",
      "处理文件:G:/饭桶设计/2000-2999/2228/2228/饭桶设计(25).psd\n",
      "导出PNG\n",
      "插入广告\n"
     ]
    },
    {
     "name": "stderr",
     "output_type": "stream",
     "text": [
      "PSD添加广告生成图片:  83%|███████████████████████████████████       | 25/30 [12:09<02:24, 28.98s/it]"
     ]
    },
    {
     "name": "stdout",
     "output_type": "stream",
     "text": [
      "\n",
      "\n",
      "处理文件:G:/饭桶设计/2000-2999/2228/2228/饭桶设计(26).psd\n",
      "导出PNG\n",
      "插入广告\n"
     ]
    },
    {
     "name": "stderr",
     "output_type": "stream",
     "text": [
      "PSD添加广告生成图片:  87%|████████████████████████████████████▍     | 26/30 [12:41<01:59, 29.98s/it]"
     ]
    },
    {
     "name": "stdout",
     "output_type": "stream",
     "text": [
      "\n",
      "\n",
      "处理文件:G:/饭桶设计/2000-2999/2228/2228/饭桶设计(27).psd\n",
      "导出PNG\n",
      "插入广告\n"
     ]
    },
    {
     "name": "stderr",
     "output_type": "stream",
     "text": [
      "PSD添加广告生成图片:  90%|█████████████████████████████████████▊    | 27/30 [13:14<01:32, 30.96s/it]"
     ]
    },
    {
     "name": "stdout",
     "output_type": "stream",
     "text": [
      "\n",
      "\n",
      "处理文件:G:/饭桶设计/2000-2999/2228/2228/饭桶设计(28).psd\n",
      "导出PNG\n",
      "插入广告\n"
     ]
    },
    {
     "name": "stderr",
     "output_type": "stream",
     "text": [
      "PSD添加广告生成图片:  93%|███████████████████████████████████████▏  | 28/30 [13:49<01:03, 31.94s/it]"
     ]
    },
    {
     "name": "stdout",
     "output_type": "stream",
     "text": [
      "\n",
      "\n",
      "处理文件:G:/饭桶设计/2000-2999/2228/2228/饭桶设计(29).psd\n",
      "导出PNG\n",
      "插入广告\n"
     ]
    },
    {
     "name": "stderr",
     "output_type": "stream",
     "text": [
      "PSD添加广告生成图片:  97%|████████████████████████████████████████▌ | 29/30 [14:25<00:33, 33.27s/it]"
     ]
    },
    {
     "name": "stdout",
     "output_type": "stream",
     "text": [
      "\n",
      "\n",
      "处理文件:G:/饭桶设计/2000-2999/2228/2228/饭桶设计(30).psd\n",
      "导出PNG\n",
      "插入广告\n"
     ]
    },
    {
     "name": "stderr",
     "output_type": "stream",
     "text": [
      "PSD添加广告生成图片: 100%|██████████████████████████████████████████| 30/30 [14:59<00:00, 29.99s/it]\n",
      "AI导出PNG: 0it [00:00, ?it/s]\n",
      "PPT导出PNG: 0it [00:00, ?it/s]\n",
      "复制到制定目录: 100%|██████████████████████████████████████████████| 30/30 [00:00<00:00, 213.39it/s]\n",
      "图片添加水印: 100%|█████████████████████████████████████████████████| 30/30 [00:27<00:00,  1.10it/s]\n",
      "解压ZIP: 0it [00:00, ?it/s]\n",
      "解压RAR: 0it [00:00, ?it/s]\n",
      "PSD添加广告生成图片: 0it [00:00, ?it/s]\n",
      "AI导出PNG: 0it [00:00, ?it/s]\n",
      "PPT导出PNG: 0it [00:00, ?it/s]\n",
      "图片添加水印: 0it [00:00, ?it/s]\n",
      "解压ZIP: 100%|██████████████████████████████████████████████████████| 11/11 [00:44<00:00,  4.02s/it]\n",
      "解压RAR: 0it [00:00, ?it/s]\n"
     ]
    },
    {
     "name": "stdout",
     "output_type": "stream",
     "text": [
      "移动到根目录:b'G:/\\xe9\\xa5\\xad\\xe6\\xa1\\xb6\\xe8\\xae\\xbe\\xe8\\xae\\xa1/2000-2999/2230/2230/6277520.psd'\n",
      "移动到根目录:b'G:/\\xe9\\xa5\\xad\\xe6\\xa1\\xb6\\xe8\\xae\\xbe\\xe8\\xae\\xa1/2000-2999/2230/2230/6277521.jpg'\n",
      "移动到根目录:b'G:/\\xe9\\xa5\\xad\\xe6\\xa1\\xb6\\xe8\\xae\\xbe\\xe8\\xae\\xa1/2000-2999/2230/2230/6418435.psd'\n",
      "移动到根目录:b'G:/\\xe9\\xa5\\xad\\xe6\\xa1\\xb6\\xe8\\xae\\xbe\\xe8\\xae\\xa1/2000-2999/2230/2230/6418436.jpg'\n",
      "移动到根目录:b'G:/\\xe9\\xa5\\xad\\xe6\\xa1\\xb6\\xe8\\xae\\xbe\\xe8\\xae\\xa1/2000-2999/2230/2230/6418437.psd'\n",
      "移动到根目录:b'G:/\\xe9\\xa5\\xad\\xe6\\xa1\\xb6\\xe8\\xae\\xbe\\xe8\\xae\\xa1/2000-2999/2230/2230/6418438.jpg'\n",
      "移动到根目录:b'G:/\\xe9\\xa5\\xad\\xe6\\xa1\\xb6\\xe8\\xae\\xbe\\xe8\\xae\\xa1/2000-2999/2230/2230/6418298.psd'\n",
      "移动到根目录:b'G:/\\xe9\\xa5\\xad\\xe6\\xa1\\xb6\\xe8\\xae\\xbe\\xe8\\xae\\xa1/2000-2999/2230/2230/6418299.jpg'\n",
      "移动到根目录:b'G:/\\xe9\\xa5\\xad\\xe6\\xa1\\xb6\\xe8\\xae\\xbe\\xe8\\xae\\xa1/2000-2999/2230/2230/6277528.psd'\n",
      "移动到根目录:b'G:/\\xe9\\xa5\\xad\\xe6\\xa1\\xb6\\xe8\\xae\\xbe\\xe8\\xae\\xa1/2000-2999/2230/2230/6277529.jpg'\n",
      "移动到根目录:b'G:/\\xe9\\xa5\\xad\\xe6\\xa1\\xb6\\xe8\\xae\\xbe\\xe8\\xae\\xa1/2000-2999/2230/2230/6418403.psd'\n",
      "移动到根目录:b'G:/\\xe9\\xa5\\xad\\xe6\\xa1\\xb6\\xe8\\xae\\xbe\\xe8\\xae\\xa1/2000-2999/2230/2230/6418406.jpg'\n",
      "移动到根目录:b'G:/\\xe9\\xa5\\xad\\xe6\\xa1\\xb6\\xe8\\xae\\xbe\\xe8\\xae\\xa1/2000-2999/2230/2230/6418340.psd'\n",
      "移动到根目录:b'G:/\\xe9\\xa5\\xad\\xe6\\xa1\\xb6\\xe8\\xae\\xbe\\xe8\\xae\\xa1/2000-2999/2230/2230/6418341.jpg'\n",
      "移动到根目录:b'G:/\\xe9\\xa5\\xad\\xe6\\xa1\\xb6\\xe8\\xae\\xbe\\xe8\\xae\\xa1/2000-2999/2230/2230/6418433.psd'\n",
      "移动到根目录:b'G:/\\xe9\\xa5\\xad\\xe6\\xa1\\xb6\\xe8\\xae\\xbe\\xe8\\xae\\xa1/2000-2999/2230/2230/6418434.jpg'\n",
      "移动到根目录:b'G:/\\xe9\\xa5\\xad\\xe6\\xa1\\xb6\\xe8\\xae\\xbe\\xe8\\xae\\xa1/2000-2999/2230/2230/6418422.psd'\n",
      "移动到根目录:b'G:/\\xe9\\xa5\\xad\\xe6\\xa1\\xb6\\xe8\\xae\\xbe\\xe8\\xae\\xa1/2000-2999/2230/2230/6418424.jpg'\n",
      "移动到根目录:b'G:/\\xe9\\xa5\\xad\\xe6\\xa1\\xb6\\xe8\\xae\\xbe\\xe8\\xae\\xa1/2000-2999/2230/2230/6418303.psd'\n",
      "移动到根目录:b'G:/\\xe9\\xa5\\xad\\xe6\\xa1\\xb6\\xe8\\xae\\xbe\\xe8\\xae\\xa1/2000-2999/2230/2230/6418304.jpg'\n",
      "移动到根目录:b'G:/\\xe9\\xa5\\xad\\xe6\\xa1\\xb6\\xe8\\xae\\xbe\\xe8\\xae\\xa1/2000-2999/2230/2230/6418439.jpg'\n",
      "移动到根目录:b'G:/\\xe9\\xa5\\xad\\xe6\\xa1\\xb6\\xe8\\xae\\xbe\\xe8\\xae\\xa1/2000-2999/2230/2230/6418449.psd'\n",
      "删除多余文件夹：G:\\饭桶设计\\2000-2999\\2230\\2230\\technology-banner-design-template\n",
      "删除多余文件夹：G:\\饭桶设计\\2000-2999\\2230\\2230\\technology-business-card-design-template\n",
      "删除多余文件夹：G:\\饭桶设计\\2000-2999\\2230\\2230\\technology-business-card-design-template (1)\n",
      "删除多余文件夹：G:\\饭桶设计\\2000-2999\\2230\\2230\\technology-flyer-design-template\n",
      "删除多余文件夹：G:\\饭桶设计\\2000-2999\\2230\\2230\\technology-flyer-design-template (1)\n",
      "删除多余文件夹：G:\\饭桶设计\\2000-2999\\2230\\2230\\technology-instagram-post-design-template\n",
      "删除多余文件夹：G:\\饭桶设计\\2000-2999\\2230\\2230\\technology-instagram-post-design-template (1)\n",
      "删除多余文件夹：G:\\饭桶设计\\2000-2999\\2230\\2230\\technology-instagram-stories-design-template\n",
      "删除多余文件夹：G:\\饭桶设计\\2000-2999\\2230\\2230\\technology-instagram-stories-design-template (1)\n",
      "删除多余文件夹：G:\\饭桶设计\\2000-2999\\2230\\2230\\technology-invoice-design-template\n",
      "删除多余文件夹：G:\\饭桶设计\\2000-2999\\2230\\2230\\technology-web-design-template\n"
     ]
    },
    {
     "name": "stderr",
     "output_type": "stream",
     "text": [
      "复制到制定目录: 100%|██████████████████████████████████████████████| 11/11 [00:00<00:00, 175.24it/s]\n"
     ]
    },
    {
     "name": "stdout",
     "output_type": "stream",
     "text": [
      "文件重命名：b'G:/\\xe9\\xa5\\xad\\xe6\\xa1\\xb6\\xe8\\xae\\xbe\\xe8\\xae\\xa1/2000-2999/2230/2230/6277520.psd'\n",
      "文件重命名：b'G:/\\xe9\\xa5\\xad\\xe6\\xa1\\xb6\\xe8\\xae\\xbe\\xe8\\xae\\xa1/2000-2999/2230/2230/6277528.psd'\n",
      "文件重命名：b'G:/\\xe9\\xa5\\xad\\xe6\\xa1\\xb6\\xe8\\xae\\xbe\\xe8\\xae\\xa1/2000-2999/2230/2230/6418298.psd'\n",
      "文件重命名：b'G:/\\xe9\\xa5\\xad\\xe6\\xa1\\xb6\\xe8\\xae\\xbe\\xe8\\xae\\xa1/2000-2999/2230/2230/6418303.psd'\n",
      "文件重命名：b'G:/\\xe9\\xa5\\xad\\xe6\\xa1\\xb6\\xe8\\xae\\xbe\\xe8\\xae\\xa1/2000-2999/2230/2230/6418340.psd'\n",
      "文件重命名：b'G:/\\xe9\\xa5\\xad\\xe6\\xa1\\xb6\\xe8\\xae\\xbe\\xe8\\xae\\xa1/2000-2999/2230/2230/6418403.psd'\n",
      "文件重命名：b'G:/\\xe9\\xa5\\xad\\xe6\\xa1\\xb6\\xe8\\xae\\xbe\\xe8\\xae\\xa1/2000-2999/2230/2230/6418422.psd'\n",
      "文件重命名：b'G:/\\xe9\\xa5\\xad\\xe6\\xa1\\xb6\\xe8\\xae\\xbe\\xe8\\xae\\xa1/2000-2999/2230/2230/6418433.psd'\n",
      "文件重命名：b'G:/\\xe9\\xa5\\xad\\xe6\\xa1\\xb6\\xe8\\xae\\xbe\\xe8\\xae\\xa1/2000-2999/2230/2230/6418435.psd'\n",
      "文件重命名：b'G:/\\xe9\\xa5\\xad\\xe6\\xa1\\xb6\\xe8\\xae\\xbe\\xe8\\xae\\xa1/2000-2999/2230/2230/6418437.psd'\n",
      "文件重命名：b'G:/\\xe9\\xa5\\xad\\xe6\\xa1\\xb6\\xe8\\xae\\xbe\\xe8\\xae\\xa1/2000-2999/2230/2230/6418449.psd'\n",
      "文件重命名：b'G:/\\xe9\\xa5\\xad\\xe6\\xa1\\xb6\\xe8\\xae\\xbe\\xe8\\xae\\xa1/2000-2999/2230/2230/test(1).psd'\n",
      "文件重命名：b'G:/\\xe9\\xa5\\xad\\xe6\\xa1\\xb6\\xe8\\xae\\xbe\\xe8\\xae\\xa1/2000-2999/2230/2230/test(10).psd'\n",
      "文件重命名：b'G:/\\xe9\\xa5\\xad\\xe6\\xa1\\xb6\\xe8\\xae\\xbe\\xe8\\xae\\xa1/2000-2999/2230/2230/test(11).psd'\n",
      "文件重命名：b'G:/\\xe9\\xa5\\xad\\xe6\\xa1\\xb6\\xe8\\xae\\xbe\\xe8\\xae\\xa1/2000-2999/2230/2230/test(2).psd'\n",
      "文件重命名：b'G:/\\xe9\\xa5\\xad\\xe6\\xa1\\xb6\\xe8\\xae\\xbe\\xe8\\xae\\xa1/2000-2999/2230/2230/test(3).psd'\n",
      "文件重命名：b'G:/\\xe9\\xa5\\xad\\xe6\\xa1\\xb6\\xe8\\xae\\xbe\\xe8\\xae\\xa1/2000-2999/2230/2230/test(4).psd'\n",
      "文件重命名：b'G:/\\xe9\\xa5\\xad\\xe6\\xa1\\xb6\\xe8\\xae\\xbe\\xe8\\xae\\xa1/2000-2999/2230/2230/test(5).psd'\n",
      "文件重命名：b'G:/\\xe9\\xa5\\xad\\xe6\\xa1\\xb6\\xe8\\xae\\xbe\\xe8\\xae\\xa1/2000-2999/2230/2230/test(6).psd'\n",
      "文件重命名：b'G:/\\xe9\\xa5\\xad\\xe6\\xa1\\xb6\\xe8\\xae\\xbe\\xe8\\xae\\xa1/2000-2999/2230/2230/test(7).psd'\n",
      "文件重命名：b'G:/\\xe9\\xa5\\xad\\xe6\\xa1\\xb6\\xe8\\xae\\xbe\\xe8\\xae\\xa1/2000-2999/2230/2230/test(8).psd'\n",
      "文件重命名：b'G:/\\xe9\\xa5\\xad\\xe6\\xa1\\xb6\\xe8\\xae\\xbe\\xe8\\xae\\xa1/2000-2999/2230/2230/test(9).psd'\n"
     ]
    },
    {
     "name": "stderr",
     "output_type": "stream",
     "text": [
      "PSD添加广告生成图片:   0%|                                                   | 0/11 [00:00<?, ?it/s]"
     ]
    },
    {
     "name": "stdout",
     "output_type": "stream",
     "text": [
      "\n",
      "\n",
      "处理文件:G:/饭桶设计/2000-2999/2230/2230/饭桶设计(1).psd\n",
      "导出PNG\n",
      "插入广告\n"
     ]
    },
    {
     "name": "stderr",
     "output_type": "stream",
     "text": [
      "PSD添加广告生成图片:   9%|███▉                                       | 1/11 [00:12<02:07, 12.78s/it]"
     ]
    },
    {
     "name": "stdout",
     "output_type": "stream",
     "text": [
      "\n",
      "\n",
      "处理文件:G:/饭桶设计/2000-2999/2230/2230/饭桶设计(2).psd\n",
      "导出PNG\n",
      "插入广告\n"
     ]
    },
    {
     "name": "stderr",
     "output_type": "stream",
     "text": [
      "PSD添加广告生成图片:  18%|███████▊                                   | 2/11 [00:16<01:08,  7.63s/it]"
     ]
    },
    {
     "name": "stdout",
     "output_type": "stream",
     "text": [
      "\n",
      "\n",
      "处理文件:G:/饭桶设计/2000-2999/2230/2230/饭桶设计(3).psd\n",
      "导出PNG\n",
      "插入广告\n"
     ]
    },
    {
     "name": "stderr",
     "output_type": "stream",
     "text": [
      "PSD添加广告生成图片:  27%|███████████▋                               | 3/11 [00:33<01:33, 11.73s/it]"
     ]
    },
    {
     "name": "stdout",
     "output_type": "stream",
     "text": [
      "\n",
      "\n",
      "处理文件:G:/饭桶设计/2000-2999/2230/2230/饭桶设计(4).psd\n",
      "导出PNG\n",
      "插入广告\n"
     ]
    },
    {
     "name": "stderr",
     "output_type": "stream",
     "text": [
      "PSD添加广告生成图片:  36%|███████████████▋                           | 4/11 [00:55<01:50, 15.81s/it]"
     ]
    },
    {
     "name": "stdout",
     "output_type": "stream",
     "text": [
      "\n",
      "\n",
      "处理文件:G:/饭桶设计/2000-2999/2230/2230/饭桶设计(5).psd\n",
      "导出PNG\n",
      "插入广告\n"
     ]
    },
    {
     "name": "stderr",
     "output_type": "stream",
     "text": [
      "PSD添加广告生成图片:  45%|███████████████████▌                       | 5/11 [01:13<01:38, 16.45s/it]"
     ]
    },
    {
     "name": "stdout",
     "output_type": "stream",
     "text": [
      "\n",
      "\n",
      "处理文件:G:/饭桶设计/2000-2999/2230/2230/饭桶设计(6).psd\n",
      "导出PNG\n",
      "插入广告\n"
     ]
    },
    {
     "name": "stderr",
     "output_type": "stream",
     "text": [
      "PSD添加广告生成图片:  55%|███████████████████████▍                   | 6/11 [01:38<01:37, 19.49s/it]"
     ]
    },
    {
     "name": "stdout",
     "output_type": "stream",
     "text": [
      "\n",
      "\n",
      "处理文件:G:/饭桶设计/2000-2999/2230/2230/饭桶设计(7).psd\n",
      "导出PNG\n",
      "插入广告\n"
     ]
    },
    {
     "name": "stderr",
     "output_type": "stream",
     "text": [
      "PSD添加广告生成图片:  64%|███████████████████████████▎               | 7/11 [01:49<01:06, 16.61s/it]"
     ]
    },
    {
     "name": "stdout",
     "output_type": "stream",
     "text": [
      "\n",
      "\n",
      "处理文件:G:/饭桶设计/2000-2999/2230/2230/饭桶设计(8).psd\n",
      "导出PNG\n",
      "插入广告\n"
     ]
    },
    {
     "name": "stderr",
     "output_type": "stream",
     "text": [
      "PSD添加广告生成图片:  73%|███████████████████████████████▎           | 8/11 [02:03<00:47, 15.80s/it]"
     ]
    },
    {
     "name": "stdout",
     "output_type": "stream",
     "text": [
      "\n",
      "\n",
      "处理文件:G:/饭桶设计/2000-2999/2230/2230/饭桶设计(9).psd\n",
      "导出PNG\n",
      "插入广告\n"
     ]
    },
    {
     "name": "stderr",
     "output_type": "stream",
     "text": [
      "PSD添加广告生成图片:  82%|███████████████████████████████████▏       | 9/11 [02:11<00:26, 13.35s/it]"
     ]
    },
    {
     "name": "stdout",
     "output_type": "stream",
     "text": [
      "\n",
      "\n",
      "处理文件:G:/饭桶设计/2000-2999/2230/2230/饭桶设计(10).psd\n",
      "导出PNG\n",
      "插入广告\n"
     ]
    },
    {
     "name": "stderr",
     "output_type": "stream",
     "text": [
      "PSD添加广告生成图片:  91%|██████████████████████████████████████▏   | 10/11 [02:20<00:12, 12.04s/it]"
     ]
    },
    {
     "name": "stdout",
     "output_type": "stream",
     "text": [
      "\n",
      "\n",
      "处理文件:G:/饭桶设计/2000-2999/2230/2230/饭桶设计(11).psd\n",
      "导出PNG\n",
      "插入广告\n"
     ]
    },
    {
     "name": "stderr",
     "output_type": "stream",
     "text": [
      "PSD添加广告生成图片: 100%|██████████████████████████████████████████| 11/11 [02:24<00:00, 13.14s/it]\n",
      "AI导出PNG: 0it [00:00, ?it/s]\n",
      "PPT导出PNG: 0it [00:00, ?it/s]\n",
      "复制到制定目录: 100%|██████████████████████████████████████████████| 11/11 [00:00<00:00, 352.45it/s]\n",
      "图片添加水印: 100%|█████████████████████████████████████████████████| 11/11 [00:05<00:00,  1.92it/s]\n",
      "解压ZIP: 100%|██████████████████████████████████████████████████████| 18/18 [01:01<00:00,  3.41s/it]\n",
      "解压RAR: 0it [00:00, ?it/s]\n"
     ]
    },
    {
     "name": "stdout",
     "output_type": "stream",
     "text": [
      "移动到根目录:b'G:/\\xe9\\xa5\\xad\\xe6\\xa1\\xb6\\xe8\\xae\\xbe\\xe8\\xae\\xa1/2000-2999/2231/2231/7746132.jpg'\n",
      "移动到根目录:b'G:/\\xe9\\xa5\\xad\\xe6\\xa1\\xb6\\xe8\\xae\\xbe\\xe8\\xae\\xa1/2000-2999/2231/2231/7746138.psd'\n",
      "移动到根目录:b'G:/\\xe9\\xa5\\xad\\xe6\\xa1\\xb6\\xe8\\xae\\xbe\\xe8\\xae\\xa1/2000-2999/2231/2231/7746080.jpg'\n",
      "移动到根目录:b'G:/\\xe9\\xa5\\xad\\xe6\\xa1\\xb6\\xe8\\xae\\xbe\\xe8\\xae\\xa1/2000-2999/2231/2231/7746086.psd'\n",
      "移动到根目录:b'G:/\\xe9\\xa5\\xad\\xe6\\xa1\\xb6\\xe8\\xae\\xbe\\xe8\\xae\\xa1/2000-2999/2231/2231/7746146.jpg'\n",
      "移动到根目录:b'G:/\\xe9\\xa5\\xad\\xe6\\xa1\\xb6\\xe8\\xae\\xbe\\xe8\\xae\\xa1/2000-2999/2231/2231/7746147.psd'\n",
      "移动到根目录:b'G:/\\xe9\\xa5\\xad\\xe6\\xa1\\xb6\\xe8\\xae\\xbe\\xe8\\xae\\xa1/2000-2999/2231/2231/7746139.jpg'\n",
      "移动到根目录:b'G:/\\xe9\\xa5\\xad\\xe6\\xa1\\xb6\\xe8\\xae\\xbe\\xe8\\xae\\xa1/2000-2999/2231/2231/7746143.psd'\n",
      "移动到根目录:b'G:/\\xe9\\xa5\\xad\\xe6\\xa1\\xb6\\xe8\\xae\\xbe\\xe8\\xae\\xa1/2000-2999/2231/2231/7741579.jpg'\n",
      "移动到根目录:b'G:/\\xe9\\xa5\\xad\\xe6\\xa1\\xb6\\xe8\\xae\\xbe\\xe8\\xae\\xa1/2000-2999/2231/2231/7741580.psd'\n",
      "移动到根目录:b'G:/\\xe9\\xa5\\xad\\xe6\\xa1\\xb6\\xe8\\xae\\xbe\\xe8\\xae\\xa1/2000-2999/2231/2231/7746102.jpg'\n",
      "移动到根目录:b'G:/\\xe9\\xa5\\xad\\xe6\\xa1\\xb6\\xe8\\xae\\xbe\\xe8\\xae\\xa1/2000-2999/2231/2231/7746112.psd'\n",
      "移动到根目录:b'G:/\\xe9\\xa5\\xad\\xe6\\xa1\\xb6\\xe8\\xae\\xbe\\xe8\\xae\\xa1/2000-2999/2231/2231/7749760.jpg'\n",
      "移动到根目录:b'G:/\\xe9\\xa5\\xad\\xe6\\xa1\\xb6\\xe8\\xae\\xbe\\xe8\\xae\\xa1/2000-2999/2231/2231/7749768.psd'\n",
      "移动到根目录:b'G:/\\xe9\\xa5\\xad\\xe6\\xa1\\xb6\\xe8\\xae\\xbe\\xe8\\xae\\xa1/2000-2999/2231/2231/7746144.jpg'\n",
      "移动到根目录:b'G:/\\xe9\\xa5\\xad\\xe6\\xa1\\xb6\\xe8\\xae\\xbe\\xe8\\xae\\xa1/2000-2999/2231/2231/7746145.psd'\n",
      "移动到根目录:b'G:/\\xe9\\xa5\\xad\\xe6\\xa1\\xb6\\xe8\\xae\\xbe\\xe8\\xae\\xa1/2000-2999/2231/2231/7711204.jpg'\n",
      "移动到根目录:b'G:/\\xe9\\xa5\\xad\\xe6\\xa1\\xb6\\xe8\\xae\\xbe\\xe8\\xae\\xa1/2000-2999/2231/2231/7711212.psd'\n",
      "移动到根目录:b'G:/\\xe9\\xa5\\xad\\xe6\\xa1\\xb6\\xe8\\xae\\xbe\\xe8\\xae\\xa1/2000-2999/2231/2231/7746113.jpg'\n",
      "移动到根目录:b'G:/\\xe9\\xa5\\xad\\xe6\\xa1\\xb6\\xe8\\xae\\xbe\\xe8\\xae\\xa1/2000-2999/2231/2231/7746115.psd'\n",
      "移动到根目录:b'G:/\\xe9\\xa5\\xad\\xe6\\xa1\\xb6\\xe8\\xae\\xbe\\xe8\\xae\\xa1/2000-2999/2231/2231/7746068.jpg'\n",
      "移动到根目录:b'G:/\\xe9\\xa5\\xad\\xe6\\xa1\\xb6\\xe8\\xae\\xbe\\xe8\\xae\\xa1/2000-2999/2231/2231/7746071.psd'\n",
      "移动到根目录:b'G:/\\xe9\\xa5\\xad\\xe6\\xa1\\xb6\\xe8\\xae\\xbe\\xe8\\xae\\xa1/2000-2999/2231/2231/7746074.jpg'\n",
      "移动到根目录:b'G:/\\xe9\\xa5\\xad\\xe6\\xa1\\xb6\\xe8\\xae\\xbe\\xe8\\xae\\xa1/2000-2999/2231/2231/7746079.psd'\n",
      "移动到根目录:b'G:/\\xe9\\xa5\\xad\\xe6\\xa1\\xb6\\xe8\\xae\\xbe\\xe8\\xae\\xa1/2000-2999/2231/2231/7746056.jpg'\n",
      "移动到根目录:b'G:/\\xe9\\xa5\\xad\\xe6\\xa1\\xb6\\xe8\\xae\\xbe\\xe8\\xae\\xa1/2000-2999/2231/2231/7746065.psd'\n",
      "移动到根目录:b'G:/\\xe9\\xa5\\xad\\xe6\\xa1\\xb6\\xe8\\xae\\xbe\\xe8\\xae\\xa1/2000-2999/2231/2231/7746087.jpg'\n",
      "移动到根目录:b'G:/\\xe9\\xa5\\xad\\xe6\\xa1\\xb6\\xe8\\xae\\xbe\\xe8\\xae\\xa1/2000-2999/2231/2231/7746096.psd'\n",
      "移动到根目录:b'G:/\\xe9\\xa5\\xad\\xe6\\xa1\\xb6\\xe8\\xae\\xbe\\xe8\\xae\\xa1/2000-2999/2231/2231/7746098.jpg'\n",
      "移动到根目录:b'G:/\\xe9\\xa5\\xad\\xe6\\xa1\\xb6\\xe8\\xae\\xbe\\xe8\\xae\\xa1/2000-2999/2231/2231/7746099.psd'\n",
      "移动到根目录:b'G:/\\xe9\\xa5\\xad\\xe6\\xa1\\xb6\\xe8\\xae\\xbe\\xe8\\xae\\xa1/2000-2999/2231/2231/7746118.jpg'\n",
      "移动到根目录:b'G:/\\xe9\\xa5\\xad\\xe6\\xa1\\xb6\\xe8\\xae\\xbe\\xe8\\xae\\xa1/2000-2999/2231/2231/7746121.psd'\n",
      "移动到根目录:b'G:/\\xe9\\xa5\\xad\\xe6\\xa1\\xb6\\xe8\\xae\\xbe\\xe8\\xae\\xa1/2000-2999/2231/2231/7746072.jpg'\n",
      "移动到根目录:b'G:/\\xe9\\xa5\\xad\\xe6\\xa1\\xb6\\xe8\\xae\\xbe\\xe8\\xae\\xa1/2000-2999/2231/2231/7746073.psd'\n",
      "移动到根目录:b'G:/\\xe9\\xa5\\xad\\xe6\\xa1\\xb6\\xe8\\xae\\xbe\\xe8\\xae\\xa1/2000-2999/2231/2231/7746122.jpg'\n",
      "移动到根目录:b'G:/\\xe9\\xa5\\xad\\xe6\\xa1\\xb6\\xe8\\xae\\xbe\\xe8\\xae\\xa1/2000-2999/2231/2231/7746125.psd'\n",
      "删除多余文件夹：G:\\饭桶设计\\2000-2999\\2231\\2231\\flat-design-party-template\n",
      "删除多余文件夹：G:\\饭桶设计\\2000-2999\\2231\\2231\\flat-design-party-template (1)\n",
      "删除多余文件夹：G:\\饭桶设计\\2000-2999\\2231\\2231\\flat-design-party-template (10)\n",
      "删除多余文件夹：G:\\饭桶设计\\2000-2999\\2231\\2231\\flat-design-party-template (11)\n",
      "删除多余文件夹：G:\\饭桶设计\\2000-2999\\2231\\2231\\flat-design-party-template (12)\n",
      "删除多余文件夹：G:\\饭桶设计\\2000-2999\\2231\\2231\\flat-design-party-template (13)\n",
      "删除多余文件夹：G:\\饭桶设计\\2000-2999\\2231\\2231\\flat-design-party-template (14)\n",
      "删除多余文件夹：G:\\饭桶设计\\2000-2999\\2231\\2231\\flat-design-party-template (15)\n",
      "删除多余文件夹：G:\\饭桶设计\\2000-2999\\2231\\2231\\flat-design-party-template (16)\n",
      "删除多余文件夹：G:\\饭桶设计\\2000-2999\\2231\\2231\\flat-design-party-template (17)\n",
      "删除多余文件夹：G:\\饭桶设计\\2000-2999\\2231\\2231\\flat-design-party-template (2)\n",
      "删除多余文件夹：G:\\饭桶设计\\2000-2999\\2231\\2231\\flat-design-party-template (3)\n",
      "删除多余文件夹：G:\\饭桶设计\\2000-2999\\2231\\2231\\flat-design-party-template (4)\n",
      "删除多余文件夹：G:\\饭桶设计\\2000-2999\\2231\\2231\\flat-design-party-template (5)\n",
      "删除多余文件夹：G:\\饭桶设计\\2000-2999\\2231\\2231\\flat-design-party-template (6)\n",
      "删除多余文件夹：G:\\饭桶设计\\2000-2999\\2231\\2231\\flat-design-party-template (7)\n",
      "删除多余文件夹：G:\\饭桶设计\\2000-2999\\2231\\2231\\flat-design-party-template (8)\n",
      "删除多余文件夹：G:\\饭桶设计\\2000-2999\\2231\\2231\\flat-design-party-template (9)\n"
     ]
    },
    {
     "name": "stderr",
     "output_type": "stream",
     "text": [
      "复制到制定目录: 100%|██████████████████████████████████████████████| 18/18 [00:00<00:00, 144.05it/s]\n"
     ]
    },
    {
     "name": "stdout",
     "output_type": "stream",
     "text": [
      "文件重命名：b'G:/\\xe9\\xa5\\xad\\xe6\\xa1\\xb6\\xe8\\xae\\xbe\\xe8\\xae\\xa1/2000-2999/2231/2231/7711212.psd'\n",
      "文件重命名：b'G:/\\xe9\\xa5\\xad\\xe6\\xa1\\xb6\\xe8\\xae\\xbe\\xe8\\xae\\xa1/2000-2999/2231/2231/7741580.psd'\n",
      "文件重命名：b'G:/\\xe9\\xa5\\xad\\xe6\\xa1\\xb6\\xe8\\xae\\xbe\\xe8\\xae\\xa1/2000-2999/2231/2231/7746065.psd'\n",
      "文件重命名：b'G:/\\xe9\\xa5\\xad\\xe6\\xa1\\xb6\\xe8\\xae\\xbe\\xe8\\xae\\xa1/2000-2999/2231/2231/7746071.psd'\n",
      "文件重命名：b'G:/\\xe9\\xa5\\xad\\xe6\\xa1\\xb6\\xe8\\xae\\xbe\\xe8\\xae\\xa1/2000-2999/2231/2231/7746073.psd'\n",
      "文件重命名：b'G:/\\xe9\\xa5\\xad\\xe6\\xa1\\xb6\\xe8\\xae\\xbe\\xe8\\xae\\xa1/2000-2999/2231/2231/7746079.psd'\n",
      "文件重命名：b'G:/\\xe9\\xa5\\xad\\xe6\\xa1\\xb6\\xe8\\xae\\xbe\\xe8\\xae\\xa1/2000-2999/2231/2231/7746086.psd'\n",
      "文件重命名：b'G:/\\xe9\\xa5\\xad\\xe6\\xa1\\xb6\\xe8\\xae\\xbe\\xe8\\xae\\xa1/2000-2999/2231/2231/7746096.psd'\n",
      "文件重命名：b'G:/\\xe9\\xa5\\xad\\xe6\\xa1\\xb6\\xe8\\xae\\xbe\\xe8\\xae\\xa1/2000-2999/2231/2231/7746099.psd'\n",
      "文件重命名：b'G:/\\xe9\\xa5\\xad\\xe6\\xa1\\xb6\\xe8\\xae\\xbe\\xe8\\xae\\xa1/2000-2999/2231/2231/7746112.psd'\n",
      "文件重命名：b'G:/\\xe9\\xa5\\xad\\xe6\\xa1\\xb6\\xe8\\xae\\xbe\\xe8\\xae\\xa1/2000-2999/2231/2231/7746115.psd'\n",
      "文件重命名：b'G:/\\xe9\\xa5\\xad\\xe6\\xa1\\xb6\\xe8\\xae\\xbe\\xe8\\xae\\xa1/2000-2999/2231/2231/7746121.psd'\n",
      "文件重命名：b'G:/\\xe9\\xa5\\xad\\xe6\\xa1\\xb6\\xe8\\xae\\xbe\\xe8\\xae\\xa1/2000-2999/2231/2231/7746125.psd'\n",
      "文件重命名：b'G:/\\xe9\\xa5\\xad\\xe6\\xa1\\xb6\\xe8\\xae\\xbe\\xe8\\xae\\xa1/2000-2999/2231/2231/7746138.psd'\n",
      "文件重命名：b'G:/\\xe9\\xa5\\xad\\xe6\\xa1\\xb6\\xe8\\xae\\xbe\\xe8\\xae\\xa1/2000-2999/2231/2231/7746143.psd'\n",
      "文件重命名：b'G:/\\xe9\\xa5\\xad\\xe6\\xa1\\xb6\\xe8\\xae\\xbe\\xe8\\xae\\xa1/2000-2999/2231/2231/7746145.psd'\n",
      "文件重命名：b'G:/\\xe9\\xa5\\xad\\xe6\\xa1\\xb6\\xe8\\xae\\xbe\\xe8\\xae\\xa1/2000-2999/2231/2231/7746147.psd'\n",
      "文件重命名：b'G:/\\xe9\\xa5\\xad\\xe6\\xa1\\xb6\\xe8\\xae\\xbe\\xe8\\xae\\xa1/2000-2999/2231/2231/7749768.psd'\n",
      "文件重命名：b'G:/\\xe9\\xa5\\xad\\xe6\\xa1\\xb6\\xe8\\xae\\xbe\\xe8\\xae\\xa1/2000-2999/2231/2231/test(1).psd'\n",
      "文件重命名：b'G:/\\xe9\\xa5\\xad\\xe6\\xa1\\xb6\\xe8\\xae\\xbe\\xe8\\xae\\xa1/2000-2999/2231/2231/test(10).psd'\n",
      "文件重命名：b'G:/\\xe9\\xa5\\xad\\xe6\\xa1\\xb6\\xe8\\xae\\xbe\\xe8\\xae\\xa1/2000-2999/2231/2231/test(11).psd'\n",
      "文件重命名：b'G:/\\xe9\\xa5\\xad\\xe6\\xa1\\xb6\\xe8\\xae\\xbe\\xe8\\xae\\xa1/2000-2999/2231/2231/test(12).psd'\n",
      "文件重命名：b'G:/\\xe9\\xa5\\xad\\xe6\\xa1\\xb6\\xe8\\xae\\xbe\\xe8\\xae\\xa1/2000-2999/2231/2231/test(13).psd'\n",
      "文件重命名：b'G:/\\xe9\\xa5\\xad\\xe6\\xa1\\xb6\\xe8\\xae\\xbe\\xe8\\xae\\xa1/2000-2999/2231/2231/test(14).psd'\n",
      "文件重命名：b'G:/\\xe9\\xa5\\xad\\xe6\\xa1\\xb6\\xe8\\xae\\xbe\\xe8\\xae\\xa1/2000-2999/2231/2231/test(15).psd'\n",
      "文件重命名：b'G:/\\xe9\\xa5\\xad\\xe6\\xa1\\xb6\\xe8\\xae\\xbe\\xe8\\xae\\xa1/2000-2999/2231/2231/test(16).psd'\n",
      "文件重命名：b'G:/\\xe9\\xa5\\xad\\xe6\\xa1\\xb6\\xe8\\xae\\xbe\\xe8\\xae\\xa1/2000-2999/2231/2231/test(17).psd'\n",
      "文件重命名：b'G:/\\xe9\\xa5\\xad\\xe6\\xa1\\xb6\\xe8\\xae\\xbe\\xe8\\xae\\xa1/2000-2999/2231/2231/test(18).psd'\n",
      "文件重命名：b'G:/\\xe9\\xa5\\xad\\xe6\\xa1\\xb6\\xe8\\xae\\xbe\\xe8\\xae\\xa1/2000-2999/2231/2231/test(2).psd'\n",
      "文件重命名：b'G:/\\xe9\\xa5\\xad\\xe6\\xa1\\xb6\\xe8\\xae\\xbe\\xe8\\xae\\xa1/2000-2999/2231/2231/test(3).psd'\n",
      "文件重命名：b'G:/\\xe9\\xa5\\xad\\xe6\\xa1\\xb6\\xe8\\xae\\xbe\\xe8\\xae\\xa1/2000-2999/2231/2231/test(4).psd'\n",
      "文件重命名：b'G:/\\xe9\\xa5\\xad\\xe6\\xa1\\xb6\\xe8\\xae\\xbe\\xe8\\xae\\xa1/2000-2999/2231/2231/test(5).psd'\n",
      "文件重命名：b'G:/\\xe9\\xa5\\xad\\xe6\\xa1\\xb6\\xe8\\xae\\xbe\\xe8\\xae\\xa1/2000-2999/2231/2231/test(6).psd'\n",
      "文件重命名：b'G:/\\xe9\\xa5\\xad\\xe6\\xa1\\xb6\\xe8\\xae\\xbe\\xe8\\xae\\xa1/2000-2999/2231/2231/test(7).psd'\n",
      "文件重命名：b'G:/\\xe9\\xa5\\xad\\xe6\\xa1\\xb6\\xe8\\xae\\xbe\\xe8\\xae\\xa1/2000-2999/2231/2231/test(8).psd'\n",
      "文件重命名：b'G:/\\xe9\\xa5\\xad\\xe6\\xa1\\xb6\\xe8\\xae\\xbe\\xe8\\xae\\xa1/2000-2999/2231/2231/test(9).psd'\n"
     ]
    },
    {
     "name": "stderr",
     "output_type": "stream",
     "text": [
      "PSD添加广告生成图片:   0%|                                                   | 0/18 [00:00<?, ?it/s]"
     ]
    },
    {
     "name": "stdout",
     "output_type": "stream",
     "text": [
      "\n",
      "\n",
      "处理文件:G:/饭桶设计/2000-2999/2231/2231/饭桶设计(1).psd\n",
      "导出PNG\n",
      "插入广告\n"
     ]
    },
    {
     "name": "stderr",
     "output_type": "stream",
     "text": [
      "PSD添加广告生成图片:   6%|██▍                                        | 1/18 [00:10<03:02, 10.71s/it]"
     ]
    },
    {
     "name": "stdout",
     "output_type": "stream",
     "text": [
      "\n",
      "\n",
      "处理文件:G:/饭桶设计/2000-2999/2231/2231/饭桶设计(2).psd\n",
      "导出PNG\n",
      "插入广告\n"
     ]
    },
    {
     "name": "stderr",
     "output_type": "stream",
     "text": [
      "PSD添加广告生成图片:  11%|████▊                                      | 2/18 [00:17<02:15,  8.49s/it]"
     ]
    },
    {
     "name": "stdout",
     "output_type": "stream",
     "text": [
      "\n",
      "\n",
      "处理文件:G:/饭桶设计/2000-2999/2231/2231/饭桶设计(3).psd\n",
      "导出PNG\n",
      "插入广告\n"
     ]
    },
    {
     "name": "stderr",
     "output_type": "stream",
     "text": [
      "PSD添加广告生成图片:  17%|███████▏                                   | 3/18 [00:25<02:06,  8.41s/it]"
     ]
    },
    {
     "name": "stdout",
     "output_type": "stream",
     "text": [
      "\n",
      "\n",
      "处理文件:G:/饭桶设计/2000-2999/2231/2231/饭桶设计(4).psd\n",
      "导出PNG\n",
      "插入广告\n"
     ]
    },
    {
     "name": "stderr",
     "output_type": "stream",
     "text": [
      "PSD添加广告生成图片:  22%|█████████▌                                 | 4/18 [00:29<01:30,  6.46s/it]"
     ]
    },
    {
     "name": "stdout",
     "output_type": "stream",
     "text": [
      "\n",
      "\n",
      "处理文件:G:/饭桶设计/2000-2999/2231/2231/饭桶设计(5).psd\n",
      "导出PNG\n",
      "插入广告\n"
     ]
    },
    {
     "name": "stderr",
     "output_type": "stream",
     "text": [
      "PSD添加广告生成图片:  28%|███████████▉                               | 5/18 [00:35<01:20,  6.22s/it]"
     ]
    },
    {
     "name": "stdout",
     "output_type": "stream",
     "text": [
      "\n",
      "\n",
      "处理文件:G:/饭桶设计/2000-2999/2231/2231/饭桶设计(6).psd\n",
      "导出PNG\n",
      "插入广告\n"
     ]
    },
    {
     "name": "stderr",
     "output_type": "stream",
     "text": [
      "PSD添加广告生成图片:  33%|██████████████▎                            | 6/18 [00:44<01:27,  7.30s/it]"
     ]
    },
    {
     "name": "stdout",
     "output_type": "stream",
     "text": [
      "\n",
      "\n",
      "处理文件:G:/饭桶设计/2000-2999/2231/2231/饭桶设计(7).psd\n",
      "导出PNG\n",
      "插入广告\n"
     ]
    },
    {
     "name": "stderr",
     "output_type": "stream",
     "text": [
      "PSD添加广告生成图片:  39%|████████████████▋                          | 7/18 [00:51<01:20,  7.32s/it]"
     ]
    },
    {
     "name": "stdout",
     "output_type": "stream",
     "text": [
      "\n",
      "\n",
      "处理文件:G:/饭桶设计/2000-2999/2231/2231/饭桶设计(8).psd\n",
      "导出PNG\n",
      "插入广告\n"
     ]
    },
    {
     "name": "stderr",
     "output_type": "stream",
     "text": [
      "PSD添加广告生成图片:  44%|███████████████████                        | 8/18 [00:54<00:58,  5.83s/it]"
     ]
    },
    {
     "name": "stdout",
     "output_type": "stream",
     "text": [
      "\n",
      "\n",
      "处理文件:G:/饭桶设计/2000-2999/2231/2231/饭桶设计(9).psd\n",
      "导出PNG\n",
      "插入广告\n"
     ]
    },
    {
     "name": "stderr",
     "output_type": "stream",
     "text": [
      "PSD添加广告生成图片:  50%|█████████████████████▌                     | 9/18 [00:57<00:43,  4.84s/it]"
     ]
    },
    {
     "name": "stdout",
     "output_type": "stream",
     "text": [
      "\n",
      "\n",
      "处理文件:G:/饭桶设计/2000-2999/2231/2231/饭桶设计(10).psd\n",
      "导出PNG\n",
      "插入广告\n"
     ]
    },
    {
     "name": "stderr",
     "output_type": "stream",
     "text": [
      "PSD添加广告生成图片:  56%|███████████████████████▎                  | 10/18 [01:08<00:54,  6.81s/it]"
     ]
    },
    {
     "name": "stdout",
     "output_type": "stream",
     "text": [
      "\n",
      "\n",
      "处理文件:G:/饭桶设计/2000-2999/2231/2231/饭桶设计(11).psd\n",
      "导出PNG\n",
      "插入广告\n"
     ]
    },
    {
     "name": "stderr",
     "output_type": "stream",
     "text": [
      "PSD添加广告生成图片:  61%|█████████████████████████▋                | 11/18 [01:14<00:46,  6.63s/it]"
     ]
    },
    {
     "name": "stdout",
     "output_type": "stream",
     "text": [
      "\n",
      "\n",
      "处理文件:G:/饭桶设计/2000-2999/2231/2231/饭桶设计(12).psd\n",
      "导出PNG\n",
      "插入广告\n"
     ]
    },
    {
     "name": "stderr",
     "output_type": "stream",
     "text": [
      "PSD添加广告生成图片:  67%|████████████████████████████              | 12/18 [01:20<00:37,  6.33s/it]"
     ]
    },
    {
     "name": "stdout",
     "output_type": "stream",
     "text": [
      "\n",
      "\n",
      "处理文件:G:/饭桶设计/2000-2999/2231/2231/饭桶设计(13).psd\n",
      "导出PNG\n",
      "插入广告\n"
     ]
    },
    {
     "name": "stderr",
     "output_type": "stream",
     "text": [
      "PSD添加广告生成图片:  72%|██████████████████████████████▎           | 13/18 [01:25<00:30,  6.08s/it]"
     ]
    },
    {
     "name": "stdout",
     "output_type": "stream",
     "text": [
      "\n",
      "\n",
      "处理文件:G:/饭桶设计/2000-2999/2231/2231/饭桶设计(14).psd\n",
      "导出PNG\n",
      "插入广告\n"
     ]
    },
    {
     "name": "stderr",
     "output_type": "stream",
     "text": [
      "PSD添加广告生成图片:  78%|████████████████████████████████▋         | 14/18 [01:36<00:29,  7.39s/it]"
     ]
    },
    {
     "name": "stdout",
     "output_type": "stream",
     "text": [
      "\n",
      "\n",
      "处理文件:G:/饭桶设计/2000-2999/2231/2231/饭桶设计(15).psd\n",
      "导出PNG\n",
      "插入广告\n"
     ]
    },
    {
     "name": "stderr",
     "output_type": "stream",
     "text": [
      "PSD添加广告生成图片:  83%|███████████████████████████████████       | 15/18 [01:42<00:21,  7.18s/it]"
     ]
    },
    {
     "name": "stdout",
     "output_type": "stream",
     "text": [
      "\n",
      "\n",
      "处理文件:G:/饭桶设计/2000-2999/2231/2231/饭桶设计(16).psd\n",
      "导出PNG\n",
      "插入广告\n"
     ]
    },
    {
     "name": "stderr",
     "output_type": "stream",
     "text": [
      "PSD添加广告生成图片:  89%|█████████████████████████████████████▎    | 16/18 [01:51<00:15,  7.71s/it]"
     ]
    },
    {
     "name": "stdout",
     "output_type": "stream",
     "text": [
      "\n",
      "\n",
      "处理文件:G:/饭桶设计/2000-2999/2231/2231/饭桶设计(17).psd\n",
      "导出PNG\n",
      "插入广告\n"
     ]
    },
    {
     "name": "stderr",
     "output_type": "stream",
     "text": [
      "PSD添加广告生成图片:  94%|███████████████████████████████████████▋  | 17/18 [01:59<00:07,  7.56s/it]"
     ]
    },
    {
     "name": "stdout",
     "output_type": "stream",
     "text": [
      "\n",
      "\n",
      "处理文件:G:/饭桶设计/2000-2999/2231/2231/饭桶设计(18).psd\n",
      "导出PNG\n",
      "插入广告\n"
     ]
    },
    {
     "name": "stderr",
     "output_type": "stream",
     "text": [
      "PSD添加广告生成图片: 100%|██████████████████████████████████████████| 18/18 [02:02<00:00,  6.80s/it]\n",
      "AI导出PNG: 0it [00:00, ?it/s]\n",
      "PPT导出PNG: 0it [00:00, ?it/s]\n",
      "复制到制定目录: 100%|██████████████████████████████████████████████| 18/18 [00:00<00:00, 373.12it/s]\n",
      "图片添加水印: 100%|█████████████████████████████████████████████████| 18/18 [00:05<00:00,  3.06it/s]\n"
     ]
    }
   ],
   "source": [
    "from pathlib import Path\n",
    "\n",
    "from module_素材处理.router.class_文件夹功能 import ItemIn\n",
    "from module_素材处理.router.class_文件夹功能 import MaterialPathAction\n",
    "\n",
    "start_path = Path(r'G:/饭桶设计/2000-2999/2215')\n",
    "\n",
    "\n",
    "def get_path_num(in_path: Path):\n",
    "    stem = in_path.stem\n",
    "    return int(stem)\n",
    "\n",
    "\n",
    "def get_all_path(start_path: Path):\n",
    "    start_stem = get_path_num(start_path)\n",
    "\n",
    "    for in_path in start_path.parent.iterdir():\n",
    "        if in_path.is_dir() and get_path_num(in_path) >= start_stem:\n",
    "            yield in_path\n",
    "\n",
    "\n",
    "for in_path in get_all_path(start_path=start_path):\n",
    "    item_in = ItemIn(\n",
    "        root_path=in_path.as_posix(),\n",
    "        tb_name='饭桶设计',\n",
    "        action_name='全自动'\n",
    "    )\n",
    "\n",
    "    mac = MaterialPathAction(item_in=item_in)\n",
    "    mac.fun_全自动一键操作()"
   ]
  }
 ],
 "metadata": {
  "kernelspec": {
   "display_name": "Python 3",
   "language": "python",
   "name": "python3"
  },
  "language_info": {
   "codemirror_mode": {
    "name": "ipython",
    "version": 2
   },
   "file_extension": ".py",
   "mimetype": "text/x-python",
   "name": "python",
   "nbconvert_exporter": "python",
   "pygments_lexer": "ipython2",
   "version": "2.7.6"
  }
 },
 "nbformat": 4,
 "nbformat_minor": 0
}
