{
 "cells": [
  {
   "cell_type": "code",
   "execution_count": 6,
   "metadata": {
    "collapsed": true
   },
   "outputs": [
    {
     "name": "stdout",
     "output_type": "stream",
     "text": [
      "插入广告\n"
     ]
    },
    {
     "name": "stderr",
     "output_type": "stream",
     "text": [
      "PSD添加广告生成图片:  64%|███████████████████████████▎               | 7/11 [01:26<00:48, 12.20s/it]"
     ]
    },
    {
     "name": "stdout",
     "output_type": "stream",
     "text": [
      "\n",
      "\n",
      "处理文件:G:/饭桶设计/2000-2999/2211/2211/饭桶设计(8).psd\n",
      "导出PNG\n",
      "插入广告\n"
     ]
    },
    {
     "name": "stderr",
     "output_type": "stream",
     "text": [
      "PSD添加广告生成图片:  73%|███████████████████████████████▎           | 8/11 [01:40<00:38, 12.86s/it]"
     ]
    },
    {
     "name": "stdout",
     "output_type": "stream",
     "text": [
      "\n",
      "\n",
      "处理文件:G:/饭桶设计/2000-2999/2211/2211/饭桶设计(9).psd\n",
      "导出PNG\n",
      "插入广告\n"
     ]
    },
    {
     "name": "stderr",
     "output_type": "stream",
     "text": [
      "PSD添加广告生成图片:  82%|███████████████████████████████████▏       | 9/11 [01:55<00:27, 13.56s/it]"
     ]
    },
    {
     "name": "stdout",
     "output_type": "stream",
     "text": [
      "\n",
      "\n",
      "处理文件:G:/饭桶设计/2000-2999/2211/2211/饭桶设计(10).psd\n",
      "导出PNG\n",
      "插入广告\n"
     ]
    },
    {
     "name": "stderr",
     "output_type": "stream",
     "text": [
      "PSD添加广告生成图片:  91%|██████████████████████████████████████▏   | 10/11 [02:05<00:12, 12.48s/it]"
     ]
    },
    {
     "name": "stdout",
     "output_type": "stream",
     "text": [
      "\n",
      "\n",
      "处理文件:G:/饭桶设计/2000-2999/2211/2211/饭桶设计(11).psd\n",
      "导出PNG\n",
      "插入广告\n"
     ]
    },
    {
     "name": "stderr",
     "output_type": "stream",
     "text": [
      "PSD添加广告生成图片: 100%|██████████████████████████████████████████| 11/11 [02:15<00:00, 12.29s/it]\n",
      "AI导出PNG: 0it [00:00, ?it/s]\n",
      "PPT导出PNG: 0it [00:00, ?it/s]\n",
      "复制到制定目录: 100%|██████████████████████████████████████████████| 11/11 [00:00<00:00, 523.79it/s]\n",
      "图片添加水印: 100%|█████████████████████████████████████████████████| 11/11 [00:02<00:00,  3.82it/s]\n"
     ]
    },
    {
     "name": "stdout",
     "output_type": "stream",
     "text": [
      "移动到根目录:b'G:/\\xe9\\xa5\\xad\\xe6\\xa1\\xb6\\xe8\\xae\\xbe\\xe8\\xae\\xa1/2000-2999/2212/2212/1.png'\n",
      "移动到根目录:b'G:/\\xe9\\xa5\\xad\\xe6\\xa1\\xb6\\xe8\\xae\\xbe\\xe8\\xae\\xa1/2000-2999/2212/2212/2.png'\n",
      "移动到根目录:b'G:/\\xe9\\xa5\\xad\\xe6\\xa1\\xb6\\xe8\\xae\\xbe\\xe8\\xae\\xa1/2000-2999/2212/2212/3.png'\n",
      "移动到根目录:b'G:/\\xe9\\xa5\\xad\\xe6\\xa1\\xb6\\xe8\\xae\\xbe\\xe8\\xae\\xa1/2000-2999/2212/2212/4.png'\n",
      "移动到根目录:b'G:/\\xe9\\xa5\\xad\\xe6\\xa1\\xb6\\xe8\\xae\\xbe\\xe8\\xae\\xa1/2000-2999/2212/2212/1 (1).png'\n",
      "移动到根目录:b'G:/\\xe9\\xa5\\xad\\xe6\\xa1\\xb6\\xe8\\xae\\xbe\\xe8\\xae\\xa1/2000-2999/2212/2212/2 (1).png'\n",
      "移动到根目录:b'G:/\\xe9\\xa5\\xad\\xe6\\xa1\\xb6\\xe8\\xae\\xbe\\xe8\\xae\\xa1/2000-2999/2212/2212/3 (1).png'\n",
      "移动到根目录:b'G:/\\xe9\\xa5\\xad\\xe6\\xa1\\xb6\\xe8\\xae\\xbe\\xe8\\xae\\xa1/2000-2999/2212/2212/4 (1).png'\n",
      "移动到根目录:b'G:/\\xe9\\xa5\\xad\\xe6\\xa1\\xb6\\xe8\\xae\\xbe\\xe8\\xae\\xa1/2000-2999/2212/2212/1 (2).png'\n",
      "删除多余文件夹：G:\\饭桶设计\\2000-2999\\2212\\2212\\street-pole-banner-mockup-set\n",
      "删除多余文件夹：G:\\饭桶设计\\2000-2999\\2212\\2212\\street-pole-banner-mockup-set_1\n",
      "删除多余文件夹：G:\\饭桶设计\\2000-2999\\2212\\2212\\street-pole-banner-mockup-set_2\n"
     ]
    },
    {
     "name": "stderr",
     "output_type": "stream",
     "text": [
      "复制到制定目录: 100%|█████████████████████████████████████████████████| 9/9 [00:00<00:00, 65.75it/s]\n"
     ]
    },
    {
     "name": "stdout",
     "output_type": "stream",
     "text": [
      "目标文件存在:G:/饭桶设计/2000-2999/2212/效果图/1.png\n",
      "目标文件存在:G:/饭桶设计/2000-2999/2212/效果图/2.png\n",
      "目标文件存在:G:/饭桶设计/2000-2999/2212/效果图/3.png\n",
      "目标文件存在:G:/饭桶设计/2000-2999/2212/效果图/4.png\n"
     ]
    },
    {
     "name": "stderr",
     "output_type": "stream",
     "text": [
      "解压ZIP: 100%|████████████████████████████████████████████████████████| 3/3 [00:04<00:00,  1.66s/it]\n",
      "解压RAR: 0it [00:00, ?it/s]\n"
     ]
    },
    {
     "name": "stdout",
     "output_type": "stream",
     "text": [
      "移动到根目录:b'G:/\\xe9\\xa5\\xad\\xe6\\xa1\\xb6\\xe8\\xae\\xbe\\xe8\\xae\\xa1/2000-2999/2212/2212/Help Guide.pdf'\n",
      "移动到根目录:b'G:/\\xe9\\xa5\\xad\\xe6\\xa1\\xb6\\xe8\\xae\\xbe\\xe8\\xae\\xa1/2000-2999/2212/2212/Street-Pole-Banner-02.psd'\n",
      "移动到根目录:b'G:/\\xe9\\xa5\\xad\\xe6\\xa1\\xb6\\xe8\\xae\\xbe\\xe8\\xae\\xa1/2000-2999/2212/2212/._Help Guide.pdf'\n",
      "移动到根目录:b'G:/\\xe9\\xa5\\xad\\xe6\\xa1\\xb6\\xe8\\xae\\xbe\\xe8\\xae\\xa1/2000-2999/2212/2212/._Street-Pole-Banner-02.psd'\n",
      "移动到根目录:b'G:/\\xe9\\xa5\\xad\\xe6\\xa1\\xb6\\xe8\\xae\\xbe\\xe8\\xae\\xa1/2000-2999/2212/2212/Help Guide (1).pdf'\n",
      "移动到根目录:b'G:/\\xe9\\xa5\\xad\\xe6\\xa1\\xb6\\xe8\\xae\\xbe\\xe8\\xae\\xa1/2000-2999/2212/2212/Street-Pole-Banner-01.psd'\n",
      "移动到根目录:b'G:/\\xe9\\xa5\\xad\\xe6\\xa1\\xb6\\xe8\\xae\\xbe\\xe8\\xae\\xa1/2000-2999/2212/2212/Street-Pole-Banner-03.psd'\n",
      "移动到根目录:b'G:/\\xe9\\xa5\\xad\\xe6\\xa1\\xb6\\xe8\\xae\\xbe\\xe8\\xae\\xa1/2000-2999/2212/2212/Street-Pole-Banner-04.psd'\n",
      "移动到根目录:b'G:/\\xe9\\xa5\\xad\\xe6\\xa1\\xb6\\xe8\\xae\\xbe\\xe8\\xae\\xa1/2000-2999/2212/2212/._Help Guide (1).pdf'\n",
      "移动到根目录:b'G:/\\xe9\\xa5\\xad\\xe6\\xa1\\xb6\\xe8\\xae\\xbe\\xe8\\xae\\xa1/2000-2999/2212/2212/._Street-Pole-Banner-01.psd'\n",
      "移动到根目录:b'G:/\\xe9\\xa5\\xad\\xe6\\xa1\\xb6\\xe8\\xae\\xbe\\xe8\\xae\\xa1/2000-2999/2212/2212/._Street-Pole-Banner-03.psd'\n",
      "移动到根目录:b'G:/\\xe9\\xa5\\xad\\xe6\\xa1\\xb6\\xe8\\xae\\xbe\\xe8\\xae\\xa1/2000-2999/2212/2212/._Street-Pole-Banner-04.psd'\n",
      "移动到根目录:b'G:/\\xe9\\xa5\\xad\\xe6\\xa1\\xb6\\xe8\\xae\\xbe\\xe8\\xae\\xa1/2000-2999/2212/2212/.DS_Store'\n",
      "移动到根目录:b'G:/\\xe9\\xa5\\xad\\xe6\\xa1\\xb6\\xe8\\xae\\xbe\\xe8\\xae\\xa1/2000-2999/2212/2212/Help Guide (2).pdf'\n",
      "移动到根目录:b'G:/\\xe9\\xa5\\xad\\xe6\\xa1\\xb6\\xe8\\xae\\xbe\\xe8\\xae\\xa1/2000-2999/2212/2212/Street-Pole-Banner-05.psd'\n",
      "移动到根目录:b'G:/\\xe9\\xa5\\xad\\xe6\\xa1\\xb6\\xe8\\xae\\xbe\\xe8\\xae\\xa1/2000-2999/2212/2212/Street-Pole-Banner-06.psd'\n",
      "移动到根目录:b'G:/\\xe9\\xa5\\xad\\xe6\\xa1\\xb6\\xe8\\xae\\xbe\\xe8\\xae\\xa1/2000-2999/2212/2212/Street-Pole-Banner-07.psd'\n",
      "移动到根目录:b'G:/\\xe9\\xa5\\xad\\xe6\\xa1\\xb6\\xe8\\xae\\xbe\\xe8\\xae\\xa1/2000-2999/2212/2212/._.DS_Store'\n",
      "移动到根目录:b'G:/\\xe9\\xa5\\xad\\xe6\\xa1\\xb6\\xe8\\xae\\xbe\\xe8\\xae\\xa1/2000-2999/2212/2212/._Help Guide (2).pdf'\n",
      "移动到根目录:b'G:/\\xe9\\xa5\\xad\\xe6\\xa1\\xb6\\xe8\\xae\\xbe\\xe8\\xae\\xa1/2000-2999/2212/2212/._Street-Pole-Banner-05.psd'\n",
      "移动到根目录:b'G:/\\xe9\\xa5\\xad\\xe6\\xa1\\xb6\\xe8\\xae\\xbe\\xe8\\xae\\xa1/2000-2999/2212/2212/._Street-Pole-Banner-06.psd'\n",
      "移动到根目录:b'G:/\\xe9\\xa5\\xad\\xe6\\xa1\\xb6\\xe8\\xae\\xbe\\xe8\\xae\\xa1/2000-2999/2212/2212/._Street-Pole-Banner-07.psd'\n",
      "删除多余文件夹：G:\\饭桶设计\\2000-2999\\2212\\2212\\street-pole-banner-mockup-set-2023-01-25-05-00-07-utc\n",
      "删除多余文件夹：G:\\饭桶设计\\2000-2999\\2212\\2212\\street-pole-banner-mockup-set-2023-01-30-19-37-53-utc\n",
      "删除多余文件夹：G:\\饭桶设计\\2000-2999\\2212\\2212\\street-pole-banner-mockup-set-2023-02-06-17-55-08-utc\n",
      "文件重命名：b'G:/\\xe9\\xa5\\xad\\xe6\\xa1\\xb6\\xe8\\xae\\xbe\\xe8\\xae\\xa1/2000-2999/2212/2212/Street-Pole-Banner-01.psd'\n",
      "文件重命名：b'G:/\\xe9\\xa5\\xad\\xe6\\xa1\\xb6\\xe8\\xae\\xbe\\xe8\\xae\\xa1/2000-2999/2212/2212/Street-Pole-Banner-02.psd'\n",
      "文件重命名：b'G:/\\xe9\\xa5\\xad\\xe6\\xa1\\xb6\\xe8\\xae\\xbe\\xe8\\xae\\xa1/2000-2999/2212/2212/Street-Pole-Banner-03.psd'\n",
      "文件重命名：b'G:/\\xe9\\xa5\\xad\\xe6\\xa1\\xb6\\xe8\\xae\\xbe\\xe8\\xae\\xa1/2000-2999/2212/2212/Street-Pole-Banner-04.psd'\n",
      "文件重命名：b'G:/\\xe9\\xa5\\xad\\xe6\\xa1\\xb6\\xe8\\xae\\xbe\\xe8\\xae\\xa1/2000-2999/2212/2212/Street-Pole-Banner-05.psd'\n",
      "文件重命名：b'G:/\\xe9\\xa5\\xad\\xe6\\xa1\\xb6\\xe8\\xae\\xbe\\xe8\\xae\\xa1/2000-2999/2212/2212/Street-Pole-Banner-06.psd'\n",
      "文件重命名：b'G:/\\xe9\\xa5\\xad\\xe6\\xa1\\xb6\\xe8\\xae\\xbe\\xe8\\xae\\xa1/2000-2999/2212/2212/Street-Pole-Banner-07.psd'\n",
      "文件重命名：b'G:/\\xe9\\xa5\\xad\\xe6\\xa1\\xb6\\xe8\\xae\\xbe\\xe8\\xae\\xa1/2000-2999/2212/2212/test(1).psd'\n",
      "文件重命名：b'G:/\\xe9\\xa5\\xad\\xe6\\xa1\\xb6\\xe8\\xae\\xbe\\xe8\\xae\\xa1/2000-2999/2212/2212/test(2).psd'\n",
      "文件重命名：b'G:/\\xe9\\xa5\\xad\\xe6\\xa1\\xb6\\xe8\\xae\\xbe\\xe8\\xae\\xa1/2000-2999/2212/2212/test(3).psd'\n",
      "文件重命名：b'G:/\\xe9\\xa5\\xad\\xe6\\xa1\\xb6\\xe8\\xae\\xbe\\xe8\\xae\\xa1/2000-2999/2212/2212/test(4).psd'\n",
      "文件重命名：b'G:/\\xe9\\xa5\\xad\\xe6\\xa1\\xb6\\xe8\\xae\\xbe\\xe8\\xae\\xa1/2000-2999/2212/2212/test(5).psd'\n",
      "文件重命名：b'G:/\\xe9\\xa5\\xad\\xe6\\xa1\\xb6\\xe8\\xae\\xbe\\xe8\\xae\\xa1/2000-2999/2212/2212/test(6).psd'\n",
      "文件重命名：b'G:/\\xe9\\xa5\\xad\\xe6\\xa1\\xb6\\xe8\\xae\\xbe\\xe8\\xae\\xa1/2000-2999/2212/2212/test(7).psd'\n"
     ]
    },
    {
     "name": "stderr",
     "output_type": "stream",
     "text": [
      "PSD添加广告生成图片:   0%|                                                    | 0/7 [00:00<?, ?it/s]"
     ]
    },
    {
     "name": "stdout",
     "output_type": "stream",
     "text": [
      "\n",
      "\n",
      "处理文件:G:/饭桶设计/2000-2999/2212/2212/饭桶设计(1).psd\n",
      "导出PNG\n",
      "插入广告\n"
     ]
    },
    {
     "name": "stderr",
     "output_type": "stream",
     "text": [
      "PSD添加广告生成图片:  14%|██████▎                                     | 1/7 [00:05<00:32,  5.34s/it]"
     ]
    },
    {
     "name": "stdout",
     "output_type": "stream",
     "text": [
      "\n",
      "\n",
      "处理文件:G:/饭桶设计/2000-2999/2212/2212/饭桶设计(2).psd\n",
      "导出PNG\n",
      "插入广告\n"
     ]
    },
    {
     "name": "stderr",
     "output_type": "stream",
     "text": [
      "PSD添加广告生成图片:  29%|████████████▌                               | 2/7 [00:29<01:21, 16.21s/it]"
     ]
    },
    {
     "name": "stdout",
     "output_type": "stream",
     "text": [
      "\n",
      "\n",
      "处理文件:G:/饭桶设计/2000-2999/2212/2212/饭桶设计(3).psd\n",
      "导出PNG\n",
      "插入广告\n"
     ]
    },
    {
     "name": "stderr",
     "output_type": "stream",
     "text": [
      "PSD添加广告生成图片:  43%|██████████████████▊                         | 3/7 [00:39<00:54, 13.72s/it]"
     ]
    },
    {
     "name": "stdout",
     "output_type": "stream",
     "text": [
      "\n",
      "\n",
      "处理文件:G:/饭桶设计/2000-2999/2212/2212/饭桶设计(4).psd\n",
      "导出PNG\n",
      "插入广告\n"
     ]
    },
    {
     "name": "stderr",
     "output_type": "stream",
     "text": [
      "PSD添加广告生成图片:  57%|█████████████████████████▏                  | 4/7 [00:47<00:33, 11.11s/it]"
     ]
    },
    {
     "name": "stdout",
     "output_type": "stream",
     "text": [
      "\n",
      "\n",
      "处理文件:G:/饭桶设计/2000-2999/2212/2212/饭桶设计(5).psd\n",
      "导出PNG\n",
      "插入广告\n"
     ]
    },
    {
     "name": "stderr",
     "output_type": "stream",
     "text": [
      "PSD添加广告生成图片:  71%|███████████████████████████████▍            | 5/7 [00:52<00:18,  9.22s/it]"
     ]
    },
    {
     "name": "stdout",
     "output_type": "stream",
     "text": [
      "\n",
      "\n",
      "处理文件:G:/饭桶设计/2000-2999/2212/2212/饭桶设计(6).psd\n",
      "导出PNG\n",
      "插入广告\n"
     ]
    },
    {
     "name": "stderr",
     "output_type": "stream",
     "text": [
      "PSD添加广告生成图片:  86%|█████████████████████████████████████▋      | 6/7 [01:03<00:09,  9.53s/it]"
     ]
    },
    {
     "name": "stdout",
     "output_type": "stream",
     "text": [
      "\n",
      "\n",
      "处理文件:G:/饭桶设计/2000-2999/2212/2212/饭桶设计(7).psd\n",
      "导出PNG\n",
      "插入广告\n"
     ]
    },
    {
     "name": "stderr",
     "output_type": "stream",
     "text": [
      "PSD添加广告生成图片: 100%|████████████████████████████████████████████| 7/7 [01:24<00:00, 12.10s/it]\n",
      "AI导出PNG: 0it [00:00, ?it/s]\n",
      "PPT导出PNG: 0it [00:00, ?it/s]\n",
      "复制到制定目录: 100%|████████████████████████████████████████████████| 7/7 [00:00<00:00, 333.30it/s]\n",
      "图片添加水印: 100%|███████████████████████████████████████████████████| 7/7 [00:02<00:00,  2.61it/s]\n"
     ]
    },
    {
     "name": "stdout",
     "output_type": "stream",
     "text": [
      "移动到根目录:b'G:/\\xe9\\xa5\\xad\\xe6\\xa1\\xb6\\xe8\\xae\\xbe\\xe8\\xae\\xa1/2000-2999/2213/2213/1.png'\n",
      "移动到根目录:b'G:/\\xe9\\xa5\\xad\\xe6\\xa1\\xb6\\xe8\\xae\\xbe\\xe8\\xae\\xa1/2000-2999/2213/2213/1 (1).png'\n",
      "移动到根目录:b'G:/\\xe9\\xa5\\xad\\xe6\\xa1\\xb6\\xe8\\xae\\xbe\\xe8\\xae\\xa1/2000-2999/2213/2213/1 (2).png'\n",
      "移动到根目录:b'G:/\\xe9\\xa5\\xad\\xe6\\xa1\\xb6\\xe8\\xae\\xbe\\xe8\\xae\\xa1/2000-2999/2213/2213/2.png'\n",
      "移动到根目录:b'G:/\\xe9\\xa5\\xad\\xe6\\xa1\\xb6\\xe8\\xae\\xbe\\xe8\\xae\\xa1/2000-2999/2213/2213/1 (3).png'\n",
      "移动到根目录:b'G:/\\xe9\\xa5\\xad\\xe6\\xa1\\xb6\\xe8\\xae\\xbe\\xe8\\xae\\xa1/2000-2999/2213/2213/2 (1).png'\n",
      "移动到根目录:b'G:/\\xe9\\xa5\\xad\\xe6\\xa1\\xb6\\xe8\\xae\\xbe\\xe8\\xae\\xa1/2000-2999/2213/2213/3.png'\n",
      "移动到根目录:b'G:/\\xe9\\xa5\\xad\\xe6\\xa1\\xb6\\xe8\\xae\\xbe\\xe8\\xae\\xa1/2000-2999/2213/2213/4.png'\n",
      "移动到根目录:b'G:/\\xe9\\xa5\\xad\\xe6\\xa1\\xb6\\xe8\\xae\\xbe\\xe8\\xae\\xa1/2000-2999/2213/2213/1 (4).png'\n",
      "移动到根目录:b'G:/\\xe9\\xa5\\xad\\xe6\\xa1\\xb6\\xe8\\xae\\xbe\\xe8\\xae\\xa1/2000-2999/2213/2213/2 (2).png'\n",
      "移动到根目录:b'G:/\\xe9\\xa5\\xad\\xe6\\xa1\\xb6\\xe8\\xae\\xbe\\xe8\\xae\\xa1/2000-2999/2213/2213/3 (1).png'\n",
      "移动到根目录:b'G:/\\xe9\\xa5\\xad\\xe6\\xa1\\xb6\\xe8\\xae\\xbe\\xe8\\xae\\xa1/2000-2999/2213/2213/4 (1).png'\n",
      "移动到根目录:b'G:/\\xe9\\xa5\\xad\\xe6\\xa1\\xb6\\xe8\\xae\\xbe\\xe8\\xae\\xa1/2000-2999/2213/2213/1 (5).png'\n",
      "移动到根目录:b'G:/\\xe9\\xa5\\xad\\xe6\\xa1\\xb6\\xe8\\xae\\xbe\\xe8\\xae\\xa1/2000-2999/2213/2213/1 (6).png'\n",
      "移动到根目录:b'G:/\\xe9\\xa5\\xad\\xe6\\xa1\\xb6\\xe8\\xae\\xbe\\xe8\\xae\\xa1/2000-2999/2213/2213/2 (3).png'\n",
      "移动到根目录:b'G:/\\xe9\\xa5\\xad\\xe6\\xa1\\xb6\\xe8\\xae\\xbe\\xe8\\xae\\xa1/2000-2999/2213/2213/3 (2).png'\n",
      "移动到根目录:b'G:/\\xe9\\xa5\\xad\\xe6\\xa1\\xb6\\xe8\\xae\\xbe\\xe8\\xae\\xa1/2000-2999/2213/2213/4 (2).png'\n",
      "移动到根目录:b'G:/\\xe9\\xa5\\xad\\xe6\\xa1\\xb6\\xe8\\xae\\xbe\\xe8\\xae\\xa1/2000-2999/2213/2213/1 (7).png'\n",
      "移动到根目录:b'G:/\\xe9\\xa5\\xad\\xe6\\xa1\\xb6\\xe8\\xae\\xbe\\xe8\\xae\\xa1/2000-2999/2213/2213/2 (4).png'\n",
      "移动到根目录:b'G:/\\xe9\\xa5\\xad\\xe6\\xa1\\xb6\\xe8\\xae\\xbe\\xe8\\xae\\xa1/2000-2999/2213/2213/3 (3).png'\n",
      "移动到根目录:b'G:/\\xe9\\xa5\\xad\\xe6\\xa1\\xb6\\xe8\\xae\\xbe\\xe8\\xae\\xa1/2000-2999/2213/2213/4 (3).png'\n",
      "移动到根目录:b'G:/\\xe9\\xa5\\xad\\xe6\\xa1\\xb6\\xe8\\xae\\xbe\\xe8\\xae\\xa1/2000-2999/2213/2213/1 (8).png'\n",
      "移动到根目录:b'G:/\\xe9\\xa5\\xad\\xe6\\xa1\\xb6\\xe8\\xae\\xbe\\xe8\\xae\\xa1/2000-2999/2213/2213/2 (5).png'\n",
      "移动到根目录:b'G:/\\xe9\\xa5\\xad\\xe6\\xa1\\xb6\\xe8\\xae\\xbe\\xe8\\xae\\xa1/2000-2999/2213/2213/3 (4).png'\n",
      "移动到根目录:b'G:/\\xe9\\xa5\\xad\\xe6\\xa1\\xb6\\xe8\\xae\\xbe\\xe8\\xae\\xa1/2000-2999/2213/2213/4 (4).png'\n",
      "删除多余文件夹：G:\\饭桶设计\\2000-2999\\2213\\2213\\business-card-take-away-paper-coffee-cup-mockups\n",
      "删除多余文件夹：G:\\饭桶设计\\2000-2999\\2213\\2213\\paper-cup-and-business-card-mockup-design\n",
      "删除多余文件夹：G:\\饭桶设计\\2000-2999\\2213\\2213\\take-away-paper-coffee-cup-mockup\n",
      "删除多余文件夹：G:\\饭桶设计\\2000-2999\\2213\\2213\\take-away-paper-coffee-cup-mockups\n",
      "删除多余文件夹：G:\\饭桶设计\\2000-2999\\2213\\2213\\take-away-paper-coffee-cup-mockups_1\n",
      "删除多余文件夹：G:\\饭桶设计\\2000-2999\\2213\\2213\\take-away-paper-coffee-cup-mockup_1\n",
      "删除多余文件夹：G:\\饭桶设计\\2000-2999\\2213\\2213\\take-away-paper-coffee-cup-mockup_2\n",
      "删除多余文件夹：G:\\饭桶设计\\2000-2999\\2213\\2213\\take-away-paper-coffee-cup-mockup_5\n",
      "删除多余文件夹：G:\\饭桶设计\\2000-2999\\2213\\2213\\take-away-paper-coffee-cup-mockup_6\n"
     ]
    },
    {
     "name": "stderr",
     "output_type": "stream",
     "text": [
      "复制到制定目录:  52%|████████████████████████▍                      | 13/25 [00:00<00:00, 39.86it/s]"
     ]
    },
    {
     "name": "stdout",
     "output_type": "stream",
     "text": [
      "目标文件存在:G:/饭桶设计/2000-2999/2213/效果图/1.png\n",
      "目标文件存在:G:/饭桶设计/2000-2999/2213/效果图/2.png\n"
     ]
    },
    {
     "name": "stderr",
     "output_type": "stream",
     "text": [
      "复制到制定目录: 100%|███████████████████████████████████████████████| 25/25 [00:00<00:00, 41.77it/s]\n"
     ]
    },
    {
     "name": "stdout",
     "output_type": "stream",
     "text": [
      "目标文件存在:G:/饭桶设计/2000-2999/2213/效果图/3.png\n",
      "目标文件存在:G:/饭桶设计/2000-2999/2213/效果图/4.png\n"
     ]
    },
    {
     "name": "stderr",
     "output_type": "stream",
     "text": [
      "解压ZIP: 100%|██████████████████████████████████████████████████████| 10/10 [00:19<00:00,  1.93s/it]\n",
      "解压RAR: 0it [00:00, ?it/s]\n"
     ]
    },
    {
     "name": "stdout",
     "output_type": "stream",
     "text": [
      "移动到根目录:b'G:/\\xe9\\xa5\\xad\\xe6\\xa1\\xb6\\xe8\\xae\\xbe\\xe8\\xae\\xa1/2000-2999/2213/2213/.DS_Store'\n",
      "移动到根目录:b'G:/\\xe9\\xa5\\xad\\xe6\\xa1\\xb6\\xe8\\xae\\xbe\\xe8\\xae\\xa1/2000-2999/2213/2213/Help Guide.pdf'\n",
      "移动到根目录:b'G:/\\xe9\\xa5\\xad\\xe6\\xa1\\xb6\\xe8\\xae\\xbe\\xe8\\xae\\xa1/2000-2999/2213/2213/Paper cup 22-1.psd'\n",
      "移动到根目录:b'G:/\\xe9\\xa5\\xad\\xe6\\xa1\\xb6\\xe8\\xae\\xbe\\xe8\\xae\\xa1/2000-2999/2213/2213/._Paper Cup008'\n",
      "移动到根目录:b'G:/\\xe9\\xa5\\xad\\xe6\\xa1\\xb6\\xe8\\xae\\xbe\\xe8\\xae\\xa1/2000-2999/2213/2213/._.DS_Store'\n",
      "移动到根目录:b'G:/\\xe9\\xa5\\xad\\xe6\\xa1\\xb6\\xe8\\xae\\xbe\\xe8\\xae\\xa1/2000-2999/2213/2213/._Help Guide.pdf'\n",
      "移动到根目录:b'G:/\\xe9\\xa5\\xad\\xe6\\xa1\\xb6\\xe8\\xae\\xbe\\xe8\\xae\\xa1/2000-2999/2213/2213/._Paper cup 22-1.psd'\n",
      "移动到根目录:b'G:/\\xe9\\xa5\\xad\\xe6\\xa1\\xb6\\xe8\\xae\\xbe\\xe8\\xae\\xa1/2000-2999/2213/2213/.DS_Store (1)'\n",
      "移动到根目录:b'G:/\\xe9\\xa5\\xad\\xe6\\xa1\\xb6\\xe8\\xae\\xbe\\xe8\\xae\\xa1/2000-2999/2213/2213/Help Guide (1).pdf'\n",
      "移动到根目录:b'G:/\\xe9\\xa5\\xad\\xe6\\xa1\\xb6\\xe8\\xae\\xbe\\xe8\\xae\\xa1/2000-2999/2213/2213/Paper cup 23.psd'\n",
      "移动到根目录:b'G:/\\xe9\\xa5\\xad\\xe6\\xa1\\xb6\\xe8\\xae\\xbe\\xe8\\xae\\xa1/2000-2999/2213/2213/._ (1).DS_Store'\n",
      "移动到根目录:b'G:/\\xe9\\xa5\\xad\\xe6\\xa1\\xb6\\xe8\\xae\\xbe\\xe8\\xae\\xa1/2000-2999/2213/2213/._Help Guide (1).pdf'\n",
      "移动到根目录:b'G:/\\xe9\\xa5\\xad\\xe6\\xa1\\xb6\\xe8\\xae\\xbe\\xe8\\xae\\xa1/2000-2999/2213/2213/._Paper cup 23.psd'\n",
      "移动到根目录:b'G:/\\xe9\\xa5\\xad\\xe6\\xa1\\xb6\\xe8\\xae\\xbe\\xe8\\xae\\xa1/2000-2999/2213/2213/Help Guide (2).pdf'\n",
      "移动到根目录:b'G:/\\xe9\\xa5\\xad\\xe6\\xa1\\xb6\\xe8\\xae\\xbe\\xe8\\xae\\xa1/2000-2999/2213/2213/Paper cup 22.psd'\n",
      "移动到根目录:b'G:/\\xe9\\xa5\\xad\\xe6\\xa1\\xb6\\xe8\\xae\\xbe\\xe8\\xae\\xa1/2000-2999/2213/2213/._Help Guide (2).pdf'\n",
      "移动到根目录:b'G:/\\xe9\\xa5\\xad\\xe6\\xa1\\xb6\\xe8\\xae\\xbe\\xe8\\xae\\xa1/2000-2999/2213/2213/._Paper cup 22.psd'\n",
      "移动到根目录:b'G:/\\xe9\\xa5\\xad\\xe6\\xa1\\xb6\\xe8\\xae\\xbe\\xe8\\xae\\xa1/2000-2999/2213/2213/.DS_Store (2)'\n",
      "移动到根目录:b'G:/\\xe9\\xa5\\xad\\xe6\\xa1\\xb6\\xe8\\xae\\xbe\\xe8\\xae\\xa1/2000-2999/2213/2213/Help Guide (3).pdf'\n",
      "移动到根目录:b'G:/\\xe9\\xa5\\xad\\xe6\\xa1\\xb6\\xe8\\xae\\xbe\\xe8\\xae\\xa1/2000-2999/2213/2213/Paper cup 04.psd'\n",
      "移动到根目录:b'G:/\\xe9\\xa5\\xad\\xe6\\xa1\\xb6\\xe8\\xae\\xbe\\xe8\\xae\\xa1/2000-2999/2213/2213/Paper cup 05.psd'\n",
      "移动到根目录:b'G:/\\xe9\\xa5\\xad\\xe6\\xa1\\xb6\\xe8\\xae\\xbe\\xe8\\xae\\xa1/2000-2999/2213/2213/Paper cup 06.psd'\n",
      "移动到根目录:b'G:/\\xe9\\xa5\\xad\\xe6\\xa1\\xb6\\xe8\\xae\\xbe\\xe8\\xae\\xa1/2000-2999/2213/2213/._ (2).DS_Store'\n",
      "移动到根目录:b'G:/\\xe9\\xa5\\xad\\xe6\\xa1\\xb6\\xe8\\xae\\xbe\\xe8\\xae\\xa1/2000-2999/2213/2213/._Help Guide (3).pdf'\n",
      "移动到根目录:b'G:/\\xe9\\xa5\\xad\\xe6\\xa1\\xb6\\xe8\\xae\\xbe\\xe8\\xae\\xa1/2000-2999/2213/2213/._Paper cup 04.psd'\n",
      "移动到根目录:b'G:/\\xe9\\xa5\\xad\\xe6\\xa1\\xb6\\xe8\\xae\\xbe\\xe8\\xae\\xa1/2000-2999/2213/2213/._Paper cup 05.psd'\n",
      "移动到根目录:b'G:/\\xe9\\xa5\\xad\\xe6\\xa1\\xb6\\xe8\\xae\\xbe\\xe8\\xae\\xa1/2000-2999/2213/2213/._Paper cup 06.psd'\n",
      "移动到根目录:b'G:/\\xe9\\xa5\\xad\\xe6\\xa1\\xb6\\xe8\\xae\\xbe\\xe8\\xae\\xa1/2000-2999/2213/2213/.DS_Store (3)'\n",
      "移动到根目录:b'G:/\\xe9\\xa5\\xad\\xe6\\xa1\\xb6\\xe8\\xae\\xbe\\xe8\\xae\\xa1/2000-2999/2213/2213/Help Guide (4).pdf'\n",
      "移动到根目录:b'G:/\\xe9\\xa5\\xad\\xe6\\xa1\\xb6\\xe8\\xae\\xbe\\xe8\\xae\\xa1/2000-2999/2213/2213/Paper cup 07.psd'\n",
      "移动到根目录:b'G:/\\xe9\\xa5\\xad\\xe6\\xa1\\xb6\\xe8\\xae\\xbe\\xe8\\xae\\xa1/2000-2999/2213/2213/Paper cup 08.psd'\n",
      "移动到根目录:b'G:/\\xe9\\xa5\\xad\\xe6\\xa1\\xb6\\xe8\\xae\\xbe\\xe8\\xae\\xa1/2000-2999/2213/2213/Paper cup 09.psd'\n",
      "移动到根目录:b'G:/\\xe9\\xa5\\xad\\xe6\\xa1\\xb6\\xe8\\xae\\xbe\\xe8\\xae\\xa1/2000-2999/2213/2213/._ (3).DS_Store'\n",
      "移动到根目录:b'G:/\\xe9\\xa5\\xad\\xe6\\xa1\\xb6\\xe8\\xae\\xbe\\xe8\\xae\\xa1/2000-2999/2213/2213/._Help Guide (4).pdf'\n",
      "移动到根目录:b'G:/\\xe9\\xa5\\xad\\xe6\\xa1\\xb6\\xe8\\xae\\xbe\\xe8\\xae\\xa1/2000-2999/2213/2213/._Paper cup 07.psd'\n",
      "移动到根目录:b'G:/\\xe9\\xa5\\xad\\xe6\\xa1\\xb6\\xe8\\xae\\xbe\\xe8\\xae\\xa1/2000-2999/2213/2213/._Paper cup 08.psd'\n",
      "移动到根目录:b'G:/\\xe9\\xa5\\xad\\xe6\\xa1\\xb6\\xe8\\xae\\xbe\\xe8\\xae\\xa1/2000-2999/2213/2213/._Paper cup 09.psd'\n",
      "移动到根目录:b'G:/\\xe9\\xa5\\xad\\xe6\\xa1\\xb6\\xe8\\xae\\xbe\\xe8\\xae\\xa1/2000-2999/2213/2213/.DS_Store (4)'\n",
      "移动到根目录:b'G:/\\xe9\\xa5\\xad\\xe6\\xa1\\xb6\\xe8\\xae\\xbe\\xe8\\xae\\xa1/2000-2999/2213/2213/Help Guide (5).pdf'\n",
      "移动到根目录:b'G:/\\xe9\\xa5\\xad\\xe6\\xa1\\xb6\\xe8\\xae\\xbe\\xe8\\xae\\xa1/2000-2999/2213/2213/Paper cup 10.psd'\n",
      "移动到根目录:b'G:/\\xe9\\xa5\\xad\\xe6\\xa1\\xb6\\xe8\\xae\\xbe\\xe8\\xae\\xa1/2000-2999/2213/2213/Paper cup 11.psd'\n",
      "移动到根目录:b'G:/\\xe9\\xa5\\xad\\xe6\\xa1\\xb6\\xe8\\xae\\xbe\\xe8\\xae\\xa1/2000-2999/2213/2213/Paper cup 12.psd'\n",
      "移动到根目录:b'G:/\\xe9\\xa5\\xad\\xe6\\xa1\\xb6\\xe8\\xae\\xbe\\xe8\\xae\\xa1/2000-2999/2213/2213/._ (4).DS_Store'\n",
      "移动到根目录:b'G:/\\xe9\\xa5\\xad\\xe6\\xa1\\xb6\\xe8\\xae\\xbe\\xe8\\xae\\xa1/2000-2999/2213/2213/._Help Guide (5).pdf'\n",
      "移动到根目录:b'G:/\\xe9\\xa5\\xad\\xe6\\xa1\\xb6\\xe8\\xae\\xbe\\xe8\\xae\\xa1/2000-2999/2213/2213/._Paper cup 10.psd'\n",
      "移动到根目录:b'G:/\\xe9\\xa5\\xad\\xe6\\xa1\\xb6\\xe8\\xae\\xbe\\xe8\\xae\\xa1/2000-2999/2213/2213/._Paper cup 11.psd'\n",
      "移动到根目录:b'G:/\\xe9\\xa5\\xad\\xe6\\xa1\\xb6\\xe8\\xae\\xbe\\xe8\\xae\\xa1/2000-2999/2213/2213/._Paper cup 12.psd'\n",
      "移动到根目录:b'G:/\\xe9\\xa5\\xad\\xe6\\xa1\\xb6\\xe8\\xae\\xbe\\xe8\\xae\\xa1/2000-2999/2213/2213/.DS_Store (5)'\n",
      "移动到根目录:b'G:/\\xe9\\xa5\\xad\\xe6\\xa1\\xb6\\xe8\\xae\\xbe\\xe8\\xae\\xa1/2000-2999/2213/2213/Help Guide (6).pdf'\n",
      "移动到根目录:b'G:/\\xe9\\xa5\\xad\\xe6\\xa1\\xb6\\xe8\\xae\\xbe\\xe8\\xae\\xa1/2000-2999/2213/2213/Paper cup 19.psd'\n",
      "移动到根目录:b'G:/\\xe9\\xa5\\xad\\xe6\\xa1\\xb6\\xe8\\xae\\xbe\\xe8\\xae\\xa1/2000-2999/2213/2213/._ (5).DS_Store'\n",
      "移动到根目录:b'G:/\\xe9\\xa5\\xad\\xe6\\xa1\\xb6\\xe8\\xae\\xbe\\xe8\\xae\\xa1/2000-2999/2213/2213/._Help Guide (6).pdf'\n",
      "移动到根目录:b'G:/\\xe9\\xa5\\xad\\xe6\\xa1\\xb6\\xe8\\xae\\xbe\\xe8\\xae\\xa1/2000-2999/2213/2213/._Paper cup 19.psd'\n",
      "移动到根目录:b'G:/\\xe9\\xa5\\xad\\xe6\\xa1\\xb6\\xe8\\xae\\xbe\\xe8\\xae\\xa1/2000-2999/2213/2213/.DS_Store (6)'\n",
      "移动到根目录:b'G:/\\xe9\\xa5\\xad\\xe6\\xa1\\xb6\\xe8\\xae\\xbe\\xe8\\xae\\xa1/2000-2999/2213/2213/Help Guide (7).pdf'\n",
      "移动到根目录:b'G:/\\xe9\\xa5\\xad\\xe6\\xa1\\xb6\\xe8\\xae\\xbe\\xe8\\xae\\xa1/2000-2999/2213/2213/Paper cup 21.psd'\n",
      "移动到根目录:b'G:/\\xe9\\xa5\\xad\\xe6\\xa1\\xb6\\xe8\\xae\\xbe\\xe8\\xae\\xa1/2000-2999/2213/2213/._ (6).DS_Store'\n",
      "移动到根目录:b'G:/\\xe9\\xa5\\xad\\xe6\\xa1\\xb6\\xe8\\xae\\xbe\\xe8\\xae\\xa1/2000-2999/2213/2213/._Help Guide (7).pdf'\n",
      "移动到根目录:b'G:/\\xe9\\xa5\\xad\\xe6\\xa1\\xb6\\xe8\\xae\\xbe\\xe8\\xae\\xa1/2000-2999/2213/2213/._Paper cup 21.psd'\n",
      "移动到根目录:b'G:/\\xe9\\xa5\\xad\\xe6\\xa1\\xb6\\xe8\\xae\\xbe\\xe8\\xae\\xa1/2000-2999/2213/2213/.DS_Store (7)'\n",
      "移动到根目录:b'G:/\\xe9\\xa5\\xad\\xe6\\xa1\\xb6\\xe8\\xae\\xbe\\xe8\\xae\\xa1/2000-2999/2213/2213/Help Guide (8).pdf'\n",
      "移动到根目录:b'G:/\\xe9\\xa5\\xad\\xe6\\xa1\\xb6\\xe8\\xae\\xbe\\xe8\\xae\\xa1/2000-2999/2213/2213/Paper Cup 01.psd'\n",
      "移动到根目录:b'G:/\\xe9\\xa5\\xad\\xe6\\xa1\\xb6\\xe8\\xae\\xbe\\xe8\\xae\\xa1/2000-2999/2213/2213/Paper Cup 02.psd'\n",
      "移动到根目录:b'G:/\\xe9\\xa5\\xad\\xe6\\xa1\\xb6\\xe8\\xae\\xbe\\xe8\\xae\\xa1/2000-2999/2213/2213/Paper cup 03.psd'\n",
      "移动到根目录:b'G:/\\xe9\\xa5\\xad\\xe6\\xa1\\xb6\\xe8\\xae\\xbe\\xe8\\xae\\xa1/2000-2999/2213/2213/._ (7).DS_Store'\n",
      "移动到根目录:b'G:/\\xe9\\xa5\\xad\\xe6\\xa1\\xb6\\xe8\\xae\\xbe\\xe8\\xae\\xa1/2000-2999/2213/2213/._Help Guide (8).pdf'\n",
      "移动到根目录:b'G:/\\xe9\\xa5\\xad\\xe6\\xa1\\xb6\\xe8\\xae\\xbe\\xe8\\xae\\xa1/2000-2999/2213/2213/._Paper Cup 01.psd'\n",
      "移动到根目录:b'G:/\\xe9\\xa5\\xad\\xe6\\xa1\\xb6\\xe8\\xae\\xbe\\xe8\\xae\\xa1/2000-2999/2213/2213/._Paper Cup 02.psd'\n",
      "移动到根目录:b'G:/\\xe9\\xa5\\xad\\xe6\\xa1\\xb6\\xe8\\xae\\xbe\\xe8\\xae\\xa1/2000-2999/2213/2213/._Paper cup 03.psd'\n",
      "移动到根目录:b'G:/\\xe9\\xa5\\xad\\xe6\\xa1\\xb6\\xe8\\xae\\xbe\\xe8\\xae\\xa1/2000-2999/2213/2213/.DS_Store (8)'\n",
      "移动到根目录:b'G:/\\xe9\\xa5\\xad\\xe6\\xa1\\xb6\\xe8\\xae\\xbe\\xe8\\xae\\xa1/2000-2999/2213/2213/Help Guide (9).pdf'\n",
      "移动到根目录:b'G:/\\xe9\\xa5\\xad\\xe6\\xa1\\xb6\\xe8\\xae\\xbe\\xe8\\xae\\xa1/2000-2999/2213/2213/Paper cup 16.psd'\n",
      "移动到根目录:b'G:/\\xe9\\xa5\\xad\\xe6\\xa1\\xb6\\xe8\\xae\\xbe\\xe8\\xae\\xa1/2000-2999/2213/2213/Paper cup 17.psd'\n",
      "移动到根目录:b'G:/\\xe9\\xa5\\xad\\xe6\\xa1\\xb6\\xe8\\xae\\xbe\\xe8\\xae\\xa1/2000-2999/2213/2213/Paper cup 18.psd'\n",
      "移动到根目录:b'G:/\\xe9\\xa5\\xad\\xe6\\xa1\\xb6\\xe8\\xae\\xbe\\xe8\\xae\\xa1/2000-2999/2213/2213/._Paper Cup007'\n",
      "移动到根目录:b'G:/\\xe9\\xa5\\xad\\xe6\\xa1\\xb6\\xe8\\xae\\xbe\\xe8\\xae\\xa1/2000-2999/2213/2213/._ (8).DS_Store'\n",
      "移动到根目录:b'G:/\\xe9\\xa5\\xad\\xe6\\xa1\\xb6\\xe8\\xae\\xbe\\xe8\\xae\\xa1/2000-2999/2213/2213/._Help Guide (9).pdf'\n",
      "移动到根目录:b'G:/\\xe9\\xa5\\xad\\xe6\\xa1\\xb6\\xe8\\xae\\xbe\\xe8\\xae\\xa1/2000-2999/2213/2213/._Paper cup 16.psd'\n",
      "移动到根目录:b'G:/\\xe9\\xa5\\xad\\xe6\\xa1\\xb6\\xe8\\xae\\xbe\\xe8\\xae\\xa1/2000-2999/2213/2213/._Paper cup 17.psd'\n",
      "移动到根目录:b'G:/\\xe9\\xa5\\xad\\xe6\\xa1\\xb6\\xe8\\xae\\xbe\\xe8\\xae\\xa1/2000-2999/2213/2213/._Paper cup 18.psd'\n",
      "删除多余文件夹：G:\\饭桶设计\\2000-2999\\2213\\2213\\business-card-take-away-paper-coffee-cup-mockups-2022-12-30-20-27-53-utc\n",
      "删除多余文件夹：G:\\饭桶设计\\2000-2999\\2213\\2213\\paper-cup-and-business-card-mockup-design-2023-01-21-00-09-21-utc\n",
      "删除多余文件夹：G:\\饭桶设计\\2000-2999\\2213\\2213\\take-away-paper-coffee-cup-mockup-2022-12-19-16-54-56-utc\n",
      "删除多余文件夹：G:\\饭桶设计\\2000-2999\\2213\\2213\\take-away-paper-coffee-cup-mockup-2022-12-23-16-03-53-utc\n",
      "删除多余文件夹：G:\\饭桶设计\\2000-2999\\2213\\2213\\take-away-paper-coffee-cup-mockup-2022-12-23-18-06-02-utc\n",
      "删除多余文件夹：G:\\饭桶设计\\2000-2999\\2213\\2213\\take-away-paper-coffee-cup-mockup-2022-12-23-18-06-20-utc\n",
      "删除多余文件夹：G:\\饭桶设计\\2000-2999\\2213\\2213\\take-away-paper-coffee-cup-mockup-2023-01-10-19-24-21-utc\n",
      "删除多余文件夹：G:\\饭桶设计\\2000-2999\\2213\\2213\\take-away-paper-coffee-cup-mockup-2023-02-07-00-40-08-utc\n",
      "删除多余文件夹：G:\\饭桶设计\\2000-2999\\2213\\2213\\take-away-paper-coffee-cup-mockups-2022-12-19-16-29-53-utc\n",
      "删除多余文件夹：G:\\饭桶设计\\2000-2999\\2213\\2213\\take-away-paper-coffee-cup-mockups-2022-12-30-20-20-38-utc\n",
      "文件重命名：b'G:/\\xe9\\xa5\\xad\\xe6\\xa1\\xb6\\xe8\\xae\\xbe\\xe8\\xae\\xa1/2000-2999/2213/2213/Paper Cup 01.psd'\n",
      "文件重命名：b'G:/\\xe9\\xa5\\xad\\xe6\\xa1\\xb6\\xe8\\xae\\xbe\\xe8\\xae\\xa1/2000-2999/2213/2213/Paper Cup 02.psd'\n",
      "文件重命名：b'G:/\\xe9\\xa5\\xad\\xe6\\xa1\\xb6\\xe8\\xae\\xbe\\xe8\\xae\\xa1/2000-2999/2213/2213/Paper cup 03.psd'\n",
      "文件重命名：b'G:/\\xe9\\xa5\\xad\\xe6\\xa1\\xb6\\xe8\\xae\\xbe\\xe8\\xae\\xa1/2000-2999/2213/2213/Paper cup 04.psd'\n",
      "文件重命名：b'G:/\\xe9\\xa5\\xad\\xe6\\xa1\\xb6\\xe8\\xae\\xbe\\xe8\\xae\\xa1/2000-2999/2213/2213/Paper cup 05.psd'\n",
      "文件重命名：b'G:/\\xe9\\xa5\\xad\\xe6\\xa1\\xb6\\xe8\\xae\\xbe\\xe8\\xae\\xa1/2000-2999/2213/2213/Paper cup 06.psd'\n",
      "文件重命名：b'G:/\\xe9\\xa5\\xad\\xe6\\xa1\\xb6\\xe8\\xae\\xbe\\xe8\\xae\\xa1/2000-2999/2213/2213/Paper cup 07.psd'\n",
      "文件重命名：b'G:/\\xe9\\xa5\\xad\\xe6\\xa1\\xb6\\xe8\\xae\\xbe\\xe8\\xae\\xa1/2000-2999/2213/2213/Paper cup 08.psd'\n",
      "文件重命名：b'G:/\\xe9\\xa5\\xad\\xe6\\xa1\\xb6\\xe8\\xae\\xbe\\xe8\\xae\\xa1/2000-2999/2213/2213/Paper cup 09.psd'\n",
      "文件重命名：b'G:/\\xe9\\xa5\\xad\\xe6\\xa1\\xb6\\xe8\\xae\\xbe\\xe8\\xae\\xa1/2000-2999/2213/2213/Paper cup 10.psd'\n",
      "文件重命名：b'G:/\\xe9\\xa5\\xad\\xe6\\xa1\\xb6\\xe8\\xae\\xbe\\xe8\\xae\\xa1/2000-2999/2213/2213/Paper cup 11.psd'\n",
      "文件重命名：b'G:/\\xe9\\xa5\\xad\\xe6\\xa1\\xb6\\xe8\\xae\\xbe\\xe8\\xae\\xa1/2000-2999/2213/2213/Paper cup 12.psd'\n",
      "文件重命名：b'G:/\\xe9\\xa5\\xad\\xe6\\xa1\\xb6\\xe8\\xae\\xbe\\xe8\\xae\\xa1/2000-2999/2213/2213/Paper cup 16.psd'\n",
      "文件重命名：b'G:/\\xe9\\xa5\\xad\\xe6\\xa1\\xb6\\xe8\\xae\\xbe\\xe8\\xae\\xa1/2000-2999/2213/2213/Paper cup 17.psd'\n",
      "文件重命名：b'G:/\\xe9\\xa5\\xad\\xe6\\xa1\\xb6\\xe8\\xae\\xbe\\xe8\\xae\\xa1/2000-2999/2213/2213/Paper cup 18.psd'\n",
      "文件重命名：b'G:/\\xe9\\xa5\\xad\\xe6\\xa1\\xb6\\xe8\\xae\\xbe\\xe8\\xae\\xa1/2000-2999/2213/2213/Paper cup 19.psd'\n",
      "文件重命名：b'G:/\\xe9\\xa5\\xad\\xe6\\xa1\\xb6\\xe8\\xae\\xbe\\xe8\\xae\\xa1/2000-2999/2213/2213/Paper cup 21.psd'\n",
      "文件重命名：b'G:/\\xe9\\xa5\\xad\\xe6\\xa1\\xb6\\xe8\\xae\\xbe\\xe8\\xae\\xa1/2000-2999/2213/2213/Paper cup 22-1.psd'\n",
      "文件重命名：b'G:/\\xe9\\xa5\\xad\\xe6\\xa1\\xb6\\xe8\\xae\\xbe\\xe8\\xae\\xa1/2000-2999/2213/2213/Paper cup 22.psd'\n",
      "文件重命名：b'G:/\\xe9\\xa5\\xad\\xe6\\xa1\\xb6\\xe8\\xae\\xbe\\xe8\\xae\\xa1/2000-2999/2213/2213/Paper cup 23.psd'\n",
      "文件重命名：b'G:/\\xe9\\xa5\\xad\\xe6\\xa1\\xb6\\xe8\\xae\\xbe\\xe8\\xae\\xa1/2000-2999/2213/2213/test(1).psd'\n",
      "文件重命名：b'G:/\\xe9\\xa5\\xad\\xe6\\xa1\\xb6\\xe8\\xae\\xbe\\xe8\\xae\\xa1/2000-2999/2213/2213/test(10).psd'\n",
      "文件重命名：b'G:/\\xe9\\xa5\\xad\\xe6\\xa1\\xb6\\xe8\\xae\\xbe\\xe8\\xae\\xa1/2000-2999/2213/2213/test(11).psd'\n",
      "文件重命名：b'G:/\\xe9\\xa5\\xad\\xe6\\xa1\\xb6\\xe8\\xae\\xbe\\xe8\\xae\\xa1/2000-2999/2213/2213/test(12).psd'\n",
      "文件重命名：b'G:/\\xe9\\xa5\\xad\\xe6\\xa1\\xb6\\xe8\\xae\\xbe\\xe8\\xae\\xa1/2000-2999/2213/2213/test(13).psd'\n",
      "文件重命名：b'G:/\\xe9\\xa5\\xad\\xe6\\xa1\\xb6\\xe8\\xae\\xbe\\xe8\\xae\\xa1/2000-2999/2213/2213/test(14).psd'\n",
      "文件重命名：b'G:/\\xe9\\xa5\\xad\\xe6\\xa1\\xb6\\xe8\\xae\\xbe\\xe8\\xae\\xa1/2000-2999/2213/2213/test(15).psd'\n",
      "文件重命名：b'G:/\\xe9\\xa5\\xad\\xe6\\xa1\\xb6\\xe8\\xae\\xbe\\xe8\\xae\\xa1/2000-2999/2213/2213/test(16).psd'\n",
      "文件重命名：b'G:/\\xe9\\xa5\\xad\\xe6\\xa1\\xb6\\xe8\\xae\\xbe\\xe8\\xae\\xa1/2000-2999/2213/2213/test(17).psd'\n",
      "文件重命名：b'G:/\\xe9\\xa5\\xad\\xe6\\xa1\\xb6\\xe8\\xae\\xbe\\xe8\\xae\\xa1/2000-2999/2213/2213/test(18).psd'\n",
      "文件重命名：b'G:/\\xe9\\xa5\\xad\\xe6\\xa1\\xb6\\xe8\\xae\\xbe\\xe8\\xae\\xa1/2000-2999/2213/2213/test(19).psd'\n",
      "文件重命名：b'G:/\\xe9\\xa5\\xad\\xe6\\xa1\\xb6\\xe8\\xae\\xbe\\xe8\\xae\\xa1/2000-2999/2213/2213/test(2).psd'\n",
      "文件重命名：b'G:/\\xe9\\xa5\\xad\\xe6\\xa1\\xb6\\xe8\\xae\\xbe\\xe8\\xae\\xa1/2000-2999/2213/2213/test(20).psd'\n",
      "文件重命名：b'G:/\\xe9\\xa5\\xad\\xe6\\xa1\\xb6\\xe8\\xae\\xbe\\xe8\\xae\\xa1/2000-2999/2213/2213/test(3).psd'\n",
      "文件重命名：b'G:/\\xe9\\xa5\\xad\\xe6\\xa1\\xb6\\xe8\\xae\\xbe\\xe8\\xae\\xa1/2000-2999/2213/2213/test(4).psd'\n",
      "文件重命名：b'G:/\\xe9\\xa5\\xad\\xe6\\xa1\\xb6\\xe8\\xae\\xbe\\xe8\\xae\\xa1/2000-2999/2213/2213/test(5).psd'\n",
      "文件重命名：b'G:/\\xe9\\xa5\\xad\\xe6\\xa1\\xb6\\xe8\\xae\\xbe\\xe8\\xae\\xa1/2000-2999/2213/2213/test(6).psd'\n",
      "文件重命名：b'G:/\\xe9\\xa5\\xad\\xe6\\xa1\\xb6\\xe8\\xae\\xbe\\xe8\\xae\\xa1/2000-2999/2213/2213/test(7).psd'\n",
      "文件重命名：b'G:/\\xe9\\xa5\\xad\\xe6\\xa1\\xb6\\xe8\\xae\\xbe\\xe8\\xae\\xa1/2000-2999/2213/2213/test(8).psd'\n",
      "文件重命名：b'G:/\\xe9\\xa5\\xad\\xe6\\xa1\\xb6\\xe8\\xae\\xbe\\xe8\\xae\\xa1/2000-2999/2213/2213/test(9).psd'\n"
     ]
    },
    {
     "name": "stderr",
     "output_type": "stream",
     "text": [
      "PSD添加广告生成图片:   0%|                                                   | 0/20 [00:00<?, ?it/s]"
     ]
    },
    {
     "name": "stdout",
     "output_type": "stream",
     "text": [
      "\n",
      "\n",
      "处理文件:G:/饭桶设计/2000-2999/2213/2213/饭桶设计(1).psd\n",
      "导出PNG\n",
      "插入广告\n"
     ]
    },
    {
     "name": "stderr",
     "output_type": "stream",
     "text": [
      "PSD添加广告生成图片:   5%|██▏                                        | 1/20 [00:08<02:45,  8.73s/it]"
     ]
    },
    {
     "name": "stdout",
     "output_type": "stream",
     "text": [
      "\n",
      "\n",
      "处理文件:G:/饭桶设计/2000-2999/2213/2213/饭桶设计(2).psd\n",
      "导出PNG\n",
      "插入广告\n"
     ]
    },
    {
     "name": "stderr",
     "output_type": "stream",
     "text": [
      "PSD添加广告生成图片:  10%|████▎                                      | 2/20 [00:20<03:13, 10.75s/it]"
     ]
    },
    {
     "name": "stdout",
     "output_type": "stream",
     "text": [
      "\n",
      "\n",
      "处理文件:G:/饭桶设计/2000-2999/2213/2213/饭桶设计(3).psd\n",
      "导出PNG\n",
      "插入广告\n"
     ]
    },
    {
     "name": "stderr",
     "output_type": "stream",
     "text": [
      "PSD添加广告生成图片:  15%|██████▍                                    | 3/20 [00:38<03:58, 14.02s/it]"
     ]
    },
    {
     "name": "stdout",
     "output_type": "stream",
     "text": [
      "\n",
      "\n",
      "处理文件:G:/饭桶设计/2000-2999/2213/2213/饭桶设计(4).psd\n",
      "导出PNG\n",
      "插入广告\n"
     ]
    },
    {
     "name": "stderr",
     "output_type": "stream",
     "text": [
      "PSD添加广告生成图片:  20%|████████▌                                  | 4/20 [00:53<03:46, 14.14s/it]"
     ]
    },
    {
     "name": "stdout",
     "output_type": "stream",
     "text": [
      "\n",
      "\n",
      "处理文件:G:/饭桶设计/2000-2999/2213/2213/饭桶设计(5).psd\n",
      "导出PNG\n",
      "插入广告\n"
     ]
    },
    {
     "name": "stderr",
     "output_type": "stream",
     "text": [
      "PSD添加广告生成图片:  25%|██████████▊                                | 5/20 [01:04<03:15, 13.00s/it]"
     ]
    },
    {
     "name": "stdout",
     "output_type": "stream",
     "text": [
      "\n",
      "\n",
      "处理文件:G:/饭桶设计/2000-2999/2213/2213/饭桶设计(6).psd\n",
      "导出PNG\n",
      "插入广告\n"
     ]
    },
    {
     "name": "stderr",
     "output_type": "stream",
     "text": [
      "PSD添加广告生成图片:  30%|████████████▉                              | 6/20 [01:11<02:35, 11.08s/it]"
     ]
    },
    {
     "name": "stdout",
     "output_type": "stream",
     "text": [
      "\n",
      "\n",
      "处理文件:G:/饭桶设计/2000-2999/2213/2213/饭桶设计(7).psd\n",
      "导出PNG\n",
      "插入广告\n"
     ]
    },
    {
     "name": "stderr",
     "output_type": "stream",
     "text": [
      "PSD添加广告生成图片:  35%|███████████████                            | 7/20 [01:23<02:26, 11.26s/it]"
     ]
    },
    {
     "name": "stdout",
     "output_type": "stream",
     "text": [
      "\n",
      "\n",
      "处理文件:G:/饭桶设计/2000-2999/2213/2213/饭桶设计(8).psd\n",
      "导出PNG\n",
      "插入广告\n"
     ]
    },
    {
     "name": "stderr",
     "output_type": "stream",
     "text": [
      "PSD添加广告生成图片:  40%|█████████████████▏                         | 8/20 [01:33<02:11, 10.95s/it]"
     ]
    },
    {
     "name": "stdout",
     "output_type": "stream",
     "text": [
      "\n",
      "\n",
      "处理文件:G:/饭桶设计/2000-2999/2213/2213/饭桶设计(9).psd\n",
      "导出PNG\n",
      "插入广告\n"
     ]
    },
    {
     "name": "stderr",
     "output_type": "stream",
     "text": [
      "PSD添加广告生成图片:  45%|███████████████████▎                       | 9/20 [01:43<01:58, 10.80s/it]"
     ]
    },
    {
     "name": "stdout",
     "output_type": "stream",
     "text": [
      "\n",
      "\n",
      "处理文件:G:/饭桶设计/2000-2999/2213/2213/饭桶设计(10).psd\n",
      "导出PNG\n",
      "插入广告\n"
     ]
    },
    {
     "name": "stderr",
     "output_type": "stream",
     "text": [
      "PSD添加广告生成图片:  50%|█████████████████████                     | 10/20 [01:52<01:41, 10.14s/it]"
     ]
    },
    {
     "name": "stdout",
     "output_type": "stream",
     "text": [
      "\n",
      "\n",
      "处理文件:G:/饭桶设计/2000-2999/2213/2213/饭桶设计(11).psd\n",
      "导出PNG\n",
      "插入广告\n"
     ]
    },
    {
     "name": "stderr",
     "output_type": "stream",
     "text": [
      "PSD添加广告生成图片:  55%|███████████████████████                   | 11/20 [02:00<01:26,  9.58s/it]"
     ]
    },
    {
     "name": "stdout",
     "output_type": "stream",
     "text": [
      "\n",
      "\n",
      "处理文件:G:/饭桶设计/2000-2999/2213/2213/饭桶设计(12).psd\n",
      "导出PNG\n",
      "插入广告\n"
     ]
    },
    {
     "name": "stderr",
     "output_type": "stream",
     "text": [
      "PSD添加广告生成图片:  60%|█████████████████████████▏                | 12/20 [02:10<01:15,  9.48s/it]"
     ]
    },
    {
     "name": "stdout",
     "output_type": "stream",
     "text": [
      "\n",
      "\n",
      "处理文件:G:/饭桶设计/2000-2999/2213/2213/饭桶设计(13).psd\n",
      "导出PNG\n",
      "插入广告\n"
     ]
    },
    {
     "name": "stderr",
     "output_type": "stream",
     "text": [
      "PSD添加广告生成图片:  65%|███████████████████████████▎              | 13/20 [02:18<01:05,  9.29s/it]"
     ]
    },
    {
     "name": "stdout",
     "output_type": "stream",
     "text": [
      "\n",
      "\n",
      "处理文件:G:/饭桶设计/2000-2999/2213/2213/饭桶设计(14).psd\n",
      "导出PNG\n",
      "插入广告\n"
     ]
    },
    {
     "name": "stderr",
     "output_type": "stream",
     "text": [
      "PSD添加广告生成图片:  70%|█████████████████████████████▍            | 14/20 [02:32<01:03, 10.54s/it]"
     ]
    },
    {
     "name": "stdout",
     "output_type": "stream",
     "text": [
      "\n",
      "\n",
      "处理文件:G:/饭桶设计/2000-2999/2213/2213/饭桶设计(15).psd\n",
      "导出PNG\n",
      "插入广告\n"
     ]
    },
    {
     "name": "stderr",
     "output_type": "stream",
     "text": [
      "PSD添加广告生成图片:  75%|███████████████████████████████▌          | 15/20 [02:41<00:50, 10.17s/it]"
     ]
    },
    {
     "name": "stdout",
     "output_type": "stream",
     "text": [
      "\n",
      "\n",
      "处理文件:G:/饭桶设计/2000-2999/2213/2213/饭桶设计(16).psd\n",
      "导出PNG\n",
      "插入广告\n"
     ]
    },
    {
     "name": "stderr",
     "output_type": "stream",
     "text": [
      "PSD添加广告生成图片:  80%|█████████████████████████████████▌        | 16/20 [02:54<00:44, 11.03s/it]"
     ]
    },
    {
     "name": "stdout",
     "output_type": "stream",
     "text": [
      "\n",
      "\n",
      "处理文件:G:/饭桶设计/2000-2999/2213/2213/饭桶设计(17).psd\n",
      "导出PNG\n",
      "插入广告\n"
     ]
    },
    {
     "name": "stderr",
     "output_type": "stream",
     "text": [
      "PSD添加广告生成图片:  85%|███████████████████████████████████▋      | 17/20 [03:03<00:30, 10.23s/it]"
     ]
    },
    {
     "name": "stdout",
     "output_type": "stream",
     "text": [
      "\n",
      "\n",
      "处理文件:G:/饭桶设计/2000-2999/2213/2213/饭桶设计(18).psd\n",
      "导出PNG\n",
      "插入广告\n"
     ]
    },
    {
     "name": "stderr",
     "output_type": "stream",
     "text": [
      "PSD添加广告生成图片:  90%|█████████████████████████████████████▊    | 18/20 [03:14<00:21, 10.59s/it]"
     ]
    },
    {
     "name": "stdout",
     "output_type": "stream",
     "text": [
      "\n",
      "\n",
      "处理文件:G:/饭桶设计/2000-2999/2213/2213/饭桶设计(19).psd\n",
      "导出PNG\n",
      "插入广告\n"
     ]
    },
    {
     "name": "stderr",
     "output_type": "stream",
     "text": [
      "PSD添加广告生成图片:  95%|███████████████████████████████████████▉  | 19/20 [03:23<00:09,  9.98s/it]"
     ]
    },
    {
     "name": "stdout",
     "output_type": "stream",
     "text": [
      "\n",
      "\n",
      "处理文件:G:/饭桶设计/2000-2999/2213/2213/饭桶设计(20).psd\n",
      "导出PNG\n",
      "插入广告\n"
     ]
    },
    {
     "name": "stderr",
     "output_type": "stream",
     "text": [
      "PSD添加广告生成图片: 100%|██████████████████████████████████████████| 20/20 [03:35<00:00, 10.75s/it]\n",
      "AI导出PNG: 0it [00:00, ?it/s]\n",
      "PPT导出PNG: 0it [00:00, ?it/s]\n",
      "复制到制定目录: 100%|██████████████████████████████████████████████| 20/20 [00:00<00:00, 512.86it/s]\n",
      "图片添加水印: 100%|█████████████████████████████████████████████████| 20/20 [00:05<00:00,  3.51it/s]\n"
     ]
    },
    {
     "name": "stdout",
     "output_type": "stream",
     "text": [
      "移动到根目录:b'G:/\\xe9\\xa5\\xad\\xe6\\xa1\\xb6\\xe8\\xae\\xbe\\xe8\\xae\\xa1/2000-2999/2214/2214/1.png'\n",
      "移动到根目录:b'G:/\\xe9\\xa5\\xad\\xe6\\xa1\\xb6\\xe8\\xae\\xbe\\xe8\\xae\\xa1/2000-2999/2214/2214/2.png'\n",
      "移动到根目录:b'G:/\\xe9\\xa5\\xad\\xe6\\xa1\\xb6\\xe8\\xae\\xbe\\xe8\\xae\\xa1/2000-2999/2214/2214/3.png'\n",
      "移动到根目录:b'G:/\\xe9\\xa5\\xad\\xe6\\xa1\\xb6\\xe8\\xae\\xbe\\xe8\\xae\\xa1/2000-2999/2214/2214/4.png'\n",
      "移动到根目录:b'G:/\\xe9\\xa5\\xad\\xe6\\xa1\\xb6\\xe8\\xae\\xbe\\xe8\\xae\\xa1/2000-2999/2214/2214/5.png'\n",
      "移动到根目录:b'G:/\\xe9\\xa5\\xad\\xe6\\xa1\\xb6\\xe8\\xae\\xbe\\xe8\\xae\\xa1/2000-2999/2214/2214/frame-poster-mockup-2023-03-30-22-17-22-utc.zip'\n",
      "移动到根目录:b'G:/\\xe9\\xa5\\xad\\xe6\\xa1\\xb6\\xe8\\xae\\xbe\\xe8\\xae\\xa1/2000-2999/2214/2214/1 (1).png'\n",
      "移动到根目录:b'G:/\\xe9\\xa5\\xad\\xe6\\xa1\\xb6\\xe8\\xae\\xbe\\xe8\\xae\\xa1/2000-2999/2214/2214/2 (1).png'\n",
      "移动到根目录:b'G:/\\xe9\\xa5\\xad\\xe6\\xa1\\xb6\\xe8\\xae\\xbe\\xe8\\xae\\xa1/2000-2999/2214/2214/3 (1).png'\n",
      "移动到根目录:b'G:/\\xe9\\xa5\\xad\\xe6\\xa1\\xb6\\xe8\\xae\\xbe\\xe8\\xae\\xa1/2000-2999/2214/2214/4 (1).png'\n",
      "删除多余文件夹：G:\\饭桶设计\\2000-2999\\2214\\2214\\frame-poster-mockup\n",
      "删除多余文件夹：G:\\饭桶设计\\2000-2999\\2214\\2214\\frame-poster-mockup_1\n"
     ]
    },
    {
     "name": "stderr",
     "output_type": "stream",
     "text": [
      "复制到制定目录: 100%|█████████████████████████████████████████████████| 9/9 [00:00<00:00, 60.40it/s]\n"
     ]
    },
    {
     "name": "stdout",
     "output_type": "stream",
     "text": [
      "目标文件存在:G:/饭桶设计/2000-2999/2214/效果图/1.png\n",
      "目标文件存在:G:/饭桶设计/2000-2999/2214/效果图/2.png\n",
      "目标文件存在:G:/饭桶设计/2000-2999/2214/效果图/3.png\n",
      "目标文件存在:G:/饭桶设计/2000-2999/2214/效果图/4.png\n"
     ]
    },
    {
     "name": "stderr",
     "output_type": "stream",
     "text": [
      "解压ZIP: 100%|████████████████████████████████████████████████████████| 2/2 [00:05<00:00,  2.73s/it]\n",
      "解压RAR: 0it [00:00, ?it/s]\n"
     ]
    },
    {
     "name": "stdout",
     "output_type": "stream",
     "text": [
      "移动到根目录:b'G:/\\xe9\\xa5\\xad\\xe6\\xa1\\xb6\\xe8\\xae\\xbe\\xe8\\xae\\xa1/2000-2999/2214/2214/Help Guide.pdf'\n",
      "移动到根目录:b'G:/\\xe9\\xa5\\xad\\xe6\\xa1\\xb6\\xe8\\xae\\xbe\\xe8\\xae\\xa1/2000-2999/2214/2214/Poster-Mockup-04.psd'\n",
      "移动到根目录:b'G:/\\xe9\\xa5\\xad\\xe6\\xa1\\xb6\\xe8\\xae\\xbe\\xe8\\xae\\xa1/2000-2999/2214/2214/Poster-Mockup-08.psd'\n",
      "移动到根目录:b'G:/\\xe9\\xa5\\xad\\xe6\\xa1\\xb6\\xe8\\xae\\xbe\\xe8\\xae\\xa1/2000-2999/2214/2214/Poster-Mockup-09.psd'\n",
      "移动到根目录:b'G:/\\xe9\\xa5\\xad\\xe6\\xa1\\xb6\\xe8\\xae\\xbe\\xe8\\xae\\xa1/2000-2999/2214/2214/._Help Guide.pdf'\n",
      "移动到根目录:b'G:/\\xe9\\xa5\\xad\\xe6\\xa1\\xb6\\xe8\\xae\\xbe\\xe8\\xae\\xa1/2000-2999/2214/2214/._Poster-Mockup-04.psd'\n",
      "移动到根目录:b'G:/\\xe9\\xa5\\xad\\xe6\\xa1\\xb6\\xe8\\xae\\xbe\\xe8\\xae\\xa1/2000-2999/2214/2214/._Poster-Mockup-08.psd'\n",
      "移动到根目录:b'G:/\\xe9\\xa5\\xad\\xe6\\xa1\\xb6\\xe8\\xae\\xbe\\xe8\\xae\\xa1/2000-2999/2214/2214/._Poster-Mockup-09.psd'\n",
      "移动到根目录:b'G:/\\xe9\\xa5\\xad\\xe6\\xa1\\xb6\\xe8\\xae\\xbe\\xe8\\xae\\xa1/2000-2999/2214/2214/.DS_Store'\n",
      "移动到根目录:b'G:/\\xe9\\xa5\\xad\\xe6\\xa1\\xb6\\xe8\\xae\\xbe\\xe8\\xae\\xa1/2000-2999/2214/2214/Help Guide (1).pdf'\n",
      "移动到根目录:b'G:/\\xe9\\xa5\\xad\\xe6\\xa1\\xb6\\xe8\\xae\\xbe\\xe8\\xae\\xa1/2000-2999/2214/2214/Poster-Mockup-02.psd'\n",
      "移动到根目录:b'G:/\\xe9\\xa5\\xad\\xe6\\xa1\\xb6\\xe8\\xae\\xbe\\xe8\\xae\\xa1/2000-2999/2214/2214/Poster-Mockup-03.psd'\n",
      "移动到根目录:b'G:/\\xe9\\xa5\\xad\\xe6\\xa1\\xb6\\xe8\\xae\\xbe\\xe8\\xae\\xa1/2000-2999/2214/2214/Poster-Mockup-05.psd'\n",
      "移动到根目录:b'G:/\\xe9\\xa5\\xad\\xe6\\xa1\\xb6\\xe8\\xae\\xbe\\xe8\\xae\\xa1/2000-2999/2214/2214/Poster-Mockup-06.psd'\n",
      "移动到根目录:b'G:/\\xe9\\xa5\\xad\\xe6\\xa1\\xb6\\xe8\\xae\\xbe\\xe8\\xae\\xa1/2000-2999/2214/2214/._.DS_Store'\n",
      "移动到根目录:b'G:/\\xe9\\xa5\\xad\\xe6\\xa1\\xb6\\xe8\\xae\\xbe\\xe8\\xae\\xa1/2000-2999/2214/2214/._Help Guide (1).pdf'\n",
      "移动到根目录:b'G:/\\xe9\\xa5\\xad\\xe6\\xa1\\xb6\\xe8\\xae\\xbe\\xe8\\xae\\xa1/2000-2999/2214/2214/._Poster-Mockup-02.psd'\n",
      "移动到根目录:b'G:/\\xe9\\xa5\\xad\\xe6\\xa1\\xb6\\xe8\\xae\\xbe\\xe8\\xae\\xa1/2000-2999/2214/2214/._Poster-Mockup-03.psd'\n",
      "移动到根目录:b'G:/\\xe9\\xa5\\xad\\xe6\\xa1\\xb6\\xe8\\xae\\xbe\\xe8\\xae\\xa1/2000-2999/2214/2214/._Poster-Mockup-05.psd'\n",
      "移动到根目录:b'G:/\\xe9\\xa5\\xad\\xe6\\xa1\\xb6\\xe8\\xae\\xbe\\xe8\\xae\\xa1/2000-2999/2214/2214/._Poster-Mockup-06.psd'\n",
      "删除多余文件夹：G:\\饭桶设计\\2000-2999\\2214\\2214\\frame-poster-mockup-2023-01-31-20-02-08-utc\n",
      "删除多余文件夹：G:\\饭桶设计\\2000-2999\\2214\\2214\\frame-poster-mockup-2023-03-30-22-17-22-utc\n",
      "文件重命名：b'G:/\\xe9\\xa5\\xad\\xe6\\xa1\\xb6\\xe8\\xae\\xbe\\xe8\\xae\\xa1/2000-2999/2214/2214/Poster-Mockup-02.psd'\n",
      "文件重命名：b'G:/\\xe9\\xa5\\xad\\xe6\\xa1\\xb6\\xe8\\xae\\xbe\\xe8\\xae\\xa1/2000-2999/2214/2214/Poster-Mockup-03.psd'\n",
      "文件重命名：b'G:/\\xe9\\xa5\\xad\\xe6\\xa1\\xb6\\xe8\\xae\\xbe\\xe8\\xae\\xa1/2000-2999/2214/2214/Poster-Mockup-04.psd'\n",
      "文件重命名：b'G:/\\xe9\\xa5\\xad\\xe6\\xa1\\xb6\\xe8\\xae\\xbe\\xe8\\xae\\xa1/2000-2999/2214/2214/Poster-Mockup-05.psd'\n",
      "文件重命名：b'G:/\\xe9\\xa5\\xad\\xe6\\xa1\\xb6\\xe8\\xae\\xbe\\xe8\\xae\\xa1/2000-2999/2214/2214/Poster-Mockup-06.psd'\n",
      "文件重命名：b'G:/\\xe9\\xa5\\xad\\xe6\\xa1\\xb6\\xe8\\xae\\xbe\\xe8\\xae\\xa1/2000-2999/2214/2214/Poster-Mockup-08.psd'\n",
      "文件重命名：b'G:/\\xe9\\xa5\\xad\\xe6\\xa1\\xb6\\xe8\\xae\\xbe\\xe8\\xae\\xa1/2000-2999/2214/2214/Poster-Mockup-09.psd'\n",
      "文件重命名：b'G:/\\xe9\\xa5\\xad\\xe6\\xa1\\xb6\\xe8\\xae\\xbe\\xe8\\xae\\xa1/2000-2999/2214/2214/test(1).psd'\n",
      "文件重命名：b'G:/\\xe9\\xa5\\xad\\xe6\\xa1\\xb6\\xe8\\xae\\xbe\\xe8\\xae\\xa1/2000-2999/2214/2214/test(2).psd'\n",
      "文件重命名：b'G:/\\xe9\\xa5\\xad\\xe6\\xa1\\xb6\\xe8\\xae\\xbe\\xe8\\xae\\xa1/2000-2999/2214/2214/test(3).psd'\n",
      "文件重命名：b'G:/\\xe9\\xa5\\xad\\xe6\\xa1\\xb6\\xe8\\xae\\xbe\\xe8\\xae\\xa1/2000-2999/2214/2214/test(4).psd'\n",
      "文件重命名：b'G:/\\xe9\\xa5\\xad\\xe6\\xa1\\xb6\\xe8\\xae\\xbe\\xe8\\xae\\xa1/2000-2999/2214/2214/test(5).psd'\n",
      "文件重命名：b'G:/\\xe9\\xa5\\xad\\xe6\\xa1\\xb6\\xe8\\xae\\xbe\\xe8\\xae\\xa1/2000-2999/2214/2214/test(6).psd'\n",
      "文件重命名：b'G:/\\xe9\\xa5\\xad\\xe6\\xa1\\xb6\\xe8\\xae\\xbe\\xe8\\xae\\xa1/2000-2999/2214/2214/test(7).psd'\n"
     ]
    },
    {
     "name": "stderr",
     "output_type": "stream",
     "text": [
      "PSD添加广告生成图片:   0%|                                                    | 0/7 [00:00<?, ?it/s]"
     ]
    },
    {
     "name": "stdout",
     "output_type": "stream",
     "text": [
      "\n",
      "\n",
      "处理文件:G:/饭桶设计/2000-2999/2214/2214/饭桶设计(1).psd\n",
      "导出PNG\n",
      "插入广告\n"
     ]
    },
    {
     "name": "stderr",
     "output_type": "stream",
     "text": [
      "PSD添加广告生成图片:  14%|██████▎                                     | 1/7 [00:10<01:05, 10.92s/it]"
     ]
    },
    {
     "name": "stdout",
     "output_type": "stream",
     "text": [
      "\n",
      "\n",
      "处理文件:G:/饭桶设计/2000-2999/2214/2214/饭桶设计(2).psd\n",
      "导出PNG\n",
      "插入广告\n"
     ]
    },
    {
     "name": "stderr",
     "output_type": "stream",
     "text": [
      "PSD添加广告生成图片:  29%|████████████▌                               | 2/7 [00:22<00:56, 11.34s/it]"
     ]
    },
    {
     "name": "stdout",
     "output_type": "stream",
     "text": [
      "\n",
      "\n",
      "处理文件:G:/饭桶设计/2000-2999/2214/2214/饭桶设计(3).psd\n",
      "导出PNG\n",
      "插入广告\n"
     ]
    },
    {
     "name": "stderr",
     "output_type": "stream",
     "text": [
      "PSD添加广告生成图片:  43%|██████████████████▊                         | 3/7 [00:32<00:43, 10.76s/it]"
     ]
    },
    {
     "name": "stdout",
     "output_type": "stream",
     "text": [
      "\n",
      "\n",
      "处理文件:G:/饭桶设计/2000-2999/2214/2214/饭桶设计(4).psd\n",
      "导出PNG\n",
      "插入广告\n"
     ]
    },
    {
     "name": "stderr",
     "output_type": "stream",
     "text": [
      "PSD添加广告生成图片:  57%|█████████████████████████▏                  | 4/7 [00:42<00:31, 10.60s/it]"
     ]
    },
    {
     "name": "stdout",
     "output_type": "stream",
     "text": [
      "\n",
      "\n",
      "处理文件:G:/饭桶设计/2000-2999/2214/2214/饭桶设计(5).psd\n",
      "导出PNG\n",
      "插入广告\n"
     ]
    },
    {
     "name": "stderr",
     "output_type": "stream",
     "text": [
      "PSD添加广告生成图片:  71%|███████████████████████████████▍            | 5/7 [00:57<00:24, 12.11s/it]"
     ]
    },
    {
     "name": "stdout",
     "output_type": "stream",
     "text": [
      "\n",
      "\n",
      "处理文件:G:/饭桶设计/2000-2999/2214/2214/饭桶设计(6).psd\n",
      "导出PNG\n",
      "插入广告\n"
     ]
    },
    {
     "name": "stderr",
     "output_type": "stream",
     "text": [
      "PSD添加广告生成图片:  86%|█████████████████████████████████████▋      | 6/7 [01:13<00:13, 13.22s/it]"
     ]
    },
    {
     "name": "stdout",
     "output_type": "stream",
     "text": [
      "\n",
      "\n",
      "处理文件:G:/饭桶设计/2000-2999/2214/2214/饭桶设计(7).psd\n",
      "导出PNG\n",
      "插入广告\n"
     ]
    },
    {
     "name": "stderr",
     "output_type": "stream",
     "text": [
      "PSD添加广告生成图片: 100%|████████████████████████████████████████████| 7/7 [01:30<00:00, 12.92s/it]\n",
      "AI导出PNG: 0it [00:00, ?it/s]\n",
      "PPT导出PNG: 0it [00:00, ?it/s]\n",
      "复制到制定目录: 100%|████████████████████████████████████████████████| 7/7 [00:00<00:00, 500.15it/s]\n",
      "图片添加水印: 100%|███████████████████████████████████████████████████| 7/7 [00:02<00:00,  3.31it/s]\n"
     ]
    }
   ],
   "source": [
    "from pathlib import Path\n",
    "\n",
    "from module_素材处理.router.class_文件夹功能 import ItemIn\n",
    "from module_素材处理.router.class_文件夹功能 import MaterialPathAction\n",
    "\n",
    "start_path = Path(r'G:\\饭桶设计\\2000-2999\\2183')\n",
    "\n",
    "\n",
    "def get_path_num(in_path: Path):\n",
    "    stem = in_path.stem\n",
    "    return int(stem)\n",
    "\n",
    "\n",
    "def get_all_path(start_path: Path):\n",
    "    start_stem = get_path_num(start_path)\n",
    "\n",
    "    for in_path in start_path.parent.iterdir():\n",
    "        if in_path.is_dir() and get_path_num(in_path) >= start_stem:\n",
    "            yield in_path\n",
    "\n",
    "\n",
    "for in_path in get_all_path(start_path=start_path):\n",
    "    item_in = ItemIn(\n",
    "        root_path=in_path.as_posix(),\n",
    "        tb_name='饭桶设计',\n",
    "        action_name='全自动'\n",
    "    )\n",
    "\n",
    "    mac = MaterialPathAction(item_in=item_in)\n",
    "    mac.fun_全自动一键操作()"
   ]
  }
 ],
 "metadata": {
  "kernelspec": {
   "display_name": "Python 3",
   "language": "python",
   "name": "python3"
  },
  "language_info": {
   "codemirror_mode": {
    "name": "ipython",
    "version": 2
   },
   "file_extension": ".py",
   "mimetype": "text/x-python",
   "name": "python",
   "nbconvert_exporter": "python",
   "pygments_lexer": "ipython2",
   "version": "2.7.6"
  }
 },
 "nbformat": 4,
 "nbformat_minor": 0
}
