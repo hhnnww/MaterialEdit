{
 "cells": [
  {
   "cell_type": "code",
   "execution_count": 1,
   "metadata": {
    "collapsed": true
   },
   "outputs": [
    {
     "ename": "error",
     "evalue": "Unknown C++ exception from OpenCV code",
     "output_type": "error",
     "traceback": [
      "\u001B[1;31m---------------------------------------------------------------------------\u001B[0m",
      "\u001B[1;31merror\u001B[0m                                     Traceback (most recent call last)",
      "Cell \u001B[1;32mIn[1], line 9\u001B[0m\n\u001B[0;32m      5\u001B[0m img2 \u001B[38;5;241m=\u001B[39m cv2\u001B[38;5;241m.\u001B[39mimread(\u001B[38;5;124mr\u001B[39m\u001B[38;5;124m'\u001B[39m\u001B[38;5;124mF:\u001B[39m\u001B[38;5;124m\\\u001B[39m\u001B[38;5;124mMyProject\u001B[39m\u001B[38;5;124m\\\u001B[39m\u001B[38;5;124mFTDesign\u001B[39m\u001B[38;5;124m\\\u001B[39m\u001B[38;5;124mfastapi\u001B[39m\u001B[38;5;124m\\\u001B[39m\u001B[38;5;124mmodule_素材处理\u001B[39m\u001B[38;5;124m\\\u001B[39m\u001B[38;5;124mcore\u001B[39m\u001B[38;5;124m\\\u001B[39m\u001B[38;5;124mIMAGE\u001B[39m\u001B[38;5;124m\\\u001B[39m\u001B[38;5;124m广告图片\u001B[39m\u001B[38;5;124m\\\u001B[39m\u001B[38;5;124m1 (3).png\u001B[39m\u001B[38;5;124m'\u001B[39m, \u001B[38;5;241m0\u001B[39m)  \u001B[38;5;66;03m# trainImage\u001B[39;00m\n\u001B[0;32m      7\u001B[0m sift \u001B[38;5;241m=\u001B[39m cv2\u001B[38;5;241m.\u001B[39mSIFT()\n\u001B[1;32m----> 9\u001B[0m kp1, des1 \u001B[38;5;241m=\u001B[39m \u001B[43msift\u001B[49m\u001B[38;5;241;43m.\u001B[39;49m\u001B[43mdetectAndCompute\u001B[49m\u001B[43m(\u001B[49m\u001B[43mimg1\u001B[49m\u001B[43m,\u001B[49m\u001B[43m \u001B[49m\u001B[38;5;28;43;01mNone\u001B[39;49;00m\u001B[43m)\u001B[49m\n\u001B[0;32m     10\u001B[0m kp2, des2 \u001B[38;5;241m=\u001B[39m sift\u001B[38;5;241m.\u001B[39mdetectAndCompute(img2, \u001B[38;5;28;01mNone\u001B[39;00m)\n\u001B[0;32m     12\u001B[0m \u001B[38;5;66;03m# FLANN parameters\u001B[39;00m\n",
      "\u001B[1;31merror\u001B[0m: Unknown C++ exception from OpenCV code"
     ]
    }
   ],
   "source": [
    "import cv2\n",
    "import scipy as sp\n",
    "\n",
    "img1 = cv2.imread(r'F:\\MyProject\\FTDesign\\fastapi\\module_素材处理\\core\\IMAGE\\广告图片\\1 (2).png', 0)  # queryImage\n",
    "img2 = cv2.imread(r'F:\\MyProject\\FTDesign\\fastapi\\module_素材处理\\core\\IMAGE\\广告图片\\1 (3).png', 0)  # trainImage\n",
    "\n",
    "sift = cv2.SIFT()\n",
    "\n",
    "kp1, des1 = sift.detectAndCompute(img1, None)\n",
    "kp2, des2 = sift.detectAndCompute(img2, None)\n",
    "\n",
    "# FLANN parameters\n",
    "FLANN_INDEX_KDTREE = 0\n",
    "index_params = dict(algorithm=FLANN_INDEX_KDTREE, trees=5)\n",
    "search_params = dict(checks=50)  # or pass empty dictionary\n",
    "flann = cv2.FlannBasedMatcher(index_params, search_params)\n",
    "matches = flann.knnMatch(des1, des2, k=2)\n",
    "\n",
    "print('matches...', len(matches))\n",
    "# Apply ratio test\n",
    "good = []\n",
    "for m, n in matches:\n",
    "    if m.distance < 0.75 * n.distance:\n",
    "        good.append(m)\n",
    "print('good', len(good))\n",
    "\n",
    "h1, w1 = img1.shape[:2]\n",
    "h2, w2 = img2.shape[:2]\n",
    "view = sp.zeros((max(h1, h2), w1 + w2, 3), sp.uint8)\n",
    "view[:h1, :w1, 0] = img1\n",
    "view[:h2, w1:, 0] = img2\n",
    "view[:, :, 1] = view[:, :, 0]\n",
    "view[:, :, 2] = view[:, :, 0]\n",
    "\n",
    "for m in good:\n",
    "    color = tuple([sp.random.randint(0, 255) for _ in xrange(3)])\n",
    "    cv2.line(view, (int(kp1[m.queryIdx].pt[0]), int(kp1[m.queryIdx].pt[1])),\n",
    "             (int(kp2[m.trainIdx].pt[0] + w1), int(kp2[m.trainIdx].pt[1])), color)\n",
    "\n",
    "cv2.imshow(\"view\", view)\n",
    "cv2.waitKey()"
   ]
  }
 ],
 "metadata": {
  "kernelspec": {
   "display_name": "Python 3",
   "language": "python",
   "name": "python3"
  },
  "language_info": {
   "codemirror_mode": {
    "name": "ipython",
    "version": 2
   },
   "file_extension": ".py",
   "mimetype": "text/x-python",
   "name": "python",
   "nbconvert_exporter": "python",
   "pygments_lexer": "ipython2",
   "version": "2.7.6"
  }
 },
 "nbformat": 4,
 "nbformat_minor": 0
}
