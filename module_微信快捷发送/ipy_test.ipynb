{
 "cells": [
  {
   "cell_type": "code",
   "execution_count": 13,
   "metadata": {
    "collapsed": true
   },
   "outputs": [],
   "source": [
    "from pathlib import Path\n",
    "\n",
    "import pyautogui\n",
    "from pynput import keyboard\n",
    "\n",
    "\n",
    "def fun_find_img(img: str):\n",
    "    img_path = Path(r'F:\\MyProject\\FTDesign\\fastapi\\IMG\\wechat') / f'{img}.png'\n",
    "    res = pyautogui.locateOnScreen(img_path.as_posix())\n",
    "    if res is None:\n",
    "        return None\n",
    "\n",
    "    left = res.left + int(res.width / 2)\n",
    "    top = res.top + int(res.height / 2)\n",
    "    return left, top\n",
    "\n",
    "\n",
    "def on_activate_h():\n",
    "    pyautogui.click(\n",
    "        fun_find_img('tianjia')\n",
    "    )\n",
    "\n",
    "    res = fun_find_img('fangfa')\n",
    "    if res is not None:\n",
    "        pyautogui.moveTo(x=res[0], y=res[1])\n",
    "\n",
    "    pyautogui.click(\n",
    "        fun_find_img('01')\n",
    "    )\n",
    "\n",
    "\n",
    "l, t = fun_find_img('weixinicon')\n",
    "pyautogui.click(l, t)\n",
    "\n",
    "on_activate_h()"
   ]
  },
  {
   "cell_type": "code",
   "execution_count": null,
   "outputs": [],
   "source": [
    "\n",
    "with keyboard.GlobalHotKeys({\n",
    "    '<alt>+1': on_activate_h,\n",
    "}) as h:\n",
    "    h.join()"
   ],
   "metadata": {
    "collapsed": false
   }
  }
 ],
 "metadata": {
  "kernelspec": {
   "display_name": "Python 3",
   "language": "python",
   "name": "python3"
  },
  "language_info": {
   "codemirror_mode": {
    "name": "ipython",
    "version": 2
   },
   "file_extension": ".py",
   "mimetype": "text/x-python",
   "name": "python",
   "nbconvert_exporter": "python",
   "pygments_lexer": "ipython2",
   "version": "2.7.6"
  }
 },
 "nbformat": 4,
 "nbformat_minor": 0
}
