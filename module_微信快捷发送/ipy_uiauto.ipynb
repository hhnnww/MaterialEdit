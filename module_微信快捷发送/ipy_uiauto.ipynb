{
 "cells": [
  {
   "cell_type": "code",
   "execution_count": 30,
   "metadata": {
    "collapsed": true
   },
   "outputs": [
    {
     "name": "stdout",
     "output_type": "stream",
     "text": [
      "Control Identifiers:\n",
      "\n",
      "Pane - ''    (L3692, T2047, R3842, B2091)\n",
      "['Pane']\n"
     ]
    },
    {
     "ename": "ElementNotFoundError",
     "evalue": "{'best_match': '通讯录Button', 'top_level_only': False, 'parent': <uia_element_info.UIAElementInfo - '', SoPY_Status, 1121414>, 'backend': 'uia'}",
     "output_type": "error",
     "traceback": [
      "\u001B[1;31m---------------------------------------------------------------------------\u001B[0m",
      "\u001B[1;31mTimeoutError\u001B[0m                              Traceback (most recent call last)",
      "File \u001B[1;32mF:\\MyProject\\FTDesign\\fastapi\\env\\lib\\site-packages\\pywinauto\\application.py:250\u001B[0m, in \u001B[0;36mWindowSpecification.__resolve_control\u001B[1;34m(self, criteria, timeout, retry_interval)\u001B[0m\n\u001B[0;32m    249\u001B[0m \u001B[38;5;28;01mtry\u001B[39;00m:\n\u001B[1;32m--> 250\u001B[0m     ctrl \u001B[38;5;241m=\u001B[39m \u001B[43mwait_until_passes\u001B[49m\u001B[43m(\u001B[49m\n\u001B[0;32m    251\u001B[0m \u001B[43m        \u001B[49m\u001B[43mtimeout\u001B[49m\u001B[43m,\u001B[49m\n\u001B[0;32m    252\u001B[0m \u001B[43m        \u001B[49m\u001B[43mretry_interval\u001B[49m\u001B[43m,\u001B[49m\n\u001B[0;32m    253\u001B[0m \u001B[43m        \u001B[49m\u001B[38;5;28;43mself\u001B[39;49m\u001B[38;5;241;43m.\u001B[39;49m\u001B[43m__get_ctrl\u001B[49m\u001B[43m,\u001B[49m\n\u001B[0;32m    254\u001B[0m \u001B[43m        \u001B[49m\u001B[43m(\u001B[49m\u001B[43mfindwindows\u001B[49m\u001B[38;5;241;43m.\u001B[39;49m\u001B[43mElementNotFoundError\u001B[49m\u001B[43m,\u001B[49m\n\u001B[0;32m    255\u001B[0m \u001B[43m         \u001B[49m\u001B[43mfindbestmatch\u001B[49m\u001B[38;5;241;43m.\u001B[39;49m\u001B[43mMatchError\u001B[49m\u001B[43m,\u001B[49m\n\u001B[0;32m    256\u001B[0m \u001B[43m         \u001B[49m\u001B[43mcontrols\u001B[49m\u001B[38;5;241;43m.\u001B[39;49m\u001B[43mInvalidWindowHandle\u001B[49m\u001B[43m,\u001B[49m\n\u001B[0;32m    257\u001B[0m \u001B[43m         \u001B[49m\u001B[43mcontrols\u001B[49m\u001B[38;5;241;43m.\u001B[39;49m\u001B[43mInvalidElement\u001B[49m\u001B[43m)\u001B[49m\u001B[43m,\u001B[49m\n\u001B[0;32m    258\u001B[0m \u001B[43m        \u001B[49m\u001B[43mcriteria\u001B[49m\u001B[43m)\u001B[49m\n\u001B[0;32m    260\u001B[0m \u001B[38;5;28;01mexcept\u001B[39;00m \u001B[38;5;167;01mTimeoutError\u001B[39;00m \u001B[38;5;28;01mas\u001B[39;00m e:\n",
      "File \u001B[1;32mF:\\MyProject\\FTDesign\\fastapi\\env\\lib\\site-packages\\pywinauto\\timings.py:458\u001B[0m, in \u001B[0;36mwait_until_passes\u001B[1;34m(timeout, retry_interval, func, exceptions, *args, **kwargs)\u001B[0m\n\u001B[0;32m    457\u001B[0m             err\u001B[38;5;241m.\u001B[39moriginal_exception \u001B[38;5;241m=\u001B[39m e\n\u001B[1;32m--> 458\u001B[0m             \u001B[38;5;28;01mraise\u001B[39;00m err\n\u001B[0;32m    460\u001B[0m \u001B[38;5;66;03m# return the function value\u001B[39;00m\n",
      "\u001B[1;31mTimeoutError\u001B[0m: ",
      "\nDuring handling of the above exception, another exception occurred:\n",
      "\u001B[1;31mElementNotFoundError\u001B[0m                      Traceback (most recent call last)",
      "Cell \u001B[1;32mIn[30], line 8\u001B[0m\n\u001B[0;32m      6\u001B[0m win \u001B[38;5;241m=\u001B[39m app\u001B[38;5;241m.\u001B[39mtop_window()\n\u001B[0;32m      7\u001B[0m win\u001B[38;5;241m.\u001B[39mprint_control_identifiers()\n\u001B[1;32m----> 8\u001B[0m \u001B[43mwin\u001B[49m\u001B[38;5;241;43m.\u001B[39;49m\u001B[43m通讯录Button\u001B[49m\u001B[38;5;241;43m.\u001B[39;49m\u001B[43mclick\u001B[49m()\n",
      "File \u001B[1;32mF:\\MyProject\\FTDesign\\fastapi\\env\\lib\\site-packages\\pywinauto\\application.py:379\u001B[0m, in \u001B[0;36mWindowSpecification.__getattribute__\u001B[1;34m(self, attr_name)\u001B[0m\n\u001B[0;32m    374\u001B[0m \u001B[38;5;66;03m# if we already have 2 levels of criteria (dlg, control)\u001B[39;00m\n\u001B[0;32m    375\u001B[0m \u001B[38;5;66;03m# this third must be an attribute so resolve and get the\u001B[39;00m\n\u001B[0;32m    376\u001B[0m \u001B[38;5;66;03m# attribute and return it\u001B[39;00m\n\u001B[0;32m    377\u001B[0m \u001B[38;5;28;01mif\u001B[39;00m \u001B[38;5;28mlen\u001B[39m(\u001B[38;5;28mself\u001B[39m\u001B[38;5;241m.\u001B[39mcriteria) \u001B[38;5;241m>\u001B[39m\u001B[38;5;241m=\u001B[39m \u001B[38;5;241m2\u001B[39m:  \u001B[38;5;66;03m# FIXME - this is surprising\u001B[39;00m\n\u001B[1;32m--> 379\u001B[0m     ctrls \u001B[38;5;241m=\u001B[39m \u001B[38;5;28;43mself\u001B[39;49m\u001B[38;5;241;43m.\u001B[39;49m\u001B[43m__resolve_control\u001B[49m\u001B[43m(\u001B[49m\u001B[38;5;28;43mself\u001B[39;49m\u001B[38;5;241;43m.\u001B[39;49m\u001B[43mcriteria\u001B[49m\u001B[43m)\u001B[49m\n\u001B[0;32m    381\u001B[0m     \u001B[38;5;28;01mtry\u001B[39;00m:\n\u001B[0;32m    382\u001B[0m         \u001B[38;5;28;01mreturn\u001B[39;00m \u001B[38;5;28mgetattr\u001B[39m(ctrls[\u001B[38;5;241m-\u001B[39m\u001B[38;5;241m1\u001B[39m], attr_name)\n",
      "File \u001B[1;32mF:\\MyProject\\FTDesign\\fastapi\\env\\lib\\site-packages\\pywinauto\\application.py:261\u001B[0m, in \u001B[0;36mWindowSpecification.__resolve_control\u001B[1;34m(self, criteria, timeout, retry_interval)\u001B[0m\n\u001B[0;32m    250\u001B[0m     ctrl \u001B[38;5;241m=\u001B[39m wait_until_passes(\n\u001B[0;32m    251\u001B[0m         timeout,\n\u001B[0;32m    252\u001B[0m         retry_interval,\n\u001B[1;32m   (...)\u001B[0m\n\u001B[0;32m    257\u001B[0m          controls\u001B[38;5;241m.\u001B[39mInvalidElement),\n\u001B[0;32m    258\u001B[0m         criteria)\n\u001B[0;32m    260\u001B[0m \u001B[38;5;28;01mexcept\u001B[39;00m \u001B[38;5;167;01mTimeoutError\u001B[39;00m \u001B[38;5;28;01mas\u001B[39;00m e:\n\u001B[1;32m--> 261\u001B[0m     \u001B[38;5;28;01mraise\u001B[39;00m e\u001B[38;5;241m.\u001B[39moriginal_exception\n\u001B[0;32m    263\u001B[0m \u001B[38;5;28;01mreturn\u001B[39;00m ctrl\n",
      "File \u001B[1;32mF:\\MyProject\\FTDesign\\fastapi\\env\\lib\\site-packages\\pywinauto\\timings.py:436\u001B[0m, in \u001B[0;36mwait_until_passes\u001B[1;34m(timeout, retry_interval, func, exceptions, *args, **kwargs)\u001B[0m\n\u001B[0;32m    433\u001B[0m \u001B[38;5;28;01mwhile\u001B[39;00m \u001B[38;5;28;01mTrue\u001B[39;00m:\n\u001B[0;32m    434\u001B[0m     \u001B[38;5;28;01mtry\u001B[39;00m:\n\u001B[0;32m    435\u001B[0m         \u001B[38;5;66;03m# Call the function with any arguments\u001B[39;00m\n\u001B[1;32m--> 436\u001B[0m         func_val \u001B[38;5;241m=\u001B[39m func(\u001B[38;5;241m*\u001B[39margs, \u001B[38;5;241m*\u001B[39m\u001B[38;5;241m*\u001B[39mkwargs)\n\u001B[0;32m    438\u001B[0m         \u001B[38;5;66;03m# if no exception is raised then we are finished\u001B[39;00m\n\u001B[0;32m    439\u001B[0m         \u001B[38;5;28;01mbreak\u001B[39;00m\n",
      "File \u001B[1;32mF:\\MyProject\\FTDesign\\fastapi\\env\\lib\\site-packages\\pywinauto\\application.py:222\u001B[0m, in \u001B[0;36mWindowSpecification.__get_ctrl\u001B[1;34m(self, criteria_)\u001B[0m\n\u001B[0;32m    220\u001B[0m \u001B[38;5;28;01mif\u001B[39;00m \u001B[38;5;124m'\u001B[39m\u001B[38;5;124mbackend\u001B[39m\u001B[38;5;124m'\u001B[39m \u001B[38;5;129;01mnot\u001B[39;00m \u001B[38;5;129;01min\u001B[39;00m ctrl_criteria:\n\u001B[0;32m    221\u001B[0m     ctrl_criteria[\u001B[38;5;124m'\u001B[39m\u001B[38;5;124mbackend\u001B[39m\u001B[38;5;124m'\u001B[39m] \u001B[38;5;241m=\u001B[39m \u001B[38;5;28mself\u001B[39m\u001B[38;5;241m.\u001B[39mbackend\u001B[38;5;241m.\u001B[39mname\n\u001B[1;32m--> 222\u001B[0m ctrl \u001B[38;5;241m=\u001B[39m \u001B[38;5;28mself\u001B[39m\u001B[38;5;241m.\u001B[39mbackend\u001B[38;5;241m.\u001B[39mgeneric_wrapper_class(findwindows\u001B[38;5;241m.\u001B[39mfind_element(\u001B[38;5;241m*\u001B[39m\u001B[38;5;241m*\u001B[39mctrl_criteria))\n\u001B[0;32m    223\u001B[0m previous_parent \u001B[38;5;241m=\u001B[39m ctrl\u001B[38;5;241m.\u001B[39melement_info\n\u001B[0;32m    224\u001B[0m ctrls\u001B[38;5;241m.\u001B[39mappend(ctrl)\n",
      "File \u001B[1;32mF:\\MyProject\\FTDesign\\fastapi\\env\\lib\\site-packages\\pywinauto\\findwindows.py:87\u001B[0m, in \u001B[0;36mfind_element\u001B[1;34m(**kwargs)\u001B[0m\n\u001B[0;32m     84\u001B[0m elements \u001B[38;5;241m=\u001B[39m find_elements(\u001B[38;5;241m*\u001B[39m\u001B[38;5;241m*\u001B[39mkwargs)\n\u001B[0;32m     86\u001B[0m \u001B[38;5;28;01mif\u001B[39;00m \u001B[38;5;129;01mnot\u001B[39;00m elements:\n\u001B[1;32m---> 87\u001B[0m     \u001B[38;5;28;01mraise\u001B[39;00m ElementNotFoundError(kwargs)\n\u001B[0;32m     89\u001B[0m \u001B[38;5;28;01mif\u001B[39;00m \u001B[38;5;28mlen\u001B[39m(elements) \u001B[38;5;241m>\u001B[39m \u001B[38;5;241m1\u001B[39m:\n\u001B[0;32m     90\u001B[0m     exception \u001B[38;5;241m=\u001B[39m ElementAmbiguousError(\n\u001B[0;32m     91\u001B[0m         \u001B[38;5;124m\"\u001B[39m\u001B[38;5;124mThere are \u001B[39m\u001B[38;5;132;01m{0}\u001B[39;00m\u001B[38;5;124m elements that match the criteria \u001B[39m\u001B[38;5;132;01m{1}\u001B[39;00m\u001B[38;5;124m\"\u001B[39m\u001B[38;5;241m.\u001B[39mformat(\n\u001B[0;32m     92\u001B[0m             \u001B[38;5;28mlen\u001B[39m(elements),\n\u001B[0;32m     93\u001B[0m             six\u001B[38;5;241m.\u001B[39mtext_type(kwargs),\n\u001B[0;32m     94\u001B[0m         )\n\u001B[0;32m     95\u001B[0m     )\n",
      "\u001B[1;31mElementNotFoundError\u001B[0m: {'best_match': '通讯录Button', 'top_level_only': False, 'parent': <uia_element_info.UIAElementInfo - '', SoPY_Status, 1121414>, 'backend': 'uia'}"
     ]
    }
   ],
   "source": [
    "from pywinauto.application import Application\n",
    "from pprint import pprint\n",
    "\n",
    "app = Application(backend='uia').connect(title=\"微信\")\n",
    "\n",
    "win = app.top_window()\n",
    "win.print_control_identifiers()\n",
    "win.通讯录Button.click()"
   ]
  }
 ],
 "metadata": {
  "kernelspec": {
   "display_name": "Python 3",
   "language": "python",
   "name": "python3"
  },
  "language_info": {
   "codemirror_mode": {
    "name": "ipython",
    "version": 2
   },
   "file_extension": ".py",
   "mimetype": "text/x-python",
   "name": "python",
   "nbconvert_exporter": "python",
   "pygments_lexer": "ipython2",
   "version": "2.7.6"
  }
 },
 "nbformat": 4,
 "nbformat_minor": 0
}
