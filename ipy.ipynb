{
 "cells": [
  {
   "cell_type": "code",
   "execution_count": 1,
   "metadata": {
    "collapsed": true
   },
   "outputs": [],
   "source": [
    "from PIL import Image, ImageFont, ImageDraw\n",
    "from pathlib import Path"
   ]
  },
  {
   "cell_type": "code",
   "execution_count": 10,
   "outputs": [],
   "source": [
    "img_path = Path('C:\\\\Users\\\\wuweihua\\\\Desktop\\\\新建文件夹')\n",
    "\n",
    "img_list = []\n",
    "for in_file in img_path.iterdir():\n",
    "    img_list.append(in_file)\n",
    "\n",
    "import re\n",
    "\n",
    "\n",
    "def get_num(stem: str) -> int:\n",
    "    num_list = re.findall('\\d+', stem)\n",
    "    num = ''.join(num_list)\n",
    "    return int(num)\n",
    "\n",
    "\n",
    "img_list.sort(key=lambda k: get_num(k.stem))\n",
    "\n"
   ],
   "metadata": {
    "collapsed": false
   }
  },
  {
   "cell_type": "code",
   "execution_count": 13,
   "outputs": [],
   "source": [
    "im_list = [Image.open(in_file) for in_file in img_list]\n",
    "width = 750\n",
    "height = sum([im.height for im in im_list])\n",
    "\n",
    "bg = Image.new('RGB', (width, height), (255, 255, 255))\n",
    "top = 0\n",
    "for im in im_list:\n",
    "    bg.paste(im, (0, top))\n",
    "    top += im.height\n",
    "    im.close()\n",
    "\n"
   ],
   "metadata": {
    "collapsed": false
   }
  },
  {
   "cell_type": "code",
   "execution_count": 16,
   "outputs": [
    {
     "ename": "ValueError",
     "evalue": "Coordinate 'lower' is less than 'upper'",
     "output_type": "error",
     "traceback": [
      "\u001B[1;31m---------------------------------------------------------------------------\u001B[0m",
      "\u001B[1;31mValueError\u001B[0m                                Traceback (most recent call last)",
      "Cell \u001B[1;32mIn [16], line 8\u001B[0m\n\u001B[0;32m      6\u001B[0m x \u001B[38;5;241m=\u001B[39m \u001B[38;5;241m1\u001B[39m\n\u001B[0;32m      7\u001B[0m \u001B[38;5;28;01mwhile\u001B[39;00m bottom \u001B[38;5;241m<\u001B[39m\u001B[38;5;241m=\u001B[39m bg\u001B[38;5;241m.\u001B[39mheight:\n\u001B[1;32m----> 8\u001B[0m     small_im \u001B[38;5;241m=\u001B[39m \u001B[43mbg\u001B[49m\u001B[38;5;241;43m.\u001B[39;49m\u001B[43mcrop\u001B[49m\u001B[43m(\u001B[49m\u001B[43m(\u001B[49m\u001B[38;5;241;43m0\u001B[39;49m\u001B[43m,\u001B[49m\u001B[43m \u001B[49m\u001B[43mtop\u001B[49m\u001B[43m,\u001B[49m\u001B[43m \u001B[49m\u001B[38;5;241;43m750\u001B[39;49m\u001B[43m,\u001B[49m\u001B[43m \u001B[49m\u001B[43mbottom\u001B[49m\u001B[43m)\u001B[49m\u001B[43m)\u001B[49m\n\u001B[0;32m      9\u001B[0m     pic_path \u001B[38;5;241m=\u001B[39m save_path \u001B[38;5;241m/\u001B[39m \u001B[38;5;124mf\u001B[39m\u001B[38;5;124m'\u001B[39m\u001B[38;5;132;01m{\u001B[39;00mx\u001B[38;5;132;01m}\u001B[39;00m\u001B[38;5;124m.jpg\u001B[39m\u001B[38;5;124m'\u001B[39m\n\u001B[0;32m     10\u001B[0m     small_im\u001B[38;5;241m.\u001B[39msave(pic_path, quality\u001B[38;5;241m=\u001B[39m\u001B[38;5;241m90\u001B[39m)\n",
      "File \u001B[1;32mC:\\ProgramData\\Miniconda3\\envs\\FTDesign\\lib\\site-packages\\PIL\\Image.py:1173\u001B[0m, in \u001B[0;36mImage.crop\u001B[1;34m(self, box)\u001B[0m\n\u001B[0;32m   1171\u001B[0m     \u001B[38;5;28;01mraise\u001B[39;00m \u001B[38;5;167;01mValueError\u001B[39;00m(\u001B[38;5;124m\"\u001B[39m\u001B[38;5;124mCoordinate \u001B[39m\u001B[38;5;124m'\u001B[39m\u001B[38;5;124mright\u001B[39m\u001B[38;5;124m'\u001B[39m\u001B[38;5;124m is less than \u001B[39m\u001B[38;5;124m'\u001B[39m\u001B[38;5;124mleft\u001B[39m\u001B[38;5;124m'\u001B[39m\u001B[38;5;124m\"\u001B[39m)\n\u001B[0;32m   1172\u001B[0m \u001B[38;5;28;01melif\u001B[39;00m box[\u001B[38;5;241m3\u001B[39m] \u001B[38;5;241m<\u001B[39m box[\u001B[38;5;241m1\u001B[39m]:\n\u001B[1;32m-> 1173\u001B[0m     \u001B[38;5;28;01mraise\u001B[39;00m \u001B[38;5;167;01mValueError\u001B[39;00m(\u001B[38;5;124m\"\u001B[39m\u001B[38;5;124mCoordinate \u001B[39m\u001B[38;5;124m'\u001B[39m\u001B[38;5;124mlower\u001B[39m\u001B[38;5;124m'\u001B[39m\u001B[38;5;124m is less than \u001B[39m\u001B[38;5;124m'\u001B[39m\u001B[38;5;124mupper\u001B[39m\u001B[38;5;124m'\u001B[39m\u001B[38;5;124m\"\u001B[39m)\n\u001B[0;32m   1175\u001B[0m \u001B[38;5;28mself\u001B[39m\u001B[38;5;241m.\u001B[39mload()\n\u001B[0;32m   1176\u001B[0m \u001B[38;5;28;01mreturn\u001B[39;00m \u001B[38;5;28mself\u001B[39m\u001B[38;5;241m.\u001B[39m_new(\u001B[38;5;28mself\u001B[39m\u001B[38;5;241m.\u001B[39m_crop(\u001B[38;5;28mself\u001B[39m\u001B[38;5;241m.\u001B[39mim, box))\n",
      "\u001B[1;31mValueError\u001B[0m: Coordinate 'lower' is less than 'upper'"
     ]
    }
   ],
   "source": [
    "save_path = Path(r'C:\\Users\\wuweihua\\Desktop\\新建文件夹 (2)')\n",
    "small_height = int(height / 10)\n",
    "top = 0\n",
    "bottom = small_height\n",
    "\n",
    "x = 1\n",
    "while top <= bg.height:\n",
    "    small_im = bg.crop((0, top, 750, bottom))\n",
    "    pic_path = save_path / f'{x}.jpg'\n",
    "    small_im.save(pic_path, quality=90)\n",
    "\n",
    "    x += 1\n",
    "    top += small_height\n",
    "    bottom += small_height\n",
    "\n",
    "    if bottom > bg.height:\n",
    "        bottom = bg.height"
   ],
   "metadata": {
    "collapsed": false
   }
  }
 ],
 "metadata": {
  "kernelspec": {
   "display_name": "Python 3",
   "language": "python",
   "name": "python3"
  },
  "language_info": {
   "codemirror_mode": {
    "name": "ipython",
    "version": 2
   },
   "file_extension": ".py",
   "mimetype": "text/x-python",
   "name": "python",
   "nbconvert_exporter": "python",
   "pygments_lexer": "ipython2",
   "version": "2.7.6"
  }
 },
 "nbformat": 4,
 "nbformat_minor": 0
}
