{
 "cells": [
  {
   "cell_type": "code",
   "execution_count": 3,
   "outputs": [
    {
     "name": "stdout",
     "output_type": "stream",
     "text": [
      "<Element 'article' class=('post',)>\n",
      "<Element 'article' class=('post',)>\n",
      "<Element 'article' class=('post',)>\n",
      "<Element 'article' class=('post',)>\n",
      "<Element 'article' class=('post',)>\n",
      "<Element 'article' class=('post',)>\n",
      "<Element 'article' class=('post',)>\n",
      "<Element 'article' class=('post',)>\n",
      "<Element 'article' class=('post',)>\n",
      "<Element 'article' class=('post',)>\n",
      "<Element 'article' class=('post',)>\n",
      "<Element 'article' class=('post',)>\n",
      "<Element 'article' class=('post',)>\n",
      "<Element 'article' class=('post',)>\n",
      "<Element 'article' class=('post',)>\n",
      "<Element 'article' class=('post',)>\n",
      "<Element 'article' class=('post',)>\n",
      "<Element 'article' class=('post',)>\n",
      "<Element 'article' class=('post',)>\n",
      "<Element 'article' class=('post',)>\n",
      "<Element 'article' class=('post',)>\n",
      "<Element 'article' class=('post',)>\n",
      "<Element 'article' class=('post',)>\n",
      "<Element 'article' class=('post',)>\n"
     ]
    }
   ],
   "source": [
    "from pathlib import Path\n",
    "from requests_html import HTML\n",
    "\n",
    "html_file = Path() / 'anyu.html'\n",
    "html = HTML(html=html_file.read_text(encoding='utf-8'))\n",
    "\n",
    "for ma in html.find(r'#J_postList > article'):\n",
    "    url = ma.find('a.media-pic',first=True).attrs.get('href')\n",
    "    img = ma.find('a.media-pic img',first=True).attrs.get('src')\n"
   ],
   "metadata": {
    "collapsed": false
   }
  }
 ],
 "metadata": {
  "kernelspec": {
   "display_name": "Python 3",
   "language": "python",
   "name": "python3"
  },
  "language_info": {
   "codemirror_mode": {
    "name": "ipython",
    "version": 2
   },
   "file_extension": ".py",
   "mimetype": "text/x-python",
   "name": "python",
   "nbconvert_exporter": "python",
   "pygments_lexer": "ipython2",
   "version": "2.7.6"
  }
 },
 "nbformat": 4,
 "nbformat_minor": 0
}
