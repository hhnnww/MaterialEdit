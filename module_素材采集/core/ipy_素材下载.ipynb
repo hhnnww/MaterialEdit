{
 "cells": [
  {
   "cell_type": "code",
   "execution_count": 48,
   "metadata": {
    "collapsed": true
   },
   "outputs": [
    {
     "name": "stdout",
     "output_type": "stream",
     "text": [
      "ParseResult(scheme='https', netloc='ibaotu.com', path='/tupian/lidonghaibao/6-0-0-0-0-1-c0_1-1.html', params='', query='format_type=0&mrltype=0', fragment='')\n"
     ]
    }
   ],
   "source": [
    "from urllib.parse import urlparse\n",
    "\n",
    "url = r'https://ibaotu.com/tupian/lidonghaibao/6-0-0-0-0-1-c0_1-1.html?format_type=0&mrltype=0'\n",
    "x = urlparse(url)\n",
    "referer_url = f'{x.scheme}://{x.netloc}'"
   ]
  }
 ],
 "metadata": {
  "kernelspec": {
   "display_name": "Python 3",
   "language": "python",
   "name": "python3"
  },
  "language_info": {
   "codemirror_mode": {
    "name": "ipython",
    "version": 2
   },
   "file_extension": ".py",
   "mimetype": "text/x-python",
   "name": "python",
   "nbconvert_exporter": "python",
   "pygments_lexer": "ipython2",
   "version": "2.7.6"
  }
 },
 "nbformat": 4,
 "nbformat_minor": 0
}
