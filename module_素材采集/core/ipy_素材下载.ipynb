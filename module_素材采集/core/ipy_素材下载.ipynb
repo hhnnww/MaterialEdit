{
 "cells": [
  {
   "cell_type": "code",
   "execution_count": 8,
   "outputs": [
    {
     "name": "stdout",
     "output_type": "stream",
     "text": [
      "代理端口：7890\n"
     ]
    }
   ],
   "source": [
    "from module_素材采集.core.class_htmldown import HTMLDown\n",
    "\n",
    "html = HTMLDown(r'https://all-free-download.com/?a=G&t=avs&q=&rk=any&k=free-vector&lc=all&or=new&p=6').html"
   ],
   "metadata": {
    "collapsed": false
   }
  },
  {
   "cell_type": "code",
   "execution_count": 18,
   "outputs": [
    {
     "name": "stdout",
     "output_type": "stream",
     "text": [
      "https://all-free-download.com/free-vector/download/cute_love_quotes_poster_template_calligraphy_ribbon_design_6927889.html\n",
      "https://images.all-free-download.com/images/graphiclarge/cute_love_quotes_poster_template_calligraphy_ribbon_design_6927889.jpg\n",
      "\n",
      "\n",
      "https://all-free-download.com/free-vector/download/cute_love_quotes_poster_template_calligraphic_texts_decor_6927884.html\n",
      "https://images.all-free-download.com/images/graphiclarge/cute_love_quotes_poster_template_calligraphic_texts_decor_6927884.jpg\n",
      "\n",
      "\n",
      "https://all-free-download.com/free-vector/download/cute_love_quotes_poster_template_retro_dynamic_texts_arrow_hearts_handdrawn_design_6927879.html\n",
      "https://images.all-free-download.com/images/graphiclarge/cute_love_quotes_poster_template_retro_dynamic_texts_arrow_hearts_handdrawn_design_6927879.jpg\n",
      "\n",
      "\n",
      "https://all-free-download.com/free-vector/download/black_friday_hang_tag_template_elegant_dark_contrast_design_6927872.html\n",
      "https://images.all-free-download.com/images/graphiclarge/black_friday_hang_tag_template_elegant_dark_contrast_design_6927872.jpg\n",
      "\n",
      "\n",
      "https://all-free-download.com/free-vector/download/christmas_pattern_template_cute_kid_in_reindeer_costume_stylized_penguin_sketch_repeating_cartoon_design_6927866.html\n",
      "https://images.all-free-download.com/images/graphiclarge/christmas_pattern_template_cute_kid_in_reindeer_costume_stylized_penguin_sketch_repeating_cartoon_design_6927866.jpg\n",
      "\n",
      "\n",
      "https://all-free-download.com/free-vector/download/cute_love_quotes_banner_template_dynamic_symmetric_calligraphic_texts_ribbon_cloud_stars_decor_6927888.html\n",
      "https://images.all-free-download.com/images/graphiclarge/cute_love_quotes_banner_template_dynamic_symmetric_calligraphic_texts_ribbon_cloud_stars_decor_6927888.jpg\n",
      "\n",
      "\n",
      "https://all-free-download.com/free-vector/download/cute_love_quotes_poster_template_texts_hearts_ribbon_rays_stars_decor_6927883.html\n",
      "https://images.all-free-download.com/images/graphiclarge/cute_love_quotes_poster_template_texts_hearts_ribbon_rays_stars_decor_6927883.jpg\n",
      "\n",
      "\n",
      "https://all-free-download.com/free-vector/download/cute_love_quotes_banner_template_elegant_texts_decor_6927878.html\n",
      "https://images.all-free-download.com/images/graphiclarge/cute_love_quotes_banner_template_elegant_texts_decor_6927878.jpg\n",
      "\n",
      "\n",
      "https://all-free-download.com/free-vector/download/black_friday_sale_banner_template_elegant_luxury_realistic_design_texts_confetti_decor_6927871.html\n",
      "https://images.all-free-download.com/images/graphiclarge/black_friday_sale_banner_template_elegant_luxury_realistic_design_texts_confetti_decor_6927871.jpg\n",
      "\n",
      "\n",
      "https://all-free-download.com/free-vector/download/christmas_pattern_template_sleighing_santa_claus_gifts_sketch_dynamic_cartoon_outline_repeating_design_6927867.html\n",
      "https://images.all-free-download.com/images/graphiclarge/christmas_pattern_template_sleighing_santa_claus_gifts_sketch_dynamic_cartoon_outline_repeating_design_6927867.jpg\n",
      "\n",
      "\n",
      "https://all-free-download.com/free-vector/download/cute_love_quotes_poster_template_elegant_texts_decor_6927887.html\n",
      "https://images.all-free-download.com/images/graphiclarge/cute_love_quotes_poster_template_elegant_texts_decor_6927887.jpg\n",
      "\n",
      "\n",
      "https://all-free-download.com/free-vector/download/cute_love_quotes_banner_template_flat_calligraphic_texts_hearts_decor_elegant_design_6927882.html\n",
      "https://images.all-free-download.com/images/graphiclarge/cute_love_quotes_banner_template_flat_calligraphic_texts_hearts_decor_elegant_design_6927882.jpg\n",
      "\n",
      "\n",
      "https://all-free-download.com/free-vector/download/worship_church_flyer_template_modern_realistic_elegant_man_sketch_geometric_design_6927877.html\n",
      "https://images.all-free-download.com/images/graphiclarge/worship_church_flyer_template_modern_realistic_elegant_man_sketch_geometric_design_6927877.jpg\n",
      "\n",
      "\n",
      "https://all-free-download.com/free-vector/download/black_friday_sale_poster_elegant_dark_red_circle_design_6927873.html\n",
      "https://images.all-free-download.com/images/graphiclarge/black_friday_sale_poster_elegant_dark_red_circle_design_6927873.jpg\n",
      "\n",
      "\n",
      "https://all-free-download.com/free-vector/download/christmas_pattern_template_cute_repeating_snowman_light_sketch_6927869.html\n",
      "https://images.all-free-download.com/images/graphiclarge/christmas_pattern_template_cute_repeating_snowman_light_sketch_6927869.jpg\n",
      "\n",
      "\n",
      "https://all-free-download.com/free-vector/download/cute_love_quotes_poster_template_flat_calligraphic_texts_rays_stars_decor_6927886.html\n",
      "https://images.all-free-download.com/images/graphiclarge/cute_love_quotes_poster_template_flat_calligraphic_texts_rays_stars_decor_6927886.jpg\n",
      "\n",
      "\n",
      "https://all-free-download.com/free-vector/download/cute_love_quotes_banner_template_dynamic_classical_calligraphic_texts_ribbon_stars_decor_6927881.html\n",
      "https://images.all-free-download.com/images/graphiclarge/cute_love_quotes_banner_template_dynamic_classical_calligraphic_texts_ribbon_stars_decor_6927881.jpg\n",
      "\n",
      "\n",
      "https://all-free-download.com/free-vector/download/graffiti_artwork_backdrop_template_dynamic_colorful_handdrawn_symbols_outline_6927876.html\n",
      "https://images.all-free-download.com/images/graphiclarge/graffiti_artwork_backdrop_template_dynamic_colorful_handdrawn_symbols_outline_6927876.jpg\n",
      "\n",
      "\n",
      "https://all-free-download.com/free-vector/download/demon_head_icon_symmetric_classical_cartoon_handdrawn_outline_symmetric_design_6927870.html\n",
      "https://images.all-free-download.com/images/graphiclarge/demon_head_icon_symmetric_classical_cartoon_handdrawn_outline_symmetric_design_6927870.jpg\n",
      "\n",
      "\n",
      "https://all-free-download.com/free-vector/download/christmas_pattern_template_cute_repeating_santa_gifts_bags_sketch_6927865.html\n",
      "https://images.all-free-download.com/images/graphiclarge/christmas_pattern_template_cute_repeating_santa_gifts_bags_sketch_6927865.jpg\n",
      "\n",
      "\n",
      "https://all-free-download.com/free-vector/download/cute_love_quotes_banner_template_flat_classical_handdrawn_texts_outline_6927885.html\n",
      "https://images.all-free-download.com/images/graphiclarge/cute_love_quotes_banner_template_flat_classical_handdrawn_texts_outline_6927885.jpg\n",
      "\n",
      "\n",
      "https://all-free-download.com/free-vector/download/cute_love_quotes_poster_template_dynamic_symmetric_texts_rays_classic_design_6927880.html\n",
      "https://images.all-free-download.com/images/graphiclarge/cute_love_quotes_poster_template_dynamic_symmetric_texts_rays_classic_design_6927880.jpg\n",
      "\n",
      "\n",
      "https://all-free-download.com/free-vector/download/black_friday_banner_template_elegant_contrast_circles_texts_decor_6927875.html\n",
      "https://images.all-free-download.com/images/graphiclarge/black_friday_banner_template_elegant_contrast_circles_texts_decor_6927875.jpg\n",
      "\n",
      "\n",
      "https://all-free-download.com/free-vector/download/flat_black_friday_poster_template_retro_grunge_ink_black_white_circle_outline_6927874.html\n",
      "https://images.all-free-download.com/images/graphiclarge/flat_black_friday_poster_template_retro_grunge_ink_black_white_circle_outline_6927874.jpg\n",
      "\n",
      "\n",
      "https://all-free-download.com/free-vector/download/merry_christmas_pattern_template_cute_repeating_stylized_reindeers_xmas_elements_decor_6927868.html\n",
      "https://images.all-free-download.com/images/graphiclarge/merry_christmas_pattern_template_cute_repeating_stylized_reindeers_xmas_elements_decor_6927868.jpg\n",
      "\n",
      "\n"
     ]
    }
   ],
   "source": [
    "ma_list = html.find('body div.container-fluid.pb-3 div.row.row-cols-1.row-cols-sm-1.row-cols-md-5.row-cols-xl-5.row-cols-xxl-5 .col .grid-item.grid-item-cell')\n",
    "for ma in ma_list:\n",
    "    url = list(ma.find('.item-image-cover a',first=True).absolute_links)[0]\n",
    "    print(url)\n",
    "\n",
    "    img = ma.find('.item-image-cover a img',first=True).attrs.get('src')\n",
    "    print(img)\n",
    "\n",
    "    print('\\n')"
   ],
   "metadata": {
    "collapsed": false
   }
  }
 ],
 "metadata": {
  "kernelspec": {
   "display_name": "Python 3",
   "language": "python",
   "name": "python3"
  },
  "language_info": {
   "codemirror_mode": {
    "name": "ipython",
    "version": 2
   },
   "file_extension": ".py",
   "mimetype": "text/x-python",
   "name": "python",
   "nbconvert_exporter": "python",
   "pygments_lexer": "ipython2",
   "version": "2.7.6"
  }
 },
 "nbformat": 4,
 "nbformat_minor": 0
}
