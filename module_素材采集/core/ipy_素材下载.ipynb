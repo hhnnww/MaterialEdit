{
 "cells": [
  {
   "cell_type": "code",
   "execution_count": 11,
   "outputs": [
    {
     "name": "stdout",
     "output_type": "stream",
     "text": [
      "['设计师专用素材，不是设计师请不要购买。设', '计师专用素材，不是设计师请不要购买。设计', '师专用素材，不是设计师请不要购买。设计师', '专用素材，不是设计师请不要购买。设计师专', '用素材，不是设计师请不要购买。', '设计师专用 素材，不是设计师请不要购买。', '设计师专用素材，不是设计师请不要购买。设', '计师专用素材，不是设计师请不要购买。设计', '师专用素材，不是设计师请不要购买。设计师', '专用素材，不是设计师请不要购买。']\n"
     ]
    }
   ],
   "source": [
    "import textwrap\n",
    "\n",
    "cookie = '设计师专用素材，不是设计师请不要购买。设计师专用素材，不是设计师请不要购买。设计师专用素材，不是设计师请不要购买。设计师专用素材，不是设计师请不要购买。设计师专用素材，不是设计师请不要购买。\\n\\n设计师专用\\n素材，不是设计师请不要购买。设计师专用素材，不是设计师请不要购买。设计师专用素材，不是设计师请不要购买。设计师专用素材，不是设计师请不要购买。设计师专用素材，不是设计师请不要购买。'\n",
    "\n",
    "tw = textwrap.wrap(cookie, width=20)\n",
    "print(tw)"
   ],
   "metadata": {
    "collapsed": false
   }
  }
 ],
 "metadata": {
  "kernelspec": {
   "display_name": "Python 3",
   "language": "python",
   "name": "python3"
  },
  "language_info": {
   "codemirror_mode": {
    "name": "ipython",
    "version": 2
   },
   "file_extension": ".py",
   "mimetype": "text/x-python",
   "name": "python",
   "nbconvert_exporter": "python",
   "pygments_lexer": "ipython2",
   "version": "2.7.6"
  }
 },
 "nbformat": 4,
 "nbformat_minor": 0
}
