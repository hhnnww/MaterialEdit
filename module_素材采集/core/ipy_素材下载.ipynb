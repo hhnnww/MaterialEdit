{
 "cells": [
  {
   "cell_type": "code",
   "execution_count": 78,
   "outputs": [],
   "source": [
    "from module_素材采集.core.class_htmldown import HTMLDown\n",
    "import re\n",
    "import json\n",
    "from pprint import pprint"
   ],
   "metadata": {
    "collapsed": false
   }
  },
  {
   "cell_type": "code",
   "execution_count": 86,
   "outputs": [
    {
     "name": "stdout",
     "output_type": "stream",
     "text": [
      "代理端口：7890\n"
     ]
    }
   ],
   "source": [
    "html = HTMLDown('https://elements.envato.com/clean-chopstick-box-mockup-PW3STQG').html"
   ],
   "metadata": {
    "collapsed": false
   }
  },
  {
   "cell_type": "code",
   "execution_count": 80,
   "outputs": [],
   "source": [
    "with open('./envato.html', 'w+', encoding='utf-8') as f:\n",
    "    f.write(html.html)"
   ],
   "metadata": {
    "collapsed": false
   }
  },
  {
   "cell_type": "code",
   "execution_count": 88,
   "outputs": [
    {
     "name": "stdout",
     "output_type": "stream",
     "text": [
      "['https://elements-cover-images-0.imgix.net/d1b167da-878f-4828-83e4-9668763e60e5?auto=compress%2Cformat&fit=max&w=2740&s=584f25bc665981ff3fb05ac16879dd2c', 'https://elements-preview-images-0.imgix.net/05367ae8-f19e-458a-aeca-9851aba60558?auto=compress%2Cformat&fit=max&w=2740&s=240d2a2b3753989b035e76b96c992c44', 'https://elements-preview-images-0.imgix.net/4829906c-7e66-4508-9566-e3428f310342?auto=compress%2Cformat&fit=max&w=2740&s=f8e18ddbdec07f0c455f2720e98f4383', 'https://elements-preview-images-0.imgix.net/77b00ecb-8c92-4808-b162-dddae440f97b?auto=compress%2Cformat&fit=max&w=2740&s=d628d223f4774b521523ab6c113e95b8', 'https://elements-preview-images-0.imgix.net/92f9f1ac-133c-41da-abac-f7a8a42b00b4?auto=compress%2Cformat&fit=max&w=2740&s=d80501e35b7bfdca5c127ee0d66704a1', 'https://elements-preview-images-0.imgix.net/ca58f065-7373-43b1-b3e8-ffee42dc7889?auto=compress%2Cformat&fit=max&w=2740&s=63d18f412fd9dec99d06a0b732aa95c9']\n"
     ]
    }
   ],
   "source": [
    "script_text = ''\n",
    "\n",
    "for script_element in html.find('script'):\n",
    "    if 'window.INITIAL_HYDRATION_DATA' in script_element.text:\n",
    "        script_text: str = script_element.text\n",
    "\n",
    "script_text = script_text.replace('window.INITIAL_HYDRATION_DATA=', '')\n",
    "script_text = script_text.replace(';', '')\n",
    "script_text = script_text.replace('\\\\\"', \"'\")\n",
    "script_text = script_text.replace('\"flat\"', '')\n",
    "script_text = script_text.replace(',]', ']')\n",
    "script_text = script_text.replace(',,', ',')\n",
    "\n",
    "with open('./envato.json', 'w+', encoding='utf-8') as f:\n",
    "    f.write(script_text)\n",
    "\n",
    "script_text: dict = json.loads(script_text)\n",
    "material_dict: dict = script_text.get('page').get('data').get('item')\n",
    "\n",
    "img_list = [material_dict.get('coverImage')]\n",
    "img_list.extend(material_dict.get('previewImages'))\n",
    "\n",
    "img_url_list = []\n",
    "\n",
    "img_size = ['w2740', 'w1370', 'w1170', 'w900']\n",
    "for img_obj in img_list:\n",
    "    img_obj: dict\n",
    "    for in_size in img_size:\n",
    "        url = img_obj.get(in_size)\n",
    "        if url is not None:\n",
    "            img_url_list.append(url)\n",
    "            break\n",
    "\n",
    "print(img_url_list)"
   ],
   "metadata": {
    "collapsed": false
   }
  }
 ],
 "metadata": {
  "kernelspec": {
   "display_name": "Python 3",
   "language": "python",
   "name": "python3"
  },
  "language_info": {
   "codemirror_mode": {
    "name": "ipython",
    "version": 2
   },
   "file_extension": ".py",
   "mimetype": "text/x-python",
   "name": "python",
   "nbconvert_exporter": "python",
   "pygments_lexer": "ipython2",
   "version": "2.7.6"
  }
 },
 "nbformat": 4,
 "nbformat_minor": 0
}
