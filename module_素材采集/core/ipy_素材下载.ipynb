{
 "cells": [
  {
   "cell_type": "code",
   "execution_count": 2,
   "outputs": [
    {
     "name": "stdout",
     "output_type": "stream",
     "text": [
      "<HTML url='https://example.org/'>\n"
     ]
    }
   ],
   "source": [
    "from pathlib import Path\n",
    "from requests_html import HTML\n",
    "\n",
    "tb_html_file = Path(r'F:\\MyProject\\FTDesign\\fastapi\\module_素材采集\\core\\taobao.html')\n",
    "html = HTML(html=tb_html_file.read_text(encoding='utf-8'))\n",
    "print(html)"
   ],
   "metadata": {
    "collapsed": false
   }
  },
  {
   "cell_type": "code",
   "execution_count": 9,
   "outputs": [
    {
     "name": "stdout",
     "output_type": "stream",
     "text": [
      "https://item.taobao.com/item.htm?id=586843835927\n",
      "https://img.alicdn.com/bao/uploaded/i4/2367584017/O1CN01Vi4ZZA1fXpZ5IZ2Sg_!!2367584017.jpg\n",
      "https://item.taobao.com/item.htm?id=596410249401\n",
      "https://img.alicdn.com/bao/uploaded/i1/2367584017/O1CN019yx7qM1fXplZbIXhe_!!2367584017.jpg\n",
      "https://item.taobao.com/item.htm?id=638305492928\n",
      "https://img.alicdn.com/bao/uploaded/i4/2367584017/O1CN01kQLQeN1fXpnv36r1Q_!!2367584017.jpg\n",
      "https://item.taobao.com/item.htm?id=595834006624\n",
      "https://img.alicdn.com/bao/uploaded/i4/2367584017/O1CN01daknV41fXpnbBvsHz_!!2367584017.jpg\n",
      "https://item.taobao.com/item.htm?id=636222537124\n",
      "https://img.alicdn.com/bao/uploaded/i4/2367584017/O1CN01CFwrvf1fXpnq1Trh5_!!2367584017.jpg\n",
      "https://item.taobao.com/item.htm?id=588251664977\n",
      "https://img.alicdn.com/bao/uploaded/i1/2367584017/O1CN01Bi0I9y1fXpncjg9Lf_!!2367584017.jpg\n",
      "https://item.taobao.com/item.htm?id=596833023527\n",
      "https://img.alicdn.com/bao/uploaded/i1/2367584017/O1CN01BGkX351fXpkYRwsDo_!!2367584017.jpg\n",
      "https://item.taobao.com/item.htm?id=642323167888\n",
      "https://img.alicdn.com/bao/uploaded/i1/2367584017/O1CN01JlIgsi1fXpo6Qpzoa_!!2367584017.jpg\n",
      "https://item.taobao.com/item.htm?id=45535311210\n",
      "https://img.alicdn.com/bao/uploaded/i3/2367584017/O1CN01f7FtdY1fXpo5La2FG_!!2367584017.jpg\n",
      "https://item.taobao.com/item.htm?id=595932498611\n",
      "https://img.alicdn.com/bao/uploaded/i2/2367584017/O1CN01YmYZQr1fXpnSucx6t_!!2367584017.jpg\n",
      "https://item.taobao.com/item.htm?id=600058665982\n",
      "https://img.alicdn.com/bao/uploaded/i2/2367584017/O1CN01DZk7uR1fXpnzNv3H1_!!2367584017.jpg\n",
      "https://item.taobao.com/item.htm?id=45663840725\n",
      "https://img.alicdn.com/bao/uploaded/i2/2367584017/O1CN01bPmB961fXpoGTZqDz_!!2367584017.jpg\n",
      "https://item.taobao.com/item.htm?id=651913446125\n",
      "https://img.alicdn.com/bao/uploaded/i2/2367584017/O1CN010d27EH1fXpnpAphsf_!!2367584017.jpg\n",
      "https://item.taobao.com/item.htm?id=44306986963\n",
      "https://img.alicdn.com/bao/uploaded/i3/2367584017/O1CN011saEzg1fXpoCuSCqQ_!!2367584017.jpg\n",
      "https://item.taobao.com/item.htm?id=609470932825\n",
      "https://img.alicdn.com/bao/uploaded/i2/2367584017/O1CN01be9DhF1fXpo3iNq41_!!2367584017.jpg\n",
      "https://item.taobao.com/item.htm?id=683518632899\n",
      "https://img.alicdn.com/bao/uploaded/i2/2367584017/O1CN01va5hvG1fXpnn8OMLH_!!2367584017.jpg\n"
     ]
    }
   ],
   "source": [
    "ma_list = html.find(r'#J_ShopSearchResult > div > div.shop-hesper-bd.grid > div > dl')\n",
    "for ma in ma_list:\n",
    "    url = 'https:' + ma.find('.photo a', first=True).attrs.get('href')\n",
    "    img = 'https:' + ma.find('.photo a img', first=True).attrs.get('src')\n",
    "    img = img.replace('_180x180.jpg', '')\n",
    "\n",
    "    print(url)\n",
    "    print(img)"
   ],
   "metadata": {
    "collapsed": false
   }
  }
 ],
 "metadata": {
  "kernelspec": {
   "display_name": "Python 3",
   "language": "python",
   "name": "python3"
  },
  "language_info": {
   "codemirror_mode": {
    "name": "ipython",
    "version": 2
   },
   "file_extension": ".py",
   "mimetype": "text/x-python",
   "name": "python",
   "nbconvert_exporter": "python",
   "pygments_lexer": "ipython2",
   "version": "2.7.6"
  }
 },
 "nbformat": 4,
 "nbformat_minor": 0
}
