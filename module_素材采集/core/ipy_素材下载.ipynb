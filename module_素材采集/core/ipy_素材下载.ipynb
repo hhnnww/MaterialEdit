{
 "cells": [
  {
   "cell_type": "code",
   "execution_count": 12,
   "outputs": [
    {
     "name": "stdout",
     "output_type": "stream",
     "text": [
      "['%E6%98%A5', 'all', 'all', 'all', 'all', 'all', 'all', '0', 'all']\n"
     ]
    }
   ],
   "source": [
    "import re\n",
    "\n",
    "ori_url = r'https://www.design006.com/search-%E6%98%A5-all-all-all-all-all-all-0-all'\n",
    "option_list: str = re.findall(r'/search-([\\s\\S]*?)$', ori_url)[0]\n",
    "option_list = option_list.split('-')\n",
    "print(option_list)\n",
    "\n",
    "\n"
   ],
   "metadata": {
    "collapsed": false
   }
  }
 ],
 "metadata": {
  "kernelspec": {
   "display_name": "Python 3",
   "language": "python",
   "name": "python3"
  },
  "language_info": {
   "codemirror_mode": {
    "name": "ipython",
    "version": 2
   },
   "file_extension": ".py",
   "mimetype": "text/x-python",
   "name": "python",
   "nbconvert_exporter": "python",
   "pygments_lexer": "ipython2",
   "version": "2.7.6"
  }
 },
 "nbformat": 4,
 "nbformat_minor": 0
}
