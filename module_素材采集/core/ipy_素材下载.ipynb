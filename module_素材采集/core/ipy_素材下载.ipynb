{
 "cells": [
  {
   "cell_type": "code",
   "execution_count": 1,
   "outputs": [],
   "source": [
    "from module_素材采集.core.class_htmldown import HTMLDown\n",
    "\n",
    "res = HTMLDown(\n",
    "    'https://www.58pic.com/tupian/244776038-0-0-id-1-0-0-0_2_0_0_0_0_0-0-0-0-0-0-0-0-2.html?is_ajax=1&is_new=1')"
   ],
   "metadata": {
    "collapsed": false
   }
  },
  {
   "cell_type": "code",
   "execution_count": 12,
   "outputs": [
    {
     "name": "stdout",
     "output_type": "stream",
     "text": [
      "https://www.58pic.com/newpic/41089285.html https://preview.qiantucdn.com/templates/bg/20201027/bg/003973c459f4b_430142.png!qt_gao320\n",
      "https://www.58pic.com/newpic/41057920.html https://preview.qiantucdn.com/templates/20210320/bg/0ab9f4474750e.png!qt_gao320\n",
      "https://www.58pic.com/newpic/41051959.html https://preview.qiantucdn.com/templates/bg/20201027/bg/1b002734fd37c_430133.png!qt_gao320\n",
      "https://www.58pic.com/newpic/41051960.html https://preview.qiantucdn.com/templates/bg/20201027/bg/da70939c51c8a_430156.png!qt_gao320\n",
      "https://www.58pic.com/newpic/41051958.html https://preview.qiantucdn.com/templates/bg/20201027/bg/a7711a7294b9a_430111.png!qt_gao320\n",
      "https://www.58pic.com/newpic/41016295.html https://preview.qiantucdn.com/templates/bg/20201027/bg/751c617c6b641_430152.png!qt_gao320\n",
      "https://www.58pic.com/newpic/41003276.html https://preview.qiantucdn.com/templates/20210320/bg/c728a35594845.png!qt_gao320\n",
      "https://www.58pic.com/newpic/40976576.html https://preview.qiantucdn.com/templates/20210320/bg/3abe782ae5c96.png!qt_gao320\n",
      "https://www.58pic.com/newpic/40976577.html https://preview.qiantucdn.com/templates/20210320/bg/e14501be27bd8.png!qt_gao320\n",
      "https://www.58pic.com/newpic/39925122.html https://preview.qiantucdn.com/auto_machine/20210419/0061ab24-9e13-4b33-ae78-3a751a2d1dd8.jpg!qt_gao320\n",
      "https://www.58pic.com/newpic/43843222.html https://preview.qiantucdn.com/auto_machine/20220420/09902d8a-c05a-44b5-8df6-e3c14e896919.jpg!qt_kuan320\n",
      "https://www.58pic.com/newpic/43839307.html https://preview.qiantucdn.com/auto_machine/20220418/f6ea273b-c117-4a66-a05d-1f0fddb8042f.jpg!qt_kuan320\n",
      "https://www.58pic.com/newpic/43841982.html https://preview.qiantucdn.com/auto_machine/20220419/6ec0b1b9-9f2d-467b-b828-5a098feb1278.jpg!qt_kuan320\n",
      "https://www.58pic.com/newpic/43838712.html https://preview.qiantucdn.com/auto_machine/20220418/11780dee-b5ed-4907-b475-0c88e089fe1c.jpg!qt_kuan320\n",
      "https://www.58pic.com/newpic/43830104.html https://preview.qiantucdn.com/auto_machine/20220415/46aa9585-cd47-414f-8d26-7e910db17aa1.jpg!qt_kuan320\n",
      "https://www.58pic.com/newpic/40976579.html https://preview.qiantucdn.com/templates/20210320/bg/d783df2e8d84e.png!qt_gao320\n",
      "https://www.58pic.com/newpic/40837258.html https://preview.qiantucdn.com/auto_machine/20211115/316fc1f6-8d4b-4a2e-a6a9-359e7485264f.jpg!qt_kuan320\n",
      "https://www.58pic.com/newpic/40384920.html https://preview.qiantucdn.com/auto_machine/20210721/d22c1c78-0534-4e2c-b052-934839426185.png!qt_gao320\n",
      "https://www.58pic.com/newpic/41089286.html https://preview.qiantucdn.com/templates/bg/20201027/bg/d7b77aca48a39_430158.png!qt_gao320\n",
      "https://www.58pic.com/newpic/42586131.html https://preview.qiantucdn.com/auto_machine/20220311/cf0ce86c-8ec3-4c1c-9056-b4f23fb83f9f.jpg!qt_kuan320\n",
      "https://www.58pic.com/newpic/39924002.html https://preview.qiantucdn.com/auto_machine/20210418/3eac7302-2624-4055-b1b0-ce692e89bf14.jpg!qt_kuan320\n",
      "https://www.58pic.com/newpic/40339837.html https://preview.qiantucdn.com/auto_machine/20210711/013f928a-d2bc-4a15-9175-da8708653105.jpg!qt_kuan320\n",
      "https://www.58pic.com/newpic/40114410.html https://preview.qiantucdn.com/auto_machine/20210429/361e2d83-3a1e-4c7b-a2cc-9eb92a99cc6a.jpg!qt_gao320\n",
      "https://www.58pic.com/newpic/40280947.html https://preview.qiantucdn.com/58pic/40/28/09/47658PICmHc658PICWdFRD2P3_PIC2018.jpg!qt_kuan320\n",
      "https://www.58pic.com/newpic/40495503.html https://preview.qiantucdn.com/auto_machine/20210824/e846e708-2870-490f-9b33-8afe3aa600a3.jpg!qt_kuan320\n",
      "https://www.58pic.com/newpic/40316125.html https://preview.qiantucdn.com/auto_machine/20210705/f07a0bf1-0bec-48f7-ad2b-84660e0e879c.jpg!qt_kuan320\n",
      "https://www.58pic.com/newpic/40029261.html https://preview.qiantucdn.com/auto_machine/20210421/95c50044-df5f-4c19-8f2f-6dcbaf39af8a.jpg!qt_kuan320\n",
      "https://www.58pic.com/newpic/39926445.html https://preview.qiantucdn.com/auto_machine/20210505/0b36a977-edb8-4bc4-8ce1-b2ed067e396a.jpg!qt_gao320\n",
      "https://www.58pic.com/newpic/39924731.html https://preview.qiantucdn.com/auto_machine/20210418/29aa915a-41dc-4dea-9322-7c075f476169.jpg!qt_kuan320\n",
      "https://www.58pic.com/newpic/40808544.html https://preview.qiantucdn.com/auto_machine/20211107/c39a81a5-ca81-4245-bde8-e8cb095b4035.jpg!qt_kuan320\n",
      "https://www.58pic.com/newpic/40026646.html https://preview.qiantucdn.com/auto_machine/20210421/b29fb9f8-4641-467e-b45e-fdf52659e886.jpg!qt_gao320\n",
      "https://www.58pic.com/newpic/43832773.html https://preview.qiantucdn.com/auto_machine/20220416/17431589-1a30-46c3-bce0-bdcc62508389.jpg!qt_gao320\n",
      "https://www.58pic.com/newpic/43832179.html https://preview.qiantucdn.com/auto_machine/20220415/5b6ad099-1271-47b1-8be3-e990fc3cb6bd.jpg!qt_kuan320\n",
      "https://www.58pic.com/newpic/43831068.html https://preview.qiantucdn.com/auto_machine/20220415/750acc78-f186-4b86-bcdd-261f28bf1253.jpg!qt_kuan320\n",
      "https://www.58pic.com/newpic/43830450.html https://preview.qiantucdn.com/auto_machine/20220415/29036439-3b05-476e-b88b-29b8aae6721b.jpg!qt_kuan320\n",
      "https://www.58pic.com/newpic/43828785.html https://preview.qiantucdn.com/auto_machine/20220414/aac0f9bf-25e9-42ff-889a-b89cb22dca66.jpg!qt_kuan320\n"
     ]
    }
   ],
   "source": [
    "import json\n",
    "from pprint import pprint\n",
    "\n",
    "data_dict: dict = json.loads(res.html.html)\n",
    "data = data_dict.get('data').get('pics')\n",
    "for obj in data:\n",
    "    obj: dict\n",
    "\n",
    "    url = f'https://www.58pic.com/newpic/{obj.get(\"id\")}.html'\n",
    "    img = f\"https:{obj.get('picurl')}\"\n",
    "\n",
    "    print(url, img)"
   ],
   "metadata": {
    "collapsed": false
   }
  }
 ],
 "metadata": {
  "kernelspec": {
   "display_name": "Python 3",
   "language": "python",
   "name": "python3"
  },
  "language_info": {
   "codemirror_mode": {
    "name": "ipython",
    "version": 2
   },
   "file_extension": ".py",
   "mimetype": "text/x-python",
   "name": "python",
   "nbconvert_exporter": "python",
   "pygments_lexer": "ipython2",
   "version": "2.7.6"
  }
 },
 "nbformat": 4,
 "nbformat_minor": 0
}
