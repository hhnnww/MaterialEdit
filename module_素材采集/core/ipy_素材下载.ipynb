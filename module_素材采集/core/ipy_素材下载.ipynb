{
 "cells": [
  {
   "cell_type": "code",
   "execution_count": 9,
   "outputs": [
    {
     "name": "stdout",
     "output_type": "stream",
     "text": [
      "代理端口：7890\n"
     ]
    }
   ],
   "source": [
    "from module_素材采集.core.class_htmldown import HTMLDown\n",
    "\n",
    "html = HTMLDown('https://pngtree.com/so/rabbit/1?sort=new').html"
   ],
   "metadata": {
    "collapsed": false
   }
  },
  {
   "cell_type": "code",
   "execution_count": 17,
   "outputs": [
    {
     "name": "stdout",
     "output_type": "stream",
     "text": [
      "'https://png.pngtree.com/png-vector/20221103/ourmid/pngtree-set-of-rabbit-sticker-isolated-on-transparent-backround-png-image_6411249.png'\n",
      "'https://png.pngtree.com/png-vector/20221103/ourmid/pngtree-vector-illustration-cute-rabbits-stickers-set-on-transparent-backround-png-image_6411247.png'\n",
      "'https://png.pngtree.com/png-vector/20221103/ourmid/pngtree-cute-rabbit-stickers-on-transparent-backround-png-image_6411413.png'\n",
      "'https://png.pngtree.com/png-vector/20221102/ourmid/pngtree-2023-calendar-cute-rabbit---indonesian-calendar-png-image_6407037.png'\n",
      "'https://png.pngtree.com/png-clipart/20221102/ourmid/pngtree-white-rabbit-png-image_6406593.png'\n",
      "'https://png.pngtree.com/png-clipart/20221101/ourmid/pngtree-rabbit-cartoon-charator-png-image_6406252.png'\n",
      "'https://png.pngtree.com/template/20221030/ourmid/pngtree-watermelon-dumplings-lanterns-auspicious-clouds-vietnam-2023-year-of-the-rabbit-image_1876450.jpg'\n",
      "'https://png.pngtree.com/template/20221030/ourmid/pngtree-flower-plant-border-watermelon-dumpling-vietnam-2023-rabbit-new-year-spring-image_1876449.jpg'\n",
      "'https://png.pngtree.com/template/20221030/ourmid/pngtree-persimmon-flower-plant-rabbit-avatar-2023-vietnamese-new-year-festival-tet-image_1876448.jpg'\n",
      "'https://png.pngtree.com/template/20221030/ourmid/pngtree-flower-lantern-watermelon-dumpling-vietnam-2023-rabbit-new-year-spring-festival-image_1876443.jpg'\n",
      "'https://png.pngtree.com/template/20221030/ourmid/pngtree-watermelon-gift-flower-lantern-vietnam-2023-rabbit-new-year-spring-festival-image_1876442.jpg'\n",
      "'https://png.pngtree.com/png-clipart/20221030/original/pngtree-2023-new-year-rabbit-sticker-transparent-background-png-image_8743839.png'\n",
      "'https://png.pngtree.com/png-clipart/20221030/original/pngtree-line-drawing-golden-rabbit-png-image_8743413.png'\n",
      "'https://png.pngtree.com/png-clipart/20221030/original/pngtree-year-of-the-rabbit-step-by-step-red-template-png-image_8743349.png'\n",
      "'https://png.pngtree.com/png-clipart/20221030/original/pngtree-rabbit-plum-lantern-golden-paper-cut-2023-rabbit-new-year-festival-png-image_8743256.png'\n",
      "'https://png.pngtree.com/png-clipart/20221030/original/pngtree-rabbit-outline-golden-border-paper-cut-2023-rabbit-new-year-chinese-png-image_8743254.png'\n",
      "'https://png.pngtree.com/png-clipart/20221030/original/pngtree-plum-blossom-rabbit-window-flower-paper-cut-ink-brush-2023-rabbit-png-image_8743252.png'\n",
      "'https://png.pngtree.com/png-clipart/20221030/original/pngtree-rabbit-radish-window-flower-paper-cut-golden-border-2023-rabbit-new-png-image_8743250.png'\n",
      "'https://png.pngtree.com/png-clipart/20221030/original/pngtree-peony-rabbit-paper-cut-2023-rabbit-new-year-chinese-new-year-png-image_8743248.png'\n",
      "'https://png.pngtree.com/png-clipart/20221030/original/pngtree-rabbit-window-paper-cut-plum-window-2023-rabbit-new-year-chinese-png-image_8743246.png'\n",
      "'https://png.pngtree.com/png-clipart/20221030/original/pngtree-rabbit-flower-golden-paper-cut-auspicious-cloud-2023-rabbit-new-year-png-image_8743244.png'\n",
      "'https://png.pngtree.com/png-clipart/20221030/original/pngtree-rabbit-plum-blossom-paper-cut-window-lantern-2023-new-year-chinese-png-image_8743242.png'\n",
      "'https://png.pngtree.com/png-clipart/20221030/original/pngtree-rabbit-paper-cut-chinese-border-2023-rabbit-new-year-chinese-new-png-image_8743240.png'\n",
      "'https://png.pngtree.com/png-clipart/20221030/original/pngtree-rabbit-lantern-paper-cut-window-flowers-2023-year-of-the-rabbit-png-image_8743238.png'\n",
      "'https://png.pngtree.com/png-clipart/20221030/original/pngtree-rabbit-copper-wire-border-xiangyun-coin-png-image_8743171.png'\n",
      "'https://png.pngtree.com/png-clipart/20221030/original/pngtree-rabbit-copper-coin-border-red-decoration-png-image_8743169.png'\n",
      "'https://png.pngtree.com/png-clipart/20221030/original/pngtree-year-of-the-rabbit-copper-coin-border-round-line-png-image_8743110.png'\n",
      "'https://png.pngtree.com/png-clipart/20221029/original/pngtree-cute-rabbit-2023-sticker-png-image_8742666.png'\n",
      "'https://png.pngtree.com/png-clipart/20221029/original/pngtree-rabbit-bunny-clipart-vector-illustration-isolated-photo-image-png-image_8742628.png'\n",
      "'https://png.pngtree.com/png-clipart/20221029/original/pngtree-japanese-new-year-rabbit-seal-png-image_8741537.png'\n",
      "'https://png.pngtree.com/png-clipart/20221029/original/pngtree-japanese-new-year-of-the-rabbit-seal-90-png-image_8741536.png'\n",
      "'https://png.pngtree.com/png-clipart/20221029/original/pngtree-year-of-the-japanese-new-year-of-the-rabbit-seal-png-image_8741535.png'\n",
      "'https://png.pngtree.com/png-clipart/20221029/original/pngtree-japanese-new-years-year-of-the-rabbit-seal-new-years-taste-png-image_8741534.png'\n",
      "'https://png.pngtree.com/png-clipart/20221029/original/pngtree-japanese-new-years-year-of-the-rabbit-seal-square-stamp-png-image_8741533.png'\n",
      "'https://png.pngtree.com/png-clipart/20221029/original/pngtree-year-of-the-rabbit-lucky-stars-high-lucky-red-template-png-image_8741532.png'\n",
      "'https://png.pngtree.com/png-clipart/20221028/original/pngtree-year-of-the-rabbit-new-year-auspicious-red-template-png-image_8741437.png'\n",
      "'https://png.pngtree.com/png-clipart/20221028/original/pngtree-year-of-the-rabbit-auspicious-new-year-font-png-image_8737089.png'\n",
      "'https://png.pngtree.com/png-clipart/20221028/original/pngtree-icon-animal-white-rabbit-png-image_8736689.png'\n",
      "'https://png.pngtree.com/png-clipart/20221028/original/pngtree-white-cartoon-rabbit-png-image_8736687.png'\n",
      "'https://png.pngtree.com/png-clipart/20221028/original/pngtree-spring-festival-rabbit-lunar-new-year-2023-festival-happy-new-year-png-image_8736447.png'\n",
      "'https://png.pngtree.com/png-clipart/20221028/original/pngtree-chinese-new-year-rabbit-chinese-new-year-2023-festival-happy-new-png-image_8736445.png'\n",
      "'https://png.pngtree.com/png-clipart/20221028/original/pngtree-spring-festival-rabbit-lunar-new-year-2023-festival-happy-new-year-png-image_8736443.png'\n",
      "'https://png.pngtree.com/png-clipart/20221028/original/pngtree-year-of-the-rabbit-new-year-auspicious-red-template-png-image_8736437.png'\n",
      "'https://png.pngtree.com/png-clipart/20221028/original/pngtree-year-of-the-rabbit-new-years-greetings-red-template-png-image_8736435.png'\n",
      "'https://png.pngtree.com/png-clipart/20221028/original/pngtree-year-of-the-rabbit-celebration-blessing-blue-template-png-image_8736433.png'\n",
      "'https://png.pngtree.com/png-clipart/20221028/original/pngtree-year-of-the-rabbit-blessing-fireworks-red-template-png-image_8736431.png'\n",
      "'https://png.pngtree.com/png-clipart/20221028/original/pngtree-year-of-the-rabbit-chinese-new-year-blessing-template-png-image_8736429.png'\n",
      "'https://png.pngtree.com/png-clipart/20221028/original/pngtree-2023-happy-new-year-rabbit-greeting-card-png-image_8736301.png'\n",
      "'https://png.pngtree.com/png-clipart/20221028/original/pngtree-2023-rabbit-year-greeting-card-happy-new-year-png-image_8736299.png'\n",
      "'https://png.pngtree.com/png-clipart/20221028/original/pngtree-2023-happy-new-year-rabbit-greeting-card-png-image_8736297.png'\n"
     ]
    }
   ],
   "source": [
    "from module_素材采集.core.model import MaterialType\n",
    "from hashlib import sha256\n",
    "import json\n",
    "from pprint import pprint\n",
    "\n",
    "\n",
    "for ma in html.find('ul.mb-box.masonry-element.clearfix.tpl-ul > li.li-box.search_keyword_statis_js'):\n",
    "    url = list(ma.find('a', first=True).absolute_links)[0]\n",
    "\n",
    "    img = ma.find('.mb-picbox img', first=True).attrs.get('data-original')\n",
    "\n",
    "\n",
    "    obj = MaterialType(\n",
    "        url=url,\n",
    "        img=img,\n",
    "        hash=sha256(url.encode('utf-8')).hexdigest()\n",
    "    )"
   ],
   "metadata": {
    "collapsed": false
   }
  }
 ],
 "metadata": {
  "kernelspec": {
   "display_name": "Python 3",
   "language": "python",
   "name": "python3"
  },
  "language_info": {
   "codemirror_mode": {
    "name": "ipython",
    "version": 2
   },
   "file_extension": ".py",
   "mimetype": "text/x-python",
   "name": "python",
   "nbconvert_exporter": "python",
   "pygments_lexer": "ipython2",
   "version": "2.7.6"
  }
 },
 "nbformat": 4,
 "nbformat_minor": 0
}
