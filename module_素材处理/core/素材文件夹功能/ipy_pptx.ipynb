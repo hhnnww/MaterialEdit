{
 "cells": [
  {
   "cell_type": "code",
   "execution_count": 8,
   "metadata": {
    "collapsed": true
   },
   "outputs": [
    {
     "ename": "com_error",
     "evalue": "(-2147352567, '发生意外。', (0, 'Microsoft PowerPoint', 'Presentation.Save : Invalid request.  Presentation cannot be modified.', '', 0, -2147188160), None)",
     "output_type": "error",
     "traceback": [
      "\u001B[1;31m---------------------------------------------------------------------------\u001B[0m",
      "\u001B[1;31mcom_error\u001B[0m                                 Traceback (most recent call last)",
      "Cell \u001B[1;32mIn[8], line 6\u001B[0m\n\u001B[0;32m      3\u001B[0m Application\u001B[38;5;241m.\u001B[39mVisible \u001B[38;5;241m=\u001B[39m \u001B[38;5;28;01mTrue\u001B[39;00m\n\u001B[0;32m      4\u001B[0m Presentation \u001B[38;5;241m=\u001B[39m Application\u001B[38;5;241m.\u001B[39mPresentations\u001B[38;5;241m.\u001B[39mOpen(\u001B[38;5;124mr\u001B[39m\u001B[38;5;124m'\u001B[39m\u001B[38;5;124mG:\u001B[39m\u001B[38;5;124m\\\u001B[39m\u001B[38;5;124m饭桶设计\u001B[39m\u001B[38;5;124m\\\u001B[39m\u001B[38;5;124m1000-1999\u001B[39m\u001B[38;5;124m\\\u001B[39m\u001B[38;5;124m1972\u001B[39m\u001B[38;5;124m\\\u001B[39m\u001B[38;5;124m1972\u001B[39m\u001B[38;5;124m\\\u001B[39m\u001B[38;5;124m饭桶设计(19).pptx\u001B[39m\u001B[38;5;124m'\u001B[39m)\n\u001B[1;32m----> 6\u001B[0m \u001B[43mPresentation\u001B[49m\u001B[38;5;241;43m.\u001B[39;49m\u001B[43mSave\u001B[49m\u001B[43m(\u001B[49m\u001B[43m)\u001B[49m\n\u001B[0;32m      7\u001B[0m Application\u001B[38;5;241m.\u001B[39mQuit()\n",
      "File \u001B[1;32m<COMObject Open>:2\u001B[0m, in \u001B[0;36mSave\u001B[1;34m(self)\u001B[0m\n",
      "\u001B[1;31mcom_error\u001B[0m: (-2147352567, '发生意外。', (0, 'Microsoft PowerPoint', 'Presentation.Save : Invalid request.  Presentation cannot be modified.', '', 0, -2147188160), None)"
     ]
    }
   ],
   "source": [
    "import win32com.client, sys\n",
    "Application = win32com.client.Dispatch(\"PowerPoint.Application\")\n",
    "Application.Visible = True\n",
    "Presentation = Application.Presentations.Open(r'G:\\饭桶设计\\1000-1999\\1972\\1972\\饭桶设计(19).pptx')\n",
    "\n",
    "Presentation.Save()\n",
    "Application.Quit()"
   ]
  }
 ],
 "metadata": {
  "kernelspec": {
   "display_name": "Python 3",
   "language": "python",
   "name": "python3"
  },
  "language_info": {
   "codemirror_mode": {
    "name": "ipython",
    "version": 2
   },
   "file_extension": ".py",
   "mimetype": "text/x-python",
   "name": "python",
   "nbconvert_exporter": "python",
   "pygments_lexer": "ipython2",
   "version": "2.7.6"
  }
 },
 "nbformat": 4,
 "nbformat_minor": 0
}
