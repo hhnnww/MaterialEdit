{
 "cells": [
  {
   "cell_type": "code",
   "execution_count": 2,
   "outputs": [
    {
     "name": "stderr",
     "output_type": "stream",
     "text": [
      "字体转PNG:  77%|█████████████████████████████████████▏          | 3273/4224 [02:56<06:43,  2.36it/s]2 extra bytes in post.stringData array\n",
      "字体转PNG: 100%|████████████████████████████████████████████████| 4224/4224 [11:39<00:00,  6.04it/s]\n"
     ]
    }
   ],
   "source": [
    "from pathlib import Path\n",
    "\n",
    "from tqdm import tqdm\n",
    "\n",
    "from module_素材处理.core.素材文件夹功能.FontToPng2.class_font_to_png import FontToPng\n",
    "\n",
    "font_dir = Path(r'E:\\小夕素材\\9000-9999\\9261\\9261')\n",
    "for in_file in tqdm(list(font_dir.iterdir()), ncols=100, desc='字体转PNG'):\n",
    "    in_file: Path\n",
    "\n",
    "    if in_file.is_file() and in_file.suffix.lower() in ['.otf', '.ttf']:\n",
    "        try:\n",
    "            ftp = FontToPng(\n",
    "                font_path=in_file,\n",
    "                tb_name='小夕素材'\n",
    "            )\n",
    "            ftp.main()\n",
    "        except:\n",
    "            pass\n"
   ],
   "metadata": {
    "collapsed": false
   }
  }
 ],
 "metadata": {
  "kernelspec": {
   "display_name": "Python 3",
   "language": "python",
   "name": "python3"
  },
  "language_info": {
   "codemirror_mode": {
    "name": "ipython",
    "version": 2
   },
   "file_extension": ".py",
   "mimetype": "text/x-python",
   "name": "python",
   "nbconvert_exporter": "python",
   "pygments_lexer": "ipython2",
   "version": "2.7.6"
  }
 },
 "nbformat": 4,
 "nbformat_minor": 0
}
