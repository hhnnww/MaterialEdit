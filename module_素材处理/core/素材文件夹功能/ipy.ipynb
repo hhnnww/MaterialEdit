{
 "cells": [
  {
   "cell_type": "code",
   "execution_count": 8,
   "outputs": [
    {
     "name": "stdout",
     "output_type": "stream",
     "text": [
      "1 WeiJunHei W1\n",
      "2 Regular\n",
      "4 WeiJunHei W1\n",
      "5 Version 1.000\n",
      "6 WeiJunHei-W1\n",
      "0 Copyright © 2020-2022 by Zojitype & CaiWeijun. All rights reserved.\n",
      "1 字体圈伟君黑 W1\n",
      "2 Regular\n",
      "3 1.000;ZLW;WeiJunHei-W1\n",
      "4 字体圈伟君黑 W1\n",
      "5 Version 1.000\n",
      "6 WeiJunHei-W1\n",
      "11 http://zojitype.com/\n",
      "16 字体圈伟君黑\n",
      "17 W1\n",
      "0 Copyright © 2020-2022 by Zojitype & CaiWeijun. All rights reserved.\n",
      "1 字体圈伟君黑 W1\n",
      "2 Regular\n",
      "4 字体圈伟君黑 W1\n",
      "8 Zojitype\n",
      "9 蔡伟君\n",
      "16 字体圈伟君黑\n",
      "17 W1\n",
      "18 字体圈伟君黑\n",
      "19 微信公众号:字体圈 / 左字字库\n",
      "微博:字体圈Design\n",
      "\n",
      "邹乐伟工作室保留所有权利。\n",
      "http://zojitype.com/\n",
      "\n",
      "该软件／文件副本是邹乐伟工作室商\n",
      "业字体产品的一部分。\n",
      "\n",
      "为保护知识产权，邹乐伟工作室字体\n",
      "产品暂不提供试用版免费下载供实际\n",
      "体验，您可在我们的官网浏览字体详\n",
      "情，也可进行购买获得字体的使用权\n",
      "。非法途径获取的字库软件原件及未\n",
      "经许可使用的，将须承担相应法律后\n",
      "果。\n",
      "\n",
      "未获得邹乐伟工作室书面授权的情况\n",
      "下，不得发布使用了邹乐伟工作室字\n",
      "体产品的设计品，邹乐伟工作室将保\n",
      "留追究并要求赔偿侵权责任损失的权\n",
      "利。\n",
      "\n",
      "购买授权、下载其他字体、或了解更\n",
      "多信息，请访问：\n",
      "http://zojitype.com/\n"
     ]
    }
   ],
   "source": [
    "from fontTools.ttLib import TTFont\n",
    "\n",
    "from pprint import pprint\n",
    "import os\n",
    "\n",
    "font_path = r'G:\\饭桶设计\\1000-1999\\1015\\1015\\饭桶设计_字体圈伟君黑_w1_regular.ttf'\n",
    "\n",
    "tt = TTFont(font_path)\n",
    "names = tt['name'].names\n",
    "for nt in names:\n",
    "    print(nt.nameID, nt)\n"
   ],
   "metadata": {
    "collapsed": false
   }
  }
 ],
 "metadata": {
  "kernelspec": {
   "display_name": "Python 3",
   "language": "python",
   "name": "python3"
  },
  "language_info": {
   "codemirror_mode": {
    "name": "ipython",
    "version": 2
   },
   "file_extension": ".py",
   "mimetype": "text/x-python",
   "name": "python",
   "nbconvert_exporter": "python",
   "pygments_lexer": "ipython2",
   "version": "2.7.6"
  }
 },
 "nbformat": 4,
 "nbformat_minor": 0
}
