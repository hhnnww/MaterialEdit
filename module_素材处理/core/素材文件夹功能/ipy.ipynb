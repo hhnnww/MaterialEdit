{
 "cells": [
  {
   "cell_type": "code",
   "execution_count": 2,
   "outputs": [
    {
     "ename": "com_error",
     "evalue": "(-2147221005, '无效的类字符串', None, None)",
     "output_type": "error",
     "traceback": [
      "\u001B[1;31m---------------------------------------------------------------------------\u001B[0m",
      "\u001B[1;31mcom_error\u001B[0m                                 Traceback (most recent call last)",
      "File \u001B[1;32mC:\\ProgramData\\Miniconda3\\envs\\FTDesign\\lib\\site-packages\\win32com\\client\\dynamic.py:86\u001B[0m, in \u001B[0;36m_GetGoodDispatch\u001B[1;34m(IDispatch, clsctx)\u001B[0m\n\u001B[0;32m     85\u001B[0m \u001B[38;5;28;01mtry\u001B[39;00m:\n\u001B[1;32m---> 86\u001B[0m     IDispatch \u001B[38;5;241m=\u001B[39m \u001B[43mpythoncom\u001B[49m\u001B[38;5;241;43m.\u001B[39;49m\u001B[43mconnect\u001B[49m\u001B[43m(\u001B[49m\u001B[43mIDispatch\u001B[49m\u001B[43m)\u001B[49m\n\u001B[0;32m     87\u001B[0m \u001B[38;5;28;01mexcept\u001B[39;00m pythoncom\u001B[38;5;241m.\u001B[39mole_error:\n",
      "\u001B[1;31mcom_error\u001B[0m: (-2147221005, '无效的类字符串', None, None)",
      "\nDuring handling of the above exception, another exception occurred:\n",
      "\u001B[1;31mcom_error\u001B[0m                                 Traceback (most recent call last)",
      "Cell \u001B[1;32mIn [2], line 3\u001B[0m\n\u001B[0;32m      1\u001B[0m \u001B[38;5;28;01mfrom\u001B[39;00m \u001B[38;5;21;01mwin32com\u001B[39;00m\u001B[38;5;21;01m.\u001B[39;00m\u001B[38;5;21;01mclient\u001B[39;00m \u001B[38;5;28;01mimport\u001B[39;00m Dispatch\n\u001B[1;32m----> 3\u001B[0m app \u001B[38;5;241m=\u001B[39m \u001B[43mDispatch\u001B[49m\u001B[43m(\u001B[49m\u001B[38;5;124;43m'\u001B[39;49m\u001B[38;5;124;43mApplication.Photoshop\u001B[39;49m\u001B[38;5;124;43m'\u001B[39;49m\u001B[43m)\u001B[49m\n",
      "File \u001B[1;32mC:\\ProgramData\\Miniconda3\\envs\\FTDesign\\lib\\site-packages\\win32com\\client\\__init__.py:117\u001B[0m, in \u001B[0;36mDispatch\u001B[1;34m(dispatch, userName, resultCLSID, typeinfo, UnicodeToString, clsctx)\u001B[0m\n\u001B[0;32m    115\u001B[0m \u001B[38;5;124;03m\"\"\"Creates a Dispatch based COM object.\"\"\"\u001B[39;00m\n\u001B[0;32m    116\u001B[0m \u001B[38;5;28;01massert\u001B[39;00m UnicodeToString \u001B[38;5;129;01mis\u001B[39;00m \u001B[38;5;28;01mNone\u001B[39;00m, \u001B[38;5;124m\"\u001B[39m\u001B[38;5;124mthis is deprecated and will go away\u001B[39m\u001B[38;5;124m\"\u001B[39m\n\u001B[1;32m--> 117\u001B[0m dispatch, userName \u001B[38;5;241m=\u001B[39m \u001B[43mdynamic\u001B[49m\u001B[38;5;241;43m.\u001B[39;49m\u001B[43m_GetGoodDispatchAndUserName\u001B[49m\u001B[43m(\u001B[49m\u001B[43mdispatch\u001B[49m\u001B[43m,\u001B[49m\u001B[43m \u001B[49m\u001B[43muserName\u001B[49m\u001B[43m,\u001B[49m\u001B[43m \u001B[49m\u001B[43mclsctx\u001B[49m\u001B[43m)\u001B[49m\n\u001B[0;32m    118\u001B[0m \u001B[38;5;28;01mreturn\u001B[39;00m __WrapDispatch(dispatch, userName, resultCLSID, typeinfo, clsctx\u001B[38;5;241m=\u001B[39mclsctx)\n",
      "File \u001B[1;32mC:\\ProgramData\\Miniconda3\\envs\\FTDesign\\lib\\site-packages\\win32com\\client\\dynamic.py:106\u001B[0m, in \u001B[0;36m_GetGoodDispatchAndUserName\u001B[1;34m(IDispatch, userName, clsctx)\u001B[0m\n\u001B[0;32m    103\u001B[0m     \u001B[38;5;66;03m## ??? else userName remains None ???\u001B[39;00m\n\u001B[0;32m    104\u001B[0m \u001B[38;5;28;01melse\u001B[39;00m:\n\u001B[0;32m    105\u001B[0m     userName \u001B[38;5;241m=\u001B[39m \u001B[38;5;28mstr\u001B[39m(userName)\n\u001B[1;32m--> 106\u001B[0m \u001B[38;5;28;01mreturn\u001B[39;00m (\u001B[43m_GetGoodDispatch\u001B[49m\u001B[43m(\u001B[49m\u001B[43mIDispatch\u001B[49m\u001B[43m,\u001B[49m\u001B[43m \u001B[49m\u001B[43mclsctx\u001B[49m\u001B[43m)\u001B[49m, userName)\n",
      "File \u001B[1;32mC:\\ProgramData\\Miniconda3\\envs\\FTDesign\\lib\\site-packages\\win32com\\client\\dynamic.py:88\u001B[0m, in \u001B[0;36m_GetGoodDispatch\u001B[1;34m(IDispatch, clsctx)\u001B[0m\n\u001B[0;32m     86\u001B[0m         IDispatch \u001B[38;5;241m=\u001B[39m pythoncom\u001B[38;5;241m.\u001B[39mconnect(IDispatch)\n\u001B[0;32m     87\u001B[0m     \u001B[38;5;28;01mexcept\u001B[39;00m pythoncom\u001B[38;5;241m.\u001B[39mole_error:\n\u001B[1;32m---> 88\u001B[0m         IDispatch \u001B[38;5;241m=\u001B[39m \u001B[43mpythoncom\u001B[49m\u001B[38;5;241;43m.\u001B[39;49m\u001B[43mCoCreateInstance\u001B[49m\u001B[43m(\u001B[49m\n\u001B[0;32m     89\u001B[0m \u001B[43m            \u001B[49m\u001B[43mIDispatch\u001B[49m\u001B[43m,\u001B[49m\u001B[43m \u001B[49m\u001B[38;5;28;43;01mNone\u001B[39;49;00m\u001B[43m,\u001B[49m\u001B[43m \u001B[49m\u001B[43mclsctx\u001B[49m\u001B[43m,\u001B[49m\u001B[43m \u001B[49m\u001B[43mpythoncom\u001B[49m\u001B[38;5;241;43m.\u001B[39;49m\u001B[43mIID_IDispatch\u001B[49m\n\u001B[0;32m     90\u001B[0m \u001B[43m        \u001B[49m\u001B[43m)\u001B[49m\n\u001B[0;32m     91\u001B[0m \u001B[38;5;28;01melse\u001B[39;00m:\n\u001B[0;32m     92\u001B[0m     \u001B[38;5;66;03m# may already be a wrapped class.\u001B[39;00m\n\u001B[0;32m     93\u001B[0m     IDispatch \u001B[38;5;241m=\u001B[39m \u001B[38;5;28mgetattr\u001B[39m(IDispatch, \u001B[38;5;124m\"\u001B[39m\u001B[38;5;124m_oleobj_\u001B[39m\u001B[38;5;124m\"\u001B[39m, IDispatch)\n",
      "\u001B[1;31mcom_error\u001B[0m: (-2147221005, '无效的类字符串', None, None)"
     ]
    }
   ],
   "source": [
    "from win32com.client import Dispatch\n",
    "\n",
    "app = Dispatch('.Photoshop')\n"
   ],
   "metadata": {
    "collapsed": false
   }
  }
 ],
 "metadata": {
  "kernelspec": {
   "display_name": "Python 3",
   "language": "python",
   "name": "python3"
  },
  "language_info": {
   "codemirror_mode": {
    "name": "ipython",
    "version": 2
   },
   "file_extension": ".py",
   "mimetype": "text/x-python",
   "name": "python",
   "nbconvert_exporter": "python",
   "pygments_lexer": "ipython2",
   "version": "2.7.6"
  }
 },
 "nbformat": 4,
 "nbformat_minor": 0
}
