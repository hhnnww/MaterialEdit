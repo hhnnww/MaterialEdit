{
 "cells": [
  {
   "cell_type": "code",
   "execution_count": 1,
   "metadata": {
    "collapsed": true
   },
   "outputs": [
    {
     "name": "stdout",
     "output_type": "stream",
     "text": [
      "<class 'win32com.client.CDispatch'>\n",
      "小夕素材(1).psd\n"
     ]
    }
   ],
   "source": [
    "from win32com.client import Dispatch\n",
    "\n",
    "app = Dispatch('photoshop.application')\n",
    "doc = app.ActiveDocument\n",
    "print(type(doc))\n",
    "print(doc.Name)"
   ]
  },
  {
   "cell_type": "code",
   "execution_count": 2,
   "outputs": [
    {
     "name": "stdout",
     "output_type": "stream",
     "text": [
      "隐藏 或 删除此图层即可开始您的编辑.\n",
      "<class 'win32com.client.CDispatch'>\n",
      "图层 255\n",
      "<class 'win32com.client.CDispatch'>\n",
      "图层 230\n",
      "<class 'win32com.client.CDispatch'>\n",
      "图层 177\n",
      "<class 'win32com.client.CDispatch'>\n",
      "图层 72\n",
      "<class 'win32com.client.CDispatch'>\n",
      "活动时间：3.1-4.5\n",
      "<class 'win32com.client.CDispatch'>\n",
      "图层 259\n",
      "<class 'win32com.client.CDispatch'>\n",
      "图层 258\n",
      "<class 'win32com.client.CDispatch'>\n",
      "图层 257\n",
      "<class 'win32com.client.CDispatch'>\n",
      "图层 256\n",
      "<class 'win32com.client.CDispatch'>\n",
      "图层 18\n",
      "<class 'win32com.client.CDispatch'>\n",
      "图层 2\n",
      "<class 'win32com.client.CDispatch'>\n",
      "图层 1\n",
      "<class 'win32com.client.CDispatch'>\n"
     ]
    }
   ],
   "source": [
    "for in_layer in doc.ArtLayers:\n",
    "    print(in_layer.Name)\n",
    "    print(type(in_layer))\n",
    "    doc.ActiveLayer = in_layer"
   ],
   "metadata": {
    "collapsed": false
   }
  },
  {
   "cell_type": "code",
   "execution_count": 21,
   "outputs": [],
   "source": [
    "for in_layer in doc.LayerSets:\n",
    "    print(in_layer.Name)"
   ],
   "metadata": {
    "collapsed": false
   }
  },
  {
   "cell_type": "code",
   "execution_count": 3,
   "outputs": [
    {
     "name": "stdout",
     "output_type": "stream",
     "text": [
      "45\n"
     ]
    }
   ],
   "source": [
    "print(\n",
    "    abs(45)\n",
    ")"
   ],
   "metadata": {
    "collapsed": false
   }
  }
 ],
 "metadata": {
  "kernelspec": {
   "display_name": "Python 3",
   "language": "python",
   "name": "python3"
  },
  "language_info": {
   "codemirror_mode": {
    "name": "ipython",
    "version": 2
   },
   "file_extension": ".py",
   "mimetype": "text/x-python",
   "name": "python",
   "nbconvert_exporter": "python",
   "pygments_lexer": "ipython2",
   "version": "2.7.6"
  }
 },
 "nbformat": 4,
 "nbformat_minor": 0
}
