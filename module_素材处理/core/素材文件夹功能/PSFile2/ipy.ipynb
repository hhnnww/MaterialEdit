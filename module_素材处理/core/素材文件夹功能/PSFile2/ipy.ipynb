{
 "cells": [
  {
   "cell_type": "code",
   "execution_count": 6,
   "metadata": {
    "collapsed": true
   },
   "outputs": [
    {
     "name": "stdout",
     "output_type": "stream",
     "text": [
      "未标题-1\n"
     ]
    }
   ],
   "source": [
    "from win32com.client import Dispatch\n",
    "\n",
    "app = Dispatch('photoshop.application')\n",
    "doc = app.ActiveDocument\n",
    "print(doc.Name)"
   ]
  },
  {
   "cell_type": "code",
   "execution_count": 11,
   "outputs": [
    {
     "name": "stdout",
     "output_type": "stream",
     "text": [
      "组 2\n",
      "2\n",
      "图层 1\n",
      "1\n"
     ]
    }
   ],
   "source": [
    "art = doc.Layers.Item(2)\n",
    "print(art.Name)\n",
    "print(art.LayerType)\n",
    "\n",
    "art = doc.Layers.Item(1)\n",
    "print(art.Name)\n",
    "print(art.LayerType)"
   ],
   "metadata": {
    "collapsed": false
   }
  },
  {
   "cell_type": "code",
   "execution_count": 3,
   "outputs": [
    {
     "name": "stdout",
     "output_type": "stream",
     "text": [
      "45\n"
     ]
    }
   ],
   "source": [
    "print(\n",
    "    abs(45)\n",
    ")"
   ],
   "metadata": {
    "collapsed": false
   }
  }
 ],
 "metadata": {
  "kernelspec": {
   "display_name": "Python 3",
   "language": "python",
   "name": "python3"
  },
  "language_info": {
   "codemirror_mode": {
    "name": "ipython",
    "version": 2
   },
   "file_extension": ".py",
   "mimetype": "text/x-python",
   "name": "python",
   "nbconvert_exporter": "python",
   "pygments_lexer": "ipython2",
   "version": "2.7.6"
  }
 },
 "nbformat": 4,
 "nbformat_minor": 0
}
