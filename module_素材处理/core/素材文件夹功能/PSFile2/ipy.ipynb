{
 "cells": [
  {
   "cell_type": "code",
   "execution_count": 20,
   "metadata": {
    "collapsed": true
   },
   "outputs": [
    {
     "name": "stdout",
     "output_type": "stream",
     "text": [
      "<class 'win32com.client.CDispatch'>\n",
      "小夕素材(60).psd\n"
     ]
    }
   ],
   "source": [
    "from win32com.client import Dispatch\n",
    "\n",
    "app = Dispatch('photoshop.application')\n",
    "doc = app.ActiveDocument\n",
    "print(type(doc))\n",
    "print(doc.Name)"
   ]
  },
  {
   "cell_type": "code",
   "execution_count": 19,
   "outputs": [
    {
     "name": "stdout",
     "output_type": "stream",
     "text": [
      "隐藏 或 删除此图层即可开始您的编辑.\n",
      "True\n",
      "True\n",
      "False\n",
      "\n",
      "\n",
      "\n",
      "图层 1\n",
      "True\n",
      "True\n",
      "False\n",
      "\n",
      "\n",
      "\n"
     ]
    }
   ],
   "source": [
    "for in_layer in doc.ArtLayers:\n",
    "    print(in_layer.Name)\n",
    "    print(in_layer.LayerType == 1)\n",
    "    print(in_layer.Kind != 2)\n",
    "    print(in_layer.AllLocked)\n",
    "\n",
    "    if '二维码' in str(in_layer.Name).lower():\n",
    "        if in_layer.AllLocked is True:\n",
    "            in_layer.AllLocked = False\n",
    "        in_layer.Delete()\n",
    "\n",
    "    print('\\n\\n')"
   ],
   "metadata": {
    "collapsed": false
   }
  },
  {
   "cell_type": "code",
   "execution_count": 21,
   "outputs": [],
   "source": [
    "for in_layer in doc.LayerSets:\n",
    "    print(in_layer.Name)"
   ],
   "metadata": {
    "collapsed": false
   }
  },
  {
   "cell_type": "code",
   "execution_count": 3,
   "outputs": [
    {
     "name": "stdout",
     "output_type": "stream",
     "text": [
      "45\n"
     ]
    }
   ],
   "source": [
    "print(\n",
    "    abs(45)\n",
    ")"
   ],
   "metadata": {
    "collapsed": false
   }
  }
 ],
 "metadata": {
  "kernelspec": {
   "display_name": "Python 3",
   "language": "python",
   "name": "python3"
  },
  "language_info": {
   "codemirror_mode": {
    "name": "ipython",
    "version": 2
   },
   "file_extension": ".py",
   "mimetype": "text/x-python",
   "name": "python",
   "nbconvert_exporter": "python",
   "pygments_lexer": "ipython2",
   "version": "2.7.6"
  }
 },
 "nbformat": 4,
 "nbformat_minor": 0
}
