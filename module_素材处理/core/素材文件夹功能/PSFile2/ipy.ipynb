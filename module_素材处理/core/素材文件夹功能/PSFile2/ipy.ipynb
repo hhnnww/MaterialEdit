{
 "cells": [
  {
   "cell_type": "code",
   "execution_count": 10,
   "metadata": {
    "collapsed": true
   },
   "outputs": [
    {
     "name": "stdout",
     "output_type": "stream",
     "text": [
      "<class 'win32com.client.CDispatch'>\n",
      "小夕素材(2).psd\n",
      "sadfasdfasd\n"
     ]
    }
   ],
   "source": [
    "from win32com.client import Dispatch\n",
    "\n",
    "app = Dispatch('photoshop.application')\n",
    "doc = app.ActiveDocument\n",
    "print(type(doc))\n",
    "print(doc.Name)\n",
    "\n",
    "print(doc.ActiveLayer.Name)"
   ]
  },
  {
   "cell_type": "code",
   "execution_count": 15,
   "outputs": [
    {
     "name": "stdout",
     "output_type": "stream",
     "text": [
      "True\n",
      "2\n"
     ]
    }
   ],
   "source": [
    "ac = doc.ActiveLayer\n",
    "print(ac.Visible)\n",
    "print(ac.Kind)"
   ],
   "metadata": {
    "collapsed": false
   }
  },
  {
   "cell_type": "code",
   "execution_count": 21,
   "outputs": [],
   "source": [
    "for in_layer in doc.LayerSets:\n",
    "    print(in_layer.Name)"
   ],
   "metadata": {
    "collapsed": false
   }
  },
  {
   "cell_type": "code",
   "execution_count": 3,
   "outputs": [
    {
     "name": "stdout",
     "output_type": "stream",
     "text": [
      "45\n"
     ]
    }
   ],
   "source": [
    "print(\n",
    "    abs(45)\n",
    ")"
   ],
   "metadata": {
    "collapsed": false
   }
  }
 ],
 "metadata": {
  "kernelspec": {
   "display_name": "Python 3",
   "language": "python",
   "name": "python3"
  },
  "language_info": {
   "codemirror_mode": {
    "name": "ipython",
    "version": 2
   },
   "file_extension": ".py",
   "mimetype": "text/x-python",
   "name": "python",
   "nbconvert_exporter": "python",
   "pygments_lexer": "ipython2",
   "version": "2.7.6"
  }
 },
 "nbformat": 4,
 "nbformat_minor": 0
}
