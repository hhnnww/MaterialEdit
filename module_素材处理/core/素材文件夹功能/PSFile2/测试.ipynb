{
 "cells": [
  {
   "cell_type": "code",
   "execution_count": 1,
   "metadata": {
    "collapsed": true
   },
   "outputs": [],
   "source": [
    "from module_素材处理.core.素材文件夹功能.PSFile2.fun_1_2_遍历所有图层 import GetAllLayer\n",
    "\n",
    "from win32com.client import Dispatch\n",
    "\n",
    "app = Dispatch('photoshop.application')\n",
    "app.Open(r'E:\\小夕素材\\9000-9999\\9289\\9289\\小夕素材(1).psd')\n",
    "doc = app.ActiveDocument\n",
    "gal = GetAllLayer(doc)\n",
    "layer_list = gal.layer_list"
   ]
  },
  {
   "cell_type": "code",
   "execution_count": 3,
   "outputs": [
    {
     "ename": "com_error",
     "evalue": "(-2147352567, '发生意外。', (0, 'Adobe Photoshop', '发生了常规 Photoshop 错误。该功能可能无法在这个版本的 Photoshop 中使用。\\n- 对象\"文档 0\"当前不可用。', None, 0, -2147212704), None)",
     "output_type": "error",
     "traceback": [
      "\u001B[1;31m---------------------------------------------------------------------------\u001B[0m",
      "\u001B[1;31mcom_error\u001B[0m                                 Traceback (most recent call last)",
      "Cell \u001B[1;32mIn[3], line 7\u001B[0m\n\u001B[0;32m      5\u001B[0m \u001B[38;5;28;01mfor\u001B[39;00m layer \u001B[38;5;129;01min\u001B[39;00m layer_list:\n\u001B[0;32m      6\u001B[0m     \u001B[38;5;28;01mfor\u001B[39;00m ad_name \u001B[38;5;129;01min\u001B[39;00m ad_name_include:\n\u001B[1;32m----> 7\u001B[0m         \u001B[38;5;28;01mif\u001B[39;00m ad_name \u001B[38;5;129;01min\u001B[39;00m \u001B[43mlayer\u001B[49m\u001B[38;5;241;43m.\u001B[39;49m\u001B[43mName\u001B[49m:\n\u001B[0;32m      8\u001B[0m             layer\u001B[38;5;241m.\u001B[39mDelete()\n",
      "File \u001B[1;32mF:\\MyProject\\FTDesign\\fastapi\\env\\lib\\site-packages\\win32com\\client\\dynamic.py:628\u001B[0m, in \u001B[0;36mCDispatch.__getattr__\u001B[1;34m(self, attr)\u001B[0m\n\u001B[0;32m    624\u001B[0m debug_attr_print(\n\u001B[0;32m    625\u001B[0m     \u001B[38;5;124m\"\u001B[39m\u001B[38;5;124mGetting property Id 0x\u001B[39m\u001B[38;5;132;01m%x\u001B[39;00m\u001B[38;5;124m from OLE object\u001B[39m\u001B[38;5;124m\"\u001B[39m \u001B[38;5;241m%\u001B[39m retEntry\u001B[38;5;241m.\u001B[39mdispid\n\u001B[0;32m    626\u001B[0m )\n\u001B[0;32m    627\u001B[0m \u001B[38;5;28;01mtry\u001B[39;00m:\n\u001B[1;32m--> 628\u001B[0m     ret \u001B[38;5;241m=\u001B[39m \u001B[38;5;28;43mself\u001B[39;49m\u001B[38;5;241;43m.\u001B[39;49m\u001B[43m_oleobj_\u001B[49m\u001B[38;5;241;43m.\u001B[39;49m\u001B[43mInvoke\u001B[49m\u001B[43m(\u001B[49m\u001B[43mretEntry\u001B[49m\u001B[38;5;241;43m.\u001B[39;49m\u001B[43mdispid\u001B[49m\u001B[43m,\u001B[49m\u001B[43m \u001B[49m\u001B[38;5;241;43m0\u001B[39;49m\u001B[43m,\u001B[49m\u001B[43m \u001B[49m\u001B[43minvoke_type\u001B[49m\u001B[43m,\u001B[49m\u001B[43m \u001B[49m\u001B[38;5;241;43m1\u001B[39;49m\u001B[43m)\u001B[49m\n\u001B[0;32m    629\u001B[0m \u001B[38;5;28;01mexcept\u001B[39;00m pythoncom\u001B[38;5;241m.\u001B[39mcom_error \u001B[38;5;28;01mas\u001B[39;00m details:\n\u001B[0;32m    630\u001B[0m     \u001B[38;5;28;01mif\u001B[39;00m details\u001B[38;5;241m.\u001B[39mhresult \u001B[38;5;129;01min\u001B[39;00m ERRORS_BAD_CONTEXT:\n\u001B[0;32m    631\u001B[0m         \u001B[38;5;66;03m# May be a method.\u001B[39;00m\n",
      "\u001B[1;31mcom_error\u001B[0m: (-2147352567, '发生意外。', (0, 'Adobe Photoshop', '发生了常规 Photoshop 错误。该功能可能无法在这个版本的 Photoshop 中使用。\\n- 对象\"文档 0\"当前不可用。', None, 0, -2147212704), None)"
     ]
    }
   ],
   "source": [
    "from module_素材处理.core.素材文件夹功能.PSFile2.open_yaml import open_yml\n",
    "\n",
    "yaml_dict = open_yml()\n",
    "ad_name_include = yaml_dict.get('include_name_list')\n",
    "for layer in layer_list:\n",
    "    for ad_name in ad_name_include:\n",
    "        if ad_name in layer.Name:\n",
    "            layer.Delete()"
   ],
   "metadata": {
    "collapsed": false
   }
  }
 ],
 "metadata": {
  "kernelspec": {
   "display_name": "Python 3",
   "language": "python",
   "name": "python3"
  },
  "language_info": {
   "codemirror_mode": {
    "name": "ipython",
    "version": 2
   },
   "file_extension": ".py",
   "mimetype": "text/x-python",
   "name": "python",
   "nbconvert_exporter": "python",
   "pygments_lexer": "ipython2",
   "version": "2.7.6"
  }
 },
 "nbformat": 4,
 "nbformat_minor": 0
}
