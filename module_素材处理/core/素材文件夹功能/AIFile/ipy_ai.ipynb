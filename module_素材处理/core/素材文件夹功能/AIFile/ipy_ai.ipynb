{
 "cells": [
  {
   "cell_type": "code",
   "execution_count": 10,
   "outputs": [],
   "source": [
    "from win32com.client import Dispatch\n",
    "\n",
    "app = Dispatch('Illustrator.Application')\n",
    "doc = app.ActiveDocument\n",
    "bord_one = doc.Artboards[0]\n",
    "\n",
    "eo = Dispatch(\"Illustrator.ExportOptionsPNG24\")\n",
    "radio = int(4000 / max((\n",
    "    int(doc.Width), int(doc.Height)\n",
    "))) * 100\n",
    "eo.HorizontalScale = radio\n",
    "eo.VerticalScale = radio\n",
    "eo.ArtBoardClipping = True\n",
    "\n",
    "doc.Export(r'C:\\Users\\wuweihua\\Desktop\\UPLOAD\\00000.png', 5, eo)"
   ],
   "metadata": {
    "collapsed": false,
    "ExecuteTime": {
     "end_time": "2023-05-24T03:07:30.783170300Z",
     "start_time": "2023-05-24T03:07:20.094384800Z"
    }
   }
  }
 ],
 "metadata": {
  "kernelspec": {
   "display_name": "Python 3",
   "language": "python",
   "name": "python3"
  },
  "language_info": {
   "codemirror_mode": {
    "name": "ipython",
    "version": 2
   },
   "file_extension": ".py",
   "mimetype": "text/x-python",
   "name": "python",
   "nbconvert_exporter": "python",
   "pygments_lexer": "ipython2",
   "version": "2.7.6"
  }
 },
 "nbformat": 4,
 "nbformat_minor": 0
}
