{
 "cells": [
  {
   "cell_type": "code",
   "execution_count": 1,
   "outputs": [],
   "source": [
    "from win32com.client import Dispatch\n",
    "\n",
    "app = Dispatch('Illustrator.Application')\n",
    "doc = app.ActiveDocument"
   ],
   "metadata": {
    "collapsed": false,
    "ExecuteTime": {
     "end_time": "2023-06-24T08:32:21.942329700Z",
     "start_time": "2023-06-24T08:32:21.904541400Z"
    }
   }
  },
  {
   "cell_type": "code",
   "execution_count": 3,
   "outputs": [
    {
     "name": "stdout",
     "output_type": "stream",
     "text": [
      "小夕素材(2).ai\n",
      "小夕素材\n",
      "火山素材https://shop185838729.taobao.com/\n",
      "火山素材9.9全店会员免费下载\n"
     ]
    }
   ],
   "source": [
    "print(doc.Name)\n",
    "\n",
    "for layer in doc.Layers:\n",
    "    print(layer.Name)"
   ],
   "metadata": {
    "collapsed": false,
    "ExecuteTime": {
     "end_time": "2023-06-24T08:32:50.012411900Z",
     "start_time": "2023-06-24T08:32:49.982092900Z"
    }
   }
  }
 ],
 "metadata": {
  "kernelspec": {
   "display_name": "Python 3",
   "language": "python",
   "name": "python3"
  },
  "language_info": {
   "codemirror_mode": {
    "name": "ipython",
    "version": 2
   },
   "file_extension": ".py",
   "mimetype": "text/x-python",
   "name": "python",
   "nbconvert_exporter": "python",
   "pygments_lexer": "ipython2",
   "version": "2.7.6"
  }
 },
 "nbformat": 4,
 "nbformat_minor": 0
}
