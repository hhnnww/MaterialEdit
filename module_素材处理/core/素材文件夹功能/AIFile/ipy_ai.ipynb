{
 "cells": [
  {
   "cell_type": "code",
   "execution_count": 25,
   "outputs": [
    {
     "name": "stderr",
     "output_type": "stream",
     "text": [
      "处理AI文件:   0%|                                                           | 0/122 [00:00<?, ?it/s]"
     ]
    },
    {
     "name": "stdout",
     "output_type": "stream",
     "text": [
      "处理：F:/小夕素材/10000-10999/10054/10054/小夕素材(101).ai\n",
      "删除图层：\t火山素材=9.9全店免费\n"
     ]
    },
    {
     "name": "stderr",
     "output_type": "stream",
     "text": [
      "处理AI文件:   5%|██▌                                                | 6/122 [00:03<01:06,  1.74it/s]"
     ]
    },
    {
     "name": "stdout",
     "output_type": "stream",
     "text": [
      "处理：F:/小夕素材/10000-10999/10054/10054/小夕素材(102).ai\n"
     ]
    },
    {
     "name": "stderr",
     "output_type": "stream",
     "text": [
      "处理AI文件:   6%|██▉                                                | 7/122 [00:05<01:36,  1.20it/s]"
     ]
    },
    {
     "name": "stdout",
     "output_type": "stream",
     "text": [
      "处理：F:/小夕素材/10000-10999/10054/10054/小夕素材(103).ai\n"
     ]
    },
    {
     "name": "stderr",
     "output_type": "stream",
     "text": [
      "处理AI文件:   7%|███▎                                               | 8/122 [00:07<02:00,  1.05s/it]"
     ]
    },
    {
     "name": "stdout",
     "output_type": "stream",
     "text": [
      "处理：F:/小夕素材/10000-10999/10054/10054/小夕素材(104).ai\n"
     ]
    },
    {
     "name": "stderr",
     "output_type": "stream",
     "text": [
      "处理AI文件:   7%|███▊                                               | 9/122 [00:08<02:17,  1.21s/it]"
     ]
    },
    {
     "name": "stdout",
     "output_type": "stream",
     "text": [
      "处理：F:/小夕素材/10000-10999/10054/10054/小夕素材(105).ai\n"
     ]
    },
    {
     "name": "stderr",
     "output_type": "stream",
     "text": [
      "处理AI文件:   8%|████                                              | 10/122 [00:10<02:35,  1.39s/it]"
     ]
    },
    {
     "name": "stdout",
     "output_type": "stream",
     "text": [
      "处理：F:/小夕素材/10000-10999/10054/10054/小夕素材(13).ai\n"
     ]
    },
    {
     "name": "stderr",
     "output_type": "stream",
     "text": [
      "处理AI文件:  12%|██████▏                                           | 15/122 [00:12<01:10,  1.51it/s]"
     ]
    },
    {
     "name": "stdout",
     "output_type": "stream",
     "text": [
      "处理：F:/小夕素材/10000-10999/10054/10054/小夕素材(14).ai\n"
     ]
    },
    {
     "name": "stderr",
     "output_type": "stream",
     "text": [
      "处理AI文件:  13%|██████▌                                           | 16/122 [00:16<02:08,  1.21s/it]"
     ]
    },
    {
     "name": "stdout",
     "output_type": "stream",
     "text": [
      "处理：F:/小夕素材/10000-10999/10054/10054/小夕素材(16).ai\n"
     ]
    },
    {
     "name": "stderr",
     "output_type": "stream",
     "text": [
      "处理AI文件:  16%|███████▊                                          | 19/122 [00:18<01:38,  1.04it/s]"
     ]
    },
    {
     "name": "stdout",
     "output_type": "stream",
     "text": [
      "处理：F:/小夕素材/10000-10999/10054/10054/小夕素材(18).ai\n"
     ]
    },
    {
     "name": "stderr",
     "output_type": "stream",
     "text": [
      "处理AI文件:  18%|█████████                                         | 22/122 [00:20<01:30,  1.11it/s]"
     ]
    },
    {
     "name": "stdout",
     "output_type": "stream",
     "text": [
      "处理：F:/小夕素材/10000-10999/10054/10054/小夕素材(21).ai\n"
     ]
    },
    {
     "name": "stderr",
     "output_type": "stream",
     "text": [
      "处理AI文件:  24%|███████████▉                                      | 29/122 [00:22<00:53,  1.73it/s]"
     ]
    },
    {
     "name": "stdout",
     "output_type": "stream",
     "text": [
      "处理：F:/小夕素材/10000-10999/10054/10054/小夕素材(22).ai\n"
     ]
    },
    {
     "name": "stderr",
     "output_type": "stream",
     "text": [
      "处理AI文件:  25%|████████████▎                                     | 30/122 [00:24<01:03,  1.44it/s]"
     ]
    },
    {
     "name": "stdout",
     "output_type": "stream",
     "text": [
      "处理：F:/小夕素材/10000-10999/10054/10054/小夕素材(23).ai\n"
     ]
    },
    {
     "name": "stderr",
     "output_type": "stream",
     "text": [
      "处理AI文件:  25%|████████████▋                                     | 31/122 [00:26<01:16,  1.19it/s]"
     ]
    },
    {
     "name": "stdout",
     "output_type": "stream",
     "text": [
      "处理：F:/小夕素材/10000-10999/10054/10054/小夕素材(24).ai\n"
     ]
    },
    {
     "name": "stderr",
     "output_type": "stream",
     "text": [
      "处理AI文件:  26%|█████████████                                     | 32/122 [00:29<01:42,  1.13s/it]"
     ]
    },
    {
     "name": "stdout",
     "output_type": "stream",
     "text": [
      "处理：F:/小夕素材/10000-10999/10054/10054/小夕素材(25).ai\n"
     ]
    },
    {
     "name": "stderr",
     "output_type": "stream",
     "text": [
      "处理AI文件:  27%|█████████████▌                                    | 33/122 [00:30<01:51,  1.25s/it]"
     ]
    },
    {
     "name": "stdout",
     "output_type": "stream",
     "text": [
      "处理：F:/小夕素材/10000-10999/10054/10054/小夕素材(26).ai\n"
     ]
    },
    {
     "name": "stderr",
     "output_type": "stream",
     "text": [
      "处理AI文件:  28%|█████████████▉                                    | 34/122 [00:46<06:12,  4.23s/it]"
     ]
    },
    {
     "name": "stdout",
     "output_type": "stream",
     "text": [
      "处理：F:/小夕素材/10000-10999/10054/10054/小夕素材(27).ai\n",
      "删除图层：\t火山素材=9.9全店免费\n"
     ]
    },
    {
     "name": "stderr",
     "output_type": "stream",
     "text": [
      "处理AI文件:  29%|██████████████▎                                   | 35/122 [00:48<05:20,  3.68s/it]"
     ]
    },
    {
     "name": "stdout",
     "output_type": "stream",
     "text": [
      "处理：F:/小夕素材/10000-10999/10054/10054/小夕素材(28).ai\n",
      "删除图层：\t火山素材=9.9全店免费\n"
     ]
    },
    {
     "name": "stderr",
     "output_type": "stream",
     "text": [
      "处理AI文件:  30%|██████████████▊                                   | 36/122 [00:51<04:52,  3.40s/it]"
     ]
    },
    {
     "name": "stdout",
     "output_type": "stream",
     "text": [
      "处理：F:/小夕素材/10000-10999/10054/10054/小夕素材(29).ai\n"
     ]
    },
    {
     "name": "stderr",
     "output_type": "stream",
     "text": [
      "处理AI文件:  30%|███████████████▏                                  | 37/122 [00:52<04:12,  2.97s/it]"
     ]
    },
    {
     "name": "stdout",
     "output_type": "stream",
     "text": [
      "处理：F:/小夕素材/10000-10999/10054/10054/小夕素材(30).ai\n",
      "删除图层：\t火山素材=9.9全店免费\n"
     ]
    },
    {
     "name": "stderr",
     "output_type": "stream",
     "text": [
      "处理AI文件:  33%|████████████████▍                                 | 40/122 [00:54<02:21,  1.72s/it]"
     ]
    },
    {
     "name": "stdout",
     "output_type": "stream",
     "text": [
      "处理：F:/小夕素材/10000-10999/10054/10054/小夕素材(31).ai\n",
      "删除图层：\t火山素材=9.9全店免费\n"
     ]
    },
    {
     "name": "stderr",
     "output_type": "stream",
     "text": [
      "处理AI文件:  34%|████████████████▊                                 | 41/122 [00:56<02:23,  1.77s/it]"
     ]
    },
    {
     "name": "stdout",
     "output_type": "stream",
     "text": [
      "处理：F:/小夕素材/10000-10999/10054/10054/小夕素材(32).ai\n"
     ]
    },
    {
     "name": "stderr",
     "output_type": "stream",
     "text": [
      "处理AI文件:  34%|█████████████████▏                                | 42/122 [01:07<05:09,  3.87s/it]"
     ]
    },
    {
     "name": "stdout",
     "output_type": "stream",
     "text": [
      "处理：F:/小夕素材/10000-10999/10054/10054/小夕素材(33).ai\n",
      "删除图层：\t火山素材=9.9全店免费\n"
     ]
    },
    {
     "name": "stderr",
     "output_type": "stream",
     "text": [
      "处理AI文件:  35%|█████████████████▌                                | 43/122 [01:09<04:28,  3.40s/it]"
     ]
    },
    {
     "name": "stdout",
     "output_type": "stream",
     "text": [
      "处理：F:/小夕素材/10000-10999/10054/10054/小夕素材(34).ai\n",
      "删除图层：\t火山素材=9.9全店免费\n"
     ]
    },
    {
     "name": "stderr",
     "output_type": "stream",
     "text": [
      "处理AI文件:  36%|██████████████████                                | 44/122 [01:12<04:08,  3.19s/it]"
     ]
    },
    {
     "name": "stdout",
     "output_type": "stream",
     "text": [
      "处理：F:/小夕素材/10000-10999/10054/10054/小夕素材(35).ai\n",
      "删除图层：\t火山素材=9.9全店免费\n"
     ]
    },
    {
     "name": "stderr",
     "output_type": "stream",
     "text": [
      "处理AI文件:  37%|██████████████████▍                               | 45/122 [01:14<03:40,  2.87s/it]"
     ]
    },
    {
     "name": "stdout",
     "output_type": "stream",
     "text": [
      "处理：F:/小夕素材/10000-10999/10054/10054/小夕素材(36).ai\n",
      "删除图层：\t火山素材=9.9全店免费\n"
     ]
    },
    {
     "name": "stderr",
     "output_type": "stream",
     "text": [
      "处理AI文件:  38%|██████████████████▊                               | 46/122 [01:16<03:25,  2.71s/it]"
     ]
    },
    {
     "name": "stdout",
     "output_type": "stream",
     "text": [
      "处理：F:/小夕素材/10000-10999/10054/10054/小夕素材(37).ai\n",
      "删除图层：\t火山素材=9.9全店免费\n"
     ]
    },
    {
     "name": "stderr",
     "output_type": "stream",
     "text": [
      "处理AI文件:  39%|███████████████████▎                              | 47/122 [01:19<03:26,  2.75s/it]"
     ]
    },
    {
     "name": "stdout",
     "output_type": "stream",
     "text": [
      "处理：F:/小夕素材/10000-10999/10054/10054/小夕素材(38).ai\n",
      "删除图层：\t火山素材=9.9全店免费\n"
     ]
    },
    {
     "name": "stderr",
     "output_type": "stream",
     "text": [
      "处理AI文件:  39%|███████████████████▋                              | 48/122 [01:21<03:01,  2.45s/it]"
     ]
    },
    {
     "name": "stdout",
     "output_type": "stream",
     "text": [
      "处理：F:/小夕素材/10000-10999/10054/10054/小夕素材(39).ai\n",
      "删除图层：\t火山素材=9.9全店免费\n"
     ]
    },
    {
     "name": "stderr",
     "output_type": "stream",
     "text": [
      "处理AI文件:  40%|████████████████████                              | 49/122 [01:33<06:21,  5.23s/it]"
     ]
    },
    {
     "name": "stdout",
     "output_type": "stream",
     "text": [
      "处理：F:/小夕素材/10000-10999/10054/10054/小夕素材(40).ai\n"
     ]
    },
    {
     "name": "stderr",
     "output_type": "stream",
     "text": [
      "处理AI文件:  43%|█████████████████████▎                            | 52/122 [01:36<03:23,  2.91s/it]"
     ]
    },
    {
     "name": "stdout",
     "output_type": "stream",
     "text": [
      "处理：F:/小夕素材/10000-10999/10054/10054/小夕素材(41).ai\n",
      "删除图层：\t火山素材=9.9全店免费\n"
     ]
    },
    {
     "name": "stderr",
     "output_type": "stream",
     "text": [
      "处理AI文件:  43%|█████████████████████▋                            | 53/122 [01:37<03:02,  2.64s/it]"
     ]
    },
    {
     "name": "stdout",
     "output_type": "stream",
     "text": [
      "处理：F:/小夕素材/10000-10999/10054/10054/小夕素材(42).ai\n",
      "删除图层：\t火山素材=9.9全店免费\n"
     ]
    },
    {
     "name": "stderr",
     "output_type": "stream",
     "text": [
      "处理AI文件:  44%|██████████████████████▏                           | 54/122 [01:39<02:49,  2.49s/it]"
     ]
    },
    {
     "name": "stdout",
     "output_type": "stream",
     "text": [
      "处理：F:/小夕素材/10000-10999/10054/10054/小夕素材(43).ai\n",
      "删除图层：\t火山素材=9.9全店免费\n"
     ]
    },
    {
     "name": "stderr",
     "output_type": "stream",
     "text": [
      "处理AI文件:  45%|██████████████████████▌                           | 55/122 [01:41<02:35,  2.32s/it]"
     ]
    },
    {
     "name": "stdout",
     "output_type": "stream",
     "text": [
      "处理：F:/小夕素材/10000-10999/10054/10054/小夕素材(44).ai\n",
      "删除图层：\t火山素材=9.9全店免费\n"
     ]
    },
    {
     "name": "stderr",
     "output_type": "stream",
     "text": [
      "处理AI文件:  46%|██████████████████████▉                           | 56/122 [01:43<02:27,  2.23s/it]"
     ]
    },
    {
     "name": "stdout",
     "output_type": "stream",
     "text": [
      "处理：F:/小夕素材/10000-10999/10054/10054/小夕素材(45).ai\n"
     ]
    },
    {
     "name": "stderr",
     "output_type": "stream",
     "text": [
      "处理AI文件:  47%|███████████████████████▎                          | 57/122 [01:45<02:25,  2.23s/it]"
     ]
    },
    {
     "name": "stdout",
     "output_type": "stream",
     "text": [
      "处理：F:/小夕素材/10000-10999/10054/10054/小夕素材(46).ai\n",
      "删除图层：\t火山素材=9.9全店免费\n"
     ]
    },
    {
     "name": "stderr",
     "output_type": "stream",
     "text": [
      "处理AI文件:  48%|███████████████████████▊                          | 58/122 [01:47<02:18,  2.17s/it]"
     ]
    },
    {
     "name": "stdout",
     "output_type": "stream",
     "text": [
      "处理：F:/小夕素材/10000-10999/10054/10054/小夕素材(47).ai\n",
      "删除图层：\t火山素材=9.9全店免费\n"
     ]
    },
    {
     "name": "stderr",
     "output_type": "stream",
     "text": [
      "处理AI文件:  48%|████████████████████████▏                         | 59/122 [01:49<02:12,  2.10s/it]"
     ]
    },
    {
     "name": "stdout",
     "output_type": "stream",
     "text": [
      "处理：F:/小夕素材/10000-10999/10054/10054/小夕素材(48).ai\n",
      "删除图层：\t火山素材=9.9全店免费\n"
     ]
    },
    {
     "name": "stderr",
     "output_type": "stream",
     "text": [
      "处理AI文件:  49%|████████████████████████▌                         | 60/122 [01:51<02:05,  2.02s/it]"
     ]
    },
    {
     "name": "stdout",
     "output_type": "stream",
     "text": [
      "处理：F:/小夕素材/10000-10999/10054/10054/小夕素材(49).ai\n",
      "删除图层：\t火山素材=9.9全店免费\n"
     ]
    },
    {
     "name": "stderr",
     "output_type": "stream",
     "text": [
      "处理AI文件:  50%|█████████████████████████                         | 61/122 [01:53<01:59,  1.96s/it]"
     ]
    },
    {
     "name": "stdout",
     "output_type": "stream",
     "text": [
      "处理：F:/小夕素材/10000-10999/10054/10054/小夕素材(50).ai\n",
      "删除图层：\t火山素材=9.9全店免费\n"
     ]
    },
    {
     "name": "stderr",
     "output_type": "stream",
     "text": [
      "处理AI文件:  52%|██████████████████████████▏                       | 64/122 [01:55<01:15,  1.29s/it]"
     ]
    },
    {
     "name": "stdout",
     "output_type": "stream",
     "text": [
      "处理：F:/小夕素材/10000-10999/10054/10054/小夕素材(51).ai\n"
     ]
    },
    {
     "name": "stderr",
     "output_type": "stream",
     "text": [
      "处理AI文件:  53%|██████████████████████████▋                       | 65/122 [01:57<01:22,  1.45s/it]"
     ]
    },
    {
     "name": "stdout",
     "output_type": "stream",
     "text": [
      "处理：F:/小夕素材/10000-10999/10054/10054/小夕素材(52).ai\n",
      "删除图层：\t火山素材=9.9全店免费\n"
     ]
    },
    {
     "name": "stderr",
     "output_type": "stream",
     "text": [
      "处理AI文件:  54%|███████████████████████████                       | 66/122 [03:02<15:01, 16.09s/it]"
     ]
    },
    {
     "name": "stdout",
     "output_type": "stream",
     "text": [
      "处理：F:/小夕素材/10000-10999/10054/10054/小夕素材(53).ai\n",
      "删除图层：\t火山素材=9.9全店免费\n"
     ]
    },
    {
     "name": "stderr",
     "output_type": "stream",
     "text": [
      "处理AI文件:  55%|███████████████████████████▍                      | 67/122 [03:04<11:31, 12.57s/it]"
     ]
    },
    {
     "name": "stdout",
     "output_type": "stream",
     "text": [
      "处理：F:/小夕素材/10000-10999/10054/10054/小夕素材(54).ai\n",
      "删除图层：\t火山素材=9.9全店免费\n"
     ]
    },
    {
     "name": "stderr",
     "output_type": "stream",
     "text": [
      "处理AI文件:  57%|████████████████████████████▎                     | 69/122 [03:07<06:59,  7.91s/it]"
     ]
    },
    {
     "name": "stdout",
     "output_type": "stream",
     "text": [
      "处理：F:/小夕素材/10000-10999/10054/10054/小夕素材(55).ai\n",
      "删除图层：\t火山素材=9.9全店免费\n"
     ]
    },
    {
     "name": "stderr",
     "output_type": "stream",
     "text": [
      "处理AI文件:  57%|████████████████████████████▋                     | 70/122 [03:08<05:38,  6.50s/it]"
     ]
    },
    {
     "name": "stdout",
     "output_type": "stream",
     "text": [
      "处理：F:/小夕素材/10000-10999/10054/10054/小夕素材(56).ai\n",
      "删除图层：\t火山素材=9.9全店免费\n"
     ]
    },
    {
     "name": "stderr",
     "output_type": "stream",
     "text": [
      "处理AI文件:  58%|█████████████████████████████                     | 71/122 [03:11<04:46,  5.62s/it]"
     ]
    },
    {
     "name": "stdout",
     "output_type": "stream",
     "text": [
      "处理：F:/小夕素材/10000-10999/10054/10054/小夕素材(57).ai\n",
      "删除图层：\t火山素材=9.9全店免费\n"
     ]
    },
    {
     "name": "stderr",
     "output_type": "stream",
     "text": [
      "处理AI文件:  59%|█████████████████████████████▌                    | 72/122 [03:17<04:41,  5.62s/it]"
     ]
    },
    {
     "name": "stdout",
     "output_type": "stream",
     "text": [
      "处理：F:/小夕素材/10000-10999/10054/10054/小夕素材(58).ai\n",
      "删除图层：\t火山素材=9.9全店免费\n"
     ]
    },
    {
     "name": "stderr",
     "output_type": "stream",
     "text": [
      "处理AI文件:  60%|█████████████████████████████▉                    | 73/122 [03:24<04:56,  6.05s/it]"
     ]
    },
    {
     "name": "stdout",
     "output_type": "stream",
     "text": [
      "处理：F:/小夕素材/10000-10999/10054/10054/小夕素材(59).ai\n",
      "删除图层：\t火山素材=9.9全店免费\n"
     ]
    },
    {
     "name": "stderr",
     "output_type": "stream",
     "text": [
      "处理AI文件:  61%|██████████████████████████████▎                   | 74/122 [03:26<03:57,  4.95s/it]"
     ]
    },
    {
     "name": "stdout",
     "output_type": "stream",
     "text": [
      "处理：F:/小夕素材/10000-10999/10054/10054/小夕素材(60).ai\n",
      "删除图层：\t火山素材=9.9全店免费\n"
     ]
    },
    {
     "name": "stderr",
     "output_type": "stream",
     "text": [
      "处理AI文件:  63%|███████████████████████████████▌                  | 77/122 [03:28<01:55,  2.56s/it]"
     ]
    },
    {
     "name": "stdout",
     "output_type": "stream",
     "text": [
      "处理：F:/小夕素材/10000-10999/10054/10054/小夕素材(61).ai\n",
      "删除图层：\t火山素材=9.9全店免费\n"
     ]
    },
    {
     "name": "stderr",
     "output_type": "stream",
     "text": [
      "处理AI文件:  64%|███████████████████████████████▉                  | 78/122 [03:30<01:47,  2.44s/it]"
     ]
    },
    {
     "name": "stdout",
     "output_type": "stream",
     "text": [
      "处理：F:/小夕素材/10000-10999/10054/10054/小夕素材(62).ai\n"
     ]
    },
    {
     "name": "stderr",
     "output_type": "stream",
     "text": [
      "处理AI文件:  65%|████████████████████████████████▍                 | 79/122 [03:36<02:21,  3.28s/it]"
     ]
    },
    {
     "name": "stdout",
     "output_type": "stream",
     "text": [
      "处理：F:/小夕素材/10000-10999/10054/10054/小夕素材(63).ai\n",
      "删除图层：\t火山素材=9.9全店免费\n"
     ]
    },
    {
     "name": "stderr",
     "output_type": "stream",
     "text": [
      "处理AI文件:  66%|████████████████████████████████▊                 | 80/122 [03:38<01:59,  2.85s/it]"
     ]
    },
    {
     "name": "stdout",
     "output_type": "stream",
     "text": [
      "处理：F:/小夕素材/10000-10999/10054/10054/小夕素材(64).ai\n",
      "删除图层：\t火山素材=9.9全店免费\n"
     ]
    },
    {
     "name": "stderr",
     "output_type": "stream",
     "text": [
      "处理AI文件:  66%|█████████████████████████████████▏                | 81/122 [03:40<01:47,  2.63s/it]"
     ]
    },
    {
     "name": "stdout",
     "output_type": "stream",
     "text": [
      "处理：F:/小夕素材/10000-10999/10054/10054/小夕素材(65).ai\n",
      "删除图层：\t火山素材=9.9全店免费\n"
     ]
    },
    {
     "name": "stderr",
     "output_type": "stream",
     "text": [
      "处理AI文件:  67%|█████████████████████████████████▌                | 82/122 [03:41<01:35,  2.38s/it]"
     ]
    },
    {
     "name": "stdout",
     "output_type": "stream",
     "text": [
      "处理：F:/小夕素材/10000-10999/10054/10054/小夕素材(66).ai\n",
      "删除图层：\t火山素材=9.9全店免费\n"
     ]
    },
    {
     "name": "stderr",
     "output_type": "stream",
     "text": [
      "处理AI文件:  68%|██████████████████████████████████                | 83/122 [03:44<01:40,  2.57s/it]"
     ]
    },
    {
     "name": "stdout",
     "output_type": "stream",
     "text": [
      "处理：F:/小夕素材/10000-10999/10054/10054/小夕素材(67).ai\n"
     ]
    },
    {
     "name": "stderr",
     "output_type": "stream",
     "text": [
      "处理AI文件:  69%|██████████████████████████████████▍               | 84/122 [03:46<01:27,  2.29s/it]"
     ]
    },
    {
     "name": "stdout",
     "output_type": "stream",
     "text": [
      "处理：F:/小夕素材/10000-10999/10054/10054/小夕素材(68).ai\n"
     ]
    },
    {
     "name": "stderr",
     "output_type": "stream",
     "text": [
      "处理AI文件:  70%|██████████████████████████████████▊               | 85/122 [03:50<01:41,  2.75s/it]"
     ]
    },
    {
     "name": "stdout",
     "output_type": "stream",
     "text": [
      "处理：F:/小夕素材/10000-10999/10054/10054/小夕素材(69).ai\n"
     ]
    },
    {
     "name": "stderr",
     "output_type": "stream",
     "text": [
      "处理AI文件:  70%|███████████████████████████████████▏              | 86/122 [03:52<01:30,  2.52s/it]"
     ]
    },
    {
     "name": "stdout",
     "output_type": "stream",
     "text": [
      "处理：F:/小夕素材/10000-10999/10054/10054/小夕素材(70).ai\n"
     ]
    },
    {
     "name": "stderr",
     "output_type": "stream",
     "text": [
      "处理AI文件:  73%|████████████████████████████████████▍             | 89/122 [03:54<00:49,  1.50s/it]"
     ]
    },
    {
     "name": "stdout",
     "output_type": "stream",
     "text": [
      "处理：F:/小夕素材/10000-10999/10054/10054/小夕素材(71).ai\n"
     ]
    },
    {
     "name": "stderr",
     "output_type": "stream",
     "text": [
      "处理AI文件:  74%|████████████████████████████████████▉             | 90/122 [04:01<01:23,  2.61s/it]"
     ]
    },
    {
     "name": "stdout",
     "output_type": "stream",
     "text": [
      "处理：F:/小夕素材/10000-10999/10054/10054/小夕素材(72).ai\n"
     ]
    },
    {
     "name": "stderr",
     "output_type": "stream",
     "text": [
      "处理AI文件:  75%|█████████████████████████████████████▎            | 91/122 [04:02<01:14,  2.39s/it]"
     ]
    },
    {
     "name": "stdout",
     "output_type": "stream",
     "text": [
      "处理：F:/小夕素材/10000-10999/10054/10054/小夕素材(73).ai\n"
     ]
    },
    {
     "name": "stderr",
     "output_type": "stream",
     "text": [
      "处理AI文件:  75%|█████████████████████████████████████▋            | 92/122 [04:04<01:06,  2.22s/it]"
     ]
    },
    {
     "name": "stdout",
     "output_type": "stream",
     "text": [
      "处理：F:/小夕素材/10000-10999/10054/10054/小夕素材(74).ai\n"
     ]
    },
    {
     "name": "stderr",
     "output_type": "stream",
     "text": [
      "处理AI文件:  76%|██████████████████████████████████████            | 93/122 [04:06<00:59,  2.06s/it]"
     ]
    },
    {
     "name": "stdout",
     "output_type": "stream",
     "text": [
      "处理：F:/小夕素材/10000-10999/10054/10054/小夕素材(75).ai\n"
     ]
    },
    {
     "name": "stderr",
     "output_type": "stream",
     "text": [
      "处理AI文件:  77%|██████████████████████████████████████▌           | 94/122 [04:12<01:32,  3.29s/it]"
     ]
    },
    {
     "name": "stdout",
     "output_type": "stream",
     "text": [
      "处理：F:/小夕素材/10000-10999/10054/10054/小夕素材(76).ai\n"
     ]
    },
    {
     "name": "stderr",
     "output_type": "stream",
     "text": [
      "处理AI文件:  78%|██████████████████████████████████████▉           | 95/122 [04:14<01:16,  2.84s/it]"
     ]
    },
    {
     "name": "stdout",
     "output_type": "stream",
     "text": [
      "处理：F:/小夕素材/10000-10999/10054/10054/小夕素材(77).ai\n",
      "删除图层：\t火山素材=9.9全店免费\n"
     ]
    },
    {
     "name": "stderr",
     "output_type": "stream",
     "text": [
      "处理AI文件:  79%|███████████████████████████████████████▎          | 96/122 [04:16<01:05,  2.52s/it]"
     ]
    },
    {
     "name": "stdout",
     "output_type": "stream",
     "text": [
      "处理：F:/小夕素材/10000-10999/10054/10054/小夕素材(78).ai\n"
     ]
    },
    {
     "name": "stderr",
     "output_type": "stream",
     "text": [
      "处理AI文件:  80%|███████████████████████████████████████▊          | 97/122 [04:19<01:06,  2.64s/it]"
     ]
    },
    {
     "name": "stdout",
     "output_type": "stream",
     "text": [
      "处理：F:/小夕素材/10000-10999/10054/10054/小夕素材(79).ai\n"
     ]
    },
    {
     "name": "stderr",
     "output_type": "stream",
     "text": [
      "处理AI文件:  80%|████████████████████████████████████████▏         | 98/122 [04:21<01:02,  2.61s/it]"
     ]
    },
    {
     "name": "stdout",
     "output_type": "stream",
     "text": [
      "处理：F:/小夕素材/10000-10999/10054/10054/小夕素材(80).ai\n"
     ]
    },
    {
     "name": "stderr",
     "output_type": "stream",
     "text": [
      "处理AI文件:  83%|████████████████████████████████████████▌        | 101/122 [04:24<00:33,  1.60s/it]"
     ]
    },
    {
     "name": "stdout",
     "output_type": "stream",
     "text": [
      "处理：F:/小夕素材/10000-10999/10054/10054/小夕素材(81).ai\n"
     ]
    },
    {
     "name": "stderr",
     "output_type": "stream",
     "text": [
      "处理AI文件:  84%|████████████████████████████████████████▉        | 102/122 [04:26<00:35,  1.80s/it]"
     ]
    },
    {
     "name": "stdout",
     "output_type": "stream",
     "text": [
      "处理：F:/小夕素材/10000-10999/10054/10054/小夕素材(82).ai\n"
     ]
    },
    {
     "name": "stderr",
     "output_type": "stream",
     "text": [
      "处理AI文件:  84%|█████████████████████████████████████████▎       | 103/122 [04:29<00:38,  2.01s/it]"
     ]
    },
    {
     "name": "stdout",
     "output_type": "stream",
     "text": [
      "处理：F:/小夕素材/10000-10999/10054/10054/小夕素材(83).ai\n"
     ]
    },
    {
     "name": "stderr",
     "output_type": "stream",
     "text": [
      "处理AI文件:  85%|█████████████████████████████████████████▊       | 104/122 [04:31<00:35,  1.96s/it]"
     ]
    },
    {
     "name": "stdout",
     "output_type": "stream",
     "text": [
      "处理：F:/小夕素材/10000-10999/10054/10054/小夕素材(84).ai\n"
     ]
    },
    {
     "name": "stderr",
     "output_type": "stream",
     "text": [
      "处理AI文件:  86%|██████████████████████████████████████████▏      | 105/122 [04:32<00:31,  1.88s/it]"
     ]
    },
    {
     "name": "stdout",
     "output_type": "stream",
     "text": [
      "处理：F:/小夕素材/10000-10999/10054/10054/小夕素材(85).ai\n"
     ]
    },
    {
     "name": "stderr",
     "output_type": "stream",
     "text": [
      "处理AI文件:  87%|██████████████████████████████████████████▌      | 106/122 [04:35<00:32,  2.03s/it]"
     ]
    },
    {
     "name": "stdout",
     "output_type": "stream",
     "text": [
      "处理：F:/小夕素材/10000-10999/10054/10054/小夕素材(86).ai\n"
     ]
    },
    {
     "name": "stderr",
     "output_type": "stream",
     "text": [
      "处理AI文件:  88%|██████████████████████████████████████████▉      | 107/122 [04:39<00:39,  2.65s/it]"
     ]
    },
    {
     "name": "stdout",
     "output_type": "stream",
     "text": [
      "处理：F:/小夕素材/10000-10999/10054/10054/小夕素材(87).ai\n"
     ]
    },
    {
     "name": "stderr",
     "output_type": "stream",
     "text": [
      "处理AI文件:  89%|███████████████████████████████████████████▍     | 108/122 [04:41<00:35,  2.51s/it]"
     ]
    },
    {
     "name": "stdout",
     "output_type": "stream",
     "text": [
      "处理：F:/小夕素材/10000-10999/10054/10054/小夕素材(88).ai\n"
     ]
    },
    {
     "name": "stderr",
     "output_type": "stream",
     "text": [
      "处理AI文件:  89%|███████████████████████████████████████████▊     | 109/122 [04:43<00:28,  2.23s/it]"
     ]
    },
    {
     "name": "stdout",
     "output_type": "stream",
     "text": [
      "处理：F:/小夕素材/10000-10999/10054/10054/小夕素材(89).ai\n"
     ]
    },
    {
     "name": "stderr",
     "output_type": "stream",
     "text": [
      "处理AI文件:  90%|████████████████████████████████████████████▏    | 110/122 [04:45<00:25,  2.15s/it]"
     ]
    },
    {
     "name": "stdout",
     "output_type": "stream",
     "text": [
      "处理：F:/小夕素材/10000-10999/10054/10054/小夕素材(90).ai\n"
     ]
    },
    {
     "name": "stderr",
     "output_type": "stream",
     "text": [
      "处理AI文件:  93%|█████████████████████████████████████████████▍   | 113/122 [04:46<00:11,  1.24s/it]"
     ]
    },
    {
     "name": "stdout",
     "output_type": "stream",
     "text": [
      "处理：F:/小夕素材/10000-10999/10054/10054/小夕素材(91).ai\n"
     ]
    },
    {
     "name": "stderr",
     "output_type": "stream",
     "text": [
      "处理AI文件:  93%|█████████████████████████████████████████████▊   | 114/122 [04:48<00:10,  1.33s/it]"
     ]
    },
    {
     "name": "stdout",
     "output_type": "stream",
     "text": [
      "处理：F:/小夕素材/10000-10999/10054/10054/小夕素材(92).ai\n"
     ]
    },
    {
     "name": "stderr",
     "output_type": "stream",
     "text": [
      "处理AI文件:  94%|██████████████████████████████████████████████▏  | 115/122 [04:50<00:10,  1.50s/it]"
     ]
    },
    {
     "name": "stdout",
     "output_type": "stream",
     "text": [
      "处理：F:/小夕素材/10000-10999/10054/10054/小夕素材(93).ai\n"
     ]
    },
    {
     "name": "stderr",
     "output_type": "stream",
     "text": [
      "处理AI文件:  95%|██████████████████████████████████████████████▌  | 116/122 [04:53<00:10,  1.79s/it]"
     ]
    },
    {
     "name": "stdout",
     "output_type": "stream",
     "text": [
      "处理：F:/小夕素材/10000-10999/10054/10054/小夕素材(94).ai\n"
     ]
    },
    {
     "name": "stderr",
     "output_type": "stream",
     "text": [
      "处理AI文件:  96%|██████████████████████████████████████████████▉  | 117/122 [04:54<00:08,  1.72s/it]"
     ]
    },
    {
     "name": "stdout",
     "output_type": "stream",
     "text": [
      "处理：F:/小夕素材/10000-10999/10054/10054/小夕素材(95).ai\n"
     ]
    },
    {
     "name": "stderr",
     "output_type": "stream",
     "text": [
      "处理AI文件:  97%|███████████████████████████████████████████████▍ | 118/122 [04:56<00:07,  1.78s/it]"
     ]
    },
    {
     "name": "stdout",
     "output_type": "stream",
     "text": [
      "处理：F:/小夕素材/10000-10999/10054/10054/小夕素材(96).ai\n"
     ]
    },
    {
     "name": "stderr",
     "output_type": "stream",
     "text": [
      "处理AI文件:  98%|███████████████████████████████████████████████▊ | 119/122 [04:58<00:05,  1.74s/it]"
     ]
    },
    {
     "name": "stdout",
     "output_type": "stream",
     "text": [
      "处理：F:/小夕素材/10000-10999/10054/10054/小夕素材(97).ai\n"
     ]
    },
    {
     "name": "stderr",
     "output_type": "stream",
     "text": [
      "处理AI文件:  98%|████████████████████████████████████████████████▏| 120/122 [05:04<00:06,  3.12s/it]"
     ]
    },
    {
     "name": "stdout",
     "output_type": "stream",
     "text": [
      "处理：F:/小夕素材/10000-10999/10054/10054/小夕素材(98).ai\n"
     ]
    },
    {
     "name": "stderr",
     "output_type": "stream",
     "text": [
      "处理AI文件:  99%|████████████████████████████████████████████████▌| 121/122 [05:06<00:02,  2.73s/it]"
     ]
    },
    {
     "name": "stdout",
     "output_type": "stream",
     "text": [
      "处理：F:/小夕素材/10000-10999/10054/10054/小夕素材(99).ai\n"
     ]
    },
    {
     "name": "stderr",
     "output_type": "stream",
     "text": [
      "处理AI文件: 100%|█████████████████████████████████████████████████| 122/122 [05:08<00:00,  2.53s/it]\n"
     ]
    }
   ],
   "source": [
    "from pathlib import Path\n",
    "\n",
    "from win32com.client import Dispatch\n",
    "\n",
    "app = Dispatch('Illustrator.Application')\n",
    "doc = app.ActiveDocument"
   ],
   "metadata": {
    "collapsed": false,
    "ExecuteTime": {
     "end_time": "2023-05-23T12:19:37.418890300Z",
     "start_time": "2023-05-23T12:14:29.302388400Z"
    }
   }
  },
  {
   "cell_type": "code",
   "execution_count": 29,
   "outputs": [
    {
     "name": "stdout",
     "output_type": "stream",
     "text": [
      "F:\\小夕素材\\10000-10999\\10054\\10054\\101.png\t-->\tF:\\小夕素材\\10000-10999\\10054\\10054\\小夕素材(101).png\n",
      "F:\\小夕素材\\10000-10999\\10054\\10054\\51.png\t-->\tF:\\小夕素材\\10000-10999\\10054\\10054\\小夕素材(51).png\n",
      "F:\\小夕素材\\10000-10999\\10054\\10054\\55.png\t-->\tF:\\小夕素材\\10000-10999\\10054\\10054\\小夕素材(55).png\n",
      "F:\\小夕素材\\10000-10999\\10054\\10054\\57.png\t-->\tF:\\小夕素材\\10000-10999\\10054\\10054\\小夕素材(57).png\n",
      "F:\\小夕素材\\10000-10999\\10054\\10054\\58.png\t-->\tF:\\小夕素材\\10000-10999\\10054\\10054\\小夕素材(58).png\n",
      "F:\\小夕素材\\10000-10999\\10054\\10054\\65.png\t-->\tF:\\小夕素材\\10000-10999\\10054\\10054\\小夕素材(65).png\n",
      "F:\\小夕素材\\10000-10999\\10054\\10054\\66.png\t-->\tF:\\小夕素材\\10000-10999\\10054\\10054\\小夕素材(66).png\n",
      "F:\\小夕素材\\10000-10999\\10054\\10054\\68.png\t-->\tF:\\小夕素材\\10000-10999\\10054\\10054\\小夕素材(68).png\n",
      "F:\\小夕素材\\10000-10999\\10054\\10054\\70.png\t-->\tF:\\小夕素材\\10000-10999\\10054\\10054\\小夕素材(70).png\n",
      "F:\\小夕素材\\10000-10999\\10054\\10054\\78.png\t-->\tF:\\小夕素材\\10000-10999\\10054\\10054\\小夕素材(78).png\n",
      "F:\\小夕素材\\10000-10999\\10054\\10054\\83.png\t-->\tF:\\小夕素材\\10000-10999\\10054\\10054\\小夕素材(83).png\n",
      "F:\\小夕素材\\10000-10999\\10054\\10054\\84.png\t-->\tF:\\小夕素材\\10000-10999\\10054\\10054\\小夕素材(84).png\n",
      "F:\\小夕素材\\10000-10999\\10054\\10054\\86.png\t-->\tF:\\小夕素材\\10000-10999\\10054\\10054\\小夕素材(86).png\n",
      "F:\\小夕素材\\10000-10999\\10054\\10054\\88.png\t-->\tF:\\小夕素材\\10000-10999\\10054\\10054\\小夕素材(88).png\n",
      "F:\\小夕素材\\10000-10999\\10054\\10054\\91.png\t-->\tF:\\小夕素材\\10000-10999\\10054\\10054\\小夕素材(91).png\n",
      "F:\\小夕素材\\10000-10999\\10054\\10054\\97.png\t-->\tF:\\小夕素材\\10000-10999\\10054\\10054\\小夕素材(97).png\n",
      "F:\\小夕素材\\10000-10999\\10054\\10054\\99.png\t-->\tF:\\小夕素材\\10000-10999\\10054\\10054\\小夕素材(99).png\n"
     ]
    }
   ],
   "source": [
    "for in_file in Path(r'F:\\小夕素材\\10000-10999\\10054\\10054').iterdir():\n",
    "    if in_file.is_file() and in_file.suffix.lower() == '.png' and '小夕素材' not in in_file.stem:\n",
    "        new_path = in_file.with_stem(f'小夕素材({in_file.stem})')\n",
    "        print(f'{in_file}\\t-->\\t{new_path}')\n",
    "        if new_path.exists() is False:\n",
    "            in_file.rename(new_path)"
   ],
   "metadata": {
    "collapsed": false,
    "ExecuteTime": {
     "end_time": "2023-05-23T12:59:03.065397Z",
     "start_time": "2023-05-23T12:59:02.433298300Z"
    }
   }
  }
 ],
 "metadata": {
  "kernelspec": {
   "display_name": "Python 3",
   "language": "python",
   "name": "python3"
  },
  "language_info": {
   "codemirror_mode": {
    "name": "ipython",
    "version": 2
   },
   "file_extension": ".py",
   "mimetype": "text/x-python",
   "name": "python",
   "nbconvert_exporter": "python",
   "pygments_lexer": "ipython2",
   "version": "2.7.6"
  }
 },
 "nbformat": 4,
 "nbformat_minor": 0
}
