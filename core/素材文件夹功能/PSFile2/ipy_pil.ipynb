{
 "cells": [
  {
   "cell_type": "code",
   "execution_count": 7,
   "metadata": {
    "collapsed": true
   },
   "outputs": [],
   "source": [
    "from PIL import Image, ImageFilter, ImageChops"
   ]
  },
  {
   "cell_type": "code",
   "execution_count": 79,
   "outputs": [],
   "source": [
    "def fun_查找边缘二值化(img_path: str):\n",
    "    im = Image.open(img_path)\n",
    "    im = im.filter(ImageFilter.FIND_EDGES)\n",
    "    for x in range(im.width):\n",
    "        for y in range(im.height):\n",
    "            in_color = im.getpixel((x, y))\n",
    "\n",
    "            if in_color[-1] < 255:\n",
    "                im.putpixel((x, y), 0)\n",
    "            else:\n",
    "                im.putpixel((x, y), 255)\n",
    "\n",
    "    im = im.convert('1').resize((100, 100))\n",
    "    return im\n",
    "\n",
    "\n",
    "im1 = fun_查找边缘二值化(r'E:\\MyProject\\material-fastapi\\core\\IMG\\广告图片\\2 (2).png')\n",
    "im2 = fun_查找边缘二值化(r'E:\\MyProject\\material-fastapi\\core\\IMG\\广告图片\\2 (7).png')\n",
    "im1.show()\n",
    "im2.show()\n",
    "\n",
    "diff = ImageChops.difference(im1, im2)\n",
    "diff.show()"
   ],
   "metadata": {
    "collapsed": false
   }
  }
 ],
 "metadata": {
  "kernelspec": {
   "display_name": "Python 3",
   "language": "python",
   "name": "python3"
  },
  "language_info": {
   "codemirror_mode": {
    "name": "ipython",
    "version": 2
   },
   "file_extension": ".py",
   "mimetype": "text/x-python",
   "name": "python",
   "nbconvert_exporter": "python",
   "pygments_lexer": "ipython2",
   "version": "2.7.6"
  }
 },
 "nbformat": 4,
 "nbformat_minor": 0
}
