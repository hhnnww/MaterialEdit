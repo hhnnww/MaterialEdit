{
 "cells": [
  {
   "cell_type": "code",
   "execution_count": 1,
   "metadata": {
    "collapsed": true
   },
   "outputs": [
    {
     "name": "stdout",
     "output_type": "stream",
     "text": [
      "[(247, 803, 632, 418)]\n"
     ]
    }
   ],
   "source": [
    "import face_recognition\n",
    "import cv2\n",
    "import numpy as np\n",
    "from core.素材文件夹.PSFile2.fun_3_对比所有图片 import fun_打开图片\n",
    "\n",
    "img = fun_打开图片(r'C:\\Users\\wuweihua\\Desktop\\OUT_PATH\\小夕素材(13)\\图层 393.png')\n",
    "img = cv2.cvtColor(img, cv2.COLOR_BGRA2RGB)\n",
    "face_locations = face_recognition.face_locations(img)\n",
    "print(face_locations)"
   ]
  }
 ],
 "metadata": {
  "kernelspec": {
   "display_name": "Python 3",
   "language": "python",
   "name": "python3"
  },
  "language_info": {
   "codemirror_mode": {
    "name": "ipython",
    "version": 2
   },
   "file_extension": ".py",
   "mimetype": "text/x-python",
   "name": "python",
   "nbconvert_exporter": "python",
   "pygments_lexer": "ipython2",
   "version": "2.7.6"
  }
 },
 "nbformat": 4,
 "nbformat_minor": 0
}
