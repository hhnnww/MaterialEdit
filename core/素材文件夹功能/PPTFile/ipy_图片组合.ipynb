{
 "cells": [
  {
   "cell_type": "code",
   "execution_count": 23,
   "metadata": {
    "collapsed": true
   },
   "outputs": [
    {
     "name": "stdout",
     "output_type": "stream",
     "text": [
      "[[WindowsPath('X:/H000-H999/H0257/H0257/小夕素材(1)/幻灯片1.JPG')],\n",
      " [WindowsPath('X:/H000-H999/H0257/H0257/小夕素材(1)/幻灯片2.JPG'),\n",
      "  WindowsPath('X:/H000-H999/H0257/H0257/小夕素材(1)/幻灯片3.JPG'),\n",
      "  WindowsPath('X:/H000-H999/H0257/H0257/小夕素材(1)/幻灯片4.JPG')],\n",
      " [WindowsPath('X:/H000-H999/H0257/H0257/小夕素材(1)/幻灯片5.JPG'),\n",
      "  WindowsPath('X:/H000-H999/H0257/H0257/小夕素材(1)/幻灯片6.JPG'),\n",
      "  WindowsPath('X:/H000-H999/H0257/H0257/小夕素材(1)/幻灯片7.JPG')],\n",
      " [WindowsPath('X:/H000-H999/H0257/H0257/小夕素材(1)/幻灯片8.JPG'),\n",
      "  WindowsPath('X:/H000-H999/H0257/H0257/小夕素材(1)/幻灯片9.JPG'),\n",
      "  WindowsPath('X:/H000-H999/H0257/H0257/小夕素材(1)/幻灯片10.JPG')],\n",
      " [WindowsPath('X:/H000-H999/H0257/H0257/小夕素材(1)/幻灯片11.JPG'),\n",
      "  WindowsPath('X:/H000-H999/H0257/H0257/小夕素材(1)/幻灯片12.JPG'),\n",
      "  WindowsPath('X:/H000-H999/H0257/H0257/小夕素材(1)/幻灯片13.JPG')]]\n"
     ]
    }
   ],
   "source": [
    "from pathlib import Path\n",
    "from pprint import pprint\n",
    "import re\n",
    "\n",
    "\n",
    "def fun_所有文件(dir_path: Path):\n",
    "    file_list = []\n",
    "    for in_file in dir_path.iterdir():\n",
    "        if in_file.is_file() and in_file.suffix.lower() in ['.png', '.jpg', '.jpeg']:\n",
    "            file_list.append(in_file)\n",
    "\n",
    "    file_list.sort(key=lambda k: fun_获取数字(k))\n",
    "    return file_list\n",
    "\n",
    "\n",
    "def fun_获取数字(file_path: Path):\n",
    "    num = re.findall(r'\\d+', file_path.stem)[0]\n",
    "    return int(num)\n",
    "\n",
    "\n",
    "def fun_组合图片(dir_path: Path):\n",
    "    all_file = fun_所有文件(dir_path)\n",
    "\n",
    "    pic_layout = [1, 3, 3, 3, 3]\n",
    "    pic_list = []\n",
    "    for x in range(len(pic_layout)):\n",
    "        pic_list.append([])\n",
    "\n",
    "    num = 0\n",
    "    for count, in_file in enumerate(all_file):\n",
    "        pic_list[num].append(in_file)\n",
    "\n",
    "        if len(pic_list[num]) == pic_layout[num]:\n",
    "            num += 1\n",
    "\n",
    "        if count == sum(pic_layout) - 1:\n",
    "            break\n",
    "\n",
    "    return pic_list\n",
    "\n"
   ]
  },
  {
   "cell_type": "code",
   "execution_count": 31,
   "outputs": [
    {
     "name": "stdout",
     "output_type": "stream",
     "text": [
      "170\n"
     ]
    }
   ],
   "source": [
    "from pathlib import Path\n",
    "from core.图片编辑 import PICEdit\n",
    "from core.素材文件夹.PPTFile.fun_图片组合 import PPTPICMerge\n",
    "from pprint import pprint\n",
    "from PIL import Image\n",
    "\n",
    "gutter = 16\n",
    "xq_width = 950\n",
    "\n",
    "pic_list = PPTPICMerge(Path(r'X:\\H000-H999\\H0257\\H0257\\小夕素材(1)')).fun_组合图片()\n",
    "oneline_pic_list = pic_list[1]\n",
    "oneline_pil_list = [Image.open(i) for i in oneline_pic_list]\n",
    "\n",
    "gutter_width = (len(oneline_pic_list) + 1) * gutter\n",
    "radio_width = sum((i.width / i.height for i in oneline_pil_list))\n",
    "oneline_height = int((xq_width - gutter_width) / radio_width)\n",
    "\n",
    "print(oneline_height)\n",
    "\n"
   ],
   "metadata": {
    "collapsed": false
   }
  },
  {
   "cell_type": "code",
   "execution_count": 33,
   "outputs": [],
   "source": [
    "bg = Image.new('RGBA', (xq_width, oneline_height + gutter), (255, 255, 255))\n",
    "\n",
    "x = gutter\n",
    "y = gutter\n",
    "for pil in oneline_pil_list:\n",
    "    width = int(oneline_height * (pil.width / pil.height))\n",
    "    img = PICEdit.fun_图片裁剪(pil, (width, oneline_height))\n",
    "    img = PICEdit.fun_图片圆角(img)\n",
    "    bg.paste(img, (x, y), img)\n",
    "    x += img.width + gutter\n",
    "\n",
    "bg.show()\n"
   ],
   "metadata": {
    "collapsed": false
   }
  }
 ],
 "metadata": {
  "kernelspec": {
   "display_name": "Python 3",
   "language": "python",
   "name": "python3"
  },
  "language_info": {
   "codemirror_mode": {
    "name": "ipython",
    "version": 2
   },
   "file_extension": ".py",
   "mimetype": "text/x-python",
   "name": "python",
   "nbconvert_exporter": "python",
   "pygments_lexer": "ipython2",
   "version": "2.7.6"
  }
 },
 "nbformat": 4,
 "nbformat_minor": 0
}
