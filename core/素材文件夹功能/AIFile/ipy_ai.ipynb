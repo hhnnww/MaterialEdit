{
 "cells": [
  {
   "cell_type": "code",
   "execution_count": 1,
   "metadata": {
    "collapsed": true
   },
   "outputs": [],
   "source": [
    "from win32com.client import Dispatch"
   ]
  },
  {
   "cell_type": "code",
   "execution_count": 2,
   "outputs": [
    {
     "name": "stdout",
     "output_type": "stream",
     "text": [
      "小夕素材(1) [转换].eps\n"
     ]
    }
   ],
   "source": [
    "app = Dispatch('Illustrator.Application')\n",
    "\n",
    "doc = app.ActiveDocument\n",
    "print(doc.Name)"
   ],
   "metadata": {
    "collapsed": false
   }
  },
  {
   "cell_type": "code",
   "execution_count": 5,
   "outputs": [
    {
     "name": "stdout",
     "output_type": "stream",
     "text": [
      "画板 9\n"
     ]
    },
    {
     "ename": "com_error",
     "evalue": "(-2147352567, '发生意外。', (0, 'Adobe Illustrator', 'there is no document', None, 0, -2147212802), None)",
     "output_type": "error",
     "traceback": [
      "\u001B[1;31m---------------------------------------------------------------------------\u001B[0m",
      "\u001B[1;31mcom_error\u001B[0m                                 Traceback (most recent call last)",
      "Input \u001B[1;32mIn [5]\u001B[0m, in \u001B[0;36m<cell line: 1>\u001B[1;34m()\u001B[0m\n\u001B[0;32m      1\u001B[0m \u001B[38;5;28;01mfor\u001B[39;00m artboard \u001B[38;5;129;01min\u001B[39;00m doc\u001B[38;5;241m.\u001B[39mArtboards:\n\u001B[1;32m----> 2\u001B[0m     \u001B[38;5;28mprint\u001B[39m(\u001B[43martboard\u001B[49m\u001B[38;5;241;43m.\u001B[39;49m\u001B[43mName\u001B[49m)\n\u001B[0;32m      4\u001B[0m doc\u001B[38;5;241m.\u001B[39mExport()\n",
      "File \u001B[1;32mC:\\ProgramData\\Miniconda3\\envs\\material-fastapi\\lib\\site-packages\\win32com\\client\\dynamic.py:628\u001B[0m, in \u001B[0;36mCDispatch.__getattr__\u001B[1;34m(self, attr)\u001B[0m\n\u001B[0;32m    624\u001B[0m debug_attr_print(\n\u001B[0;32m    625\u001B[0m     \u001B[38;5;124m\"\u001B[39m\u001B[38;5;124mGetting property Id 0x\u001B[39m\u001B[38;5;132;01m%x\u001B[39;00m\u001B[38;5;124m from OLE object\u001B[39m\u001B[38;5;124m\"\u001B[39m \u001B[38;5;241m%\u001B[39m retEntry\u001B[38;5;241m.\u001B[39mdispid\n\u001B[0;32m    626\u001B[0m )\n\u001B[0;32m    627\u001B[0m \u001B[38;5;28;01mtry\u001B[39;00m:\n\u001B[1;32m--> 628\u001B[0m     ret \u001B[38;5;241m=\u001B[39m \u001B[38;5;28;43mself\u001B[39;49m\u001B[38;5;241;43m.\u001B[39;49m\u001B[43m_oleobj_\u001B[49m\u001B[38;5;241;43m.\u001B[39;49m\u001B[43mInvoke\u001B[49m\u001B[43m(\u001B[49m\u001B[43mretEntry\u001B[49m\u001B[38;5;241;43m.\u001B[39;49m\u001B[43mdispid\u001B[49m\u001B[43m,\u001B[49m\u001B[43m \u001B[49m\u001B[38;5;241;43m0\u001B[39;49m\u001B[43m,\u001B[49m\u001B[43m \u001B[49m\u001B[43minvoke_type\u001B[49m\u001B[43m,\u001B[49m\u001B[43m \u001B[49m\u001B[38;5;241;43m1\u001B[39;49m\u001B[43m)\u001B[49m\n\u001B[0;32m    629\u001B[0m \u001B[38;5;28;01mexcept\u001B[39;00m pythoncom\u001B[38;5;241m.\u001B[39mcom_error \u001B[38;5;28;01mas\u001B[39;00m details:\n\u001B[0;32m    630\u001B[0m     \u001B[38;5;28;01mif\u001B[39;00m details\u001B[38;5;241m.\u001B[39mhresult \u001B[38;5;129;01min\u001B[39;00m ERRORS_BAD_CONTEXT:\n\u001B[0;32m    631\u001B[0m         \u001B[38;5;66;03m# May be a method.\u001B[39;00m\n",
      "\u001B[1;31mcom_error\u001B[0m: (-2147352567, '发生意外。', (0, 'Adobe Illustrator', 'there is no document', None, 0, -2147212802), None)"
     ]
    }
   ],
   "source": [
    "for artboard in doc.Artboards:\n",
    "    print(artboard.Name)\n",
    "\n",
    "doc.Export()"
   ],
   "metadata": {
    "collapsed": false
   }
  },
  {
   "cell_type": "code",
   "execution_count": 121,
   "outputs": [],
   "source": [
    "count = doc.Layers.Count\n",
    "ad_layer = doc.Layers.Item(count)"
   ],
   "metadata": {
    "collapsed": false
   }
  },
  {
   "cell_type": "code",
   "execution_count": 122,
   "outputs": [],
   "source": [
    "def fun_归递编组(group_item):\n",
    "    item_list = [group_item]\n",
    "    if group_item.GroupItems.Count > 0:\n",
    "\n",
    "        for in_item in group_item.GroupItems:\n",
    "            item_list.extend(fun_归递编组(in_item))\n",
    "\n",
    "    return item_list\n",
    "\n",
    "\n",
    "def fun_获取图层下的所有编组(in_layer):\n",
    "    \"\"\"\n",
    "    :param in_layer: 广告图层\n",
    "    :return:\n",
    "    \"\"\"\n",
    "    group_list = []\n",
    "    if in_layer.GroupItems.Count > 0:\n",
    "        for item in in_layer.GroupItems:\n",
    "            group_list.append(item)\n",
    "\n",
    "            if item.GroupItems.Count > 0:\n",
    "                for in_item in item.GroupItems:\n",
    "                    group_list.append(in_item)\n",
    "\n",
    "                    if in_item.GroupItems.Count > 0:\n",
    "                        for in_in_item in in_item.GroupItems:\n",
    "                            group_list.append(in_in_item)\n",
    "\n",
    "    return group_list\n",
    "\n",
    "\n",
    "# group_list = fun_获取图层下的所有编组(in_layer=ad_layer)\n",
    "#\n",
    "# for group_item in group_list:\n",
    "#     if int(group_item.Width) == 530 and int(group_item.Height) == 33:\n",
    "#         if group_item.GroupItems.Count == 0 and group_item.PathItems.Count == 17 and group_item.PageItems.Count == 31:\n",
    "#             group_item.Delete()\n",
    "#\n",
    "#     elif int(group_item.Width) == 609 and int(group_item.Height) == 38:\n",
    "#         if group_item.GroupItems.Count == 2 and group_item.PathItems.Count == 0 and group_item.PageItems.Count == 2:\n",
    "#             first_group = group_item.GroupItems.Item(1)\n",
    "#             sec_group = group_item.GroupItems.Item(2)\n",
    "#             if first_group.GroupItems.Count == 2 and sec_group.PageItems.Count == 29:\n",
    "#                 group_item.Delete()"
   ],
   "metadata": {
    "collapsed": false
   }
  },
  {
   "cell_type": "markdown",
   "source": [],
   "metadata": {
    "collapsed": false
   }
  },
  {
   "cell_type": "code",
   "execution_count": 123,
   "outputs": [
    {
     "name": "stdout",
     "output_type": "stream",
     "text": [
      "927.0\n",
      "255.0\n",
      "255.0\n",
      "255.0\n"
     ]
    }
   ],
   "source": [
    "path_list = []\n",
    "\n",
    "if ad_layer.PathItems.Count > 0:\n",
    "    for path_item in ad_layer.PathItems:\n",
    "        path_list.append(path_item)\n",
    "\n",
    "for group_item in fun_获取图层下的所有编组(ad_layer):\n",
    "    if group_item.PathItems.Count > 0:\n",
    "        for path_item in group_item.PathItems:\n",
    "            path_list.append(path_item)\n",
    "\n",
    "for path_item in path_list:\n",
    "    if int(path_item.Width) == int(doc.Width):\n",
    "        print(path_item.Height)\n",
    "\n",
    "        print(path_item.FillColor.Red)\n",
    "        print(path_item.FillColor.Green)\n",
    "        print(path_item.FillColor.Blue)\n",
    "        # path_item.Delete()\n",
    "\n"
   ],
   "metadata": {
    "collapsed": false
   }
  }
 ],
 "metadata": {
  "kernelspec": {
   "display_name": "Python 3",
   "language": "python",
   "name": "python3"
  },
  "language_info": {
   "codemirror_mode": {
    "name": "ipython",
    "version": 2
   },
   "file_extension": ".py",
   "mimetype": "text/x-python",
   "name": "python",
   "nbconvert_exporter": "python",
   "pygments_lexer": "ipython2",
   "version": "2.7.6"
  }
 },
 "nbformat": 4,
 "nbformat_minor": 0
}
